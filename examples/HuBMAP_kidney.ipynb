{
 "cells": [
  {
   "cell_type": "code",
   "execution_count": 1,
   "metadata": {},
   "outputs": [
    {
     "name": "stdout",
     "output_type": "stream",
     "text": [
      "['/mnt/f/dev/git/pyIMS/examples', '/usr/lib/python38.zip', '/usr/lib/python3.8', '/usr/lib/python3.8/lib-dynload', '', '/usr/local/lib/python3.8/dist-packages', '/usr/local/lib/python3.8/dist-packages/mpld3-0.3.1.dev1-py3.8.egg', '/usr/lib/python3/dist-packages', '/usr/local/lib/python3.8/dist-packages/IPython/extensions', '/home/mjoppich/.ipython', '../']\n"
     ]
    }
   ],
   "source": [
    "%matplotlib inline\n",
    "\n",
    "%load_ext autoreload\n",
    "import os,sys\n",
    "import pandas as pd\n",
    "import seaborn as sns\n",
    "import numpy as np\n",
    "import progressbar\n",
    "import dill as pickle\n",
    "from datetime import datetime\n",
    "import matplotlib as mpl\n",
    "import matplotlib.pyplot as plt\n",
    "import logging\n",
    "\n",
    "sys.path.append(\"../\")\n",
    "\n",
    "print(sys.path)\n",
    "\n",
    "%autoreload 2\n",
    "from src.pySRM.pysrm.regions import SpectraRegion, ProteinWeights\n",
    "%autoreload 2\n",
    "from src.pySRM.pysrm.imzml import IMZMLExtract\n",
    "%autoreload 2\n",
    "from src.pySRM.pysrm.comparative import CombinedSpectra\n",
    "\n",
    "loggers = [logging.getLogger(name) for name in logging.root.manager.loggerDict]\n",
    "for logger in loggers:\n",
    "    logger.setLevel(logging.INFO)"
   ]
  },
  {
   "cell_type": "code",
   "execution_count": 2,
   "metadata": {},
   "outputs": [
    {
     "name": "stdout",
     "output_type": "stream",
     "text": [
      "VAN0010-LK-155-40-IMS_PosMode.ibd\n",
      "VAN0010-LK-155-40-IMS_PosMode.imzML\n",
      "VAN0010-LK-155-40-IMS_PosMode.imzML.regions\n"
     ]
    }
   ],
   "source": [
    "! ls /mnt/s/data/globus_win/f1fc56fe8e39a9c05328d905d1c4498e/imzML"
   ]
  },
  {
   "cell_type": "code",
   "execution_count": 8,
   "metadata": {},
   "outputs": [],
   "source": [
    "! rm /mnt/s/data/globus_win/f1fc56fe8e39a9c05328d905d1c4498e/imzML/VAN0010-LK-155-40-IMS_PosMode.imzML.regions"
   ]
  },
  {
   "cell_type": "code",
   "execution_count": 3,
   "metadata": {},
   "outputs": [
    {
     "name": "stdout",
     "output_type": "stream",
     "text": [
      "Opening regions file for /mnt/s/data/globus_win/f1fc56fe8e39a9c05328d905d1c4498e/imzML/VAN0010-LK-155-40-IMS_PosMode.imzML\n"
     ]
    }
   ],
   "source": [
    "imze = IMZMLExtract(\"/mnt/s/data/globus_win/f1fc56fe8e39a9c05328d905d1c4498e/imzML/VAN0010-LK-155-40-IMS_PosMode.imzML\")"
   ]
  },
  {
   "cell_type": "code",
   "execution_count": 4,
   "metadata": {},
   "outputs": [
    {
     "name": "stdout",
     "output_type": "stream",
     "text": [
      "1 ((1, 1, 1342, 1342), 1)\n",
      "2 ((501, 2163, 569, 842), 393413)\n",
      "3 ((2489, 2489, 1, 1), 1)\n"
     ]
    },
    {
     "data": {
      "image/png": "[encoded data removed]",
      "text/plain": [
       "<Figure size 534.152x288 with 2 Axes>"
      ]
     },
     "metadata": {
      "needs_background": "light"
     },
     "output_type": "display_data"
    },
    {
     "data": {
      "text/plain": [
       "{1: ((1, 1, 1342, 1342), 1),\n",
       " 2: ((501, 2163, 569, 842), 393413),\n",
       " 3: ((2489, 2489, 1, 1), 1)}"
      ]
     },
     "execution_count": 4,
     "metadata": {},
     "output_type": "execute_result"
    }
   ],
   "source": [
    "imze.list_regions()"
   ]
  },
  {
   "cell_type": "code",
   "execution_count": 17,
   "metadata": {},
   "outputs": [],
   "source": []
  },
  {
   "cell_type": "code",
   "execution_count": 5,
   "metadata": {},
   "outputs": [
    {
     "name": "stderr",
     "output_type": "stream",
     "text": [
      "Fetching region range\n",
      "Fetching region shape\n",
      "Found region 2 with shape (1663, 274, 61)\n",
      "Fetching region spectra\n",
      "100% (393413 of 393413) |################| Elapsed Time: 0:01:43 Time:  0:01:43\n",
      "100% (393413 of 393413) |################| Elapsed Time: 0:00:03 Time:  0:00:03\n"
     ]
    }
   ],
   "source": [
    "spectra2_orig = imze.get_region_array(2, makeNullLine=True)"
   ]
  },
  {
   "cell_type": "code",
   "execution_count": 6,
   "metadata": {},
   "outputs": [
    {
     "name": "stderr",
     "output_type": "stream",
     "text": [
      "Started Log Value: 100.0\n",
      "100% (1663 of 1663) |####################| Elapsed Time: 0:00:13 Time:  0:00:13\n",
      "Got 393077 median-enabled pixels\n",
      "5-Number stats for medians: (455662, 393077, 0.0, 0.6269781461944235, 0.8544891640866873, 1.079016691698337, 2.958079409048938)\n",
      "Started Log Value: 118.63738632202148\n",
      "Collecting fold changes\n",
      "100% (1663 of 1663) |####################| Elapsed Time: 0:00:18 Time:  0:00:18\n",
      "Got a total of 27795382 fold changes\n",
      "Median elements [13897691]\n",
      "Median elements\n",
      "Global Median 0.79762\n"
     ]
    }
   ],
   "source": [
    "spectra2_intra = imze.normalize_region_array(spectra2_orig, normalize=\"intra_median\")\n",
    "spectra2 = imze.normalize_region_array(spectra2_intra, normalize=\"inter_median\")"
   ]
  },
  {
   "cell_type": "code",
   "execution_count": null,
   "metadata": {},
   "outputs": [],
   "source": []
  },
  {
   "cell_type": "code",
   "execution_count": null,
   "metadata": {},
   "outputs": [],
   "source": []
  },
  {
   "cell_type": "code",
   "execution_count": 7,
   "metadata": {},
   "outputs": [
    {
     "name": "stderr",
     "output_type": "stream",
     "text": [
      "Started Log Value: 100.0\n"
     ]
    },
    {
     "data": {
      "image/png": "[encoded data removed]",
      "text/plain": [
       "<Figure size 432x288 with 1 Axes>"
      ]
     },
     "metadata": {
      "needs_background": "light"
     },
     "output_type": "display_data"
    }
   ],
   "source": [
    "imze.plot_fcs(spectra2_orig, [(400,150), (800,150), (1200,150), (1600, 150)])"
   ]
  },
  {
   "cell_type": "code",
   "execution_count": 8,
   "metadata": {},
   "outputs": [
    {
     "name": "stderr",
     "output_type": "stream",
     "text": [
      "Started Log Value: 148.73923211807815\n"
     ]
    },
    {
     "data": {
      "image/png": "[encoded data removed]",
      "text/plain": [
       "<Figure size 432x288 with 1 Axes>"
      ]
     },
     "metadata": {
      "needs_background": "light"
     },
     "output_type": "display_data"
    }
   ],
   "source": [
    "imze.plot_fcs(spectra2, [(400,150), (800,150), (1200,150), (1600, 150)])"
   ]
  },
  {
   "cell_type": "code",
   "execution_count": 9,
   "metadata": {},
   "outputs": [],
   "source": [
    "spec = SpectraRegion(spectra2, imze.mzValues)"
   ]
  },
  {
   "cell_type": "markdown",
   "metadata": {},
   "source": [
    "Note: pairwise similarity needs approx 400GB of RAM ... => UMAP-based reduction"
   ]
  },
  {
   "cell_type": "code",
   "execution_count": null,
   "metadata": {},
   "outputs": [
    {
     "name": "stderr",
     "output_type": "stream",
     "text": [
      "2020-09-28 14:33:13,023  SpectraRegion  INFO: Calculating clusters\n",
      "2020-09-28 14:33:13,024  SpectraRegion  INFO: Elem Matrix of shape: (455662, 61)\n",
      "2020-09-28 14:33:13,416  SpectraRegion  INFO: UMAP reduction\n"
     ]
    }
   ],
   "source": [
    "spec.segment(method=\"UMAP_DBSCAN\", number_of_regions=15, min_cluster_size=9)"
   ]
  },
  {
   "cell_type": "code",
   "execution_count": null,
   "metadata": {},
   "outputs": [],
   "source": [
    "spec.plot_segments()"
   ]
  }
 ],
 "metadata": {
  "kernelspec": {
   "display_name": "Python 3",
   "language": "python",
   "name": "python3"
  },
  "language_info": {
   "codemirror_mode": {
    "name": "ipython",
    "version": 3
   },
   "file_extension": ".py",
   "mimetype": "text/x-python",
   "name": "python",
   "nbconvert_exporter": "python",
   "pygments_lexer": "ipython3",
   "version": "3.8.2"
  }
 },
 "nbformat": 4,
 "nbformat_minor": 4
}
