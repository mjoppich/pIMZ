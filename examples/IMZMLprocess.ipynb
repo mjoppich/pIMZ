{
 "cells": [
  {
   "cell_type": "code",
   "execution_count": 1,
   "metadata": {},
   "outputs": [
    {
     "name": "stdout",
     "output_type": "stream",
     "text": [
      "['/usr/lib/python36.zip', '/usr/lib/python3.6', '/usr/lib/python3.6/lib-dynload', '', '/home/mjoppich/.local/lib/python3.6/site-packages', '/home/mjoppich/.local/lib/python3.6/site-packages/mpld3-0.3.1.dev1-py3.6.egg', '/home/mjoppich/.local/lib/python3.6/site-packages/opennre-0.1-py3.6.egg', '/usr/local/lib/python3.6/dist-packages', '/usr/local/lib/python3.6/dist-packages/tf_unet-0.1.1-py3.6.egg', '/mnt/d/PythonCGI/jupyter_micropython_kernel', '/usr/lib/python3/dist-packages', '/usr/local/lib/python3.6/dist-packages/IPython/extensions', '/home/mjoppich/.ipython', '../']\n"
     ]
    },
    {
     "name": "stderr",
     "output_type": "stream",
     "text": [
      "/usr/local/lib/python3.6/dist-packages/numba/core/errors.py:144: UserWarning: Insufficiently recent colorama version found. Numba requires colorama >= 0.3.9\n",
      "  warnings.warn(msg)\n",
      "/usr/local/lib/python3.6/dist-packages/tensorflow/python/framework/dtypes.py:516: FutureWarning: Passing (type, 1) or '1type' as a synonym of type is deprecated; in a future version of numpy, it will be understood as (type, (1,)) / '(1,)type'.\n",
      "  _np_qint8 = np.dtype([(\"qint8\", np.int8, 1)])\n",
      "/usr/local/lib/python3.6/dist-packages/tensorflow/python/framework/dtypes.py:517: FutureWarning: Passing (type, 1) or '1type' as a synonym of type is deprecated; in a future version of numpy, it will be understood as (type, (1,)) / '(1,)type'.\n",
      "  _np_quint8 = np.dtype([(\"quint8\", np.uint8, 1)])\n",
      "/usr/local/lib/python3.6/dist-packages/tensorflow/python/framework/dtypes.py:518: FutureWarning: Passing (type, 1) or '1type' as a synonym of type is deprecated; in a future version of numpy, it will be understood as (type, (1,)) / '(1,)type'.\n",
      "  _np_qint16 = np.dtype([(\"qint16\", np.int16, 1)])\n",
      "/usr/local/lib/python3.6/dist-packages/tensorflow/python/framework/dtypes.py:519: FutureWarning: Passing (type, 1) or '1type' as a synonym of type is deprecated; in a future version of numpy, it will be understood as (type, (1,)) / '(1,)type'.\n",
      "  _np_quint16 = np.dtype([(\"quint16\", np.uint16, 1)])\n",
      "/usr/local/lib/python3.6/dist-packages/tensorflow/python/framework/dtypes.py:520: FutureWarning: Passing (type, 1) or '1type' as a synonym of type is deprecated; in a future version of numpy, it will be understood as (type, (1,)) / '(1,)type'.\n",
      "  _np_qint32 = np.dtype([(\"qint32\", np.int32, 1)])\n",
      "/usr/local/lib/python3.6/dist-packages/tensorflow/python/framework/dtypes.py:525: FutureWarning: Passing (type, 1) or '1type' as a synonym of type is deprecated; in a future version of numpy, it will be understood as (type, (1,)) / '(1,)type'.\n",
      "  np_resource = np.dtype([(\"resource\", np.ubyte, 1)])\n",
      "/usr/local/lib/python3.6/dist-packages/tensorboard/compat/tensorflow_stub/dtypes.py:541: FutureWarning: Passing (type, 1) or '1type' as a synonym of type is deprecated; in a future version of numpy, it will be understood as (type, (1,)) / '(1,)type'.\n",
      "  _np_qint8 = np.dtype([(\"qint8\", np.int8, 1)])\n",
      "/usr/local/lib/python3.6/dist-packages/tensorboard/compat/tensorflow_stub/dtypes.py:542: FutureWarning: Passing (type, 1) or '1type' as a synonym of type is deprecated; in a future version of numpy, it will be understood as (type, (1,)) / '(1,)type'.\n",
      "  _np_quint8 = np.dtype([(\"quint8\", np.uint8, 1)])\n",
      "/usr/local/lib/python3.6/dist-packages/tensorboard/compat/tensorflow_stub/dtypes.py:543: FutureWarning: Passing (type, 1) or '1type' as a synonym of type is deprecated; in a future version of numpy, it will be understood as (type, (1,)) / '(1,)type'.\n",
      "  _np_qint16 = np.dtype([(\"qint16\", np.int16, 1)])\n",
      "/usr/local/lib/python3.6/dist-packages/tensorboard/compat/tensorflow_stub/dtypes.py:544: FutureWarning: Passing (type, 1) or '1type' as a synonym of type is deprecated; in a future version of numpy, it will be understood as (type, (1,)) / '(1,)type'.\n",
      "  _np_quint16 = np.dtype([(\"quint16\", np.uint16, 1)])\n",
      "/usr/local/lib/python3.6/dist-packages/tensorboard/compat/tensorflow_stub/dtypes.py:545: FutureWarning: Passing (type, 1) or '1type' as a synonym of type is deprecated; in a future version of numpy, it will be understood as (type, (1,)) / '(1,)type'.\n",
      "  _np_qint32 = np.dtype([(\"qint32\", np.int32, 1)])\n",
      "/usr/local/lib/python3.6/dist-packages/tensorboard/compat/tensorflow_stub/dtypes.py:550: FutureWarning: Passing (type, 1) or '1type' as a synonym of type is deprecated; in a future version of numpy, it will be understood as (type, (1,)) / '(1,)type'.\n",
      "  np_resource = np.dtype([(\"resource\", np.ubyte, 1)])\n"
     ]
    }
   ],
   "source": [
    "%load_ext autoreload\n",
    "import os,sys\n",
    "import pandas as pd\n",
    "import seaborn as sns\n",
    "import numpy as np\n",
    "sys.path.append(\"../\")\n",
    "\n",
    "print(sys.path)\n",
    "\n",
    "%autoreload 2\n",
    "from src.pySRM.pysrm.segment import IMZMLExtract, SpectraRegion, ProteinWeights\n",
    "\n"
   ]
  },
  {
   "cell_type": "code",
   "execution_count": 2,
   "metadata": {},
   "outputs": [
    {
     "name": "stdout",
     "output_type": "stream",
     "text": [
      "Opening regions file for /mnt/d/dev/data/msi/slideD/181114_AT1_Slide_D_Proteins.imzML\n"
     ]
    }
   ],
   "source": [
    "imze = IMZMLExtract(\"/mnt/d/dev/data/msi/slideD/181114_AT1_Slide_D_Proteins.imzML\")"
   ]
  },
  {
   "cell_type": "code",
   "execution_count": 3,
   "metadata": {},
   "outputs": [
    {
     "name": "stdout",
     "output_type": "stream",
     "text": [
      "0 356 400 215 273\n",
      "1 436 478 632 687\n",
      "2 1572 1612 608 666\n",
      "3 1149 1197 142 205\n",
      "4 618 666 211 266\n",
      "5 633 684 630 688\n",
      "6 1357 1400 628 686\n"
     ]
    },
    {
     "data": {
      "image/png": "[encoded data removed]",
      "text/plain": [
       "<Figure size 674.791x288 with 2 Axes>"
      ]
     },
     "metadata": {
      "needs_background": "light"
     },
     "output_type": "display_data"
    }
   ],
   "source": [
    "imze.list_regions()"
   ]
  },
  {
   "cell_type": "code",
   "execution_count": 4,
   "metadata": {},
   "outputs": [
    {
     "name": "stderr",
     "output_type": "stream",
     "text": [
      "Found region 0 with shape (45, 59, 17900)\n",
      "WARNING: Logging before flag parsing goes to stderr.\n",
      "I0615 23:41:42.488585 140009190655808 segment.py:1906] Found region 0 with shape (45, 59, 17900)\n"
     ]
    }
   ],
   "source": [
    "spectra = imze.get_region_array(0, makeNullLine=True)\n",
    "imze.normalize_region_array(spectra, normalize=\"max_intensity_region\")\n"
   ]
  },
  {
   "cell_type": "code",
   "execution_count": 5,
   "metadata": {},
   "outputs": [
    {
     "name": "stdout",
     "output_type": "stream",
     "text": [
      "3454.87441091502 39\n",
      "3456.383544128344 278\n",
      "3457.8926773416683 2332\n",
      "14981.633894285647 2\n",
      "14980.124761072322 2\n",
      "4965.516757452595 2\n"
     ]
    },
    {
     "data": {
      "image/png": "[encoded data removed]",
      "text/plain": [
       "<Figure size 377.6x288 with 2 Axes>"
      ]
     },
     "metadata": {
      "needs_background": "light"
     },
     "output_type": "display_data"
    },
    {
     "name": "stdout",
     "output_type": "stream",
     "text": [
      "2655 0.082599886 1.0 0.3578650971843024\n"
     ]
    },
    {
     "data": {
      "image/png": "[encoded data removed]",
      "text/plain": [
       "<Figure size 432x288 with 1 Axes>"
      ]
     },
     "metadata": {
      "needs_background": "light"
     },
     "output_type": "display_data"
    }
   ],
   "source": [
    "imze.list_highest_peaks(spectra, counter=True)"
   ]
  },
  {
   "cell_type": "code",
   "execution_count": 6,
   "metadata": {},
   "outputs": [
    {
     "name": "stdout",
     "output_type": "stream",
     "text": [
      "Got spectra (45, 59, 17900)\n"
     ]
    }
   ],
   "source": [
    "print(\"Got spectra\", spectra.shape)"
   ]
  },
  {
   "cell_type": "code",
   "execution_count": 7,
   "metadata": {},
   "outputs": [],
   "source": [
    "spec = SpectraRegion(spectra, imze.mzValues)"
   ]
  },
  {
   "cell_type": "code",
   "execution_count": 8,
   "metadata": {},
   "outputs": [
    {
     "name": "stdout",
     "output_type": "stream",
     "text": [
      "(45, 59, 17900)\n"
     ]
    },
    {
     "name": "stderr",
     "output_type": "stream",
     "text": [
      "2020-06-15 23:41:46,125  SpectraRegion  INFO: Creating C++ obj\n",
      "I0615 23:41:46.125090 140009190655808 segment.py:264] Creating C++ obj\n",
      "2020-06-15 23:41:46,127  SpectraRegion  INFO: dimensions 17900\n",
      "I0615 23:41:46.127101 140009190655808 segment.py:274] dimensions 17900\n",
      "2020-06-15 23:41:46,129  SpectraRegion  INFO: input dimensions (45, 59, 17900)\n",
      "I0615 23:41:46.129312 140009190655808 segment.py:275] input dimensions (45, 59, 17900)\n",
      "2020-06-15 23:41:46,131  SpectraRegion  INFO: Switching to dot mode\n",
      "I0615 23:41:46.131594 140009190655808 segment.py:278] Switching to dot mode\n",
      "2020-06-15 23:41:46,134  SpectraRegion  INFO: Starting calc similarity c++\n",
      "I0615 23:41:46.134307 140009190655808 segment.py:282] Starting calc similarity c++\n",
      "2020-06-15 23:44:50,814  SpectraRegion  INFO: outclust dimensions (2655, 2655)\n",
      "I0615 23:44:50.814377 140009190655808 segment.py:287] outclust dimensions (2655, 2655)\n",
      "2020-06-15 23:44:50,840  SpectraRegion  INFO: Calculating spectra similarity\n",
      "I0615 23:44:50.840525 140009190655808 segment.py:316] Calculating spectra similarity\n",
      "2020-06-15 23:44:51,012  SpectraRegion  INFO: Calculating spectra similarity done\n",
      "I0615 23:44:51.012913 140009190655808 segment.py:320] Calculating spectra similarity done\n",
      "2020-06-15 23:44:51,014  SpectraRegion  INFO: Calculating dist pixel map\n",
      "I0615 23:44:51.014750 140009190655808 segment.py:327] Calculating dist pixel map\n"
     ]
    },
    {
     "name": "stdout",
     "output_type": "stream",
     "text": [
      "(2655, 2655)\n"
     ]
    },
    {
     "name": "stderr",
     "output_type": "stream",
     "text": [
      "2020-06-15 23:45:50,289  SpectraRegion  INFO: Calculating dist pixel map done\n",
      "I0615 23:45:50.289396 140009190655808 segment.py:337] Calculating dist pixel map done\n"
     ]
    },
    {
     "data": {
      "text/plain": [
       "array([[0.94999999, 0.92805461, 0.9220915 , ..., 0.84539443, 0.84803546,\n",
       "        0.8588578 ],\n",
       "       [0.92805461, 0.94999999, 0.93493769, ..., 0.89373999, 0.89625043,\n",
       "        0.90583056],\n",
       "       [0.9220915 , 0.93493769, 0.94999999, ..., 0.90880992, 0.9071232 ,\n",
       "        0.91973353],\n",
       "       ...,\n",
       "       [0.84539443, 0.89373999, 0.90880992, ..., 0.94999999, 0.91166619,\n",
       "        0.91736581],\n",
       "       [0.84803546, 0.89625043, 0.9071232 , ..., 0.91166619, 0.94999999,\n",
       "        0.9174308 ],\n",
       "       [0.8588578 , 0.90583056, 0.91973353, ..., 0.91736581, 0.9174308 ,\n",
       "        0.94999999]])"
      ]
     },
     "execution_count": 8,
     "metadata": {},
     "output_type": "execute_result"
    }
   ],
   "source": [
    "spec.calculate_similarity(mode=\"spectra_log_dist\")"
   ]
  },
  {
   "cell_type": "code",
   "execution_count": 9,
   "metadata": {},
   "outputs": [
    {
     "name": "stderr",
     "output_type": "stream",
     "text": [
      "2020-06-15 23:54:37,608  SpectraRegion  INFO: Calculating clusters\n",
      "I0615 23:54:37.608491 140009190655808 segment.py:484] Calculating clusters\n",
      "2020-06-15 23:54:38,011  SpectraRegion  INFO: Calculating clusters done\n",
      "I0615 23:54:38.011949 140009190655808 segment.py:499] Calculating clusters done\n",
      "2020-06-15 23:54:38,039  SpectraRegion  INFO: Calculating clusters saved\n",
      "I0615 23:54:38.039033 140009190655808 segment.py:517] Calculating clusters saved\n"
     ]
    },
    {
     "data": {
      "text/plain": [
       "array([[3, 3, 3, ..., 4, 5, 6],\n",
       "       [3, 3, 6, ..., 4, 5, 1],\n",
       "       [3, 3, 6, ..., 7, 6, 2],\n",
       "       ...,\n",
       "       [3, 6, 6, ..., 2, 1, 2],\n",
       "       [3, 6, 6, ..., 2, 1, 4],\n",
       "       [3, 3, 6, ..., 2, 4, 2]], dtype=int16)"
      ]
     },
     "execution_count": 9,
     "metadata": {},
     "output_type": "execute_result"
    }
   ],
   "source": [
    "spec.segment(method=\"WARD\", number_of_regions=15)"
   ]
  },
  {
   "cell_type": "code",
   "execution_count": 10,
   "metadata": {},
   "outputs": [
    {
     "data": {
      "image/png": "[encoded data removed]",
      "text/plain": [
       "<Figure size 432x288 with 2 Axes>"
      ]
     },
     "metadata": {
      "needs_background": "light"
     },
     "output_type": "display_data"
    }
   ],
   "source": [
    "spec.plot_segments()"
   ]
  },
  {
   "cell_type": "code",
   "execution_count": 11,
   "metadata": {},
   "outputs": [
    {
     "name": "stderr",
     "output_type": "stream",
     "text": [
      "2020-06-15 23:54:42,999  SpectraRegion  INFO: Assigning clusters to background: {1, 2, 3, 4, 5, 6, 7}\n",
      "I0615 23:54:42.999177 140009190655808 segment.py:606] Assigning clusters to background: {1, 2, 3, 4, 5, 6, 7}\n"
     ]
    },
    {
     "data": {
      "text/plain": [
       "array([[0, 0, 0, ..., 0, 0, 0],\n",
       "       [0, 0, 0, ..., 0, 0, 0],\n",
       "       [0, 0, 0, ..., 0, 0, 0],\n",
       "       ...,\n",
       "       [0, 0, 0, ..., 0, 0, 0],\n",
       "       [0, 0, 0, ..., 0, 0, 0],\n",
       "       [0, 0, 0, ..., 0, 0, 0]], dtype=int16)"
      ]
     },
     "execution_count": 11,
     "metadata": {},
     "output_type": "execute_result"
    }
   ],
   "source": [
    "spec.filter_clusters(method='remove_singleton')\n",
    "spec.filter_clusters(method='merge_background')\n",
    "\n",
    "spec.filter_clusters(method='remove_islands')"
   ]
  },
  {
   "cell_type": "code",
   "execution_count": 12,
   "metadata": {},
   "outputs": [
    {
     "data": {
      "image/png": "[encoded data removed]",
      "text/plain": [
       "<Figure size 432x288 with 2 Axes>"
      ]
     },
     "metadata": {
      "needs_background": "light"
     },
     "output_type": "display_data"
    }
   ],
   "source": [
    "spec.plot_segments()"
   ]
  },
  {
   "cell_type": "markdown",
   "metadata": {},
   "source": [
    "A manual curation of the segmentation is still possible!"
   ]
  },
  {
   "cell_type": "code",
   "execution_count": 13,
   "metadata": {},
   "outputs": [],
   "source": [
    "spec.segmented[0:6,] = 0"
   ]
  },
  {
   "cell_type": "code",
   "execution_count": 14,
   "metadata": {},
   "outputs": [
    {
     "data": {
      "image/png": "[encoded data removed]",
      "text/plain": [
       "<Figure size 432x288 with 2 Axes>"
      ]
     },
     "metadata": {
      "needs_background": "light"
     },
     "output_type": "display_data"
    }
   ],
   "source": [
    "spec.plot_segments()"
   ]
  },
  {
   "cell_type": "markdown",
   "metadata": {},
   "source": [
    "Consensus Analysis"
   ]
  },
  {
   "cell_type": "code",
   "execution_count": 15,
   "metadata": {},
   "outputs": [
    {
     "name": "stderr",
     "output_type": "stream",
     "text": [
      "2020-06-15 23:54:51,971  SpectraRegion  INFO: Calculating consensus spectra\n",
      "I0615 23:54:51.971645 140009190655808 segment.py:660] Calculating consensus spectra\n",
      "2020-06-15 23:54:52,052  SpectraRegion  INFO: Calculating consensus spectra done\n",
      "I0615 23:54:52.052440 140009190655808 segment.py:672] Calculating consensus spectra done\n"
     ]
    },
    {
     "data": {
      "text/plain": [
       "{0: array([0.00178437, 0.00178437, 0.00178437, ..., 0.00077092, 0.00077092,\n",
       "        0.00077092]),\n",
       " 8: array([0.00161465, 0.00161465, 0.00161465, ..., 0.00070783, 0.00070783,\n",
       "        0.00070783]),\n",
       " 9: array([0.00158939, 0.00158939, 0.00158939, ..., 0.00084206, 0.00084206,\n",
       "        0.00084206]),\n",
       " 11: array([0.00160308, 0.00160308, 0.00160308, ..., 0.00072019, 0.00072019,\n",
       "        0.00072019]),\n",
       " 15: array([0.00203898, 0.00203898, 0.00203898, ..., 0.00085758, 0.00085758,\n",
       "        0.00085758]),\n",
       " 13: array([0.0015091 , 0.0015091 , 0.0015091 , ..., 0.00068435, 0.00068435,\n",
       "        0.00068435]),\n",
       " 10: array([0.00261264, 0.00261264, 0.00261264, ..., 0.00074401, 0.00074401,\n",
       "        0.00074401]),\n",
       " 12: array([0.00207607, 0.00207607, 0.00207607, ..., 0.00059392, 0.00059392,\n",
       "        0.00059392]),\n",
       " 14: array([0.00242908, 0.00242908, 0.00242908, ..., 0.00064484, 0.00064484,\n",
       "        0.00064484])}"
      ]
     },
     "execution_count": 15,
     "metadata": {},
     "output_type": "execute_result"
    }
   ],
   "source": [
    "spec.consensus_spectra()"
   ]
  },
  {
   "cell_type": "code",
   "execution_count": 16,
   "metadata": {},
   "outputs": [],
   "source": [
    "spec.consensus_similarity()"
   ]
  },
  {
   "cell_type": "code",
   "execution_count": 17,
   "metadata": {},
   "outputs": [
    {
     "data": {
      "image/png": "[encoded data removed]",
      "text/plain": [
       "<Figure size 288x288 with 2 Axes>"
      ]
     },
     "metadata": {
      "needs_background": "light"
     },
     "output_type": "display_data"
    }
   ],
   "source": [
    "spec.plot_consensus_similarity()"
   ]
  },
  {
   "cell_type": "code",
   "execution_count": null,
   "metadata": {},
   "outputs": [],
   "source": [
    "spec.plot_consensus_similarity(mode=\"spectra\")"
   ]
  },
  {
   "cell_type": "code",
   "execution_count": null,
   "metadata": {},
   "outputs": [],
   "source": [
    "#spec.plot_inter_consensus_similarity()"
   ]
  },
  {
   "cell_type": "markdown",
   "metadata": {},
   "source": [
    "# Differential Analysis"
   ]
  },
  {
   "cell_type": "code",
   "execution_count": 18,
   "metadata": {},
   "outputs": [
    {
     "name": "stderr",
     "output_type": "stream",
     "text": [
      "2020-06-15 23:55:01,700  SpectraRegion  INFO: Processing Mass 12504 with best existing mass 12503.637158007228\n",
      "I0615 23:55:01.700205 140009190655808 segment.py:232] Processing Mass 12504 with best existing mass 12503.637158007228\n"
     ]
    },
    {
     "data": {
      "image/png": "[encoded data removed]",
      "text/plain": [
       "<Figure size 377.6x288 with 2 Axes>"
      ]
     },
     "metadata": {
      "needs_background": "light"
     },
     "output_type": "display_data"
    }
   ],
   "source": [
    "spec.mass_heatmap(12504, min_cut_off=0.0025)"
   ]
  },
  {
   "cell_type": "code",
   "execution_count": null,
   "metadata": {},
   "outputs": [],
   "source": [
    "dfobj = spec.mass_dabest(12504)"
   ]
  },
  {
   "cell_type": "code",
   "execution_count": null,
   "metadata": {},
   "outputs": [],
   "source": [
    "#dfobj = spec.mass_dabest(12504, background=9)"
   ]
  },
  {
   "cell_type": "code",
   "execution_count": 20,
   "metadata": {},
   "outputs": [
    {
     "data": {
      "image/png": "[encoded data removed]",
      "text/plain": [
       "<Figure size 432x288 with 2 Axes>"
      ]
     },
     "metadata": {
      "needs_background": "light"
     },
     "output_type": "display_data"
    }
   ],
   "source": [
    "spec.plot_segments(highlight=12)"
   ]
  },
  {
   "cell_type": "code",
   "execution_count": 19,
   "metadata": {},
   "outputs": [],
   "source": [
    "spec.clear_de_results()"
   ]
  },
  {
   "cell_type": "code",
   "execution_count": 21,
   "metadata": {},
   "outputs": [],
   "source": [
    "pw = ProteinWeights(\"protein_weights.tsv\")"
   ]
  },
  {
   "cell_type": "code",
   "execution_count": 22,
   "metadata": {},
   "outputs": [
    {
     "name": "stderr",
     "output_type": "stream",
     "text": [
      "2020-06-15 23:55:37,556  SpectraRegion  INFO: DE data for case: [8]\n",
      "I0615 23:55:37.556706 140009190655808 segment.py:1229] DE data for case: [8]\n",
      "2020-06-15 23:55:37,558  SpectraRegion  INFO: DE data for control: [9, 11, 15, 13, 10, 12, 14]\n",
      "I0615 23:55:37.558256 140009190655808 segment.py:1230] DE data for control: [9, 11, 15, 13, 10, 12, 14]\n",
      "2020-06-15 23:55:37,561  SpectraRegion  INFO: DE result key: ((8,), (9, 10, 11, 12, 13, 14, 15))\n",
      "I0615 23:55:37.561334 140009190655808 segment.py:1234] DE result key: ((8,), (9, 10, 11, 12, 13, 14, 15))\n",
      "2020-06-15 23:55:37,588  SpectraRegion  INFO: Processing cluster: 8\n",
      "I0615 23:55:37.588839 140009190655808 segment.py:1252] Processing cluster: 8\n",
      "2020-06-15 23:55:37,660  SpectraRegion  INFO: Processing cluster: 9\n",
      "I0615 23:55:37.660404 140009190655808 segment.py:1265] Processing cluster: 9\n"
     ]
    },
    {
     "name": "stdout",
     "output_type": "stream",
     "text": [
      "Running [8] against [9, 11, 15, 13, 10, 12, 14]\n"
     ]
    },
    {
     "name": "stderr",
     "output_type": "stream",
     "text": [
      "2020-06-15 23:55:37,796  SpectraRegion  INFO: Processing cluster: 11\n",
      "I0615 23:55:37.796126 140009190655808 segment.py:1265] Processing cluster: 11\n",
      "2020-06-15 23:55:37,898  SpectraRegion  INFO: Processing cluster: 15\n",
      "I0615 23:55:37.898557 140009190655808 segment.py:1265] Processing cluster: 15\n",
      "2020-06-15 23:55:38,027  SpectraRegion  INFO: Processing cluster: 13\n",
      "I0615 23:55:38.027570 140009190655808 segment.py:1265] Processing cluster: 13\n",
      "2020-06-15 23:55:38,172  SpectraRegion  INFO: Processing cluster: 10\n",
      "I0615 23:55:38.172232 140009190655808 segment.py:1265] Processing cluster: 10\n",
      "2020-06-15 23:55:38,341  SpectraRegion  INFO: Processing cluster: 12\n",
      "I0615 23:55:38.341116 140009190655808 segment.py:1265] Processing cluster: 12\n",
      "2020-06-15 23:55:38,362  SpectraRegion  INFO: Processing cluster: 14\n",
      "I0615 23:55:38.362171 140009190655808 segment.py:1265] Processing cluster: 14\n",
      "2020-06-15 23:55:38,384  SpectraRegion  INFO: DE DataFrame ready. Shape (17900, 660)\n",
      "I0615 23:55:38.384834 140009190655808 segment.py:1278] DE DataFrame ready. Shape (17900, 660)\n",
      "2020-06-15 23:55:38,397  SpectraRegion  INFO: DE Sample DataFrame ready. Shape (660, 3)\n",
      "I0615 23:55:38.397614 140009190655808 segment.py:1286] DE Sample DataFrame ready. Shape (660, 3)\n",
      "2020-06-15 23:55:40,521  SpectraRegion  INFO: Starting EMPIRE; Writing Expression Files\n",
      "I0615 23:55:40.521783 140009190655808 segment.py:1302] Starting EMPIRE; Writing Expression Files\n",
      "2020-06-15 23:56:00,983  SpectraRegion  INFO: Starting EMPIRE; Running nlEmpiRe\n",
      "I0615 23:56:00.983145 140009190655808 segment.py:1320] Starting EMPIRE; Running nlEmpiRe\n"
     ]
    },
    {
     "name": "stdout",
     "output_type": "stream",
     "text": [
      "Max condition count (1, 566)\n",
      "/usr/bin/java -Xmx24G -cp /mnt/d/dev/git/pyIMS/src/pySRM/pysrm/../../../tools/nlEmpiRe.jar nlEmpiRe.input.ExpressionSet -getbestsubN 100 -inputdir ./ -cond1 0 -cond2 1 -o .//exprs_ds.txt\n",
      "Cmd returned with exit code 0\n",
      "Writing new Pdata\n",
      "Writing new exprs data\n",
      "/usr/bin/java -Xmx16G -cp /mnt/d/dev/git/pyIMS/src/pySRM/pysrm/../../../tools/nlEmpiRe.jar nlEmpiRe.input.ExpressionSet -inputdir ./ -cond1 0 -cond2 1 -o .//nldiffreg.8.9_10_11_12_13_14_15.tsv\n",
      "Cmd returned with exit code 1\n",
      "1\n",
      "Exception in thread \"main\" lmu.utils.FRuntimeException: 1: cannot normalize samples - too many non-overlapping features clustered 50 samples into 2 groups:\n",
      "\tcluster: 1 size: 49 replicates: [cond2.rep1, cond2.rep2, cond2.rep3, cond2.rep4, cond2.rep5, cond2.rep6, cond2.rep7, cond2.rep8, cond2.rep9, cond2.rep10, cond2.rep11, cond2.rep12, cond2.rep13, cond2.rep14, cond2.rep15, cond2.rep16, cond2.rep17, cond2.rep18, cond2.rep19, cond2.rep20, cond2.rep21, cond2.rep22, cond2.rep23, cond2.rep24, cond2.rep25, cond2.rep26, cond2.rep27, cond2.rep28, cond2.rep29, cond2.rep30, cond2.rep31, cond2.rep32, cond2.rep33, cond2.rep34, cond2.rep35, cond2.rep36, cond2.rep37, cond2.rep38, cond2.rep39, cond2.rep40, cond2.rep41, cond2.rep42, cond2.rep43, cond2.rep44, cond2.rep45, cond2.rep46, cond2.rep47, cond2.rep48, cond2.rep49]\n",
      "\tcluster: 2 size: 1 replicates: [cond2.rep50]\n",
      "\n",
      "\tat nlEmpiRe.NormalizedReplicateSet.<init>(NormalizedReplicateSet.java:58)\n",
      "\tat nlEmpiRe.input.ExpressionSet.main(ExpressionSet.java:279)\n",
      "\n",
      "Loading pdata\n",
      "Removing spectra ['cond2.rep50']\n",
      "         sample  condition  batch\n",
      "0    cond1.rep1          0      0\n",
      "1    cond1.rep2          0      0\n",
      "2    cond1.rep3          0      0\n",
      "3    cond1.rep4          0      0\n",
      "4    cond1.rep5          0      0\n",
      "5    cond1.rep6          0      0\n",
      "6    cond1.rep7          0      0\n",
      "7    cond1.rep8          0      0\n",
      "8    cond1.rep9          0      0\n",
      "9   cond1.rep10          0      0\n",
      "10  cond1.rep11          0      0\n",
      "11  cond1.rep12          0      0\n",
      "12  cond1.rep13          0      0\n",
      "13  cond1.rep14          0      0\n",
      "14  cond1.rep15          0      0\n",
      "15  cond1.rep16          0      0\n",
      "16  cond1.rep17          0      0\n",
      "17  cond1.rep18          0      0\n",
      "18  cond1.rep19          0      0\n",
      "19  cond1.rep20          0      0\n",
      "20  cond1.rep21          0      0\n",
      "21  cond1.rep22          0      0\n",
      "22  cond1.rep23          0      0\n",
      "23  cond1.rep24          0      0\n",
      "24  cond1.rep25          0      0\n",
      "25  cond1.rep26          0      0\n",
      "26  cond1.rep27          0      0\n",
      "27  cond1.rep28          0      0\n",
      "28  cond1.rep29          0      0\n",
      "29  cond1.rep30          0      0\n",
      "..          ...        ...    ...\n",
      "69  cond2.rep20          1      0\n",
      "70  cond2.rep21          1      0\n",
      "71  cond2.rep22          1      0\n",
      "72  cond2.rep23          1      0\n",
      "73  cond2.rep24          1      0\n",
      "74  cond2.rep25          1      0\n",
      "75  cond2.rep26          1      0\n",
      "76  cond2.rep27          1      0\n",
      "77  cond2.rep28          1      0\n",
      "78  cond2.rep29          1      0\n",
      "79  cond2.rep30          1      0\n",
      "80  cond2.rep31          1      0\n",
      "81  cond2.rep32          1      0\n",
      "82  cond2.rep33          1      0\n",
      "83  cond2.rep34          1      0\n",
      "84  cond2.rep35          1      0\n",
      "85  cond2.rep36          1      0\n",
      "86  cond2.rep37          1      0\n",
      "87  cond2.rep38          1      0\n",
      "88  cond2.rep39          1      0\n",
      "89  cond2.rep40          1      0\n",
      "90  cond2.rep41          1      0\n",
      "91  cond2.rep42          1      0\n",
      "92  cond2.rep43          1      0\n",
      "93  cond2.rep44          1      0\n",
      "94  cond2.rep45          1      0\n",
      "95  cond2.rep46          1      0\n",
      "96  cond2.rep47          1      0\n",
      "97  cond2.rep48          1      0\n",
      "98  cond2.rep49          1      0\n",
      "\n",
      "[99 rows x 3 columns]\n",
      "/usr/bin/java -Xmx16G -cp /mnt/d/dev/git/pyIMS/src/pySRM/pysrm/../../../tools/nlEmpiRe.jar nlEmpiRe.input.ExpressionSet -inputdir ./ -cond1 0 -cond2 1 -o .//nldiffreg.8.9_10_11_12_13_14_15.tsv\n"
     ]
    },
    {
     "name": "stderr",
     "output_type": "stream",
     "text": [
      "2020-06-15 23:59:59,883  SpectraRegion  INFO: Performing DE-test: ttest\n",
      "I0615 23:59:59.883804 140009190655808 segment.py:1338] Performing DE-test: ttest\n"
     ]
    },
    {
     "name": "stdout",
     "output_type": "stream",
     "text": [
      "Cmd returned with exit code 0\n",
      "0\n",
      "EMPIRE output available: .//nldiffreg.8.9_10_11_12_13_14_15.tsv\n"
     ]
    },
    {
     "name": "stderr",
     "output_type": "stream",
     "text": [
      "/usr/local/lib/python3.6/dist-packages/anndata/_core/anndata.py:119: ImplicitModificationWarning: Transforming to str index.\n",
      "  warnings.warn(\"Transforming to str index.\", ImplicitModificationWarning)\n",
      "2020-06-16 00:00:00,493  SpectraRegion  INFO: DE-test finished. Results available: ((8,), (9, 10, 11, 12, 13, 14, 15))\n",
      "I0616 00:00:00.493861 140009190655808 segment.py:1363] DE-test finished. Results available: ((8,), (9, 10, 11, 12, 13, 14, 15))\n",
      "2020-06-16 00:00:00,570  SpectraRegion  INFO: DE result for case ((8,), (9, 10, 11, 12, 13, 14, 15)) with (17900, 16) results\n",
      "I0616 00:00:00.570583 140009190655808 segment.py:966] DE result for case ((8,), (9, 10, 11, 12, 13, 14, 15)) with (17900, 16) results\n",
      "2020-06-16 00:00:00,577  SpectraRegion  INFO: DE result for case ((8,), (9, 10, 11, 12, 13, 14, 15)) with (0, 16) results (filtered)\n",
      "I0616 00:00:00.577893 140009190655808 segment.py:994] DE result for case ((8,), (9, 10, 11, 12, 13, 14, 15)) with (0, 16) results (filtered)\n",
      "2020-06-16 00:00:00,722  SpectraRegion  INFO: Created matrices with shape (94, 17900) and (566, 17900) (target, bg)\n",
      "I0616 00:00:00.722261 140009190655808 segment.py:1000] Created matrices with shape (94, 17900) and (566, 17900) (target, bg)\n",
      "2020-06-16 00:00:00,752  SpectraRegion  INFO: DE result for case ((8,), (9, 10, 11, 12, 13, 14, 15)) with (17900, 7) results\n",
      "I0616 00:00:00.752493 140009190655808 segment.py:966] DE result for case ((8,), (9, 10, 11, 12, 13, 14, 15)) with (17900, 7) results\n",
      "2020-06-16 00:00:00,754  SpectraRegion  INFO: DE result logFC inversed\n",
      "I0616 00:00:00.754643 140009190655808 segment.py:989] DE result logFC inversed\n",
      "2020-06-16 00:00:00,760  SpectraRegion  INFO: DE result for case ((8,), (9, 10, 11, 12, 13, 14, 15)) with (761, 7) results (filtered)\n",
      "I0616 00:00:00.760895 140009190655808 segment.py:994] DE result for case ((8,), (9, 10, 11, 12, 13, 14, 15)) with (761, 7) results (filtered)\n",
      "2020-06-16 00:00:00,881  SpectraRegion  INFO: Created matrices with shape (94, 17900) and (566, 17900) (target, bg)\n",
      "I0616 00:00:00.881983 140009190655808 segment.py:1000] Created matrices with shape (94, 17900) and (566, 17900) (target, bg)\n",
      "2020-06-16 00:00:04,761  SpectraRegion  INFO: DE data for case: [9]\n",
      "I0616 00:00:04.761571 140009190655808 segment.py:1229] DE data for case: [9]\n",
      "2020-06-16 00:00:04,763  SpectraRegion  INFO: DE data for control: [8, 11, 15, 13, 10, 12, 14]\n",
      "I0616 00:00:04.763069 140009190655808 segment.py:1230] DE data for control: [8, 11, 15, 13, 10, 12, 14]\n",
      "2020-06-16 00:00:04,765  SpectraRegion  INFO: DE result key: ((9,), (8, 10, 11, 12, 13, 14, 15))\n",
      "I0616 00:00:04.765076 140009190655808 segment.py:1234] DE result key: ((9,), (8, 10, 11, 12, 13, 14, 15))\n",
      "2020-06-16 00:00:04,793  SpectraRegion  INFO: Processing cluster: 9\n",
      "I0616 00:00:04.793474 140009190655808 segment.py:1252] Processing cluster: 9\n",
      "2020-06-16 00:00:04,874  SpectraRegion  INFO: Processing cluster: 8\n",
      "I0616 00:00:04.874284 140009190655808 segment.py:1265] Processing cluster: 8\n",
      "2020-06-16 00:00:04,939  SpectraRegion  INFO: Processing cluster: 11\n",
      "I0616 00:00:04.939857 140009190655808 segment.py:1265] Processing cluster: 11\n"
     ]
    },
    {
     "name": "stdout",
     "output_type": "stream",
     "text": [
      "Running [9] against [8, 11, 15, 13, 10, 12, 14]\n"
     ]
    },
    {
     "name": "stderr",
     "output_type": "stream",
     "text": [
      "2020-06-16 00:00:05,051  SpectraRegion  INFO: Processing cluster: 15\n",
      "I0616 00:00:05.051371 140009190655808 segment.py:1265] Processing cluster: 15\n",
      "2020-06-16 00:00:05,179  SpectraRegion  INFO: Processing cluster: 13\n",
      "I0616 00:00:05.179284 140009190655808 segment.py:1265] Processing cluster: 13\n",
      "2020-06-16 00:00:05,292  SpectraRegion  INFO: Processing cluster: 10\n",
      "I0616 00:00:05.292015 140009190655808 segment.py:1265] Processing cluster: 10\n",
      "2020-06-16 00:00:05,456  SpectraRegion  INFO: Processing cluster: 12\n",
      "I0616 00:00:05.456194 140009190655808 segment.py:1265] Processing cluster: 12\n",
      "2020-06-16 00:00:05,483  SpectraRegion  INFO: Processing cluster: 14\n",
      "I0616 00:00:05.483033 140009190655808 segment.py:1265] Processing cluster: 14\n",
      "2020-06-16 00:00:05,499  SpectraRegion  INFO: DE DataFrame ready. Shape (17900, 660)\n",
      "I0616 00:00:05.499127 140009190655808 segment.py:1278] DE DataFrame ready. Shape (17900, 660)\n",
      "2020-06-16 00:00:05,503  SpectraRegion  INFO: DE Sample DataFrame ready. Shape (660, 3)\n",
      "I0616 00:00:05.503996 140009190655808 segment.py:1286] DE Sample DataFrame ready. Shape (660, 3)\n",
      "2020-06-16 00:00:07,581  SpectraRegion  INFO: Starting EMPIRE; Writing Expression Files\n",
      "I0616 00:00:07.581882 140009190655808 segment.py:1302] Starting EMPIRE; Writing Expression Files\n",
      "2020-06-16 00:00:27,742  SpectraRegion  INFO: Starting EMPIRE; Running nlEmpiRe\n",
      "I0616 00:00:27.742757 140009190655808 segment.py:1320] Starting EMPIRE; Running nlEmpiRe\n"
     ]
    },
    {
     "name": "stdout",
     "output_type": "stream",
     "text": [
      "Max condition count (1, 540)\n",
      "/usr/bin/java -Xmx24G -cp /mnt/d/dev/git/pyIMS/src/pySRM/pysrm/../../../tools/nlEmpiRe.jar nlEmpiRe.input.ExpressionSet -getbestsubN 100 -inputdir ./ -cond1 0 -cond2 1 -o .//exprs_ds.txt\n",
      "Cmd returned with exit code 0\n",
      "Writing new Pdata\n",
      "Writing new exprs data\n",
      "/usr/bin/java -Xmx16G -cp /mnt/d/dev/git/pyIMS/src/pySRM/pysrm/../../../tools/nlEmpiRe.jar nlEmpiRe.input.ExpressionSet -inputdir ./ -cond1 0 -cond2 1 -o .//nldiffreg.9.8_10_11_12_13_14_15.tsv\n",
      "Cmd returned with exit code 1\n",
      "1\n",
      "Exception in thread \"main\" lmu.utils.FRuntimeException: 1: cannot normalize samples - too many non-overlapping features clustered 50 samples into 2 groups:\n",
      "\tcluster: 1 size: 49 replicates: [cond2.rep1, cond2.rep2, cond2.rep3, cond2.rep4, cond2.rep5, cond2.rep6, cond2.rep7, cond2.rep8, cond2.rep9, cond2.rep10, cond2.rep11, cond2.rep12, cond2.rep13, cond2.rep14, cond2.rep15, cond2.rep16, cond2.rep17, cond2.rep18, cond2.rep19, cond2.rep20, cond2.rep21, cond2.rep22, cond2.rep23, cond2.rep24, cond2.rep25, cond2.rep26, cond2.rep27, cond2.rep28, cond2.rep29, cond2.rep30, cond2.rep31, cond2.rep32, cond2.rep33, cond2.rep34, cond2.rep35, cond2.rep36, cond2.rep37, cond2.rep38, cond2.rep39, cond2.rep40, cond2.rep41, cond2.rep42, cond2.rep43, cond2.rep44, cond2.rep45, cond2.rep46, cond2.rep47, cond2.rep48, cond2.rep49]\n",
      "\tcluster: 2 size: 1 replicates: [cond2.rep50]\n",
      "\n",
      "\tat nlEmpiRe.NormalizedReplicateSet.<init>(NormalizedReplicateSet.java:58)\n",
      "\tat nlEmpiRe.input.ExpressionSet.main(ExpressionSet.java:279)\n",
      "\n",
      "Loading pdata\n",
      "Removing spectra ['cond2.rep50']\n",
      "         sample  condition  batch\n",
      "0    cond1.rep1          0      0\n",
      "1    cond1.rep2          0      0\n",
      "2    cond1.rep3          0      0\n",
      "3    cond1.rep4          0      0\n",
      "4    cond1.rep5          0      0\n",
      "5    cond1.rep6          0      0\n",
      "6    cond1.rep7          0      0\n",
      "7    cond1.rep8          0      0\n",
      "8    cond1.rep9          0      0\n",
      "9   cond1.rep10          0      0\n",
      "10  cond1.rep11          0      0\n",
      "11  cond1.rep12          0      0\n",
      "12  cond1.rep13          0      0\n",
      "13  cond1.rep14          0      0\n",
      "14  cond1.rep15          0      0\n",
      "15  cond1.rep16          0      0\n",
      "16  cond1.rep17          0      0\n",
      "17  cond1.rep18          0      0\n",
      "18  cond1.rep19          0      0\n",
      "19  cond1.rep20          0      0\n",
      "20  cond1.rep21          0      0\n",
      "21  cond1.rep22          0      0\n",
      "22  cond1.rep23          0      0\n",
      "23  cond1.rep24          0      0\n",
      "24  cond1.rep25          0      0\n",
      "25  cond1.rep26          0      0\n",
      "26  cond1.rep27          0      0\n",
      "27  cond1.rep28          0      0\n",
      "28  cond1.rep29          0      0\n",
      "29  cond1.rep30          0      0\n",
      "..          ...        ...    ...\n",
      "69  cond2.rep20          1      0\n",
      "70  cond2.rep21          1      0\n",
      "71  cond2.rep22          1      0\n",
      "72  cond2.rep23          1      0\n",
      "73  cond2.rep24          1      0\n",
      "74  cond2.rep25          1      0\n",
      "75  cond2.rep26          1      0\n",
      "76  cond2.rep27          1      0\n",
      "77  cond2.rep28          1      0\n",
      "78  cond2.rep29          1      0\n",
      "79  cond2.rep30          1      0\n",
      "80  cond2.rep31          1      0\n",
      "81  cond2.rep32          1      0\n",
      "82  cond2.rep33          1      0\n",
      "83  cond2.rep34          1      0\n",
      "84  cond2.rep35          1      0\n",
      "85  cond2.rep36          1      0\n",
      "86  cond2.rep37          1      0\n",
      "87  cond2.rep38          1      0\n",
      "88  cond2.rep39          1      0\n",
      "89  cond2.rep40          1      0\n",
      "90  cond2.rep41          1      0\n",
      "91  cond2.rep42          1      0\n",
      "92  cond2.rep43          1      0\n",
      "93  cond2.rep44          1      0\n",
      "94  cond2.rep45          1      0\n",
      "95  cond2.rep46          1      0\n",
      "96  cond2.rep47          1      0\n",
      "97  cond2.rep48          1      0\n",
      "98  cond2.rep49          1      0\n",
      "\n",
      "[99 rows x 3 columns]\n",
      "/usr/bin/java -Xmx16G -cp /mnt/d/dev/git/pyIMS/src/pySRM/pysrm/../../../tools/nlEmpiRe.jar nlEmpiRe.input.ExpressionSet -inputdir ./ -cond1 0 -cond2 1 -o .//nldiffreg.9.8_10_11_12_13_14_15.tsv\n"
     ]
    },
    {
     "name": "stderr",
     "output_type": "stream",
     "text": [
      "2020-06-16 00:05:12,507  SpectraRegion  INFO: Performing DE-test: ttest\n",
      "I0616 00:05:12.507476 140009190655808 segment.py:1338] Performing DE-test: ttest\n"
     ]
    },
    {
     "name": "stdout",
     "output_type": "stream",
     "text": [
      "Cmd returned with exit code 0\n",
      "0\n",
      "EMPIRE output available: .//nldiffreg.9.8_10_11_12_13_14_15.tsv\n"
     ]
    },
    {
     "name": "stderr",
     "output_type": "stream",
     "text": [
      "2020-06-16 00:05:13,049  SpectraRegion  INFO: DE-test finished. Results available: ((9,), (8, 10, 11, 12, 13, 14, 15))\n",
      "I0616 00:05:13.049526 140009190655808 segment.py:1363] DE-test finished. Results available: ((9,), (8, 10, 11, 12, 13, 14, 15))\n",
      "2020-06-16 00:05:13,113  SpectraRegion  INFO: DE result for case ((9,), (8, 10, 11, 12, 13, 14, 15)) with (17900, 16) results\n",
      "I0616 00:05:13.113368 140009190655808 segment.py:966] DE result for case ((9,), (8, 10, 11, 12, 13, 14, 15)) with (17900, 16) results\n",
      "2020-06-16 00:05:13,117  SpectraRegion  INFO: DE result for case ((9,), (8, 10, 11, 12, 13, 14, 15)) with (0, 16) results (filtered)\n",
      "I0616 00:05:13.117883 140009190655808 segment.py:994] DE result for case ((9,), (8, 10, 11, 12, 13, 14, 15)) with (0, 16) results (filtered)\n",
      "2020-06-16 00:05:13,242  SpectraRegion  INFO: Created matrices with shape (120, 17900) and (540, 17900) (target, bg)\n",
      "I0616 00:05:13.242919 140009190655808 segment.py:1000] Created matrices with shape (120, 17900) and (540, 17900) (target, bg)\n",
      "2020-06-16 00:05:13,269  SpectraRegion  INFO: DE result for case ((9,), (8, 10, 11, 12, 13, 14, 15)) with (17900, 7) results\n",
      "I0616 00:05:13.269612 140009190655808 segment.py:966] DE result for case ((9,), (8, 10, 11, 12, 13, 14, 15)) with (17900, 7) results\n",
      "2020-06-16 00:05:13,271  SpectraRegion  INFO: DE result logFC inversed\n",
      "I0616 00:05:13.271382 140009190655808 segment.py:989] DE result logFC inversed\n",
      "2020-06-16 00:05:13,277  SpectraRegion  INFO: DE result for case ((9,), (8, 10, 11, 12, 13, 14, 15)) with (638, 7) results (filtered)\n",
      "I0616 00:05:13.277664 140009190655808 segment.py:994] DE result for case ((9,), (8, 10, 11, 12, 13, 14, 15)) with (638, 7) results (filtered)\n",
      "2020-06-16 00:05:13,404  SpectraRegion  INFO: Created matrices with shape (120, 17900) and (540, 17900) (target, bg)\n",
      "I0616 00:05:13.404412 140009190655808 segment.py:1000] Created matrices with shape (120, 17900) and (540, 17900) (target, bg)\n",
      "2020-06-16 00:05:16,408  SpectraRegion  INFO: DE data for case: [11]\n",
      "I0616 00:05:16.408684 140009190655808 segment.py:1229] DE data for case: [11]\n",
      "2020-06-16 00:05:16,410  SpectraRegion  INFO: DE data for control: [8, 9, 15, 13, 10, 12, 14]\n",
      "I0616 00:05:16.410321 140009190655808 segment.py:1230] DE data for control: [8, 9, 15, 13, 10, 12, 14]\n",
      "2020-06-16 00:05:16,411  SpectraRegion  INFO: DE result key: ((11,), (8, 9, 10, 12, 13, 14, 15))\n",
      "I0616 00:05:16.411943 140009190655808 segment.py:1234] DE result key: ((11,), (8, 9, 10, 12, 13, 14, 15))\n",
      "2020-06-16 00:05:16,438  SpectraRegion  INFO: Processing cluster: 11\n",
      "I0616 00:05:16.438090 140009190655808 segment.py:1252] Processing cluster: 11\n",
      "2020-06-16 00:05:16,503  SpectraRegion  INFO: Processing cluster: 8\n",
      "I0616 00:05:16.503455 140009190655808 segment.py:1265] Processing cluster: 8\n",
      "2020-06-16 00:05:16,567  SpectraRegion  INFO: Processing cluster: 9\n",
      "I0616 00:05:16.567046 140009190655808 segment.py:1265] Processing cluster: 9\n"
     ]
    },
    {
     "name": "stdout",
     "output_type": "stream",
     "text": [
      "Running [11] against [8, 9, 15, 13, 10, 12, 14]\n"
     ]
    },
    {
     "name": "stderr",
     "output_type": "stream",
     "text": [
      "2020-06-16 00:05:16,660  SpectraRegion  INFO: Processing cluster: 15\n",
      "I0616 00:05:16.660757 140009190655808 segment.py:1265] Processing cluster: 15\n",
      "2020-06-16 00:05:16,778  SpectraRegion  INFO: Processing cluster: 13\n",
      "I0616 00:05:16.778590 140009190655808 segment.py:1265] Processing cluster: 13\n",
      "2020-06-16 00:05:16,883  SpectraRegion  INFO: Processing cluster: 10\n",
      "I0616 00:05:16.883220 140009190655808 segment.py:1265] Processing cluster: 10\n",
      "2020-06-16 00:05:17,046  SpectraRegion  INFO: Processing cluster: 12\n",
      "I0616 00:05:17.046829 140009190655808 segment.py:1265] Processing cluster: 12\n",
      "2020-06-16 00:05:17,063  SpectraRegion  INFO: Processing cluster: 14\n",
      "I0616 00:05:17.063013 140009190655808 segment.py:1265] Processing cluster: 14\n",
      "2020-06-16 00:05:17,077  SpectraRegion  INFO: DE DataFrame ready. Shape (17900, 660)\n",
      "I0616 00:05:17.077227 140009190655808 segment.py:1278] DE DataFrame ready. Shape (17900, 660)\n",
      "2020-06-16 00:05:17,081  SpectraRegion  INFO: DE Sample DataFrame ready. Shape (660, 3)\n",
      "I0616 00:05:17.081307 140009190655808 segment.py:1286] DE Sample DataFrame ready. Shape (660, 3)\n",
      "2020-06-16 00:05:19,094  SpectraRegion  INFO: Starting EMPIRE; Writing Expression Files\n",
      "I0616 00:05:19.094693 140009190655808 segment.py:1302] Starting EMPIRE; Writing Expression Files\n",
      "2020-06-16 00:05:37,370  SpectraRegion  INFO: Starting EMPIRE; Running nlEmpiRe\n",
      "I0616 00:05:37.370288 140009190655808 segment.py:1320] Starting EMPIRE; Running nlEmpiRe\n"
     ]
    },
    {
     "name": "stdout",
     "output_type": "stream",
     "text": [
      "Max condition count (1, 541)\n",
      "/usr/bin/java -Xmx24G -cp /mnt/d/dev/git/pyIMS/src/pySRM/pysrm/../../../tools/nlEmpiRe.jar nlEmpiRe.input.ExpressionSet -getbestsubN 100 -inputdir ./ -cond1 0 -cond2 1 -o .//exprs_ds.txt\n",
      "Cmd returned with exit code 0\n",
      "Writing new Pdata\n",
      "Writing new exprs data\n",
      "/usr/bin/java -Xmx16G -cp /mnt/d/dev/git/pyIMS/src/pySRM/pysrm/../../../tools/nlEmpiRe.jar nlEmpiRe.input.ExpressionSet -inputdir ./ -cond1 0 -cond2 1 -o .//nldiffreg.11.8_9_10_12_13_14_15.tsv\n",
      "Cmd returned with exit code 1\n",
      "1\n",
      "Exception in thread \"main\" lmu.utils.FRuntimeException: 1: cannot normalize samples - too many non-overlapping features clustered 50 samples into 2 groups:\n",
      "\tcluster: 1 size: 49 replicates: [cond2.rep1, cond2.rep2, cond2.rep3, cond2.rep4, cond2.rep5, cond2.rep6, cond2.rep7, cond2.rep8, cond2.rep9, cond2.rep10, cond2.rep11, cond2.rep12, cond2.rep13, cond2.rep14, cond2.rep15, cond2.rep16, cond2.rep17, cond2.rep18, cond2.rep19, cond2.rep20, cond2.rep21, cond2.rep22, cond2.rep23, cond2.rep24, cond2.rep25, cond2.rep26, cond2.rep27, cond2.rep28, cond2.rep29, cond2.rep30, cond2.rep31, cond2.rep32, cond2.rep33, cond2.rep34, cond2.rep35, cond2.rep36, cond2.rep37, cond2.rep38, cond2.rep39, cond2.rep40, cond2.rep41, cond2.rep42, cond2.rep43, cond2.rep44, cond2.rep45, cond2.rep46, cond2.rep47, cond2.rep48, cond2.rep49]\n",
      "\tcluster: 2 size: 1 replicates: [cond2.rep50]\n",
      "\n",
      "\tat nlEmpiRe.NormalizedReplicateSet.<init>(NormalizedReplicateSet.java:58)\n",
      "\tat nlEmpiRe.input.ExpressionSet.main(ExpressionSet.java:279)\n",
      "\n",
      "Loading pdata\n",
      "Removing spectra ['cond2.rep50']\n",
      "         sample  condition  batch\n",
      "0    cond1.rep1          0      0\n",
      "1    cond1.rep2          0      0\n",
      "2    cond1.rep3          0      0\n",
      "3    cond1.rep4          0      0\n",
      "4    cond1.rep5          0      0\n",
      "5    cond1.rep6          0      0\n",
      "6    cond1.rep7          0      0\n",
      "7    cond1.rep8          0      0\n",
      "8    cond1.rep9          0      0\n",
      "9   cond1.rep10          0      0\n",
      "10  cond1.rep11          0      0\n",
      "11  cond1.rep12          0      0\n",
      "12  cond1.rep13          0      0\n",
      "13  cond1.rep14          0      0\n",
      "14  cond1.rep15          0      0\n",
      "15  cond1.rep16          0      0\n",
      "16  cond1.rep17          0      0\n",
      "17  cond1.rep18          0      0\n",
      "18  cond1.rep19          0      0\n",
      "19  cond1.rep20          0      0\n",
      "20  cond1.rep21          0      0\n",
      "21  cond1.rep22          0      0\n",
      "22  cond1.rep23          0      0\n",
      "23  cond1.rep24          0      0\n",
      "24  cond1.rep25          0      0\n",
      "25  cond1.rep26          0      0\n",
      "26  cond1.rep27          0      0\n",
      "27  cond1.rep28          0      0\n",
      "28  cond1.rep29          0      0\n",
      "29  cond1.rep30          0      0\n",
      "..          ...        ...    ...\n",
      "69  cond2.rep20          1      0\n",
      "70  cond2.rep21          1      0\n",
      "71  cond2.rep22          1      0\n",
      "72  cond2.rep23          1      0\n",
      "73  cond2.rep24          1      0\n",
      "74  cond2.rep25          1      0\n",
      "75  cond2.rep26          1      0\n",
      "76  cond2.rep27          1      0\n",
      "77  cond2.rep28          1      0\n",
      "78  cond2.rep29          1      0\n",
      "79  cond2.rep30          1      0\n",
      "80  cond2.rep31          1      0\n",
      "81  cond2.rep32          1      0\n",
      "82  cond2.rep33          1      0\n",
      "83  cond2.rep34          1      0\n",
      "84  cond2.rep35          1      0\n",
      "85  cond2.rep36          1      0\n",
      "86  cond2.rep37          1      0\n",
      "87  cond2.rep38          1      0\n",
      "88  cond2.rep39          1      0\n",
      "89  cond2.rep40          1      0\n",
      "90  cond2.rep41          1      0\n",
      "91  cond2.rep42          1      0\n",
      "92  cond2.rep43          1      0\n",
      "93  cond2.rep44          1      0\n",
      "94  cond2.rep45          1      0\n",
      "95  cond2.rep46          1      0\n",
      "96  cond2.rep47          1      0\n",
      "97  cond2.rep48          1      0\n",
      "98  cond2.rep49          1      0\n",
      "\n",
      "[99 rows x 3 columns]\n",
      "/usr/bin/java -Xmx16G -cp /mnt/d/dev/git/pyIMS/src/pySRM/pysrm/../../../tools/nlEmpiRe.jar nlEmpiRe.input.ExpressionSet -inputdir ./ -cond1 0 -cond2 1 -o .//nldiffreg.11.8_9_10_12_13_14_15.tsv\n"
     ]
    },
    {
     "name": "stderr",
     "output_type": "stream",
     "text": [
      "2020-06-16 00:10:12,940  SpectraRegion  INFO: Performing DE-test: ttest\n",
      "I0616 00:10:12.940331 140009190655808 segment.py:1338] Performing DE-test: ttest\n"
     ]
    },
    {
     "name": "stdout",
     "output_type": "stream",
     "text": [
      "Cmd returned with exit code 0\n",
      "0\n",
      "EMPIRE output available: .//nldiffreg.11.8_9_10_12_13_14_15.tsv\n"
     ]
    },
    {
     "name": "stderr",
     "output_type": "stream",
     "text": [
      "2020-06-16 00:10:13,526  SpectraRegion  INFO: DE-test finished. Results available: ((11,), (8, 9, 10, 12, 13, 14, 15))\n",
      "I0616 00:10:13.526744 140009190655808 segment.py:1363] DE-test finished. Results available: ((11,), (8, 9, 10, 12, 13, 14, 15))\n",
      "2020-06-16 00:10:13,587  SpectraRegion  INFO: DE result for case ((11,), (8, 9, 10, 12, 13, 14, 15)) with (17900, 16) results\n",
      "I0616 00:10:13.587950 140009190655808 segment.py:966] DE result for case ((11,), (8, 9, 10, 12, 13, 14, 15)) with (17900, 16) results\n",
      "2020-06-16 00:10:13,592  SpectraRegion  INFO: DE result for case ((11,), (8, 9, 10, 12, 13, 14, 15)) with (0, 16) results (filtered)\n",
      "I0616 00:10:13.592657 140009190655808 segment.py:994] DE result for case ((11,), (8, 9, 10, 12, 13, 14, 15)) with (0, 16) results (filtered)\n",
      "2020-06-16 00:10:13,715  SpectraRegion  INFO: Created matrices with shape (119, 17900) and (541, 17900) (target, bg)\n",
      "I0616 00:10:13.715845 140009190655808 segment.py:1000] Created matrices with shape (119, 17900) and (541, 17900) (target, bg)\n",
      "2020-06-16 00:10:13,741  SpectraRegion  INFO: DE result for case ((11,), (8, 9, 10, 12, 13, 14, 15)) with (17900, 7) results\n",
      "I0616 00:10:13.741562 140009190655808 segment.py:966] DE result for case ((11,), (8, 9, 10, 12, 13, 14, 15)) with (17900, 7) results\n",
      "2020-06-16 00:10:13,743  SpectraRegion  INFO: DE result logFC inversed\n",
      "I0616 00:10:13.743371 140009190655808 segment.py:989] DE result logFC inversed\n",
      "2020-06-16 00:10:13,749  SpectraRegion  INFO: DE result for case ((11,), (8, 9, 10, 12, 13, 14, 15)) with (1645, 7) results (filtered)\n",
      "I0616 00:10:13.749093 140009190655808 segment.py:994] DE result for case ((11,), (8, 9, 10, 12, 13, 14, 15)) with (1645, 7) results (filtered)\n",
      "2020-06-16 00:10:13,859  SpectraRegion  INFO: Created matrices with shape (119, 17900) and (541, 17900) (target, bg)\n",
      "I0616 00:10:13.859245 140009190655808 segment.py:1000] Created matrices with shape (119, 17900) and (541, 17900) (target, bg)\n",
      "2020-06-16 00:10:24,552  SpectraRegion  INFO: DE data for case: [15]\n",
      "I0616 00:10:24.552067 140009190655808 segment.py:1229] DE data for case: [15]\n",
      "2020-06-16 00:10:24,554  SpectraRegion  INFO: DE data for control: [8, 9, 11, 13, 10, 12, 14]\n",
      "I0616 00:10:24.554159 140009190655808 segment.py:1230] DE data for control: [8, 9, 11, 13, 10, 12, 14]\n",
      "2020-06-16 00:10:24,556  SpectraRegion  INFO: DE result key: ((15,), (8, 9, 10, 11, 12, 13, 14))\n",
      "I0616 00:10:24.556056 140009190655808 segment.py:1234] DE result key: ((15,), (8, 9, 10, 11, 12, 13, 14))\n",
      "2020-06-16 00:10:24,581  SpectraRegion  INFO: Processing cluster: 15\n",
      "I0616 00:10:24.581654 140009190655808 segment.py:1252] Processing cluster: 15\n",
      "2020-06-16 00:10:24,655  SpectraRegion  INFO: Processing cluster: 8\n",
      "I0616 00:10:24.655328 140009190655808 segment.py:1265] Processing cluster: 8\n",
      "2020-06-16 00:10:24,738  SpectraRegion  INFO: Processing cluster: 9\n",
      "I0616 00:10:24.738426 140009190655808 segment.py:1265] Processing cluster: 9\n"
     ]
    },
    {
     "name": "stdout",
     "output_type": "stream",
     "text": [
      "Running [15] against [8, 9, 11, 13, 10, 12, 14]\n"
     ]
    },
    {
     "name": "stderr",
     "output_type": "stream",
     "text": [
      "2020-06-16 00:10:24,831  SpectraRegion  INFO: Processing cluster: 11\n",
      "I0616 00:10:24.831517 140009190655808 segment.py:1265] Processing cluster: 11\n",
      "2020-06-16 00:10:24,936  SpectraRegion  INFO: Processing cluster: 13\n",
      "I0616 00:10:24.936175 140009190655808 segment.py:1265] Processing cluster: 13\n",
      "2020-06-16 00:10:25,041  SpectraRegion  INFO: Processing cluster: 10\n",
      "I0616 00:10:25.041567 140009190655808 segment.py:1265] Processing cluster: 10\n",
      "2020-06-16 00:10:25,199  SpectraRegion  INFO: Processing cluster: 12\n",
      "I0616 00:10:25.199462 140009190655808 segment.py:1265] Processing cluster: 12\n",
      "2020-06-16 00:10:25,215  SpectraRegion  INFO: Processing cluster: 14\n",
      "I0616 00:10:25.215768 140009190655808 segment.py:1265] Processing cluster: 14\n",
      "2020-06-16 00:10:25,230  SpectraRegion  INFO: DE DataFrame ready. Shape (17900, 660)\n",
      "I0616 00:10:25.230155 140009190655808 segment.py:1278] DE DataFrame ready. Shape (17900, 660)\n",
      "2020-06-16 00:10:25,234  SpectraRegion  INFO: DE Sample DataFrame ready. Shape (660, 3)\n",
      "I0616 00:10:25.234948 140009190655808 segment.py:1286] DE Sample DataFrame ready. Shape (660, 3)\n",
      "2020-06-16 00:10:27,301  SpectraRegion  INFO: Starting EMPIRE; Writing Expression Files\n",
      "I0616 00:10:27.301071 140009190655808 segment.py:1302] Starting EMPIRE; Writing Expression Files\n",
      "2020-06-16 00:10:45,381  SpectraRegion  INFO: Starting EMPIRE; Running nlEmpiRe\n",
      "I0616 00:10:45.381500 140009190655808 segment.py:1320] Starting EMPIRE; Running nlEmpiRe\n"
     ]
    },
    {
     "name": "stdout",
     "output_type": "stream",
     "text": [
      "Max condition count (1, 517)\n",
      "/usr/bin/java -Xmx24G -cp /mnt/d/dev/git/pyIMS/src/pySRM/pysrm/../../../tools/nlEmpiRe.jar nlEmpiRe.input.ExpressionSet -getbestsubN 100 -inputdir ./ -cond1 0 -cond2 1 -o .//exprs_ds.txt\n",
      "Cmd returned with exit code 0\n",
      "Writing new Pdata\n",
      "Writing new exprs data\n",
      "/usr/bin/java -Xmx16G -cp /mnt/d/dev/git/pyIMS/src/pySRM/pysrm/../../../tools/nlEmpiRe.jar nlEmpiRe.input.ExpressionSet -inputdir ./ -cond1 0 -cond2 1 -o .//nldiffreg.15.8_9_10_11_12_13_14.tsv\n",
      "Cmd returned with exit code 1\n",
      "1\n",
      "Exception in thread \"main\" lmu.utils.FRuntimeException: 1: cannot normalize samples - too many non-overlapping features clustered 50 samples into 2 groups:\n",
      "\tcluster: 1 size: 49 replicates: [cond2.rep1, cond2.rep2, cond2.rep3, cond2.rep4, cond2.rep5, cond2.rep6, cond2.rep7, cond2.rep8, cond2.rep9, cond2.rep10, cond2.rep11, cond2.rep12, cond2.rep13, cond2.rep14, cond2.rep15, cond2.rep16, cond2.rep17, cond2.rep18, cond2.rep19, cond2.rep20, cond2.rep21, cond2.rep22, cond2.rep23, cond2.rep24, cond2.rep25, cond2.rep26, cond2.rep27, cond2.rep28, cond2.rep29, cond2.rep30, cond2.rep31, cond2.rep32, cond2.rep33, cond2.rep34, cond2.rep35, cond2.rep36, cond2.rep37, cond2.rep38, cond2.rep39, cond2.rep40, cond2.rep41, cond2.rep42, cond2.rep43, cond2.rep44, cond2.rep45, cond2.rep46, cond2.rep47, cond2.rep48, cond2.rep49]\n",
      "\tcluster: 2 size: 1 replicates: [cond2.rep50]\n",
      "\n",
      "\tat nlEmpiRe.NormalizedReplicateSet.<init>(NormalizedReplicateSet.java:58)\n",
      "\tat nlEmpiRe.input.ExpressionSet.main(ExpressionSet.java:279)\n",
      "\n",
      "Loading pdata\n",
      "Removing spectra ['cond2.rep50']\n",
      "         sample  condition  batch\n",
      "0    cond1.rep1          0      0\n",
      "1    cond1.rep2          0      0\n",
      "2    cond1.rep3          0      0\n",
      "3    cond1.rep4          0      0\n",
      "4    cond1.rep5          0      0\n",
      "5    cond1.rep6          0      0\n",
      "6    cond1.rep7          0      0\n",
      "7    cond1.rep8          0      0\n",
      "8    cond1.rep9          0      0\n",
      "9   cond1.rep10          0      0\n",
      "10  cond1.rep11          0      0\n",
      "11  cond1.rep12          0      0\n",
      "12  cond1.rep13          0      0\n",
      "13  cond1.rep14          0      0\n",
      "14  cond1.rep15          0      0\n",
      "15  cond1.rep16          0      0\n",
      "16  cond1.rep17          0      0\n",
      "17  cond1.rep18          0      0\n",
      "18  cond1.rep19          0      0\n",
      "19  cond1.rep20          0      0\n",
      "20  cond1.rep21          0      0\n",
      "21  cond1.rep22          0      0\n",
      "22  cond1.rep23          0      0\n",
      "23  cond1.rep24          0      0\n",
      "24  cond1.rep25          0      0\n",
      "25  cond1.rep26          0      0\n",
      "26  cond1.rep27          0      0\n",
      "27  cond1.rep28          0      0\n",
      "28  cond1.rep29          0      0\n",
      "29  cond1.rep30          0      0\n",
      "..          ...        ...    ...\n",
      "69  cond2.rep20          1      0\n",
      "70  cond2.rep21          1      0\n",
      "71  cond2.rep22          1      0\n",
      "72  cond2.rep23          1      0\n",
      "73  cond2.rep24          1      0\n",
      "74  cond2.rep25          1      0\n",
      "75  cond2.rep26          1      0\n",
      "76  cond2.rep27          1      0\n",
      "77  cond2.rep28          1      0\n",
      "78  cond2.rep29          1      0\n",
      "79  cond2.rep30          1      0\n",
      "80  cond2.rep31          1      0\n",
      "81  cond2.rep32          1      0\n",
      "82  cond2.rep33          1      0\n",
      "83  cond2.rep34          1      0\n",
      "84  cond2.rep35          1      0\n",
      "85  cond2.rep36          1      0\n",
      "86  cond2.rep37          1      0\n",
      "87  cond2.rep38          1      0\n",
      "88  cond2.rep39          1      0\n",
      "89  cond2.rep40          1      0\n",
      "90  cond2.rep41          1      0\n",
      "91  cond2.rep42          1      0\n",
      "92  cond2.rep43          1      0\n",
      "93  cond2.rep44          1      0\n",
      "94  cond2.rep45          1      0\n",
      "95  cond2.rep46          1      0\n",
      "96  cond2.rep47          1      0\n",
      "97  cond2.rep48          1      0\n",
      "98  cond2.rep49          1      0\n",
      "\n",
      "[99 rows x 3 columns]\n",
      "/usr/bin/java -Xmx16G -cp /mnt/d/dev/git/pyIMS/src/pySRM/pysrm/../../../tools/nlEmpiRe.jar nlEmpiRe.input.ExpressionSet -inputdir ./ -cond1 0 -cond2 1 -o .//nldiffreg.15.8_9_10_11_12_13_14.tsv\n"
     ]
    },
    {
     "name": "stderr",
     "output_type": "stream",
     "text": [
      "2020-06-16 00:14:50,249  SpectraRegion  INFO: Performing DE-test: ttest\n",
      "I0616 00:14:50.249128 140009190655808 segment.py:1338] Performing DE-test: ttest\n"
     ]
    },
    {
     "name": "stdout",
     "output_type": "stream",
     "text": [
      "Cmd returned with exit code 0\n",
      "0\n",
      "EMPIRE output available: .//nldiffreg.15.8_9_10_11_12_13_14.tsv\n"
     ]
    },
    {
     "name": "stderr",
     "output_type": "stream",
     "text": [
      "2020-06-16 00:14:50,796  SpectraRegion  INFO: DE-test finished. Results available: ((15,), (8, 9, 10, 11, 12, 13, 14))\n",
      "I0616 00:14:50.796483 140009190655808 segment.py:1363] DE-test finished. Results available: ((15,), (8, 9, 10, 11, 12, 13, 14))\n",
      "2020-06-16 00:14:50,856  SpectraRegion  INFO: DE result for case ((15,), (8, 9, 10, 11, 12, 13, 14)) with (17900, 16) results\n",
      "I0616 00:14:50.856425 140009190655808 segment.py:966] DE result for case ((15,), (8, 9, 10, 11, 12, 13, 14)) with (17900, 16) results\n",
      "2020-06-16 00:14:50,860  SpectraRegion  INFO: DE result for case ((15,), (8, 9, 10, 11, 12, 13, 14)) with (0, 16) results (filtered)\n",
      "I0616 00:14:50.860994 140009190655808 segment.py:994] DE result for case ((15,), (8, 9, 10, 11, 12, 13, 14)) with (0, 16) results (filtered)\n",
      "2020-06-16 00:14:50,985  SpectraRegion  INFO: Created matrices with shape (143, 17900) and (517, 17900) (target, bg)\n",
      "I0616 00:14:50.985045 140009190655808 segment.py:1000] Created matrices with shape (143, 17900) and (517, 17900) (target, bg)\n",
      "2020-06-16 00:14:51,011  SpectraRegion  INFO: DE result for case ((15,), (8, 9, 10, 11, 12, 13, 14)) with (17900, 7) results\n",
      "I0616 00:14:51.011931 140009190655808 segment.py:966] DE result for case ((15,), (8, 9, 10, 11, 12, 13, 14)) with (17900, 7) results\n",
      "2020-06-16 00:14:51,013  SpectraRegion  INFO: DE result logFC inversed\n",
      "I0616 00:14:51.013777 140009190655808 segment.py:989] DE result logFC inversed\n",
      "2020-06-16 00:14:51,019  SpectraRegion  INFO: DE result for case ((15,), (8, 9, 10, 11, 12, 13, 14)) with (1048, 7) results (filtered)\n",
      "I0616 00:14:51.019106 140009190655808 segment.py:994] DE result for case ((15,), (8, 9, 10, 11, 12, 13, 14)) with (1048, 7) results (filtered)\n",
      "2020-06-16 00:14:51,126  SpectraRegion  INFO: Created matrices with shape (143, 17900) and (517, 17900) (target, bg)\n",
      "I0616 00:14:51.126163 140009190655808 segment.py:1000] Created matrices with shape (143, 17900) and (517, 17900) (target, bg)\n",
      "2020-06-16 00:14:56,955  SpectraRegion  INFO: DE data for case: [13]\n",
      "I0616 00:14:56.955140 140009190655808 segment.py:1229] DE data for case: [13]\n",
      "2020-06-16 00:14:56,957  SpectraRegion  INFO: DE data for control: [8, 9, 11, 15, 10, 12, 14]\n",
      "I0616 00:14:56.957229 140009190655808 segment.py:1230] DE data for control: [8, 9, 11, 15, 10, 12, 14]\n",
      "2020-06-16 00:14:56,958  SpectraRegion  INFO: DE result key: ((13,), (8, 9, 10, 11, 12, 14, 15))\n",
      "I0616 00:14:56.958524 140009190655808 segment.py:1234] DE result key: ((13,), (8, 9, 10, 11, 12, 14, 15))\n",
      "2020-06-16 00:14:56,983  SpectraRegion  INFO: Processing cluster: 13\n",
      "I0616 00:14:56.983280 140009190655808 segment.py:1252] Processing cluster: 13\n",
      "2020-06-16 00:14:57,019  SpectraRegion  INFO: Processing cluster: 8\n",
      "I0616 00:14:57.019741 140009190655808 segment.py:1265] Processing cluster: 8\n",
      "2020-06-16 00:14:57,069  SpectraRegion  INFO: Processing cluster: 9\n",
      "I0616 00:14:57.069203 140009190655808 segment.py:1265] Processing cluster: 9\n"
     ]
    },
    {
     "name": "stdout",
     "output_type": "stream",
     "text": [
      "Running [13] against [8, 9, 11, 15, 10, 12, 14]\n"
     ]
    },
    {
     "name": "stderr",
     "output_type": "stream",
     "text": [
      "2020-06-16 00:14:57,163  SpectraRegion  INFO: Processing cluster: 11\n",
      "I0616 00:14:57.163161 140009190655808 segment.py:1265] Processing cluster: 11\n",
      "2020-06-16 00:14:57,298  SpectraRegion  INFO: Processing cluster: 15\n",
      "I0616 00:14:57.298378 140009190655808 segment.py:1265] Processing cluster: 15\n",
      "2020-06-16 00:14:57,433  SpectraRegion  INFO: Processing cluster: 10\n",
      "I0616 00:14:57.433934 140009190655808 segment.py:1265] Processing cluster: 10\n",
      "2020-06-16 00:14:57,592  SpectraRegion  INFO: Processing cluster: 12\n",
      "I0616 00:14:57.592764 140009190655808 segment.py:1265] Processing cluster: 12\n",
      "2020-06-16 00:14:57,607  SpectraRegion  INFO: Processing cluster: 14\n",
      "I0616 00:14:57.607928 140009190655808 segment.py:1265] Processing cluster: 14\n",
      "2020-06-16 00:14:57,621  SpectraRegion  INFO: DE DataFrame ready. Shape (17900, 660)\n",
      "I0616 00:14:57.621073 140009190655808 segment.py:1278] DE DataFrame ready. Shape (17900, 660)\n",
      "2020-06-16 00:14:57,626  SpectraRegion  INFO: DE Sample DataFrame ready. Shape (660, 3)\n",
      "I0616 00:14:57.626905 140009190655808 segment.py:1286] DE Sample DataFrame ready. Shape (660, 3)\n",
      "2020-06-16 00:14:59,601  SpectraRegion  INFO: Starting EMPIRE; Writing Expression Files\n",
      "I0616 00:14:59.601067 140009190655808 segment.py:1302] Starting EMPIRE; Writing Expression Files\n",
      "2020-06-16 00:15:18,831  SpectraRegion  INFO: Starting EMPIRE; Running nlEmpiRe\n",
      "I0616 00:15:18.831402 140009190655808 segment.py:1320] Starting EMPIRE; Running nlEmpiRe\n"
     ]
    },
    {
     "name": "stdout",
     "output_type": "stream",
     "text": [
      "Max condition count (1, 590)\n",
      "/usr/bin/java -Xmx24G -cp /mnt/d/dev/git/pyIMS/src/pySRM/pysrm/../../../tools/nlEmpiRe.jar nlEmpiRe.input.ExpressionSet -getbestsubN 100 -inputdir ./ -cond1 0 -cond2 1 -o .//exprs_ds.txt\n",
      "Cmd returned with exit code 0\n",
      "Writing new Pdata\n",
      "Writing new exprs data\n",
      "/usr/bin/java -Xmx16G -cp /mnt/d/dev/git/pyIMS/src/pySRM/pysrm/../../../tools/nlEmpiRe.jar nlEmpiRe.input.ExpressionSet -inputdir ./ -cond1 0 -cond2 1 -o .//nldiffreg.13.8_9_10_11_12_14_15.tsv\n",
      "Cmd returned with exit code 1\n",
      "1\n",
      "Exception in thread \"main\" lmu.utils.FRuntimeException: 1: cannot normalize samples - too many non-overlapping features clustered 50 samples into 2 groups:\n",
      "\tcluster: 1 size: 49 replicates: [cond2.rep1, cond2.rep2, cond2.rep3, cond2.rep4, cond2.rep5, cond2.rep6, cond2.rep7, cond2.rep8, cond2.rep9, cond2.rep10, cond2.rep11, cond2.rep12, cond2.rep13, cond2.rep14, cond2.rep15, cond2.rep16, cond2.rep17, cond2.rep18, cond2.rep19, cond2.rep20, cond2.rep21, cond2.rep22, cond2.rep23, cond2.rep24, cond2.rep25, cond2.rep26, cond2.rep27, cond2.rep28, cond2.rep29, cond2.rep30, cond2.rep31, cond2.rep32, cond2.rep33, cond2.rep34, cond2.rep35, cond2.rep36, cond2.rep37, cond2.rep38, cond2.rep39, cond2.rep40, cond2.rep41, cond2.rep42, cond2.rep43, cond2.rep44, cond2.rep45, cond2.rep46, cond2.rep47, cond2.rep48, cond2.rep49]\n",
      "\tcluster: 2 size: 1 replicates: [cond2.rep50]\n",
      "\n",
      "\tat nlEmpiRe.NormalizedReplicateSet.<init>(NormalizedReplicateSet.java:58)\n",
      "\tat nlEmpiRe.input.ExpressionSet.main(ExpressionSet.java:279)\n",
      "\n",
      "Loading pdata\n",
      "Removing spectra ['cond2.rep50']\n",
      "         sample  condition  batch\n",
      "0    cond1.rep1          0      0\n",
      "1    cond1.rep2          0      0\n",
      "2    cond1.rep3          0      0\n",
      "3    cond1.rep4          0      0\n",
      "4    cond1.rep5          0      0\n",
      "5    cond1.rep6          0      0\n",
      "6    cond1.rep7          0      0\n",
      "7    cond1.rep8          0      0\n",
      "8    cond1.rep9          0      0\n",
      "9   cond1.rep10          0      0\n",
      "10  cond1.rep11          0      0\n",
      "11  cond1.rep12          0      0\n",
      "12  cond1.rep13          0      0\n",
      "13  cond1.rep14          0      0\n",
      "14  cond1.rep15          0      0\n",
      "15  cond1.rep16          0      0\n",
      "16  cond1.rep17          0      0\n",
      "17  cond1.rep18          0      0\n",
      "18  cond1.rep19          0      0\n",
      "19  cond1.rep20          0      0\n",
      "20  cond1.rep21          0      0\n",
      "21  cond1.rep22          0      0\n",
      "22  cond1.rep23          0      0\n",
      "23  cond1.rep24          0      0\n",
      "24  cond1.rep25          0      0\n",
      "25  cond1.rep26          0      0\n",
      "26  cond1.rep27          0      0\n",
      "27  cond1.rep28          0      0\n",
      "28  cond1.rep29          0      0\n",
      "29  cond1.rep30          0      0\n",
      "..          ...        ...    ...\n",
      "69  cond2.rep20          1      0\n",
      "70  cond2.rep21          1      0\n",
      "71  cond2.rep22          1      0\n",
      "72  cond2.rep23          1      0\n",
      "73  cond2.rep24          1      0\n",
      "74  cond2.rep25          1      0\n",
      "75  cond2.rep26          1      0\n",
      "76  cond2.rep27          1      0\n",
      "77  cond2.rep28          1      0\n",
      "78  cond2.rep29          1      0\n",
      "79  cond2.rep30          1      0\n",
      "80  cond2.rep31          1      0\n",
      "81  cond2.rep32          1      0\n",
      "82  cond2.rep33          1      0\n",
      "83  cond2.rep34          1      0\n",
      "84  cond2.rep35          1      0\n",
      "85  cond2.rep36          1      0\n",
      "86  cond2.rep37          1      0\n",
      "87  cond2.rep38          1      0\n",
      "88  cond2.rep39          1      0\n",
      "89  cond2.rep40          1      0\n",
      "90  cond2.rep41          1      0\n",
      "91  cond2.rep42          1      0\n",
      "92  cond2.rep43          1      0\n",
      "93  cond2.rep44          1      0\n",
      "94  cond2.rep45          1      0\n",
      "95  cond2.rep46          1      0\n",
      "96  cond2.rep47          1      0\n",
      "97  cond2.rep48          1      0\n",
      "98  cond2.rep49          1      0\n",
      "\n",
      "[99 rows x 3 columns]\n",
      "/usr/bin/java -Xmx16G -cp /mnt/d/dev/git/pyIMS/src/pySRM/pysrm/../../../tools/nlEmpiRe.jar nlEmpiRe.input.ExpressionSet -inputdir ./ -cond1 0 -cond2 1 -o .//nldiffreg.13.8_9_10_11_12_14_15.tsv\n"
     ]
    },
    {
     "name": "stderr",
     "output_type": "stream",
     "text": [
      "2020-06-16 00:20:06,662  SpectraRegion  INFO: Performing DE-test: ttest\n",
      "I0616 00:20:06.662011 140009190655808 segment.py:1338] Performing DE-test: ttest\n"
     ]
    },
    {
     "name": "stdout",
     "output_type": "stream",
     "text": [
      "Cmd returned with exit code 0\n",
      "0\n",
      "EMPIRE output available: .//nldiffreg.13.8_9_10_11_12_14_15.tsv\n"
     ]
    },
    {
     "name": "stderr",
     "output_type": "stream",
     "text": [
      "2020-06-16 00:20:07,168  SpectraRegion  INFO: DE-test finished. Results available: ((13,), (8, 9, 10, 11, 12, 14, 15))\n",
      "I0616 00:20:07.168072 140009190655808 segment.py:1363] DE-test finished. Results available: ((13,), (8, 9, 10, 11, 12, 14, 15))\n",
      "2020-06-16 00:20:07,231  SpectraRegion  INFO: DE result for case ((13,), (8, 9, 10, 11, 12, 14, 15)) with (17900, 16) results\n",
      "I0616 00:20:07.231288 140009190655808 segment.py:966] DE result for case ((13,), (8, 9, 10, 11, 12, 14, 15)) with (17900, 16) results\n",
      "2020-06-16 00:20:07,237  SpectraRegion  INFO: DE result for case ((13,), (8, 9, 10, 11, 12, 14, 15)) with (0, 16) results (filtered)\n",
      "I0616 00:20:07.237286 140009190655808 segment.py:994] DE result for case ((13,), (8, 9, 10, 11, 12, 14, 15)) with (0, 16) results (filtered)\n",
      "2020-06-16 00:20:07,374  SpectraRegion  INFO: Created matrices with shape (70, 17900) and (590, 17900) (target, bg)\n",
      "I0616 00:20:07.374502 140009190655808 segment.py:1000] Created matrices with shape (70, 17900) and (590, 17900) (target, bg)\n",
      "2020-06-16 00:20:07,403  SpectraRegion  INFO: DE result for case ((13,), (8, 9, 10, 11, 12, 14, 15)) with (17900, 7) results\n",
      "I0616 00:20:07.403772 140009190655808 segment.py:966] DE result for case ((13,), (8, 9, 10, 11, 12, 14, 15)) with (17900, 7) results\n",
      "2020-06-16 00:20:07,405  SpectraRegion  INFO: DE result logFC inversed\n",
      "I0616 00:20:07.405648 140009190655808 segment.py:989] DE result logFC inversed\n",
      "2020-06-16 00:20:07,410  SpectraRegion  INFO: DE result for case ((13,), (8, 9, 10, 11, 12, 14, 15)) with (278, 7) results (filtered)\n",
      "I0616 00:20:07.410642 140009190655808 segment.py:994] DE result for case ((13,), (8, 9, 10, 11, 12, 14, 15)) with (278, 7) results (filtered)\n",
      "2020-06-16 00:20:07,530  SpectraRegion  INFO: Created matrices with shape (70, 17900) and (590, 17900) (target, bg)\n",
      "I0616 00:20:07.530118 140009190655808 segment.py:1000] Created matrices with shape (70, 17900) and (590, 17900) (target, bg)\n",
      "2020-06-16 00:20:08,380  SpectraRegion  INFO: DE data for case: [10]\n",
      "I0616 00:20:08.380699 140009190655808 segment.py:1229] DE data for case: [10]\n",
      "2020-06-16 00:20:08,382  SpectraRegion  INFO: DE data for control: [8, 9, 11, 15, 13, 12, 14]\n",
      "I0616 00:20:08.382284 140009190655808 segment.py:1230] DE data for control: [8, 9, 11, 15, 13, 12, 14]\n",
      "2020-06-16 00:20:08,383  SpectraRegion  INFO: DE result key: ((10,), (8, 9, 11, 12, 13, 14, 15))\n",
      "I0616 00:20:08.383817 140009190655808 segment.py:1234] DE result key: ((10,), (8, 9, 11, 12, 13, 14, 15))\n",
      "2020-06-16 00:20:08,411  SpectraRegion  INFO: Processing cluster: 10\n",
      "I0616 00:20:08.411024 140009190655808 segment.py:1252] Processing cluster: 10\n",
      "2020-06-16 00:20:08,446  SpectraRegion  INFO: Processing cluster: 8\n",
      "I0616 00:20:08.446408 140009190655808 segment.py:1265] Processing cluster: 8\n",
      "2020-06-16 00:20:08,497  SpectraRegion  INFO: Processing cluster: 9\n",
      "I0616 00:20:08.497902 140009190655808 segment.py:1265] Processing cluster: 9\n",
      "2020-06-16 00:20:08,564  SpectraRegion  INFO: Processing cluster: 11\n",
      "I0616 00:20:08.564984 140009190655808 segment.py:1265] Processing cluster: 11\n"
     ]
    },
    {
     "name": "stdout",
     "output_type": "stream",
     "text": [
      "Running [10] against [8, 9, 11, 15, 13, 12, 14]\n"
     ]
    },
    {
     "name": "stderr",
     "output_type": "stream",
     "text": [
      "2020-06-16 00:20:08,655  SpectraRegion  INFO: Processing cluster: 15\n",
      "I0616 00:20:08.655678 140009190655808 segment.py:1265] Processing cluster: 15\n",
      "2020-06-16 00:20:08,842  SpectraRegion  INFO: Processing cluster: 13\n",
      "I0616 00:20:08.842244 140009190655808 segment.py:1265] Processing cluster: 13\n",
      "2020-06-16 00:20:09,004  SpectraRegion  INFO: Processing cluster: 12\n",
      "I0616 00:20:09.004303 140009190655808 segment.py:1265] Processing cluster: 12\n",
      "2020-06-16 00:20:09,019  SpectraRegion  INFO: Processing cluster: 14\n",
      "I0616 00:20:09.019531 140009190655808 segment.py:1265] Processing cluster: 14\n",
      "2020-06-16 00:20:09,032  SpectraRegion  INFO: DE DataFrame ready. Shape (17900, 660)\n",
      "I0616 00:20:09.032885 140009190655808 segment.py:1278] DE DataFrame ready. Shape (17900, 660)\n",
      "2020-06-16 00:20:09,039  SpectraRegion  INFO: DE Sample DataFrame ready. Shape (660, 3)\n",
      "I0616 00:20:09.039965 140009190655808 segment.py:1286] DE Sample DataFrame ready. Shape (660, 3)\n",
      "2020-06-16 00:20:10,972  SpectraRegion  INFO: Starting EMPIRE; Writing Expression Files\n",
      "I0616 00:20:10.972467 140009190655808 segment.py:1302] Starting EMPIRE; Writing Expression Files\n",
      "2020-06-16 00:20:30,016  SpectraRegion  INFO: Starting EMPIRE; Running nlEmpiRe\n",
      "I0616 00:20:30.016386 140009190655808 segment.py:1320] Starting EMPIRE; Running nlEmpiRe\n"
     ]
    },
    {
     "name": "stdout",
     "output_type": "stream",
     "text": [
      "Max condition count (1, 595)\n",
      "/usr/bin/java -Xmx24G -cp /mnt/d/dev/git/pyIMS/src/pySRM/pysrm/../../../tools/nlEmpiRe.jar nlEmpiRe.input.ExpressionSet -getbestsubN 100 -inputdir ./ -cond1 0 -cond2 1 -o .//exprs_ds.txt\n",
      "Cmd returned with exit code 0\n",
      "Writing new Pdata\n",
      "Writing new exprs data\n",
      "/usr/bin/java -Xmx16G -cp /mnt/d/dev/git/pyIMS/src/pySRM/pysrm/../../../tools/nlEmpiRe.jar nlEmpiRe.input.ExpressionSet -inputdir ./ -cond1 0 -cond2 1 -o .//nldiffreg.10.8_9_11_12_13_14_15.tsv\n",
      "Cmd returned with exit code 1\n",
      "1\n",
      "Exception in thread \"main\" lmu.utils.FRuntimeException: 1: cannot normalize samples - too many non-overlapping features clustered 50 samples into 2 groups:\n",
      "\tcluster: 1 size: 49 replicates: [cond2.rep1, cond2.rep2, cond2.rep3, cond2.rep4, cond2.rep5, cond2.rep6, cond2.rep7, cond2.rep8, cond2.rep9, cond2.rep10, cond2.rep11, cond2.rep12, cond2.rep13, cond2.rep14, cond2.rep15, cond2.rep16, cond2.rep17, cond2.rep18, cond2.rep19, cond2.rep20, cond2.rep21, cond2.rep22, cond2.rep23, cond2.rep24, cond2.rep25, cond2.rep26, cond2.rep27, cond2.rep28, cond2.rep29, cond2.rep30, cond2.rep31, cond2.rep32, cond2.rep33, cond2.rep34, cond2.rep35, cond2.rep36, cond2.rep37, cond2.rep38, cond2.rep39, cond2.rep40, cond2.rep41, cond2.rep42, cond2.rep43, cond2.rep44, cond2.rep45, cond2.rep46, cond2.rep47, cond2.rep48, cond2.rep49]\n",
      "\tcluster: 2 size: 1 replicates: [cond2.rep50]\n",
      "\n",
      "\tat nlEmpiRe.NormalizedReplicateSet.<init>(NormalizedReplicateSet.java:58)\n",
      "\tat nlEmpiRe.input.ExpressionSet.main(ExpressionSet.java:279)\n",
      "\n",
      "Loading pdata\n",
      "Removing spectra ['cond2.rep50']\n",
      "         sample  condition  batch\n",
      "0    cond1.rep1          0      0\n",
      "1    cond1.rep2          0      0\n",
      "2    cond1.rep3          0      0\n",
      "3    cond1.rep4          0      0\n",
      "4    cond1.rep5          0      0\n",
      "5    cond1.rep6          0      0\n",
      "6    cond1.rep7          0      0\n",
      "7    cond1.rep8          0      0\n",
      "8    cond1.rep9          0      0\n",
      "9   cond1.rep10          0      0\n",
      "10  cond1.rep11          0      0\n",
      "11  cond1.rep12          0      0\n",
      "12  cond1.rep13          0      0\n",
      "13  cond1.rep14          0      0\n",
      "14  cond1.rep15          0      0\n",
      "15  cond1.rep16          0      0\n",
      "16  cond1.rep17          0      0\n",
      "17  cond1.rep18          0      0\n",
      "18  cond1.rep19          0      0\n",
      "19  cond1.rep20          0      0\n",
      "20  cond1.rep21          0      0\n",
      "21  cond1.rep22          0      0\n",
      "22  cond1.rep23          0      0\n",
      "23  cond1.rep24          0      0\n",
      "24  cond1.rep25          0      0\n",
      "25  cond1.rep26          0      0\n",
      "26  cond1.rep27          0      0\n",
      "27  cond1.rep28          0      0\n",
      "28  cond1.rep29          0      0\n",
      "29  cond1.rep30          0      0\n",
      "..          ...        ...    ...\n",
      "69  cond2.rep20          1      0\n",
      "70  cond2.rep21          1      0\n",
      "71  cond2.rep22          1      0\n",
      "72  cond2.rep23          1      0\n",
      "73  cond2.rep24          1      0\n",
      "74  cond2.rep25          1      0\n",
      "75  cond2.rep26          1      0\n",
      "76  cond2.rep27          1      0\n",
      "77  cond2.rep28          1      0\n",
      "78  cond2.rep29          1      0\n",
      "79  cond2.rep30          1      0\n",
      "80  cond2.rep31          1      0\n",
      "81  cond2.rep32          1      0\n",
      "82  cond2.rep33          1      0\n",
      "83  cond2.rep34          1      0\n",
      "84  cond2.rep35          1      0\n",
      "85  cond2.rep36          1      0\n",
      "86  cond2.rep37          1      0\n",
      "87  cond2.rep38          1      0\n",
      "88  cond2.rep39          1      0\n",
      "89  cond2.rep40          1      0\n",
      "90  cond2.rep41          1      0\n",
      "91  cond2.rep42          1      0\n",
      "92  cond2.rep43          1      0\n",
      "93  cond2.rep44          1      0\n",
      "94  cond2.rep45          1      0\n",
      "95  cond2.rep46          1      0\n",
      "96  cond2.rep47          1      0\n",
      "97  cond2.rep48          1      0\n",
      "98  cond2.rep49          1      0\n",
      "\n",
      "[99 rows x 3 columns]\n",
      "/usr/bin/java -Xmx16G -cp /mnt/d/dev/git/pyIMS/src/pySRM/pysrm/../../../tools/nlEmpiRe.jar nlEmpiRe.input.ExpressionSet -inputdir ./ -cond1 0 -cond2 1 -o .//nldiffreg.10.8_9_11_12_13_14_15.tsv\n"
     ]
    },
    {
     "name": "stderr",
     "output_type": "stream",
     "text": [
      "2020-06-16 00:25:06,536  SpectraRegion  INFO: Performing DE-test: ttest\n",
      "I0616 00:25:06.536663 140009190655808 segment.py:1338] Performing DE-test: ttest\n"
     ]
    },
    {
     "name": "stdout",
     "output_type": "stream",
     "text": [
      "Cmd returned with exit code 0\n",
      "0\n",
      "EMPIRE output available: .//nldiffreg.10.8_9_11_12_13_14_15.tsv\n"
     ]
    },
    {
     "name": "stderr",
     "output_type": "stream",
     "text": [
      "2020-06-16 00:25:07,058  SpectraRegion  INFO: DE-test finished. Results available: ((10,), (8, 9, 11, 12, 13, 14, 15))\n",
      "I0616 00:25:07.058675 140009190655808 segment.py:1363] DE-test finished. Results available: ((10,), (8, 9, 11, 12, 13, 14, 15))\n",
      "2020-06-16 00:25:07,123  SpectraRegion  INFO: DE result for case ((10,), (8, 9, 11, 12, 13, 14, 15)) with (17900, 16) results\n",
      "I0616 00:25:07.123058 140009190655808 segment.py:966] DE result for case ((10,), (8, 9, 11, 12, 13, 14, 15)) with (17900, 16) results\n",
      "2020-06-16 00:25:07,127  SpectraRegion  INFO: DE result for case ((10,), (8, 9, 11, 12, 13, 14, 15)) with (0, 16) results (filtered)\n",
      "I0616 00:25:07.127846 140009190655808 segment.py:994] DE result for case ((10,), (8, 9, 11, 12, 13, 14, 15)) with (0, 16) results (filtered)\n",
      "2020-06-16 00:25:07,269  SpectraRegion  INFO: Created matrices with shape (65, 17900) and (595, 17900) (target, bg)\n",
      "I0616 00:25:07.269190 140009190655808 segment.py:1000] Created matrices with shape (65, 17900) and (595, 17900) (target, bg)\n",
      "2020-06-16 00:25:07,300  SpectraRegion  INFO: DE result for case ((10,), (8, 9, 11, 12, 13, 14, 15)) with (17900, 7) results\n",
      "I0616 00:25:07.300381 140009190655808 segment.py:966] DE result for case ((10,), (8, 9, 11, 12, 13, 14, 15)) with (17900, 7) results\n",
      "2020-06-16 00:25:07,301  SpectraRegion  INFO: DE result logFC inversed\n",
      "I0616 00:25:07.301896 140009190655808 segment.py:989] DE result logFC inversed\n",
      "2020-06-16 00:25:07,308  SpectraRegion  INFO: DE result for case ((10,), (8, 9, 11, 12, 13, 14, 15)) with (1395, 7) results (filtered)\n",
      "I0616 00:25:07.308483 140009190655808 segment.py:994] DE result for case ((10,), (8, 9, 11, 12, 13, 14, 15)) with (1395, 7) results (filtered)\n",
      "2020-06-16 00:25:07,435  SpectraRegion  INFO: Created matrices with shape (65, 17900) and (595, 17900) (target, bg)\n",
      "I0616 00:25:07.435662 140009190655808 segment.py:1000] Created matrices with shape (65, 17900) and (595, 17900) (target, bg)\n",
      "2020-06-16 00:25:13,601  SpectraRegion  INFO: DE data for case: [12]\n",
      "I0616 00:25:13.601803 140009190655808 segment.py:1229] DE data for case: [12]\n",
      "2020-06-16 00:25:13,603  SpectraRegion  INFO: DE data for control: [8, 9, 11, 15, 13, 10, 14]\n",
      "I0616 00:25:13.603614 140009190655808 segment.py:1230] DE data for control: [8, 9, 11, 15, 13, 10, 14]\n",
      "2020-06-16 00:25:13,605  SpectraRegion  INFO: DE result key: ((12,), (8, 9, 10, 11, 13, 14, 15))\n",
      "I0616 00:25:13.605317 140009190655808 segment.py:1234] DE result key: ((12,), (8, 9, 10, 11, 13, 14, 15))\n",
      "2020-06-16 00:25:13,632  SpectraRegion  INFO: Processing cluster: 12\n",
      "I0616 00:25:13.632284 140009190655808 segment.py:1252] Processing cluster: 12\n",
      "2020-06-16 00:25:13,651  SpectraRegion  INFO: Processing cluster: 8\n",
      "I0616 00:25:13.651081 140009190655808 segment.py:1265] Processing cluster: 8\n",
      "2020-06-16 00:25:13,713  SpectraRegion  INFO: Processing cluster: 9\n",
      "I0616 00:25:13.713751 140009190655808 segment.py:1265] Processing cluster: 9\n",
      "2020-06-16 00:25:13,784  SpectraRegion  INFO: Processing cluster: 11\n",
      "I0616 00:25:13.784551 140009190655808 segment.py:1265] Processing cluster: 11\n"
     ]
    },
    {
     "name": "stdout",
     "output_type": "stream",
     "text": [
      "Running [12] against [8, 9, 11, 15, 13, 10, 14]\n"
     ]
    },
    {
     "name": "stderr",
     "output_type": "stream",
     "text": [
      "2020-06-16 00:25:13,886  SpectraRegion  INFO: Processing cluster: 15\n",
      "I0616 00:25:13.886920 140009190655808 segment.py:1265] Processing cluster: 15\n",
      "2020-06-16 00:25:14,112  SpectraRegion  INFO: Processing cluster: 13\n",
      "I0616 00:25:14.112006 140009190655808 segment.py:1265] Processing cluster: 13\n",
      "2020-06-16 00:25:14,151  SpectraRegion  INFO: Processing cluster: 10\n",
      "I0616 00:25:14.151638 140009190655808 segment.py:1265] Processing cluster: 10\n",
      "2020-06-16 00:25:14,317  SpectraRegion  INFO: Processing cluster: 14\n",
      "I0616 00:25:14.317133 140009190655808 segment.py:1265] Processing cluster: 14\n",
      "2020-06-16 00:25:14,331  SpectraRegion  INFO: DE DataFrame ready. Shape (17900, 660)\n",
      "I0616 00:25:14.331277 140009190655808 segment.py:1278] DE DataFrame ready. Shape (17900, 660)\n",
      "2020-06-16 00:25:14,335  SpectraRegion  INFO: DE Sample DataFrame ready. Shape (660, 3)\n",
      "I0616 00:25:14.335742 140009190655808 segment.py:1286] DE Sample DataFrame ready. Shape (660, 3)\n",
      "2020-06-16 00:25:16,431  SpectraRegion  INFO: Starting EMPIRE; Writing Expression Files\n",
      "I0616 00:25:16.431951 140009190655808 segment.py:1302] Starting EMPIRE; Writing Expression Files\n",
      "2020-06-16 00:25:35,648  SpectraRegion  INFO: Starting EMPIRE; Running nlEmpiRe\n",
      "I0616 00:25:35.648200 140009190655808 segment.py:1320] Starting EMPIRE; Running nlEmpiRe\n"
     ]
    },
    {
     "name": "stdout",
     "output_type": "stream",
     "text": [
      "Max condition count (1, 633)\n",
      "/usr/bin/java -Xmx24G -cp /mnt/d/dev/git/pyIMS/src/pySRM/pysrm/../../../tools/nlEmpiRe.jar nlEmpiRe.input.ExpressionSet -getbestsubN 100 -inputdir ./ -cond1 0 -cond2 1 -o .//exprs_ds.txt\n",
      "Cmd returned with exit code 0\n",
      "Writing new Pdata\n",
      "Writing new exprs data\n",
      "/usr/bin/java -Xmx16G -cp /mnt/d/dev/git/pyIMS/src/pySRM/pysrm/../../../tools/nlEmpiRe.jar nlEmpiRe.input.ExpressionSet -inputdir ./ -cond1 0 -cond2 1 -o .//nldiffreg.12.8_9_10_11_13_14_15.tsv\n",
      "Cmd returned with exit code 1\n",
      "1\n",
      "Exception in thread \"main\" lmu.utils.FRuntimeException: 1: cannot normalize samples - too many non-overlapping features clustered 50 samples into 2 groups:\n",
      "\tcluster: 1 size: 49 replicates: [cond2.rep1, cond2.rep2, cond2.rep3, cond2.rep4, cond2.rep5, cond2.rep6, cond2.rep7, cond2.rep8, cond2.rep9, cond2.rep10, cond2.rep11, cond2.rep12, cond2.rep13, cond2.rep14, cond2.rep15, cond2.rep16, cond2.rep17, cond2.rep18, cond2.rep19, cond2.rep20, cond2.rep21, cond2.rep22, cond2.rep23, cond2.rep24, cond2.rep25, cond2.rep26, cond2.rep27, cond2.rep28, cond2.rep29, cond2.rep30, cond2.rep31, cond2.rep32, cond2.rep33, cond2.rep34, cond2.rep35, cond2.rep36, cond2.rep37, cond2.rep38, cond2.rep39, cond2.rep40, cond2.rep41, cond2.rep42, cond2.rep43, cond2.rep44, cond2.rep45, cond2.rep46, cond2.rep47, cond2.rep48, cond2.rep49]\n",
      "\tcluster: 2 size: 1 replicates: [cond2.rep50]\n",
      "\n",
      "\tat nlEmpiRe.NormalizedReplicateSet.<init>(NormalizedReplicateSet.java:58)\n",
      "\tat nlEmpiRe.input.ExpressionSet.main(ExpressionSet.java:279)\n",
      "\n",
      "Loading pdata\n",
      "Removing spectra ['cond2.rep50']\n",
      "         sample  condition  batch\n",
      "0    cond1.rep1          0      0\n",
      "1    cond1.rep2          0      0\n",
      "2    cond1.rep3          0      0\n",
      "3    cond1.rep4          0      0\n",
      "4    cond1.rep5          0      0\n",
      "5    cond1.rep6          0      0\n",
      "6    cond1.rep7          0      0\n",
      "7    cond1.rep8          0      0\n",
      "8    cond1.rep9          0      0\n",
      "9   cond1.rep10          0      0\n",
      "10  cond1.rep11          0      0\n",
      "11  cond1.rep12          0      0\n",
      "12  cond1.rep13          0      0\n",
      "13  cond1.rep14          0      0\n",
      "14  cond1.rep15          0      0\n",
      "15  cond1.rep16          0      0\n",
      "16  cond1.rep17          0      0\n",
      "17  cond1.rep18          0      0\n",
      "18  cond1.rep19          0      0\n",
      "19  cond1.rep20          0      0\n",
      "20  cond1.rep21          0      0\n",
      "21  cond1.rep22          0      0\n",
      "22  cond1.rep23          0      0\n",
      "23  cond1.rep24          0      0\n",
      "24  cond1.rep25          0      0\n",
      "25  cond1.rep26          0      0\n",
      "26  cond1.rep27          0      0\n",
      "27  cond1.rep28          0      0\n",
      "28  cond1.rep29          0      0\n",
      "29  cond1.rep30          0      0\n",
      "..          ...        ...    ...\n",
      "69  cond2.rep20          1      0\n",
      "70  cond2.rep21          1      0\n",
      "71  cond2.rep22          1      0\n",
      "72  cond2.rep23          1      0\n",
      "73  cond2.rep24          1      0\n",
      "74  cond2.rep25          1      0\n",
      "75  cond2.rep26          1      0\n",
      "76  cond2.rep27          1      0\n",
      "77  cond2.rep28          1      0\n",
      "78  cond2.rep29          1      0\n",
      "79  cond2.rep30          1      0\n",
      "80  cond2.rep31          1      0\n",
      "81  cond2.rep32          1      0\n",
      "82  cond2.rep33          1      0\n",
      "83  cond2.rep34          1      0\n",
      "84  cond2.rep35          1      0\n",
      "85  cond2.rep36          1      0\n",
      "86  cond2.rep37          1      0\n",
      "87  cond2.rep38          1      0\n",
      "88  cond2.rep39          1      0\n",
      "89  cond2.rep40          1      0\n",
      "90  cond2.rep41          1      0\n",
      "91  cond2.rep42          1      0\n",
      "92  cond2.rep43          1      0\n",
      "93  cond2.rep44          1      0\n",
      "94  cond2.rep45          1      0\n",
      "95  cond2.rep46          1      0\n",
      "96  cond2.rep47          1      0\n",
      "97  cond2.rep48          1      0\n",
      "98  cond2.rep49          1      0\n",
      "\n",
      "[99 rows x 3 columns]\n",
      "/usr/bin/java -Xmx16G -cp /mnt/d/dev/git/pyIMS/src/pySRM/pysrm/../../../tools/nlEmpiRe.jar nlEmpiRe.input.ExpressionSet -inputdir ./ -cond1 0 -cond2 1 -o .//nldiffreg.12.8_9_10_11_13_14_15.tsv\n"
     ]
    },
    {
     "name": "stderr",
     "output_type": "stream",
     "text": [
      "2020-06-16 00:30:10,584  SpectraRegion  INFO: Performing DE-test: ttest\n",
      "I0616 00:30:10.584008 140009190655808 segment.py:1338] Performing DE-test: ttest\n"
     ]
    },
    {
     "name": "stdout",
     "output_type": "stream",
     "text": [
      "Cmd returned with exit code 0\n",
      "0\n",
      "EMPIRE output available: .//nldiffreg.12.8_9_10_11_13_14_15.tsv\n"
     ]
    },
    {
     "name": "stderr",
     "output_type": "stream",
     "text": [
      "2020-06-16 00:30:11,165  SpectraRegion  INFO: DE-test finished. Results available: ((12,), (8, 9, 10, 11, 13, 14, 15))\n",
      "I0616 00:30:11.165053 140009190655808 segment.py:1363] DE-test finished. Results available: ((12,), (8, 9, 10, 11, 13, 14, 15))\n",
      "2020-06-16 00:30:11,233  SpectraRegion  INFO: DE result for case ((12,), (8, 9, 10, 11, 13, 14, 15)) with (17900, 16) results\n",
      "I0616 00:30:11.233153 140009190655808 segment.py:966] DE result for case ((12,), (8, 9, 10, 11, 13, 14, 15)) with (17900, 16) results\n",
      "2020-06-16 00:30:11,238  SpectraRegion  INFO: DE result for case ((12,), (8, 9, 10, 11, 13, 14, 15)) with (0, 16) results (filtered)\n",
      "I0616 00:30:11.238391 140009190655808 segment.py:994] DE result for case ((12,), (8, 9, 10, 11, 13, 14, 15)) with (0, 16) results (filtered)\n",
      "2020-06-16 00:30:11,385  SpectraRegion  INFO: Created matrices with shape (27, 17900) and (633, 17900) (target, bg)\n",
      "I0616 00:30:11.385427 140009190655808 segment.py:1000] Created matrices with shape (27, 17900) and (633, 17900) (target, bg)\n",
      "2020-06-16 00:30:11,417  SpectraRegion  INFO: DE result for case ((12,), (8, 9, 10, 11, 13, 14, 15)) with (17900, 7) results\n",
      "I0616 00:30:11.417568 140009190655808 segment.py:966] DE result for case ((12,), (8, 9, 10, 11, 13, 14, 15)) with (17900, 7) results\n",
      "2020-06-16 00:30:11,419  SpectraRegion  INFO: DE result logFC inversed\n",
      "I0616 00:30:11.419501 140009190655808 segment.py:989] DE result logFC inversed\n",
      "2020-06-16 00:30:11,425  SpectraRegion  INFO: DE result for case ((12,), (8, 9, 10, 11, 13, 14, 15)) with (874, 7) results (filtered)\n",
      "I0616 00:30:11.425768 140009190655808 segment.py:994] DE result for case ((12,), (8, 9, 10, 11, 13, 14, 15)) with (874, 7) results (filtered)\n",
      "2020-06-16 00:30:11,561  SpectraRegion  INFO: Created matrices with shape (27, 17900) and (633, 17900) (target, bg)\n",
      "I0616 00:30:11.561664 140009190655808 segment.py:1000] Created matrices with shape (27, 17900) and (633, 17900) (target, bg)\n",
      "2020-06-16 00:30:16,420  SpectraRegion  INFO: DE data for case: [14]\n",
      "I0616 00:30:16.420462 140009190655808 segment.py:1229] DE data for case: [14]\n",
      "2020-06-16 00:30:16,422  SpectraRegion  INFO: DE data for control: [8, 9, 11, 15, 13, 10, 12]\n",
      "I0616 00:30:16.422305 140009190655808 segment.py:1230] DE data for control: [8, 9, 11, 15, 13, 10, 12]\n",
      "2020-06-16 00:30:16,424  SpectraRegion  INFO: DE result key: ((14,), (8, 9, 10, 11, 12, 13, 15))\n",
      "I0616 00:30:16.424504 140009190655808 segment.py:1234] DE result key: ((14,), (8, 9, 10, 11, 12, 13, 15))\n",
      "2020-06-16 00:30:16,454  SpectraRegion  INFO: Processing cluster: 14\n",
      "I0616 00:30:16.454306 140009190655808 segment.py:1252] Processing cluster: 14\n",
      "2020-06-16 00:30:16,471  SpectraRegion  INFO: Processing cluster: 8\n",
      "I0616 00:30:16.471365 140009190655808 segment.py:1265] Processing cluster: 8\n",
      "2020-06-16 00:30:16,530  SpectraRegion  INFO: Processing cluster: 9\n",
      "I0616 00:30:16.530685 140009190655808 segment.py:1265] Processing cluster: 9\n",
      "2020-06-16 00:30:16,615  SpectraRegion  INFO: Processing cluster: 11\n",
      "I0616 00:30:16.615074 140009190655808 segment.py:1265] Processing cluster: 11\n"
     ]
    },
    {
     "name": "stdout",
     "output_type": "stream",
     "text": [
      "Running [14] against [8, 9, 11, 15, 13, 10, 12]\n"
     ]
    },
    {
     "name": "stderr",
     "output_type": "stream",
     "text": [
      "2020-06-16 00:30:16,716  SpectraRegion  INFO: Processing cluster: 15\n",
      "I0616 00:30:16.716828 140009190655808 segment.py:1265] Processing cluster: 15\n",
      "2020-06-16 00:30:16,838  SpectraRegion  INFO: Processing cluster: 13\n",
      "I0616 00:30:16.838302 140009190655808 segment.py:1265] Processing cluster: 13\n",
      "2020-06-16 00:30:16,946  SpectraRegion  INFO: Processing cluster: 10\n",
      "I0616 00:30:16.946889 140009190655808 segment.py:1265] Processing cluster: 10\n",
      "2020-06-16 00:30:17,109  SpectraRegion  INFO: Processing cluster: 12\n",
      "I0616 00:30:17.109924 140009190655808 segment.py:1265] Processing cluster: 12\n",
      "2020-06-16 00:30:17,127  SpectraRegion  INFO: DE DataFrame ready. Shape (17900, 660)\n",
      "I0616 00:30:17.127288 140009190655808 segment.py:1278] DE DataFrame ready. Shape (17900, 660)\n",
      "2020-06-16 00:30:17,132  SpectraRegion  INFO: DE Sample DataFrame ready. Shape (660, 3)\n",
      "I0616 00:30:17.132108 140009190655808 segment.py:1286] DE Sample DataFrame ready. Shape (660, 3)\n",
      "2020-06-16 00:30:19,121  SpectraRegion  INFO: Starting EMPIRE; Writing Expression Files\n",
      "I0616 00:30:19.121070 140009190655808 segment.py:1302] Starting EMPIRE; Writing Expression Files\n",
      "2020-06-16 00:30:38,701  SpectraRegion  INFO: Starting EMPIRE; Running nlEmpiRe\n",
      "I0616 00:30:38.701496 140009190655808 segment.py:1320] Starting EMPIRE; Running nlEmpiRe\n"
     ]
    },
    {
     "name": "stdout",
     "output_type": "stream",
     "text": [
      "Max condition count (1, 638)\n",
      "/usr/bin/java -Xmx24G -cp /mnt/d/dev/git/pyIMS/src/pySRM/pysrm/../../../tools/nlEmpiRe.jar nlEmpiRe.input.ExpressionSet -getbestsubN 100 -inputdir ./ -cond1 0 -cond2 1 -o .//exprs_ds.txt\n",
      "Cmd returned with exit code 0\n",
      "Writing new Pdata\n",
      "Writing new exprs data\n",
      "/usr/bin/java -Xmx16G -cp /mnt/d/dev/git/pyIMS/src/pySRM/pysrm/../../../tools/nlEmpiRe.jar nlEmpiRe.input.ExpressionSet -inputdir ./ -cond1 0 -cond2 1 -o .//nldiffreg.14.8_9_10_11_12_13_15.tsv\n",
      "Cmd returned with exit code 1\n",
      "1\n",
      "Exception in thread \"main\" lmu.utils.FRuntimeException: 1: cannot normalize samples - too many non-overlapping features clustered 50 samples into 2 groups:\n",
      "\tcluster: 1 size: 49 replicates: [cond2.rep1, cond2.rep2, cond2.rep3, cond2.rep4, cond2.rep5, cond2.rep6, cond2.rep7, cond2.rep8, cond2.rep9, cond2.rep10, cond2.rep11, cond2.rep12, cond2.rep13, cond2.rep14, cond2.rep15, cond2.rep16, cond2.rep17, cond2.rep18, cond2.rep19, cond2.rep20, cond2.rep21, cond2.rep22, cond2.rep23, cond2.rep24, cond2.rep25, cond2.rep26, cond2.rep27, cond2.rep28, cond2.rep29, cond2.rep30, cond2.rep31, cond2.rep32, cond2.rep33, cond2.rep34, cond2.rep35, cond2.rep36, cond2.rep37, cond2.rep38, cond2.rep39, cond2.rep40, cond2.rep41, cond2.rep42, cond2.rep43, cond2.rep44, cond2.rep45, cond2.rep46, cond2.rep47, cond2.rep48, cond2.rep49]\n",
      "\tcluster: 2 size: 1 replicates: [cond2.rep50]\n",
      "\n",
      "\tat nlEmpiRe.NormalizedReplicateSet.<init>(NormalizedReplicateSet.java:58)\n",
      "\tat nlEmpiRe.input.ExpressionSet.main(ExpressionSet.java:279)\n",
      "\n",
      "Loading pdata\n",
      "Removing spectra ['cond2.rep50']\n",
      "         sample  condition  batch\n",
      "0    cond1.rep1          0      0\n",
      "1    cond1.rep2          0      0\n",
      "2    cond1.rep3          0      0\n",
      "3    cond1.rep4          0      0\n",
      "4    cond1.rep5          0      0\n",
      "5    cond1.rep6          0      0\n",
      "6    cond1.rep7          0      0\n",
      "7    cond1.rep8          0      0\n",
      "8    cond1.rep9          0      0\n",
      "9   cond1.rep10          0      0\n",
      "10  cond1.rep11          0      0\n",
      "11  cond1.rep12          0      0\n",
      "12  cond1.rep13          0      0\n",
      "13  cond1.rep14          0      0\n",
      "14  cond1.rep15          0      0\n",
      "15  cond1.rep16          0      0\n",
      "16  cond1.rep17          0      0\n",
      "17  cond1.rep18          0      0\n",
      "18  cond1.rep19          0      0\n",
      "19  cond1.rep20          0      0\n",
      "20  cond1.rep21          0      0\n",
      "21  cond1.rep22          0      0\n",
      "22  cond1.rep23          0      0\n",
      "23  cond1.rep24          0      0\n",
      "24  cond1.rep25          0      0\n",
      "25  cond1.rep26          0      0\n",
      "26  cond1.rep27          0      0\n",
      "27  cond1.rep28          0      0\n",
      "28  cond1.rep29          0      0\n",
      "29  cond1.rep30          0      0\n",
      "..          ...        ...    ...\n",
      "69  cond2.rep20          1      0\n",
      "70  cond2.rep21          1      0\n",
      "71  cond2.rep22          1      0\n",
      "72  cond2.rep23          1      0\n",
      "73  cond2.rep24          1      0\n",
      "74  cond2.rep25          1      0\n",
      "75  cond2.rep26          1      0\n",
      "76  cond2.rep27          1      0\n",
      "77  cond2.rep28          1      0\n",
      "78  cond2.rep29          1      0\n",
      "79  cond2.rep30          1      0\n",
      "80  cond2.rep31          1      0\n",
      "81  cond2.rep32          1      0\n",
      "82  cond2.rep33          1      0\n",
      "83  cond2.rep34          1      0\n",
      "84  cond2.rep35          1      0\n",
      "85  cond2.rep36          1      0\n",
      "86  cond2.rep37          1      0\n",
      "87  cond2.rep38          1      0\n",
      "88  cond2.rep39          1      0\n",
      "89  cond2.rep40          1      0\n",
      "90  cond2.rep41          1      0\n",
      "91  cond2.rep42          1      0\n",
      "92  cond2.rep43          1      0\n",
      "93  cond2.rep44          1      0\n",
      "94  cond2.rep45          1      0\n",
      "95  cond2.rep46          1      0\n",
      "96  cond2.rep47          1      0\n",
      "97  cond2.rep48          1      0\n",
      "98  cond2.rep49          1      0\n",
      "\n",
      "[99 rows x 3 columns]\n",
      "/usr/bin/java -Xmx16G -cp /mnt/d/dev/git/pyIMS/src/pySRM/pysrm/../../../tools/nlEmpiRe.jar nlEmpiRe.input.ExpressionSet -inputdir ./ -cond1 0 -cond2 1 -o .//nldiffreg.14.8_9_10_11_12_13_15.tsv\n"
     ]
    },
    {
     "name": "stderr",
     "output_type": "stream",
     "text": [
      "2020-06-16 00:35:07,955  SpectraRegion  INFO: Performing DE-test: ttest\n",
      "I0616 00:35:07.955314 140009190655808 segment.py:1338] Performing DE-test: ttest\n"
     ]
    },
    {
     "name": "stdout",
     "output_type": "stream",
     "text": [
      "Cmd returned with exit code 0\n",
      "0\n",
      "EMPIRE output available: .//nldiffreg.14.8_9_10_11_12_13_15.tsv\n"
     ]
    },
    {
     "name": "stderr",
     "output_type": "stream",
     "text": [
      "2020-06-16 00:35:08,535  SpectraRegion  INFO: DE-test finished. Results available: ((14,), (8, 9, 10, 11, 12, 13, 15))\n",
      "I0616 00:35:08.535974 140009190655808 segment.py:1363] DE-test finished. Results available: ((14,), (8, 9, 10, 11, 12, 13, 15))\n",
      "2020-06-16 00:35:08,597  SpectraRegion  INFO: DE result for case ((14,), (8, 9, 10, 11, 12, 13, 15)) with (17900, 16) results\n",
      "I0616 00:35:08.597748 140009190655808 segment.py:966] DE result for case ((14,), (8, 9, 10, 11, 12, 13, 15)) with (17900, 16) results\n",
      "2020-06-16 00:35:08,602  SpectraRegion  INFO: DE result for case ((14,), (8, 9, 10, 11, 12, 13, 15)) with (0, 16) results (filtered)\n",
      "I0616 00:35:08.602538 140009190655808 segment.py:994] DE result for case ((14,), (8, 9, 10, 11, 12, 13, 15)) with (0, 16) results (filtered)\n",
      "2020-06-16 00:35:08,744  SpectraRegion  INFO: Created matrices with shape (22, 17900) and (638, 17900) (target, bg)\n",
      "I0616 00:35:08.744876 140009190655808 segment.py:1000] Created matrices with shape (22, 17900) and (638, 17900) (target, bg)\n",
      "2020-06-16 00:35:08,773  SpectraRegion  INFO: DE result for case ((14,), (8, 9, 10, 11, 12, 13, 15)) with (17900, 7) results\n",
      "I0616 00:35:08.773288 140009190655808 segment.py:966] DE result for case ((14,), (8, 9, 10, 11, 12, 13, 15)) with (17900, 7) results\n",
      "2020-06-16 00:35:08,774  SpectraRegion  INFO: DE result logFC inversed\n",
      "I0616 00:35:08.774739 140009190655808 segment.py:989] DE result logFC inversed\n",
      "2020-06-16 00:35:08,781  SpectraRegion  INFO: DE result for case ((14,), (8, 9, 10, 11, 12, 13, 15)) with (1903, 7) results (filtered)\n",
      "I0616 00:35:08.781690 140009190655808 segment.py:994] DE result for case ((14,), (8, 9, 10, 11, 12, 13, 15)) with (1903, 7) results (filtered)\n",
      "2020-06-16 00:35:08,911  SpectraRegion  INFO: Created matrices with shape (22, 17900) and (638, 17900) (target, bg)\n",
      "I0616 00:35:08.911597 140009190655808 segment.py:1000] Created matrices with shape (22, 17900) and (638, 17900) (target, bg)\n"
     ]
    }
   ],
   "source": [
    "mgenes = spec.find_all_markers(pw, includeBackground=False, replaceExisting=False, outdirectory=\"./\")"
   ]
  },
  {
   "cell_type": "code",
   "execution_count": 23,
   "metadata": {},
   "outputs": [
    {
     "data": {
      "text/plain": [
       "[('empire', ((8,), (9, 10, 11, 12, 13, 14, 15))),\n",
       " ('empire', ((9,), (8, 10, 11, 12, 13, 14, 15))),\n",
       " ('empire', ((11,), (8, 9, 10, 12, 13, 14, 15))),\n",
       " ('empire', ((15,), (8, 9, 10, 11, 12, 13, 14))),\n",
       " ('empire', ((13,), (8, 9, 10, 11, 12, 14, 15))),\n",
       " ('empire', ((10,), (8, 9, 11, 12, 13, 14, 15))),\n",
       " ('empire', ((12,), (8, 9, 10, 11, 13, 14, 15))),\n",
       " ('empire', ((14,), (8, 9, 10, 11, 12, 13, 15))),\n",
       " ('ttest', ((8,), (9, 10, 11, 12, 13, 14, 15))),\n",
       " ('ttest', ((9,), (8, 10, 11, 12, 13, 14, 15))),\n",
       " ('ttest', ((11,), (8, 9, 10, 12, 13, 14, 15))),\n",
       " ('ttest', ((15,), (8, 9, 10, 11, 12, 13, 14))),\n",
       " ('ttest', ((13,), (8, 9, 10, 11, 12, 14, 15))),\n",
       " ('ttest', ((10,), (8, 9, 11, 12, 13, 14, 15))),\n",
       " ('ttest', ((12,), (8, 9, 10, 11, 13, 14, 15))),\n",
       " ('ttest', ((14,), (8, 9, 10, 11, 12, 13, 15)))]"
      ]
     },
     "execution_count": 23,
     "metadata": {},
     "output_type": "execute_result"
    }
   ],
   "source": [
    "spec.list_de_results()"
   ]
  },
  {
   "cell_type": "code",
   "execution_count": 24,
   "metadata": {},
   "outputs": [],
   "source": [
    "markerGenes = mgenes[\"ttest\"]"
   ]
  },
  {
   "cell_type": "code",
   "execution_count": 25,
   "metadata": {},
   "outputs": [],
   "source": [
    "markerGenes.to_csv(\"marker_genes.tsv\", sep=\"\\t\", index=False)"
   ]
  },
  {
   "cell_type": "code",
   "execution_count": 30,
   "metadata": {},
   "outputs": [],
   "source": [
    "markerGenesEmpire = mgenes[\"empire\"]\n",
    "markerGenesEmpire.to_csv(\"marker_genes_empire.tsv\", sep=\"\\t\", index=False)"
   ]
  },
  {
   "cell_type": "code",
   "execution_count": 31,
   "metadata": {},
   "outputs": [
    {
     "name": "stderr",
     "output_type": "stream",
     "text": [
      "2020-06-16 10:08:24,610  SpectraRegion  INFO: DE data for case: [0]\n",
      "I0616 10:08:24.610713 140009190655808 segment.py:1229] DE data for case: [0]\n",
      "2020-06-16 10:08:24,612  SpectraRegion  INFO: DE data for control: [8, 9, 11, 15, 13, 10, 12, 14]\n",
      "I0616 10:08:24.612854 140009190655808 segment.py:1230] DE data for control: [8, 9, 11, 15, 13, 10, 12, 14]\n",
      "2020-06-16 10:08:24,614  SpectraRegion  INFO: DE result key: ((0,), (8, 9, 10, 11, 12, 13, 14, 15))\n",
      "I0616 10:08:24.614548 140009190655808 segment.py:1234] DE result key: ((0,), (8, 9, 10, 11, 12, 13, 14, 15))\n",
      "2020-06-16 10:08:24,647  SpectraRegion  INFO: Processing cluster: 0\n",
      "I0616 10:08:24.647448 140009190655808 segment.py:1252] Processing cluster: 0\n"
     ]
    },
    {
     "name": "stdout",
     "output_type": "stream",
     "text": [
      "Running [0] against [8, 9, 11, 15, 13, 10, 12, 14]\n"
     ]
    },
    {
     "name": "stderr",
     "output_type": "stream",
     "text": [
      "2020-06-16 10:08:29,643  SpectraRegion  INFO: Processing cluster: 8\n",
      "I0616 10:08:29.643687 140009190655808 segment.py:1265] Processing cluster: 8\n",
      "2020-06-16 10:08:30,125  SpectraRegion  INFO: Processing cluster: 9\n",
      "I0616 10:08:30.125756 140009190655808 segment.py:1265] Processing cluster: 9\n",
      "2020-06-16 10:08:31,110  SpectraRegion  INFO: Processing cluster: 11\n",
      "I0616 10:08:31.110294 140009190655808 segment.py:1265] Processing cluster: 11\n",
      "2020-06-16 10:08:31,690  SpectraRegion  INFO: Processing cluster: 15\n",
      "I0616 10:08:31.690760 140009190655808 segment.py:1265] Processing cluster: 15\n",
      "2020-06-16 10:08:32,301  SpectraRegion  INFO: Processing cluster: 13\n",
      "I0616 10:08:32.301574 140009190655808 segment.py:1265] Processing cluster: 13\n",
      "2020-06-16 10:08:32,894  SpectraRegion  INFO: Processing cluster: 10\n",
      "I0616 10:08:32.894404 140009190655808 segment.py:1265] Processing cluster: 10\n",
      "2020-06-16 10:08:33,497  SpectraRegion  INFO: Processing cluster: 12\n",
      "I0616 10:08:33.497476 140009190655808 segment.py:1265] Processing cluster: 12\n",
      "2020-06-16 10:08:33,519  SpectraRegion  INFO: Processing cluster: 14\n",
      "I0616 10:08:33.519679 140009190655808 segment.py:1265] Processing cluster: 14\n",
      "2020-06-16 10:08:33,547  SpectraRegion  INFO: DE DataFrame ready. Shape (17900, 2655)\n",
      "I0616 10:08:33.547651 140009190655808 segment.py:1278] DE DataFrame ready. Shape (17900, 2655)\n",
      "2020-06-16 10:08:33,555  SpectraRegion  INFO: DE Sample DataFrame ready. Shape (2655, 3)\n",
      "I0616 10:08:33.555820 140009190655808 segment.py:1286] DE Sample DataFrame ready. Shape (2655, 3)\n",
      "2020-06-16 10:08:33,565  SpectraRegion  INFO: Performing DE-test: ttest\n",
      "I0616 10:08:33.565048 140009190655808 segment.py:1338] Performing DE-test: ttest\n",
      "2020-06-16 10:08:36,481  SpectraRegion  INFO: DE-test finished. Results available: ((0,), (8, 9, 10, 11, 12, 13, 14, 15))\n",
      "I0616 10:08:36.481253 140009190655808 segment.py:1363] DE-test finished. Results available: ((0,), (8, 9, 10, 11, 12, 13, 14, 15))\n",
      "2020-06-16 10:08:36,504  SpectraRegion  INFO: DE result for case ((0,), (8, 9, 10, 11, 12, 13, 14, 15)) with (17900, 7) results\n",
      "I0616 10:08:36.504042 140009190655808 segment.py:966] DE result for case ((0,), (8, 9, 10, 11, 12, 13, 14, 15)) with (17900, 7) results\n",
      "2020-06-16 10:08:36,506  SpectraRegion  INFO: DE result logFC inversed\n",
      "I0616 10:08:36.506039 140009190655808 segment.py:989] DE result logFC inversed\n",
      "2020-06-16 10:08:36,517  SpectraRegion  INFO: DE result for case ((0,), (8, 9, 10, 11, 12, 13, 14, 15)) with (1406, 7) results (filtered)\n",
      "I0616 10:08:36.517198 140009190655808 segment.py:994] DE result for case ((0,), (8, 9, 10, 11, 12, 13, 14, 15)) with (1406, 7) results (filtered)\n",
      "2020-06-16 10:08:37,069  SpectraRegion  INFO: Created matrices with shape (1995, 17900) and (660, 17900) (target, bg)\n",
      "I0616 10:08:37.069678 140009190655808 segment.py:1000] Created matrices with shape (1995, 17900) and (660, 17900) (target, bg)\n",
      "2020-06-16 10:08:44,406  SpectraRegion  INFO: DE data for case: [8]\n",
      "I0616 10:08:44.406808 140009190655808 segment.py:1229] DE data for case: [8]\n",
      "2020-06-16 10:08:44,408  SpectraRegion  INFO: DE data for control: [0, 9, 11, 15, 13, 10, 12, 14]\n",
      "I0616 10:08:44.408614 140009190655808 segment.py:1230] DE data for control: [0, 9, 11, 15, 13, 10, 12, 14]\n",
      "2020-06-16 10:08:44,411  SpectraRegion  INFO: DE result key: ((8,), (0, 9, 10, 11, 12, 13, 14, 15))\n",
      "I0616 10:08:44.411079 140009190655808 segment.py:1234] DE result key: ((8,), (0, 9, 10, 11, 12, 13, 14, 15))\n",
      "2020-06-16 10:08:44,437  SpectraRegion  INFO: Processing cluster: 8\n",
      "I0616 10:08:44.437797 140009190655808 segment.py:1252] Processing cluster: 8\n",
      "2020-06-16 10:08:44,493  SpectraRegion  INFO: Processing cluster: 0\n",
      "I0616 10:08:44.493207 140009190655808 segment.py:1265] Processing cluster: 0\n"
     ]
    },
    {
     "name": "stdout",
     "output_type": "stream",
     "text": [
      "Running [8] against [0, 9, 11, 15, 13, 10, 12, 14]\n"
     ]
    },
    {
     "name": "stderr",
     "output_type": "stream",
     "text": [
      "2020-06-16 10:08:50,033  SpectraRegion  INFO: Processing cluster: 9\n",
      "I0616 10:08:50.033612 140009190655808 segment.py:1265] Processing cluster: 9\n",
      "2020-06-16 10:08:51,035  SpectraRegion  INFO: Processing cluster: 11\n",
      "I0616 10:08:51.035621 140009190655808 segment.py:1265] Processing cluster: 11\n",
      "2020-06-16 10:08:51,619  SpectraRegion  INFO: Processing cluster: 15\n",
      "I0616 10:08:51.619575 140009190655808 segment.py:1265] Processing cluster: 15\n",
      "2020-06-16 10:08:52,241  SpectraRegion  INFO: Processing cluster: 13\n",
      "I0616 10:08:52.241501 140009190655808 segment.py:1265] Processing cluster: 13\n",
      "2020-06-16 10:08:52,845  SpectraRegion  INFO: Processing cluster: 10\n",
      "I0616 10:08:52.845167 140009190655808 segment.py:1265] Processing cluster: 10\n",
      "2020-06-16 10:08:53,454  SpectraRegion  INFO: Processing cluster: 12\n",
      "I0616 10:08:53.454303 140009190655808 segment.py:1265] Processing cluster: 12\n",
      "2020-06-16 10:08:53,487  SpectraRegion  INFO: Processing cluster: 14\n",
      "I0616 10:08:53.487832 140009190655808 segment.py:1265] Processing cluster: 14\n",
      "2020-06-16 10:08:53,520  SpectraRegion  INFO: DE DataFrame ready. Shape (17900, 2655)\n",
      "I0616 10:08:53.520090 140009190655808 segment.py:1278] DE DataFrame ready. Shape (17900, 2655)\n",
      "2020-06-16 10:08:53,526  SpectraRegion  INFO: DE Sample DataFrame ready. Shape (2655, 3)\n",
      "I0616 10:08:53.526790 140009190655808 segment.py:1286] DE Sample DataFrame ready. Shape (2655, 3)\n",
      "2020-06-16 10:08:53,536  SpectraRegion  INFO: Performing DE-test: ttest\n",
      "I0616 10:08:53.536900 140009190655808 segment.py:1338] Performing DE-test: ttest\n",
      "2020-06-16 10:08:56,304  SpectraRegion  INFO: DE-test finished. Results available: ((8,), (0, 9, 10, 11, 12, 13, 14, 15))\n",
      "I0616 10:08:56.304955 140009190655808 segment.py:1363] DE-test finished. Results available: ((8,), (0, 9, 10, 11, 12, 13, 14, 15))\n",
      "2020-06-16 10:08:56,330  SpectraRegion  INFO: DE result for case ((8,), (0, 9, 10, 11, 12, 13, 14, 15)) with (17900, 7) results\n",
      "I0616 10:08:56.330011 140009190655808 segment.py:966] DE result for case ((8,), (0, 9, 10, 11, 12, 13, 14, 15)) with (17900, 7) results\n",
      "2020-06-16 10:08:56,331  SpectraRegion  INFO: DE result logFC inversed\n",
      "I0616 10:08:56.331909 140009190655808 segment.py:989] DE result logFC inversed\n",
      "2020-06-16 10:08:56,337  SpectraRegion  INFO: DE result for case ((8,), (0, 9, 10, 11, 12, 13, 14, 15)) with (10, 7) results (filtered)\n",
      "I0616 10:08:56.337360 140009190655808 segment.py:994] DE result for case ((8,), (0, 9, 10, 11, 12, 13, 14, 15)) with (10, 7) results (filtered)\n",
      "2020-06-16 10:08:56,898  SpectraRegion  INFO: Created matrices with shape (94, 17900) and (2561, 17900) (target, bg)\n",
      "I0616 10:08:56.898919 140009190655808 segment.py:1000] Created matrices with shape (94, 17900) and (2561, 17900) (target, bg)\n",
      "2020-06-16 10:08:56,965  SpectraRegion  INFO: DE data for case: [9]\n",
      "I0616 10:08:56.965098 140009190655808 segment.py:1229] DE data for case: [9]\n",
      "2020-06-16 10:08:56,967  SpectraRegion  INFO: DE data for control: [0, 8, 11, 15, 13, 10, 12, 14]\n",
      "I0616 10:08:56.967275 140009190655808 segment.py:1230] DE data for control: [0, 8, 11, 15, 13, 10, 12, 14]\n",
      "2020-06-16 10:08:56,968  SpectraRegion  INFO: DE result key: ((9,), (0, 8, 10, 11, 12, 13, 14, 15))\n",
      "I0616 10:08:56.968773 140009190655808 segment.py:1234] DE result key: ((9,), (0, 8, 10, 11, 12, 13, 14, 15))\n",
      "2020-06-16 10:08:57,000  SpectraRegion  INFO: Processing cluster: 9\n",
      "I0616 10:08:57.000303 140009190655808 segment.py:1252] Processing cluster: 9\n",
      "2020-06-16 10:08:57,068  SpectraRegion  INFO: Processing cluster: 0\n",
      "I0616 10:08:57.068394 140009190655808 segment.py:1265] Processing cluster: 0\n"
     ]
    },
    {
     "name": "stdout",
     "output_type": "stream",
     "text": [
      "Running [9] against [0, 8, 11, 15, 13, 10, 12, 14]\n"
     ]
    },
    {
     "name": "stderr",
     "output_type": "stream",
     "text": [
      "2020-06-16 10:09:03,430  SpectraRegion  INFO: Processing cluster: 8\n",
      "I0616 10:09:03.430050 140009190655808 segment.py:1265] Processing cluster: 8\n",
      "2020-06-16 10:09:03,976  SpectraRegion  INFO: Processing cluster: 11\n",
      "I0616 10:09:03.976510 140009190655808 segment.py:1265] Processing cluster: 11\n",
      "2020-06-16 10:09:04,599  SpectraRegion  INFO: Processing cluster: 15\n",
      "I0616 10:09:04.599050 140009190655808 segment.py:1265] Processing cluster: 15\n",
      "2020-06-16 10:09:05,279  SpectraRegion  INFO: Processing cluster: 13\n",
      "I0616 10:09:05.279444 140009190655808 segment.py:1265] Processing cluster: 13\n",
      "2020-06-16 10:09:05,912  SpectraRegion  INFO: Processing cluster: 10\n",
      "I0616 10:09:05.912777 140009190655808 segment.py:1265] Processing cluster: 10\n",
      "2020-06-16 10:09:06,593  SpectraRegion  INFO: Processing cluster: 12\n",
      "I0616 10:09:06.593979 140009190655808 segment.py:1265] Processing cluster: 12\n",
      "2020-06-16 10:09:06,626  SpectraRegion  INFO: Processing cluster: 14\n",
      "I0616 10:09:06.626789 140009190655808 segment.py:1265] Processing cluster: 14\n",
      "2020-06-16 10:09:06,646  SpectraRegion  INFO: DE DataFrame ready. Shape (17900, 2655)\n",
      "I0616 10:09:06.646868 140009190655808 segment.py:1278] DE DataFrame ready. Shape (17900, 2655)\n",
      "2020-06-16 10:09:06,654  SpectraRegion  INFO: DE Sample DataFrame ready. Shape (2655, 3)\n",
      "I0616 10:09:06.654316 140009190655808 segment.py:1286] DE Sample DataFrame ready. Shape (2655, 3)\n",
      "2020-06-16 10:09:06,663  SpectraRegion  INFO: Performing DE-test: ttest\n",
      "I0616 10:09:06.663022 140009190655808 segment.py:1338] Performing DE-test: ttest\n",
      "2020-06-16 10:09:09,927  SpectraRegion  INFO: DE-test finished. Results available: ((9,), (0, 8, 10, 11, 12, 13, 14, 15))\n",
      "I0616 10:09:09.927141 140009190655808 segment.py:1363] DE-test finished. Results available: ((9,), (0, 8, 10, 11, 12, 13, 14, 15))\n",
      "2020-06-16 10:09:09,948  SpectraRegion  INFO: DE result for case ((9,), (0, 8, 10, 11, 12, 13, 14, 15)) with (17900, 7) results\n",
      "I0616 10:09:09.948725 140009190655808 segment.py:966] DE result for case ((9,), (0, 8, 10, 11, 12, 13, 14, 15)) with (17900, 7) results\n",
      "2020-06-16 10:09:09,950  SpectraRegion  INFO: DE result logFC inversed\n",
      "I0616 10:09:09.950869 140009190655808 segment.py:989] DE result logFC inversed\n",
      "2020-06-16 10:09:09,956  SpectraRegion  INFO: DE result for case ((9,), (0, 8, 10, 11, 12, 13, 14, 15)) with (293, 7) results (filtered)\n",
      "I0616 10:09:09.956570 140009190655808 segment.py:994] DE result for case ((9,), (0, 8, 10, 11, 12, 13, 14, 15)) with (293, 7) results (filtered)\n",
      "2020-06-16 10:09:10,480  SpectraRegion  INFO: Created matrices with shape (120, 17900) and (2535, 17900) (target, bg)\n",
      "I0616 10:09:10.480397 140009190655808 segment.py:1000] Created matrices with shape (120, 17900) and (2535, 17900) (target, bg)\n",
      "2020-06-16 10:09:12,004  SpectraRegion  INFO: DE data for case: [11]\n",
      "I0616 10:09:12.004578 140009190655808 segment.py:1229] DE data for case: [11]\n",
      "2020-06-16 10:09:12,006  SpectraRegion  INFO: DE data for control: [0, 8, 9, 15, 13, 10, 12, 14]\n",
      "I0616 10:09:12.006400 140009190655808 segment.py:1230] DE data for control: [0, 8, 9, 15, 13, 10, 12, 14]\n",
      "2020-06-16 10:09:12,009  SpectraRegion  INFO: DE result key: ((11,), (0, 8, 9, 10, 12, 13, 14, 15))\n",
      "I0616 10:09:12.009703 140009190655808 segment.py:1234] DE result key: ((11,), (0, 8, 9, 10, 12, 13, 14, 15))\n",
      "2020-06-16 10:09:12,041  SpectraRegion  INFO: Processing cluster: 11\n",
      "I0616 10:09:12.041144 140009190655808 segment.py:1252] Processing cluster: 11\n",
      "2020-06-16 10:09:12,107  SpectraRegion  INFO: Processing cluster: 0\n",
      "I0616 10:09:12.107109 140009190655808 segment.py:1265] Processing cluster: 0\n"
     ]
    },
    {
     "name": "stdout",
     "output_type": "stream",
     "text": [
      "Running [11] against [0, 8, 9, 15, 13, 10, 12, 14]\n"
     ]
    },
    {
     "name": "stderr",
     "output_type": "stream",
     "text": [
      "2020-06-16 10:09:18,048  SpectraRegion  INFO: Processing cluster: 8\n",
      "I0616 10:09:18.048694 140009190655808 segment.py:1265] Processing cluster: 8\n",
      "2020-06-16 10:09:18,605  SpectraRegion  INFO: Processing cluster: 9\n",
      "I0616 10:09:18.605276 140009190655808 segment.py:1265] Processing cluster: 9\n",
      "2020-06-16 10:09:19,172  SpectraRegion  INFO: Processing cluster: 15\n",
      "I0616 10:09:19.172744 140009190655808 segment.py:1265] Processing cluster: 15\n",
      "2020-06-16 10:09:19,770  SpectraRegion  INFO: Processing cluster: 13\n",
      "I0616 10:09:19.770067 140009190655808 segment.py:1265] Processing cluster: 13\n",
      "2020-06-16 10:09:20,339  SpectraRegion  INFO: Processing cluster: 10\n",
      "I0616 10:09:20.339926 140009190655808 segment.py:1265] Processing cluster: 10\n",
      "2020-06-16 10:09:20,933  SpectraRegion  INFO: Processing cluster: 12\n",
      "I0616 10:09:20.933850 140009190655808 segment.py:1265] Processing cluster: 12\n",
      "2020-06-16 10:09:20,961  SpectraRegion  INFO: Processing cluster: 14\n",
      "I0616 10:09:20.961413 140009190655808 segment.py:1265] Processing cluster: 14\n",
      "2020-06-16 10:09:20,982  SpectraRegion  INFO: DE DataFrame ready. Shape (17900, 2655)\n",
      "I0616 10:09:20.982212 140009190655808 segment.py:1278] DE DataFrame ready. Shape (17900, 2655)\n",
      "2020-06-16 10:09:20,987  SpectraRegion  INFO: DE Sample DataFrame ready. Shape (2655, 3)\n",
      "I0616 10:09:20.987395 140009190655808 segment.py:1286] DE Sample DataFrame ready. Shape (2655, 3)\n",
      "2020-06-16 10:09:20,996  SpectraRegion  INFO: Performing DE-test: ttest\n",
      "I0616 10:09:20.996790 140009190655808 segment.py:1338] Performing DE-test: ttest\n",
      "2020-06-16 10:09:23,697  SpectraRegion  INFO: DE-test finished. Results available: ((11,), (0, 8, 9, 10, 12, 13, 14, 15))\n",
      "I0616 10:09:23.697888 140009190655808 segment.py:1363] DE-test finished. Results available: ((11,), (0, 8, 9, 10, 12, 13, 14, 15))\n",
      "2020-06-16 10:09:23,721  SpectraRegion  INFO: DE result for case ((11,), (0, 8, 9, 10, 12, 13, 14, 15)) with (17900, 7) results\n",
      "I0616 10:09:23.721722 140009190655808 segment.py:966] DE result for case ((11,), (0, 8, 9, 10, 12, 13, 14, 15)) with (17900, 7) results\n",
      "2020-06-16 10:09:23,723  SpectraRegion  INFO: DE result logFC inversed\n",
      "I0616 10:09:23.723085 140009190655808 segment.py:989] DE result logFC inversed\n",
      "2020-06-16 10:09:23,729  SpectraRegion  INFO: DE result for case ((11,), (0, 8, 9, 10, 12, 13, 14, 15)) with (1923, 7) results (filtered)\n",
      "I0616 10:09:23.729785 140009190655808 segment.py:994] DE result for case ((11,), (0, 8, 9, 10, 12, 13, 14, 15)) with (1923, 7) results (filtered)\n",
      "2020-06-16 10:09:24,262  SpectraRegion  INFO: Created matrices with shape (119, 17900) and (2536, 17900) (target, bg)\n",
      "I0616 10:09:24.262449 140009190655808 segment.py:1000] Created matrices with shape (119, 17900) and (2536, 17900) (target, bg)\n",
      "2020-06-16 10:09:36,126  SpectraRegion  INFO: DE data for case: [15]\n",
      "I0616 10:09:36.126642 140009190655808 segment.py:1229] DE data for case: [15]\n",
      "2020-06-16 10:09:36,128  SpectraRegion  INFO: DE data for control: [0, 8, 9, 11, 13, 10, 12, 14]\n",
      "I0616 10:09:36.128394 140009190655808 segment.py:1230] DE data for control: [0, 8, 9, 11, 13, 10, 12, 14]\n",
      "2020-06-16 10:09:36,130  SpectraRegion  INFO: DE result key: ((15,), (0, 8, 9, 10, 11, 12, 13, 14))\n",
      "I0616 10:09:36.130048 140009190655808 segment.py:1234] DE result key: ((15,), (0, 8, 9, 10, 11, 12, 13, 14))\n",
      "2020-06-16 10:09:36,159  SpectraRegion  INFO: Processing cluster: 15\n",
      "I0616 10:09:36.159074 140009190655808 segment.py:1252] Processing cluster: 15\n",
      "2020-06-16 10:09:36,238  SpectraRegion  INFO: Processing cluster: 0\n",
      "I0616 10:09:36.238498 140009190655808 segment.py:1265] Processing cluster: 0\n"
     ]
    },
    {
     "name": "stdout",
     "output_type": "stream",
     "text": [
      "Running [15] against [0, 8, 9, 11, 13, 10, 12, 14]\n"
     ]
    },
    {
     "name": "stderr",
     "output_type": "stream",
     "text": [
      "2020-06-16 10:09:42,754  SpectraRegion  INFO: Processing cluster: 8\n",
      "I0616 10:09:42.754173 140009190655808 segment.py:1265] Processing cluster: 8\n",
      "2020-06-16 10:09:43,304  SpectraRegion  INFO: Processing cluster: 9\n",
      "I0616 10:09:43.304804 140009190655808 segment.py:1265] Processing cluster: 9\n",
      "2020-06-16 10:09:43,869  SpectraRegion  INFO: Processing cluster: 11\n",
      "I0616 10:09:43.869746 140009190655808 segment.py:1265] Processing cluster: 11\n",
      "2020-06-16 10:09:44,453  SpectraRegion  INFO: Processing cluster: 13\n",
      "I0616 10:09:44.453898 140009190655808 segment.py:1265] Processing cluster: 13\n",
      "2020-06-16 10:09:45,024  SpectraRegion  INFO: Processing cluster: 10\n",
      "I0616 10:09:45.024204 140009190655808 segment.py:1265] Processing cluster: 10\n",
      "2020-06-16 10:09:45,632  SpectraRegion  INFO: Processing cluster: 12\n",
      "I0616 10:09:45.632972 140009190655808 segment.py:1265] Processing cluster: 12\n",
      "2020-06-16 10:09:45,659  SpectraRegion  INFO: Processing cluster: 14\n",
      "I0616 10:09:45.659852 140009190655808 segment.py:1265] Processing cluster: 14\n",
      "2020-06-16 10:09:45,684  SpectraRegion  INFO: DE DataFrame ready. Shape (17900, 2655)\n",
      "I0616 10:09:45.684347 140009190655808 segment.py:1278] DE DataFrame ready. Shape (17900, 2655)\n",
      "2020-06-16 10:09:45,691  SpectraRegion  INFO: DE Sample DataFrame ready. Shape (2655, 3)\n",
      "I0616 10:09:45.691179 140009190655808 segment.py:1286] DE Sample DataFrame ready. Shape (2655, 3)\n",
      "2020-06-16 10:09:45,705  SpectraRegion  INFO: Performing DE-test: ttest\n",
      "I0616 10:09:45.705091 140009190655808 segment.py:1338] Performing DE-test: ttest\n",
      "2020-06-16 10:09:48,734  SpectraRegion  INFO: DE-test finished. Results available: ((15,), (0, 8, 9, 10, 11, 12, 13, 14))\n",
      "I0616 10:09:48.734127 140009190655808 segment.py:1363] DE-test finished. Results available: ((15,), (0, 8, 9, 10, 11, 12, 13, 14))\n",
      "2020-06-16 10:09:48,763  SpectraRegion  INFO: DE result for case ((15,), (0, 8, 9, 10, 11, 12, 13, 14)) with (17900, 7) results\n",
      "I0616 10:09:48.763999 140009190655808 segment.py:966] DE result for case ((15,), (0, 8, 9, 10, 11, 12, 13, 14)) with (17900, 7) results\n",
      "2020-06-16 10:09:48,765  SpectraRegion  INFO: DE result logFC inversed\n",
      "I0616 10:09:48.765862 140009190655808 segment.py:989] DE result logFC inversed\n",
      "2020-06-16 10:09:48,773  SpectraRegion  INFO: DE result for case ((15,), (0, 8, 9, 10, 11, 12, 13, 14)) with (2082, 7) results (filtered)\n",
      "I0616 10:09:48.773493 140009190655808 segment.py:994] DE result for case ((15,), (0, 8, 9, 10, 11, 12, 13, 14)) with (2082, 7) results (filtered)\n",
      "2020-06-16 10:09:49,347  SpectraRegion  INFO: Created matrices with shape (143, 17900) and (2512, 17900) (target, bg)\n",
      "I0616 10:09:49.347714 140009190655808 segment.py:1000] Created matrices with shape (143, 17900) and (2512, 17900) (target, bg)\n",
      "2020-06-16 10:10:04,681  SpectraRegion  INFO: DE data for case: [13]\n",
      "I0616 10:10:04.681052 140009190655808 segment.py:1229] DE data for case: [13]\n",
      "2020-06-16 10:10:04,682  SpectraRegion  INFO: DE data for control: [0, 8, 9, 11, 15, 10, 12, 14]\n",
      "I0616 10:10:04.682934 140009190655808 segment.py:1230] DE data for control: [0, 8, 9, 11, 15, 10, 12, 14]\n",
      "2020-06-16 10:10:04,685  SpectraRegion  INFO: DE result key: ((13,), (0, 8, 9, 10, 11, 12, 14, 15))\n",
      "I0616 10:10:04.685689 140009190655808 segment.py:1234] DE result key: ((13,), (0, 8, 9, 10, 11, 12, 14, 15))\n",
      "2020-06-16 10:10:04,719  SpectraRegion  INFO: Processing cluster: 13\n",
      "I0616 10:10:04.719145 140009190655808 segment.py:1252] Processing cluster: 13\n",
      "2020-06-16 10:10:04,765  SpectraRegion  INFO: Processing cluster: 0\n",
      "I0616 10:10:04.765990 140009190655808 segment.py:1265] Processing cluster: 0\n"
     ]
    },
    {
     "name": "stdout",
     "output_type": "stream",
     "text": [
      "Running [13] against [0, 8, 9, 11, 15, 10, 12, 14]\n"
     ]
    },
    {
     "name": "stderr",
     "output_type": "stream",
     "text": [
      "2020-06-16 10:10:10,249  SpectraRegion  INFO: Processing cluster: 8\n",
      "I0616 10:10:10.249067 140009190655808 segment.py:1265] Processing cluster: 8\n",
      "2020-06-16 10:10:10,750  SpectraRegion  INFO: Processing cluster: 9\n",
      "I0616 10:10:10.750910 140009190655808 segment.py:1265] Processing cluster: 9\n",
      "2020-06-16 10:10:11,290  SpectraRegion  INFO: Processing cluster: 11\n",
      "I0616 10:10:11.290780 140009190655808 segment.py:1265] Processing cluster: 11\n",
      "2020-06-16 10:10:11,860  SpectraRegion  INFO: Processing cluster: 15\n",
      "I0616 10:10:11.860034 140009190655808 segment.py:1265] Processing cluster: 15\n",
      "2020-06-16 10:10:12,990  SpectraRegion  INFO: Processing cluster: 10\n",
      "I0616 10:10:12.990932 140009190655808 segment.py:1265] Processing cluster: 10\n",
      "2020-06-16 10:10:13,591  SpectraRegion  INFO: Processing cluster: 12\n",
      "I0616 10:10:13.591074 140009190655808 segment.py:1265] Processing cluster: 12\n",
      "2020-06-16 10:10:13,615  SpectraRegion  INFO: Processing cluster: 14\n",
      "I0616 10:10:13.615975 140009190655808 segment.py:1265] Processing cluster: 14\n",
      "2020-06-16 10:10:13,635  SpectraRegion  INFO: DE DataFrame ready. Shape (17900, 2655)\n",
      "I0616 10:10:13.635287 140009190655808 segment.py:1278] DE DataFrame ready. Shape (17900, 2655)\n",
      "2020-06-16 10:10:13,644  SpectraRegion  INFO: DE Sample DataFrame ready. Shape (2655, 3)\n",
      "I0616 10:10:13.644402 140009190655808 segment.py:1286] DE Sample DataFrame ready. Shape (2655, 3)\n",
      "2020-06-16 10:10:13,652  SpectraRegion  INFO: Performing DE-test: ttest\n",
      "I0616 10:10:13.652807 140009190655808 segment.py:1338] Performing DE-test: ttest\n",
      "2020-06-16 10:10:16,412  SpectraRegion  INFO: DE-test finished. Results available: ((13,), (0, 8, 9, 10, 11, 12, 14, 15))\n",
      "I0616 10:10:16.412355 140009190655808 segment.py:1363] DE-test finished. Results available: ((13,), (0, 8, 9, 10, 11, 12, 14, 15))\n",
      "2020-06-16 10:10:16,435  SpectraRegion  INFO: DE result for case ((13,), (0, 8, 9, 10, 11, 12, 14, 15)) with (17900, 7) results\n",
      "I0616 10:10:16.435638 140009190655808 segment.py:966] DE result for case ((13,), (0, 8, 9, 10, 11, 12, 14, 15)) with (17900, 7) results\n",
      "2020-06-16 10:10:16,438  SpectraRegion  INFO: DE result logFC inversed\n",
      "I0616 10:10:16.438514 140009190655808 segment.py:989] DE result logFC inversed\n",
      "2020-06-16 10:10:16,444  SpectraRegion  INFO: DE result for case ((13,), (0, 8, 9, 10, 11, 12, 14, 15)) with (1662, 7) results (filtered)\n",
      "I0616 10:10:16.444975 140009190655808 segment.py:994] DE result for case ((13,), (0, 8, 9, 10, 11, 12, 14, 15)) with (1662, 7) results (filtered)\n",
      "2020-06-16 10:10:16,992  SpectraRegion  INFO: Created matrices with shape (70, 17900) and (2585, 17900) (target, bg)\n",
      "I0616 10:10:16.992728 140009190655808 segment.py:1000] Created matrices with shape (70, 17900) and (2585, 17900) (target, bg)\n",
      "2020-06-16 10:10:25,866  SpectraRegion  INFO: DE data for case: [10]\n",
      "I0616 10:10:25.866004 140009190655808 segment.py:1229] DE data for case: [10]\n",
      "2020-06-16 10:10:25,868  SpectraRegion  INFO: DE data for control: [0, 8, 9, 11, 15, 13, 12, 14]\n",
      "I0616 10:10:25.868952 140009190655808 segment.py:1230] DE data for control: [0, 8, 9, 11, 15, 13, 12, 14]\n",
      "2020-06-16 10:10:25,871  SpectraRegion  INFO: DE result key: ((10,), (0, 8, 9, 11, 12, 13, 14, 15))\n",
      "I0616 10:10:25.871854 140009190655808 segment.py:1234] DE result key: ((10,), (0, 8, 9, 11, 12, 13, 14, 15))\n",
      "2020-06-16 10:10:25,910  SpectraRegion  INFO: Processing cluster: 10\n",
      "I0616 10:10:25.910926 140009190655808 segment.py:1252] Processing cluster: 10\n",
      "2020-06-16 10:10:25,947  SpectraRegion  INFO: Processing cluster: 0\n",
      "I0616 10:10:25.947715 140009190655808 segment.py:1265] Processing cluster: 0\n"
     ]
    },
    {
     "name": "stdout",
     "output_type": "stream",
     "text": [
      "Running [10] against [0, 8, 9, 11, 15, 13, 12, 14]\n"
     ]
    },
    {
     "name": "stderr",
     "output_type": "stream",
     "text": [
      "2020-06-16 10:10:31,430  SpectraRegion  INFO: Processing cluster: 8\n",
      "I0616 10:10:31.430371 140009190655808 segment.py:1265] Processing cluster: 8\n",
      "2020-06-16 10:10:31,932  SpectraRegion  INFO: Processing cluster: 9\n",
      "I0616 10:10:31.932838 140009190655808 segment.py:1265] Processing cluster: 9\n",
      "2020-06-16 10:10:32,470  SpectraRegion  INFO: Processing cluster: 11\n",
      "I0616 10:10:32.470901 140009190655808 segment.py:1265] Processing cluster: 11\n",
      "2020-06-16 10:10:33,024  SpectraRegion  INFO: Processing cluster: 15\n",
      "I0616 10:10:33.024459 140009190655808 segment.py:1265] Processing cluster: 15\n",
      "2020-06-16 10:10:34,132  SpectraRegion  INFO: Processing cluster: 13\n",
      "I0616 10:10:34.132410 140009190655808 segment.py:1265] Processing cluster: 13\n",
      "2020-06-16 10:10:34,716  SpectraRegion  INFO: Processing cluster: 12\n",
      "I0616 10:10:34.716607 140009190655808 segment.py:1265] Processing cluster: 12\n",
      "2020-06-16 10:10:34,741  SpectraRegion  INFO: Processing cluster: 14\n",
      "I0616 10:10:34.741470 140009190655808 segment.py:1265] Processing cluster: 14\n",
      "2020-06-16 10:10:34,760  SpectraRegion  INFO: DE DataFrame ready. Shape (17900, 2655)\n",
      "I0616 10:10:34.760499 140009190655808 segment.py:1278] DE DataFrame ready. Shape (17900, 2655)\n",
      "2020-06-16 10:10:34,766  SpectraRegion  INFO: DE Sample DataFrame ready. Shape (2655, 3)\n",
      "I0616 10:10:34.766585 140009190655808 segment.py:1286] DE Sample DataFrame ready. Shape (2655, 3)\n",
      "2020-06-16 10:10:34,778  SpectraRegion  INFO: Performing DE-test: ttest\n",
      "I0616 10:10:34.778350 140009190655808 segment.py:1338] Performing DE-test: ttest\n",
      "2020-06-16 10:10:37,474  SpectraRegion  INFO: DE-test finished. Results available: ((10,), (0, 8, 9, 11, 12, 13, 14, 15))\n",
      "I0616 10:10:37.474800 140009190655808 segment.py:1363] DE-test finished. Results available: ((10,), (0, 8, 9, 11, 12, 13, 14, 15))\n",
      "2020-06-16 10:10:37,499  SpectraRegion  INFO: DE result for case ((10,), (0, 8, 9, 11, 12, 13, 14, 15)) with (17900, 7) results\n",
      "I0616 10:10:37.499184 140009190655808 segment.py:966] DE result for case ((10,), (0, 8, 9, 11, 12, 13, 14, 15)) with (17900, 7) results\n",
      "2020-06-16 10:10:37,500  SpectraRegion  INFO: DE result logFC inversed\n",
      "I0616 10:10:37.500997 140009190655808 segment.py:989] DE result logFC inversed\n",
      "2020-06-16 10:10:37,507  SpectraRegion  INFO: DE result for case ((10,), (0, 8, 9, 11, 12, 13, 14, 15)) with (1800, 7) results (filtered)\n",
      "I0616 10:10:37.507744 140009190655808 segment.py:994] DE result for case ((10,), (0, 8, 9, 11, 12, 13, 14, 15)) with (1800, 7) results (filtered)\n",
      "2020-06-16 10:10:38,034  SpectraRegion  INFO: Created matrices with shape (65, 17900) and (2590, 17900) (target, bg)\n",
      "I0616 10:10:38.034811 140009190655808 segment.py:1000] Created matrices with shape (65, 17900) and (2590, 17900) (target, bg)\n",
      "2020-06-16 10:10:45,855  SpectraRegion  INFO: DE data for case: [12]\n",
      "I0616 10:10:45.855233 140009190655808 segment.py:1229] DE data for case: [12]\n",
      "2020-06-16 10:10:45,857  SpectraRegion  INFO: DE data for control: [0, 8, 9, 11, 15, 13, 10, 14]\n",
      "I0616 10:10:45.857100 140009190655808 segment.py:1230] DE data for control: [0, 8, 9, 11, 15, 13, 10, 14]\n",
      "2020-06-16 10:10:45,859  SpectraRegion  INFO: DE result key: ((12,), (0, 8, 9, 10, 11, 13, 14, 15))\n",
      "I0616 10:10:45.859025 140009190655808 segment.py:1234] DE result key: ((12,), (0, 8, 9, 10, 11, 13, 14, 15))\n",
      "2020-06-16 10:10:45,889  SpectraRegion  INFO: Processing cluster: 12\n",
      "I0616 10:10:45.889497 140009190655808 segment.py:1252] Processing cluster: 12\n",
      "2020-06-16 10:10:45,911  SpectraRegion  INFO: Processing cluster: 0\n",
      "I0616 10:10:45.911139 140009190655808 segment.py:1265] Processing cluster: 0\n"
     ]
    },
    {
     "name": "stdout",
     "output_type": "stream",
     "text": [
      "Running [12] against [0, 8, 9, 11, 15, 13, 10, 14]\n"
     ]
    },
    {
     "name": "stderr",
     "output_type": "stream",
     "text": [
      "2020-06-16 10:10:51,344  SpectraRegion  INFO: Processing cluster: 8\n",
      "I0616 10:10:51.344087 140009190655808 segment.py:1265] Processing cluster: 8\n",
      "2020-06-16 10:10:51,843  SpectraRegion  INFO: Processing cluster: 9\n",
      "I0616 10:10:51.843713 140009190655808 segment.py:1265] Processing cluster: 9\n",
      "2020-06-16 10:10:52,379  SpectraRegion  INFO: Processing cluster: 11\n",
      "I0616 10:10:52.379660 140009190655808 segment.py:1265] Processing cluster: 11\n",
      "2020-06-16 10:10:52,949  SpectraRegion  INFO: Processing cluster: 15\n",
      "I0616 10:10:52.949800 140009190655808 segment.py:1265] Processing cluster: 15\n",
      "2020-06-16 10:10:53,548  SpectraRegion  INFO: Processing cluster: 13\n",
      "I0616 10:10:53.548044 140009190655808 segment.py:1265] Processing cluster: 13\n",
      "2020-06-16 10:10:54,116  SpectraRegion  INFO: Processing cluster: 10\n",
      "I0616 10:10:54.116464 140009190655808 segment.py:1265] Processing cluster: 10\n",
      "2020-06-16 10:10:54,705  SpectraRegion  INFO: Processing cluster: 14\n",
      "I0616 10:10:54.705479 140009190655808 segment.py:1265] Processing cluster: 14\n",
      "2020-06-16 10:10:54,722  SpectraRegion  INFO: DE DataFrame ready. Shape (17900, 2655)\n",
      "I0616 10:10:54.722894 140009190655808 segment.py:1278] DE DataFrame ready. Shape (17900, 2655)\n",
      "2020-06-16 10:10:54,728  SpectraRegion  INFO: DE Sample DataFrame ready. Shape (2655, 3)\n",
      "I0616 10:10:54.728325 140009190655808 segment.py:1286] DE Sample DataFrame ready. Shape (2655, 3)\n",
      "2020-06-16 10:10:54,737  SpectraRegion  INFO: Performing DE-test: ttest\n",
      "I0616 10:10:54.737723 140009190655808 segment.py:1338] Performing DE-test: ttest\n",
      "2020-06-16 10:10:57,602  SpectraRegion  INFO: DE-test finished. Results available: ((12,), (0, 8, 9, 10, 11, 13, 14, 15))\n",
      "I0616 10:10:57.602675 140009190655808 segment.py:1363] DE-test finished. Results available: ((12,), (0, 8, 9, 10, 11, 13, 14, 15))\n",
      "2020-06-16 10:10:57,625  SpectraRegion  INFO: DE result for case ((12,), (0, 8, 9, 10, 11, 13, 14, 15)) with (17900, 7) results\n",
      "I0616 10:10:57.625362 140009190655808 segment.py:966] DE result for case ((12,), (0, 8, 9, 10, 11, 13, 14, 15)) with (17900, 7) results\n",
      "2020-06-16 10:10:57,626  SpectraRegion  INFO: DE result logFC inversed\n",
      "I0616 10:10:57.626892 140009190655808 segment.py:989] DE result logFC inversed\n",
      "2020-06-16 10:10:57,634  SpectraRegion  INFO: DE result for case ((12,), (0, 8, 9, 10, 11, 13, 14, 15)) with (2027, 7) results (filtered)\n",
      "I0616 10:10:57.634364 140009190655808 segment.py:994] DE result for case ((12,), (0, 8, 9, 10, 11, 13, 14, 15)) with (2027, 7) results (filtered)\n",
      "2020-06-16 10:10:58,168  SpectraRegion  INFO: Created matrices with shape (27, 17900) and (2628, 17900) (target, bg)\n",
      "I0616 10:10:58.168395 140009190655808 segment.py:1000] Created matrices with shape (27, 17900) and (2628, 17900) (target, bg)\n",
      "2020-06-16 10:11:09,657  SpectraRegion  INFO: DE data for case: [14]\n",
      "I0616 10:11:09.657327 140009190655808 segment.py:1229] DE data for case: [14]\n",
      "2020-06-16 10:11:09,659  SpectraRegion  INFO: DE data for control: [0, 8, 9, 11, 15, 13, 10, 12]\n",
      "I0616 10:11:09.659167 140009190655808 segment.py:1230] DE data for control: [0, 8, 9, 11, 15, 13, 10, 12]\n",
      "2020-06-16 10:11:09,660  SpectraRegion  INFO: DE result key: ((14,), (0, 8, 9, 10, 11, 12, 13, 15))\n",
      "I0616 10:11:09.660925 140009190655808 segment.py:1234] DE result key: ((14,), (0, 8, 9, 10, 11, 12, 13, 15))\n",
      "2020-06-16 10:11:09,688  SpectraRegion  INFO: Processing cluster: 14\n",
      "I0616 10:11:09.688415 140009190655808 segment.py:1252] Processing cluster: 14\n",
      "2020-06-16 10:11:09,704  SpectraRegion  INFO: Processing cluster: 0\n",
      "I0616 10:11:09.704090 140009190655808 segment.py:1265] Processing cluster: 0\n"
     ]
    },
    {
     "name": "stdout",
     "output_type": "stream",
     "text": [
      "Running [14] against [0, 8, 9, 11, 15, 13, 10, 12]\n"
     ]
    },
    {
     "name": "stderr",
     "output_type": "stream",
     "text": [
      "2020-06-16 10:11:15,162  SpectraRegion  INFO: Processing cluster: 8\n",
      "I0616 10:11:15.162851 140009190655808 segment.py:1265] Processing cluster: 8\n",
      "2020-06-16 10:11:15,666  SpectraRegion  INFO: Processing cluster: 9\n",
      "I0616 10:11:15.666396 140009190655808 segment.py:1265] Processing cluster: 9\n",
      "2020-06-16 10:11:16,208  SpectraRegion  INFO: Processing cluster: 11\n",
      "I0616 10:11:16.208869 140009190655808 segment.py:1265] Processing cluster: 11\n",
      "2020-06-16 10:11:16,797  SpectraRegion  INFO: Processing cluster: 15\n",
      "I0616 10:11:16.797561 140009190655808 segment.py:1265] Processing cluster: 15\n",
      "2020-06-16 10:11:17,384  SpectraRegion  INFO: Processing cluster: 13\n",
      "I0616 10:11:17.384129 140009190655808 segment.py:1265] Processing cluster: 13\n",
      "2020-06-16 10:11:17,950  SpectraRegion  INFO: Processing cluster: 10\n",
      "I0616 10:11:17.950065 140009190655808 segment.py:1265] Processing cluster: 10\n",
      "2020-06-16 10:11:18,532  SpectraRegion  INFO: Processing cluster: 12\n",
      "I0616 10:11:18.532749 140009190655808 segment.py:1265] Processing cluster: 12\n",
      "2020-06-16 10:11:18,558  SpectraRegion  INFO: DE DataFrame ready. Shape (17900, 2655)\n",
      "I0616 10:11:18.558240 140009190655808 segment.py:1278] DE DataFrame ready. Shape (17900, 2655)\n",
      "2020-06-16 10:11:18,563  SpectraRegion  INFO: DE Sample DataFrame ready. Shape (2655, 3)\n",
      "I0616 10:11:18.563117 140009190655808 segment.py:1286] DE Sample DataFrame ready. Shape (2655, 3)\n",
      "2020-06-16 10:11:18,571  SpectraRegion  INFO: Performing DE-test: ttest\n",
      "I0616 10:11:18.571837 140009190655808 segment.py:1338] Performing DE-test: ttest\n",
      "2020-06-16 10:11:21,306  SpectraRegion  INFO: DE-test finished. Results available: ((14,), (0, 8, 9, 10, 11, 12, 13, 15))\n",
      "I0616 10:11:21.306287 140009190655808 segment.py:1363] DE-test finished. Results available: ((14,), (0, 8, 9, 10, 11, 12, 13, 15))\n",
      "2020-06-16 10:11:21,330  SpectraRegion  INFO: DE result for case ((14,), (0, 8, 9, 10, 11, 12, 13, 15)) with (17900, 7) results\n",
      "I0616 10:11:21.330581 140009190655808 segment.py:966] DE result for case ((14,), (0, 8, 9, 10, 11, 12, 13, 15)) with (17900, 7) results\n",
      "2020-06-16 10:11:21,331  SpectraRegion  INFO: DE result logFC inversed\n",
      "I0616 10:11:21.331966 140009190655808 segment.py:989] DE result logFC inversed\n",
      "2020-06-16 10:11:21,338  SpectraRegion  INFO: DE result for case ((14,), (0, 8, 9, 10, 11, 12, 13, 15)) with (3000, 7) results (filtered)\n",
      "I0616 10:11:21.338235 140009190655808 segment.py:994] DE result for case ((14,), (0, 8, 9, 10, 11, 12, 13, 15)) with (3000, 7) results (filtered)\n",
      "2020-06-16 10:11:21,866  SpectraRegion  INFO: Created matrices with shape (22, 17900) and (2633, 17900) (target, bg)\n",
      "I0616 10:11:21.866271 140009190655808 segment.py:1000] Created matrices with shape (22, 17900) and (2633, 17900) (target, bg)\n"
     ]
    }
   ],
   "source": [
    "mgenes_bg = spec.find_all_markers(pw, includeBackground=True, replaceExisting=False, use_methods = [\"ttest\"])"
   ]
  },
  {
   "cell_type": "code",
   "execution_count": 33,
   "metadata": {},
   "outputs": [],
   "source": [
    "markerGenesBG = mgenes_bg[\"ttest\"]\n",
    "markerGenesBG.to_csv(\"marker_genes_bg.tsv\", sep=\"\\t\", index=False)\n",
    "markerGenesBGEmpire = mgenes_bg[\"empire\"]\n",
    "markerGenesBGEmpire.to_csv(\"marker_genes_bg_empire.tsv\", sep=\"\\t\", index=False)"
   ]
  },
  {
   "cell_type": "code",
   "execution_count": 34,
   "metadata": {},
   "outputs": [
    {
     "name": "stdout",
     "output_type": "stream",
     "text": [
      "Number of unique, differentially detected proteins (from masses): 329\n"
     ]
    }
   ],
   "source": [
    "print(\"Number of unique, differentially detected proteins (from masses): {}\".format(len(set(markerGenes[\"gene\"]))))"
   ]
  },
  {
   "cell_type": "code",
   "execution_count": 36,
   "metadata": {},
   "outputs": [
    {
     "name": "stdout",
     "output_type": "stream",
     "text": [
      "Number of unique, differentially detected proteins (from masses): 448\n"
     ]
    }
   ],
   "source": [
    "print(\"Number of unique, differentially detected proteins (from masses): {}\".format(len(set(markerGenesBG[\"gene\"]))))"
   ]
  },
  {
   "cell_type": "code",
   "execution_count": 40,
   "metadata": {},
   "outputs": [
    {
     "data": {
      "text/plain": [
       "[('empire', ((8,), (9, 10, 11, 12, 13, 14, 15))),\n",
       " ('ttest', ((8,), (9, 10, 11, 12, 13, 14, 15))),\n",
       " ('ttest', ((8,), (0, 9, 10, 11, 12, 13, 14, 15)))]"
      ]
     },
     "execution_count": 40,
     "metadata": {},
     "output_type": "execute_result"
    }
   ],
   "source": [
    "resClus8 = spec.find_de_results( (8,) )\n",
    "resClus8"
   ]
  },
  {
   "cell_type": "code",
   "execution_count": 47,
   "metadata": {},
   "outputs": [
    {
     "name": "stderr",
     "output_type": "stream",
     "text": [
      "2020-06-16 10:19:27,575  SpectraRegion  INFO: DE result for case ((8,), (9, 10, 11, 12, 13, 14, 15)) with (17900, 7) results\n",
      "I0616 10:19:27.575583 140009190655808 segment.py:966] DE result for case ((8,), (9, 10, 11, 12, 13, 14, 15)) with (17900, 7) results\n",
      "2020-06-16 10:19:27,583  SpectraRegion  INFO: DE result for case ((8,), (9, 10, 11, 12, 13, 14, 15)) with (761, 7) results (filtered)\n",
      "I0616 10:19:27.583134 140009190655808 segment.py:994] DE result for case ((8,), (9, 10, 11, 12, 13, 14, 15)) with (761, 7) results (filtered)\n",
      "2020-06-16 10:19:27,764  SpectraRegion  INFO: Created matrices with shape (94, 17900) and (566, 17900) (target, bg)\n",
      "I0616 10:19:27.764873 140009190655808 segment.py:1000] Created matrices with shape (94, 17900) and (566, 17900) (target, bg)\n"
     ]
    }
   ],
   "source": [
    "deResDFs = spec.get_de_results( resClus8[1][1] )\n",
    "deRes = spec.deres_to_df(deResDFs[\"ttest\"], resClus8[1][1], pw)\n"
   ]
  },
  {
   "cell_type": "code",
   "execution_count": 48,
   "metadata": {},
   "outputs": [],
   "source": [
    "deRes.to_csv(\"region1_cluster8.tsv\", sep=\"\\t\")"
   ]
  },
  {
   "cell_type": "markdown",
   "metadata": {},
   "source": [
    "# Cell-type detection\n",
    "\n",
    "Cell-type detection requires analyseMarkers.py from https://github.com/mjoppich/scrnaseq_celltype_prediction ."
   ]
  },
  {
   "cell_type": "code",
   "execution_count": 26,
   "metadata": {},
   "outputs": [
    {
     "name": "stdout",
     "output_type": "stream",
     "text": [
      "Taking value gene from gene\n",
      "Taking value cluster from clusterID\n",
      "Taking value logfc from avg_logFC\n",
      "Taking value pvaladj from qvalue\n",
      "Taking value expr-mean from mean\n",
      "Taking value expressing-cell-count from num\n",
      "Taking value cluster-cell-count from anum\n",
      "Got 8 clusters.\n",
      "Starting analysis\n",
      "8\tHepatic stellate cells;Liver\t0.005373146470530798\t1\t46\t{'RBP1'}\n",
      "8\tHepatocytes;Liver\t0.0017408953840481714\t1\t154\t{'HAMP'}\n",
      "8\tCardiomyocytes;Heart\t0.0\t1\t106\t{'HAMP'}\n",
      "8\tMast cells;Immune system\t0.0\t1\t162\t{'PCP4L1'}\n",
      "9\tHepatic stellate cells;Liver\t0.006362411095540666\t1\t46\t{'RBP1'}\n",
      "9\tHepatocytes;Liver\t0.001290034910489871\t1\t154\t{'HAMP'}\n",
      "9\tCardiomyocytes;Heart\t0.0\t1\t106\t{'HAMP'}\n",
      "9\tMast cells;Immune system\t0.0\t1\t162\t{'PCP4L1'}\n",
      "10\tBasophils;Immune system\t0.0\t1\t82\t{'IFITM1'}\n",
      "10\tCardiomyocytes;Heart\t0.0\t1\t106\t{'HAMP'}\n",
      "10\tGamma delta T cells;Immune system\t0.0\t2\t66\t{'IFITM1', 'H2AFX'}\n",
      "10\tHepatic stellate cells;Liver\t0.0\t1\t46\t{'RBP1'}\n",
      "11\tAdipocytes;Connective tissue\t0.0\t1\t120\t{'NNMT'}\n",
      "11\tB cells memory;Immune system\t0.0\t1\t66\t{'GNG7'}\n",
      "11\tBasal cells;Epithelium\t0.0\t1\t56\t{'NNMT'}\n",
      "11\tCardiomyocytes;Heart\t0.0\t1\t106\t{'HAMP'}\n",
      "12\tMonocytes;Immune system\t0.008273045688484575\t1\t102\t{'IFITM3'}\n",
      "12\tSmooth muscle cells;Smooth muscle\t0.0028862275919747282\t1\t82\t{'PCP4L1'}\n",
      "12\tPlasma cells;Immune system\t0.0021845375640423877\t1\t86\t{'GNG7'}\n",
      "12\tMast cells;Immune system\t5.2268671877715046e-05\t1\t162\t{'PCP4L1'}\n",
      "13\tCardiomyocytes;Heart\t0.0\t1\t106\t{'HAMP'}\n",
      "13\tHepatocytes;Liver\t0.0\t1\t154\t{'HAMP'}\n",
      "14\tMonocytes;Immune system\t0.018094937449093348\t1\t102\t{'IFITM3'}\n",
      "14\tPlasma cells;Immune system\t0.0127227102441641\t2\t86\t{'CD79A', 'GNG7'}\n",
      "14\tHepatic stellate cells;Liver\t0.008008920834956855\t1\t46\t{'RBP1'}\n",
      "14\tHepatocytes;Liver\t0.006934336691236856\t3\t154\t{'TTR', 'HAMP', 'SAT2'}\n",
      "15\tMesothelial cells;Epithelium\t0.005019883950433191\t1\t58\t{'GSTA3'}\n",
      "15\tHepatocytes;Liver\t0.004452542839571746\t1\t154\t{'APOA2'}\n",
      "15\tAdipocytes;Connective tissue\t0.002957575079560254\t1\t120\t{'APOC1'}\n",
      "15\tPericytes;Vasculature\t0.002713967411901441\t1\t64\t{'IFITM1'}\n"
     ]
    }
   ],
   "source": [
    "! python3 /mnt/d/dev/git/scrnaseq_celltype_prediction/analyseMarkers.py --organs \"Connective tissue\" \"Vasculature\" \"Heart\" \"Skeletal Muscle\" \"Smooth muscle\" \"Immune system\" \"Blood\" \"Epithelium\" \"Liver\" --pvaladj qvalue --markers marker_genes.tsv -n 4"
   ]
  },
  {
   "cell_type": "code",
   "execution_count": 27,
   "metadata": {},
   "outputs": [
    {
     "data": {
      "image/png": "[encoded data removed]",
      "text/plain": [
       "<Figure size 432x288 with 2 Axes>"
      ]
     },
     "metadata": {
      "needs_background": "light"
     },
     "output_type": "display_data"
    }
   ],
   "source": [
    "spec.plot_segments(highlight=(8,9))"
   ]
  },
  {
   "cell_type": "code",
   "execution_count": 49,
   "metadata": {},
   "outputs": [
    {
     "name": "stdout",
     "output_type": "stream",
     "text": [
      "Taking value gene from gene\n",
      "Taking value cluster from clusterID\n",
      "Taking value logfc from avg_logFC\n",
      "Taking value pvaladj from qvalue\n",
      "Taking value expr-mean from mean\n",
      "Taking value expressing-cell-count from num\n",
      "Taking value cluster-cell-count from anum\n",
      "Got 8 clusters.\n",
      "Starting analysis\n",
      "0\tHepatic stellate cells;Liver\t0.007273730120504114\t1\t46\t{'RBP1'}\n",
      "0\tHepatocytes;Liver\t0.0034795070306199412\t2\t154\t{'HAMP', 'APOA2'}\n",
      "0\tSmooth muscle cells;Smooth muscle\t0.0031316825887694796\t3\t82\t{'SNCG', 'PCP4L1', 'RBPMS2'}\n",
      "0\tCardiomyocytes;Heart\t0.0\t1\t106\t{'HAMP'}\n",
      "10\tMonocytes;Immune system\t0.003709001612952966\t1\t102\t{'IFITM3'}\n",
      "10\tSmooth muscle cells;Smooth muscle\t0.0029248763947420805\t2\t82\t{'SNCG', 'PCP4L1'}\n",
      "10\tMast cells;Immune system\t2.648429475636906e-05\t1\t162\t{'PCP4L1'}\n",
      "10\tCardiomyocytes;Heart\t0.0\t2\t106\t{'HAMP', 'MYL2'}\n",
      "11\tAdipocytes;Connective tissue\t0.0\t1\t120\t{'NNMT'}\n",
      "11\tBasal cells;Epithelium\t0.0\t1\t56\t{'NNMT'}\n",
      "11\tCardiomyocytes;Heart\t0.0\t2\t106\t{'HAMP', 'MYL2'}\n",
      "11\tChondrocytes;Connective tissue\t0.0\t1\t52\t{'MGP'}\n",
      "12\tHepatocytes;Liver\t0.016988734772086355\t4\t154\t{'HAMP', 'TMEM97', 'APOA2', 'APOC3'}\n",
      "12\tSmooth muscle cells;Smooth muscle\t0.013015053798570354\t3\t82\t{'SNCG', 'PCP4L1', 'RBPMS2'}\n",
      "12\tMonocytes;Immune system\t0.011545960634401635\t1\t102\t{'IFITM3'}\n",
      "12\tPlasma cells;Immune system\t0.0055100929782460565\t2\t86\t{'GNG7', 'SSR4'}\n",
      "13\tMonocytes;Immune system\t0.012450450987449867\t3\t102\t{'MGMT', 'RHOC', 'IFITM3'}\n",
      "13\tHepatocytes;Liver\t0.009090897187170623\t2\t154\t{'HAMP', 'APOA2'}\n",
      "13\tSmooth muscle cells;Smooth muscle\t0.006121074135653288\t3\t82\t{'PCP4L1', 'TAGLN', 'RBPMS2'}\n",
      "13\tPlatelets;Blood\t0.0016516443294809333\t1\t131\t{'PF4'}\n",
      "14\tMonocytes;Immune system\t0.040891839728757325\t2\t102\t{'IFITM3', 'S100A9'}\n",
      "14\tHepatocytes;Liver\t0.026173182851913078\t4\t154\t{'HAMP', 'TTR', 'APOA2', 'SAT2'}\n",
      "14\tPlasma cells;Immune system\t0.02007620412865288\t3\t86\t{'GNG7', 'CD79A', 'CYCS'}\n",
      "14\tHepatic stellate cells;Liver\t0.018214460508232874\t2\t46\t{'IGFBP7', 'RBP1'}\n",
      "15\tHepatocytes;Liver\t0.014640970591537189\t2\t154\t{'HAMP', 'APOA2'}\n",
      "15\tCardiomyocytes;Heart\t0.00968308502912158\t2\t106\t{'HAMP', 'MYL3'}\n",
      "15\tPlatelets;Blood\t0.005841421436152562\t2\t131\t{'PF4', 'CA2'}\n",
      "15\tErythroid-like and erythroid precursor cells;Blood\t0.005256700120632513\t1\t82\t{'SNCA'}\n"
     ]
    }
   ],
   "source": [
    "! python3 /mnt/d/dev/git/scrnaseq_celltype_prediction/analyseMarkers.py --organs \"Connective tissue\" \"Vasculature\" \"Heart\" \"Skeletal Muscle\" \"Smooth muscle\" \"Immune system\" \"Blood\" \"Epithelium\" \"Liver\" --pvaladj qvalue --markers marker_genes_bg.tsv -n 4"
   ]
  },
  {
   "cell_type": "code",
   "execution_count": 50,
   "metadata": {},
   "outputs": [
    {
     "data": {
      "image/png": "[encoded data removed]",
      "text/plain": [
       "<Figure size 432x288 with 2 Axes>"
      ]
     },
     "metadata": {
      "needs_background": "light"
     },
     "output_type": "display_data"
    }
   ],
   "source": [
    "spec.plot_segments(highlight=(10,11,12,13,14,15))"
   ]
  },
  {
   "cell_type": "code",
   "execution_count": null,
   "metadata": {},
   "outputs": [],
   "source": [
    "spec.to_aorta3d(\"./slided_test/\", \"slided\", 0, protWeights=pw, nodf=True, pathPrefix=\"../data/test_msi/\")"
   ]
  },
  {
   "cell_type": "code",
   "execution_count": null,
   "metadata": {},
   "outputs": [],
   "source": []
  },
  {
   "cell_type": "code",
   "execution_count": null,
   "metadata": {},
   "outputs": [],
   "source": []
  },
  {
   "cell_type": "code",
   "execution_count": null,
   "metadata": {},
   "outputs": [],
   "source": []
  },
  {
   "cell_type": "code",
   "execution_count": null,
   "metadata": {},
   "outputs": [],
   "source": []
  },
  {
   "cell_type": "code",
   "execution_count": null,
   "metadata": {},
   "outputs": [],
   "source": []
  },
  {
   "cell_type": "code",
   "execution_count": null,
   "metadata": {},
   "outputs": [],
   "source": []
  },
  {
   "cell_type": "code",
   "execution_count": null,
   "metadata": {},
   "outputs": [],
   "source": []
  },
  {
   "cell_type": "code",
   "execution_count": null,
   "metadata": {},
   "outputs": [],
   "source": []
  },
  {
   "cell_type": "code",
   "execution_count": null,
   "metadata": {},
   "outputs": [],
   "source": [
    "\n"
   ]
  },
  {
   "cell_type": "code",
   "execution_count": null,
   "metadata": {},
   "outputs": [],
   "source": []
  },
  {
   "cell_type": "code",
   "execution_count": null,
   "metadata": {},
   "outputs": [],
   "source": []
  },
  {
   "cell_type": "code",
   "execution_count": null,
   "metadata": {},
   "outputs": [],
   "source": []
  }
 ],
 "metadata": {
  "kernelspec": {
   "display_name": "Python 3",
   "language": "python",
   "name": "python3"
  },
  "language_info": {
   "codemirror_mode": {
    "name": "ipython",
    "version": 3
   },
   "file_extension": ".py",
   "mimetype": "text/x-python",
   "name": "python",
   "nbconvert_exporter": "python",
   "pygments_lexer": "ipython3",
   "version": "3.6.7"
  }
 },
 "nbformat": 4,
 "nbformat_minor": 4
}
