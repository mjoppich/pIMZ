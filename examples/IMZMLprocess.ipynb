{
 "cells": [
  {
   "cell_type": "code",
   "execution_count": 1,
   "metadata": {},
   "outputs": [
    {
     "name": "stdout",
     "output_type": "stream",
     "text": [
      "['/usr/lib/python36.zip', '/usr/lib/python3.6', '/usr/lib/python3.6/lib-dynload', '', '/home/mjoppich/.local/lib/python3.6/site-packages', '/home/mjoppich/.local/lib/python3.6/site-packages/mpld3-0.3.1.dev1-py3.6.egg', '/home/mjoppich/.local/lib/python3.6/site-packages/opennre-0.1-py3.6.egg', '/usr/local/lib/python3.6/dist-packages', '/usr/local/lib/python3.6/dist-packages/tf_unet-0.1.1-py3.6.egg', '/mnt/d/PythonCGI/jupyter_micropython_kernel', '/usr/lib/python3/dist-packages', '/usr/local/lib/python3.6/dist-packages/IPython/extensions', '/home/mjoppich/.ipython', '../']\n"
     ]
    },
    {
     "name": "stderr",
     "output_type": "stream",
     "text": [
      "/usr/local/lib/python3.6/dist-packages/numba/core/errors.py:144: UserWarning: Insufficiently recent colorama version found. Numba requires colorama >= 0.3.9\n",
      "  warnings.warn(msg)\n",
      "/usr/local/lib/python3.6/dist-packages/tensorflow/python/framework/dtypes.py:516: FutureWarning: Passing (type, 1) or '1type' as a synonym of type is deprecated; in a future version of numpy, it will be understood as (type, (1,)) / '(1,)type'.\n",
      "  _np_qint8 = np.dtype([(\"qint8\", np.int8, 1)])\n",
      "/usr/local/lib/python3.6/dist-packages/tensorflow/python/framework/dtypes.py:517: FutureWarning: Passing (type, 1) or '1type' as a synonym of type is deprecated; in a future version of numpy, it will be understood as (type, (1,)) / '(1,)type'.\n",
      "  _np_quint8 = np.dtype([(\"quint8\", np.uint8, 1)])\n",
      "/usr/local/lib/python3.6/dist-packages/tensorflow/python/framework/dtypes.py:518: FutureWarning: Passing (type, 1) or '1type' as a synonym of type is deprecated; in a future version of numpy, it will be understood as (type, (1,)) / '(1,)type'.\n",
      "  _np_qint16 = np.dtype([(\"qint16\", np.int16, 1)])\n",
      "/usr/local/lib/python3.6/dist-packages/tensorflow/python/framework/dtypes.py:519: FutureWarning: Passing (type, 1) or '1type' as a synonym of type is deprecated; in a future version of numpy, it will be understood as (type, (1,)) / '(1,)type'.\n",
      "  _np_quint16 = np.dtype([(\"quint16\", np.uint16, 1)])\n",
      "/usr/local/lib/python3.6/dist-packages/tensorflow/python/framework/dtypes.py:520: FutureWarning: Passing (type, 1) or '1type' as a synonym of type is deprecated; in a future version of numpy, it will be understood as (type, (1,)) / '(1,)type'.\n",
      "  _np_qint32 = np.dtype([(\"qint32\", np.int32, 1)])\n",
      "/usr/local/lib/python3.6/dist-packages/tensorflow/python/framework/dtypes.py:525: FutureWarning: Passing (type, 1) or '1type' as a synonym of type is deprecated; in a future version of numpy, it will be understood as (type, (1,)) / '(1,)type'.\n",
      "  np_resource = np.dtype([(\"resource\", np.ubyte, 1)])\n",
      "/usr/local/lib/python3.6/dist-packages/tensorboard/compat/tensorflow_stub/dtypes.py:541: FutureWarning: Passing (type, 1) or '1type' as a synonym of type is deprecated; in a future version of numpy, it will be understood as (type, (1,)) / '(1,)type'.\n",
      "  _np_qint8 = np.dtype([(\"qint8\", np.int8, 1)])\n",
      "/usr/local/lib/python3.6/dist-packages/tensorboard/compat/tensorflow_stub/dtypes.py:542: FutureWarning: Passing (type, 1) or '1type' as a synonym of type is deprecated; in a future version of numpy, it will be understood as (type, (1,)) / '(1,)type'.\n",
      "  _np_quint8 = np.dtype([(\"quint8\", np.uint8, 1)])\n",
      "/usr/local/lib/python3.6/dist-packages/tensorboard/compat/tensorflow_stub/dtypes.py:543: FutureWarning: Passing (type, 1) or '1type' as a synonym of type is deprecated; in a future version of numpy, it will be understood as (type, (1,)) / '(1,)type'.\n",
      "  _np_qint16 = np.dtype([(\"qint16\", np.int16, 1)])\n",
      "/usr/local/lib/python3.6/dist-packages/tensorboard/compat/tensorflow_stub/dtypes.py:544: FutureWarning: Passing (type, 1) or '1type' as a synonym of type is deprecated; in a future version of numpy, it will be understood as (type, (1,)) / '(1,)type'.\n",
      "  _np_quint16 = np.dtype([(\"quint16\", np.uint16, 1)])\n",
      "/usr/local/lib/python3.6/dist-packages/tensorboard/compat/tensorflow_stub/dtypes.py:545: FutureWarning: Passing (type, 1) or '1type' as a synonym of type is deprecated; in a future version of numpy, it will be understood as (type, (1,)) / '(1,)type'.\n",
      "  _np_qint32 = np.dtype([(\"qint32\", np.int32, 1)])\n",
      "/usr/local/lib/python3.6/dist-packages/tensorboard/compat/tensorflow_stub/dtypes.py:550: FutureWarning: Passing (type, 1) or '1type' as a synonym of type is deprecated; in a future version of numpy, it will be understood as (type, (1,)) / '(1,)type'.\n",
      "  np_resource = np.dtype([(\"resource\", np.ubyte, 1)])\n"
     ]
    }
   ],
   "source": [
    "%load_ext autoreload\n",
    "import os,sys\n",
    "import pandas as pd\n",
    "import seaborn as sns\n",
    "import numpy as np\n",
    "import progressbar\n",
    "import dill as pickle\n",
    "from datetime import datetime\n",
    "import matplotlib as mpl\n",
    "import matplotlib.pyplot as plt\n",
    "sys.path.append(\"../\")\n",
    "\n",
    "print(sys.path)\n",
    "\n",
    "%autoreload 2\n",
    "from src.pySRM.pysrm.segment import IMZMLExtract, SpectraRegion, ProteinWeights, CombinedSpectra\n",
    "\n"
   ]
  },
  {
   "cell_type": "code",
   "execution_count": 2,
   "metadata": {},
   "outputs": [
    {
     "name": "stdout",
     "output_type": "stream",
     "text": [
      "Opening regions file for /mnt/d/dev/data/msi/slideD/181114_AT1_Slide_D_Proteins.imzML\n"
     ]
    }
   ],
   "source": [
    "imze = IMZMLExtract(\"/mnt/d/dev/data/msi/slideD/181114_AT1_Slide_D_Proteins.imzML\")"
   ]
  },
  {
   "cell_type": "code",
   "execution_count": 3,
   "metadata": {},
   "outputs": [
    {
     "name": "stdout",
     "output_type": "stream",
     "text": [
      "0 ((356, 400, 215, 273), 2655)\n",
      "1 ((436, 478, 632, 687), 2408)\n",
      "2 ((1572, 1612, 608, 666), 2419)\n",
      "3 ((1149, 1197, 142, 205), 3136)\n",
      "4 ((618, 666, 211, 266), 2744)\n",
      "5 ((633, 684, 630, 688), 3068)\n",
      "6 ((1357, 1400, 628, 686), 2596)\n"
     ]
    },
    {
     "data": {
      "image/png": "[encoded data removed]",
      "text/plain": [
       "<Figure size 674.791x288 with 2 Axes>"
      ]
     },
     "metadata": {
      "needs_background": "light"
     },
     "output_type": "display_data"
    },
    {
     "data": {
      "text/plain": [
       "{0: ((356, 400, 215, 273), 2655),\n",
       " 1: ((436, 478, 632, 687), 2408),\n",
       " 2: ((1572, 1612, 608, 666), 2419),\n",
       " 3: ((1149, 1197, 142, 205), 3136),\n",
       " 4: ((618, 666, 211, 266), 2744),\n",
       " 5: ((633, 684, 630, 688), 3068),\n",
       " 6: ((1357, 1400, 628, 686), 2596)}"
      ]
     },
     "execution_count": 3,
     "metadata": {},
     "output_type": "execute_result"
    }
   ],
   "source": [
    "imze.list_regions()"
   ]
  },
  {
   "cell_type": "code",
   "execution_count": null,
   "metadata": {},
   "outputs": [],
   "source": [
    "spectra_orig = imze.get_region_array(0, makeNullLine=True)\n",
    "spectra_intra = imze.normalize_region_array(spectra_orig, normalize=\"intra_median\")\n",
    "spectra = imze.normalize_region_array(spectra_intra, normalize=\"inter_median\")"
   ]
  },
  {
   "cell_type": "code",
   "execution_count": null,
   "metadata": {},
   "outputs": [],
   "source": [
    "imze.list_highest_peaks(spectra, counter=True)"
   ]
  },
  {
   "cell_type": "code",
   "execution_count": null,
   "metadata": {},
   "outputs": [],
   "source": [
    "spec = SpectraRegion(spectra, imze.mzValues)"
   ]
  },
  {
   "cell_type": "code",
   "execution_count": null,
   "metadata": {},
   "outputs": [],
   "source": [
    "spec.calculate_similarity(mode=\"spectra_log\")"
   ]
  },
  {
   "cell_type": "code",
   "execution_count": null,
   "metadata": {},
   "outputs": [],
   "source": [
    "spec.segment(method=\"UMAP_DBSCAN\", number_of_regions=15)"
   ]
  },
  {
   "cell_type": "code",
   "execution_count": null,
   "metadata": {},
   "outputs": [],
   "source": [
    "mpl.rcParams['figure.figsize'] = (10,6)\n",
    "spec.vis_umap(legend=False)\n",
    "mpl.rcParams['figure.figsize'] = (6,4)"
   ]
  },
  {
   "cell_type": "code",
   "execution_count": null,
   "metadata": {},
   "outputs": [],
   "source": [
    "spec.plot_segments()"
   ]
  },
  {
   "cell_type": "code",
   "execution_count": null,
   "metadata": {},
   "outputs": [],
   "source": [
    "spec.filter_clusters(method='remove_singleton')\n",
    "spec.filter_clusters(method='merge_background')\n",
    "spec.filter_clusters(method='remove_islands')"
   ]
  },
  {
   "cell_type": "code",
   "execution_count": null,
   "metadata": {},
   "outputs": [],
   "source": [
    "spec.plot_segments()"
   ]
  },
  {
   "cell_type": "code",
   "execution_count": null,
   "metadata": {},
   "outputs": [],
   "source": [
    "spec.segment(method=\"WARD\", number_of_regions=15)"
   ]
  },
  {
   "cell_type": "code",
   "execution_count": null,
   "metadata": {},
   "outputs": [],
   "source": [
    "spec.plot_segments()"
   ]
  },
  {
   "cell_type": "code",
   "execution_count": null,
   "metadata": {},
   "outputs": [],
   "source": [
    "spec.filter_clusters(method='remove_singleton')\n",
    "spec.filter_clusters(method='merge_background')\n",
    "spec.filter_clusters(method='remove_islands')"
   ]
  },
  {
   "cell_type": "code",
   "execution_count": null,
   "metadata": {},
   "outputs": [],
   "source": [
    "spec.plot_segments()"
   ]
  },
  {
   "cell_type": "markdown",
   "metadata": {},
   "source": [
    "A manual curation of the segmentation is still possible!"
   ]
  },
  {
   "cell_type": "code",
   "execution_count": null,
   "metadata": {},
   "outputs": [],
   "source": [
    "spec.segmented[0:6,] = 0"
   ]
  },
  {
   "cell_type": "code",
   "execution_count": null,
   "metadata": {},
   "outputs": [],
   "source": [
    "spec.plot_segments()"
   ]
  },
  {
   "cell_type": "markdown",
   "metadata": {},
   "source": [
    "Consensus Analysis"
   ]
  },
  {
   "cell_type": "code",
   "execution_count": null,
   "metadata": {},
   "outputs": [],
   "source": [
    "spec.consensus_spectra()"
   ]
  },
  {
   "cell_type": "code",
   "execution_count": null,
   "metadata": {},
   "outputs": [],
   "source": [
    "spec.consensus_similarity()"
   ]
  },
  {
   "cell_type": "code",
   "execution_count": null,
   "metadata": {},
   "outputs": [],
   "source": [
    "spec.plot_consensus_similarity()"
   ]
  },
  {
   "cell_type": "code",
   "execution_count": null,
   "metadata": {},
   "outputs": [],
   "source": [
    "spec.plot_consensus_similarity(mode=\"spectra\")"
   ]
  },
  {
   "cell_type": "code",
   "execution_count": null,
   "metadata": {},
   "outputs": [],
   "source": [
    "#spec.plot_inter_consensus_similarity()"
   ]
  },
  {
   "cell_type": "code",
   "execution_count": null,
   "metadata": {},
   "outputs": [],
   "source": []
  },
  {
   "cell_type": "code",
   "execution_count": null,
   "metadata": {},
   "outputs": [],
   "source": []
  },
  {
   "cell_type": "markdown",
   "metadata": {},
   "source": [
    "# Differential Analysis"
   ]
  },
  {
   "cell_type": "code",
   "execution_count": null,
   "metadata": {},
   "outputs": [],
   "source": [
    "spec.mass_heatmap(14954, min_cut_off=0.0025)"
   ]
  },
  {
   "cell_type": "code",
   "execution_count": null,
   "metadata": {},
   "outputs": [],
   "source": [
    "dfobj = spec.mass_dabest(14954)"
   ]
  },
  {
   "cell_type": "code",
   "execution_count": null,
   "metadata": {},
   "outputs": [],
   "source": [
    "spec.mass_dabest(14954, background=11)"
   ]
  },
  {
   "cell_type": "code",
   "execution_count": null,
   "metadata": {},
   "outputs": [],
   "source": [
    "spec.plot_segments(highlight=11)"
   ]
  },
  {
   "cell_type": "code",
   "execution_count": null,
   "metadata": {},
   "outputs": [],
   "source": [
    "spec.plot_segments(highlight=[10,12])"
   ]
  },
  {
   "cell_type": "code",
   "execution_count": null,
   "metadata": {},
   "outputs": [],
   "source": [
    "spec.plot_segments(highlight=12)"
   ]
  },
  {
   "cell_type": "code",
   "execution_count": null,
   "metadata": {},
   "outputs": [],
   "source": [
    "spec.clear_de_results()"
   ]
  },
  {
   "cell_type": "code",
   "execution_count": null,
   "metadata": {},
   "outputs": [],
   "source": [
    "pw = ProteinWeights(\"protein_weights.tsv\")"
   ]
  },
  {
   "cell_type": "code",
   "execution_count": null,
   "metadata": {},
   "outputs": [],
   "source": [
    "mgenes = spec.find_all_markers(pw, includeBackground=False,\n",
    "                               replaceExisting=False,\n",
    "                               outdirectory=\"./\",\n",
    "                               use_methods=[\"ttest\", \"rank\"])"
   ]
  },
  {
   "cell_type": "code",
   "execution_count": null,
   "metadata": {},
   "outputs": [],
   "source": [
    "mgenes_bg = spec.find_all_markers(pw, includeBackground=True, replaceExisting=False, use_methods = [\"ttest\", \"rank\"])"
   ]
  },
  {
   "cell_type": "code",
   "execution_count": null,
   "metadata": {},
   "outputs": [],
   "source": [
    "spec.list_de_results()"
   ]
  },
  {
   "cell_type": "code",
   "execution_count": null,
   "metadata": {},
   "outputs": [],
   "source": [
    "markerGenes = mgenes[\"ttest\"]\n",
    "markerGenes.to_csv(\"marker_genes.tsv\", sep=\"\\t\", index=False)"
   ]
  },
  {
   "cell_type": "code",
   "execution_count": null,
   "metadata": {},
   "outputs": [],
   "source": [
    "print(\"Number of unique, differentially detected proteins (from masses): {}\".format(len(set(mgenes[\"ttest\"][\"gene\"]))))"
   ]
  },
  {
   "cell_type": "code",
   "execution_count": null,
   "metadata": {},
   "outputs": [],
   "source": [
    "markerGenesBG = mgenes_bg[\"ttest\"]\n",
    "markerGenesBG.to_csv(\"marker_genes_bg.tsv\", sep=\"\\t\", index=False)"
   ]
  },
  {
   "cell_type": "code",
   "execution_count": null,
   "metadata": {},
   "outputs": [],
   "source": [
    "print(\"Number of unique, differentially detected proteins (from masses): {}\".format(len(set(mgenes_bg[\"ttest\"][\"gene\"]))))"
   ]
  },
  {
   "cell_type": "code",
   "execution_count": null,
   "metadata": {},
   "outputs": [],
   "source": [
    "with open(\"slideD_region_0.spec.pickle\", \"wb\") as fout:\n",
    "    pickle.dump(spec, fout)"
   ]
  },
  {
   "cell_type": "code",
   "execution_count": null,
   "metadata": {},
   "outputs": [],
   "source": []
  },
  {
   "cell_type": "code",
   "execution_count": null,
   "metadata": {},
   "outputs": [],
   "source": []
  },
  {
   "cell_type": "code",
   "execution_count": null,
   "metadata": {},
   "outputs": [],
   "source": []
  },
  {
   "cell_type": "code",
   "execution_count": null,
   "metadata": {},
   "outputs": [],
   "source": []
  },
  {
   "cell_type": "code",
   "execution_count": null,
   "metadata": {},
   "outputs": [],
   "source": []
  },
  {
   "cell_type": "code",
   "execution_count": null,
   "metadata": {},
   "outputs": [],
   "source": []
  },
  {
   "cell_type": "code",
   "execution_count": null,
   "metadata": {},
   "outputs": [],
   "source": [
    "resClus8 = spec.find_de_results( (8,) )\n",
    "resClus8"
   ]
  },
  {
   "cell_type": "code",
   "execution_count": null,
   "metadata": {},
   "outputs": [],
   "source": [
    "deResDFs = spec.get_de_results( resClus8[1][1] )\n",
    "deRes = spec.deres_to_df(deResDFs[\"ttest\"], resClus8[1][1], pw)\n"
   ]
  },
  {
   "cell_type": "code",
   "execution_count": null,
   "metadata": {},
   "outputs": [],
   "source": [
    "deRes.to_csv(\"region1_cluster8.tsv\", sep=\"\\t\")"
   ]
  },
  {
   "cell_type": "code",
   "execution_count": null,
   "metadata": {},
   "outputs": [],
   "source": [
    "set(markerGenes[(markerGenes[\"clusterID\"] == \"14\") & (markerGenes[\"avg_logFC\"] >0.01)][\"gene\"])"
   ]
  },
  {
   "cell_type": "code",
   "execution_count": null,
   "metadata": {},
   "outputs": [],
   "source": [
    "for x in set(markerGenes[(markerGenes[\"clusterID\"] == \"8\") & (markerGenes[\"avg_logFC\"] >0.01)][\"gene\"]):\n",
    "    print(x)"
   ]
  },
  {
   "cell_type": "code",
   "execution_count": null,
   "metadata": {},
   "outputs": [],
   "source": [
    "spec.mass_heatmap(8566.308604)"
   ]
  },
  {
   "cell_type": "code",
   "execution_count": null,
   "metadata": {},
   "outputs": [],
   "source": [
    "spec.mass_heatmap(6645.182024)"
   ]
  },
  {
   "cell_type": "code",
   "execution_count": null,
   "metadata": {},
   "outputs": [],
   "source": [
    "import progressbar\n",
    "import time\n",
    "\n",
    "bar = progressbar.ProgressBar(widgets=[\n",
    "        progressbar.Bar(), ' ', progressbar.Percentage(), ' ', 'AdaptiveETA: ', progressbar.AdaptiveETA()\n",
    "    ])\n",
    "\n",
    "for x in bar(range(0,10)):\n",
    "    time.sleep(1)"
   ]
  },
  {
   "cell_type": "code",
   "execution_count": null,
   "metadata": {},
   "outputs": [],
   "source": [
    "spec.mass_heatmap(14048.989568)"
   ]
  },
  {
   "cell_type": "markdown",
   "metadata": {},
   "source": [
    "# Cell-type detection\n",
    "\n",
    "Cell-type detection requires analyseMarkers.py from https://github.com/mjoppich/scrnaseq_celltype_prediction ."
   ]
  },
  {
   "cell_type": "code",
   "execution_count": null,
   "metadata": {},
   "outputs": [],
   "source": [
    "! python3 /mnt/d/dev/git/scrnaseq_celltype_prediction/analyseMarkers.py --organs \"Connective tissue\" \"Vasculature\" \"Heart\" \"Skeletal Muscle\" \"Smooth muscle\" \"Immune system\" \"Blood\" \"Epithelium\" \"Liver\" --pvaladj qvalue --markers marker_genes.tsv -n 2"
   ]
  },
  {
   "cell_type": "code",
   "execution_count": null,
   "metadata": {},
   "outputs": [],
   "source": [
    "spec.plot_segments(highlight=(8))"
   ]
  },
  {
   "cell_type": "code",
   "execution_count": null,
   "metadata": {},
   "outputs": [],
   "source": [
    "! python3 /mnt/d/dev/git/scrnaseq_celltype_prediction/analyseMarkers.py --organs \"Connective tissue\" \"Vasculature\" \"Heart\" \"Skeletal Muscle\" \"Smooth muscle\" \"Immune system\" \"Blood\" \"Epithelium\" \"Liver\" --pvaladj qvalue --markers marker_genes_bg.tsv -n 2"
   ]
  },
  {
   "cell_type": "code",
   "execution_count": null,
   "metadata": {},
   "outputs": [],
   "source": [
    "spec.plot_segments(highlight=(8))"
   ]
  },
  {
   "cell_type": "code",
   "execution_count": null,
   "metadata": {},
   "outputs": [],
   "source": [
    "spec.to_aorta3d(\"./slided_test/\", \"slided\", 0, protWeights=pw, nodf=False, pathPrefix=\"../data/test_msi/\")"
   ]
  },
  {
   "cell_type": "code",
   "execution_count": null,
   "metadata": {},
   "outputs": [],
   "source": [
    "!ls slided_test"
   ]
  },
  {
   "cell_type": "markdown",
   "metadata": {},
   "source": [
    "# Preparations for CombinedSpectra"
   ]
  },
  {
   "cell_type": "code",
   "execution_count": null,
   "metadata": {},
   "outputs": [],
   "source": [
    "spectra1 = imze.get_region_array(1, makeNullLine=True)\n",
    "imze.normalize_region_array(spectra1, normalize=\"vector\")\n",
    "imze.list_highest_peaks(spectra1, counter=True)\n",
    "print(\"Got spectra\", spectra1.shape)\n",
    "\n",
    "spec1 = SpectraRegion(spectra1, imze.mzValues)\n",
    "spec1.calculate_similarity(mode=\"spectra_log_dist\")\n",
    "spec1.segment(method=\"WARD\", number_of_regions=15)\n",
    "spec1.plot_segments()"
   ]
  },
  {
   "cell_type": "code",
   "execution_count": 4,
   "metadata": {},
   "outputs": [],
   "source": [
    "pw = ProteinWeights(\"protein_weights.tsv\")\n",
    "\n",
    "def process_imzeregion(imze, regionID, basename):\n",
    "    \n",
    "    print(\"Processing regionID\", regionID, \"for basename\", basename)\n",
    "    \n",
    "    spectra_orig = imze.get_region_array(regionID, makeNullLine=True)\n",
    "    spectra_intra = imze.normalize_region_array(spectra_orig, normalize=\"intra_median\")\n",
    "    spectra = imze.normalize_region_array(spectra_intra, normalize=\"inter_median\")\n",
    "    \n",
    "    rspec = SpectraRegion(spectra, imze.mzValues, name=basename + \"_\" + str(regionID))\n",
    "    rspec.calculate_similarity(mode=\"spectra_log_dist\")\n",
    "    rspec.segment(method=\"WARD\", number_of_regions=15)\n",
    "    rspec.plot_segments()\n",
    "    \n",
    "    rspec.filter_clusters(method='remove_singleton')\n",
    "    rspec.filter_clusters(method='merge_background')\n",
    "    rspec.filter_clusters(method='remove_islands')\n",
    "    rspec.plot_segments()\n",
    "    \n",
    "    rspec.consensus_spectra()\n",
    "    rspec.consensus_similarity()\n",
    "    rspec.plot_consensus_similarity()\n",
    "    \n",
    "    mgenes = rspec.find_all_markers(pw, includeBackground=False, replaceExisting=False, use_methods = [\"ttest\", \"rank\"])\n",
    "    mgenes_bg = rspec.find_all_markers(pw, includeBackground=True, replaceExisting=False, use_methods = [\"ttest\", \"rank\"])\n",
    "    \n",
    "    return rspec, mgenes, mgenes_bg\n",
    "    "
   ]
  },
  {
   "cell_type": "code",
   "execution_count": null,
   "metadata": {},
   "outputs": [],
   "source": []
  },
  {
   "cell_type": "code",
   "execution_count": 5,
   "metadata": {},
   "outputs": [
    {
     "name": "stderr",
     "output_type": "stream",
     "text": [
      "Found region 0 with shape (45, 59, 17900)\n",
      "WARNING: Logging before flag parsing goes to stderr.\n",
      "I0710 18:58:07.637450 139724973016896 segment.py:2814] Found region 0 with shape (45, 59, 17900)\n"
     ]
    },
    {
     "name": "stdout",
     "output_type": "stream",
     "text": [
      "Processing regionID 0 for basename slideD\n"
     ]
    },
    {
     "name": "stderr",
     "output_type": "stream",
     "text": [
      "Collecting fold changes\n",
      "I0710 18:58:10.104134 139724973016896 segment.py:2528] Collecting fold changes\n",
      "Got a total of 47524500 fold changes\n",
      "I0710 18:58:47.880151 139724973016896 segment.py:2539] Got a total of 47524500 fold changes\n",
      "Median elements [23762250]\n",
      "I0710 18:58:50.190566 139724973016896 segment.py:2548] Median elements [23762250]\n",
      "Median elements\n",
      "I0710 18:58:51.196765 139724973016896 segment.py:2561] Median elements\n",
      "Global Median 0.96164\n",
      "I0710 18:58:51.198895 139724973016896 segment.py:2566] Global Median 0.96164\n",
      "2020-07-10 18:58:52,983  SpectraRegion  INFO: Creating C++ obj\n",
      "I0710 18:58:52.983646 139724973016896 segment.py:814] Creating C++ obj\n",
      "2020-07-10 18:58:52,985  SpectraRegion  INFO: 17900 (45, 59, 17900)\n",
      "I0710 18:58:52.985563 139724973016896 segment.py:815] 17900 (45, 59, 17900)\n",
      "2020-07-10 18:58:52,987  SpectraRegion  INFO: dimensions 17900\n",
      "I0710 18:58:52.987915 139724973016896 segment.py:825] dimensions 17900\n",
      "2020-07-10 18:58:52,990  SpectraRegion  INFO: input dimensions (45, 59, 17900)\n",
      "I0710 18:58:52.990003 139724973016896 segment.py:826] input dimensions (45, 59, 17900)\n",
      "2020-07-10 18:58:52,992  SpectraRegion  INFO: Switching to dot mode\n",
      "I0710 18:58:52.992854 139724973016896 segment.py:829] Switching to dot mode\n"
     ]
    },
    {
     "name": "stdout",
     "output_type": "stream",
     "text": [
      "17900\n"
     ]
    },
    {
     "name": "stderr",
     "output_type": "stream",
     "text": [
      "2020-07-10 18:58:53,275  SpectraRegion  INFO: Starting calc similarity c++\n",
      "I0710 18:58:53.275200 139724973016896 segment.py:835] Starting calc similarity c++\n",
      "2020-07-10 18:59:20,289  SpectraRegion  INFO: outclust dimensions (2655, 2655)\n",
      "I0710 18:59:20.289792 139724973016896 segment.py:840] outclust dimensions (2655, 2655)\n",
      "2020-07-10 18:59:20,312  SpectraRegion  INFO: Calculating spectra similarity\n",
      "I0710 18:59:20.312503 139724973016896 segment.py:872] Calculating spectra similarity\n",
      "2020-07-10 18:59:20,512  SpectraRegion  INFO: Calculating spectra similarity done\n",
      "I0710 18:59:20.512777 139724973016896 segment.py:876] Calculating spectra similarity done\n",
      "2020-07-10 18:59:20,514  SpectraRegion  INFO: Calculating dist pixel map\n",
      "I0710 18:59:20.514858 139724973016896 segment.py:883] Calculating dist pixel map\n",
      "2020-07-10 19:00:31,687  SpectraRegion  INFO: Calculating dist pixel map done\n",
      "I0710 19:00:31.687308 139724973016896 segment.py:893] Calculating dist pixel map done\n",
      "2020-07-10 19:00:31,856  SpectraRegion  INFO: Calculating clusters\n",
      "I0710 19:00:31.856034 139724973016896 segment.py:1091] Calculating clusters\n",
      "2020-07-10 19:00:32,256  SpectraRegion  INFO: Calculating clusters done\n",
      "I0710 19:00:32.256104 139724973016896 segment.py:1112] Calculating clusters done\n",
      "2020-07-10 19:00:32,277  SpectraRegion  INFO: Calculating clusters saved\n",
      "I0710 19:00:32.277831 139724973016896 segment.py:1130] Calculating clusters saved\n"
     ]
    },
    {
     "data": {
      "image/png": "[encoded data removed]",
      "text/plain": [
       "<Figure size 432x288 with 2 Axes>"
      ]
     },
     "metadata": {
      "needs_background": "light"
     },
     "output_type": "display_data"
    },
    {
     "name": "stderr",
     "output_type": "stream",
     "text": [
      "2020-07-10 19:00:32,500  SpectraRegion  INFO: Assigning clusters to background: {5, 6, 7, 8, 9, 11}\n",
      "I0710 19:00:32.500578 139724973016896 segment.py:1219] Assigning clusters to background: {5, 6, 7, 8, 9, 11}\n"
     ]
    },
    {
     "data": {
      "image/png": "[encoded data removed]",
      "text/plain": [
       "<Figure size 432x288 with 2 Axes>"
      ]
     },
     "metadata": {
      "needs_background": "light"
     },
     "output_type": "display_data"
    },
    {
     "name": "stderr",
     "output_type": "stream",
     "text": [
      "2020-07-10 19:00:32,714  SpectraRegion  INFO: Calculating consensus spectra\n",
      "I0710 19:00:32.714046 139724973016896 segment.py:1273] Calculating consensus spectra\n",
      "2020-07-10 19:00:32,762  SpectraRegion  INFO: Calculating consensus spectra done\n",
      "I0710 19:00:32.762195 139724973016896 segment.py:1285] Calculating consensus spectra done\n"
     ]
    },
    {
     "data": {
      "image/png": "[encoded data removed]",
      "text/plain": [
       "<Figure size 288x288 with 2 Axes>"
      ]
     },
     "metadata": {
      "needs_background": "light"
     },
     "output_type": "display_data"
    },
    {
     "name": "stderr",
     "output_type": "stream",
     "text": [
      "2020-07-10 19:00:33,006  SpectraRegion  INFO: DE data for case: [10]\n",
      "I0710 19:00:33.006881 139724973016896 segment.py:1842] DE data for case: [10]\n",
      "2020-07-10 19:00:33,008  SpectraRegion  INFO: DE data for control: [4, 15, 2, 14, 13, 12, 3, 1]\n",
      "I0710 19:00:33.008739 139724973016896 segment.py:1843] DE data for control: [4, 15, 2, 14, 13, 12, 3, 1]\n",
      "2020-07-10 19:00:33,010  SpectraRegion  INFO: DE result key: ((10,), (1, 2, 3, 4, 12, 13, 14, 15))\n",
      "I0710 19:00:33.010778 139724973016896 segment.py:1847] DE result key: ((10,), (1, 2, 3, 4, 12, 13, 14, 15))\n"
     ]
    },
    {
     "name": "stdout",
     "output_type": "stream",
     "text": [
      "Running [10] against [4, 15, 2, 14, 13, 12, 3, 1]\n"
     ]
    },
    {
     "name": "stderr",
     "output_type": "stream",
     "text": [
      "2020-07-10 19:00:34,292  SpectraRegion  INFO: DE DataFrame ready. Shape (17900, 679)\n",
      "I0710 19:00:34.292190 139724973016896 segment.py:1891] DE DataFrame ready. Shape (17900, 679)\n",
      "2020-07-10 19:00:34,296  SpectraRegion  INFO: DE Sample DataFrame ready. Shape (679, 3)\n",
      "I0710 19:00:34.296871 139724973016896 segment.py:1899] DE Sample DataFrame ready. Shape (679, 3)\n",
      "2020-07-10 19:00:34,305  SpectraRegion  INFO: Performing DE-test: ttest\n",
      "I0710 19:00:34.305966 139724973016896 segment.py:1957] Performing DE-test: ttest\n",
      "/usr/local/lib/python3.6/dist-packages/anndata/_core/anndata.py:119: ImplicitModificationWarning: Transforming to str index.\n",
      "  warnings.warn(\"Transforming to str index.\", ImplicitModificationWarning)\n",
      "2020-07-10 19:00:35,427  SpectraRegion  INFO: DE-test (ttest) finished. Results available: ((10,), (1, 2, 3, 4, 12, 13, 14, 15))\n",
      "I0710 19:00:35.427097 139724973016896 segment.py:1990] DE-test (ttest) finished. Results available: ((10,), (1, 2, 3, 4, 12, 13, 14, 15))\n",
      "2020-07-10 19:00:35,428  SpectraRegion  INFO: Performing DE-test: rank\n",
      "I0710 19:00:35.428410 139724973016896 segment.py:1957] Performing DE-test: rank\n",
      "2020-07-10 19:00:44,237  SpectraRegion  INFO: DE-test (rank) finished. Results available: ((10,), (1, 2, 3, 4, 12, 13, 14, 15))\n",
      "I0710 19:00:44.237050 139724973016896 segment.py:1990] DE-test (rank) finished. Results available: ((10,), (1, 2, 3, 4, 12, 13, 14, 15))\n",
      "2020-07-10 19:00:44,264  SpectraRegion  INFO: DE result for case ((10,), (1, 2, 3, 4, 12, 13, 14, 15)) with (17900, 7) results\n",
      "I0710 19:00:44.264769 139724973016896 segment.py:1579] DE result for case ((10,), (1, 2, 3, 4, 12, 13, 14, 15)) with (17900, 7) results\n",
      "2020-07-10 19:00:44,266  SpectraRegion  INFO: DE result logFC inversed\n",
      "I0710 19:00:44.266732 139724973016896 segment.py:1602] DE result logFC inversed\n",
      "2020-07-10 19:00:44,277  SpectraRegion  INFO: DE result for case ((10,), (1, 2, 3, 4, 12, 13, 14, 15)) with (756, 7) results (filtered)\n",
      "I0710 19:00:44.277016 139724973016896 segment.py:1607] DE result for case ((10,), (1, 2, 3, 4, 12, 13, 14, 15)) with (756, 7) results (filtered)\n",
      "2020-07-10 19:00:44,432  SpectraRegion  INFO: Created matrices with shape (55, 17900) and (624, 17900) (target, bg)\n",
      "I0710 19:00:44.432587 139724973016896 segment.py:1613] Created matrices with shape (55, 17900) and (624, 17900) (target, bg)\n",
      "2020-07-10 19:00:47,492  SpectraRegion  INFO: DE result for case ((10,), (1, 2, 3, 4, 12, 13, 14, 15)) with (17900, 7) results\n",
      "I0710 19:00:47.492683 139724973016896 segment.py:1579] DE result for case ((10,), (1, 2, 3, 4, 12, 13, 14, 15)) with (17900, 7) results\n",
      "2020-07-10 19:00:47,494  SpectraRegion  INFO: DE result logFC inversed\n",
      "I0710 19:00:47.494592 139724973016896 segment.py:1602] DE result logFC inversed\n",
      "2020-07-10 19:00:47,501  SpectraRegion  INFO: DE result for case ((10,), (1, 2, 3, 4, 12, 13, 14, 15)) with (718, 7) results (filtered)\n",
      "I0710 19:00:47.501865 139724973016896 segment.py:1607] DE result for case ((10,), (1, 2, 3, 4, 12, 13, 14, 15)) with (718, 7) results (filtered)\n",
      "2020-07-10 19:00:47,669  SpectraRegion  INFO: Created matrices with shape (55, 17900) and (624, 17900) (target, bg)\n",
      "I0710 19:00:47.669406 139724973016896 segment.py:1613] Created matrices with shape (55, 17900) and (624, 17900) (target, bg)\n",
      "2020-07-10 19:00:50,832  SpectraRegion  INFO: DE data for case: [4]\n",
      "I0710 19:00:50.832462 139724973016896 segment.py:1842] DE data for case: [4]\n",
      "2020-07-10 19:00:50,834  SpectraRegion  INFO: DE data for control: [10, 15, 2, 14, 13, 12, 3, 1]\n",
      "I0710 19:00:50.834209 139724973016896 segment.py:1843] DE data for control: [10, 15, 2, 14, 13, 12, 3, 1]\n",
      "2020-07-10 19:00:50,835  SpectraRegion  INFO: DE result key: ((4,), (1, 2, 3, 10, 12, 13, 14, 15))\n",
      "I0710 19:00:50.835875 139724973016896 segment.py:1847] DE result key: ((4,), (1, 2, 3, 10, 12, 13, 14, 15))\n"
     ]
    },
    {
     "name": "stdout",
     "output_type": "stream",
     "text": [
      "Running [4] against [10, 15, 2, 14, 13, 12, 3, 1]\n"
     ]
    },
    {
     "name": "stderr",
     "output_type": "stream",
     "text": [
      "2020-07-10 19:00:52,069  SpectraRegion  INFO: DE DataFrame ready. Shape (17900, 679)\n",
      "I0710 19:00:52.069136 139724973016896 segment.py:1891] DE DataFrame ready. Shape (17900, 679)\n",
      "2020-07-10 19:00:52,079  SpectraRegion  INFO: DE Sample DataFrame ready. Shape (679, 3)\n",
      "I0710 19:00:52.079886 139724973016896 segment.py:1899] DE Sample DataFrame ready. Shape (679, 3)\n",
      "2020-07-10 19:00:52,095  SpectraRegion  INFO: Performing DE-test: ttest\n",
      "I0710 19:00:52.095556 139724973016896 segment.py:1957] Performing DE-test: ttest\n",
      "2020-07-10 19:00:53,303  SpectraRegion  INFO: DE-test (ttest) finished. Results available: ((4,), (1, 2, 3, 10, 12, 13, 14, 15))\n",
      "I0710 19:00:53.303107 139724973016896 segment.py:1990] DE-test (ttest) finished. Results available: ((4,), (1, 2, 3, 10, 12, 13, 14, 15))\n",
      "2020-07-10 19:00:53,305  SpectraRegion  INFO: Performing DE-test: rank\n",
      "I0710 19:00:53.305206 139724973016896 segment.py:1957] Performing DE-test: rank\n",
      "2020-07-10 19:01:01,993  SpectraRegion  INFO: DE-test (rank) finished. Results available: ((4,), (1, 2, 3, 10, 12, 13, 14, 15))\n",
      "I0710 19:01:01.993067 139724973016896 segment.py:1990] DE-test (rank) finished. Results available: ((4,), (1, 2, 3, 10, 12, 13, 14, 15))\n",
      "2020-07-10 19:01:02,015  SpectraRegion  INFO: DE result for case ((4,), (1, 2, 3, 10, 12, 13, 14, 15)) with (17900, 7) results\n",
      "I0710 19:01:02.015444 139724973016896 segment.py:1579] DE result for case ((4,), (1, 2, 3, 10, 12, 13, 14, 15)) with (17900, 7) results\n",
      "2020-07-10 19:01:02,017  SpectraRegion  INFO: DE result logFC inversed\n",
      "I0710 19:01:02.017577 139724973016896 segment.py:1602] DE result logFC inversed\n",
      "2020-07-10 19:01:02,023  SpectraRegion  INFO: DE result for case ((4,), (1, 2, 3, 10, 12, 13, 14, 15)) with (198, 7) results (filtered)\n",
      "I0710 19:01:02.023551 139724973016896 segment.py:1607] DE result for case ((4,), (1, 2, 3, 10, 12, 13, 14, 15)) with (198, 7) results (filtered)\n",
      "2020-07-10 19:01:02,144  SpectraRegion  INFO: Created matrices with shape (179, 17900) and (500, 17900) (target, bg)\n",
      "I0710 19:01:02.144488 139724973016896 segment.py:1613] Created matrices with shape (179, 17900) and (500, 17900) (target, bg)\n",
      "2020-07-10 19:01:03,020  SpectraRegion  INFO: DE result for case ((4,), (1, 2, 3, 10, 12, 13, 14, 15)) with (17900, 7) results\n",
      "I0710 19:01:03.020526 139724973016896 segment.py:1579] DE result for case ((4,), (1, 2, 3, 10, 12, 13, 14, 15)) with (17900, 7) results\n",
      "2020-07-10 19:01:03,021  SpectraRegion  INFO: DE result logFC inversed\n",
      "I0710 19:01:03.021970 139724973016896 segment.py:1602] DE result logFC inversed\n",
      "2020-07-10 19:01:03,028  SpectraRegion  INFO: DE result for case ((4,), (1, 2, 3, 10, 12, 13, 14, 15)) with (168, 7) results (filtered)\n",
      "I0710 19:01:03.028095 139724973016896 segment.py:1607] DE result for case ((4,), (1, 2, 3, 10, 12, 13, 14, 15)) with (168, 7) results (filtered)\n",
      "2020-07-10 19:01:03,140  SpectraRegion  INFO: Created matrices with shape (179, 17900) and (500, 17900) (target, bg)\n",
      "I0710 19:01:03.140425 139724973016896 segment.py:1613] Created matrices with shape (179, 17900) and (500, 17900) (target, bg)\n",
      "2020-07-10 19:01:04,093  SpectraRegion  INFO: DE data for case: [15]\n",
      "I0710 19:01:04.093558 139724973016896 segment.py:1842] DE data for case: [15]\n",
      "2020-07-10 19:01:04,095  SpectraRegion  INFO: DE data for control: [10, 4, 2, 14, 13, 12, 3, 1]\n",
      "I0710 19:01:04.095219 139724973016896 segment.py:1843] DE data for control: [10, 4, 2, 14, 13, 12, 3, 1]\n",
      "2020-07-10 19:01:04,096  SpectraRegion  INFO: DE result key: ((15,), (1, 2, 3, 4, 10, 12, 13, 14))\n",
      "I0710 19:01:04.096808 139724973016896 segment.py:1847] DE result key: ((15,), (1, 2, 3, 4, 10, 12, 13, 14))\n"
     ]
    },
    {
     "name": "stdout",
     "output_type": "stream",
     "text": [
      "Running [15] against [10, 4, 2, 14, 13, 12, 3, 1]\n"
     ]
    },
    {
     "name": "stderr",
     "output_type": "stream",
     "text": [
      "2020-07-10 19:01:05,267  SpectraRegion  INFO: DE DataFrame ready. Shape (17900, 679)\n",
      "I0710 19:01:05.267461 139724973016896 segment.py:1891] DE DataFrame ready. Shape (17900, 679)\n",
      "2020-07-10 19:01:05,271  SpectraRegion  INFO: DE Sample DataFrame ready. Shape (679, 3)\n",
      "I0710 19:01:05.271798 139724973016896 segment.py:1899] DE Sample DataFrame ready. Shape (679, 3)\n",
      "2020-07-10 19:01:05,279  SpectraRegion  INFO: Performing DE-test: ttest\n",
      "I0710 19:01:05.279590 139724973016896 segment.py:1957] Performing DE-test: ttest\n",
      "2020-07-10 19:01:06,428  SpectraRegion  INFO: DE-test (ttest) finished. Results available: ((15,), (1, 2, 3, 4, 10, 12, 13, 14))\n",
      "I0710 19:01:06.428442 139724973016896 segment.py:1990] DE-test (ttest) finished. Results available: ((15,), (1, 2, 3, 4, 10, 12, 13, 14))\n",
      "2020-07-10 19:01:06,430  SpectraRegion  INFO: Performing DE-test: rank\n",
      "I0710 19:01:06.430154 139724973016896 segment.py:1957] Performing DE-test: rank\n",
      "2020-07-10 19:01:15,085  SpectraRegion  INFO: DE-test (rank) finished. Results available: ((15,), (1, 2, 3, 4, 10, 12, 13, 14))\n",
      "I0710 19:01:15.085754 139724973016896 segment.py:1990] DE-test (rank) finished. Results available: ((15,), (1, 2, 3, 4, 10, 12, 13, 14))\n",
      "2020-07-10 19:01:15,108  SpectraRegion  INFO: DE result for case ((15,), (1, 2, 3, 4, 10, 12, 13, 14)) with (17900, 7) results\n",
      "I0710 19:01:15.108216 139724973016896 segment.py:1579] DE result for case ((15,), (1, 2, 3, 4, 10, 12, 13, 14)) with (17900, 7) results\n",
      "2020-07-10 19:01:15,110  SpectraRegion  INFO: DE result logFC inversed\n",
      "I0710 19:01:15.110696 139724973016896 segment.py:1602] DE result logFC inversed\n",
      "2020-07-10 19:01:15,116  SpectraRegion  INFO: DE result for case ((15,), (1, 2, 3, 4, 10, 12, 13, 14)) with (754, 7) results (filtered)\n",
      "I0710 19:01:15.116910 139724973016896 segment.py:1607] DE result for case ((15,), (1, 2, 3, 4, 10, 12, 13, 14)) with (754, 7) results (filtered)\n",
      "2020-07-10 19:01:15,244  SpectraRegion  INFO: Created matrices with shape (129, 17900) and (550, 17900) (target, bg)\n",
      "I0710 19:01:15.244581 139724973016896 segment.py:1613] Created matrices with shape (129, 17900) and (550, 17900) (target, bg)\n",
      "2020-07-10 19:01:18,181  SpectraRegion  INFO: DE result for case ((15,), (1, 2, 3, 4, 10, 12, 13, 14)) with (17900, 7) results\n",
      "I0710 19:01:18.181895 139724973016896 segment.py:1579] DE result for case ((15,), (1, 2, 3, 4, 10, 12, 13, 14)) with (17900, 7) results\n",
      "2020-07-10 19:01:18,184  SpectraRegion  INFO: DE result logFC inversed\n",
      "I0710 19:01:18.184065 139724973016896 segment.py:1602] DE result logFC inversed\n",
      "2020-07-10 19:01:18,188  SpectraRegion  INFO: DE result for case ((15,), (1, 2, 3, 4, 10, 12, 13, 14)) with (743, 7) results (filtered)\n",
      "I0710 19:01:18.188821 139724973016896 segment.py:1607] DE result for case ((15,), (1, 2, 3, 4, 10, 12, 13, 14)) with (743, 7) results (filtered)\n",
      "2020-07-10 19:01:18,316  SpectraRegion  INFO: Created matrices with shape (129, 17900) and (550, 17900) (target, bg)\n",
      "I0710 19:01:18.316880 139724973016896 segment.py:1613] Created matrices with shape (129, 17900) and (550, 17900) (target, bg)\n",
      "2020-07-10 19:01:21,233  SpectraRegion  INFO: DE data for case: [2]\n",
      "I0710 19:01:21.233182 139724973016896 segment.py:1842] DE data for case: [2]\n",
      "2020-07-10 19:01:21,235  SpectraRegion  INFO: DE data for control: [10, 4, 15, 14, 13, 12, 3, 1]\n",
      "I0710 19:01:21.235056 139724973016896 segment.py:1843] DE data for control: [10, 4, 15, 14, 13, 12, 3, 1]\n",
      "2020-07-10 19:01:21,237  SpectraRegion  INFO: DE result key: ((2,), (1, 3, 4, 10, 12, 13, 14, 15))\n",
      "I0710 19:01:21.237370 139724973016896 segment.py:1847] DE result key: ((2,), (1, 3, 4, 10, 12, 13, 14, 15))\n"
     ]
    },
    {
     "name": "stdout",
     "output_type": "stream",
     "text": [
      "Running [2] against [10, 4, 15, 14, 13, 12, 3, 1]\n"
     ]
    },
    {
     "name": "stderr",
     "output_type": "stream",
     "text": [
      "2020-07-10 19:01:22,393  SpectraRegion  INFO: DE DataFrame ready. Shape (17900, 679)\n",
      "I0710 19:01:22.393265 139724973016896 segment.py:1891] DE DataFrame ready. Shape (17900, 679)\n",
      "2020-07-10 19:01:22,397  SpectraRegion  INFO: DE Sample DataFrame ready. Shape (679, 3)\n",
      "I0710 19:01:22.397828 139724973016896 segment.py:1899] DE Sample DataFrame ready. Shape (679, 3)\n",
      "2020-07-10 19:01:22,404  SpectraRegion  INFO: Performing DE-test: ttest\n",
      "I0710 19:01:22.404836 139724973016896 segment.py:1957] Performing DE-test: ttest\n",
      "2020-07-10 19:01:23,519  SpectraRegion  INFO: DE-test (ttest) finished. Results available: ((2,), (1, 3, 4, 10, 12, 13, 14, 15))\n",
      "I0710 19:01:23.519813 139724973016896 segment.py:1990] DE-test (ttest) finished. Results available: ((2,), (1, 3, 4, 10, 12, 13, 14, 15))\n",
      "2020-07-10 19:01:23,521  SpectraRegion  INFO: Performing DE-test: rank\n",
      "I0710 19:01:23.521243 139724973016896 segment.py:1957] Performing DE-test: rank\n",
      "2020-07-10 19:01:31,894  SpectraRegion  INFO: DE-test (rank) finished. Results available: ((2,), (1, 3, 4, 10, 12, 13, 14, 15))\n",
      "I0710 19:01:31.894631 139724973016896 segment.py:1990] DE-test (rank) finished. Results available: ((2,), (1, 3, 4, 10, 12, 13, 14, 15))\n",
      "2020-07-10 19:01:31,915  SpectraRegion  INFO: DE result for case ((2,), (1, 3, 4, 10, 12, 13, 14, 15)) with (17900, 7) results\n",
      "I0710 19:01:31.915957 139724973016896 segment.py:1579] DE result for case ((2,), (1, 3, 4, 10, 12, 13, 14, 15)) with (17900, 7) results\n",
      "2020-07-10 19:01:31,917  SpectraRegion  INFO: DE result logFC inversed\n",
      "I0710 19:01:31.917704 139724973016896 segment.py:1602] DE result logFC inversed\n",
      "2020-07-10 19:01:31,922  SpectraRegion  INFO: DE result for case ((2,), (1, 3, 4, 10, 12, 13, 14, 15)) with (567, 7) results (filtered)\n",
      "I0710 19:01:31.922649 139724973016896 segment.py:1607] DE result for case ((2,), (1, 3, 4, 10, 12, 13, 14, 15)) with (567, 7) results (filtered)\n",
      "2020-07-10 19:01:32,064  SpectraRegion  INFO: Created matrices with shape (100, 17900) and (579, 17900) (target, bg)\n",
      "I0710 19:01:32.064653 139724973016896 segment.py:1613] Created matrices with shape (100, 17900) and (579, 17900) (target, bg)\n",
      "2020-07-10 19:01:34,356  SpectraRegion  INFO: DE result for case ((2,), (1, 3, 4, 10, 12, 13, 14, 15)) with (17900, 7) results\n",
      "I0710 19:01:34.356984 139724973016896 segment.py:1579] DE result for case ((2,), (1, 3, 4, 10, 12, 13, 14, 15)) with (17900, 7) results\n",
      "2020-07-10 19:01:34,358  SpectraRegion  INFO: DE result logFC inversed\n",
      "I0710 19:01:34.358855 139724973016896 segment.py:1602] DE result logFC inversed\n",
      "2020-07-10 19:01:34,365  SpectraRegion  INFO: DE result for case ((2,), (1, 3, 4, 10, 12, 13, 14, 15)) with (504, 7) results (filtered)\n",
      "I0710 19:01:34.365554 139724973016896 segment.py:1607] DE result for case ((2,), (1, 3, 4, 10, 12, 13, 14, 15)) with (504, 7) results (filtered)\n",
      "2020-07-10 19:01:34,493  SpectraRegion  INFO: Created matrices with shape (100, 17900) and (579, 17900) (target, bg)\n",
      "I0710 19:01:34.493565 139724973016896 segment.py:1613] Created matrices with shape (100, 17900) and (579, 17900) (target, bg)\n",
      "2020-07-10 19:01:36,463  SpectraRegion  INFO: DE data for case: [14]\n",
      "I0710 19:01:36.463804 139724973016896 segment.py:1842] DE data for case: [14]\n",
      "2020-07-10 19:01:36,465  SpectraRegion  INFO: DE data for control: [10, 4, 15, 2, 13, 12, 3, 1]\n",
      "I0710 19:01:36.465390 139724973016896 segment.py:1843] DE data for control: [10, 4, 15, 2, 13, 12, 3, 1]\n",
      "2020-07-10 19:01:36,467  SpectraRegion  INFO: DE result key: ((14,), (1, 2, 3, 4, 10, 12, 13, 15))\n",
      "I0710 19:01:36.467133 139724973016896 segment.py:1847] DE result key: ((14,), (1, 2, 3, 4, 10, 12, 13, 15))\n"
     ]
    },
    {
     "name": "stdout",
     "output_type": "stream",
     "text": [
      "Running [14] against [10, 4, 15, 2, 13, 12, 3, 1]\n"
     ]
    },
    {
     "name": "stderr",
     "output_type": "stream",
     "text": [
      "2020-07-10 19:01:37,625  SpectraRegion  INFO: DE DataFrame ready. Shape (17900, 679)\n",
      "I0710 19:01:37.625143 139724973016896 segment.py:1891] DE DataFrame ready. Shape (17900, 679)\n",
      "2020-07-10 19:01:37,630  SpectraRegion  INFO: DE Sample DataFrame ready. Shape (679, 3)\n",
      "I0710 19:01:37.630781 139724973016896 segment.py:1899] DE Sample DataFrame ready. Shape (679, 3)\n",
      "2020-07-10 19:01:37,643  SpectraRegion  INFO: Performing DE-test: ttest\n",
      "I0710 19:01:37.643850 139724973016896 segment.py:1957] Performing DE-test: ttest\n",
      "2020-07-10 19:01:38,783  SpectraRegion  INFO: DE-test (ttest) finished. Results available: ((14,), (1, 2, 3, 4, 10, 12, 13, 15))\n",
      "I0710 19:01:38.783921 139724973016896 segment.py:1990] DE-test (ttest) finished. Results available: ((14,), (1, 2, 3, 4, 10, 12, 13, 15))\n",
      "2020-07-10 19:01:38,785  SpectraRegion  INFO: Performing DE-test: rank\n",
      "I0710 19:01:38.785328 139724973016896 segment.py:1957] Performing DE-test: rank\n",
      "2020-07-10 19:01:47,021  SpectraRegion  INFO: DE-test (rank) finished. Results available: ((14,), (1, 2, 3, 4, 10, 12, 13, 15))\n",
      "I0710 19:01:47.021533 139724973016896 segment.py:1990] DE-test (rank) finished. Results available: ((14,), (1, 2, 3, 4, 10, 12, 13, 15))\n",
      "2020-07-10 19:01:47,044  SpectraRegion  INFO: DE result for case ((14,), (1, 2, 3, 4, 10, 12, 13, 15)) with (17900, 7) results\n",
      "I0710 19:01:47.044862 139724973016896 segment.py:1579] DE result for case ((14,), (1, 2, 3, 4, 10, 12, 13, 15)) with (17900, 7) results\n",
      "2020-07-10 19:01:47,047  SpectraRegion  INFO: DE result logFC inversed\n",
      "I0710 19:01:47.047067 139724973016896 segment.py:1602] DE result logFC inversed\n",
      "2020-07-10 19:01:47,053  SpectraRegion  INFO: DE result for case ((14,), (1, 2, 3, 4, 10, 12, 13, 15)) with (198, 7) results (filtered)\n",
      "I0710 19:01:47.053368 139724973016896 segment.py:1607] DE result for case ((14,), (1, 2, 3, 4, 10, 12, 13, 15)) with (198, 7) results (filtered)\n",
      "2020-07-10 19:01:47,204  SpectraRegion  INFO: Created matrices with shape (52, 17900) and (627, 17900) (target, bg)\n",
      "I0710 19:01:47.204761 139724973016896 segment.py:1613] Created matrices with shape (52, 17900) and (627, 17900) (target, bg)\n",
      "2020-07-10 19:01:48,102  SpectraRegion  INFO: DE result for case ((14,), (1, 2, 3, 4, 10, 12, 13, 15)) with (17900, 7) results\n",
      "I0710 19:01:48.102996 139724973016896 segment.py:1579] DE result for case ((14,), (1, 2, 3, 4, 10, 12, 13, 15)) with (17900, 7) results\n",
      "2020-07-10 19:01:48,105  SpectraRegion  INFO: DE result logFC inversed\n",
      "I0710 19:01:48.105313 139724973016896 segment.py:1602] DE result logFC inversed\n",
      "2020-07-10 19:01:48,110  SpectraRegion  INFO: DE result for case ((14,), (1, 2, 3, 4, 10, 12, 13, 15)) with (127, 7) results (filtered)\n",
      "I0710 19:01:48.110105 139724973016896 segment.py:1607] DE result for case ((14,), (1, 2, 3, 4, 10, 12, 13, 15)) with (127, 7) results (filtered)\n",
      "2020-07-10 19:01:48,252  SpectraRegion  INFO: Created matrices with shape (52, 17900) and (627, 17900) (target, bg)\n",
      "I0710 19:01:48.252793 139724973016896 segment.py:1613] Created matrices with shape (52, 17900) and (627, 17900) (target, bg)\n",
      "2020-07-10 19:01:48,578  SpectraRegion  INFO: DE data for case: [13]\n",
      "I0710 19:01:48.578735 139724973016896 segment.py:1842] DE data for case: [13]\n",
      "2020-07-10 19:01:48,702  SpectraRegion  INFO: DE data for control: [10, 4, 15, 2, 14, 12, 3, 1]\n",
      "I0710 19:01:48.702239 139724973016896 segment.py:1843] DE data for control: [10, 4, 15, 2, 14, 12, 3, 1]\n",
      "2020-07-10 19:01:48,704  SpectraRegion  INFO: DE result key: ((13,), (1, 2, 3, 4, 10, 12, 14, 15))\n",
      "I0710 19:01:48.704907 139724973016896 segment.py:1847] DE result key: ((13,), (1, 2, 3, 4, 10, 12, 14, 15))\n"
     ]
    },
    {
     "name": "stdout",
     "output_type": "stream",
     "text": [
      "Running [13] against [10, 4, 15, 2, 14, 12, 3, 1]\n"
     ]
    },
    {
     "name": "stderr",
     "output_type": "stream",
     "text": [
      "2020-07-10 19:01:49,865  SpectraRegion  INFO: DE DataFrame ready. Shape (17900, 679)\n",
      "I0710 19:01:49.865596 139724973016896 segment.py:1891] DE DataFrame ready. Shape (17900, 679)\n",
      "2020-07-10 19:01:49,870  SpectraRegion  INFO: DE Sample DataFrame ready. Shape (679, 3)\n",
      "I0710 19:01:49.870507 139724973016896 segment.py:1899] DE Sample DataFrame ready. Shape (679, 3)\n",
      "2020-07-10 19:01:49,876  SpectraRegion  INFO: Performing DE-test: ttest\n",
      "I0710 19:01:49.876590 139724973016896 segment.py:1957] Performing DE-test: ttest\n",
      "2020-07-10 19:01:50,982  SpectraRegion  INFO: DE-test (ttest) finished. Results available: ((13,), (1, 2, 3, 4, 10, 12, 14, 15))\n",
      "I0710 19:01:50.982522 139724973016896 segment.py:1990] DE-test (ttest) finished. Results available: ((13,), (1, 2, 3, 4, 10, 12, 14, 15))\n",
      "2020-07-10 19:01:50,984  SpectraRegion  INFO: Performing DE-test: rank\n",
      "I0710 19:01:50.984055 139724973016896 segment.py:1957] Performing DE-test: rank\n",
      "2020-07-10 19:01:59,249  SpectraRegion  INFO: DE-test (rank) finished. Results available: ((13,), (1, 2, 3, 4, 10, 12, 14, 15))\n",
      "I0710 19:01:59.249265 139724973016896 segment.py:1990] DE-test (rank) finished. Results available: ((13,), (1, 2, 3, 4, 10, 12, 14, 15))\n",
      "2020-07-10 19:01:59,270  SpectraRegion  INFO: DE result for case ((13,), (1, 2, 3, 4, 10, 12, 14, 15)) with (17900, 7) results\n",
      "I0710 19:01:59.270471 139724973016896 segment.py:1579] DE result for case ((13,), (1, 2, 3, 4, 10, 12, 14, 15)) with (17900, 7) results\n",
      "2020-07-10 19:01:59,272  SpectraRegion  INFO: DE result logFC inversed\n",
      "I0710 19:01:59.272649 139724973016896 segment.py:1602] DE result logFC inversed\n",
      "2020-07-10 19:01:59,277  SpectraRegion  INFO: DE result for case ((13,), (1, 2, 3, 4, 10, 12, 14, 15)) with (223, 7) results (filtered)\n",
      "I0710 19:01:59.277469 139724973016896 segment.py:1607] DE result for case ((13,), (1, 2, 3, 4, 10, 12, 14, 15)) with (223, 7) results (filtered)\n",
      "2020-07-10 19:01:59,417  SpectraRegion  INFO: Created matrices with shape (48, 17900) and (631, 17900) (target, bg)\n",
      "I0710 19:01:59.417415 139724973016896 segment.py:1613] Created matrices with shape (48, 17900) and (631, 17900) (target, bg)\n",
      "2020-07-10 19:02:00,239  SpectraRegion  INFO: DE result for case ((13,), (1, 2, 3, 4, 10, 12, 14, 15)) with (17900, 7) results\n",
      "I0710 19:02:00.239881 139724973016896 segment.py:1579] DE result for case ((13,), (1, 2, 3, 4, 10, 12, 14, 15)) with (17900, 7) results\n",
      "2020-07-10 19:02:00,241  SpectraRegion  INFO: DE result logFC inversed\n",
      "I0710 19:02:00.241806 139724973016896 segment.py:1602] DE result logFC inversed\n",
      "2020-07-10 19:02:00,246  SpectraRegion  INFO: DE result for case ((13,), (1, 2, 3, 4, 10, 12, 14, 15)) with (189, 7) results (filtered)\n",
      "I0710 19:02:00.246890 139724973016896 segment.py:1607] DE result for case ((13,), (1, 2, 3, 4, 10, 12, 14, 15)) with (189, 7) results (filtered)\n",
      "2020-07-10 19:02:00,381  SpectraRegion  INFO: Created matrices with shape (48, 17900) and (631, 17900) (target, bg)\n",
      "I0710 19:02:00.381954 139724973016896 segment.py:1613] Created matrices with shape (48, 17900) and (631, 17900) (target, bg)\n",
      "2020-07-10 19:02:01,010  SpectraRegion  INFO: DE data for case: [12]\n",
      "I0710 19:02:01.010530 139724973016896 segment.py:1842] DE data for case: [12]\n",
      "2020-07-10 19:02:01,012  SpectraRegion  INFO: DE data for control: [10, 4, 15, 2, 14, 13, 3, 1]\n",
      "I0710 19:02:01.012580 139724973016896 segment.py:1843] DE data for control: [10, 4, 15, 2, 14, 13, 3, 1]\n",
      "2020-07-10 19:02:01,015  SpectraRegion  INFO: DE result key: ((12,), (1, 2, 3, 4, 10, 13, 14, 15))\n",
      "I0710 19:02:01.015332 139724973016896 segment.py:1847] DE result key: ((12,), (1, 2, 3, 4, 10, 13, 14, 15))\n"
     ]
    },
    {
     "name": "stdout",
     "output_type": "stream",
     "text": [
      "Running [12] against [10, 4, 15, 2, 14, 13, 3, 1]\n"
     ]
    },
    {
     "name": "stderr",
     "output_type": "stream",
     "text": [
      "2020-07-10 19:02:02,182  SpectraRegion  INFO: DE DataFrame ready. Shape (17900, 679)\n",
      "I0710 19:02:02.182631 139724973016896 segment.py:1891] DE DataFrame ready. Shape (17900, 679)\n",
      "2020-07-10 19:02:02,189  SpectraRegion  INFO: DE Sample DataFrame ready. Shape (679, 3)\n",
      "I0710 19:02:02.189301 139724973016896 segment.py:1899] DE Sample DataFrame ready. Shape (679, 3)\n",
      "2020-07-10 19:02:02,195  SpectraRegion  INFO: Performing DE-test: ttest\n",
      "I0710 19:02:02.195737 139724973016896 segment.py:1957] Performing DE-test: ttest\n",
      "2020-07-10 19:02:03,346  SpectraRegion  INFO: DE-test (ttest) finished. Results available: ((12,), (1, 2, 3, 4, 10, 13, 14, 15))\n",
      "I0710 19:02:03.346042 139724973016896 segment.py:1990] DE-test (ttest) finished. Results available: ((12,), (1, 2, 3, 4, 10, 13, 14, 15))\n",
      "2020-07-10 19:02:03,347  SpectraRegion  INFO: Performing DE-test: rank\n",
      "I0710 19:02:03.347572 139724973016896 segment.py:1957] Performing DE-test: rank\n",
      "2020-07-10 19:02:12,124  SpectraRegion  INFO: DE-test (rank) finished. Results available: ((12,), (1, 2, 3, 4, 10, 13, 14, 15))\n",
      "I0710 19:02:12.124501 139724973016896 segment.py:1990] DE-test (rank) finished. Results available: ((12,), (1, 2, 3, 4, 10, 13, 14, 15))\n",
      "2020-07-10 19:02:12,150  SpectraRegion  INFO: DE result for case ((12,), (1, 2, 3, 4, 10, 13, 14, 15)) with (17900, 7) results\n",
      "I0710 19:02:12.150261 139724973016896 segment.py:1579] DE result for case ((12,), (1, 2, 3, 4, 10, 13, 14, 15)) with (17900, 7) results\n",
      "2020-07-10 19:02:12,152  SpectraRegion  INFO: DE result logFC inversed\n",
      "I0710 19:02:12.152608 139724973016896 segment.py:1602] DE result logFC inversed\n",
      "2020-07-10 19:02:12,162  SpectraRegion  INFO: DE result for case ((12,), (1, 2, 3, 4, 10, 13, 14, 15)) with (1182, 7) results (filtered)\n",
      "I0710 19:02:12.162224 139724973016896 segment.py:1607] DE result for case ((12,), (1, 2, 3, 4, 10, 13, 14, 15)) with (1182, 7) results (filtered)\n",
      "2020-07-10 19:02:12,309  SpectraRegion  INFO: Created matrices with shape (67, 17900) and (612, 17900) (target, bg)\n",
      "I0710 19:02:12.309341 139724973016896 segment.py:1613] Created matrices with shape (67, 17900) and (612, 17900) (target, bg)\n",
      "2020-07-10 19:02:15,666  SpectraRegion  INFO: DE result for case ((12,), (1, 2, 3, 4, 10, 13, 14, 15)) with (17900, 7) results\n",
      "I0710 19:02:15.666519 139724973016896 segment.py:1579] DE result for case ((12,), (1, 2, 3, 4, 10, 13, 14, 15)) with (17900, 7) results\n",
      "2020-07-10 19:02:15,668  SpectraRegion  INFO: DE result logFC inversed\n",
      "I0710 19:02:15.668006 139724973016896 segment.py:1602] DE result logFC inversed\n",
      "2020-07-10 19:02:15,673  SpectraRegion  INFO: DE result for case ((12,), (1, 2, 3, 4, 10, 13, 14, 15)) with (1181, 7) results (filtered)\n",
      "I0710 19:02:15.673808 139724973016896 segment.py:1607] DE result for case ((12,), (1, 2, 3, 4, 10, 13, 14, 15)) with (1181, 7) results (filtered)\n",
      "2020-07-10 19:02:15,814  SpectraRegion  INFO: Created matrices with shape (67, 17900) and (612, 17900) (target, bg)\n",
      "I0710 19:02:15.814077 139724973016896 segment.py:1613] Created matrices with shape (67, 17900) and (612, 17900) (target, bg)\n",
      "2020-07-10 19:02:19,423  SpectraRegion  INFO: DE data for case: [3]\n",
      "I0710 19:02:19.423264 139724973016896 segment.py:1842] DE data for case: [3]\n",
      "2020-07-10 19:02:19,425  SpectraRegion  INFO: DE data for control: [10, 4, 15, 2, 14, 13, 12, 1]\n",
      "I0710 19:02:19.425010 139724973016896 segment.py:1843] DE data for control: [10, 4, 15, 2, 14, 13, 12, 1]\n",
      "2020-07-10 19:02:19,426  SpectraRegion  INFO: DE result key: ((3,), (1, 2, 4, 10, 12, 13, 14, 15))\n",
      "I0710 19:02:19.426577 139724973016896 segment.py:1847] DE result key: ((3,), (1, 2, 4, 10, 12, 13, 14, 15))\n"
     ]
    },
    {
     "name": "stdout",
     "output_type": "stream",
     "text": [
      "Running [3] against [10, 4, 15, 2, 14, 13, 12, 1]\n"
     ]
    },
    {
     "name": "stderr",
     "output_type": "stream",
     "text": [
      "2020-07-10 19:02:20,656  SpectraRegion  INFO: DE DataFrame ready. Shape (17900, 679)\n",
      "I0710 19:02:20.656235 139724973016896 segment.py:1891] DE DataFrame ready. Shape (17900, 679)\n",
      "2020-07-10 19:02:20,661  SpectraRegion  INFO: DE Sample DataFrame ready. Shape (679, 3)\n",
      "I0710 19:02:20.661095 139724973016896 segment.py:1899] DE Sample DataFrame ready. Shape (679, 3)\n",
      "2020-07-10 19:02:20,669  SpectraRegion  INFO: Performing DE-test: ttest\n",
      "I0710 19:02:20.669447 139724973016896 segment.py:1957] Performing DE-test: ttest\n",
      "2020-07-10 19:02:21,952  SpectraRegion  INFO: DE-test (ttest) finished. Results available: ((3,), (1, 2, 4, 10, 12, 13, 14, 15))\n",
      "I0710 19:02:21.952128 139724973016896 segment.py:1990] DE-test (ttest) finished. Results available: ((3,), (1, 2, 4, 10, 12, 13, 14, 15))\n",
      "2020-07-10 19:02:21,954  SpectraRegion  INFO: Performing DE-test: rank\n",
      "I0710 19:02:21.954590 139724973016896 segment.py:1957] Performing DE-test: rank\n",
      "2020-07-10 19:02:30,424  SpectraRegion  INFO: DE-test (rank) finished. Results available: ((3,), (1, 2, 4, 10, 12, 13, 14, 15))\n",
      "I0710 19:02:30.424594 139724973016896 segment.py:1990] DE-test (rank) finished. Results available: ((3,), (1, 2, 4, 10, 12, 13, 14, 15))\n",
      "2020-07-10 19:02:30,447  SpectraRegion  INFO: DE result for case ((3,), (1, 2, 4, 10, 12, 13, 14, 15)) with (17900, 7) results\n",
      "I0710 19:02:30.447357 139724973016896 segment.py:1579] DE result for case ((3,), (1, 2, 4, 10, 12, 13, 14, 15)) with (17900, 7) results\n",
      "2020-07-10 19:02:30,449  SpectraRegion  INFO: DE result logFC inversed\n",
      "I0710 19:02:30.449141 139724973016896 segment.py:1602] DE result logFC inversed\n",
      "2020-07-10 19:02:30,456  SpectraRegion  INFO: DE result for case ((3,), (1, 2, 4, 10, 12, 13, 14, 15)) with (843, 7) results (filtered)\n",
      "I0710 19:02:30.456373 139724973016896 segment.py:1607] DE result for case ((3,), (1, 2, 4, 10, 12, 13, 14, 15)) with (843, 7) results (filtered)\n",
      "2020-07-10 19:02:30,607  SpectraRegion  INFO: Created matrices with shape (27, 17900) and (652, 17900) (target, bg)\n",
      "I0710 19:02:30.607319 139724973016896 segment.py:1613] Created matrices with shape (27, 17900) and (652, 17900) (target, bg)\n",
      "2020-07-10 19:02:34,362  SpectraRegion  INFO: DE result for case ((3,), (1, 2, 4, 10, 12, 13, 14, 15)) with (17900, 7) results\n",
      "I0710 19:02:34.362049 139724973016896 segment.py:1579] DE result for case ((3,), (1, 2, 4, 10, 12, 13, 14, 15)) with (17900, 7) results\n",
      "2020-07-10 19:02:34,363  SpectraRegion  INFO: DE result logFC inversed\n",
      "I0710 19:02:34.363407 139724973016896 segment.py:1602] DE result logFC inversed\n",
      "2020-07-10 19:02:34,368  SpectraRegion  INFO: DE result for case ((3,), (1, 2, 4, 10, 12, 13, 14, 15)) with (787, 7) results (filtered)\n",
      "I0710 19:02:34.368865 139724973016896 segment.py:1607] DE result for case ((3,), (1, 2, 4, 10, 12, 13, 14, 15)) with (787, 7) results (filtered)\n",
      "2020-07-10 19:02:34,511  SpectraRegion  INFO: Created matrices with shape (27, 17900) and (652, 17900) (target, bg)\n",
      "I0710 19:02:34.511616 139724973016896 segment.py:1613] Created matrices with shape (27, 17900) and (652, 17900) (target, bg)\n",
      "2020-07-10 19:02:37,960  SpectraRegion  INFO: DE data for case: [1]\n",
      "I0710 19:02:37.960563 139724973016896 segment.py:1842] DE data for case: [1]\n",
      "2020-07-10 19:02:37,962  SpectraRegion  INFO: DE data for control: [10, 4, 15, 2, 14, 13, 12, 3]\n",
      "I0710 19:02:37.962670 139724973016896 segment.py:1843] DE data for control: [10, 4, 15, 2, 14, 13, 12, 3]\n",
      "2020-07-10 19:02:37,965  SpectraRegion  INFO: DE result key: ((1,), (2, 3, 4, 10, 12, 13, 14, 15))\n",
      "I0710 19:02:37.965191 139724973016896 segment.py:1847] DE result key: ((1,), (2, 3, 4, 10, 12, 13, 14, 15))\n"
     ]
    },
    {
     "name": "stdout",
     "output_type": "stream",
     "text": [
      "Running [1] against [10, 4, 15, 2, 14, 13, 12, 3]\n"
     ]
    },
    {
     "name": "stderr",
     "output_type": "stream",
     "text": [
      "2020-07-10 19:02:39,214  SpectraRegion  INFO: DE DataFrame ready. Shape (17900, 679)\n",
      "I0710 19:02:39.214023 139724973016896 segment.py:1891] DE DataFrame ready. Shape (17900, 679)\n",
      "2020-07-10 19:02:39,218  SpectraRegion  INFO: DE Sample DataFrame ready. Shape (679, 3)\n",
      "I0710 19:02:39.218706 139724973016896 segment.py:1899] DE Sample DataFrame ready. Shape (679, 3)\n",
      "2020-07-10 19:02:39,225  SpectraRegion  INFO: Performing DE-test: ttest\n",
      "I0710 19:02:39.225805 139724973016896 segment.py:1957] Performing DE-test: ttest\n",
      "2020-07-10 19:02:40,347  SpectraRegion  INFO: DE-test (ttest) finished. Results available: ((1,), (2, 3, 4, 10, 12, 13, 14, 15))\n",
      "I0710 19:02:40.347722 139724973016896 segment.py:1990] DE-test (ttest) finished. Results available: ((1,), (2, 3, 4, 10, 12, 13, 14, 15))\n",
      "2020-07-10 19:02:40,349  SpectraRegion  INFO: Performing DE-test: rank\n",
      "I0710 19:02:40.349649 139724973016896 segment.py:1957] Performing DE-test: rank\n",
      "2020-07-10 19:02:49,685  SpectraRegion  INFO: DE-test (rank) finished. Results available: ((1,), (2, 3, 4, 10, 12, 13, 14, 15))\n",
      "I0710 19:02:49.685540 139724973016896 segment.py:1990] DE-test (rank) finished. Results available: ((1,), (2, 3, 4, 10, 12, 13, 14, 15))\n",
      "2020-07-10 19:02:49,712  SpectraRegion  INFO: DE result for case ((1,), (2, 3, 4, 10, 12, 13, 14, 15)) with (17900, 7) results\n",
      "I0710 19:02:49.712679 139724973016896 segment.py:1579] DE result for case ((1,), (2, 3, 4, 10, 12, 13, 14, 15)) with (17900, 7) results\n",
      "2020-07-10 19:02:49,715  SpectraRegion  INFO: DE result logFC inversed\n",
      "I0710 19:02:49.715139 139724973016896 segment.py:1602] DE result logFC inversed\n",
      "2020-07-10 19:02:49,724  SpectraRegion  INFO: DE result for case ((1,), (2, 3, 4, 10, 12, 13, 14, 15)) with (2168, 7) results (filtered)\n",
      "I0710 19:02:49.724321 139724973016896 segment.py:1607] DE result for case ((1,), (2, 3, 4, 10, 12, 13, 14, 15)) with (2168, 7) results (filtered)\n",
      "2020-07-10 19:02:49,900  SpectraRegion  INFO: Created matrices with shape (22, 17900) and (657, 17900) (target, bg)\n",
      "I0710 19:02:49.900783 139724973016896 segment.py:1613] Created matrices with shape (22, 17900) and (657, 17900) (target, bg)\n",
      "2020-07-10 19:02:59,596  SpectraRegion  INFO: DE result for case ((1,), (2, 3, 4, 10, 12, 13, 14, 15)) with (17900, 7) results\n",
      "I0710 19:02:59.596009 139724973016896 segment.py:1579] DE result for case ((1,), (2, 3, 4, 10, 12, 13, 14, 15)) with (17900, 7) results\n",
      "2020-07-10 19:02:59,597  SpectraRegion  INFO: DE result logFC inversed\n",
      "I0710 19:02:59.597679 139724973016896 segment.py:1602] DE result logFC inversed\n",
      "2020-07-10 19:02:59,603  SpectraRegion  INFO: DE result for case ((1,), (2, 3, 4, 10, 12, 13, 14, 15)) with (2049, 7) results (filtered)\n",
      "I0710 19:02:59.603684 139724973016896 segment.py:1607] DE result for case ((1,), (2, 3, 4, 10, 12, 13, 14, 15)) with (2049, 7) results (filtered)\n",
      "2020-07-10 19:02:59,755  SpectraRegion  INFO: Created matrices with shape (22, 17900) and (657, 17900) (target, bg)\n",
      "I0710 19:02:59.755224 139724973016896 segment.py:1613] Created matrices with shape (22, 17900) and (657, 17900) (target, bg)\n",
      "2020-07-10 19:03:08,685  SpectraRegion  INFO: DE data for case: [0]\n",
      "I0710 19:03:08.685180 139724973016896 segment.py:1842] DE data for case: [0]\n",
      "2020-07-10 19:03:08,686  SpectraRegion  INFO: DE data for control: [10, 4, 15, 2, 14, 13, 12, 3, 1]\n",
      "I0710 19:03:08.686691 139724973016896 segment.py:1843] DE data for control: [10, 4, 15, 2, 14, 13, 12, 3, 1]\n",
      "2020-07-10 19:03:08,688  SpectraRegion  INFO: DE result key: ((0,), (1, 2, 3, 4, 10, 12, 13, 14, 15))\n",
      "I0710 19:03:08.688725 139724973016896 segment.py:1847] DE result key: ((0,), (1, 2, 3, 4, 10, 12, 13, 14, 15))\n"
     ]
    },
    {
     "name": "stdout",
     "output_type": "stream",
     "text": [
      "Running [0] against [10, 4, 15, 2, 14, 13, 12, 3, 1]\n"
     ]
    },
    {
     "name": "stderr",
     "output_type": "stream",
     "text": [
      "2020-07-10 19:03:24,841  SpectraRegion  INFO: DE DataFrame ready. Shape (17900, 2655)\n",
      "I0710 19:03:24.841142 139724973016896 segment.py:1891] DE DataFrame ready. Shape (17900, 2655)\n",
      "2020-07-10 19:03:24,847  SpectraRegion  INFO: DE Sample DataFrame ready. Shape (2655, 3)\n",
      "I0710 19:03:24.847662 139724973016896 segment.py:1899] DE Sample DataFrame ready. Shape (2655, 3)\n",
      "2020-07-10 19:03:24,855  SpectraRegion  INFO: Performing DE-test: ttest\n",
      "I0710 19:03:24.855365 139724973016896 segment.py:1957] Performing DE-test: ttest\n",
      "2020-07-10 19:03:29,251  SpectraRegion  INFO: DE-test (ttest) finished. Results available: ((0,), (1, 2, 3, 4, 10, 12, 13, 14, 15))\n",
      "I0710 19:03:29.251188 139724973016896 segment.py:1990] DE-test (ttest) finished. Results available: ((0,), (1, 2, 3, 4, 10, 12, 13, 14, 15))\n",
      "2020-07-10 19:03:29,253  SpectraRegion  INFO: Performing DE-test: rank\n",
      "I0710 19:03:29.253361 139724973016896 segment.py:1957] Performing DE-test: rank\n",
      "2020-07-10 19:03:49,147  SpectraRegion  INFO: DE-test (rank) finished. Results available: ((0,), (1, 2, 3, 4, 10, 12, 13, 14, 15))\n",
      "I0710 19:03:49.147806 139724973016896 segment.py:1990] DE-test (rank) finished. Results available: ((0,), (1, 2, 3, 4, 10, 12, 13, 14, 15))\n",
      "2020-07-10 19:03:49,220  SpectraRegion  INFO: DE result for case ((0,), (1, 2, 3, 4, 10, 12, 13, 14, 15)) with (17900, 7) results\n",
      "I0710 19:03:49.220662 139724973016896 segment.py:1579] DE result for case ((0,), (1, 2, 3, 4, 10, 12, 13, 14, 15)) with (17900, 7) results\n",
      "2020-07-10 19:03:49,222  SpectraRegion  INFO: DE result logFC inversed\n",
      "I0710 19:03:49.222961 139724973016896 segment.py:1602] DE result logFC inversed\n",
      "2020-07-10 19:03:49,228  SpectraRegion  INFO: DE result for case ((0,), (1, 2, 3, 4, 10, 12, 13, 14, 15)) with (1332, 7) results (filtered)\n",
      "I0710 19:03:49.228804 139724973016896 segment.py:1607] DE result for case ((0,), (1, 2, 3, 4, 10, 12, 13, 14, 15)) with (1332, 7) results (filtered)\n",
      "2020-07-10 19:03:49,790  SpectraRegion  INFO: Created matrices with shape (1976, 17900) and (679, 17900) (target, bg)\n",
      "I0710 19:03:49.790286 139724973016896 segment.py:1613] Created matrices with shape (1976, 17900) and (679, 17900) (target, bg)\n",
      "2020-07-10 19:03:55,394  SpectraRegion  INFO: DE result for case ((0,), (1, 2, 3, 4, 10, 12, 13, 14, 15)) with (17900, 7) results\n",
      "I0710 19:03:55.394259 139724973016896 segment.py:1579] DE result for case ((0,), (1, 2, 3, 4, 10, 12, 13, 14, 15)) with (17900, 7) results\n",
      "2020-07-10 19:03:55,395  SpectraRegion  INFO: DE result logFC inversed\n",
      "I0710 19:03:55.395675 139724973016896 segment.py:1602] DE result logFC inversed\n",
      "2020-07-10 19:03:55,403  SpectraRegion  INFO: DE result for case ((0,), (1, 2, 3, 4, 10, 12, 13, 14, 15)) with (1332, 7) results (filtered)\n",
      "I0710 19:03:55.403944 139724973016896 segment.py:1607] DE result for case ((0,), (1, 2, 3, 4, 10, 12, 13, 14, 15)) with (1332, 7) results (filtered)\n",
      "2020-07-10 19:03:55,953  SpectraRegion  INFO: Created matrices with shape (1976, 17900) and (679, 17900) (target, bg)\n",
      "I0710 19:03:55.953092 139724973016896 segment.py:1613] Created matrices with shape (1976, 17900) and (679, 17900) (target, bg)\n",
      "2020-07-10 19:04:01,410  SpectraRegion  INFO: DE data for case: [10]\n",
      "I0710 19:04:01.410176 139724973016896 segment.py:1842] DE data for case: [10]\n",
      "2020-07-10 19:04:01,411  SpectraRegion  INFO: DE data for control: [0, 4, 15, 2, 14, 13, 12, 3, 1]\n",
      "I0710 19:04:01.411923 139724973016896 segment.py:1843] DE data for control: [0, 4, 15, 2, 14, 13, 12, 3, 1]\n",
      "2020-07-10 19:04:01,414  SpectraRegion  INFO: DE result key: ((10,), (0, 1, 2, 3, 4, 12, 13, 14, 15))\n",
      "I0710 19:04:01.414283 139724973016896 segment.py:1847] DE result key: ((10,), (0, 1, 2, 3, 4, 12, 13, 14, 15))\n"
     ]
    },
    {
     "name": "stdout",
     "output_type": "stream",
     "text": [
      "Running [10] against [0, 4, 15, 2, 14, 13, 12, 3, 1]\n"
     ]
    },
    {
     "name": "stderr",
     "output_type": "stream",
     "text": [
      "2020-07-10 19:04:17,456  SpectraRegion  INFO: DE DataFrame ready. Shape (17900, 2655)\n",
      "I0710 19:04:17.456995 139724973016896 segment.py:1891] DE DataFrame ready. Shape (17900, 2655)\n",
      "2020-07-10 19:04:17,462  SpectraRegion  INFO: DE Sample DataFrame ready. Shape (2655, 3)\n",
      "I0710 19:04:17.462240 139724973016896 segment.py:1899] DE Sample DataFrame ready. Shape (2655, 3)\n",
      "2020-07-10 19:04:17,474  SpectraRegion  INFO: Performing DE-test: ttest\n",
      "I0710 19:04:17.474755 139724973016896 segment.py:1957] Performing DE-test: ttest\n",
      "2020-07-10 19:04:21,973  SpectraRegion  INFO: DE-test (ttest) finished. Results available: ((10,), (0, 1, 2, 3, 4, 12, 13, 14, 15))\n",
      "I0710 19:04:21.973839 139724973016896 segment.py:1990] DE-test (ttest) finished. Results available: ((10,), (0, 1, 2, 3, 4, 12, 13, 14, 15))\n",
      "2020-07-10 19:04:21,976  SpectraRegion  INFO: Performing DE-test: rank\n",
      "I0710 19:04:21.976619 139724973016896 segment.py:1957] Performing DE-test: rank\n",
      "2020-07-10 19:04:40,650  SpectraRegion  INFO: DE-test (rank) finished. Results available: ((10,), (0, 1, 2, 3, 4, 12, 13, 14, 15))\n",
      "I0710 19:04:40.650331 139724973016896 segment.py:1990] DE-test (rank) finished. Results available: ((10,), (0, 1, 2, 3, 4, 12, 13, 14, 15))\n",
      "2020-07-10 19:04:40,725  SpectraRegion  INFO: DE result for case ((10,), (0, 1, 2, 3, 4, 12, 13, 14, 15)) with (17900, 7) results\n",
      "I0710 19:04:40.725783 139724973016896 segment.py:1579] DE result for case ((10,), (0, 1, 2, 3, 4, 12, 13, 14, 15)) with (17900, 7) results\n",
      "2020-07-10 19:04:40,727  SpectraRegion  INFO: DE result logFC inversed\n",
      "I0710 19:04:40.727170 139724973016896 segment.py:1602] DE result logFC inversed\n",
      "2020-07-10 19:04:40,732  SpectraRegion  INFO: DE result for case ((10,), (0, 1, 2, 3, 4, 12, 13, 14, 15)) with (286, 7) results (filtered)\n",
      "I0710 19:04:40.732661 139724973016896 segment.py:1607] DE result for case ((10,), (0, 1, 2, 3, 4, 12, 13, 14, 15)) with (286, 7) results (filtered)\n",
      "2020-07-10 19:04:41,310  SpectraRegion  INFO: Created matrices with shape (55, 17900) and (2600, 17900) (target, bg)\n",
      "I0710 19:04:41.310905 139724973016896 segment.py:1613] Created matrices with shape (55, 17900) and (2600, 17900) (target, bg)\n",
      "2020-07-10 19:04:42,038  SpectraRegion  INFO: DE result for case ((10,), (0, 1, 2, 3, 4, 12, 13, 14, 15)) with (17900, 7) results\n",
      "I0710 19:04:42.038225 139724973016896 segment.py:1579] DE result for case ((10,), (0, 1, 2, 3, 4, 12, 13, 14, 15)) with (17900, 7) results\n",
      "2020-07-10 19:04:42,041  SpectraRegion  INFO: DE result logFC inversed\n",
      "I0710 19:04:42.041027 139724973016896 segment.py:1602] DE result logFC inversed\n",
      "2020-07-10 19:04:42,047  SpectraRegion  INFO: DE result for case ((10,), (0, 1, 2, 3, 4, 12, 13, 14, 15)) with (279, 7) results (filtered)\n",
      "I0710 19:04:42.047912 139724973016896 segment.py:1607] DE result for case ((10,), (0, 1, 2, 3, 4, 12, 13, 14, 15)) with (279, 7) results (filtered)\n",
      "2020-07-10 19:04:42,606  SpectraRegion  INFO: Created matrices with shape (55, 17900) and (2600, 17900) (target, bg)\n",
      "I0710 19:04:42.606544 139724973016896 segment.py:1613] Created matrices with shape (55, 17900) and (2600, 17900) (target, bg)\n",
      "2020-07-10 19:04:43,458  SpectraRegion  INFO: DE data for case: [4]\n",
      "I0710 19:04:43.458117 139724973016896 segment.py:1842] DE data for case: [4]\n",
      "2020-07-10 19:04:43,461  SpectraRegion  INFO: DE data for control: [0, 10, 15, 2, 14, 13, 12, 3, 1]\n",
      "I0710 19:04:43.461313 139724973016896 segment.py:1843] DE data for control: [0, 10, 15, 2, 14, 13, 12, 3, 1]\n",
      "2020-07-10 19:04:43,464  SpectraRegion  INFO: DE result key: ((4,), (0, 1, 2, 3, 10, 12, 13, 14, 15))\n",
      "I0710 19:04:43.464651 139724973016896 segment.py:1847] DE result key: ((4,), (0, 1, 2, 3, 10, 12, 13, 14, 15))\n"
     ]
    },
    {
     "name": "stdout",
     "output_type": "stream",
     "text": [
      "Running [4] against [0, 10, 15, 2, 14, 13, 12, 3, 1]\n"
     ]
    },
    {
     "name": "stderr",
     "output_type": "stream",
     "text": [
      "2020-07-10 19:04:59,756  SpectraRegion  INFO: DE DataFrame ready. Shape (17900, 2655)\n",
      "I0710 19:04:59.756923 139724973016896 segment.py:1891] DE DataFrame ready. Shape (17900, 2655)\n",
      "2020-07-10 19:04:59,762  SpectraRegion  INFO: DE Sample DataFrame ready. Shape (2655, 3)\n",
      "I0710 19:04:59.762496 139724973016896 segment.py:1899] DE Sample DataFrame ready. Shape (2655, 3)\n",
      "2020-07-10 19:04:59,773  SpectraRegion  INFO: Performing DE-test: ttest\n",
      "I0710 19:04:59.773640 139724973016896 segment.py:1957] Performing DE-test: ttest\n",
      "2020-07-10 19:05:04,055  SpectraRegion  INFO: DE-test (ttest) finished. Results available: ((4,), (0, 1, 2, 3, 10, 12, 13, 14, 15))\n",
      "I0710 19:05:04.055859 139724973016896 segment.py:1990] DE-test (ttest) finished. Results available: ((4,), (0, 1, 2, 3, 10, 12, 13, 14, 15))\n",
      "2020-07-10 19:05:04,057  SpectraRegion  INFO: Performing DE-test: rank\n",
      "I0710 19:05:04.057964 139724973016896 segment.py:1957] Performing DE-test: rank\n",
      "2020-07-10 19:05:22,677  SpectraRegion  INFO: DE-test (rank) finished. Results available: ((4,), (0, 1, 2, 3, 10, 12, 13, 14, 15))\n",
      "I0710 19:05:22.677233 139724973016896 segment.py:1990] DE-test (rank) finished. Results available: ((4,), (0, 1, 2, 3, 10, 12, 13, 14, 15))\n",
      "2020-07-10 19:05:22,749  SpectraRegion  INFO: DE result for case ((4,), (0, 1, 2, 3, 10, 12, 13, 14, 15)) with (17900, 7) results\n",
      "I0710 19:05:22.749046 139724973016896 segment.py:1579] DE result for case ((4,), (0, 1, 2, 3, 10, 12, 13, 14, 15)) with (17900, 7) results\n",
      "2020-07-10 19:05:22,750  SpectraRegion  INFO: DE result logFC inversed\n",
      "I0710 19:05:22.750484 139724973016896 segment.py:1602] DE result logFC inversed\n",
      "2020-07-10 19:05:22,757  SpectraRegion  INFO: DE result for case ((4,), (0, 1, 2, 3, 10, 12, 13, 14, 15)) with (1287, 7) results (filtered)\n",
      "I0710 19:05:22.757394 139724973016896 segment.py:1607] DE result for case ((4,), (0, 1, 2, 3, 10, 12, 13, 14, 15)) with (1287, 7) results (filtered)\n",
      "2020-07-10 19:05:23,282  SpectraRegion  INFO: Created matrices with shape (179, 17900) and (2476, 17900) (target, bg)\n",
      "I0710 19:05:23.282307 139724973016896 segment.py:1613] Created matrices with shape (179, 17900) and (2476, 17900) (target, bg)\n",
      "2020-07-10 19:05:28,741  SpectraRegion  INFO: DE result for case ((4,), (0, 1, 2, 3, 10, 12, 13, 14, 15)) with (17900, 7) results\n",
      "I0710 19:05:28.741871 139724973016896 segment.py:1579] DE result for case ((4,), (0, 1, 2, 3, 10, 12, 13, 14, 15)) with (17900, 7) results\n",
      "2020-07-10 19:05:28,743  SpectraRegion  INFO: DE result logFC inversed\n",
      "I0710 19:05:28.743330 139724973016896 segment.py:1602] DE result logFC inversed\n",
      "2020-07-10 19:05:28,749  SpectraRegion  INFO: DE result for case ((4,), (0, 1, 2, 3, 10, 12, 13, 14, 15)) with (1287, 7) results (filtered)\n",
      "I0710 19:05:28.749299 139724973016896 segment.py:1607] DE result for case ((4,), (0, 1, 2, 3, 10, 12, 13, 14, 15)) with (1287, 7) results (filtered)\n",
      "2020-07-10 19:05:29,260  SpectraRegion  INFO: Created matrices with shape (179, 17900) and (2476, 17900) (target, bg)\n",
      "I0710 19:05:29.260082 139724973016896 segment.py:1613] Created matrices with shape (179, 17900) and (2476, 17900) (target, bg)\n",
      "2020-07-10 19:05:34,617  SpectraRegion  INFO: DE data for case: [15]\n",
      "I0710 19:05:34.617178 139724973016896 segment.py:1842] DE data for case: [15]\n",
      "2020-07-10 19:05:34,618  SpectraRegion  INFO: DE data for control: [0, 10, 4, 2, 14, 13, 12, 3, 1]\n",
      "I0710 19:05:34.618931 139724973016896 segment.py:1843] DE data for control: [0, 10, 4, 2, 14, 13, 12, 3, 1]\n",
      "2020-07-10 19:05:34,620  SpectraRegion  INFO: DE result key: ((15,), (0, 1, 2, 3, 4, 10, 12, 13, 14))\n",
      "I0710 19:05:34.620924 139724973016896 segment.py:1847] DE result key: ((15,), (0, 1, 2, 3, 4, 10, 12, 13, 14))\n"
     ]
    },
    {
     "name": "stdout",
     "output_type": "stream",
     "text": [
      "Running [15] against [0, 10, 4, 2, 14, 13, 12, 3, 1]\n"
     ]
    },
    {
     "name": "stderr",
     "output_type": "stream",
     "text": [
      "2020-07-10 19:05:50,392  SpectraRegion  INFO: DE DataFrame ready. Shape (17900, 2655)\n",
      "I0710 19:05:50.392481 139724973016896 segment.py:1891] DE DataFrame ready. Shape (17900, 2655)\n",
      "2020-07-10 19:05:50,404  SpectraRegion  INFO: DE Sample DataFrame ready. Shape (2655, 3)\n",
      "I0710 19:05:50.404354 139724973016896 segment.py:1899] DE Sample DataFrame ready. Shape (2655, 3)\n",
      "2020-07-10 19:05:50,419  SpectraRegion  INFO: Performing DE-test: ttest\n",
      "I0710 19:05:50.419790 139724973016896 segment.py:1957] Performing DE-test: ttest\n",
      "2020-07-10 19:05:54,902  SpectraRegion  INFO: DE-test (ttest) finished. Results available: ((15,), (0, 1, 2, 3, 4, 10, 12, 13, 14))\n",
      "I0710 19:05:54.902940 139724973016896 segment.py:1990] DE-test (ttest) finished. Results available: ((15,), (0, 1, 2, 3, 4, 10, 12, 13, 14))\n",
      "2020-07-10 19:05:54,904  SpectraRegion  INFO: Performing DE-test: rank\n",
      "I0710 19:05:54.904858 139724973016896 segment.py:1957] Performing DE-test: rank\n",
      "2020-07-10 19:06:13,577  SpectraRegion  INFO: DE-test (rank) finished. Results available: ((15,), (0, 1, 2, 3, 4, 10, 12, 13, 14))\n",
      "I0710 19:06:13.577574 139724973016896 segment.py:1990] DE-test (rank) finished. Results available: ((15,), (0, 1, 2, 3, 4, 10, 12, 13, 14))\n",
      "2020-07-10 19:06:13,651  SpectraRegion  INFO: DE result for case ((15,), (0, 1, 2, 3, 4, 10, 12, 13, 14)) with (17900, 7) results\n",
      "I0710 19:06:13.651937 139724973016896 segment.py:1579] DE result for case ((15,), (0, 1, 2, 3, 4, 10, 12, 13, 14)) with (17900, 7) results\n",
      "2020-07-10 19:06:13,653  SpectraRegion  INFO: DE result logFC inversed\n",
      "I0710 19:06:13.653512 139724973016896 segment.py:1602] DE result logFC inversed\n",
      "2020-07-10 19:06:13,660  SpectraRegion  INFO: DE result for case ((15,), (0, 1, 2, 3, 4, 10, 12, 13, 14)) with (22, 7) results (filtered)\n",
      "I0710 19:06:13.660120 139724973016896 segment.py:1607] DE result for case ((15,), (0, 1, 2, 3, 4, 10, 12, 13, 14)) with (22, 7) results (filtered)\n",
      "2020-07-10 19:06:14,278  SpectraRegion  INFO: Created matrices with shape (129, 17900) and (2526, 17900) (target, bg)\n",
      "I0710 19:06:14.278211 139724973016896 segment.py:1613] Created matrices with shape (129, 17900) and (2526, 17900) (target, bg)\n",
      "2020-07-10 19:06:14,378  SpectraRegion  INFO: DE result for case ((15,), (0, 1, 2, 3, 4, 10, 12, 13, 14)) with (17900, 7) results\n",
      "I0710 19:06:14.378887 139724973016896 segment.py:1579] DE result for case ((15,), (0, 1, 2, 3, 4, 10, 12, 13, 14)) with (17900, 7) results\n",
      "2020-07-10 19:06:14,380  SpectraRegion  INFO: DE result logFC inversed\n",
      "I0710 19:06:14.380495 139724973016896 segment.py:1602] DE result logFC inversed\n",
      "2020-07-10 19:06:14,387  SpectraRegion  INFO: DE result for case ((15,), (0, 1, 2, 3, 4, 10, 12, 13, 14)) with (22, 7) results (filtered)\n",
      "I0710 19:06:14.387493 139724973016896 segment.py:1607] DE result for case ((15,), (0, 1, 2, 3, 4, 10, 12, 13, 14)) with (22, 7) results (filtered)\n",
      "2020-07-10 19:06:14,925  SpectraRegion  INFO: Created matrices with shape (129, 17900) and (2526, 17900) (target, bg)\n",
      "I0710 19:06:14.925783 139724973016896 segment.py:1613] Created matrices with shape (129, 17900) and (2526, 17900) (target, bg)\n",
      "2020-07-10 19:06:15,017  SpectraRegion  INFO: DE data for case: [2]\n",
      "I0710 19:06:15.017575 139724973016896 segment.py:1842] DE data for case: [2]\n",
      "2020-07-10 19:06:15,019  SpectraRegion  INFO: DE data for control: [0, 10, 4, 15, 14, 13, 12, 3, 1]\n",
      "I0710 19:06:15.019993 139724973016896 segment.py:1843] DE data for control: [0, 10, 4, 15, 14, 13, 12, 3, 1]\n",
      "2020-07-10 19:06:15,022  SpectraRegion  INFO: DE result key: ((2,), (0, 1, 3, 4, 10, 12, 13, 14, 15))\n",
      "I0710 19:06:15.022278 139724973016896 segment.py:1847] DE result key: ((2,), (0, 1, 3, 4, 10, 12, 13, 14, 15))\n"
     ]
    },
    {
     "name": "stdout",
     "output_type": "stream",
     "text": [
      "Running [2] against [0, 10, 4, 15, 14, 13, 12, 3, 1]\n"
     ]
    },
    {
     "name": "stderr",
     "output_type": "stream",
     "text": [
      "2020-07-10 19:06:30,829  SpectraRegion  INFO: DE DataFrame ready. Shape (17900, 2655)\n",
      "I0710 19:06:30.829540 139724973016896 segment.py:1891] DE DataFrame ready. Shape (17900, 2655)\n",
      "2020-07-10 19:06:30,838  SpectraRegion  INFO: DE Sample DataFrame ready. Shape (2655, 3)\n",
      "I0710 19:06:30.838165 139724973016896 segment.py:1899] DE Sample DataFrame ready. Shape (2655, 3)\n",
      "2020-07-10 19:06:30,850  SpectraRegion  INFO: Performing DE-test: ttest\n",
      "I0710 19:06:30.850473 139724973016896 segment.py:1957] Performing DE-test: ttest\n",
      "2020-07-10 19:06:35,189  SpectraRegion  INFO: DE-test (ttest) finished. Results available: ((2,), (0, 1, 3, 4, 10, 12, 13, 14, 15))\n",
      "I0710 19:06:35.189618 139724973016896 segment.py:1990] DE-test (ttest) finished. Results available: ((2,), (0, 1, 3, 4, 10, 12, 13, 14, 15))\n",
      "2020-07-10 19:06:35,191  SpectraRegion  INFO: Performing DE-test: rank\n",
      "I0710 19:06:35.191471 139724973016896 segment.py:1957] Performing DE-test: rank\n",
      "2020-07-10 19:06:54,173  SpectraRegion  INFO: DE-test (rank) finished. Results available: ((2,), (0, 1, 3, 4, 10, 12, 13, 14, 15))\n",
      "I0710 19:06:54.173462 139724973016896 segment.py:1990] DE-test (rank) finished. Results available: ((2,), (0, 1, 3, 4, 10, 12, 13, 14, 15))\n",
      "2020-07-10 19:06:54,254  SpectraRegion  INFO: DE result for case ((2,), (0, 1, 3, 4, 10, 12, 13, 14, 15)) with (17900, 7) results\n",
      "I0710 19:06:54.254642 139724973016896 segment.py:1579] DE result for case ((2,), (0, 1, 3, 4, 10, 12, 13, 14, 15)) with (17900, 7) results\n",
      "2020-07-10 19:06:54,256  SpectraRegion  INFO: DE result logFC inversed\n",
      "I0710 19:06:54.256148 139724973016896 segment.py:1602] DE result logFC inversed\n",
      "2020-07-10 19:06:54,261  SpectraRegion  INFO: DE result for case ((2,), (0, 1, 3, 4, 10, 12, 13, 14, 15)) with (1812, 7) results (filtered)\n",
      "I0710 19:06:54.261484 139724973016896 segment.py:1607] DE result for case ((2,), (0, 1, 3, 4, 10, 12, 13, 14, 15)) with (1812, 7) results (filtered)\n",
      "2020-07-10 19:06:54,822  SpectraRegion  INFO: Created matrices with shape (100, 17900) and (2555, 17900) (target, bg)\n",
      "I0710 19:06:54.822396 139724973016896 segment.py:1613] Created matrices with shape (100, 17900) and (2555, 17900) (target, bg)\n",
      "2020-07-10 19:07:02,832  SpectraRegion  INFO: DE result for case ((2,), (0, 1, 3, 4, 10, 12, 13, 14, 15)) with (17900, 7) results\n",
      "I0710 19:07:02.832332 139724973016896 segment.py:1579] DE result for case ((2,), (0, 1, 3, 4, 10, 12, 13, 14, 15)) with (17900, 7) results\n",
      "2020-07-10 19:07:02,834  SpectraRegion  INFO: DE result logFC inversed\n",
      "I0710 19:07:02.834217 139724973016896 segment.py:1602] DE result logFC inversed\n",
      "2020-07-10 19:07:02,839  SpectraRegion  INFO: DE result for case ((2,), (0, 1, 3, 4, 10, 12, 13, 14, 15)) with (1812, 7) results (filtered)\n",
      "I0710 19:07:02.839437 139724973016896 segment.py:1607] DE result for case ((2,), (0, 1, 3, 4, 10, 12, 13, 14, 15)) with (1812, 7) results (filtered)\n",
      "2020-07-10 19:07:03,382  SpectraRegion  INFO: Created matrices with shape (100, 17900) and (2555, 17900) (target, bg)\n",
      "I0710 19:07:03.382766 139724973016896 segment.py:1613] Created matrices with shape (100, 17900) and (2555, 17900) (target, bg)\n",
      "2020-07-10 19:07:11,615  SpectraRegion  INFO: DE data for case: [14]\n",
      "I0710 19:07:11.615918 139724973016896 segment.py:1842] DE data for case: [14]\n",
      "2020-07-10 19:07:11,618  SpectraRegion  INFO: DE data for control: [0, 10, 4, 15, 2, 13, 12, 3, 1]\n",
      "I0710 19:07:11.618093 139724973016896 segment.py:1843] DE data for control: [0, 10, 4, 15, 2, 13, 12, 3, 1]\n",
      "2020-07-10 19:07:11,620  SpectraRegion  INFO: DE result key: ((14,), (0, 1, 2, 3, 4, 10, 12, 13, 15))\n",
      "I0710 19:07:11.620726 139724973016896 segment.py:1847] DE result key: ((14,), (0, 1, 2, 3, 4, 10, 12, 13, 15))\n"
     ]
    },
    {
     "name": "stdout",
     "output_type": "stream",
     "text": [
      "Running [14] against [0, 10, 4, 15, 2, 13, 12, 3, 1]\n"
     ]
    },
    {
     "name": "stderr",
     "output_type": "stream",
     "text": [
      "2020-07-10 19:07:27,493  SpectraRegion  INFO: DE DataFrame ready. Shape (17900, 2655)\n",
      "I0710 19:07:27.493106 139724973016896 segment.py:1891] DE DataFrame ready. Shape (17900, 2655)\n",
      "2020-07-10 19:07:27,498  SpectraRegion  INFO: DE Sample DataFrame ready. Shape (2655, 3)\n",
      "I0710 19:07:27.498923 139724973016896 segment.py:1899] DE Sample DataFrame ready. Shape (2655, 3)\n",
      "2020-07-10 19:07:27,507  SpectraRegion  INFO: Performing DE-test: ttest\n",
      "I0710 19:07:27.507976 139724973016896 segment.py:1957] Performing DE-test: ttest\n",
      "2020-07-10 19:07:31,861  SpectraRegion  INFO: DE-test (ttest) finished. Results available: ((14,), (0, 1, 2, 3, 4, 10, 12, 13, 15))\n",
      "I0710 19:07:31.861377 139724973016896 segment.py:1990] DE-test (ttest) finished. Results available: ((14,), (0, 1, 2, 3, 4, 10, 12, 13, 15))\n",
      "2020-07-10 19:07:31,863  SpectraRegion  INFO: Performing DE-test: rank\n",
      "I0710 19:07:31.863134 139724973016896 segment.py:1957] Performing DE-test: rank\n",
      "2020-07-10 19:07:50,755  SpectraRegion  INFO: DE-test (rank) finished. Results available: ((14,), (0, 1, 2, 3, 4, 10, 12, 13, 15))\n",
      "I0710 19:07:50.755642 139724973016896 segment.py:1990] DE-test (rank) finished. Results available: ((14,), (0, 1, 2, 3, 4, 10, 12, 13, 15))\n",
      "2020-07-10 19:07:50,830  SpectraRegion  INFO: DE result for case ((14,), (0, 1, 2, 3, 4, 10, 12, 13, 15)) with (17900, 7) results\n",
      "I0710 19:07:50.830270 139724973016896 segment.py:1579] DE result for case ((14,), (0, 1, 2, 3, 4, 10, 12, 13, 15)) with (17900, 7) results\n",
      "2020-07-10 19:07:50,831  SpectraRegion  INFO: DE result logFC inversed\n",
      "I0710 19:07:50.831774 139724973016896 segment.py:1602] DE result logFC inversed\n",
      "2020-07-10 19:07:50,839  SpectraRegion  INFO: DE result for case ((14,), (0, 1, 2, 3, 4, 10, 12, 13, 15)) with (855, 7) results (filtered)\n",
      "I0710 19:07:50.839197 139724973016896 segment.py:1607] DE result for case ((14,), (0, 1, 2, 3, 4, 10, 12, 13, 15)) with (855, 7) results (filtered)\n",
      "2020-07-10 19:07:51,399  SpectraRegion  INFO: Created matrices with shape (52, 17900) and (2603, 17900) (target, bg)\n",
      "I0710 19:07:51.399846 139724973016896 segment.py:1613] Created matrices with shape (52, 17900) and (2603, 17900) (target, bg)\n",
      "2020-07-10 19:07:54,996  SpectraRegion  INFO: DE result for case ((14,), (0, 1, 2, 3, 4, 10, 12, 13, 15)) with (17900, 7) results\n",
      "I0710 19:07:54.996790 139724973016896 segment.py:1579] DE result for case ((14,), (0, 1, 2, 3, 4, 10, 12, 13, 15)) with (17900, 7) results\n",
      "2020-07-10 19:07:54,998  SpectraRegion  INFO: DE result logFC inversed\n",
      "I0710 19:07:54.998656 139724973016896 segment.py:1602] DE result logFC inversed\n",
      "2020-07-10 19:07:55,004  SpectraRegion  INFO: DE result for case ((14,), (0, 1, 2, 3, 4, 10, 12, 13, 15)) with (863, 7) results (filtered)\n",
      "I0710 19:07:55.004908 139724973016896 segment.py:1607] DE result for case ((14,), (0, 1, 2, 3, 4, 10, 12, 13, 15)) with (863, 7) results (filtered)\n",
      "2020-07-10 19:07:55,538  SpectraRegion  INFO: Created matrices with shape (52, 17900) and (2603, 17900) (target, bg)\n",
      "I0710 19:07:55.538021 139724973016896 segment.py:1613] Created matrices with shape (52, 17900) and (2603, 17900) (target, bg)\n",
      "2020-07-10 19:07:58,879  SpectraRegion  INFO: DE data for case: [13]\n",
      "I0710 19:07:58.879158 139724973016896 segment.py:1842] DE data for case: [13]\n",
      "2020-07-10 19:07:58,881  SpectraRegion  INFO: DE data for control: [0, 10, 4, 15, 2, 14, 12, 3, 1]\n",
      "I0710 19:07:58.881250 139724973016896 segment.py:1843] DE data for control: [0, 10, 4, 15, 2, 14, 12, 3, 1]\n",
      "2020-07-10 19:07:58,884  SpectraRegion  INFO: DE result key: ((13,), (0, 1, 2, 3, 4, 10, 12, 14, 15))\n",
      "I0710 19:07:58.884270 139724973016896 segment.py:1847] DE result key: ((13,), (0, 1, 2, 3, 4, 10, 12, 14, 15))\n"
     ]
    },
    {
     "name": "stdout",
     "output_type": "stream",
     "text": [
      "Running [13] against [0, 10, 4, 15, 2, 14, 12, 3, 1]\n"
     ]
    },
    {
     "name": "stderr",
     "output_type": "stream",
     "text": [
      "2020-07-10 19:08:14,997  SpectraRegion  INFO: DE DataFrame ready. Shape (17900, 2655)\n",
      "I0710 19:08:14.997823 139724973016896 segment.py:1891] DE DataFrame ready. Shape (17900, 2655)\n",
      "2020-07-10 19:08:15,004  SpectraRegion  INFO: DE Sample DataFrame ready. Shape (2655, 3)\n",
      "I0710 19:08:15.004501 139724973016896 segment.py:1899] DE Sample DataFrame ready. Shape (2655, 3)\n",
      "2020-07-10 19:08:15,015  SpectraRegion  INFO: Performing DE-test: ttest\n",
      "I0710 19:08:15.015002 139724973016896 segment.py:1957] Performing DE-test: ttest\n",
      "2020-07-10 19:08:19,427  SpectraRegion  INFO: DE-test (ttest) finished. Results available: ((13,), (0, 1, 2, 3, 4, 10, 12, 14, 15))\n",
      "I0710 19:08:19.427998 139724973016896 segment.py:1990] DE-test (ttest) finished. Results available: ((13,), (0, 1, 2, 3, 4, 10, 12, 14, 15))\n",
      "2020-07-10 19:08:19,429  SpectraRegion  INFO: Performing DE-test: rank\n",
      "I0710 19:08:19.429471 139724973016896 segment.py:1957] Performing DE-test: rank\n",
      "2020-07-10 19:08:38,687  SpectraRegion  INFO: DE-test (rank) finished. Results available: ((13,), (0, 1, 2, 3, 4, 10, 12, 14, 15))\n",
      "I0710 19:08:38.687228 139724973016896 segment.py:1990] DE-test (rank) finished. Results available: ((13,), (0, 1, 2, 3, 4, 10, 12, 14, 15))\n",
      "2020-07-10 19:08:38,773  SpectraRegion  INFO: DE result for case ((13,), (0, 1, 2, 3, 4, 10, 12, 14, 15)) with (17900, 7) results\n",
      "I0710 19:08:38.773422 139724973016896 segment.py:1579] DE result for case ((13,), (0, 1, 2, 3, 4, 10, 12, 14, 15)) with (17900, 7) results\n",
      "2020-07-10 19:08:38,776  SpectraRegion  INFO: DE result logFC inversed\n",
      "I0710 19:08:38.776256 139724973016896 segment.py:1602] DE result logFC inversed\n",
      "2020-07-10 19:08:38,784  SpectraRegion  INFO: DE result for case ((13,), (0, 1, 2, 3, 4, 10, 12, 14, 15)) with (1363, 7) results (filtered)\n",
      "I0710 19:08:38.784611 139724973016896 segment.py:1607] DE result for case ((13,), (0, 1, 2, 3, 4, 10, 12, 14, 15)) with (1363, 7) results (filtered)\n",
      "2020-07-10 19:08:39,444  SpectraRegion  INFO: Created matrices with shape (48, 17900) and (2607, 17900) (target, bg)\n",
      "I0710 19:08:39.444798 139724973016896 segment.py:1613] Created matrices with shape (48, 17900) and (2607, 17900) (target, bg)\n",
      "2020-07-10 19:08:45,033  SpectraRegion  INFO: DE result for case ((13,), (0, 1, 2, 3, 4, 10, 12, 14, 15)) with (17900, 7) results\n",
      "I0710 19:08:45.033410 139724973016896 segment.py:1579] DE result for case ((13,), (0, 1, 2, 3, 4, 10, 12, 14, 15)) with (17900, 7) results\n",
      "2020-07-10 19:08:45,034  SpectraRegion  INFO: DE result logFC inversed\n",
      "I0710 19:08:45.034888 139724973016896 segment.py:1602] DE result logFC inversed\n",
      "2020-07-10 19:08:45,041  SpectraRegion  INFO: DE result for case ((13,), (0, 1, 2, 3, 4, 10, 12, 14, 15)) with (1362, 7) results (filtered)\n",
      "I0710 19:08:45.041279 139724973016896 segment.py:1607] DE result for case ((13,), (0, 1, 2, 3, 4, 10, 12, 14, 15)) with (1362, 7) results (filtered)\n",
      "2020-07-10 19:08:45,589  SpectraRegion  INFO: Created matrices with shape (48, 17900) and (2607, 17900) (target, bg)\n",
      "I0710 19:08:45.589596 139724973016896 segment.py:1613] Created matrices with shape (48, 17900) and (2607, 17900) (target, bg)\n",
      "2020-07-10 19:08:51,150  SpectraRegion  INFO: DE data for case: [12]\n",
      "I0710 19:08:51.150624 139724973016896 segment.py:1842] DE data for case: [12]\n",
      "2020-07-10 19:08:51,152  SpectraRegion  INFO: DE data for control: [0, 10, 4, 15, 2, 14, 13, 3, 1]\n",
      "I0710 19:08:51.152841 139724973016896 segment.py:1843] DE data for control: [0, 10, 4, 15, 2, 14, 13, 3, 1]\n",
      "2020-07-10 19:08:51,155  SpectraRegion  INFO: DE result key: ((12,), (0, 1, 2, 3, 4, 10, 13, 14, 15))\n",
      "I0710 19:08:51.155091 139724973016896 segment.py:1847] DE result key: ((12,), (0, 1, 2, 3, 4, 10, 13, 14, 15))\n"
     ]
    },
    {
     "name": "stdout",
     "output_type": "stream",
     "text": [
      "Running [12] against [0, 10, 4, 15, 2, 14, 13, 3, 1]\n"
     ]
    },
    {
     "name": "stderr",
     "output_type": "stream",
     "text": [
      "2020-07-10 19:09:08,528  SpectraRegion  INFO: DE DataFrame ready. Shape (17900, 2655)\n",
      "I0710 19:09:08.528396 139724973016896 segment.py:1891] DE DataFrame ready. Shape (17900, 2655)\n",
      "2020-07-10 19:09:08,536  SpectraRegion  INFO: DE Sample DataFrame ready. Shape (2655, 3)\n",
      "I0710 19:09:08.536542 139724973016896 segment.py:1899] DE Sample DataFrame ready. Shape (2655, 3)\n",
      "2020-07-10 19:09:08,546  SpectraRegion  INFO: Performing DE-test: ttest\n",
      "I0710 19:09:08.546699 139724973016896 segment.py:1957] Performing DE-test: ttest\n",
      "2020-07-10 19:09:13,183  SpectraRegion  INFO: DE-test (ttest) finished. Results available: ((12,), (0, 1, 2, 3, 4, 10, 13, 14, 15))\n",
      "I0710 19:09:13.183966 139724973016896 segment.py:1990] DE-test (ttest) finished. Results available: ((12,), (0, 1, 2, 3, 4, 10, 13, 14, 15))\n",
      "2020-07-10 19:09:13,186  SpectraRegion  INFO: Performing DE-test: rank\n",
      "I0710 19:09:13.186115 139724973016896 segment.py:1957] Performing DE-test: rank\n",
      "2020-07-10 19:09:36,166  SpectraRegion  INFO: DE-test (rank) finished. Results available: ((12,), (0, 1, 2, 3, 4, 10, 13, 14, 15))\n",
      "I0710 19:09:36.166017 139724973016896 segment.py:1990] DE-test (rank) finished. Results available: ((12,), (0, 1, 2, 3, 4, 10, 13, 14, 15))\n",
      "2020-07-10 19:09:36,265  SpectraRegion  INFO: DE result for case ((12,), (0, 1, 2, 3, 4, 10, 13, 14, 15)) with (17900, 7) results\n",
      "I0710 19:09:36.265750 139724973016896 segment.py:1579] DE result for case ((12,), (0, 1, 2, 3, 4, 10, 13, 14, 15)) with (17900, 7) results\n",
      "2020-07-10 19:09:36,267  SpectraRegion  INFO: DE result logFC inversed\n",
      "I0710 19:09:36.267817 139724973016896 segment.py:1602] DE result logFC inversed\n",
      "2020-07-10 19:09:36,278  SpectraRegion  INFO: DE result for case ((12,), (0, 1, 2, 3, 4, 10, 13, 14, 15)) with (1779, 7) results (filtered)\n",
      "I0710 19:09:36.278113 139724973016896 segment.py:1607] DE result for case ((12,), (0, 1, 2, 3, 4, 10, 13, 14, 15)) with (1779, 7) results (filtered)\n",
      "2020-07-10 19:09:37,084  SpectraRegion  INFO: Created matrices with shape (67, 17900) and (2588, 17900) (target, bg)\n",
      "I0710 19:09:37.084149 139724973016896 segment.py:1613] Created matrices with shape (67, 17900) and (2588, 17900) (target, bg)\n",
      "2020-07-10 19:09:46,729  SpectraRegion  INFO: DE result for case ((12,), (0, 1, 2, 3, 4, 10, 13, 14, 15)) with (17900, 7) results\n",
      "I0710 19:09:46.729620 139724973016896 segment.py:1579] DE result for case ((12,), (0, 1, 2, 3, 4, 10, 13, 14, 15)) with (17900, 7) results\n",
      "2020-07-10 19:09:46,731  SpectraRegion  INFO: DE result logFC inversed\n",
      "I0710 19:09:46.731242 139724973016896 segment.py:1602] DE result logFC inversed\n",
      "2020-07-10 19:09:46,736  SpectraRegion  INFO: DE result for case ((12,), (0, 1, 2, 3, 4, 10, 13, 14, 15)) with (1779, 7) results (filtered)\n",
      "I0710 19:09:46.736835 139724973016896 segment.py:1607] DE result for case ((12,), (0, 1, 2, 3, 4, 10, 13, 14, 15)) with (1779, 7) results (filtered)\n",
      "2020-07-10 19:09:47,266  SpectraRegion  INFO: Created matrices with shape (67, 17900) and (2588, 17900) (target, bg)\n",
      "I0710 19:09:47.266159 139724973016896 segment.py:1613] Created matrices with shape (67, 17900) and (2588, 17900) (target, bg)\n",
      "2020-07-10 19:09:54,075  SpectraRegion  INFO: DE data for case: [3]\n",
      "I0710 19:09:54.075373 139724973016896 segment.py:1842] DE data for case: [3]\n",
      "2020-07-10 19:09:54,076  SpectraRegion  INFO: DE data for control: [0, 10, 4, 15, 2, 14, 13, 12, 1]\n",
      "I0710 19:09:54.076941 139724973016896 segment.py:1843] DE data for control: [0, 10, 4, 15, 2, 14, 13, 12, 1]\n",
      "2020-07-10 19:09:54,079  SpectraRegion  INFO: DE result key: ((3,), (0, 1, 2, 4, 10, 12, 13, 14, 15))\n",
      "I0710 19:09:54.079104 139724973016896 segment.py:1847] DE result key: ((3,), (0, 1, 2, 4, 10, 12, 13, 14, 15))\n"
     ]
    },
    {
     "name": "stdout",
     "output_type": "stream",
     "text": [
      "Running [3] against [0, 10, 4, 15, 2, 14, 13, 12, 1]\n"
     ]
    },
    {
     "name": "stderr",
     "output_type": "stream",
     "text": [
      "2020-07-10 19:10:10,228  SpectraRegion  INFO: DE DataFrame ready. Shape (17900, 2655)\n",
      "I0710 19:10:10.228748 139724973016896 segment.py:1891] DE DataFrame ready. Shape (17900, 2655)\n",
      "2020-07-10 19:10:10,235  SpectraRegion  INFO: DE Sample DataFrame ready. Shape (2655, 3)\n",
      "I0710 19:10:10.235327 139724973016896 segment.py:1899] DE Sample DataFrame ready. Shape (2655, 3)\n",
      "2020-07-10 19:10:10,245  SpectraRegion  INFO: Performing DE-test: ttest\n",
      "I0710 19:10:10.245779 139724973016896 segment.py:1957] Performing DE-test: ttest\n",
      "2020-07-10 19:10:14,546  SpectraRegion  INFO: DE-test (ttest) finished. Results available: ((3,), (0, 1, 2, 4, 10, 12, 13, 14, 15))\n",
      "I0710 19:10:14.546636 139724973016896 segment.py:1990] DE-test (ttest) finished. Results available: ((3,), (0, 1, 2, 4, 10, 12, 13, 14, 15))\n",
      "2020-07-10 19:10:14,549  SpectraRegion  INFO: Performing DE-test: rank\n",
      "I0710 19:10:14.549041 139724973016896 segment.py:1957] Performing DE-test: rank\n",
      "2020-07-10 19:10:35,643  SpectraRegion  INFO: DE-test (rank) finished. Results available: ((3,), (0, 1, 2, 4, 10, 12, 13, 14, 15))\n",
      "I0710 19:10:35.643441 139724973016896 segment.py:1990] DE-test (rank) finished. Results available: ((3,), (0, 1, 2, 4, 10, 12, 13, 14, 15))\n",
      "2020-07-10 19:10:35,737  SpectraRegion  INFO: DE result for case ((3,), (0, 1, 2, 4, 10, 12, 13, 14, 15)) with (17900, 7) results\n",
      "I0710 19:10:35.737962 139724973016896 segment.py:1579] DE result for case ((3,), (0, 1, 2, 4, 10, 12, 13, 14, 15)) with (17900, 7) results\n",
      "2020-07-10 19:10:35,744  SpectraRegion  INFO: DE result logFC inversed\n",
      "I0710 19:10:35.744673 139724973016896 segment.py:1602] DE result logFC inversed\n",
      "2020-07-10 19:10:35,762  SpectraRegion  INFO: DE result for case ((3,), (0, 1, 2, 4, 10, 12, 13, 14, 15)) with (2025, 7) results (filtered)\n",
      "I0710 19:10:35.762192 139724973016896 segment.py:1607] DE result for case ((3,), (0, 1, 2, 4, 10, 12, 13, 14, 15)) with (2025, 7) results (filtered)\n",
      "2020-07-10 19:10:36,450  SpectraRegion  INFO: Created matrices with shape (27, 17900) and (2628, 17900) (target, bg)\n",
      "I0710 19:10:36.450491 139724973016896 segment.py:1613] Created matrices with shape (27, 17900) and (2628, 17900) (target, bg)\n",
      "2020-07-10 19:10:45,897  SpectraRegion  INFO: DE result for case ((3,), (0, 1, 2, 4, 10, 12, 13, 14, 15)) with (17900, 7) results\n",
      "I0710 19:10:45.897329 139724973016896 segment.py:1579] DE result for case ((3,), (0, 1, 2, 4, 10, 12, 13, 14, 15)) with (17900, 7) results\n",
      "2020-07-10 19:10:45,899  SpectraRegion  INFO: DE result logFC inversed\n",
      "I0710 19:10:45.899101 139724973016896 segment.py:1602] DE result logFC inversed\n",
      "2020-07-10 19:10:45,906  SpectraRegion  INFO: DE result for case ((3,), (0, 1, 2, 4, 10, 12, 13, 14, 15)) with (2006, 7) results (filtered)\n",
      "I0710 19:10:45.906112 139724973016896 segment.py:1607] DE result for case ((3,), (0, 1, 2, 4, 10, 12, 13, 14, 15)) with (2006, 7) results (filtered)\n",
      "2020-07-10 19:10:46,473  SpectraRegion  INFO: Created matrices with shape (27, 17900) and (2628, 17900) (target, bg)\n",
      "I0710 19:10:46.473472 139724973016896 segment.py:1613] Created matrices with shape (27, 17900) and (2628, 17900) (target, bg)\n",
      "2020-07-10 19:10:55,176  SpectraRegion  INFO: DE data for case: [1]\n",
      "I0710 19:10:55.176784 139724973016896 segment.py:1842] DE data for case: [1]\n",
      "2020-07-10 19:10:55,179  SpectraRegion  INFO: DE data for control: [0, 10, 4, 15, 2, 14, 13, 12, 3]\n",
      "I0710 19:10:55.179084 139724973016896 segment.py:1843] DE data for control: [0, 10, 4, 15, 2, 14, 13, 12, 3]\n",
      "2020-07-10 19:10:55,182  SpectraRegion  INFO: DE result key: ((1,), (0, 2, 3, 4, 10, 12, 13, 14, 15))\n",
      "I0710 19:10:55.182193 139724973016896 segment.py:1847] DE result key: ((1,), (0, 2, 3, 4, 10, 12, 13, 14, 15))\n"
     ]
    },
    {
     "name": "stdout",
     "output_type": "stream",
     "text": [
      "Running [1] against [0, 10, 4, 15, 2, 14, 13, 12, 3]\n"
     ]
    },
    {
     "name": "stderr",
     "output_type": "stream",
     "text": [
      "2020-07-10 19:11:11,783  SpectraRegion  INFO: DE DataFrame ready. Shape (17900, 2655)\n",
      "I0710 19:11:11.783978 139724973016896 segment.py:1891] DE DataFrame ready. Shape (17900, 2655)\n",
      "2020-07-10 19:11:11,789  SpectraRegion  INFO: DE Sample DataFrame ready. Shape (2655, 3)\n",
      "I0710 19:11:11.789548 139724973016896 segment.py:1899] DE Sample DataFrame ready. Shape (2655, 3)\n",
      "2020-07-10 19:11:11,797  SpectraRegion  INFO: Performing DE-test: ttest\n",
      "I0710 19:11:11.797250 139724973016896 segment.py:1957] Performing DE-test: ttest\n",
      "2020-07-10 19:11:16,208  SpectraRegion  INFO: DE-test (ttest) finished. Results available: ((1,), (0, 2, 3, 4, 10, 12, 13, 14, 15))\n",
      "I0710 19:11:16.208448 139724973016896 segment.py:1990] DE-test (ttest) finished. Results available: ((1,), (0, 2, 3, 4, 10, 12, 13, 14, 15))\n",
      "2020-07-10 19:11:16,211  SpectraRegion  INFO: Performing DE-test: rank\n",
      "I0710 19:11:16.211027 139724973016896 segment.py:1957] Performing DE-test: rank\n",
      "2020-07-10 19:11:35,742  SpectraRegion  INFO: DE-test (rank) finished. Results available: ((1,), (0, 2, 3, 4, 10, 12, 13, 14, 15))\n",
      "I0710 19:11:35.742538 139724973016896 segment.py:1990] DE-test (rank) finished. Results available: ((1,), (0, 2, 3, 4, 10, 12, 13, 14, 15))\n",
      "2020-07-10 19:11:35,815  SpectraRegion  INFO: DE result for case ((1,), (0, 2, 3, 4, 10, 12, 13, 14, 15)) with (17900, 7) results\n",
      "I0710 19:11:35.815747 139724973016896 segment.py:1579] DE result for case ((1,), (0, 2, 3, 4, 10, 12, 13, 14, 15)) with (17900, 7) results\n",
      "2020-07-10 19:11:35,817  SpectraRegion  INFO: DE result logFC inversed\n",
      "I0710 19:11:35.817393 139724973016896 segment.py:1602] DE result logFC inversed\n",
      "2020-07-10 19:11:35,823  SpectraRegion  INFO: DE result for case ((1,), (0, 2, 3, 4, 10, 12, 13, 14, 15)) with (3130, 7) results (filtered)\n",
      "I0710 19:11:35.823951 139724973016896 segment.py:1607] DE result for case ((1,), (0, 2, 3, 4, 10, 12, 13, 14, 15)) with (3130, 7) results (filtered)\n",
      "2020-07-10 19:11:36,391  SpectraRegion  INFO: Created matrices with shape (22, 17900) and (2633, 17900) (target, bg)\n",
      "I0710 19:11:36.391750 139724973016896 segment.py:1613] Created matrices with shape (22, 17900) and (2633, 17900) (target, bg)\n",
      "2020-07-10 19:11:50,256  SpectraRegion  INFO: DE result for case ((1,), (0, 2, 3, 4, 10, 12, 13, 14, 15)) with (17900, 7) results\n",
      "I0710 19:11:50.256821 139724973016896 segment.py:1579] DE result for case ((1,), (0, 2, 3, 4, 10, 12, 13, 14, 15)) with (17900, 7) results\n",
      "2020-07-10 19:11:50,258  SpectraRegion  INFO: DE result logFC inversed\n",
      "I0710 19:11:50.258622 139724973016896 segment.py:1602] DE result logFC inversed\n",
      "2020-07-10 19:11:50,264  SpectraRegion  INFO: DE result for case ((1,), (0, 2, 3, 4, 10, 12, 13, 14, 15)) with (3056, 7) results (filtered)\n",
      "I0710 19:11:50.264590 139724973016896 segment.py:1607] DE result for case ((1,), (0, 2, 3, 4, 10, 12, 13, 14, 15)) with (3056, 7) results (filtered)\n",
      "2020-07-10 19:11:50,810  SpectraRegion  INFO: Created matrices with shape (22, 17900) and (2633, 17900) (target, bg)\n",
      "I0710 19:11:50.810834 139724973016896 segment.py:1613] Created matrices with shape (22, 17900) and (2633, 17900) (target, bg)\n"
     ]
    },
    {
     "name": "stdout",
     "output_type": "stream",
     "text": [
      "Processing regionID 1 for basename slideD\n"
     ]
    },
    {
     "name": "stderr",
     "output_type": "stream",
     "text": [
      "Found region 1 with shape (43, 56, 17900)\n",
      "I0710 19:12:05.109765 139724973016896 segment.py:2814] Found region 1 with shape (43, 56, 17900)\n",
      "Collecting fold changes\n",
      "I0710 19:12:07.439907 139724973016896 segment.py:2528] Collecting fold changes\n",
      "Got a total of 43103200 fold changes\n",
      "I0710 19:12:42.502429 139724973016896 segment.py:2539] Got a total of 43103200 fold changes\n",
      "Median elements [21551600]\n",
      "I0710 19:12:44.949062 139724973016896 segment.py:2548] Median elements [21551600]\n",
      "Median elements\n",
      "I0710 19:12:46.259959 139724973016896 segment.py:2561] Median elements\n",
      "Global Median 0.97223\n",
      "I0710 19:12:46.262140 139724973016896 segment.py:2566] Global Median 0.97223\n",
      "2020-07-10 19:12:47,920  SpectraRegion  INFO: Creating C++ obj\n",
      "I0710 19:12:47.920780 139724973016896 segment.py:814] Creating C++ obj\n",
      "2020-07-10 19:12:47,922  SpectraRegion  INFO: 17900 (43, 56, 17900)\n",
      "I0710 19:12:47.922629 139724973016896 segment.py:815] 17900 (43, 56, 17900)\n",
      "2020-07-10 19:12:47,925  SpectraRegion  INFO: dimensions 17900\n",
      "I0710 19:12:47.925105 139724973016896 segment.py:825] dimensions 17900\n",
      "2020-07-10 19:12:47,927  SpectraRegion  INFO: input dimensions (43, 56, 17900)\n",
      "I0710 19:12:47.927992 139724973016896 segment.py:826] input dimensions (43, 56, 17900)\n",
      "2020-07-10 19:12:47,930  SpectraRegion  INFO: Switching to dot mode\n",
      "I0710 19:12:47.930939 139724973016896 segment.py:829] Switching to dot mode\n"
     ]
    },
    {
     "name": "stdout",
     "output_type": "stream",
     "text": [
      "17900\n"
     ]
    },
    {
     "name": "stderr",
     "output_type": "stream",
     "text": [
      "2020-07-10 19:12:48,217  SpectraRegion  INFO: Starting calc similarity c++\n",
      "I0710 19:12:48.217670 139724973016896 segment.py:835] Starting calc similarity c++\n",
      "2020-07-10 19:13:11,974  SpectraRegion  INFO: outclust dimensions (2408, 2408)\n",
      "I0710 19:13:11.974554 139724973016896 segment.py:840] outclust dimensions (2408, 2408)\n",
      "2020-07-10 19:13:11,996  SpectraRegion  INFO: Calculating spectra similarity\n",
      "I0710 19:13:11.996339 139724973016896 segment.py:872] Calculating spectra similarity\n",
      "2020-07-10 19:13:12,084  SpectraRegion  INFO: Calculating spectra similarity done\n",
      "I0710 19:13:12.084645 139724973016896 segment.py:876] Calculating spectra similarity done\n",
      "2020-07-10 19:13:12,087  SpectraRegion  INFO: Calculating dist pixel map\n",
      "I0710 19:13:12.087361 139724973016896 segment.py:883] Calculating dist pixel map\n",
      "2020-07-10 19:14:02,432  SpectraRegion  INFO: Calculating dist pixel map done\n",
      "I0710 19:14:02.432467 139724973016896 segment.py:893] Calculating dist pixel map done\n",
      "2020-07-10 19:14:02,538  SpectraRegion  INFO: Calculating clusters\n",
      "I0710 19:14:02.538965 139724973016896 segment.py:1091] Calculating clusters\n",
      "2020-07-10 19:14:02,808  SpectraRegion  INFO: Calculating clusters done\n",
      "I0710 19:14:02.808398 139724973016896 segment.py:1112] Calculating clusters done\n",
      "2020-07-10 19:14:02,828  SpectraRegion  INFO: Calculating clusters saved\n",
      "I0710 19:14:02.828128 139724973016896 segment.py:1130] Calculating clusters saved\n"
     ]
    },
    {
     "data": {
      "image/png": "[encoded data removed]",
      "text/plain": [
       "<Figure size 432x288 with 2 Axes>"
      ]
     },
     "metadata": {
      "needs_background": "light"
     },
     "output_type": "display_data"
    },
    {
     "name": "stderr",
     "output_type": "stream",
     "text": [
      "2020-07-10 19:14:03,043  SpectraRegion  INFO: Assigning clusters to background: {5, 8, 9, 10, 11, 12, 13, 14, 15}\n",
      "I0710 19:14:03.043034 139724973016896 segment.py:1219] Assigning clusters to background: {5, 8, 9, 10, 11, 12, 13, 14, 15}\n"
     ]
    },
    {
     "data": {
      "image/png": "[encoded data removed]",
      "text/plain": [
       "<Figure size 432x288 with 2 Axes>"
      ]
     },
     "metadata": {
      "needs_background": "light"
     },
     "output_type": "display_data"
    },
    {
     "name": "stderr",
     "output_type": "stream",
     "text": [
      "2020-07-10 19:14:03,223  SpectraRegion  INFO: Calculating consensus spectra\n",
      "I0710 19:14:03.223954 139724973016896 segment.py:1273] Calculating consensus spectra\n",
      "2020-07-10 19:14:03,441  SpectraRegion  INFO: Calculating consensus spectra done\n",
      "I0710 19:14:03.441760 139724973016896 segment.py:1285] Calculating consensus spectra done\n"
     ]
    },
    {
     "data": {
      "image/png": "[encoded data removed]",
      "text/plain": [
       "<Figure size 288x288 with 2 Axes>"
      ]
     },
     "metadata": {
      "needs_background": "light"
     },
     "output_type": "display_data"
    },
    {
     "name": "stderr",
     "output_type": "stream",
     "text": [
      "2020-07-10 19:14:03,693  SpectraRegion  INFO: DE data for case: [3]\n",
      "I0710 19:14:03.693027 139724973016896 segment.py:1842] DE data for case: [3]\n",
      "2020-07-10 19:14:03,694  SpectraRegion  INFO: DE data for control: [4, 6, 2, 7, 1]\n",
      "I0710 19:14:03.694868 139724973016896 segment.py:1843] DE data for control: [4, 6, 2, 7, 1]\n",
      "2020-07-10 19:14:03,696  SpectraRegion  INFO: DE result key: ((3,), (1, 2, 4, 6, 7))\n",
      "I0710 19:14:03.696332 139724973016896 segment.py:1847] DE result key: ((3,), (1, 2, 4, 6, 7))\n"
     ]
    },
    {
     "name": "stdout",
     "output_type": "stream",
     "text": [
      "Running [3] against [4, 6, 2, 7, 1]\n"
     ]
    },
    {
     "name": "stderr",
     "output_type": "stream",
     "text": [
      "2020-07-10 19:14:04,082  SpectraRegion  INFO: DE DataFrame ready. Shape (17900, 343)\n",
      "I0710 19:14:04.082149 139724973016896 segment.py:1891] DE DataFrame ready. Shape (17900, 343)\n",
      "2020-07-10 19:14:04,086  SpectraRegion  INFO: DE Sample DataFrame ready. Shape (343, 3)\n",
      "I0710 19:14:04.086624 139724973016896 segment.py:1899] DE Sample DataFrame ready. Shape (343, 3)\n",
      "2020-07-10 19:14:04,095  SpectraRegion  INFO: Performing DE-test: ttest\n",
      "I0710 19:14:04.095185 139724973016896 segment.py:1957] Performing DE-test: ttest\n",
      "2020-07-10 19:14:04,591  SpectraRegion  INFO: DE-test (ttest) finished. Results available: ((3,), (1, 2, 4, 6, 7))\n",
      "I0710 19:14:04.591137 139724973016896 segment.py:1990] DE-test (ttest) finished. Results available: ((3,), (1, 2, 4, 6, 7))\n",
      "2020-07-10 19:14:04,592  SpectraRegion  INFO: Performing DE-test: rank\n",
      "I0710 19:14:04.592944 139724973016896 segment.py:1957] Performing DE-test: rank\n",
      "2020-07-10 19:14:11,127  SpectraRegion  INFO: DE-test (rank) finished. Results available: ((3,), (1, 2, 4, 6, 7))\n",
      "I0710 19:14:11.127104 139724973016896 segment.py:1990] DE-test (rank) finished. Results available: ((3,), (1, 2, 4, 6, 7))\n",
      "2020-07-10 19:14:11,141  SpectraRegion  INFO: DE result for case ((3,), (1, 2, 4, 6, 7)) with (17900, 7) results\n",
      "I0710 19:14:11.141294 139724973016896 segment.py:1579] DE result for case ((3,), (1, 2, 4, 6, 7)) with (17900, 7) results\n",
      "2020-07-10 19:14:11,143  SpectraRegion  INFO: DE result logFC inversed\n",
      "I0710 19:14:11.143149 139724973016896 segment.py:1602] DE result logFC inversed\n",
      "2020-07-10 19:14:11,150  SpectraRegion  INFO: DE result for case ((3,), (1, 2, 4, 6, 7)) with (238, 7) results (filtered)\n",
      "I0710 19:14:11.150415 139724973016896 segment.py:1607] DE result for case ((3,), (1, 2, 4, 6, 7)) with (238, 7) results (filtered)\n",
      "2020-07-10 19:14:11,165  SpectraRegion  INFO: Created matrices with shape (122, 17900) and (221, 17900) (target, bg)\n",
      "I0710 19:14:11.165330 139724973016896 segment.py:1613] Created matrices with shape (122, 17900) and (221, 17900) (target, bg)\n",
      "2020-07-10 19:14:11,647  SpectraRegion  INFO: DE result for case ((3,), (1, 2, 4, 6, 7)) with (17900, 7) results\n",
      "I0710 19:14:11.647457 139724973016896 segment.py:1579] DE result for case ((3,), (1, 2, 4, 6, 7)) with (17900, 7) results\n",
      "2020-07-10 19:14:11,648  SpectraRegion  INFO: DE result logFC inversed\n",
      "I0710 19:14:11.648890 139724973016896 segment.py:1602] DE result logFC inversed\n",
      "2020-07-10 19:14:11,654  SpectraRegion  INFO: DE result for case ((3,), (1, 2, 4, 6, 7)) with (238, 7) results (filtered)\n",
      "I0710 19:14:11.654767 139724973016896 segment.py:1607] DE result for case ((3,), (1, 2, 4, 6, 7)) with (238, 7) results (filtered)\n",
      "2020-07-10 19:14:11,671  SpectraRegion  INFO: Created matrices with shape (122, 17900) and (221, 17900) (target, bg)\n",
      "I0710 19:14:11.671740 139724973016896 segment.py:1613] Created matrices with shape (122, 17900) and (221, 17900) (target, bg)\n",
      "2020-07-10 19:14:12,192  SpectraRegion  INFO: DE data for case: [4]\n",
      "I0710 19:14:12.192445 139724973016896 segment.py:1842] DE data for case: [4]\n",
      "2020-07-10 19:14:12,202  SpectraRegion  INFO: DE data for control: [3, 6, 2, 7, 1]\n",
      "I0710 19:14:12.202754 139724973016896 segment.py:1843] DE data for control: [3, 6, 2, 7, 1]\n",
      "2020-07-10 19:14:12,205  SpectraRegion  INFO: DE result key: ((4,), (1, 2, 3, 6, 7))\n",
      "I0710 19:14:12.205102 139724973016896 segment.py:1847] DE result key: ((4,), (1, 2, 3, 6, 7))\n"
     ]
    },
    {
     "name": "stdout",
     "output_type": "stream",
     "text": [
      "Running [4] against [3, 6, 2, 7, 1]\n"
     ]
    },
    {
     "name": "stderr",
     "output_type": "stream",
     "text": [
      "2020-07-10 19:14:12,592  SpectraRegion  INFO: DE DataFrame ready. Shape (17900, 343)\n",
      "I0710 19:14:12.592257 139724973016896 segment.py:1891] DE DataFrame ready. Shape (17900, 343)\n",
      "2020-07-10 19:14:12,596  SpectraRegion  INFO: DE Sample DataFrame ready. Shape (343, 3)\n",
      "I0710 19:14:12.596873 139724973016896 segment.py:1899] DE Sample DataFrame ready. Shape (343, 3)\n",
      "2020-07-10 19:14:12,605  SpectraRegion  INFO: Performing DE-test: ttest\n",
      "I0710 19:14:12.605060 139724973016896 segment.py:1957] Performing DE-test: ttest\n",
      "2020-07-10 19:14:13,074  SpectraRegion  INFO: DE-test (ttest) finished. Results available: ((4,), (1, 2, 3, 6, 7))\n",
      "I0710 19:14:13.074430 139724973016896 segment.py:1990] DE-test (ttest) finished. Results available: ((4,), (1, 2, 3, 6, 7))\n",
      "2020-07-10 19:14:13,076  SpectraRegion  INFO: Performing DE-test: rank\n",
      "I0710 19:14:13.076256 139724973016896 segment.py:1957] Performing DE-test: rank\n",
      "2020-07-10 19:14:19,820  SpectraRegion  INFO: DE-test (rank) finished. Results available: ((4,), (1, 2, 3, 6, 7))\n",
      "I0710 19:14:19.820178 139724973016896 segment.py:1990] DE-test (rank) finished. Results available: ((4,), (1, 2, 3, 6, 7))\n",
      "2020-07-10 19:14:19,833  SpectraRegion  INFO: DE result for case ((4,), (1, 2, 3, 6, 7)) with (17900, 7) results\n",
      "I0710 19:14:19.833961 139724973016896 segment.py:1579] DE result for case ((4,), (1, 2, 3, 6, 7)) with (17900, 7) results\n",
      "2020-07-10 19:14:19,835  SpectraRegion  INFO: DE result logFC inversed\n",
      "I0710 19:14:19.835371 139724973016896 segment.py:1602] DE result logFC inversed\n",
      "2020-07-10 19:14:19,839  SpectraRegion  INFO: DE result for case ((4,), (1, 2, 3, 6, 7)) with (173, 7) results (filtered)\n",
      "I0710 19:14:19.839776 139724973016896 segment.py:1607] DE result for case ((4,), (1, 2, 3, 6, 7)) with (173, 7) results (filtered)\n",
      "2020-07-10 19:14:19,917  SpectraRegion  INFO: Created matrices with shape (44, 17900) and (299, 17900) (target, bg)\n",
      "I0710 19:14:19.917660 139724973016896 segment.py:1613] Created matrices with shape (44, 17900) and (299, 17900) (target, bg)\n",
      "2020-07-10 19:14:20,310  SpectraRegion  INFO: DE result for case ((4,), (1, 2, 3, 6, 7)) with (17900, 7) results\n",
      "I0710 19:14:20.310292 139724973016896 segment.py:1579] DE result for case ((4,), (1, 2, 3, 6, 7)) with (17900, 7) results\n",
      "2020-07-10 19:14:20,311  SpectraRegion  INFO: DE result logFC inversed\n",
      "I0710 19:14:20.311886 139724973016896 segment.py:1602] DE result logFC inversed\n",
      "2020-07-10 19:14:20,317  SpectraRegion  INFO: DE result for case ((4,), (1, 2, 3, 6, 7)) with (156, 7) results (filtered)\n",
      "I0710 19:14:20.317761 139724973016896 segment.py:1607] DE result for case ((4,), (1, 2, 3, 6, 7)) with (156, 7) results (filtered)\n",
      "2020-07-10 19:14:20,388  SpectraRegion  INFO: Created matrices with shape (44, 17900) and (299, 17900) (target, bg)\n",
      "I0710 19:14:20.388924 139724973016896 segment.py:1613] Created matrices with shape (44, 17900) and (299, 17900) (target, bg)\n",
      "2020-07-10 19:14:20,743  SpectraRegion  INFO: DE data for case: [6]\n",
      "I0710 19:14:20.743461 139724973016896 segment.py:1842] DE data for case: [6]\n",
      "2020-07-10 19:14:20,745  SpectraRegion  INFO: DE data for control: [3, 4, 2, 7, 1]\n",
      "I0710 19:14:20.745351 139724973016896 segment.py:1843] DE data for control: [3, 4, 2, 7, 1]\n",
      "2020-07-10 19:14:20,747  SpectraRegion  INFO: DE result key: ((6,), (1, 2, 3, 4, 7))\n",
      "I0710 19:14:20.747376 139724973016896 segment.py:1847] DE result key: ((6,), (1, 2, 3, 4, 7))\n"
     ]
    },
    {
     "name": "stdout",
     "output_type": "stream",
     "text": [
      "Running [6] against [3, 4, 2, 7, 1]\n"
     ]
    },
    {
     "name": "stderr",
     "output_type": "stream",
     "text": [
      "2020-07-10 19:14:21,220  SpectraRegion  INFO: DE DataFrame ready. Shape (17900, 343)\n",
      "I0710 19:14:21.220787 139724973016896 segment.py:1891] DE DataFrame ready. Shape (17900, 343)\n",
      "2020-07-10 19:14:21,227  SpectraRegion  INFO: DE Sample DataFrame ready. Shape (343, 3)\n",
      "I0710 19:14:21.227570 139724973016896 segment.py:1899] DE Sample DataFrame ready. Shape (343, 3)\n",
      "2020-07-10 19:14:21,239  SpectraRegion  INFO: Performing DE-test: ttest\n",
      "I0710 19:14:21.239021 139724973016896 segment.py:1957] Performing DE-test: ttest\n",
      "2020-07-10 19:14:21,842  SpectraRegion  INFO: DE-test (ttest) finished. Results available: ((6,), (1, 2, 3, 4, 7))\n",
      "I0710 19:14:21.842428 139724973016896 segment.py:1990] DE-test (ttest) finished. Results available: ((6,), (1, 2, 3, 4, 7))\n",
      "2020-07-10 19:14:21,845  SpectraRegion  INFO: Performing DE-test: rank\n",
      "I0710 19:14:21.845072 139724973016896 segment.py:1957] Performing DE-test: rank\n",
      "2020-07-10 19:14:28,721  SpectraRegion  INFO: DE-test (rank) finished. Results available: ((6,), (1, 2, 3, 4, 7))\n",
      "I0710 19:14:28.721896 139724973016896 segment.py:1990] DE-test (rank) finished. Results available: ((6,), (1, 2, 3, 4, 7))\n",
      "2020-07-10 19:14:28,735  SpectraRegion  INFO: DE result for case ((6,), (1, 2, 3, 4, 7)) with (17900, 7) results\n",
      "I0710 19:14:28.735194 139724973016896 segment.py:1579] DE result for case ((6,), (1, 2, 3, 4, 7)) with (17900, 7) results\n",
      "2020-07-10 19:14:28,737  SpectraRegion  INFO: DE result logFC inversed\n",
      "I0710 19:14:28.737029 139724973016896 segment.py:1602] DE result logFC inversed\n",
      "2020-07-10 19:14:28,743  SpectraRegion  INFO: DE result for case ((6,), (1, 2, 3, 4, 7)) with (815, 7) results (filtered)\n",
      "I0710 19:14:28.743173 139724973016896 segment.py:1607] DE result for case ((6,), (1, 2, 3, 4, 7)) with (815, 7) results (filtered)\n",
      "2020-07-10 19:14:28,811  SpectraRegion  INFO: Created matrices with shape (41, 17900) and (302, 17900) (target, bg)\n",
      "I0710 19:14:28.811432 139724973016896 segment.py:1613] Created matrices with shape (41, 17900) and (302, 17900) (target, bg)\n",
      "2020-07-10 19:14:31,857  SpectraRegion  INFO: DE result for case ((6,), (1, 2, 3, 4, 7)) with (17900, 7) results\n",
      "I0710 19:14:31.857783 139724973016896 segment.py:1579] DE result for case ((6,), (1, 2, 3, 4, 7)) with (17900, 7) results\n",
      "2020-07-10 19:14:31,859  SpectraRegion  INFO: DE result logFC inversed\n",
      "I0710 19:14:31.859324 139724973016896 segment.py:1602] DE result logFC inversed\n",
      "2020-07-10 19:14:31,866  SpectraRegion  INFO: DE result for case ((6,), (1, 2, 3, 4, 7)) with (804, 7) results (filtered)\n",
      "I0710 19:14:31.866434 139724973016896 segment.py:1607] DE result for case ((6,), (1, 2, 3, 4, 7)) with (804, 7) results (filtered)\n",
      "2020-07-10 19:14:31,942  SpectraRegion  INFO: Created matrices with shape (41, 17900) and (302, 17900) (target, bg)\n",
      "I0710 19:14:31.942846 139724973016896 segment.py:1613] Created matrices with shape (41, 17900) and (302, 17900) (target, bg)\n",
      "2020-07-10 19:14:35,407  SpectraRegion  INFO: DE data for case: [2]\n",
      "I0710 19:14:35.407350 139724973016896 segment.py:1842] DE data for case: [2]\n",
      "2020-07-10 19:14:35,409  SpectraRegion  INFO: DE data for control: [3, 4, 6, 7, 1]\n",
      "I0710 19:14:35.409397 139724973016896 segment.py:1843] DE data for control: [3, 4, 6, 7, 1]\n",
      "2020-07-10 19:14:35,411  SpectraRegion  INFO: DE result key: ((2,), (1, 3, 4, 6, 7))\n",
      "I0710 19:14:35.411741 139724973016896 segment.py:1847] DE result key: ((2,), (1, 3, 4, 6, 7))\n"
     ]
    },
    {
     "name": "stdout",
     "output_type": "stream",
     "text": [
      "Running [2] against [3, 4, 6, 7, 1]\n"
     ]
    },
    {
     "name": "stderr",
     "output_type": "stream",
     "text": [
      "2020-07-10 19:14:35,927  SpectraRegion  INFO: DE DataFrame ready. Shape (17900, 343)\n",
      "I0710 19:14:35.927991 139724973016896 segment.py:1891] DE DataFrame ready. Shape (17900, 343)\n",
      "2020-07-10 19:14:35,937  SpectraRegion  INFO: DE Sample DataFrame ready. Shape (343, 3)\n",
      "I0710 19:14:35.937384 139724973016896 segment.py:1899] DE Sample DataFrame ready. Shape (343, 3)\n",
      "2020-07-10 19:14:35,953  SpectraRegion  INFO: Performing DE-test: ttest\n",
      "I0710 19:14:35.953290 139724973016896 segment.py:1957] Performing DE-test: ttest\n",
      "2020-07-10 19:14:36,600  SpectraRegion  INFO: DE-test (ttest) finished. Results available: ((2,), (1, 3, 4, 6, 7))\n",
      "I0710 19:14:36.600280 139724973016896 segment.py:1990] DE-test (ttest) finished. Results available: ((2,), (1, 3, 4, 6, 7))\n",
      "2020-07-10 19:14:36,601  SpectraRegion  INFO: Performing DE-test: rank\n",
      "I0710 19:14:36.601818 139724973016896 segment.py:1957] Performing DE-test: rank\n",
      "2020-07-10 19:14:44,577  SpectraRegion  INFO: DE-test (rank) finished. Results available: ((2,), (1, 3, 4, 6, 7))\n",
      "I0710 19:14:44.577630 139724973016896 segment.py:1990] DE-test (rank) finished. Results available: ((2,), (1, 3, 4, 6, 7))\n",
      "2020-07-10 19:14:44,595  SpectraRegion  INFO: DE result for case ((2,), (1, 3, 4, 6, 7)) with (17900, 7) results\n",
      "I0710 19:14:44.595573 139724973016896 segment.py:1579] DE result for case ((2,), (1, 3, 4, 6, 7)) with (17900, 7) results\n",
      "2020-07-10 19:14:44,598  SpectraRegion  INFO: DE result logFC inversed\n",
      "I0710 19:14:44.598643 139724973016896 segment.py:1602] DE result logFC inversed\n",
      "2020-07-10 19:14:44,609  SpectraRegion  INFO: DE result for case ((2,), (1, 3, 4, 6, 7)) with (774, 7) results (filtered)\n",
      "I0710 19:14:44.609708 139724973016896 segment.py:1607] DE result for case ((2,), (1, 3, 4, 6, 7)) with (774, 7) results (filtered)\n",
      "2020-07-10 19:14:44,634  SpectraRegion  INFO: Created matrices with shape (61, 17900) and (282, 17900) (target, bg)\n",
      "I0710 19:14:44.634159 139724973016896 segment.py:1613] Created matrices with shape (61, 17900) and (282, 17900) (target, bg)\n",
      "2020-07-10 19:14:47,632  SpectraRegion  INFO: DE result for case ((2,), (1, 3, 4, 6, 7)) with (17900, 7) results\n",
      "I0710 19:14:47.632086 139724973016896 segment.py:1579] DE result for case ((2,), (1, 3, 4, 6, 7)) with (17900, 7) results\n",
      "2020-07-10 19:14:47,633  SpectraRegion  INFO: DE result logFC inversed\n",
      "I0710 19:14:47.633580 139724973016896 segment.py:1602] DE result logFC inversed\n",
      "2020-07-10 19:14:47,639  SpectraRegion  INFO: DE result for case ((2,), (1, 3, 4, 6, 7)) with (759, 7) results (filtered)\n",
      "I0710 19:14:47.639961 139724973016896 segment.py:1607] DE result for case ((2,), (1, 3, 4, 6, 7)) with (759, 7) results (filtered)\n",
      "2020-07-10 19:14:47,657  SpectraRegion  INFO: Created matrices with shape (61, 17900) and (282, 17900) (target, bg)\n",
      "I0710 19:14:47.657138 139724973016896 segment.py:1613] Created matrices with shape (61, 17900) and (282, 17900) (target, bg)\n",
      "2020-07-10 19:14:50,072  SpectraRegion  INFO: DE data for case: [7]\n",
      "I0710 19:14:50.072493 139724973016896 segment.py:1842] DE data for case: [7]\n",
      "2020-07-10 19:14:50,074  SpectraRegion  INFO: DE data for control: [3, 4, 6, 2, 1]\n",
      "I0710 19:14:50.074290 139724973016896 segment.py:1843] DE data for control: [3, 4, 6, 2, 1]\n",
      "2020-07-10 19:14:50,076  SpectraRegion  INFO: DE result key: ((7,), (1, 2, 3, 4, 6))\n",
      "I0710 19:14:50.076455 139724973016896 segment.py:1847] DE result key: ((7,), (1, 2, 3, 4, 6))\n"
     ]
    },
    {
     "name": "stdout",
     "output_type": "stream",
     "text": [
      "Running [7] against [3, 4, 6, 2, 1]\n"
     ]
    },
    {
     "name": "stderr",
     "output_type": "stream",
     "text": [
      "2020-07-10 19:14:50,491  SpectraRegion  INFO: DE DataFrame ready. Shape (17900, 343)\n",
      "I0710 19:14:50.491984 139724973016896 segment.py:1891] DE DataFrame ready. Shape (17900, 343)\n",
      "2020-07-10 19:14:50,498  SpectraRegion  INFO: DE Sample DataFrame ready. Shape (343, 3)\n",
      "I0710 19:14:50.498121 139724973016896 segment.py:1899] DE Sample DataFrame ready. Shape (343, 3)\n",
      "2020-07-10 19:14:50,510  SpectraRegion  INFO: Performing DE-test: ttest\n",
      "I0710 19:14:50.510549 139724973016896 segment.py:1957] Performing DE-test: ttest\n",
      "2020-07-10 19:14:51,025  SpectraRegion  INFO: DE-test (ttest) finished. Results available: ((7,), (1, 2, 3, 4, 6))\n",
      "I0710 19:14:51.025942 139724973016896 segment.py:1990] DE-test (ttest) finished. Results available: ((7,), (1, 2, 3, 4, 6))\n",
      "2020-07-10 19:14:51,028  SpectraRegion  INFO: Performing DE-test: rank\n",
      "I0710 19:14:51.028158 139724973016896 segment.py:1957] Performing DE-test: rank\n",
      "2020-07-10 19:14:57,961  SpectraRegion  INFO: DE-test (rank) finished. Results available: ((7,), (1, 2, 3, 4, 6))\n",
      "I0710 19:14:57.961138 139724973016896 segment.py:1990] DE-test (rank) finished. Results available: ((7,), (1, 2, 3, 4, 6))\n",
      "2020-07-10 19:14:57,976  SpectraRegion  INFO: DE result for case ((7,), (1, 2, 3, 4, 6)) with (17900, 7) results\n",
      "I0710 19:14:57.976521 139724973016896 segment.py:1579] DE result for case ((7,), (1, 2, 3, 4, 6)) with (17900, 7) results\n",
      "2020-07-10 19:14:57,978  SpectraRegion  INFO: DE result logFC inversed\n",
      "I0710 19:14:57.978907 139724973016896 segment.py:1602] DE result logFC inversed\n",
      "2020-07-10 19:14:57,986  SpectraRegion  INFO: DE result for case ((7,), (1, 2, 3, 4, 6)) with (787, 7) results (filtered)\n",
      "I0710 19:14:57.986579 139724973016896 segment.py:1607] DE result for case ((7,), (1, 2, 3, 4, 6)) with (787, 7) results (filtered)\n",
      "2020-07-10 19:14:58,059  SpectraRegion  INFO: Created matrices with shape (45, 17900) and (298, 17900) (target, bg)\n",
      "I0710 19:14:58.059790 139724973016896 segment.py:1613] Created matrices with shape (45, 17900) and (298, 17900) (target, bg)\n",
      "2020-07-10 19:15:00,647  SpectraRegion  INFO: DE result for case ((7,), (1, 2, 3, 4, 6)) with (17900, 7) results\n",
      "I0710 19:15:00.647899 139724973016896 segment.py:1579] DE result for case ((7,), (1, 2, 3, 4, 6)) with (17900, 7) results\n",
      "2020-07-10 19:15:00,649  SpectraRegion  INFO: DE result logFC inversed\n",
      "I0710 19:15:00.649316 139724973016896 segment.py:1602] DE result logFC inversed\n",
      "2020-07-10 19:15:00,656  SpectraRegion  INFO: DE result for case ((7,), (1, 2, 3, 4, 6)) with (787, 7) results (filtered)\n",
      "I0710 19:15:00.656702 139724973016896 segment.py:1607] DE result for case ((7,), (1, 2, 3, 4, 6)) with (787, 7) results (filtered)\n",
      "2020-07-10 19:15:00,737  SpectraRegion  INFO: Created matrices with shape (45, 17900) and (298, 17900) (target, bg)\n",
      "I0710 19:15:00.737814 139724973016896 segment.py:1613] Created matrices with shape (45, 17900) and (298, 17900) (target, bg)\n",
      "2020-07-10 19:15:03,374  SpectraRegion  INFO: DE data for case: [1]\n",
      "I0710 19:15:03.374682 139724973016896 segment.py:1842] DE data for case: [1]\n",
      "2020-07-10 19:15:03,376  SpectraRegion  INFO: DE data for control: [3, 4, 6, 2, 7]\n",
      "I0710 19:15:03.376069 139724973016896 segment.py:1843] DE data for control: [3, 4, 6, 2, 7]\n",
      "2020-07-10 19:15:03,377  SpectraRegion  INFO: DE result key: ((1,), (2, 3, 4, 6, 7))\n",
      "I0710 19:15:03.377573 139724973016896 segment.py:1847] DE result key: ((1,), (2, 3, 4, 6, 7))\n"
     ]
    },
    {
     "name": "stdout",
     "output_type": "stream",
     "text": [
      "Running [1] against [3, 4, 6, 2, 7]\n"
     ]
    },
    {
     "name": "stderr",
     "output_type": "stream",
     "text": [
      "2020-07-10 19:15:03,897  SpectraRegion  INFO: DE DataFrame ready. Shape (17900, 343)\n",
      "I0710 19:15:03.897971 139724973016896 segment.py:1891] DE DataFrame ready. Shape (17900, 343)\n",
      "2020-07-10 19:15:03,904  SpectraRegion  INFO: DE Sample DataFrame ready. Shape (343, 3)\n",
      "I0710 19:15:03.904538 139724973016896 segment.py:1899] DE Sample DataFrame ready. Shape (343, 3)\n",
      "2020-07-10 19:15:03,912  SpectraRegion  INFO: Performing DE-test: ttest\n",
      "I0710 19:15:03.912175 139724973016896 segment.py:1957] Performing DE-test: ttest\n",
      "2020-07-10 19:15:04,470  SpectraRegion  INFO: DE-test (ttest) finished. Results available: ((1,), (2, 3, 4, 6, 7))\n",
      "I0710 19:15:04.470509 139724973016896 segment.py:1990] DE-test (ttest) finished. Results available: ((1,), (2, 3, 4, 6, 7))\n",
      "2020-07-10 19:15:04,472  SpectraRegion  INFO: Performing DE-test: rank\n",
      "I0710 19:15:04.472131 139724973016896 segment.py:1957] Performing DE-test: rank\n",
      "2020-07-10 19:15:11,335  SpectraRegion  INFO: DE-test (rank) finished. Results available: ((1,), (2, 3, 4, 6, 7))\n",
      "I0710 19:15:11.335341 139724973016896 segment.py:1990] DE-test (rank) finished. Results available: ((1,), (2, 3, 4, 6, 7))\n",
      "2020-07-10 19:15:11,349  SpectraRegion  INFO: DE result for case ((1,), (2, 3, 4, 6, 7)) with (17900, 7) results\n",
      "I0710 19:15:11.349527 139724973016896 segment.py:1579] DE result for case ((1,), (2, 3, 4, 6, 7)) with (17900, 7) results\n",
      "2020-07-10 19:15:11,351  SpectraRegion  INFO: DE result logFC inversed\n",
      "I0710 19:15:11.351493 139724973016896 segment.py:1602] DE result logFC inversed\n",
      "2020-07-10 19:15:11,358  SpectraRegion  INFO: DE result for case ((1,), (2, 3, 4, 6, 7)) with (1230, 7) results (filtered)\n",
      "I0710 19:15:11.358980 139724973016896 segment.py:1607] DE result for case ((1,), (2, 3, 4, 6, 7)) with (1230, 7) results (filtered)\n",
      "2020-07-10 19:15:11,443  SpectraRegion  INFO: Created matrices with shape (30, 17900) and (313, 17900) (target, bg)\n",
      "I0710 19:15:11.443505 139724973016896 segment.py:1613] Created matrices with shape (30, 17900) and (313, 17900) (target, bg)\n",
      "2020-07-10 19:15:15,554  SpectraRegion  INFO: DE result for case ((1,), (2, 3, 4, 6, 7)) with (17900, 7) results\n",
      "I0710 19:15:15.554326 139724973016896 segment.py:1579] DE result for case ((1,), (2, 3, 4, 6, 7)) with (17900, 7) results\n",
      "2020-07-10 19:15:15,555  SpectraRegion  INFO: DE result logFC inversed\n",
      "I0710 19:15:15.555726 139724973016896 segment.py:1602] DE result logFC inversed\n",
      "2020-07-10 19:15:15,562  SpectraRegion  INFO: DE result for case ((1,), (2, 3, 4, 6, 7)) with (1230, 7) results (filtered)\n",
      "I0710 19:15:15.562936 139724973016896 segment.py:1607] DE result for case ((1,), (2, 3, 4, 6, 7)) with (1230, 7) results (filtered)\n",
      "2020-07-10 19:15:15,639  SpectraRegion  INFO: Created matrices with shape (30, 17900) and (313, 17900) (target, bg)\n",
      "I0710 19:15:15.639459 139724973016896 segment.py:1613] Created matrices with shape (30, 17900) and (313, 17900) (target, bg)\n",
      "2020-07-10 19:15:19,412  SpectraRegion  INFO: DE data for case: [0]\n",
      "I0710 19:15:19.412473 139724973016896 segment.py:1842] DE data for case: [0]\n",
      "2020-07-10 19:15:19,414  SpectraRegion  INFO: DE data for control: [3, 4, 6, 2, 7, 1]\n",
      "I0710 19:15:19.414217 139724973016896 segment.py:1843] DE data for control: [3, 4, 6, 2, 7, 1]\n",
      "2020-07-10 19:15:19,417  SpectraRegion  INFO: DE result key: ((0,), (1, 2, 3, 4, 6, 7))\n",
      "I0710 19:15:19.417559 139724973016896 segment.py:1847] DE result key: ((0,), (1, 2, 3, 4, 6, 7))\n"
     ]
    },
    {
     "name": "stdout",
     "output_type": "stream",
     "text": [
      "Running [0] against [3, 4, 6, 2, 7, 1]\n"
     ]
    },
    {
     "name": "stderr",
     "output_type": "stream",
     "text": [
      "2020-07-10 19:15:34,222  SpectraRegion  INFO: DE DataFrame ready. Shape (17900, 2408)\n",
      "I0710 19:15:34.222947 139724973016896 segment.py:1891] DE DataFrame ready. Shape (17900, 2408)\n",
      "2020-07-10 19:15:34,228  SpectraRegion  INFO: DE Sample DataFrame ready. Shape (2408, 3)\n",
      "I0710 19:15:34.228905 139724973016896 segment.py:1899] DE Sample DataFrame ready. Shape (2408, 3)\n",
      "2020-07-10 19:15:34,238  SpectraRegion  INFO: Performing DE-test: ttest\n",
      "I0710 19:15:34.238717 139724973016896 segment.py:1957] Performing DE-test: ttest\n",
      "2020-07-10 19:15:38,457  SpectraRegion  INFO: DE-test (ttest) finished. Results available: ((0,), (1, 2, 3, 4, 6, 7))\n",
      "I0710 19:15:38.457559 139724973016896 segment.py:1990] DE-test (ttest) finished. Results available: ((0,), (1, 2, 3, 4, 6, 7))\n",
      "2020-07-10 19:15:38,459  SpectraRegion  INFO: Performing DE-test: rank\n",
      "I0710 19:15:38.459670 139724973016896 segment.py:1957] Performing DE-test: rank\n",
      "2020-07-10 19:15:57,122  SpectraRegion  INFO: DE-test (rank) finished. Results available: ((0,), (1, 2, 3, 4, 6, 7))\n",
      "I0710 19:15:57.122493 139724973016896 segment.py:1990] DE-test (rank) finished. Results available: ((0,), (1, 2, 3, 4, 6, 7))\n",
      "2020-07-10 19:15:57,198  SpectraRegion  INFO: DE result for case ((0,), (1, 2, 3, 4, 6, 7)) with (17900, 7) results\n",
      "I0710 19:15:57.198362 139724973016896 segment.py:1579] DE result for case ((0,), (1, 2, 3, 4, 6, 7)) with (17900, 7) results\n",
      "2020-07-10 19:15:57,200  SpectraRegion  INFO: DE result logFC inversed\n",
      "I0710 19:15:57.200688 139724973016896 segment.py:1602] DE result logFC inversed\n",
      "2020-07-10 19:15:57,207  SpectraRegion  INFO: DE result for case ((0,), (1, 2, 3, 4, 6, 7)) with (1270, 7) results (filtered)\n",
      "I0710 19:15:57.207851 139724973016896 segment.py:1607] DE result for case ((0,), (1, 2, 3, 4, 6, 7)) with (1270, 7) results (filtered)\n",
      "2020-07-10 19:15:57,652  SpectraRegion  INFO: Created matrices with shape (2065, 17900) and (343, 17900) (target, bg)\n",
      "I0710 19:15:57.652901 139724973016896 segment.py:1613] Created matrices with shape (2065, 17900) and (343, 17900) (target, bg)\n",
      "2020-07-10 19:16:03,059  SpectraRegion  INFO: DE result for case ((0,), (1, 2, 3, 4, 6, 7)) with (17900, 7) results\n",
      "I0710 19:16:03.059721 139724973016896 segment.py:1579] DE result for case ((0,), (1, 2, 3, 4, 6, 7)) with (17900, 7) results\n",
      "2020-07-10 19:16:03,061  SpectraRegion  INFO: DE result logFC inversed\n",
      "I0710 19:16:03.061637 139724973016896 segment.py:1602] DE result logFC inversed\n",
      "2020-07-10 19:16:03,066  SpectraRegion  INFO: DE result for case ((0,), (1, 2, 3, 4, 6, 7)) with (1270, 7) results (filtered)\n",
      "I0710 19:16:03.066781 139724973016896 segment.py:1607] DE result for case ((0,), (1, 2, 3, 4, 6, 7)) with (1270, 7) results (filtered)\n",
      "2020-07-10 19:16:03,506  SpectraRegion  INFO: Created matrices with shape (2065, 17900) and (343, 17900) (target, bg)\n",
      "I0710 19:16:03.506746 139724973016896 segment.py:1613] Created matrices with shape (2065, 17900) and (343, 17900) (target, bg)\n",
      "2020-07-10 19:16:09,413  SpectraRegion  INFO: DE data for case: [3]\n",
      "I0710 19:16:09.413908 139724973016896 segment.py:1842] DE data for case: [3]\n",
      "2020-07-10 19:16:09,415  SpectraRegion  INFO: DE data for control: [0, 4, 6, 2, 7, 1]\n",
      "I0710 19:16:09.415460 139724973016896 segment.py:1843] DE data for control: [0, 4, 6, 2, 7, 1]\n",
      "2020-07-10 19:16:09,441  SpectraRegion  INFO: DE result key: ((3,), (0, 1, 2, 4, 6, 7))\n",
      "I0710 19:16:09.441108 139724973016896 segment.py:1847] DE result key: ((3,), (0, 1, 2, 4, 6, 7))\n"
     ]
    },
    {
     "name": "stdout",
     "output_type": "stream",
     "text": [
      "Running [3] against [0, 4, 6, 2, 7, 1]\n"
     ]
    },
    {
     "name": "stderr",
     "output_type": "stream",
     "text": [
      "2020-07-10 19:16:24,220  SpectraRegion  INFO: DE DataFrame ready. Shape (17900, 2408)\n",
      "I0710 19:16:24.220240 139724973016896 segment.py:1891] DE DataFrame ready. Shape (17900, 2408)\n",
      "2020-07-10 19:16:24,227  SpectraRegion  INFO: DE Sample DataFrame ready. Shape (2408, 3)\n",
      "I0710 19:16:24.227009 139724973016896 segment.py:1899] DE Sample DataFrame ready. Shape (2408, 3)\n",
      "2020-07-10 19:16:24,235  SpectraRegion  INFO: Performing DE-test: ttest\n",
      "I0710 19:16:24.235928 139724973016896 segment.py:1957] Performing DE-test: ttest\n",
      "2020-07-10 19:16:28,395  SpectraRegion  INFO: DE-test (ttest) finished. Results available: ((3,), (0, 1, 2, 4, 6, 7))\n",
      "I0710 19:16:28.395107 139724973016896 segment.py:1990] DE-test (ttest) finished. Results available: ((3,), (0, 1, 2, 4, 6, 7))\n",
      "2020-07-10 19:16:28,397  SpectraRegion  INFO: Performing DE-test: rank\n",
      "I0710 19:16:28.397032 139724973016896 segment.py:1957] Performing DE-test: rank\n",
      "2020-07-10 19:16:47,031  SpectraRegion  INFO: DE-test (rank) finished. Results available: ((3,), (0, 1, 2, 4, 6, 7))\n",
      "I0710 19:16:47.031247 139724973016896 segment.py:1990] DE-test (rank) finished. Results available: ((3,), (0, 1, 2, 4, 6, 7))\n",
      "2020-07-10 19:16:47,109  SpectraRegion  INFO: DE result for case ((3,), (0, 1, 2, 4, 6, 7)) with (17900, 7) results\n",
      "I0710 19:16:47.109643 139724973016896 segment.py:1579] DE result for case ((3,), (0, 1, 2, 4, 6, 7)) with (17900, 7) results\n",
      "2020-07-10 19:16:47,112  SpectraRegion  INFO: DE result logFC inversed\n",
      "I0710 19:16:47.112170 139724973016896 segment.py:1602] DE result logFC inversed\n",
      "2020-07-10 19:16:47,118  SpectraRegion  INFO: DE result for case ((3,), (0, 1, 2, 4, 6, 7)) with (1052, 7) results (filtered)\n",
      "I0710 19:16:47.118623 139724973016896 segment.py:1607] DE result for case ((3,), (0, 1, 2, 4, 6, 7)) with (1052, 7) results (filtered)\n",
      "2020-07-10 19:16:47,589  SpectraRegion  INFO: Created matrices with shape (122, 17900) and (2286, 17900) (target, bg)\n",
      "I0710 19:16:47.589566 139724973016896 segment.py:1613] Created matrices with shape (122, 17900) and (2286, 17900) (target, bg)\n",
      "2020-07-10 19:16:52,106  SpectraRegion  INFO: DE result for case ((3,), (0, 1, 2, 4, 6, 7)) with (17900, 7) results\n",
      "I0710 19:16:52.106772 139724973016896 segment.py:1579] DE result for case ((3,), (0, 1, 2, 4, 6, 7)) with (17900, 7) results\n",
      "2020-07-10 19:16:52,108  SpectraRegion  INFO: DE result logFC inversed\n",
      "I0710 19:16:52.108624 139724973016896 segment.py:1602] DE result logFC inversed\n",
      "2020-07-10 19:16:52,115  SpectraRegion  INFO: DE result for case ((3,), (0, 1, 2, 4, 6, 7)) with (1052, 7) results (filtered)\n",
      "I0710 19:16:52.115225 139724973016896 segment.py:1607] DE result for case ((3,), (0, 1, 2, 4, 6, 7)) with (1052, 7) results (filtered)\n",
      "2020-07-10 19:16:52,586  SpectraRegion  INFO: Created matrices with shape (122, 17900) and (2286, 17900) (target, bg)\n",
      "I0710 19:16:52.586768 139724973016896 segment.py:1613] Created matrices with shape (122, 17900) and (2286, 17900) (target, bg)\n",
      "2020-07-10 19:16:58,797  SpectraRegion  INFO: DE data for case: [4]\n",
      "I0710 19:16:58.797671 139724973016896 segment.py:1842] DE data for case: [4]\n",
      "2020-07-10 19:16:58,799  SpectraRegion  INFO: DE data for control: [0, 3, 6, 2, 7, 1]\n",
      "I0710 19:16:58.799958 139724973016896 segment.py:1843] DE data for control: [0, 3, 6, 2, 7, 1]\n",
      "2020-07-10 19:16:58,801  SpectraRegion  INFO: DE result key: ((4,), (0, 1, 2, 3, 6, 7))\n",
      "I0710 19:16:58.801604 139724973016896 segment.py:1847] DE result key: ((4,), (0, 1, 2, 3, 6, 7))\n"
     ]
    },
    {
     "name": "stdout",
     "output_type": "stream",
     "text": [
      "Running [4] against [0, 3, 6, 2, 7, 1]\n"
     ]
    },
    {
     "name": "stderr",
     "output_type": "stream",
     "text": [
      "2020-07-10 19:17:13,240  SpectraRegion  INFO: DE DataFrame ready. Shape (17900, 2408)\n",
      "I0710 19:17:13.240330 139724973016896 segment.py:1891] DE DataFrame ready. Shape (17900, 2408)\n",
      "2020-07-10 19:17:13,247  SpectraRegion  INFO: DE Sample DataFrame ready. Shape (2408, 3)\n",
      "I0710 19:17:13.247940 139724973016896 segment.py:1899] DE Sample DataFrame ready. Shape (2408, 3)\n",
      "2020-07-10 19:17:13,261  SpectraRegion  INFO: Performing DE-test: ttest\n",
      "I0710 19:17:13.261778 139724973016896 segment.py:1957] Performing DE-test: ttest\n",
      "2020-07-10 19:17:17,417  SpectraRegion  INFO: DE-test (ttest) finished. Results available: ((4,), (0, 1, 2, 3, 6, 7))\n",
      "I0710 19:17:17.417490 139724973016896 segment.py:1990] DE-test (ttest) finished. Results available: ((4,), (0, 1, 2, 3, 6, 7))\n",
      "2020-07-10 19:17:17,419  SpectraRegion  INFO: Performing DE-test: rank\n",
      "I0710 19:17:17.419079 139724973016896 segment.py:1957] Performing DE-test: rank\n",
      "2020-07-10 19:17:35,721  SpectraRegion  INFO: DE-test (rank) finished. Results available: ((4,), (0, 1, 2, 3, 6, 7))\n",
      "I0710 19:17:35.721789 139724973016896 segment.py:1990] DE-test (rank) finished. Results available: ((4,), (0, 1, 2, 3, 6, 7))\n",
      "2020-07-10 19:17:35,788  SpectraRegion  INFO: DE result for case ((4,), (0, 1, 2, 3, 6, 7)) with (17900, 7) results\n",
      "I0710 19:17:35.788656 139724973016896 segment.py:1579] DE result for case ((4,), (0, 1, 2, 3, 6, 7)) with (17900, 7) results\n",
      "2020-07-10 19:17:35,790  SpectraRegion  INFO: DE result logFC inversed\n",
      "I0710 19:17:35.790672 139724973016896 segment.py:1602] DE result logFC inversed\n",
      "2020-07-10 19:17:35,795  SpectraRegion  INFO: DE result for case ((4,), (0, 1, 2, 3, 6, 7)) with (912, 7) results (filtered)\n",
      "I0710 19:17:35.795942 139724973016896 segment.py:1607] DE result for case ((4,), (0, 1, 2, 3, 6, 7)) with (912, 7) results (filtered)\n",
      "2020-07-10 19:17:36,286  SpectraRegion  INFO: Created matrices with shape (44, 17900) and (2364, 17900) (target, bg)\n",
      "I0710 19:17:36.286234 139724973016896 segment.py:1613] Created matrices with shape (44, 17900) and (2364, 17900) (target, bg)\n",
      "2020-07-10 19:17:40,252  SpectraRegion  INFO: DE result for case ((4,), (0, 1, 2, 3, 6, 7)) with (17900, 7) results\n",
      "I0710 19:17:40.252919 139724973016896 segment.py:1579] DE result for case ((4,), (0, 1, 2, 3, 6, 7)) with (17900, 7) results\n",
      "2020-07-10 19:17:40,255  SpectraRegion  INFO: DE result logFC inversed\n",
      "I0710 19:17:40.255005 139724973016896 segment.py:1602] DE result logFC inversed\n",
      "2020-07-10 19:17:40,261  SpectraRegion  INFO: DE result for case ((4,), (0, 1, 2, 3, 6, 7)) with (913, 7) results (filtered)\n",
      "I0710 19:17:40.261981 139724973016896 segment.py:1607] DE result for case ((4,), (0, 1, 2, 3, 6, 7)) with (913, 7) results (filtered)\n",
      "2020-07-10 19:17:40,781  SpectraRegion  INFO: Created matrices with shape (44, 17900) and (2364, 17900) (target, bg)\n",
      "I0710 19:17:40.781496 139724973016896 segment.py:1613] Created matrices with shape (44, 17900) and (2364, 17900) (target, bg)\n",
      "2020-07-10 19:17:44,615  SpectraRegion  INFO: DE data for case: [6]\n",
      "I0710 19:17:44.615104 139724973016896 segment.py:1842] DE data for case: [6]\n",
      "2020-07-10 19:17:44,616  SpectraRegion  INFO: DE data for control: [0, 3, 4, 2, 7, 1]\n",
      "I0710 19:17:44.616552 139724973016896 segment.py:1843] DE data for control: [0, 3, 4, 2, 7, 1]\n",
      "2020-07-10 19:17:44,618  SpectraRegion  INFO: DE result key: ((6,), (0, 1, 2, 3, 4, 7))\n",
      "I0710 19:17:44.618199 139724973016896 segment.py:1847] DE result key: ((6,), (0, 1, 2, 3, 4, 7))\n"
     ]
    },
    {
     "name": "stdout",
     "output_type": "stream",
     "text": [
      "Running [6] against [0, 3, 4, 2, 7, 1]\n"
     ]
    },
    {
     "name": "stderr",
     "output_type": "stream",
     "text": [
      "2020-07-10 19:17:58,429  SpectraRegion  INFO: DE DataFrame ready. Shape (17900, 2408)\n",
      "I0710 19:17:58.429382 139724973016896 segment.py:1891] DE DataFrame ready. Shape (17900, 2408)\n",
      "2020-07-10 19:17:58,435  SpectraRegion  INFO: DE Sample DataFrame ready. Shape (2408, 3)\n",
      "I0710 19:17:58.435022 139724973016896 segment.py:1899] DE Sample DataFrame ready. Shape (2408, 3)\n",
      "2020-07-10 19:17:58,447  SpectraRegion  INFO: Performing DE-test: ttest\n",
      "I0710 19:17:58.447668 139724973016896 segment.py:1957] Performing DE-test: ttest\n",
      "2020-07-10 19:18:02,636  SpectraRegion  INFO: DE-test (ttest) finished. Results available: ((6,), (0, 1, 2, 3, 4, 7))\n",
      "I0710 19:18:02.636772 139724973016896 segment.py:1990] DE-test (ttest) finished. Results available: ((6,), (0, 1, 2, 3, 4, 7))\n",
      "2020-07-10 19:18:02,639  SpectraRegion  INFO: Performing DE-test: rank\n",
      "I0710 19:18:02.639498 139724973016896 segment.py:1957] Performing DE-test: rank\n",
      "2020-07-10 19:18:21,146  SpectraRegion  INFO: DE-test (rank) finished. Results available: ((6,), (0, 1, 2, 3, 4, 7))\n",
      "I0710 19:18:21.146520 139724973016896 segment.py:1990] DE-test (rank) finished. Results available: ((6,), (0, 1, 2, 3, 4, 7))\n",
      "2020-07-10 19:18:21,223  SpectraRegion  INFO: DE result for case ((6,), (0, 1, 2, 3, 4, 7)) with (17900, 7) results\n",
      "I0710 19:18:21.223429 139724973016896 segment.py:1579] DE result for case ((6,), (0, 1, 2, 3, 4, 7)) with (17900, 7) results\n",
      "2020-07-10 19:18:21,225  SpectraRegion  INFO: DE result logFC inversed\n",
      "I0710 19:18:21.225860 139724973016896 segment.py:1602] DE result logFC inversed\n",
      "2020-07-10 19:18:21,233  SpectraRegion  INFO: DE result for case ((6,), (0, 1, 2, 3, 4, 7)) with (1502, 7) results (filtered)\n",
      "I0710 19:18:21.233179 139724973016896 segment.py:1607] DE result for case ((6,), (0, 1, 2, 3, 4, 7)) with (1502, 7) results (filtered)\n",
      "2020-07-10 19:18:21,741  SpectraRegion  INFO: Created matrices with shape (41, 17900) and (2367, 17900) (target, bg)\n",
      "I0710 19:18:21.741312 139724973016896 segment.py:1613] Created matrices with shape (41, 17900) and (2367, 17900) (target, bg)\n",
      "2020-07-10 19:18:29,153  SpectraRegion  INFO: DE result for case ((6,), (0, 1, 2, 3, 4, 7)) with (17900, 7) results\n",
      "I0710 19:18:29.153397 139724973016896 segment.py:1579] DE result for case ((6,), (0, 1, 2, 3, 4, 7)) with (17900, 7) results\n",
      "2020-07-10 19:18:29,155  SpectraRegion  INFO: DE result logFC inversed\n",
      "I0710 19:18:29.155254 139724973016896 segment.py:1602] DE result logFC inversed\n",
      "2020-07-10 19:18:29,162  SpectraRegion  INFO: DE result for case ((6,), (0, 1, 2, 3, 4, 7)) with (1501, 7) results (filtered)\n",
      "I0710 19:18:29.162475 139724973016896 segment.py:1607] DE result for case ((6,), (0, 1, 2, 3, 4, 7)) with (1501, 7) results (filtered)\n",
      "2020-07-10 19:18:29,663  SpectraRegion  INFO: Created matrices with shape (41, 17900) and (2367, 17900) (target, bg)\n",
      "I0710 19:18:29.663222 139724973016896 segment.py:1613] Created matrices with shape (41, 17900) and (2367, 17900) (target, bg)\n",
      "2020-07-10 19:18:38,632  SpectraRegion  INFO: DE data for case: [2]\n",
      "I0710 19:18:38.632440 139724973016896 segment.py:1842] DE data for case: [2]\n",
      "2020-07-10 19:18:38,634  SpectraRegion  INFO: DE data for control: [0, 3, 4, 6, 7, 1]\n",
      "I0710 19:18:38.634974 139724973016896 segment.py:1843] DE data for control: [0, 3, 4, 6, 7, 1]\n",
      "2020-07-10 19:18:38,637  SpectraRegion  INFO: DE result key: ((2,), (0, 1, 3, 4, 6, 7))\n",
      "I0710 19:18:38.637965 139724973016896 segment.py:1847] DE result key: ((2,), (0, 1, 3, 4, 6, 7))\n"
     ]
    },
    {
     "name": "stdout",
     "output_type": "stream",
     "text": [
      "Running [2] against [0, 3, 4, 6, 7, 1]\n"
     ]
    },
    {
     "name": "stderr",
     "output_type": "stream",
     "text": [
      "2020-07-10 19:18:52,411  SpectraRegion  INFO: DE DataFrame ready. Shape (17900, 2408)\n",
      "I0710 19:18:52.411290 139724973016896 segment.py:1891] DE DataFrame ready. Shape (17900, 2408)\n",
      "2020-07-10 19:18:52,416  SpectraRegion  INFO: DE Sample DataFrame ready. Shape (2408, 3)\n",
      "I0710 19:18:52.416550 139724973016896 segment.py:1899] DE Sample DataFrame ready. Shape (2408, 3)\n",
      "2020-07-10 19:18:52,424  SpectraRegion  INFO: Performing DE-test: ttest\n",
      "I0710 19:18:52.424825 139724973016896 segment.py:1957] Performing DE-test: ttest\n",
      "2020-07-10 19:18:56,342  SpectraRegion  INFO: DE-test (ttest) finished. Results available: ((2,), (0, 1, 3, 4, 6, 7))\n",
      "I0710 19:18:56.342752 139724973016896 segment.py:1990] DE-test (ttest) finished. Results available: ((2,), (0, 1, 3, 4, 6, 7))\n",
      "2020-07-10 19:18:56,344  SpectraRegion  INFO: Performing DE-test: rank\n",
      "I0710 19:18:56.344358 139724973016896 segment.py:1957] Performing DE-test: rank\n",
      "2020-07-10 19:19:14,110  SpectraRegion  INFO: DE-test (rank) finished. Results available: ((2,), (0, 1, 3, 4, 6, 7))\n",
      "I0710 19:19:14.110490 139724973016896 segment.py:1990] DE-test (rank) finished. Results available: ((2,), (0, 1, 3, 4, 6, 7))\n",
      "2020-07-10 19:19:14,180  SpectraRegion  INFO: DE result for case ((2,), (0, 1, 3, 4, 6, 7)) with (17900, 7) results\n",
      "I0710 19:19:14.180522 139724973016896 segment.py:1579] DE result for case ((2,), (0, 1, 3, 4, 6, 7)) with (17900, 7) results\n",
      "2020-07-10 19:19:14,182  SpectraRegion  INFO: DE result logFC inversed\n",
      "I0710 19:19:14.182265 139724973016896 segment.py:1602] DE result logFC inversed\n",
      "2020-07-10 19:19:14,188  SpectraRegion  INFO: DE result for case ((2,), (0, 1, 3, 4, 6, 7)) with (1953, 7) results (filtered)\n",
      "I0710 19:19:14.188217 139724973016896 segment.py:1607] DE result for case ((2,), (0, 1, 3, 4, 6, 7)) with (1953, 7) results (filtered)\n",
      "2020-07-10 19:19:14,668  SpectraRegion  INFO: Created matrices with shape (61, 17900) and (2347, 17900) (target, bg)\n",
      "I0710 19:19:14.668916 139724973016896 segment.py:1613] Created matrices with shape (61, 17900) and (2347, 17900) (target, bg)\n",
      "2020-07-10 19:19:23,125  SpectraRegion  INFO: DE result for case ((2,), (0, 1, 3, 4, 6, 7)) with (17900, 7) results\n",
      "I0710 19:19:23.125933 139724973016896 segment.py:1579] DE result for case ((2,), (0, 1, 3, 4, 6, 7)) with (17900, 7) results\n",
      "2020-07-10 19:19:23,127  SpectraRegion  INFO: DE result logFC inversed\n",
      "I0710 19:19:23.127883 139724973016896 segment.py:1602] DE result logFC inversed\n",
      "2020-07-10 19:19:23,134  SpectraRegion  INFO: DE result for case ((2,), (0, 1, 3, 4, 6, 7)) with (1953, 7) results (filtered)\n",
      "I0710 19:19:23.134331 139724973016896 segment.py:1607] DE result for case ((2,), (0, 1, 3, 4, 6, 7)) with (1953, 7) results (filtered)\n",
      "2020-07-10 19:19:23,612  SpectraRegion  INFO: Created matrices with shape (61, 17900) and (2347, 17900) (target, bg)\n",
      "I0710 19:19:23.612428 139724973016896 segment.py:1613] Created matrices with shape (61, 17900) and (2347, 17900) (target, bg)\n",
      "2020-07-10 19:19:32,413  SpectraRegion  INFO: DE data for case: [7]\n",
      "I0710 19:19:32.413635 139724973016896 segment.py:1842] DE data for case: [7]\n",
      "2020-07-10 19:19:32,415  SpectraRegion  INFO: DE data for control: [0, 3, 4, 6, 2, 1]\n",
      "I0710 19:19:32.415005 139724973016896 segment.py:1843] DE data for control: [0, 3, 4, 6, 2, 1]\n",
      "2020-07-10 19:19:32,416  SpectraRegion  INFO: DE result key: ((7,), (0, 1, 2, 3, 4, 6))\n",
      "I0710 19:19:32.416842 139724973016896 segment.py:1847] DE result key: ((7,), (0, 1, 2, 3, 4, 6))\n"
     ]
    },
    {
     "name": "stdout",
     "output_type": "stream",
     "text": [
      "Running [7] against [0, 3, 4, 6, 2, 1]\n"
     ]
    },
    {
     "name": "stderr",
     "output_type": "stream",
     "text": [
      "2020-07-10 19:19:47,510  SpectraRegion  INFO: DE DataFrame ready. Shape (17900, 2408)\n",
      "I0710 19:19:47.510802 139724973016896 segment.py:1891] DE DataFrame ready. Shape (17900, 2408)\n",
      "2020-07-10 19:19:47,517  SpectraRegion  INFO: DE Sample DataFrame ready. Shape (2408, 3)\n",
      "I0710 19:19:47.517257 139724973016896 segment.py:1899] DE Sample DataFrame ready. Shape (2408, 3)\n",
      "2020-07-10 19:19:47,527  SpectraRegion  INFO: Performing DE-test: ttest\n",
      "I0710 19:19:47.527158 139724973016896 segment.py:1957] Performing DE-test: ttest\n",
      "2020-07-10 19:19:51,477  SpectraRegion  INFO: DE-test (ttest) finished. Results available: ((7,), (0, 1, 2, 3, 4, 6))\n",
      "I0710 19:19:51.477785 139724973016896 segment.py:1990] DE-test (ttest) finished. Results available: ((7,), (0, 1, 2, 3, 4, 6))\n",
      "2020-07-10 19:19:51,479  SpectraRegion  INFO: Performing DE-test: rank\n",
      "I0710 19:19:51.479208 139724973016896 segment.py:1957] Performing DE-test: rank\n",
      "2020-07-10 19:20:09,659  SpectraRegion  INFO: DE-test (rank) finished. Results available: ((7,), (0, 1, 2, 3, 4, 6))\n",
      "I0710 19:20:09.659622 139724973016896 segment.py:1990] DE-test (rank) finished. Results available: ((7,), (0, 1, 2, 3, 4, 6))\n",
      "2020-07-10 19:20:09,736  SpectraRegion  INFO: DE result for case ((7,), (0, 1, 2, 3, 4, 6)) with (17900, 7) results\n",
      "I0710 19:20:09.736915 139724973016896 segment.py:1579] DE result for case ((7,), (0, 1, 2, 3, 4, 6)) with (17900, 7) results\n",
      "2020-07-10 19:20:09,739  SpectraRegion  INFO: DE result logFC inversed\n",
      "I0710 19:20:09.739156 139724973016896 segment.py:1602] DE result logFC inversed\n",
      "2020-07-10 19:20:09,745  SpectraRegion  INFO: DE result for case ((7,), (0, 1, 2, 3, 4, 6)) with (1804, 7) results (filtered)\n",
      "I0710 19:20:09.745069 139724973016896 segment.py:1607] DE result for case ((7,), (0, 1, 2, 3, 4, 6)) with (1804, 7) results (filtered)\n",
      "2020-07-10 19:20:10,232  SpectraRegion  INFO: Created matrices with shape (45, 17900) and (2363, 17900) (target, bg)\n",
      "I0710 19:20:10.232704 139724973016896 segment.py:1613] Created matrices with shape (45, 17900) and (2363, 17900) (target, bg)\n",
      "2020-07-10 19:20:17,193  SpectraRegion  INFO: DE result for case ((7,), (0, 1, 2, 3, 4, 6)) with (17900, 7) results\n",
      "I0710 19:20:17.193271 139724973016896 segment.py:1579] DE result for case ((7,), (0, 1, 2, 3, 4, 6)) with (17900, 7) results\n",
      "2020-07-10 19:20:17,194  SpectraRegion  INFO: DE result logFC inversed\n",
      "I0710 19:20:17.194788 139724973016896 segment.py:1602] DE result logFC inversed\n",
      "2020-07-10 19:20:17,201  SpectraRegion  INFO: DE result for case ((7,), (0, 1, 2, 3, 4, 6)) with (1809, 7) results (filtered)\n",
      "I0710 19:20:17.201186 139724973016896 segment.py:1607] DE result for case ((7,), (0, 1, 2, 3, 4, 6)) with (1809, 7) results (filtered)\n",
      "2020-07-10 19:20:17,695  SpectraRegion  INFO: Created matrices with shape (45, 17900) and (2363, 17900) (target, bg)\n",
      "I0710 19:20:17.695972 139724973016896 segment.py:1613] Created matrices with shape (45, 17900) and (2363, 17900) (target, bg)\n",
      "2020-07-10 19:20:24,602  SpectraRegion  INFO: DE data for case: [1]\n",
      "I0710 19:20:24.602334 139724973016896 segment.py:1842] DE data for case: [1]\n",
      "2020-07-10 19:20:24,604  SpectraRegion  INFO: DE data for control: [0, 3, 4, 6, 2, 7]\n",
      "I0710 19:20:24.604359 139724973016896 segment.py:1843] DE data for control: [0, 3, 4, 6, 2, 7]\n",
      "2020-07-10 19:20:24,606  SpectraRegion  INFO: DE result key: ((1,), (0, 2, 3, 4, 6, 7))\n",
      "I0710 19:20:24.606678 139724973016896 segment.py:1847] DE result key: ((1,), (0, 2, 3, 4, 6, 7))\n"
     ]
    },
    {
     "name": "stdout",
     "output_type": "stream",
     "text": [
      "Running [1] against [0, 3, 4, 6, 2, 7]\n"
     ]
    },
    {
     "name": "stderr",
     "output_type": "stream",
     "text": [
      "2020-07-10 19:20:38,626  SpectraRegion  INFO: DE DataFrame ready. Shape (17900, 2408)\n",
      "I0710 19:20:38.626854 139724973016896 segment.py:1891] DE DataFrame ready. Shape (17900, 2408)\n",
      "2020-07-10 19:20:38,631  SpectraRegion  INFO: DE Sample DataFrame ready. Shape (2408, 3)\n",
      "I0710 19:20:38.631916 139724973016896 segment.py:1899] DE Sample DataFrame ready. Shape (2408, 3)\n",
      "2020-07-10 19:20:38,641  SpectraRegion  INFO: Performing DE-test: ttest\n",
      "I0710 19:20:38.641494 139724973016896 segment.py:1957] Performing DE-test: ttest\n",
      "2020-07-10 19:20:42,910  SpectraRegion  INFO: DE-test (ttest) finished. Results available: ((1,), (0, 2, 3, 4, 6, 7))\n",
      "I0710 19:20:42.910558 139724973016896 segment.py:1990] DE-test (ttest) finished. Results available: ((1,), (0, 2, 3, 4, 6, 7))\n",
      "2020-07-10 19:20:42,912  SpectraRegion  INFO: Performing DE-test: rank\n",
      "I0710 19:20:42.912075 139724973016896 segment.py:1957] Performing DE-test: rank\n",
      "2020-07-10 19:21:01,388  SpectraRegion  INFO: DE-test (rank) finished. Results available: ((1,), (0, 2, 3, 4, 6, 7))\n",
      "I0710 19:21:01.388890 139724973016896 segment.py:1990] DE-test (rank) finished. Results available: ((1,), (0, 2, 3, 4, 6, 7))\n",
      "2020-07-10 19:21:01,457  SpectraRegion  INFO: DE result for case ((1,), (0, 2, 3, 4, 6, 7)) with (17900, 7) results\n",
      "I0710 19:21:01.457175 139724973016896 segment.py:1579] DE result for case ((1,), (0, 2, 3, 4, 6, 7)) with (17900, 7) results\n",
      "2020-07-10 19:21:01,459  SpectraRegion  INFO: DE result logFC inversed\n",
      "I0710 19:21:01.459063 139724973016896 segment.py:1602] DE result logFC inversed\n",
      "2020-07-10 19:21:01,466  SpectraRegion  INFO: DE result for case ((1,), (0, 2, 3, 4, 6, 7)) with (1664, 7) results (filtered)\n",
      "I0710 19:21:01.466930 139724973016896 segment.py:1607] DE result for case ((1,), (0, 2, 3, 4, 6, 7)) with (1664, 7) results (filtered)\n",
      "2020-07-10 19:21:01,953  SpectraRegion  INFO: Created matrices with shape (30, 17900) and (2378, 17900) (target, bg)\n",
      "I0710 19:21:01.953679 139724973016896 segment.py:1613] Created matrices with shape (30, 17900) and (2378, 17900) (target, bg)\n",
      "2020-07-10 19:21:07,561  SpectraRegion  INFO: DE result for case ((1,), (0, 2, 3, 4, 6, 7)) with (17900, 7) results\n",
      "I0710 19:21:07.561454 139724973016896 segment.py:1579] DE result for case ((1,), (0, 2, 3, 4, 6, 7)) with (17900, 7) results\n",
      "2020-07-10 19:21:07,563  SpectraRegion  INFO: DE result logFC inversed\n",
      "I0710 19:21:07.563494 139724973016896 segment.py:1602] DE result logFC inversed\n",
      "2020-07-10 19:21:07,569  SpectraRegion  INFO: DE result for case ((1,), (0, 2, 3, 4, 6, 7)) with (1670, 7) results (filtered)\n",
      "I0710 19:21:07.569921 139724973016896 segment.py:1607] DE result for case ((1,), (0, 2, 3, 4, 6, 7)) with (1670, 7) results (filtered)\n",
      "2020-07-10 19:21:08,067  SpectraRegion  INFO: Created matrices with shape (30, 17900) and (2378, 17900) (target, bg)\n",
      "I0710 19:21:08.067298 139724973016896 segment.py:1613] Created matrices with shape (30, 17900) and (2378, 17900) (target, bg)\n"
     ]
    }
   ],
   "source": [
    "slided_0, slided0_mgenes, slided0_mgenes_bg = process_imzeregion(imze=imze, regionID= 0, basename=\"slideD\")\n",
    "slided_1, slided1_mgenes, slided1_mgenes_bg = process_imzeregion(imze=imze, regionID= 1, basename=\"slideD\")"
   ]
  },
  {
   "cell_type": "code",
   "execution_count": 6,
   "metadata": {},
   "outputs": [
    {
     "name": "stdout",
     "output_type": "stream",
     "text": [
      "Processing regionID 4 for basename slideD\n"
     ]
    },
    {
     "name": "stderr",
     "output_type": "stream",
     "text": [
      "Found region 4 with shape (49, 56, 17900)\n",
      "I0710 19:21:15.575461 139724973016896 segment.py:2814] Found region 4 with shape (49, 56, 17900)\n",
      "Collecting fold changes\n",
      "I0710 19:21:18.714351 139724973016896 segment.py:2528] Collecting fold changes\n",
      "Got a total of 49117600 fold changes\n",
      "I0710 19:21:55.537350 139724973016896 segment.py:2539] Got a total of 49117600 fold changes\n",
      "Median elements [24558800]\n",
      "I0710 19:21:58.042391 139724973016896 segment.py:2548] Median elements [24558800]\n",
      "Median elements\n",
      "I0710 19:21:59.375652 139724973016896 segment.py:2561] Median elements\n",
      "Global Median 0.97611\n",
      "I0710 19:21:59.377367 139724973016896 segment.py:2566] Global Median 0.97611\n",
      "2020-07-10 19:22:01,190  SpectraRegion  INFO: Creating C++ obj\n",
      "I0710 19:22:01.190674 139724973016896 segment.py:814] Creating C++ obj\n",
      "2020-07-10 19:22:01,192  SpectraRegion  INFO: 17900 (49, 56, 17900)\n",
      "I0710 19:22:01.192745 139724973016896 segment.py:815] 17900 (49, 56, 17900)\n",
      "2020-07-10 19:22:01,194  SpectraRegion  INFO: dimensions 17900\n",
      "I0710 19:22:01.194316 139724973016896 segment.py:825] dimensions 17900\n",
      "2020-07-10 19:22:01,197  SpectraRegion  INFO: input dimensions (49, 56, 17900)\n",
      "I0710 19:22:01.197391 139724973016896 segment.py:826] input dimensions (49, 56, 17900)\n",
      "2020-07-10 19:22:01,201  SpectraRegion  INFO: Switching to dot mode\n",
      "I0710 19:22:01.201178 139724973016896 segment.py:829] Switching to dot mode\n"
     ]
    },
    {
     "name": "stdout",
     "output_type": "stream",
     "text": [
      "17900\n"
     ]
    },
    {
     "name": "stderr",
     "output_type": "stream",
     "text": [
      "2020-07-10 19:22:01,485  SpectraRegion  INFO: Starting calc similarity c++\n",
      "I0710 19:22:01.485291 139724973016896 segment.py:835] Starting calc similarity c++\n",
      "2020-07-10 19:22:31,376  SpectraRegion  INFO: outclust dimensions (2744, 2744)\n",
      "I0710 19:22:31.376793 139724973016896 segment.py:840] outclust dimensions (2744, 2744)\n",
      "2020-07-10 19:22:31,407  SpectraRegion  INFO: Calculating spectra similarity\n",
      "I0710 19:22:31.407905 139724973016896 segment.py:872] Calculating spectra similarity\n",
      "2020-07-10 19:22:31,595  SpectraRegion  INFO: Calculating spectra similarity done\n",
      "I0710 19:22:31.595472 139724973016896 segment.py:876] Calculating spectra similarity done\n",
      "2020-07-10 19:22:31,597  SpectraRegion  INFO: Calculating dist pixel map\n",
      "I0710 19:22:31.597546 139724973016896 segment.py:883] Calculating dist pixel map\n",
      "2020-07-10 19:23:36,757  SpectraRegion  INFO: Calculating dist pixel map done\n",
      "I0710 19:23:36.757804 139724973016896 segment.py:893] Calculating dist pixel map done\n",
      "2020-07-10 19:23:36,938  SpectraRegion  INFO: Calculating clusters\n",
      "I0710 19:23:36.938843 139724973016896 segment.py:1091] Calculating clusters\n",
      "2020-07-10 19:23:37,363  SpectraRegion  INFO: Calculating clusters done\n",
      "I0710 19:23:37.363774 139724973016896 segment.py:1112] Calculating clusters done\n",
      "2020-07-10 19:23:37,388  SpectraRegion  INFO: Calculating clusters saved\n",
      "I0710 19:23:37.388287 139724973016896 segment.py:1130] Calculating clusters saved\n"
     ]
    },
    {
     "data": {
      "image/png": "[encoded data removed]",
      "text/plain": [
       "<Figure size 432x288 with 2 Axes>"
      ]
     },
     "metadata": {
      "needs_background": "light"
     },
     "output_type": "display_data"
    },
    {
     "name": "stderr",
     "output_type": "stream",
     "text": [
      "2020-07-10 19:23:37,618  SpectraRegion  INFO: Assigning clusters to background: {6, 7, 8, 13, 14, 15}\n",
      "I0710 19:23:37.618025 139724973016896 segment.py:1219] Assigning clusters to background: {6, 7, 8, 13, 14, 15}\n"
     ]
    },
    {
     "data": {
      "image/png": "[encoded data removed]",
      "text/plain": [
       "<Figure size 432x288 with 2 Axes>"
      ]
     },
     "metadata": {
      "needs_background": "light"
     },
     "output_type": "display_data"
    },
    {
     "name": "stderr",
     "output_type": "stream",
     "text": [
      "2020-07-10 19:23:37,806  SpectraRegion  INFO: Calculating consensus spectra\n",
      "I0710 19:23:37.806702 139724973016896 segment.py:1273] Calculating consensus spectra\n",
      "2020-07-10 19:23:37,887  SpectraRegion  INFO: Calculating consensus spectra done\n",
      "I0710 19:23:37.887110 139724973016896 segment.py:1285] Calculating consensus spectra done\n"
     ]
    },
    {
     "data": {
      "image/png": "[encoded data removed]",
      "text/plain": [
       "<Figure size 288x288 with 2 Axes>"
      ]
     },
     "metadata": {
      "needs_background": "light"
     },
     "output_type": "display_data"
    },
    {
     "name": "stderr",
     "output_type": "stream",
     "text": [
      "2020-07-10 19:23:38,145  SpectraRegion  INFO: DE data for case: [10]\n",
      "I0710 19:23:38.145356 139724973016896 segment.py:1842] DE data for case: [10]\n",
      "2020-07-10 19:23:38,146  SpectraRegion  INFO: DE data for control: [5, 4, 11, 12, 1, 3, 2, 9]\n",
      "I0710 19:23:38.146836 139724973016896 segment.py:1843] DE data for control: [5, 4, 11, 12, 1, 3, 2, 9]\n",
      "2020-07-10 19:23:38,149  SpectraRegion  INFO: DE result key: ((10,), (1, 2, 3, 4, 5, 9, 11, 12))\n",
      "I0710 19:23:38.149149 139724973016896 segment.py:1847] DE result key: ((10,), (1, 2, 3, 4, 5, 9, 11, 12))\n"
     ]
    },
    {
     "name": "stdout",
     "output_type": "stream",
     "text": [
      "Running [10] against [5, 4, 11, 12, 1, 3, 2, 9]\n"
     ]
    },
    {
     "name": "stderr",
     "output_type": "stream",
     "text": [
      "2020-07-10 19:23:38,836  SpectraRegion  INFO: DE DataFrame ready. Shape (17900, 499)\n",
      "I0710 19:23:38.836487 139724973016896 segment.py:1891] DE DataFrame ready. Shape (17900, 499)\n",
      "2020-07-10 19:23:38,841  SpectraRegion  INFO: DE Sample DataFrame ready. Shape (499, 3)\n",
      "I0710 19:23:38.841446 139724973016896 segment.py:1899] DE Sample DataFrame ready. Shape (499, 3)\n",
      "2020-07-10 19:23:38,852  SpectraRegion  INFO: Performing DE-test: ttest\n",
      "I0710 19:23:38.852379 139724973016896 segment.py:1957] Performing DE-test: ttest\n",
      "2020-07-10 19:23:39,586  SpectraRegion  INFO: DE-test (ttest) finished. Results available: ((10,), (1, 2, 3, 4, 5, 9, 11, 12))\n",
      "I0710 19:23:39.586087 139724973016896 segment.py:1990] DE-test (ttest) finished. Results available: ((10,), (1, 2, 3, 4, 5, 9, 11, 12))\n",
      "2020-07-10 19:23:39,587  SpectraRegion  INFO: Performing DE-test: rank\n",
      "I0710 19:23:39.587557 139724973016896 segment.py:1957] Performing DE-test: rank\n",
      "2020-07-10 19:23:47,321  SpectraRegion  INFO: DE-test (rank) finished. Results available: ((10,), (1, 2, 3, 4, 5, 9, 11, 12))\n",
      "I0710 19:23:47.321171 139724973016896 segment.py:1990] DE-test (rank) finished. Results available: ((10,), (1, 2, 3, 4, 5, 9, 11, 12))\n",
      "2020-07-10 19:23:47,337  SpectraRegion  INFO: DE result for case ((10,), (1, 2, 3, 4, 5, 9, 11, 12)) with (17900, 7) results\n",
      "I0710 19:23:47.337784 139724973016896 segment.py:1579] DE result for case ((10,), (1, 2, 3, 4, 5, 9, 11, 12)) with (17900, 7) results\n",
      "2020-07-10 19:23:47,339  SpectraRegion  INFO: DE result logFC inversed\n",
      "I0710 19:23:47.339727 139724973016896 segment.py:1602] DE result logFC inversed\n",
      "2020-07-10 19:23:47,344  SpectraRegion  INFO: DE result for case ((10,), (1, 2, 3, 4, 5, 9, 11, 12)) with (401, 7) results (filtered)\n",
      "I0710 19:23:47.344672 139724973016896 segment.py:1607] DE result for case ((10,), (1, 2, 3, 4, 5, 9, 11, 12)) with (401, 7) results (filtered)\n",
      "2020-07-10 19:23:47,433  SpectraRegion  INFO: Created matrices with shape (102, 17900) and (397, 17900) (target, bg)\n",
      "I0710 19:23:47.433452 139724973016896 segment.py:1613] Created matrices with shape (102, 17900) and (397, 17900) (target, bg)\n",
      "2020-07-10 19:23:48,780  SpectraRegion  INFO: DE result for case ((10,), (1, 2, 3, 4, 5, 9, 11, 12)) with (17900, 7) results\n",
      "I0710 19:23:48.780898 139724973016896 segment.py:1579] DE result for case ((10,), (1, 2, 3, 4, 5, 9, 11, 12)) with (17900, 7) results\n",
      "2020-07-10 19:23:48,782  SpectraRegion  INFO: DE result logFC inversed\n",
      "I0710 19:23:48.782653 139724973016896 segment.py:1602] DE result logFC inversed\n",
      "2020-07-10 19:23:48,789  SpectraRegion  INFO: DE result for case ((10,), (1, 2, 3, 4, 5, 9, 11, 12)) with (401, 7) results (filtered)\n",
      "I0710 19:23:48.789024 139724973016896 segment.py:1607] DE result for case ((10,), (1, 2, 3, 4, 5, 9, 11, 12)) with (401, 7) results (filtered)\n",
      "2020-07-10 19:23:48,877  SpectraRegion  INFO: Created matrices with shape (102, 17900) and (397, 17900) (target, bg)\n",
      "I0710 19:23:48.877241 139724973016896 segment.py:1613] Created matrices with shape (102, 17900) and (397, 17900) (target, bg)\n",
      "2020-07-10 19:23:50,204  SpectraRegion  INFO: DE data for case: [5]\n",
      "I0710 19:23:50.204704 139724973016896 segment.py:1842] DE data for case: [5]\n",
      "2020-07-10 19:23:50,205  SpectraRegion  INFO: DE data for control: [10, 4, 11, 12, 1, 3, 2, 9]\n",
      "I0710 19:23:50.205957 139724973016896 segment.py:1843] DE data for control: [10, 4, 11, 12, 1, 3, 2, 9]\n",
      "2020-07-10 19:23:50,208  SpectraRegion  INFO: DE result key: ((5,), (1, 2, 3, 4, 9, 10, 11, 12))\n",
      "I0710 19:23:50.208238 139724973016896 segment.py:1847] DE result key: ((5,), (1, 2, 3, 4, 9, 10, 11, 12))\n"
     ]
    },
    {
     "name": "stdout",
     "output_type": "stream",
     "text": [
      "Running [5] against [10, 4, 11, 12, 1, 3, 2, 9]\n"
     ]
    },
    {
     "name": "stderr",
     "output_type": "stream",
     "text": [
      "2020-07-10 19:23:50,801  SpectraRegion  INFO: DE DataFrame ready. Shape (17900, 499)\n",
      "I0710 19:23:50.801824 139724973016896 segment.py:1891] DE DataFrame ready. Shape (17900, 499)\n",
      "2020-07-10 19:23:50,805  SpectraRegion  INFO: DE Sample DataFrame ready. Shape (499, 3)\n",
      "I0710 19:23:50.805942 139724973016896 segment.py:1899] DE Sample DataFrame ready. Shape (499, 3)\n",
      "2020-07-10 19:23:50,816  SpectraRegion  INFO: Performing DE-test: ttest\n",
      "I0710 19:23:50.816313 139724973016896 segment.py:1957] Performing DE-test: ttest\n",
      "2020-07-10 19:23:51,534  SpectraRegion  INFO: DE-test (ttest) finished. Results available: ((5,), (1, 2, 3, 4, 9, 10, 11, 12))\n",
      "I0710 19:23:51.534751 139724973016896 segment.py:1990] DE-test (ttest) finished. Results available: ((5,), (1, 2, 3, 4, 9, 10, 11, 12))\n",
      "2020-07-10 19:23:51,536  SpectraRegion  INFO: Performing DE-test: rank\n",
      "I0710 19:23:51.536095 139724973016896 segment.py:1957] Performing DE-test: rank\n",
      "2020-07-10 19:23:59,053  SpectraRegion  INFO: DE-test (rank) finished. Results available: ((5,), (1, 2, 3, 4, 9, 10, 11, 12))\n",
      "I0710 19:23:59.053577 139724973016896 segment.py:1990] DE-test (rank) finished. Results available: ((5,), (1, 2, 3, 4, 9, 10, 11, 12))\n",
      "2020-07-10 19:23:59,071  SpectraRegion  INFO: DE result for case ((5,), (1, 2, 3, 4, 9, 10, 11, 12)) with (17900, 7) results\n",
      "I0710 19:23:59.071402 139724973016896 segment.py:1579] DE result for case ((5,), (1, 2, 3, 4, 9, 10, 11, 12)) with (17900, 7) results\n",
      "2020-07-10 19:23:59,073  SpectraRegion  INFO: DE result logFC inversed\n",
      "I0710 19:23:59.073405 139724973016896 segment.py:1602] DE result logFC inversed\n",
      "2020-07-10 19:23:59,079  SpectraRegion  INFO: DE result for case ((5,), (1, 2, 3, 4, 9, 10, 11, 12)) with (160, 7) results (filtered)\n",
      "I0710 19:23:59.079964 139724973016896 segment.py:1607] DE result for case ((5,), (1, 2, 3, 4, 9, 10, 11, 12)) with (160, 7) results (filtered)\n",
      "2020-07-10 19:23:59,166  SpectraRegion  INFO: Created matrices with shape (118, 17900) and (381, 17900) (target, bg)\n",
      "I0710 19:23:59.166294 139724973016896 segment.py:1613] Created matrices with shape (118, 17900) and (381, 17900) (target, bg)\n",
      "2020-07-10 19:23:59,485  SpectraRegion  INFO: DE result for case ((5,), (1, 2, 3, 4, 9, 10, 11, 12)) with (17900, 7) results\n",
      "I0710 19:23:59.485948 139724973016896 segment.py:1579] DE result for case ((5,), (1, 2, 3, 4, 9, 10, 11, 12)) with (17900, 7) results\n",
      "2020-07-10 19:23:59,487  SpectraRegion  INFO: DE result logFC inversed\n",
      "I0710 19:23:59.487545 139724973016896 segment.py:1602] DE result logFC inversed\n",
      "2020-07-10 19:23:59,493  SpectraRegion  INFO: DE result for case ((5,), (1, 2, 3, 4, 9, 10, 11, 12)) with (132, 7) results (filtered)\n",
      "I0710 19:23:59.493543 139724973016896 segment.py:1607] DE result for case ((5,), (1, 2, 3, 4, 9, 10, 11, 12)) with (132, 7) results (filtered)\n",
      "2020-07-10 19:23:59,580  SpectraRegion  INFO: Created matrices with shape (118, 17900) and (381, 17900) (target, bg)\n",
      "I0710 19:23:59.580263 139724973016896 segment.py:1613] Created matrices with shape (118, 17900) and (381, 17900) (target, bg)\n",
      "2020-07-10 19:23:59,809  SpectraRegion  INFO: DE data for case: [4]\n",
      "I0710 19:23:59.809008 139724973016896 segment.py:1842] DE data for case: [4]\n",
      "2020-07-10 19:23:59,810  SpectraRegion  INFO: DE data for control: [10, 5, 11, 12, 1, 3, 2, 9]\n",
      "I0710 19:23:59.810971 139724973016896 segment.py:1843] DE data for control: [10, 5, 11, 12, 1, 3, 2, 9]\n",
      "2020-07-10 19:23:59,812  SpectraRegion  INFO: DE result key: ((4,), (1, 2, 3, 5, 9, 10, 11, 12))\n",
      "I0710 19:23:59.812796 139724973016896 segment.py:1847] DE result key: ((4,), (1, 2, 3, 5, 9, 10, 11, 12))\n"
     ]
    },
    {
     "name": "stdout",
     "output_type": "stream",
     "text": [
      "Running [4] against [10, 5, 11, 12, 1, 3, 2, 9]\n"
     ]
    },
    {
     "name": "stderr",
     "output_type": "stream",
     "text": [
      "2020-07-10 19:24:00,408  SpectraRegion  INFO: DE DataFrame ready. Shape (17900, 499)\n",
      "I0710 19:24:00.408128 139724973016896 segment.py:1891] DE DataFrame ready. Shape (17900, 499)\n",
      "2020-07-10 19:24:00,412  SpectraRegion  INFO: DE Sample DataFrame ready. Shape (499, 3)\n",
      "I0710 19:24:00.412745 139724973016896 segment.py:1899] DE Sample DataFrame ready. Shape (499, 3)\n",
      "2020-07-10 19:24:00,419  SpectraRegion  INFO: Performing DE-test: ttest\n",
      "I0710 19:24:00.419678 139724973016896 segment.py:1957] Performing DE-test: ttest\n",
      "2020-07-10 19:24:01,166  SpectraRegion  INFO: DE-test (ttest) finished. Results available: ((4,), (1, 2, 3, 5, 9, 10, 11, 12))\n",
      "I0710 19:24:01.166389 139724973016896 segment.py:1990] DE-test (ttest) finished. Results available: ((4,), (1, 2, 3, 5, 9, 10, 11, 12))\n",
      "2020-07-10 19:24:01,168  SpectraRegion  INFO: Performing DE-test: rank\n",
      "I0710 19:24:01.168228 139724973016896 segment.py:1957] Performing DE-test: rank\n",
      "2020-07-10 19:24:08,738  SpectraRegion  INFO: DE-test (rank) finished. Results available: ((4,), (1, 2, 3, 5, 9, 10, 11, 12))\n",
      "I0710 19:24:08.738972 139724973016896 segment.py:1990] DE-test (rank) finished. Results available: ((4,), (1, 2, 3, 5, 9, 10, 11, 12))\n",
      "2020-07-10 19:24:08,755  SpectraRegion  INFO: DE result for case ((4,), (1, 2, 3, 5, 9, 10, 11, 12)) with (17900, 7) results\n",
      "I0710 19:24:08.755753 139724973016896 segment.py:1579] DE result for case ((4,), (1, 2, 3, 5, 9, 10, 11, 12)) with (17900, 7) results\n",
      "2020-07-10 19:24:08,757  SpectraRegion  INFO: DE result logFC inversed\n",
      "I0710 19:24:08.757829 139724973016896 segment.py:1602] DE result logFC inversed\n",
      "2020-07-10 19:24:08,763  SpectraRegion  INFO: DE result for case ((4,), (1, 2, 3, 5, 9, 10, 11, 12)) with (850, 7) results (filtered)\n",
      "I0710 19:24:08.763293 139724973016896 segment.py:1607] DE result for case ((4,), (1, 2, 3, 5, 9, 10, 11, 12)) with (850, 7) results (filtered)\n",
      "2020-07-10 19:24:08,866  SpectraRegion  INFO: Created matrices with shape (44, 17900) and (455, 17900) (target, bg)\n",
      "I0710 19:24:08.866642 139724973016896 segment.py:1613] Created matrices with shape (44, 17900) and (455, 17900) (target, bg)\n",
      "2020-07-10 19:24:12,155  SpectraRegion  INFO: DE result for case ((4,), (1, 2, 3, 5, 9, 10, 11, 12)) with (17900, 7) results\n",
      "I0710 19:24:12.155436 139724973016896 segment.py:1579] DE result for case ((4,), (1, 2, 3, 5, 9, 10, 11, 12)) with (17900, 7) results\n",
      "2020-07-10 19:24:12,157  SpectraRegion  INFO: DE result logFC inversed\n",
      "I0710 19:24:12.157588 139724973016896 segment.py:1602] DE result logFC inversed\n",
      "2020-07-10 19:24:12,168  SpectraRegion  INFO: DE result for case ((4,), (1, 2, 3, 5, 9, 10, 11, 12)) with (787, 7) results (filtered)\n",
      "I0710 19:24:12.168691 139724973016896 segment.py:1607] DE result for case ((4,), (1, 2, 3, 5, 9, 10, 11, 12)) with (787, 7) results (filtered)\n",
      "2020-07-10 19:24:12,280  SpectraRegion  INFO: Created matrices with shape (44, 17900) and (455, 17900) (target, bg)\n",
      "I0710 19:24:12.280423 139724973016896 segment.py:1613] Created matrices with shape (44, 17900) and (455, 17900) (target, bg)\n",
      "2020-07-10 19:24:14,992  SpectraRegion  INFO: DE data for case: [11]\n",
      "I0710 19:24:14.992640 139724973016896 segment.py:1842] DE data for case: [11]\n",
      "2020-07-10 19:24:14,994  SpectraRegion  INFO: DE data for control: [10, 5, 4, 12, 1, 3, 2, 9]\n",
      "I0710 19:24:14.994309 139724973016896 segment.py:1843] DE data for control: [10, 5, 4, 12, 1, 3, 2, 9]\n",
      "2020-07-10 19:24:14,998  SpectraRegion  INFO: DE result key: ((11,), (1, 2, 3, 4, 5, 9, 10, 12))\n",
      "I0710 19:24:14.998312 139724973016896 segment.py:1847] DE result key: ((11,), (1, 2, 3, 4, 5, 9, 10, 12))\n"
     ]
    },
    {
     "name": "stdout",
     "output_type": "stream",
     "text": [
      "Running [11] against [10, 5, 4, 12, 1, 3, 2, 9]\n"
     ]
    },
    {
     "name": "stderr",
     "output_type": "stream",
     "text": [
      "2020-07-10 19:24:15,607  SpectraRegion  INFO: DE DataFrame ready. Shape (17900, 499)\n",
      "I0710 19:24:15.607038 139724973016896 segment.py:1891] DE DataFrame ready. Shape (17900, 499)\n",
      "2020-07-10 19:24:15,612  SpectraRegion  INFO: DE Sample DataFrame ready. Shape (499, 3)\n",
      "I0710 19:24:15.612976 139724973016896 segment.py:1899] DE Sample DataFrame ready. Shape (499, 3)\n",
      "2020-07-10 19:24:15,622  SpectraRegion  INFO: Performing DE-test: ttest\n",
      "I0710 19:24:15.622184 139724973016896 segment.py:1957] Performing DE-test: ttest\n",
      "2020-07-10 19:24:16,360  SpectraRegion  INFO: DE-test (ttest) finished. Results available: ((11,), (1, 2, 3, 4, 5, 9, 10, 12))\n",
      "I0710 19:24:16.360751 139724973016896 segment.py:1990] DE-test (ttest) finished. Results available: ((11,), (1, 2, 3, 4, 5, 9, 10, 12))\n",
      "2020-07-10 19:24:16,362  SpectraRegion  INFO: Performing DE-test: rank\n",
      "I0710 19:24:16.362974 139724973016896 segment.py:1957] Performing DE-test: rank\n",
      "2020-07-10 19:24:24,174  SpectraRegion  INFO: DE-test (rank) finished. Results available: ((11,), (1, 2, 3, 4, 5, 9, 10, 12))\n",
      "I0710 19:24:24.174753 139724973016896 segment.py:1990] DE-test (rank) finished. Results available: ((11,), (1, 2, 3, 4, 5, 9, 10, 12))\n",
      "2020-07-10 19:24:24,192  SpectraRegion  INFO: DE result for case ((11,), (1, 2, 3, 4, 5, 9, 10, 12)) with (17900, 7) results\n",
      "I0710 19:24:24.192050 139724973016896 segment.py:1579] DE result for case ((11,), (1, 2, 3, 4, 5, 9, 10, 12)) with (17900, 7) results\n",
      "2020-07-10 19:24:24,193  SpectraRegion  INFO: DE result logFC inversed\n",
      "I0710 19:24:24.193449 139724973016896 segment.py:1602] DE result logFC inversed\n",
      "2020-07-10 19:24:24,199  SpectraRegion  INFO: DE result for case ((11,), (1, 2, 3, 4, 5, 9, 10, 12)) with (54, 7) results (filtered)\n",
      "I0710 19:24:24.199421 139724973016896 segment.py:1607] DE result for case ((11,), (1, 2, 3, 4, 5, 9, 10, 12)) with (54, 7) results (filtered)\n",
      "2020-07-10 19:24:24,311  SpectraRegion  INFO: Created matrices with shape (46, 17900) and (453, 17900) (target, bg)\n",
      "I0710 19:24:24.311312 139724973016896 segment.py:1613] Created matrices with shape (46, 17900) and (453, 17900) (target, bg)\n",
      "2020-07-10 19:24:24,672  SpectraRegion  INFO: DE result for case ((11,), (1, 2, 3, 4, 5, 9, 10, 12)) with (17900, 7) results\n",
      "I0710 19:24:24.672219 139724973016896 segment.py:1579] DE result for case ((11,), (1, 2, 3, 4, 5, 9, 10, 12)) with (17900, 7) results\n",
      "2020-07-10 19:24:24,673  SpectraRegion  INFO: DE result logFC inversed\n",
      "I0710 19:24:24.673711 139724973016896 segment.py:1602] DE result logFC inversed\n",
      "2020-07-10 19:24:24,680  SpectraRegion  INFO: DE result for case ((11,), (1, 2, 3, 4, 5, 9, 10, 12)) with (41, 7) results (filtered)\n",
      "I0710 19:24:24.680083 139724973016896 segment.py:1607] DE result for case ((11,), (1, 2, 3, 4, 5, 9, 10, 12)) with (41, 7) results (filtered)\n",
      "2020-07-10 19:24:24,786  SpectraRegion  INFO: Created matrices with shape (46, 17900) and (453, 17900) (target, bg)\n",
      "I0710 19:24:24.786209 139724973016896 segment.py:1613] Created matrices with shape (46, 17900) and (453, 17900) (target, bg)\n",
      "2020-07-10 19:24:25,031  SpectraRegion  INFO: DE data for case: [12]\n",
      "I0710 19:24:25.031411 139724973016896 segment.py:1842] DE data for case: [12]\n",
      "2020-07-10 19:24:25,033  SpectraRegion  INFO: DE data for control: [10, 5, 4, 11, 1, 3, 2, 9]\n",
      "I0710 19:24:25.033842 139724973016896 segment.py:1843] DE data for control: [10, 5, 4, 11, 1, 3, 2, 9]\n",
      "2020-07-10 19:24:25,036  SpectraRegion  INFO: DE result key: ((12,), (1, 2, 3, 4, 5, 9, 10, 11))\n",
      "I0710 19:24:25.036408 139724973016896 segment.py:1847] DE result key: ((12,), (1, 2, 3, 4, 5, 9, 10, 11))\n"
     ]
    },
    {
     "name": "stdout",
     "output_type": "stream",
     "text": [
      "Running [12] against [10, 5, 4, 11, 1, 3, 2, 9]\n"
     ]
    },
    {
     "name": "stderr",
     "output_type": "stream",
     "text": [
      "2020-07-10 19:24:25,682  SpectraRegion  INFO: DE DataFrame ready. Shape (17900, 499)\n",
      "I0710 19:24:25.682100 139724973016896 segment.py:1891] DE DataFrame ready. Shape (17900, 499)\n",
      "2020-07-10 19:24:25,687  SpectraRegion  INFO: DE Sample DataFrame ready. Shape (499, 3)\n",
      "I0710 19:24:25.687673 139724973016896 segment.py:1899] DE Sample DataFrame ready. Shape (499, 3)\n",
      "2020-07-10 19:24:25,695  SpectraRegion  INFO: Performing DE-test: ttest\n",
      "I0710 19:24:25.695751 139724973016896 segment.py:1957] Performing DE-test: ttest\n",
      "2020-07-10 19:24:26,452  SpectraRegion  INFO: DE-test (ttest) finished. Results available: ((12,), (1, 2, 3, 4, 5, 9, 10, 11))\n",
      "I0710 19:24:26.452277 139724973016896 segment.py:1990] DE-test (ttest) finished. Results available: ((12,), (1, 2, 3, 4, 5, 9, 10, 11))\n",
      "2020-07-10 19:24:26,453  SpectraRegion  INFO: Performing DE-test: rank\n",
      "I0710 19:24:26.453719 139724973016896 segment.py:1957] Performing DE-test: rank\n",
      "2020-07-10 19:24:33,990  SpectraRegion  INFO: DE-test (rank) finished. Results available: ((12,), (1, 2, 3, 4, 5, 9, 10, 11))\n",
      "I0710 19:24:33.990742 139724973016896 segment.py:1990] DE-test (rank) finished. Results available: ((12,), (1, 2, 3, 4, 5, 9, 10, 11))\n",
      "2020-07-10 19:24:34,010  SpectraRegion  INFO: DE result for case ((12,), (1, 2, 3, 4, 5, 9, 10, 11)) with (17900, 7) results\n",
      "I0710 19:24:34.010139 139724973016896 segment.py:1579] DE result for case ((12,), (1, 2, 3, 4, 5, 9, 10, 11)) with (17900, 7) results\n",
      "2020-07-10 19:24:34,012  SpectraRegion  INFO: DE result logFC inversed\n",
      "I0710 19:24:34.012694 139724973016896 segment.py:1602] DE result logFC inversed\n",
      "2020-07-10 19:24:34,018  SpectraRegion  INFO: DE result for case ((12,), (1, 2, 3, 4, 5, 9, 10, 11)) with (1209, 7) results (filtered)\n",
      "I0710 19:24:34.018118 139724973016896 segment.py:1607] DE result for case ((12,), (1, 2, 3, 4, 5, 9, 10, 11)) with (1209, 7) results (filtered)\n",
      "2020-07-10 19:24:34,131  SpectraRegion  INFO: Created matrices with shape (62, 17900) and (437, 17900) (target, bg)\n",
      "I0710 19:24:34.131911 139724973016896 segment.py:1613] Created matrices with shape (62, 17900) and (437, 17900) (target, bg)\n",
      "2020-07-10 19:24:38,427  SpectraRegion  INFO: DE result for case ((12,), (1, 2, 3, 4, 5, 9, 10, 11)) with (17900, 7) results\n",
      "I0710 19:24:38.427076 139724973016896 segment.py:1579] DE result for case ((12,), (1, 2, 3, 4, 5, 9, 10, 11)) with (17900, 7) results\n",
      "2020-07-10 19:24:38,428  SpectraRegion  INFO: DE result logFC inversed\n",
      "I0710 19:24:38.428974 139724973016896 segment.py:1602] DE result logFC inversed\n",
      "2020-07-10 19:24:38,434  SpectraRegion  INFO: DE result for case ((12,), (1, 2, 3, 4, 5, 9, 10, 11)) with (1209, 7) results (filtered)\n",
      "I0710 19:24:38.434146 139724973016896 segment.py:1607] DE result for case ((12,), (1, 2, 3, 4, 5, 9, 10, 11)) with (1209, 7) results (filtered)\n",
      "2020-07-10 19:24:38,535  SpectraRegion  INFO: Created matrices with shape (62, 17900) and (437, 17900) (target, bg)\n",
      "I0710 19:24:38.535029 139724973016896 segment.py:1613] Created matrices with shape (62, 17900) and (437, 17900) (target, bg)\n",
      "2020-07-10 19:24:43,532  SpectraRegion  INFO: DE data for case: [1]\n",
      "I0710 19:24:43.532708 139724973016896 segment.py:1842] DE data for case: [1]\n",
      "2020-07-10 19:24:43,534  SpectraRegion  INFO: DE data for control: [10, 5, 4, 11, 12, 3, 2, 9]\n",
      "I0710 19:24:43.534709 139724973016896 segment.py:1843] DE data for control: [10, 5, 4, 11, 12, 3, 2, 9]\n",
      "2020-07-10 19:24:43,537  SpectraRegion  INFO: DE result key: ((1,), (2, 3, 4, 5, 9, 10, 11, 12))\n",
      "I0710 19:24:43.537334 139724973016896 segment.py:1847] DE result key: ((1,), (2, 3, 4, 5, 9, 10, 11, 12))\n"
     ]
    },
    {
     "name": "stdout",
     "output_type": "stream",
     "text": [
      "Running [1] against [10, 5, 4, 11, 12, 3, 2, 9]\n"
     ]
    },
    {
     "name": "stderr",
     "output_type": "stream",
     "text": [
      "2020-07-10 19:24:44,351  SpectraRegion  INFO: DE DataFrame ready. Shape (17900, 499)\n",
      "I0710 19:24:44.351114 139724973016896 segment.py:1891] DE DataFrame ready. Shape (17900, 499)\n",
      "2020-07-10 19:24:44,358  SpectraRegion  INFO: DE Sample DataFrame ready. Shape (499, 3)\n",
      "I0710 19:24:44.358628 139724973016896 segment.py:1899] DE Sample DataFrame ready. Shape (499, 3)\n",
      "2020-07-10 19:24:44,372  SpectraRegion  INFO: Performing DE-test: ttest\n",
      "I0710 19:24:44.372639 139724973016896 segment.py:1957] Performing DE-test: ttest\n",
      "2020-07-10 19:24:45,132  SpectraRegion  INFO: DE-test (ttest) finished. Results available: ((1,), (2, 3, 4, 5, 9, 10, 11, 12))\n",
      "I0710 19:24:45.132264 139724973016896 segment.py:1990] DE-test (ttest) finished. Results available: ((1,), (2, 3, 4, 5, 9, 10, 11, 12))\n",
      "2020-07-10 19:24:45,133  SpectraRegion  INFO: Performing DE-test: rank\n",
      "I0710 19:24:45.133886 139724973016896 segment.py:1957] Performing DE-test: rank\n",
      "2020-07-10 19:24:53,022  SpectraRegion  INFO: DE-test (rank) finished. Results available: ((1,), (2, 3, 4, 5, 9, 10, 11, 12))\n",
      "I0710 19:24:53.022897 139724973016896 segment.py:1990] DE-test (rank) finished. Results available: ((1,), (2, 3, 4, 5, 9, 10, 11, 12))\n",
      "2020-07-10 19:24:53,041  SpectraRegion  INFO: DE result for case ((1,), (2, 3, 4, 5, 9, 10, 11, 12)) with (17900, 7) results\n",
      "I0710 19:24:53.041479 139724973016896 segment.py:1579] DE result for case ((1,), (2, 3, 4, 5, 9, 10, 11, 12)) with (17900, 7) results\n",
      "2020-07-10 19:24:53,043  SpectraRegion  INFO: DE result logFC inversed\n",
      "I0710 19:24:53.043651 139724973016896 segment.py:1602] DE result logFC inversed\n",
      "2020-07-10 19:24:53,050  SpectraRegion  INFO: DE result for case ((1,), (2, 3, 4, 5, 9, 10, 11, 12)) with (472, 7) results (filtered)\n",
      "I0710 19:24:53.050973 139724973016896 segment.py:1607] DE result for case ((1,), (2, 3, 4, 5, 9, 10, 11, 12)) with (472, 7) results (filtered)\n",
      "2020-07-10 19:24:53,164  SpectraRegion  INFO: Created matrices with shape (57, 17900) and (442, 17900) (target, bg)\n",
      "I0710 19:24:53.164860 139724973016896 segment.py:1613] Created matrices with shape (57, 17900) and (442, 17900) (target, bg)\n",
      "2020-07-10 19:24:54,686  SpectraRegion  INFO: DE result for case ((1,), (2, 3, 4, 5, 9, 10, 11, 12)) with (17900, 7) results\n",
      "I0710 19:24:54.686056 139724973016896 segment.py:1579] DE result for case ((1,), (2, 3, 4, 5, 9, 10, 11, 12)) with (17900, 7) results\n",
      "2020-07-10 19:24:54,687  SpectraRegion  INFO: DE result logFC inversed\n",
      "I0710 19:24:54.687798 139724973016896 segment.py:1602] DE result logFC inversed\n",
      "2020-07-10 19:24:54,694  SpectraRegion  INFO: DE result for case ((1,), (2, 3, 4, 5, 9, 10, 11, 12)) with (428, 7) results (filtered)\n",
      "I0710 19:24:54.694396 139724973016896 segment.py:1607] DE result for case ((1,), (2, 3, 4, 5, 9, 10, 11, 12)) with (428, 7) results (filtered)\n",
      "2020-07-10 19:24:54,798  SpectraRegion  INFO: Created matrices with shape (57, 17900) and (442, 17900) (target, bg)\n",
      "I0710 19:24:54.798257 139724973016896 segment.py:1613] Created matrices with shape (57, 17900) and (442, 17900) (target, bg)\n",
      "2020-07-10 19:24:56,129  SpectraRegion  INFO: DE data for case: [3]\n",
      "I0710 19:24:56.129328 139724973016896 segment.py:1842] DE data for case: [3]\n",
      "2020-07-10 19:24:56,130  SpectraRegion  INFO: DE data for control: [10, 5, 4, 11, 12, 1, 2, 9]\n",
      "I0710 19:24:56.130915 139724973016896 segment.py:1843] DE data for control: [10, 5, 4, 11, 12, 1, 2, 9]\n",
      "2020-07-10 19:24:56,132  SpectraRegion  INFO: DE result key: ((3,), (1, 2, 4, 5, 9, 10, 11, 12))\n",
      "I0710 19:24:56.132984 139724973016896 segment.py:1847] DE result key: ((3,), (1, 2, 4, 5, 9, 10, 11, 12))\n"
     ]
    },
    {
     "name": "stdout",
     "output_type": "stream",
     "text": [
      "Running [3] against [10, 5, 4, 11, 12, 1, 2, 9]\n"
     ]
    },
    {
     "name": "stderr",
     "output_type": "stream",
     "text": [
      "2020-07-10 19:24:56,828  SpectraRegion  INFO: DE DataFrame ready. Shape (17900, 499)\n",
      "I0710 19:24:56.828800 139724973016896 segment.py:1891] DE DataFrame ready. Shape (17900, 499)\n",
      "2020-07-10 19:24:56,833  SpectraRegion  INFO: DE Sample DataFrame ready. Shape (499, 3)\n",
      "I0710 19:24:56.833566 139724973016896 segment.py:1899] DE Sample DataFrame ready. Shape (499, 3)\n",
      "2020-07-10 19:24:56,848  SpectraRegion  INFO: Performing DE-test: ttest\n",
      "I0710 19:24:56.848258 139724973016896 segment.py:1957] Performing DE-test: ttest\n",
      "2020-07-10 19:24:57,626  SpectraRegion  INFO: DE-test (ttest) finished. Results available: ((3,), (1, 2, 4, 5, 9, 10, 11, 12))\n",
      "I0710 19:24:57.626399 139724973016896 segment.py:1990] DE-test (ttest) finished. Results available: ((3,), (1, 2, 4, 5, 9, 10, 11, 12))\n",
      "2020-07-10 19:24:57,627  SpectraRegion  INFO: Performing DE-test: rank\n",
      "I0710 19:24:57.627956 139724973016896 segment.py:1957] Performing DE-test: rank\n",
      "2020-07-10 19:25:05,133  SpectraRegion  INFO: DE-test (rank) finished. Results available: ((3,), (1, 2, 4, 5, 9, 10, 11, 12))\n",
      "I0710 19:25:05.133422 139724973016896 segment.py:1990] DE-test (rank) finished. Results available: ((3,), (1, 2, 4, 5, 9, 10, 11, 12))\n",
      "2020-07-10 19:25:05,150  SpectraRegion  INFO: DE result for case ((3,), (1, 2, 4, 5, 9, 10, 11, 12)) with (17900, 7) results\n",
      "I0710 19:25:05.150753 139724973016896 segment.py:1579] DE result for case ((3,), (1, 2, 4, 5, 9, 10, 11, 12)) with (17900, 7) results\n",
      "2020-07-10 19:25:05,152  SpectraRegion  INFO: DE result logFC inversed\n",
      "I0710 19:25:05.152464 139724973016896 segment.py:1602] DE result logFC inversed\n",
      "2020-07-10 19:25:05,158  SpectraRegion  INFO: DE result for case ((3,), (1, 2, 4, 5, 9, 10, 11, 12)) with (543, 7) results (filtered)\n",
      "I0710 19:25:05.158041 139724973016896 segment.py:1607] DE result for case ((3,), (1, 2, 4, 5, 9, 10, 11, 12)) with (543, 7) results (filtered)\n",
      "2020-07-10 19:25:05,270  SpectraRegion  INFO: Created matrices with shape (48, 17900) and (451, 17900) (target, bg)\n",
      "I0710 19:25:05.270509 139724973016896 segment.py:1613] Created matrices with shape (48, 17900) and (451, 17900) (target, bg)\n",
      "2020-07-10 19:25:07,554  SpectraRegion  INFO: DE result for case ((3,), (1, 2, 4, 5, 9, 10, 11, 12)) with (17900, 7) results\n",
      "I0710 19:25:07.554420 139724973016896 segment.py:1579] DE result for case ((3,), (1, 2, 4, 5, 9, 10, 11, 12)) with (17900, 7) results\n",
      "2020-07-10 19:25:07,556  SpectraRegion  INFO: DE result logFC inversed\n",
      "I0710 19:25:07.556305 139724973016896 segment.py:1602] DE result logFC inversed\n",
      "2020-07-10 19:25:07,561  SpectraRegion  INFO: DE result for case ((3,), (1, 2, 4, 5, 9, 10, 11, 12)) with (537, 7) results (filtered)\n",
      "I0710 19:25:07.561042 139724973016896 segment.py:1607] DE result for case ((3,), (1, 2, 4, 5, 9, 10, 11, 12)) with (537, 7) results (filtered)\n",
      "2020-07-10 19:25:07,667  SpectraRegion  INFO: Created matrices with shape (48, 17900) and (451, 17900) (target, bg)\n",
      "I0710 19:25:07.667115 139724973016896 segment.py:1613] Created matrices with shape (48, 17900) and (451, 17900) (target, bg)\n",
      "2020-07-10 19:25:09,875  SpectraRegion  INFO: DE data for case: [2]\n",
      "I0710 19:25:09.875318 139724973016896 segment.py:1842] DE data for case: [2]\n",
      "2020-07-10 19:25:09,877  SpectraRegion  INFO: DE data for control: [10, 5, 4, 11, 12, 1, 3, 9]\n",
      "I0710 19:25:09.877180 139724973016896 segment.py:1843] DE data for control: [10, 5, 4, 11, 12, 1, 3, 9]\n",
      "2020-07-10 19:25:09,879  SpectraRegion  INFO: DE result key: ((2,), (1, 3, 4, 5, 9, 10, 11, 12))\n",
      "I0710 19:25:09.879049 139724973016896 segment.py:1847] DE result key: ((2,), (1, 3, 4, 5, 9, 10, 11, 12))\n"
     ]
    },
    {
     "name": "stdout",
     "output_type": "stream",
     "text": [
      "Running [2] against [10, 5, 4, 11, 12, 1, 3, 9]\n"
     ]
    },
    {
     "name": "stderr",
     "output_type": "stream",
     "text": [
      "2020-07-10 19:25:10,508  SpectraRegion  INFO: DE DataFrame ready. Shape (17900, 499)\n",
      "I0710 19:25:10.508017 139724973016896 segment.py:1891] DE DataFrame ready. Shape (17900, 499)\n",
      "2020-07-10 19:25:10,512  SpectraRegion  INFO: DE Sample DataFrame ready. Shape (499, 3)\n",
      "I0710 19:25:10.512542 139724973016896 segment.py:1899] DE Sample DataFrame ready. Shape (499, 3)\n",
      "2020-07-10 19:25:10,519  SpectraRegion  INFO: Performing DE-test: ttest\n",
      "I0710 19:25:10.519281 139724973016896 segment.py:1957] Performing DE-test: ttest\n",
      "2020-07-10 19:25:11,278  SpectraRegion  INFO: DE-test (ttest) finished. Results available: ((2,), (1, 3, 4, 5, 9, 10, 11, 12))\n",
      "I0710 19:25:11.278596 139724973016896 segment.py:1990] DE-test (ttest) finished. Results available: ((2,), (1, 3, 4, 5, 9, 10, 11, 12))\n",
      "2020-07-10 19:25:11,280  SpectraRegion  INFO: Performing DE-test: rank\n",
      "I0710 19:25:11.280006 139724973016896 segment.py:1957] Performing DE-test: rank\n",
      "2020-07-10 19:25:18,686  SpectraRegion  INFO: DE-test (rank) finished. Results available: ((2,), (1, 3, 4, 5, 9, 10, 11, 12))\n",
      "I0710 19:25:18.686071 139724973016896 segment.py:1990] DE-test (rank) finished. Results available: ((2,), (1, 3, 4, 5, 9, 10, 11, 12))\n",
      "2020-07-10 19:25:18,703  SpectraRegion  INFO: DE result for case ((2,), (1, 3, 4, 5, 9, 10, 11, 12)) with (17900, 7) results\n",
      "I0710 19:25:18.703212 139724973016896 segment.py:1579] DE result for case ((2,), (1, 3, 4, 5, 9, 10, 11, 12)) with (17900, 7) results\n",
      "2020-07-10 19:25:18,704  SpectraRegion  INFO: DE result logFC inversed\n",
      "I0710 19:25:18.704964 139724973016896 segment.py:1602] DE result logFC inversed\n",
      "2020-07-10 19:25:18,710  SpectraRegion  INFO: DE result for case ((2,), (1, 3, 4, 5, 9, 10, 11, 12)) with (1602, 7) results (filtered)\n",
      "I0710 19:25:18.710195 139724973016896 segment.py:1607] DE result for case ((2,), (1, 3, 4, 5, 9, 10, 11, 12)) with (1602, 7) results (filtered)\n",
      "2020-07-10 19:25:18,814  SpectraRegion  INFO: Created matrices with shape (18, 17900) and (481, 17900) (target, bg)\n",
      "I0710 19:25:18.814215 139724973016896 segment.py:1613] Created matrices with shape (18, 17900) and (481, 17900) (target, bg)\n",
      "2020-07-10 19:25:25,580  SpectraRegion  INFO: DE result for case ((2,), (1, 3, 4, 5, 9, 10, 11, 12)) with (17900, 7) results\n",
      "I0710 19:25:25.580893 139724973016896 segment.py:1579] DE result for case ((2,), (1, 3, 4, 5, 9, 10, 11, 12)) with (17900, 7) results\n",
      "2020-07-10 19:25:25,582  SpectraRegion  INFO: DE result logFC inversed\n",
      "I0710 19:25:25.582493 139724973016896 segment.py:1602] DE result logFC inversed\n",
      "2020-07-10 19:25:25,588  SpectraRegion  INFO: DE result for case ((2,), (1, 3, 4, 5, 9, 10, 11, 12)) with (1352, 7) results (filtered)\n",
      "I0710 19:25:25.588845 139724973016896 segment.py:1607] DE result for case ((2,), (1, 3, 4, 5, 9, 10, 11, 12)) with (1352, 7) results (filtered)\n",
      "2020-07-10 19:25:25,692  SpectraRegion  INFO: Created matrices with shape (18, 17900) and (481, 17900) (target, bg)\n",
      "I0710 19:25:25.692856 139724973016896 segment.py:1613] Created matrices with shape (18, 17900) and (481, 17900) (target, bg)\n",
      "2020-07-10 19:25:31,446  SpectraRegion  INFO: DE data for case: [9]\n",
      "I0710 19:25:31.446687 139724973016896 segment.py:1842] DE data for case: [9]\n",
      "2020-07-10 19:25:31,448  SpectraRegion  INFO: DE data for control: [10, 5, 4, 11, 12, 1, 3, 2]\n",
      "I0710 19:25:31.448399 139724973016896 segment.py:1843] DE data for control: [10, 5, 4, 11, 12, 1, 3, 2]\n",
      "2020-07-10 19:25:31,450  SpectraRegion  INFO: DE result key: ((9,), (1, 2, 3, 4, 5, 10, 11, 12))\n",
      "I0710 19:25:31.450430 139724973016896 segment.py:1847] DE result key: ((9,), (1, 2, 3, 4, 5, 10, 11, 12))\n"
     ]
    },
    {
     "name": "stdout",
     "output_type": "stream",
     "text": [
      "Running [9] against [10, 5, 4, 11, 12, 1, 3, 2]\n"
     ]
    },
    {
     "name": "stderr",
     "output_type": "stream",
     "text": [
      "2020-07-10 19:25:32,028  SpectraRegion  INFO: DE DataFrame ready. Shape (17900, 499)\n",
      "I0710 19:25:32.028630 139724973016896 segment.py:1891] DE DataFrame ready. Shape (17900, 499)\n",
      "2020-07-10 19:25:32,033  SpectraRegion  INFO: DE Sample DataFrame ready. Shape (499, 3)\n",
      "I0710 19:25:32.033470 139724973016896 segment.py:1899] DE Sample DataFrame ready. Shape (499, 3)\n",
      "2020-07-10 19:25:32,040  SpectraRegion  INFO: Performing DE-test: ttest\n",
      "I0710 19:25:32.040497 139724973016896 segment.py:1957] Performing DE-test: ttest\n",
      "2020-07-10 19:25:32,827  SpectraRegion  INFO: DE-test (ttest) finished. Results available: ((9,), (1, 2, 3, 4, 5, 10, 11, 12))\n",
      "I0710 19:25:32.827208 139724973016896 segment.py:1990] DE-test (ttest) finished. Results available: ((9,), (1, 2, 3, 4, 5, 10, 11, 12))\n",
      "2020-07-10 19:25:32,829  SpectraRegion  INFO: Performing DE-test: rank\n",
      "I0710 19:25:32.829581 139724973016896 segment.py:1957] Performing DE-test: rank\n",
      "2020-07-10 19:25:40,535  SpectraRegion  INFO: DE-test (rank) finished. Results available: ((9,), (1, 2, 3, 4, 5, 10, 11, 12))\n",
      "I0710 19:25:40.535490 139724973016896 segment.py:1990] DE-test (rank) finished. Results available: ((9,), (1, 2, 3, 4, 5, 10, 11, 12))\n",
      "2020-07-10 19:25:40,553  SpectraRegion  INFO: DE result for case ((9,), (1, 2, 3, 4, 5, 10, 11, 12)) with (17900, 7) results\n",
      "I0710 19:25:40.553913 139724973016896 segment.py:1579] DE result for case ((9,), (1, 2, 3, 4, 5, 10, 11, 12)) with (17900, 7) results\n",
      "2020-07-10 19:25:40,555  SpectraRegion  INFO: DE result logFC inversed\n",
      "I0710 19:25:40.555844 139724973016896 segment.py:1602] DE result logFC inversed\n",
      "2020-07-10 19:25:40,561  SpectraRegion  INFO: DE result for case ((9,), (1, 2, 3, 4, 5, 10, 11, 12)) with (85, 7) results (filtered)\n",
      "I0710 19:25:40.561907 139724973016896 segment.py:1607] DE result for case ((9,), (1, 2, 3, 4, 5, 10, 11, 12)) with (85, 7) results (filtered)\n",
      "2020-07-10 19:25:40,671  SpectraRegion  INFO: Created matrices with shape (4, 17900) and (495, 17900) (target, bg)\n",
      "I0710 19:25:40.671819 139724973016896 segment.py:1613] Created matrices with shape (4, 17900) and (495, 17900) (target, bg)\n",
      "2020-07-10 19:25:41,153  SpectraRegion  INFO: DE result for case ((9,), (1, 2, 3, 4, 5, 10, 11, 12)) with (17900, 7) results\n",
      "I0710 19:25:41.153359 139724973016896 segment.py:1579] DE result for case ((9,), (1, 2, 3, 4, 5, 10, 11, 12)) with (17900, 7) results\n",
      "2020-07-10 19:25:41,155  SpectraRegion  INFO: DE result logFC inversed\n",
      "I0710 19:25:41.155282 139724973016896 segment.py:1602] DE result logFC inversed\n",
      "2020-07-10 19:25:41,159  SpectraRegion  INFO: DE result for case ((9,), (1, 2, 3, 4, 5, 10, 11, 12)) with (0, 7) results (filtered)\n",
      "I0710 19:25:41.159679 139724973016896 segment.py:1607] DE result for case ((9,), (1, 2, 3, 4, 5, 10, 11, 12)) with (0, 7) results (filtered)\n",
      "2020-07-10 19:25:41,272  SpectraRegion  INFO: Created matrices with shape (4, 17900) and (495, 17900) (target, bg)\n",
      "I0710 19:25:41.272350 139724973016896 segment.py:1613] Created matrices with shape (4, 17900) and (495, 17900) (target, bg)\n",
      "2020-07-10 19:25:41,306  SpectraRegion  INFO: DE data for case: [0]\n",
      "I0710 19:25:41.306575 139724973016896 segment.py:1842] DE data for case: [0]\n",
      "2020-07-10 19:25:41,308  SpectraRegion  INFO: DE data for control: [10, 5, 4, 11, 12, 1, 3, 2, 9]\n",
      "I0710 19:25:41.308086 139724973016896 segment.py:1843] DE data for control: [10, 5, 4, 11, 12, 1, 3, 2, 9]\n",
      "2020-07-10 19:25:41,310  SpectraRegion  INFO: DE result key: ((0,), (1, 2, 3, 4, 5, 9, 10, 11, 12))\n",
      "I0710 19:25:41.310675 139724973016896 segment.py:1847] DE result key: ((0,), (1, 2, 3, 4, 5, 9, 10, 11, 12))\n"
     ]
    },
    {
     "name": "stdout",
     "output_type": "stream",
     "text": [
      "Running [0] against [10, 5, 4, 11, 12, 1, 3, 2, 9]\n"
     ]
    },
    {
     "name": "stderr",
     "output_type": "stream",
     "text": [
      "2020-07-10 19:25:59,000  SpectraRegion  INFO: DE DataFrame ready. Shape (17900, 2744)\n",
      "I0710 19:25:59.000332 139724973016896 segment.py:1891] DE DataFrame ready. Shape (17900, 2744)\n",
      "2020-07-10 19:25:59,007  SpectraRegion  INFO: DE Sample DataFrame ready. Shape (2744, 3)\n",
      "I0710 19:25:59.007661 139724973016896 segment.py:1899] DE Sample DataFrame ready. Shape (2744, 3)\n",
      "2020-07-10 19:25:59,016  SpectraRegion  INFO: Performing DE-test: ttest\n",
      "I0710 19:25:59.016276 139724973016896 segment.py:1957] Performing DE-test: ttest\n",
      "2020-07-10 19:26:03,584  SpectraRegion  INFO: DE-test (ttest) finished. Results available: ((0,), (1, 2, 3, 4, 5, 9, 10, 11, 12))\n",
      "I0710 19:26:03.584765 139724973016896 segment.py:1990] DE-test (ttest) finished. Results available: ((0,), (1, 2, 3, 4, 5, 9, 10, 11, 12))\n",
      "2020-07-10 19:26:03,586  SpectraRegion  INFO: Performing DE-test: rank\n",
      "I0710 19:26:03.586293 139724973016896 segment.py:1957] Performing DE-test: rank\n",
      "2020-07-10 19:26:23,354  SpectraRegion  INFO: DE-test (rank) finished. Results available: ((0,), (1, 2, 3, 4, 5, 9, 10, 11, 12))\n",
      "I0710 19:26:23.354004 139724973016896 segment.py:1990] DE-test (rank) finished. Results available: ((0,), (1, 2, 3, 4, 5, 9, 10, 11, 12))\n",
      "2020-07-10 19:26:23,430  SpectraRegion  INFO: DE result for case ((0,), (1, 2, 3, 4, 5, 9, 10, 11, 12)) with (17900, 7) results\n",
      "I0710 19:26:23.430375 139724973016896 segment.py:1579] DE result for case ((0,), (1, 2, 3, 4, 5, 9, 10, 11, 12)) with (17900, 7) results\n",
      "2020-07-10 19:26:23,431  SpectraRegion  INFO: DE result logFC inversed\n",
      "I0710 19:26:23.431870 139724973016896 segment.py:1602] DE result logFC inversed\n",
      "2020-07-10 19:26:23,436  SpectraRegion  INFO: DE result for case ((0,), (1, 2, 3, 4, 5, 9, 10, 11, 12)) with (1578, 7) results (filtered)\n",
      "I0710 19:26:23.436722 139724973016896 segment.py:1607] DE result for case ((0,), (1, 2, 3, 4, 5, 9, 10, 11, 12)) with (1578, 7) results (filtered)\n",
      "2020-07-10 19:26:24,031  SpectraRegion  INFO: Created matrices with shape (2245, 17900) and (499, 17900) (target, bg)\n",
      "I0710 19:26:24.031171 139724973016896 segment.py:1613] Created matrices with shape (2245, 17900) and (499, 17900) (target, bg)\n",
      "2020-07-10 19:26:30,824  SpectraRegion  INFO: DE result for case ((0,), (1, 2, 3, 4, 5, 9, 10, 11, 12)) with (17900, 7) results\n",
      "I0710 19:26:30.824851 139724973016896 segment.py:1579] DE result for case ((0,), (1, 2, 3, 4, 5, 9, 10, 11, 12)) with (17900, 7) results\n",
      "2020-07-10 19:26:30,826  SpectraRegion  INFO: DE result logFC inversed\n",
      "I0710 19:26:30.826682 139724973016896 segment.py:1602] DE result logFC inversed\n",
      "2020-07-10 19:26:30,832  SpectraRegion  INFO: DE result for case ((0,), (1, 2, 3, 4, 5, 9, 10, 11, 12)) with (1578, 7) results (filtered)\n",
      "I0710 19:26:30.832584 139724973016896 segment.py:1607] DE result for case ((0,), (1, 2, 3, 4, 5, 9, 10, 11, 12)) with (1578, 7) results (filtered)\n",
      "2020-07-10 19:26:31,410  SpectraRegion  INFO: Created matrices with shape (2245, 17900) and (499, 17900) (target, bg)\n",
      "I0710 19:26:31.410201 139724973016896 segment.py:1613] Created matrices with shape (2245, 17900) and (499, 17900) (target, bg)\n",
      "2020-07-10 19:26:38,224  SpectraRegion  INFO: DE data for case: [10]\n",
      "I0710 19:26:38.224062 139724973016896 segment.py:1842] DE data for case: [10]\n",
      "2020-07-10 19:26:38,225  SpectraRegion  INFO: DE data for control: [0, 5, 4, 11, 12, 1, 3, 2, 9]\n",
      "I0710 19:26:38.225895 139724973016896 segment.py:1843] DE data for control: [0, 5, 4, 11, 12, 1, 3, 2, 9]\n",
      "2020-07-10 19:26:38,228  SpectraRegion  INFO: DE result key: ((10,), (0, 1, 2, 3, 4, 5, 9, 11, 12))\n",
      "I0710 19:26:38.228080 139724973016896 segment.py:1847] DE result key: ((10,), (0, 1, 2, 3, 4, 5, 9, 11, 12))\n"
     ]
    },
    {
     "name": "stdout",
     "output_type": "stream",
     "text": [
      "Running [10] against [0, 5, 4, 11, 12, 1, 3, 2, 9]\n"
     ]
    },
    {
     "name": "stderr",
     "output_type": "stream",
     "text": [
      "2020-07-10 19:26:55,547  SpectraRegion  INFO: DE DataFrame ready. Shape (17900, 2744)\n",
      "I0710 19:26:55.547613 139724973016896 segment.py:1891] DE DataFrame ready. Shape (17900, 2744)\n",
      "2020-07-10 19:26:55,553  SpectraRegion  INFO: DE Sample DataFrame ready. Shape (2744, 3)\n",
      "I0710 19:26:55.553937 139724973016896 segment.py:1899] DE Sample DataFrame ready. Shape (2744, 3)\n",
      "2020-07-10 19:26:55,562  SpectraRegion  INFO: Performing DE-test: ttest\n",
      "I0710 19:26:55.562253 139724973016896 segment.py:1957] Performing DE-test: ttest\n",
      "2020-07-10 19:26:59,572  SpectraRegion  INFO: DE-test (ttest) finished. Results available: ((10,), (0, 1, 2, 3, 4, 5, 9, 11, 12))\n",
      "I0710 19:26:59.572830 139724973016896 segment.py:1990] DE-test (ttest) finished. Results available: ((10,), (0, 1, 2, 3, 4, 5, 9, 11, 12))\n",
      "2020-07-10 19:26:59,575  SpectraRegion  INFO: Performing DE-test: rank\n",
      "I0710 19:26:59.575386 139724973016896 segment.py:1957] Performing DE-test: rank\n",
      "2020-07-10 19:27:18,653  SpectraRegion  INFO: DE-test (rank) finished. Results available: ((10,), (0, 1, 2, 3, 4, 5, 9, 11, 12))\n",
      "I0710 19:27:18.653040 139724973016896 segment.py:1990] DE-test (rank) finished. Results available: ((10,), (0, 1, 2, 3, 4, 5, 9, 11, 12))\n",
      "2020-07-10 19:27:18,731  SpectraRegion  INFO: DE result for case ((10,), (0, 1, 2, 3, 4, 5, 9, 11, 12)) with (17900, 7) results\n",
      "I0710 19:27:18.731922 139724973016896 segment.py:1579] DE result for case ((10,), (0, 1, 2, 3, 4, 5, 9, 11, 12)) with (17900, 7) results\n",
      "2020-07-10 19:27:18,733  SpectraRegion  INFO: DE result logFC inversed\n",
      "I0710 19:27:18.733394 139724973016896 segment.py:1602] DE result logFC inversed\n",
      "2020-07-10 19:27:18,738  SpectraRegion  INFO: DE result for case ((10,), (0, 1, 2, 3, 4, 5, 9, 11, 12)) with (375, 7) results (filtered)\n",
      "I0710 19:27:18.738889 139724973016896 segment.py:1607] DE result for case ((10,), (0, 1, 2, 3, 4, 5, 9, 11, 12)) with (375, 7) results (filtered)\n",
      "2020-07-10 19:27:19,305  SpectraRegion  INFO: Created matrices with shape (102, 17900) and (2642, 17900) (target, bg)\n",
      "I0710 19:27:19.305994 139724973016896 segment.py:1613] Created matrices with shape (102, 17900) and (2642, 17900) (target, bg)\n",
      "2020-07-10 19:27:20,737  SpectraRegion  INFO: DE result for case ((10,), (0, 1, 2, 3, 4, 5, 9, 11, 12)) with (17900, 7) results\n",
      "I0710 19:27:20.737055 139724973016896 segment.py:1579] DE result for case ((10,), (0, 1, 2, 3, 4, 5, 9, 11, 12)) with (17900, 7) results\n",
      "2020-07-10 19:27:20,738  SpectraRegion  INFO: DE result logFC inversed\n",
      "I0710 19:27:20.738854 139724973016896 segment.py:1602] DE result logFC inversed\n",
      "2020-07-10 19:27:20,744  SpectraRegion  INFO: DE result for case ((10,), (0, 1, 2, 3, 4, 5, 9, 11, 12)) with (375, 7) results (filtered)\n",
      "I0710 19:27:20.744368 139724973016896 segment.py:1607] DE result for case ((10,), (0, 1, 2, 3, 4, 5, 9, 11, 12)) with (375, 7) results (filtered)\n",
      "2020-07-10 19:27:21,298  SpectraRegion  INFO: Created matrices with shape (102, 17900) and (2642, 17900) (target, bg)\n",
      "I0710 19:27:21.298398 139724973016896 segment.py:1613] Created matrices with shape (102, 17900) and (2642, 17900) (target, bg)\n",
      "2020-07-10 19:27:22,764  SpectraRegion  INFO: DE data for case: [5]\n",
      "I0710 19:27:22.764159 139724973016896 segment.py:1842] DE data for case: [5]\n",
      "2020-07-10 19:27:22,765  SpectraRegion  INFO: DE data for control: [0, 10, 4, 11, 12, 1, 3, 2, 9]\n",
      "I0710 19:27:22.765621 139724973016896 segment.py:1843] DE data for control: [0, 10, 4, 11, 12, 1, 3, 2, 9]\n",
      "2020-07-10 19:27:22,768  SpectraRegion  INFO: DE result key: ((5,), (0, 1, 2, 3, 4, 9, 10, 11, 12))\n",
      "I0710 19:27:22.768397 139724973016896 segment.py:1847] DE result key: ((5,), (0, 1, 2, 3, 4, 9, 10, 11, 12))\n"
     ]
    },
    {
     "name": "stdout",
     "output_type": "stream",
     "text": [
      "Running [5] against [0, 10, 4, 11, 12, 1, 3, 2, 9]\n"
     ]
    },
    {
     "name": "stderr",
     "output_type": "stream",
     "text": [
      "2020-07-10 19:27:39,254  SpectraRegion  INFO: DE DataFrame ready. Shape (17900, 2744)\n",
      "I0710 19:27:39.254220 139724973016896 segment.py:1891] DE DataFrame ready. Shape (17900, 2744)\n",
      "2020-07-10 19:27:39,260  SpectraRegion  INFO: DE Sample DataFrame ready. Shape (2744, 3)\n",
      "I0710 19:27:39.260565 139724973016896 segment.py:1899] DE Sample DataFrame ready. Shape (2744, 3)\n",
      "2020-07-10 19:27:39,267  SpectraRegion  INFO: Performing DE-test: ttest\n",
      "I0710 19:27:39.267640 139724973016896 segment.py:1957] Performing DE-test: ttest\n",
      "2020-07-10 19:27:43,558  SpectraRegion  INFO: DE-test (ttest) finished. Results available: ((5,), (0, 1, 2, 3, 4, 9, 10, 11, 12))\n",
      "I0710 19:27:43.558874 139724973016896 segment.py:1990] DE-test (ttest) finished. Results available: ((5,), (0, 1, 2, 3, 4, 9, 10, 11, 12))\n",
      "2020-07-10 19:27:43,561  SpectraRegion  INFO: Performing DE-test: rank\n",
      "I0710 19:27:43.561052 139724973016896 segment.py:1957] Performing DE-test: rank\n",
      "2020-07-10 19:28:02,638  SpectraRegion  INFO: DE-test (rank) finished. Results available: ((5,), (0, 1, 2, 3, 4, 9, 10, 11, 12))\n",
      "I0710 19:28:02.638728 139724973016896 segment.py:1990] DE-test (rank) finished. Results available: ((5,), (0, 1, 2, 3, 4, 9, 10, 11, 12))\n",
      "2020-07-10 19:28:02,717  SpectraRegion  INFO: DE result for case ((5,), (0, 1, 2, 3, 4, 9, 10, 11, 12)) with (17900, 7) results\n",
      "I0710 19:28:02.717293 139724973016896 segment.py:1579] DE result for case ((5,), (0, 1, 2, 3, 4, 9, 10, 11, 12)) with (17900, 7) results\n",
      "2020-07-10 19:28:02,719  SpectraRegion  INFO: DE result logFC inversed\n",
      "I0710 19:28:02.719058 139724973016896 segment.py:1602] DE result logFC inversed\n",
      "2020-07-10 19:28:02,724  SpectraRegion  INFO: DE result for case ((5,), (0, 1, 2, 3, 4, 9, 10, 11, 12)) with (1700, 7) results (filtered)\n",
      "I0710 19:28:02.724523 139724973016896 segment.py:1607] DE result for case ((5,), (0, 1, 2, 3, 4, 9, 10, 11, 12)) with (1700, 7) results (filtered)\n",
      "2020-07-10 19:28:03,287  SpectraRegion  INFO: Created matrices with shape (118, 17900) and (2626, 17900) (target, bg)\n",
      "I0710 19:28:03.287858 139724973016896 segment.py:1613] Created matrices with shape (118, 17900) and (2626, 17900) (target, bg)\n",
      "2020-07-10 19:28:11,197  SpectraRegion  INFO: DE result for case ((5,), (0, 1, 2, 3, 4, 9, 10, 11, 12)) with (17900, 7) results\n",
      "I0710 19:28:11.197115 139724973016896 segment.py:1579] DE result for case ((5,), (0, 1, 2, 3, 4, 9, 10, 11, 12)) with (17900, 7) results\n",
      "2020-07-10 19:28:11,199  SpectraRegion  INFO: DE result logFC inversed\n",
      "I0710 19:28:11.199155 139724973016896 segment.py:1602] DE result logFC inversed\n",
      "2020-07-10 19:28:11,205  SpectraRegion  INFO: DE result for case ((5,), (0, 1, 2, 3, 4, 9, 10, 11, 12)) with (1700, 7) results (filtered)\n",
      "I0710 19:28:11.205499 139724973016896 segment.py:1607] DE result for case ((5,), (0, 1, 2, 3, 4, 9, 10, 11, 12)) with (1700, 7) results (filtered)\n",
      "2020-07-10 19:28:11,754  SpectraRegion  INFO: Created matrices with shape (118, 17900) and (2626, 17900) (target, bg)\n",
      "I0710 19:28:11.754939 139724973016896 segment.py:1613] Created matrices with shape (118, 17900) and (2626, 17900) (target, bg)\n",
      "2020-07-10 19:28:19,010  SpectraRegion  INFO: DE data for case: [4]\n",
      "I0710 19:28:19.010415 139724973016896 segment.py:1842] DE data for case: [4]\n",
      "2020-07-10 19:28:19,011  SpectraRegion  INFO: DE data for control: [0, 10, 5, 11, 12, 1, 3, 2, 9]\n",
      "I0710 19:28:19.011794 139724973016896 segment.py:1843] DE data for control: [0, 10, 5, 11, 12, 1, 3, 2, 9]\n",
      "2020-07-10 19:28:19,014  SpectraRegion  INFO: DE result key: ((4,), (0, 1, 2, 3, 5, 9, 10, 11, 12))\n",
      "I0710 19:28:19.014458 139724973016896 segment.py:1847] DE result key: ((4,), (0, 1, 2, 3, 5, 9, 10, 11, 12))\n"
     ]
    },
    {
     "name": "stdout",
     "output_type": "stream",
     "text": [
      "Running [4] against [0, 10, 5, 11, 12, 1, 3, 2, 9]\n"
     ]
    },
    {
     "name": "stderr",
     "output_type": "stream",
     "text": [
      "2020-07-10 19:28:35,513  SpectraRegion  INFO: DE DataFrame ready. Shape (17900, 2744)\n",
      "I0710 19:28:35.513536 139724973016896 segment.py:1891] DE DataFrame ready. Shape (17900, 2744)\n",
      "2020-07-10 19:28:35,519  SpectraRegion  INFO: DE Sample DataFrame ready. Shape (2744, 3)\n",
      "I0710 19:28:35.519257 139724973016896 segment.py:1899] DE Sample DataFrame ready. Shape (2744, 3)\n",
      "2020-07-10 19:28:35,529  SpectraRegion  INFO: Performing DE-test: ttest\n",
      "I0710 19:28:35.529496 139724973016896 segment.py:1957] Performing DE-test: ttest\n",
      "2020-07-10 19:28:39,650  SpectraRegion  INFO: DE-test (ttest) finished. Results available: ((4,), (0, 1, 2, 3, 5, 9, 10, 11, 12))\n",
      "I0710 19:28:39.650763 139724973016896 segment.py:1990] DE-test (ttest) finished. Results available: ((4,), (0, 1, 2, 3, 5, 9, 10, 11, 12))\n",
      "2020-07-10 19:28:39,653  SpectraRegion  INFO: Performing DE-test: rank\n",
      "I0710 19:28:39.653457 139724973016896 segment.py:1957] Performing DE-test: rank\n",
      "2020-07-10 19:28:58,801  SpectraRegion  INFO: DE-test (rank) finished. Results available: ((4,), (0, 1, 2, 3, 5, 9, 10, 11, 12))\n",
      "I0710 19:28:58.801912 139724973016896 segment.py:1990] DE-test (rank) finished. Results available: ((4,), (0, 1, 2, 3, 5, 9, 10, 11, 12))\n",
      "2020-07-10 19:28:58,882  SpectraRegion  INFO: DE result for case ((4,), (0, 1, 2, 3, 5, 9, 10, 11, 12)) with (17900, 7) results\n",
      "I0710 19:28:58.882702 139724973016896 segment.py:1579] DE result for case ((4,), (0, 1, 2, 3, 5, 9, 10, 11, 12)) with (17900, 7) results\n",
      "2020-07-10 19:28:58,884  SpectraRegion  INFO: DE result logFC inversed\n",
      "I0710 19:28:58.884111 139724973016896 segment.py:1602] DE result logFC inversed\n",
      "2020-07-10 19:28:58,890  SpectraRegion  INFO: DE result for case ((4,), (0, 1, 2, 3, 5, 9, 10, 11, 12)) with (480, 7) results (filtered)\n",
      "I0710 19:28:58.890112 139724973016896 segment.py:1607] DE result for case ((4,), (0, 1, 2, 3, 5, 9, 10, 11, 12)) with (480, 7) results (filtered)\n",
      "2020-07-10 19:28:59,479  SpectraRegion  INFO: Created matrices with shape (44, 17900) and (2700, 17900) (target, bg)\n",
      "I0710 19:28:59.479227 139724973016896 segment.py:1613] Created matrices with shape (44, 17900) and (2700, 17900) (target, bg)\n",
      "2020-07-10 19:29:00,924  SpectraRegion  INFO: DE result for case ((4,), (0, 1, 2, 3, 5, 9, 10, 11, 12)) with (17900, 7) results\n",
      "I0710 19:29:00.924480 139724973016896 segment.py:1579] DE result for case ((4,), (0, 1, 2, 3, 5, 9, 10, 11, 12)) with (17900, 7) results\n",
      "2020-07-10 19:29:00,926  SpectraRegion  INFO: DE result logFC inversed\n",
      "I0710 19:29:00.926469 139724973016896 segment.py:1602] DE result logFC inversed\n",
      "2020-07-10 19:29:00,932  SpectraRegion  INFO: DE result for case ((4,), (0, 1, 2, 3, 5, 9, 10, 11, 12)) with (467, 7) results (filtered)\n",
      "I0710 19:29:00.932640 139724973016896 segment.py:1607] DE result for case ((4,), (0, 1, 2, 3, 5, 9, 10, 11, 12)) with (467, 7) results (filtered)\n",
      "2020-07-10 19:29:01,487  SpectraRegion  INFO: Created matrices with shape (44, 17900) and (2700, 17900) (target, bg)\n",
      "I0710 19:29:01.487695 139724973016896 segment.py:1613] Created matrices with shape (44, 17900) and (2700, 17900) (target, bg)\n",
      "2020-07-10 19:29:02,940  SpectraRegion  INFO: DE data for case: [11]\n",
      "I0710 19:29:02.940601 139724973016896 segment.py:1842] DE data for case: [11]\n",
      "2020-07-10 19:29:02,942  SpectraRegion  INFO: DE data for control: [0, 10, 5, 4, 12, 1, 3, 2, 9]\n",
      "I0710 19:29:02.942386 139724973016896 segment.py:1843] DE data for control: [0, 10, 5, 4, 12, 1, 3, 2, 9]\n",
      "2020-07-10 19:29:02,943  SpectraRegion  INFO: DE result key: ((11,), (0, 1, 2, 3, 4, 5, 9, 10, 12))\n",
      "I0710 19:29:02.943994 139724973016896 segment.py:1847] DE result key: ((11,), (0, 1, 2, 3, 4, 5, 9, 10, 12))\n"
     ]
    },
    {
     "name": "stdout",
     "output_type": "stream",
     "text": [
      "Running [11] against [0, 10, 5, 4, 12, 1, 3, 2, 9]\n"
     ]
    },
    {
     "name": "stderr",
     "output_type": "stream",
     "text": [
      "2020-07-10 19:29:19,431  SpectraRegion  INFO: DE DataFrame ready. Shape (17900, 2744)\n",
      "I0710 19:29:19.431686 139724973016896 segment.py:1891] DE DataFrame ready. Shape (17900, 2744)\n",
      "2020-07-10 19:29:19,437  SpectraRegion  INFO: DE Sample DataFrame ready. Shape (2744, 3)\n",
      "I0710 19:29:19.437622 139724973016896 segment.py:1899] DE Sample DataFrame ready. Shape (2744, 3)\n",
      "2020-07-10 19:29:19,446  SpectraRegion  INFO: Performing DE-test: ttest\n",
      "I0710 19:29:19.446871 139724973016896 segment.py:1957] Performing DE-test: ttest\n",
      "2020-07-10 19:29:23,758  SpectraRegion  INFO: DE-test (ttest) finished. Results available: ((11,), (0, 1, 2, 3, 4, 5, 9, 10, 12))\n",
      "I0710 19:29:23.758531 139724973016896 segment.py:1990] DE-test (ttest) finished. Results available: ((11,), (0, 1, 2, 3, 4, 5, 9, 10, 12))\n",
      "2020-07-10 19:29:23,760  SpectraRegion  INFO: Performing DE-test: rank\n",
      "I0710 19:29:23.760102 139724973016896 segment.py:1957] Performing DE-test: rank\n",
      "2020-07-10 19:29:43,056  SpectraRegion  INFO: DE-test (rank) finished. Results available: ((11,), (0, 1, 2, 3, 4, 5, 9, 10, 12))\n",
      "I0710 19:29:43.056051 139724973016896 segment.py:1990] DE-test (rank) finished. Results available: ((11,), (0, 1, 2, 3, 4, 5, 9, 10, 12))\n",
      "2020-07-10 19:29:43,136  SpectraRegion  INFO: DE result for case ((11,), (0, 1, 2, 3, 4, 5, 9, 10, 12)) with (17900, 7) results\n",
      "I0710 19:29:43.136633 139724973016896 segment.py:1579] DE result for case ((11,), (0, 1, 2, 3, 4, 5, 9, 10, 12)) with (17900, 7) results\n",
      "2020-07-10 19:29:43,138  SpectraRegion  INFO: DE result logFC inversed\n",
      "I0710 19:29:43.138162 139724973016896 segment.py:1602] DE result logFC inversed\n",
      "2020-07-10 19:29:43,145  SpectraRegion  INFO: DE result for case ((11,), (0, 1, 2, 3, 4, 5, 9, 10, 12)) with (1500, 7) results (filtered)\n",
      "I0710 19:29:43.145056 139724973016896 segment.py:1607] DE result for case ((11,), (0, 1, 2, 3, 4, 5, 9, 10, 12)) with (1500, 7) results (filtered)\n",
      "2020-07-10 19:29:43,738  SpectraRegion  INFO: Created matrices with shape (46, 17900) and (2698, 17900) (target, bg)\n",
      "I0710 19:29:43.738511 139724973016896 segment.py:1613] Created matrices with shape (46, 17900) and (2698, 17900) (target, bg)\n",
      "2020-07-10 19:29:49,859  SpectraRegion  INFO: DE result for case ((11,), (0, 1, 2, 3, 4, 5, 9, 10, 12)) with (17900, 7) results\n",
      "I0710 19:29:49.859782 139724973016896 segment.py:1579] DE result for case ((11,), (0, 1, 2, 3, 4, 5, 9, 10, 12)) with (17900, 7) results\n",
      "2020-07-10 19:29:49,861  SpectraRegion  INFO: DE result logFC inversed\n",
      "I0710 19:29:49.861729 139724973016896 segment.py:1602] DE result logFC inversed\n",
      "2020-07-10 19:29:49,866  SpectraRegion  INFO: DE result for case ((11,), (0, 1, 2, 3, 4, 5, 9, 10, 12)) with (1500, 7) results (filtered)\n",
      "I0710 19:29:49.866805 139724973016896 segment.py:1607] DE result for case ((11,), (0, 1, 2, 3, 4, 5, 9, 10, 12)) with (1500, 7) results (filtered)\n",
      "2020-07-10 19:29:50,443  SpectraRegion  INFO: Created matrices with shape (46, 17900) and (2698, 17900) (target, bg)\n",
      "I0710 19:29:50.443006 139724973016896 segment.py:1613] Created matrices with shape (46, 17900) and (2698, 17900) (target, bg)\n",
      "2020-07-10 19:29:56,548  SpectraRegion  INFO: DE data for case: [12]\n",
      "I0710 19:29:56.548184 139724973016896 segment.py:1842] DE data for case: [12]\n",
      "2020-07-10 19:29:56,550  SpectraRegion  INFO: DE data for control: [0, 10, 5, 4, 11, 1, 3, 2, 9]\n",
      "I0710 19:29:56.550254 139724973016896 segment.py:1843] DE data for control: [0, 10, 5, 4, 11, 1, 3, 2, 9]\n",
      "2020-07-10 19:29:56,552  SpectraRegion  INFO: DE result key: ((12,), (0, 1, 2, 3, 4, 5, 9, 10, 11))\n",
      "I0710 19:29:56.552393 139724973016896 segment.py:1847] DE result key: ((12,), (0, 1, 2, 3, 4, 5, 9, 10, 11))\n"
     ]
    },
    {
     "name": "stdout",
     "output_type": "stream",
     "text": [
      "Running [12] against [0, 10, 5, 4, 11, 1, 3, 2, 9]\n"
     ]
    },
    {
     "name": "stderr",
     "output_type": "stream",
     "text": [
      "2020-07-10 19:30:13,156  SpectraRegion  INFO: DE DataFrame ready. Shape (17900, 2744)\n",
      "I0710 19:30:13.156439 139724973016896 segment.py:1891] DE DataFrame ready. Shape (17900, 2744)\n",
      "2020-07-10 19:30:13,161  SpectraRegion  INFO: DE Sample DataFrame ready. Shape (2744, 3)\n",
      "I0710 19:30:13.161477 139724973016896 segment.py:1899] DE Sample DataFrame ready. Shape (2744, 3)\n",
      "2020-07-10 19:30:13,171  SpectraRegion  INFO: Performing DE-test: ttest\n",
      "I0710 19:30:13.171746 139724973016896 segment.py:1957] Performing DE-test: ttest\n",
      "2020-07-10 19:30:17,360  SpectraRegion  INFO: DE-test (ttest) finished. Results available: ((12,), (0, 1, 2, 3, 4, 5, 9, 10, 11))\n",
      "I0710 19:30:17.360481 139724973016896 segment.py:1990] DE-test (ttest) finished. Results available: ((12,), (0, 1, 2, 3, 4, 5, 9, 10, 11))\n",
      "2020-07-10 19:30:17,362  SpectraRegion  INFO: Performing DE-test: rank\n",
      "I0710 19:30:17.362340 139724973016896 segment.py:1957] Performing DE-test: rank\n",
      "2020-07-10 19:30:36,473  SpectraRegion  INFO: DE-test (rank) finished. Results available: ((12,), (0, 1, 2, 3, 4, 5, 9, 10, 11))\n",
      "I0710 19:30:36.473586 139724973016896 segment.py:1990] DE-test (rank) finished. Results available: ((12,), (0, 1, 2, 3, 4, 5, 9, 10, 11))\n",
      "2020-07-10 19:30:36,553  SpectraRegion  INFO: DE result for case ((12,), (0, 1, 2, 3, 4, 5, 9, 10, 11)) with (17900, 7) results\n",
      "I0710 19:30:36.553829 139724973016896 segment.py:1579] DE result for case ((12,), (0, 1, 2, 3, 4, 5, 9, 10, 11)) with (17900, 7) results\n",
      "2020-07-10 19:30:36,555  SpectraRegion  INFO: DE result logFC inversed\n",
      "I0710 19:30:36.555302 139724973016896 segment.py:1602] DE result logFC inversed\n",
      "2020-07-10 19:30:36,561  SpectraRegion  INFO: DE result for case ((12,), (0, 1, 2, 3, 4, 5, 9, 10, 11)) with (1512, 7) results (filtered)\n",
      "I0710 19:30:36.561179 139724973016896 segment.py:1607] DE result for case ((12,), (0, 1, 2, 3, 4, 5, 9, 10, 11)) with (1512, 7) results (filtered)\n",
      "2020-07-10 19:30:37,134  SpectraRegion  INFO: Created matrices with shape (62, 17900) and (2682, 17900) (target, bg)\n",
      "I0710 19:30:37.134373 139724973016896 segment.py:1613] Created matrices with shape (62, 17900) and (2682, 17900) (target, bg)\n",
      "2020-07-10 19:30:45,887  SpectraRegion  INFO: DE result for case ((12,), (0, 1, 2, 3, 4, 5, 9, 10, 11)) with (17900, 7) results\n",
      "I0710 19:30:45.887435 139724973016896 segment.py:1579] DE result for case ((12,), (0, 1, 2, 3, 4, 5, 9, 10, 11)) with (17900, 7) results\n",
      "2020-07-10 19:30:45,890  SpectraRegion  INFO: DE result logFC inversed\n",
      "I0710 19:30:45.890101 139724973016896 segment.py:1602] DE result logFC inversed\n",
      "2020-07-10 19:30:45,898  SpectraRegion  INFO: DE result for case ((12,), (0, 1, 2, 3, 4, 5, 9, 10, 11)) with (1512, 7) results (filtered)\n",
      "I0710 19:30:45.898136 139724973016896 segment.py:1607] DE result for case ((12,), (0, 1, 2, 3, 4, 5, 9, 10, 11)) with (1512, 7) results (filtered)\n",
      "2020-07-10 19:30:46,629  SpectraRegion  INFO: Created matrices with shape (62, 17900) and (2682, 17900) (target, bg)\n",
      "I0710 19:30:46.629796 139724973016896 segment.py:1613] Created matrices with shape (62, 17900) and (2682, 17900) (target, bg)\n",
      "2020-07-10 19:30:56,149  SpectraRegion  INFO: DE data for case: [1]\n",
      "I0710 19:30:56.149919 139724973016896 segment.py:1842] DE data for case: [1]\n",
      "2020-07-10 19:30:56,151  SpectraRegion  INFO: DE data for control: [0, 10, 5, 4, 11, 12, 3, 2, 9]\n",
      "I0710 19:30:56.151569 139724973016896 segment.py:1843] DE data for control: [0, 10, 5, 4, 11, 12, 3, 2, 9]\n",
      "2020-07-10 19:30:56,154  SpectraRegion  INFO: DE result key: ((1,), (0, 2, 3, 4, 5, 9, 10, 11, 12))\n",
      "I0710 19:30:56.154477 139724973016896 segment.py:1847] DE result key: ((1,), (0, 2, 3, 4, 5, 9, 10, 11, 12))\n"
     ]
    },
    {
     "name": "stdout",
     "output_type": "stream",
     "text": [
      "Running [1] against [0, 10, 5, 4, 11, 12, 3, 2, 9]\n"
     ]
    },
    {
     "name": "stderr",
     "output_type": "stream",
     "text": [
      "2020-07-10 19:31:16,121  SpectraRegion  INFO: DE DataFrame ready. Shape (17900, 2744)\n",
      "I0710 19:31:16.121393 139724973016896 segment.py:1891] DE DataFrame ready. Shape (17900, 2744)\n",
      "2020-07-10 19:31:16,130  SpectraRegion  INFO: DE Sample DataFrame ready. Shape (2744, 3)\n",
      "I0710 19:31:16.130881 139724973016896 segment.py:1899] DE Sample DataFrame ready. Shape (2744, 3)\n",
      "2020-07-10 19:31:16,143  SpectraRegion  INFO: Performing DE-test: ttest\n",
      "I0710 19:31:16.143730 139724973016896 segment.py:1957] Performing DE-test: ttest\n",
      "2020-07-10 19:31:21,898  SpectraRegion  INFO: DE-test (ttest) finished. Results available: ((1,), (0, 2, 3, 4, 5, 9, 10, 11, 12))\n",
      "I0710 19:31:21.898904 139724973016896 segment.py:1990] DE-test (ttest) finished. Results available: ((1,), (0, 2, 3, 4, 5, 9, 10, 11, 12))\n",
      "2020-07-10 19:31:21,901  SpectraRegion  INFO: Performing DE-test: rank\n",
      "I0710 19:31:21.901652 139724973016896 segment.py:1957] Performing DE-test: rank\n",
      "2020-07-10 19:31:47,655  SpectraRegion  INFO: DE-test (rank) finished. Results available: ((1,), (0, 2, 3, 4, 5, 9, 10, 11, 12))\n",
      "I0710 19:31:47.655506 139724973016896 segment.py:1990] DE-test (rank) finished. Results available: ((1,), (0, 2, 3, 4, 5, 9, 10, 11, 12))\n",
      "2020-07-10 19:31:47,739  SpectraRegion  INFO: DE result for case ((1,), (0, 2, 3, 4, 5, 9, 10, 11, 12)) with (17900, 7) results\n",
      "I0710 19:31:47.739967 139724973016896 segment.py:1579] DE result for case ((1,), (0, 2, 3, 4, 5, 9, 10, 11, 12)) with (17900, 7) results\n",
      "2020-07-10 19:31:47,741  SpectraRegion  INFO: DE result logFC inversed\n",
      "I0710 19:31:47.741825 139724973016896 segment.py:1602] DE result logFC inversed\n",
      "2020-07-10 19:31:47,748  SpectraRegion  INFO: DE result for case ((1,), (0, 2, 3, 4, 5, 9, 10, 11, 12)) with (2105, 7) results (filtered)\n",
      "I0710 19:31:47.748897 139724973016896 segment.py:1607] DE result for case ((1,), (0, 2, 3, 4, 5, 9, 10, 11, 12)) with (2105, 7) results (filtered)\n",
      "2020-07-10 19:31:48,424  SpectraRegion  INFO: Created matrices with shape (57, 17900) and (2687, 17900) (target, bg)\n",
      "I0710 19:31:48.424590 139724973016896 segment.py:1613] Created matrices with shape (57, 17900) and (2687, 17900) (target, bg)\n",
      "2020-07-10 19:32:06,271  SpectraRegion  INFO: DE result for case ((1,), (0, 2, 3, 4, 5, 9, 10, 11, 12)) with (17900, 7) results\n",
      "I0710 19:32:06.271079 139724973016896 segment.py:1579] DE result for case ((1,), (0, 2, 3, 4, 5, 9, 10, 11, 12)) with (17900, 7) results\n",
      "2020-07-10 19:32:06,273  SpectraRegion  INFO: DE result logFC inversed\n",
      "I0710 19:32:06.273311 139724973016896 segment.py:1602] DE result logFC inversed\n",
      "2020-07-10 19:32:06,281  SpectraRegion  INFO: DE result for case ((1,), (0, 2, 3, 4, 5, 9, 10, 11, 12)) with (2104, 7) results (filtered)\n",
      "I0710 19:32:06.281996 139724973016896 segment.py:1607] DE result for case ((1,), (0, 2, 3, 4, 5, 9, 10, 11, 12)) with (2104, 7) results (filtered)\n",
      "2020-07-10 19:32:07,042  SpectraRegion  INFO: Created matrices with shape (57, 17900) and (2687, 17900) (target, bg)\n",
      "I0710 19:32:07.042418 139724973016896 segment.py:1613] Created matrices with shape (57, 17900) and (2687, 17900) (target, bg)\n",
      "2020-07-10 19:32:26,434  SpectraRegion  INFO: DE data for case: [3]\n",
      "I0710 19:32:26.434134 139724973016896 segment.py:1842] DE data for case: [3]\n",
      "2020-07-10 19:32:26,436  SpectraRegion  INFO: DE data for control: [0, 10, 5, 4, 11, 12, 1, 2, 9]\n",
      "I0710 19:32:26.436375 139724973016896 segment.py:1843] DE data for control: [0, 10, 5, 4, 11, 12, 1, 2, 9]\n",
      "2020-07-10 19:32:26,438  SpectraRegion  INFO: DE result key: ((3,), (0, 1, 2, 4, 5, 9, 10, 11, 12))\n",
      "I0710 19:32:26.438552 139724973016896 segment.py:1847] DE result key: ((3,), (0, 1, 2, 4, 5, 9, 10, 11, 12))\n"
     ]
    },
    {
     "name": "stdout",
     "output_type": "stream",
     "text": [
      "Running [3] against [0, 10, 5, 4, 11, 12, 1, 2, 9]\n"
     ]
    },
    {
     "name": "stderr",
     "output_type": "stream",
     "text": [
      "2020-07-10 19:32:44,133  SpectraRegion  INFO: DE DataFrame ready. Shape (17900, 2744)\n",
      "I0710 19:32:44.133798 139724973016896 segment.py:1891] DE DataFrame ready. Shape (17900, 2744)\n",
      "2020-07-10 19:32:44,139  SpectraRegion  INFO: DE Sample DataFrame ready. Shape (2744, 3)\n",
      "I0710 19:32:44.139799 139724973016896 segment.py:1899] DE Sample DataFrame ready. Shape (2744, 3)\n",
      "2020-07-10 19:32:44,152  SpectraRegion  INFO: Performing DE-test: ttest\n",
      "I0710 19:32:44.152089 139724973016896 segment.py:1957] Performing DE-test: ttest\n",
      "2020-07-10 19:32:48,922  SpectraRegion  INFO: DE-test (ttest) finished. Results available: ((3,), (0, 1, 2, 4, 5, 9, 10, 11, 12))\n",
      "I0710 19:32:48.922568 139724973016896 segment.py:1990] DE-test (ttest) finished. Results available: ((3,), (0, 1, 2, 4, 5, 9, 10, 11, 12))\n",
      "2020-07-10 19:32:48,925  SpectraRegion  INFO: Performing DE-test: rank\n",
      "I0710 19:32:48.925846 139724973016896 segment.py:1957] Performing DE-test: rank\n",
      "2020-07-10 19:33:10,627  SpectraRegion  INFO: DE-test (rank) finished. Results available: ((3,), (0, 1, 2, 4, 5, 9, 10, 11, 12))\n",
      "I0710 19:33:10.627787 139724973016896 segment.py:1990] DE-test (rank) finished. Results available: ((3,), (0, 1, 2, 4, 5, 9, 10, 11, 12))\n",
      "2020-07-10 19:33:10,712  SpectraRegion  INFO: DE result for case ((3,), (0, 1, 2, 4, 5, 9, 10, 11, 12)) with (17900, 7) results\n",
      "I0710 19:33:10.712198 139724973016896 segment.py:1579] DE result for case ((3,), (0, 1, 2, 4, 5, 9, 10, 11, 12)) with (17900, 7) results\n",
      "2020-07-10 19:33:10,713  SpectraRegion  INFO: DE result logFC inversed\n",
      "I0710 19:33:10.713860 139724973016896 segment.py:1602] DE result logFC inversed\n",
      "2020-07-10 19:33:10,720  SpectraRegion  INFO: DE result for case ((3,), (0, 1, 2, 4, 5, 9, 10, 11, 12)) with (1656, 7) results (filtered)\n",
      "I0710 19:33:10.720204 139724973016896 segment.py:1607] DE result for case ((3,), (0, 1, 2, 4, 5, 9, 10, 11, 12)) with (1656, 7) results (filtered)\n",
      "2020-07-10 19:33:11,292  SpectraRegion  INFO: Created matrices with shape (48, 17900) and (2696, 17900) (target, bg)\n",
      "I0710 19:33:11.292682 139724973016896 segment.py:1613] Created matrices with shape (48, 17900) and (2696, 17900) (target, bg)\n",
      "2020-07-10 19:33:18,234  SpectraRegion  INFO: DE result for case ((3,), (0, 1, 2, 4, 5, 9, 10, 11, 12)) with (17900, 7) results\n",
      "I0710 19:33:18.234946 139724973016896 segment.py:1579] DE result for case ((3,), (0, 1, 2, 4, 5, 9, 10, 11, 12)) with (17900, 7) results\n",
      "2020-07-10 19:33:18,237  SpectraRegion  INFO: DE result logFC inversed\n",
      "I0710 19:33:18.237014 139724973016896 segment.py:1602] DE result logFC inversed\n",
      "2020-07-10 19:33:18,243  SpectraRegion  INFO: DE result for case ((3,), (0, 1, 2, 4, 5, 9, 10, 11, 12)) with (1655, 7) results (filtered)\n",
      "I0710 19:33:18.243195 139724973016896 segment.py:1607] DE result for case ((3,), (0, 1, 2, 4, 5, 9, 10, 11, 12)) with (1655, 7) results (filtered)\n",
      "2020-07-10 19:33:18,813  SpectraRegion  INFO: Created matrices with shape (48, 17900) and (2696, 17900) (target, bg)\n",
      "I0710 19:33:18.813748 139724973016896 segment.py:1613] Created matrices with shape (48, 17900) and (2696, 17900) (target, bg)\n",
      "2020-07-10 19:33:25,657  SpectraRegion  INFO: DE data for case: [2]\n",
      "I0710 19:33:25.657766 139724973016896 segment.py:1842] DE data for case: [2]\n",
      "2020-07-10 19:33:25,659  SpectraRegion  INFO: DE data for control: [0, 10, 5, 4, 11, 12, 1, 3, 9]\n",
      "I0710 19:33:25.659646 139724973016896 segment.py:1843] DE data for control: [0, 10, 5, 4, 11, 12, 1, 3, 9]\n",
      "2020-07-10 19:33:25,662  SpectraRegion  INFO: DE result key: ((2,), (0, 1, 3, 4, 5, 9, 10, 11, 12))\n",
      "I0710 19:33:25.662077 139724973016896 segment.py:1847] DE result key: ((2,), (0, 1, 3, 4, 5, 9, 10, 11, 12))\n"
     ]
    },
    {
     "name": "stdout",
     "output_type": "stream",
     "text": [
      "Running [2] against [0, 10, 5, 4, 11, 12, 1, 3, 9]\n"
     ]
    },
    {
     "name": "stderr",
     "output_type": "stream",
     "text": [
      "2020-07-10 19:33:41,055  SpectraRegion  INFO: DE DataFrame ready. Shape (17900, 2744)\n",
      "I0710 19:33:41.055051 139724973016896 segment.py:1891] DE DataFrame ready. Shape (17900, 2744)\n",
      "2020-07-10 19:33:41,060  SpectraRegion  INFO: DE Sample DataFrame ready. Shape (2744, 3)\n",
      "I0710 19:33:41.060169 139724973016896 segment.py:1899] DE Sample DataFrame ready. Shape (2744, 3)\n",
      "2020-07-10 19:33:41,068  SpectraRegion  INFO: Performing DE-test: ttest\n",
      "I0710 19:33:41.068214 139724973016896 segment.py:1957] Performing DE-test: ttest\n",
      "2020-07-10 19:33:44,781  SpectraRegion  INFO: DE-test (ttest) finished. Results available: ((2,), (0, 1, 3, 4, 5, 9, 10, 11, 12))\n",
      "I0710 19:33:44.781584 139724973016896 segment.py:1990] DE-test (ttest) finished. Results available: ((2,), (0, 1, 3, 4, 5, 9, 10, 11, 12))\n",
      "2020-07-10 19:33:44,782  SpectraRegion  INFO: Performing DE-test: rank\n",
      "I0710 19:33:44.782989 139724973016896 segment.py:1957] Performing DE-test: rank\n",
      "2020-07-10 19:34:04,151  SpectraRegion  INFO: DE-test (rank) finished. Results available: ((2,), (0, 1, 3, 4, 5, 9, 10, 11, 12))\n",
      "I0710 19:34:04.151872 139724973016896 segment.py:1990] DE-test (rank) finished. Results available: ((2,), (0, 1, 3, 4, 5, 9, 10, 11, 12))\n",
      "2020-07-10 19:34:04,228  SpectraRegion  INFO: DE result for case ((2,), (0, 1, 3, 4, 5, 9, 10, 11, 12)) with (17900, 7) results\n",
      "I0710 19:34:04.228613 139724973016896 segment.py:1579] DE result for case ((2,), (0, 1, 3, 4, 5, 9, 10, 11, 12)) with (17900, 7) results\n",
      "2020-07-10 19:34:04,230  SpectraRegion  INFO: DE result logFC inversed\n",
      "I0710 19:34:04.230271 139724973016896 segment.py:1602] DE result logFC inversed\n",
      "2020-07-10 19:34:04,236  SpectraRegion  INFO: DE result for case ((2,), (0, 1, 3, 4, 5, 9, 10, 11, 12)) with (3071, 7) results (filtered)\n",
      "I0710 19:34:04.236157 139724973016896 segment.py:1607] DE result for case ((2,), (0, 1, 3, 4, 5, 9, 10, 11, 12)) with (3071, 7) results (filtered)\n",
      "2020-07-10 19:34:04,829  SpectraRegion  INFO: Created matrices with shape (18, 17900) and (2726, 17900) (target, bg)\n",
      "I0710 19:34:04.829074 139724973016896 segment.py:1613] Created matrices with shape (18, 17900) and (2726, 17900) (target, bg)\n",
      "2020-07-10 19:34:18,277  SpectraRegion  INFO: DE result for case ((2,), (0, 1, 3, 4, 5, 9, 10, 11, 12)) with (17900, 7) results\n",
      "I0710 19:34:18.277072 139724973016896 segment.py:1579] DE result for case ((2,), (0, 1, 3, 4, 5, 9, 10, 11, 12)) with (17900, 7) results\n",
      "2020-07-10 19:34:18,278  SpectraRegion  INFO: DE result logFC inversed\n",
      "I0710 19:34:18.278995 139724973016896 segment.py:1602] DE result logFC inversed\n",
      "2020-07-10 19:34:18,284  SpectraRegion  INFO: DE result for case ((2,), (0, 1, 3, 4, 5, 9, 10, 11, 12)) with (2885, 7) results (filtered)\n",
      "I0710 19:34:18.284776 139724973016896 segment.py:1607] DE result for case ((2,), (0, 1, 3, 4, 5, 9, 10, 11, 12)) with (2885, 7) results (filtered)\n",
      "2020-07-10 19:34:18,850  SpectraRegion  INFO: Created matrices with shape (18, 17900) and (2726, 17900) (target, bg)\n",
      "I0710 19:34:18.850312 139724973016896 segment.py:1613] Created matrices with shape (18, 17900) and (2726, 17900) (target, bg)\n",
      "2020-07-10 19:34:32,111  SpectraRegion  INFO: DE data for case: [9]\n",
      "I0710 19:34:32.111741 139724973016896 segment.py:1842] DE data for case: [9]\n",
      "2020-07-10 19:34:32,113  SpectraRegion  INFO: DE data for control: [0, 10, 5, 4, 11, 12, 1, 3, 2]\n",
      "I0710 19:34:32.113228 139724973016896 segment.py:1843] DE data for control: [0, 10, 5, 4, 11, 12, 1, 3, 2]\n",
      "2020-07-10 19:34:32,117  SpectraRegion  INFO: DE result key: ((9,), (0, 1, 2, 3, 4, 5, 10, 11, 12))\n",
      "I0710 19:34:32.117127 139724973016896 segment.py:1847] DE result key: ((9,), (0, 1, 2, 3, 4, 5, 10, 11, 12))\n"
     ]
    },
    {
     "name": "stdout",
     "output_type": "stream",
     "text": [
      "Running [9] against [0, 10, 5, 4, 11, 12, 1, 3, 2]\n"
     ]
    },
    {
     "name": "stderr",
     "output_type": "stream",
     "text": [
      "2020-07-10 19:34:48,891  SpectraRegion  INFO: DE DataFrame ready. Shape (17900, 2744)\n",
      "I0710 19:34:48.891656 139724973016896 segment.py:1891] DE DataFrame ready. Shape (17900, 2744)\n",
      "2020-07-10 19:34:48,897  SpectraRegion  INFO: DE Sample DataFrame ready. Shape (2744, 3)\n",
      "I0710 19:34:48.897657 139724973016896 segment.py:1899] DE Sample DataFrame ready. Shape (2744, 3)\n",
      "2020-07-10 19:34:48,906  SpectraRegion  INFO: Performing DE-test: ttest\n",
      "I0710 19:34:48.906138 139724973016896 segment.py:1957] Performing DE-test: ttest\n",
      "2020-07-10 19:34:53,251  SpectraRegion  INFO: DE-test (ttest) finished. Results available: ((9,), (0, 1, 2, 3, 4, 5, 10, 11, 12))\n",
      "I0710 19:34:53.251574 139724973016896 segment.py:1990] DE-test (ttest) finished. Results available: ((9,), (0, 1, 2, 3, 4, 5, 10, 11, 12))\n",
      "2020-07-10 19:34:53,253  SpectraRegion  INFO: Performing DE-test: rank\n",
      "I0710 19:34:53.253565 139724973016896 segment.py:1957] Performing DE-test: rank\n",
      "2020-07-10 19:35:12,098  SpectraRegion  INFO: DE-test (rank) finished. Results available: ((9,), (0, 1, 2, 3, 4, 5, 10, 11, 12))\n",
      "I0710 19:35:12.098549 139724973016896 segment.py:1990] DE-test (rank) finished. Results available: ((9,), (0, 1, 2, 3, 4, 5, 10, 11, 12))\n",
      "2020-07-10 19:35:12,174  SpectraRegion  INFO: DE result for case ((9,), (0, 1, 2, 3, 4, 5, 10, 11, 12)) with (17900, 7) results\n",
      "I0710 19:35:12.174752 139724973016896 segment.py:1579] DE result for case ((9,), (0, 1, 2, 3, 4, 5, 10, 11, 12)) with (17900, 7) results\n",
      "2020-07-10 19:35:12,177  SpectraRegion  INFO: DE result logFC inversed\n",
      "I0710 19:35:12.177012 139724973016896 segment.py:1602] DE result logFC inversed\n",
      "2020-07-10 19:35:12,182  SpectraRegion  INFO: DE result for case ((9,), (0, 1, 2, 3, 4, 5, 10, 11, 12)) with (66, 7) results (filtered)\n",
      "I0710 19:35:12.182041 139724973016896 segment.py:1607] DE result for case ((9,), (0, 1, 2, 3, 4, 5, 10, 11, 12)) with (66, 7) results (filtered)\n",
      "2020-07-10 19:35:12,750  SpectraRegion  INFO: Created matrices with shape (4, 17900) and (2740, 17900) (target, bg)\n",
      "I0710 19:35:12.750591 139724973016896 segment.py:1613] Created matrices with shape (4, 17900) and (2740, 17900) (target, bg)\n",
      "2020-07-10 19:35:13,170  SpectraRegion  INFO: DE result for case ((9,), (0, 1, 2, 3, 4, 5, 10, 11, 12)) with (17900, 7) results\n",
      "I0710 19:35:13.170086 139724973016896 segment.py:1579] DE result for case ((9,), (0, 1, 2, 3, 4, 5, 10, 11, 12)) with (17900, 7) results\n",
      "2020-07-10 19:35:13,171  SpectraRegion  INFO: DE result logFC inversed\n",
      "I0710 19:35:13.171909 139724973016896 segment.py:1602] DE result logFC inversed\n",
      "2020-07-10 19:35:13,178  SpectraRegion  INFO: DE result for case ((9,), (0, 1, 2, 3, 4, 5, 10, 11, 12)) with (0, 7) results (filtered)\n",
      "I0710 19:35:13.178323 139724973016896 segment.py:1607] DE result for case ((9,), (0, 1, 2, 3, 4, 5, 10, 11, 12)) with (0, 7) results (filtered)\n",
      "2020-07-10 19:35:13,739  SpectraRegion  INFO: Created matrices with shape (4, 17900) and (2740, 17900) (target, bg)\n",
      "I0710 19:35:13.739994 139724973016896 segment.py:1613] Created matrices with shape (4, 17900) and (2740, 17900) (target, bg)\n"
     ]
    },
    {
     "name": "stdout",
     "output_type": "stream",
     "text": [
      "Processing regionID 5 for basename slideD\n"
     ]
    },
    {
     "name": "stderr",
     "output_type": "stream",
     "text": [
      "Found region 5 with shape (52, 59, 17900)\n",
      "I0710 19:35:16.030406 139724973016896 segment.py:2814] Found region 5 with shape (52, 59, 17900)\n",
      "Collecting fold changes\n",
      "I0710 19:35:19.444126 139724973016896 segment.py:2528] Collecting fold changes\n",
      "Got a total of 54917200 fold changes\n",
      "I0710 19:36:01.327564 139724973016896 segment.py:2539] Got a total of 54917200 fold changes\n",
      "Median elements [27458600]\n",
      "I0710 19:36:04.179514 139724973016896 segment.py:2548] Median elements [27458600]\n",
      "Median elements\n",
      "I0710 19:36:05.538952 139724973016896 segment.py:2561] Median elements\n",
      "Global Median 0.98204\n",
      "I0710 19:36:05.540335 139724973016896 segment.py:2566] Global Median 0.98204\n",
      "2020-07-10 19:36:07,552  SpectraRegion  INFO: Creating C++ obj\n",
      "I0710 19:36:07.552772 139724973016896 segment.py:814] Creating C++ obj\n",
      "2020-07-10 19:36:07,554  SpectraRegion  INFO: 17900 (52, 59, 17900)\n",
      "I0710 19:36:07.554177 139724973016896 segment.py:815] 17900 (52, 59, 17900)\n",
      "2020-07-10 19:36:07,556  SpectraRegion  INFO: dimensions 17900\n",
      "I0710 19:36:07.556068 139724973016896 segment.py:825] dimensions 17900\n",
      "2020-07-10 19:36:07,558  SpectraRegion  INFO: input dimensions (52, 59, 17900)\n",
      "I0710 19:36:07.558713 139724973016896 segment.py:826] input dimensions (52, 59, 17900)\n",
      "2020-07-10 19:36:07,561  SpectraRegion  INFO: Switching to dot mode\n",
      "I0710 19:36:07.561817 139724973016896 segment.py:829] Switching to dot mode\n"
     ]
    },
    {
     "name": "stdout",
     "output_type": "stream",
     "text": [
      "17900\n"
     ]
    },
    {
     "name": "stderr",
     "output_type": "stream",
     "text": [
      "2020-07-10 19:36:07,879  SpectraRegion  INFO: Starting calc similarity c++\n",
      "I0710 19:36:07.879904 139724973016896 segment.py:835] Starting calc similarity c++\n",
      "2020-07-10 19:36:43,178  SpectraRegion  INFO: outclust dimensions (3068, 3068)\n",
      "I0710 19:36:43.178151 139724973016896 segment.py:840] outclust dimensions (3068, 3068)\n",
      "2020-07-10 19:36:43,206  SpectraRegion  INFO: Calculating spectra similarity\n",
      "I0710 19:36:43.206114 139724973016896 segment.py:872] Calculating spectra similarity\n",
      "2020-07-10 19:36:43,290  SpectraRegion  INFO: Calculating spectra similarity done\n",
      "I0710 19:36:43.290369 139724973016896 segment.py:876] Calculating spectra similarity done\n",
      "2020-07-10 19:36:43,296  SpectraRegion  INFO: Calculating dist pixel map\n",
      "I0710 19:36:43.296717 139724973016896 segment.py:883] Calculating dist pixel map\n",
      "2020-07-10 19:38:01,406  SpectraRegion  INFO: Calculating dist pixel map done\n",
      "I0710 19:38:01.406160 139724973016896 segment.py:893] Calculating dist pixel map done\n",
      "2020-07-10 19:38:01,475  SpectraRegion  INFO: Calculating clusters\n",
      "I0710 19:38:01.475622 139724973016896 segment.py:1091] Calculating clusters\n",
      "2020-07-10 19:38:01,875  SpectraRegion  INFO: Calculating clusters done\n",
      "I0710 19:38:01.875509 139724973016896 segment.py:1112] Calculating clusters done\n",
      "2020-07-10 19:38:01,901  SpectraRegion  INFO: Calculating clusters saved\n",
      "I0710 19:38:01.901697 139724973016896 segment.py:1130] Calculating clusters saved\n"
     ]
    },
    {
     "data": {
      "image/png": "[encoded data removed]",
      "text/plain": [
       "<Figure size 432x288 with 2 Axes>"
      ]
     },
     "metadata": {
      "needs_background": "light"
     },
     "output_type": "display_data"
    },
    {
     "name": "stderr",
     "output_type": "stream",
     "text": [
      "2020-07-10 19:38:02,106  SpectraRegion  INFO: Assigning clusters to background: {1, 2, 3, 4, 5, 6, 7, 8}\n",
      "I0710 19:38:02.106771 139724973016896 segment.py:1219] Assigning clusters to background: {1, 2, 3, 4, 5, 6, 7, 8}\n"
     ]
    },
    {
     "data": {
      "image/png": "[encoded data removed]",
      "text/plain": [
       "<Figure size 432x288 with 2 Axes>"
      ]
     },
     "metadata": {
      "needs_background": "light"
     },
     "output_type": "display_data"
    },
    {
     "name": "stderr",
     "output_type": "stream",
     "text": [
      "2020-07-10 19:38:02,283  SpectraRegion  INFO: Calculating consensus spectra\n",
      "I0710 19:38:02.283089 139724973016896 segment.py:1273] Calculating consensus spectra\n",
      "2020-07-10 19:38:02,335  SpectraRegion  INFO: Calculating consensus spectra done\n",
      "I0710 19:38:02.335237 139724973016896 segment.py:1285] Calculating consensus spectra done\n"
     ]
    },
    {
     "data": {
      "image/png": "[encoded data removed]",
      "text/plain": [
       "<Figure size 288x288 with 2 Axes>"
      ]
     },
     "metadata": {
      "needs_background": "light"
     },
     "output_type": "display_data"
    },
    {
     "name": "stderr",
     "output_type": "stream",
     "text": [
      "2020-07-10 19:38:02,586  SpectraRegion  INFO: DE data for case: [12]\n",
      "I0710 19:38:02.586692 139724973016896 segment.py:1842] DE data for case: [12]\n",
      "2020-07-10 19:38:02,589  SpectraRegion  INFO: DE data for control: [15, 14, 11, 13, 10, 9]\n",
      "I0710 19:38:02.589075 139724973016896 segment.py:1843] DE data for control: [15, 14, 11, 13, 10, 9]\n",
      "2020-07-10 19:38:02,591  SpectraRegion  INFO: DE result key: ((12,), (9, 10, 11, 13, 14, 15))\n",
      "I0710 19:38:02.591388 139724973016896 segment.py:1847] DE result key: ((12,), (9, 10, 11, 13, 14, 15))\n"
     ]
    },
    {
     "name": "stdout",
     "output_type": "stream",
     "text": [
      "Running [12] against [15, 14, 11, 13, 10, 9]\n"
     ]
    },
    {
     "name": "stderr",
     "output_type": "stream",
     "text": [
      "2020-07-10 19:38:02,855  SpectraRegion  INFO: DE DataFrame ready. Shape (17900, 341)\n",
      "I0710 19:38:02.855119 139724973016896 segment.py:1891] DE DataFrame ready. Shape (17900, 341)\n",
      "2020-07-10 19:38:02,859  SpectraRegion  INFO: DE Sample DataFrame ready. Shape (341, 3)\n",
      "I0710 19:38:02.859832 139724973016896 segment.py:1899] DE Sample DataFrame ready. Shape (341, 3)\n",
      "2020-07-10 19:38:02,866  SpectraRegion  INFO: Performing DE-test: ttest\n",
      "I0710 19:38:02.866565 139724973016896 segment.py:1957] Performing DE-test: ttest\n",
      "2020-07-10 19:38:03,150  SpectraRegion  INFO: DE-test (ttest) finished. Results available: ((12,), (9, 10, 11, 13, 14, 15))\n",
      "I0710 19:38:03.150112 139724973016896 segment.py:1990] DE-test (ttest) finished. Results available: ((12,), (9, 10, 11, 13, 14, 15))\n",
      "2020-07-10 19:38:03,151  SpectraRegion  INFO: Performing DE-test: rank\n",
      "I0710 19:38:03.151399 139724973016896 segment.py:1957] Performing DE-test: rank\n",
      "2020-07-10 19:38:09,695  SpectraRegion  INFO: DE-test (rank) finished. Results available: ((12,), (9, 10, 11, 13, 14, 15))\n",
      "I0710 19:38:09.695880 139724973016896 segment.py:1990] DE-test (rank) finished. Results available: ((12,), (9, 10, 11, 13, 14, 15))\n",
      "2020-07-10 19:38:09,708  SpectraRegion  INFO: DE result for case ((12,), (9, 10, 11, 13, 14, 15)) with (17900, 7) results\n",
      "I0710 19:38:09.708575 139724973016896 segment.py:1579] DE result for case ((12,), (9, 10, 11, 13, 14, 15)) with (17900, 7) results\n",
      "2020-07-10 19:38:09,710  SpectraRegion  INFO: DE result logFC inversed\n",
      "I0710 19:38:09.710359 139724973016896 segment.py:1602] DE result logFC inversed\n",
      "2020-07-10 19:38:09,716  SpectraRegion  INFO: DE result for case ((12,), (9, 10, 11, 13, 14, 15)) with (870, 7) results (filtered)\n",
      "I0710 19:38:09.716622 139724973016896 segment.py:1607] DE result for case ((12,), (9, 10, 11, 13, 14, 15)) with (870, 7) results (filtered)\n",
      "2020-07-10 19:38:09,731  SpectraRegion  INFO: Created matrices with shape (87, 17900) and (254, 17900) (target, bg)\n",
      "I0710 19:38:09.731814 139724973016896 segment.py:1613] Created matrices with shape (87, 17900) and (254, 17900) (target, bg)\n",
      "2020-07-10 19:38:12,008  SpectraRegion  INFO: DE result for case ((12,), (9, 10, 11, 13, 14, 15)) with (17900, 7) results\n",
      "I0710 19:38:12.008604 139724973016896 segment.py:1579] DE result for case ((12,), (9, 10, 11, 13, 14, 15)) with (17900, 7) results\n",
      "2020-07-10 19:38:12,010  SpectraRegion  INFO: DE result logFC inversed\n",
      "I0710 19:38:12.010648 139724973016896 segment.py:1602] DE result logFC inversed\n",
      "2020-07-10 19:38:12,015  SpectraRegion  INFO: DE result for case ((12,), (9, 10, 11, 13, 14, 15)) with (869, 7) results (filtered)\n",
      "I0710 19:38:12.015602 139724973016896 segment.py:1607] DE result for case ((12,), (9, 10, 11, 13, 14, 15)) with (869, 7) results (filtered)\n",
      "2020-07-10 19:38:12,030  SpectraRegion  INFO: Created matrices with shape (87, 17900) and (254, 17900) (target, bg)\n",
      "I0710 19:38:12.030594 139724973016896 segment.py:1613] Created matrices with shape (87, 17900) and (254, 17900) (target, bg)\n",
      "2020-07-10 19:38:14,354  SpectraRegion  INFO: DE data for case: [15]\n",
      "I0710 19:38:14.354479 139724973016896 segment.py:1842] DE data for case: [15]\n",
      "2020-07-10 19:38:14,356  SpectraRegion  INFO: DE data for control: [12, 14, 11, 13, 10, 9]\n",
      "I0710 19:38:14.356612 139724973016896 segment.py:1843] DE data for control: [12, 14, 11, 13, 10, 9]\n",
      "2020-07-10 19:38:14,358  SpectraRegion  INFO: DE result key: ((15,), (9, 10, 11, 12, 13, 14))\n",
      "I0710 19:38:14.358382 139724973016896 segment.py:1847] DE result key: ((15,), (9, 10, 11, 12, 13, 14))\n"
     ]
    },
    {
     "name": "stdout",
     "output_type": "stream",
     "text": [
      "Running [15] against [12, 14, 11, 13, 10, 9]\n"
     ]
    },
    {
     "name": "stderr",
     "output_type": "stream",
     "text": [
      "2020-07-10 19:38:14,621  SpectraRegion  INFO: DE DataFrame ready. Shape (17900, 341)\n",
      "I0710 19:38:14.621128 139724973016896 segment.py:1891] DE DataFrame ready. Shape (17900, 341)\n",
      "2020-07-10 19:38:14,625  SpectraRegion  INFO: DE Sample DataFrame ready. Shape (341, 3)\n",
      "I0710 19:38:14.625103 139724973016896 segment.py:1899] DE Sample DataFrame ready. Shape (341, 3)\n",
      "2020-07-10 19:38:14,632  SpectraRegion  INFO: Performing DE-test: ttest\n",
      "I0710 19:38:14.632958 139724973016896 segment.py:1957] Performing DE-test: ttest\n",
      "2020-07-10 19:38:14,917  SpectraRegion  INFO: DE-test (ttest) finished. Results available: ((15,), (9, 10, 11, 12, 13, 14))\n",
      "I0710 19:38:14.917707 139724973016896 segment.py:1990] DE-test (ttest) finished. Results available: ((15,), (9, 10, 11, 12, 13, 14))\n",
      "2020-07-10 19:38:14,919  SpectraRegion  INFO: Performing DE-test: rank\n",
      "I0710 19:38:14.919134 139724973016896 segment.py:1957] Performing DE-test: rank\n",
      "2020-07-10 19:38:21,409  SpectraRegion  INFO: DE-test (rank) finished. Results available: ((15,), (9, 10, 11, 12, 13, 14))\n",
      "I0710 19:38:21.409941 139724973016896 segment.py:1990] DE-test (rank) finished. Results available: ((15,), (9, 10, 11, 12, 13, 14))\n",
      "2020-07-10 19:38:21,422  SpectraRegion  INFO: DE result for case ((15,), (9, 10, 11, 12, 13, 14)) with (17900, 7) results\n",
      "I0710 19:38:21.422283 139724973016896 segment.py:1579] DE result for case ((15,), (9, 10, 11, 12, 13, 14)) with (17900, 7) results\n",
      "2020-07-10 19:38:21,424  SpectraRegion  INFO: DE result logFC inversed\n",
      "I0710 19:38:21.424246 139724973016896 segment.py:1602] DE result logFC inversed\n",
      "2020-07-10 19:38:21,429  SpectraRegion  INFO: DE result for case ((15,), (9, 10, 11, 12, 13, 14)) with (104, 7) results (filtered)\n",
      "I0710 19:38:21.429317 139724973016896 segment.py:1607] DE result for case ((15,), (9, 10, 11, 12, 13, 14)) with (104, 7) results (filtered)\n",
      "2020-07-10 19:38:21,446  SpectraRegion  INFO: Created matrices with shape (91, 17900) and (250, 17900) (target, bg)\n",
      "I0710 19:38:21.446014 139724973016896 segment.py:1613] Created matrices with shape (91, 17900) and (250, 17900) (target, bg)\n",
      "2020-07-10 19:38:21,566  SpectraRegion  INFO: DE result for case ((15,), (9, 10, 11, 12, 13, 14)) with (17900, 7) results\n",
      "I0710 19:38:21.566660 139724973016896 segment.py:1579] DE result for case ((15,), (9, 10, 11, 12, 13, 14)) with (17900, 7) results\n",
      "2020-07-10 19:38:21,568  SpectraRegion  INFO: DE result logFC inversed\n",
      "I0710 19:38:21.568115 139724973016896 segment.py:1602] DE result logFC inversed\n",
      "2020-07-10 19:38:21,572  SpectraRegion  INFO: DE result for case ((15,), (9, 10, 11, 12, 13, 14)) with (76, 7) results (filtered)\n",
      "I0710 19:38:21.572855 139724973016896 segment.py:1607] DE result for case ((15,), (9, 10, 11, 12, 13, 14)) with (76, 7) results (filtered)\n",
      "2020-07-10 19:38:21,588  SpectraRegion  INFO: Created matrices with shape (91, 17900) and (250, 17900) (target, bg)\n",
      "I0710 19:38:21.588536 139724973016896 segment.py:1613] Created matrices with shape (91, 17900) and (250, 17900) (target, bg)\n",
      "2020-07-10 19:38:21,685  SpectraRegion  INFO: DE data for case: [14]\n",
      "I0710 19:38:21.685255 139724973016896 segment.py:1842] DE data for case: [14]\n",
      "2020-07-10 19:38:21,687  SpectraRegion  INFO: DE data for control: [12, 15, 11, 13, 10, 9]\n",
      "I0710 19:38:21.687143 139724973016896 segment.py:1843] DE data for control: [12, 15, 11, 13, 10, 9]\n",
      "2020-07-10 19:38:21,689  SpectraRegion  INFO: DE result key: ((14,), (9, 10, 11, 12, 13, 15))\n",
      "I0710 19:38:21.689156 139724973016896 segment.py:1847] DE result key: ((14,), (9, 10, 11, 12, 13, 15))\n"
     ]
    },
    {
     "name": "stdout",
     "output_type": "stream",
     "text": [
      "Running [14] against [12, 15, 11, 13, 10, 9]\n"
     ]
    },
    {
     "name": "stderr",
     "output_type": "stream",
     "text": [
      "2020-07-10 19:38:21,955  SpectraRegion  INFO: DE DataFrame ready. Shape (17900, 341)\n",
      "I0710 19:38:21.955563 139724973016896 segment.py:1891] DE DataFrame ready. Shape (17900, 341)\n",
      "2020-07-10 19:38:21,960  SpectraRegion  INFO: DE Sample DataFrame ready. Shape (341, 3)\n",
      "I0710 19:38:21.960917 139724973016896 segment.py:1899] DE Sample DataFrame ready. Shape (341, 3)\n",
      "2020-07-10 19:38:21,969  SpectraRegion  INFO: Performing DE-test: ttest\n",
      "I0710 19:38:21.969095 139724973016896 segment.py:1957] Performing DE-test: ttest\n",
      "2020-07-10 19:38:22,247  SpectraRegion  INFO: DE-test (ttest) finished. Results available: ((14,), (9, 10, 11, 12, 13, 15))\n",
      "I0710 19:38:22.247977 139724973016896 segment.py:1990] DE-test (ttest) finished. Results available: ((14,), (9, 10, 11, 12, 13, 15))\n",
      "2020-07-10 19:38:22,249  SpectraRegion  INFO: Performing DE-test: rank\n",
      "I0710 19:38:22.249332 139724973016896 segment.py:1957] Performing DE-test: rank\n",
      "2020-07-10 19:38:28,719  SpectraRegion  INFO: DE-test (rank) finished. Results available: ((14,), (9, 10, 11, 12, 13, 15))\n",
      "I0710 19:38:28.719662 139724973016896 segment.py:1990] DE-test (rank) finished. Results available: ((14,), (9, 10, 11, 12, 13, 15))\n",
      "2020-07-10 19:38:28,731  SpectraRegion  INFO: DE result for case ((14,), (9, 10, 11, 12, 13, 15)) with (17900, 7) results\n",
      "I0710 19:38:28.731731 139724973016896 segment.py:1579] DE result for case ((14,), (9, 10, 11, 12, 13, 15)) with (17900, 7) results\n",
      "2020-07-10 19:38:28,734  SpectraRegion  INFO: DE result logFC inversed\n",
      "I0710 19:38:28.734028 139724973016896 segment.py:1602] DE result logFC inversed\n",
      "2020-07-10 19:38:28,739  SpectraRegion  INFO: DE result for case ((14,), (9, 10, 11, 12, 13, 15)) with (685, 7) results (filtered)\n",
      "I0710 19:38:28.739620 139724973016896 segment.py:1607] DE result for case ((14,), (9, 10, 11, 12, 13, 15)) with (685, 7) results (filtered)\n",
      "2020-07-10 19:38:28,756  SpectraRegion  INFO: Created matrices with shape (41, 17900) and (300, 17900) (target, bg)\n",
      "I0710 19:38:28.756085 139724973016896 segment.py:1613] Created matrices with shape (41, 17900) and (300, 17900) (target, bg)\n",
      "2020-07-10 19:38:31,231  SpectraRegion  INFO: DE result for case ((14,), (9, 10, 11, 12, 13, 15)) with (17900, 7) results\n",
      "I0710 19:38:31.231581 139724973016896 segment.py:1579] DE result for case ((14,), (9, 10, 11, 12, 13, 15)) with (17900, 7) results\n",
      "2020-07-10 19:38:31,233  SpectraRegion  INFO: DE result logFC inversed\n",
      "I0710 19:38:31.233033 139724973016896 segment.py:1602] DE result logFC inversed\n",
      "2020-07-10 19:38:31,238  SpectraRegion  INFO: DE result for case ((14,), (9, 10, 11, 12, 13, 15)) with (665, 7) results (filtered)\n",
      "I0710 19:38:31.238436 139724973016896 segment.py:1607] DE result for case ((14,), (9, 10, 11, 12, 13, 15)) with (665, 7) results (filtered)\n",
      "2020-07-10 19:38:31,253  SpectraRegion  INFO: Created matrices with shape (41, 17900) and (300, 17900) (target, bg)\n",
      "I0710 19:38:31.253264 139724973016896 segment.py:1613] Created matrices with shape (41, 17900) and (300, 17900) (target, bg)\n",
      "2020-07-10 19:38:33,711  SpectraRegion  INFO: DE data for case: [11]\n",
      "I0710 19:38:33.711174 139724973016896 segment.py:1842] DE data for case: [11]\n",
      "2020-07-10 19:38:33,712  SpectraRegion  INFO: DE data for control: [12, 15, 14, 13, 10, 9]\n",
      "I0710 19:38:33.712693 139724973016896 segment.py:1843] DE data for control: [12, 15, 14, 13, 10, 9]\n",
      "2020-07-10 19:38:33,714  SpectraRegion  INFO: DE result key: ((11,), (9, 10, 12, 13, 14, 15))\n",
      "I0710 19:38:33.714759 139724973016896 segment.py:1847] DE result key: ((11,), (9, 10, 12, 13, 14, 15))\n"
     ]
    },
    {
     "name": "stdout",
     "output_type": "stream",
     "text": [
      "Running [11] against [12, 15, 14, 13, 10, 9]\n"
     ]
    },
    {
     "name": "stderr",
     "output_type": "stream",
     "text": [
      "2020-07-10 19:38:33,981  SpectraRegion  INFO: DE DataFrame ready. Shape (17900, 341)\n",
      "I0710 19:38:33.981726 139724973016896 segment.py:1891] DE DataFrame ready. Shape (17900, 341)\n",
      "2020-07-10 19:38:33,986  SpectraRegion  INFO: DE Sample DataFrame ready. Shape (341, 3)\n",
      "I0710 19:38:33.986432 139724973016896 segment.py:1899] DE Sample DataFrame ready. Shape (341, 3)\n",
      "2020-07-10 19:38:33,992  SpectraRegion  INFO: Performing DE-test: ttest\n",
      "I0710 19:38:33.992973 139724973016896 segment.py:1957] Performing DE-test: ttest\n",
      "2020-07-10 19:38:34,275  SpectraRegion  INFO: DE-test (ttest) finished. Results available: ((11,), (9, 10, 12, 13, 14, 15))\n",
      "I0710 19:38:34.275221 139724973016896 segment.py:1990] DE-test (ttest) finished. Results available: ((11,), (9, 10, 12, 13, 14, 15))\n",
      "2020-07-10 19:38:34,277  SpectraRegion  INFO: Performing DE-test: rank\n",
      "I0710 19:38:34.277215 139724973016896 segment.py:1957] Performing DE-test: rank\n",
      "2020-07-10 19:38:40,897  SpectraRegion  INFO: DE-test (rank) finished. Results available: ((11,), (9, 10, 12, 13, 14, 15))\n",
      "I0710 19:38:40.897027 139724973016896 segment.py:1990] DE-test (rank) finished. Results available: ((11,), (9, 10, 12, 13, 14, 15))\n",
      "2020-07-10 19:38:40,909  SpectraRegion  INFO: DE result for case ((11,), (9, 10, 12, 13, 14, 15)) with (17900, 7) results\n",
      "I0710 19:38:40.909625 139724973016896 segment.py:1579] DE result for case ((11,), (9, 10, 12, 13, 14, 15)) with (17900, 7) results\n",
      "2020-07-10 19:38:40,911  SpectraRegion  INFO: DE result logFC inversed\n",
      "I0710 19:38:40.911638 139724973016896 segment.py:1602] DE result logFC inversed\n",
      "2020-07-10 19:38:40,916  SpectraRegion  INFO: DE result for case ((11,), (9, 10, 12, 13, 14, 15)) with (1879, 7) results (filtered)\n",
      "I0710 19:38:40.916391 139724973016896 segment.py:1607] DE result for case ((11,), (9, 10, 12, 13, 14, 15)) with (1879, 7) results (filtered)\n",
      "2020-07-10 19:38:40,931  SpectraRegion  INFO: Created matrices with shape (24, 17900) and (317, 17900) (target, bg)\n",
      "I0710 19:38:40.931595 139724973016896 segment.py:1613] Created matrices with shape (24, 17900) and (317, 17900) (target, bg)\n",
      "2020-07-10 19:38:47,822  SpectraRegion  INFO: DE result for case ((11,), (9, 10, 12, 13, 14, 15)) with (17900, 7) results\n",
      "I0710 19:38:47.822725 139724973016896 segment.py:1579] DE result for case ((11,), (9, 10, 12, 13, 14, 15)) with (17900, 7) results\n",
      "2020-07-10 19:38:47,824  SpectraRegion  INFO: DE result logFC inversed\n",
      "I0710 19:38:47.824455 139724973016896 segment.py:1602] DE result logFC inversed\n",
      "2020-07-10 19:38:47,829  SpectraRegion  INFO: DE result for case ((11,), (9, 10, 12, 13, 14, 15)) with (1592, 7) results (filtered)\n",
      "I0710 19:38:47.829218 139724973016896 segment.py:1607] DE result for case ((11,), (9, 10, 12, 13, 14, 15)) with (1592, 7) results (filtered)\n",
      "2020-07-10 19:38:47,845  SpectraRegion  INFO: Created matrices with shape (24, 17900) and (317, 17900) (target, bg)\n",
      "I0710 19:38:47.845939 139724973016896 segment.py:1613] Created matrices with shape (24, 17900) and (317, 17900) (target, bg)\n",
      "2020-07-10 19:38:53,697  SpectraRegion  INFO: DE data for case: [13]\n",
      "I0710 19:38:53.697139 139724973016896 segment.py:1842] DE data for case: [13]\n",
      "2020-07-10 19:38:53,699  SpectraRegion  INFO: DE data for control: [12, 15, 14, 11, 10, 9]\n",
      "I0710 19:38:53.699218 139724973016896 segment.py:1843] DE data for control: [12, 15, 14, 11, 10, 9]\n",
      "2020-07-10 19:38:53,701  SpectraRegion  INFO: DE result key: ((13,), (9, 10, 11, 12, 14, 15))\n",
      "I0710 19:38:53.701428 139724973016896 segment.py:1847] DE result key: ((13,), (9, 10, 11, 12, 14, 15))\n"
     ]
    },
    {
     "name": "stdout",
     "output_type": "stream",
     "text": [
      "Running [13] against [12, 15, 14, 11, 10, 9]\n"
     ]
    },
    {
     "name": "stderr",
     "output_type": "stream",
     "text": [
      "2020-07-10 19:38:53,976  SpectraRegion  INFO: DE DataFrame ready. Shape (17900, 341)\n",
      "I0710 19:38:53.976966 139724973016896 segment.py:1891] DE DataFrame ready. Shape (17900, 341)\n",
      "2020-07-10 19:38:53,982  SpectraRegion  INFO: DE Sample DataFrame ready. Shape (341, 3)\n",
      "I0710 19:38:53.982027 139724973016896 segment.py:1899] DE Sample DataFrame ready. Shape (341, 3)\n",
      "2020-07-10 19:38:53,989  SpectraRegion  INFO: Performing DE-test: ttest\n",
      "I0710 19:38:53.989801 139724973016896 segment.py:1957] Performing DE-test: ttest\n",
      "2020-07-10 19:38:54,272  SpectraRegion  INFO: DE-test (ttest) finished. Results available: ((13,), (9, 10, 11, 12, 14, 15))\n",
      "I0710 19:38:54.272824 139724973016896 segment.py:1990] DE-test (ttest) finished. Results available: ((13,), (9, 10, 11, 12, 14, 15))\n",
      "2020-07-10 19:38:54,274  SpectraRegion  INFO: Performing DE-test: rank\n",
      "I0710 19:38:54.274765 139724973016896 segment.py:1957] Performing DE-test: rank\n",
      "2020-07-10 19:39:00,842  SpectraRegion  INFO: DE-test (rank) finished. Results available: ((13,), (9, 10, 11, 12, 14, 15))\n",
      "I0710 19:39:00.842864 139724973016896 segment.py:1990] DE-test (rank) finished. Results available: ((13,), (9, 10, 11, 12, 14, 15))\n",
      "2020-07-10 19:39:00,855  SpectraRegion  INFO: DE result for case ((13,), (9, 10, 11, 12, 14, 15)) with (17900, 7) results\n",
      "I0710 19:39:00.855892 139724973016896 segment.py:1579] DE result for case ((13,), (9, 10, 11, 12, 14, 15)) with (17900, 7) results\n",
      "2020-07-10 19:39:00,857  SpectraRegion  INFO: DE result logFC inversed\n",
      "I0710 19:39:00.857235 139724973016896 segment.py:1602] DE result logFC inversed\n",
      "2020-07-10 19:39:00,862  SpectraRegion  INFO: DE result for case ((13,), (9, 10, 11, 12, 14, 15)) with (1082, 7) results (filtered)\n",
      "I0710 19:39:00.862611 139724973016896 segment.py:1607] DE result for case ((13,), (9, 10, 11, 12, 14, 15)) with (1082, 7) results (filtered)\n",
      "2020-07-10 19:39:00,878  SpectraRegion  INFO: Created matrices with shape (28, 17900) and (313, 17900) (target, bg)\n",
      "I0710 19:39:00.878994 139724973016896 segment.py:1613] Created matrices with shape (28, 17900) and (313, 17900) (target, bg)\n",
      "2020-07-10 19:39:04,772  SpectraRegion  INFO: DE result for case ((13,), (9, 10, 11, 12, 14, 15)) with (17900, 7) results\n",
      "I0710 19:39:04.772964 139724973016896 segment.py:1579] DE result for case ((13,), (9, 10, 11, 12, 14, 15)) with (17900, 7) results\n",
      "2020-07-10 19:39:04,774  SpectraRegion  INFO: DE result logFC inversed\n",
      "I0710 19:39:04.774569 139724973016896 segment.py:1602] DE result logFC inversed\n",
      "2020-07-10 19:39:04,779  SpectraRegion  INFO: DE result for case ((13,), (9, 10, 11, 12, 14, 15)) with (1000, 7) results (filtered)\n",
      "I0710 19:39:04.779472 139724973016896 segment.py:1607] DE result for case ((13,), (9, 10, 11, 12, 14, 15)) with (1000, 7) results (filtered)\n",
      "2020-07-10 19:39:04,796  SpectraRegion  INFO: Created matrices with shape (28, 17900) and (313, 17900) (target, bg)\n",
      "I0710 19:39:04.796688 139724973016896 segment.py:1613] Created matrices with shape (28, 17900) and (313, 17900) (target, bg)\n",
      "2020-07-10 19:39:08,498  SpectraRegion  INFO: DE data for case: [10]\n",
      "I0710 19:39:08.498812 139724973016896 segment.py:1842] DE data for case: [10]\n",
      "2020-07-10 19:39:08,500  SpectraRegion  INFO: DE data for control: [12, 15, 14, 11, 13, 9]\n",
      "I0710 19:39:08.500880 139724973016896 segment.py:1843] DE data for control: [12, 15, 14, 11, 13, 9]\n",
      "2020-07-10 19:39:08,503  SpectraRegion  INFO: DE result key: ((10,), (9, 11, 12, 13, 14, 15))\n",
      "I0710 19:39:08.503225 139724973016896 segment.py:1847] DE result key: ((10,), (9, 11, 12, 13, 14, 15))\n"
     ]
    },
    {
     "name": "stdout",
     "output_type": "stream",
     "text": [
      "Running [10] against [12, 15, 14, 11, 13, 9]\n"
     ]
    },
    {
     "name": "stderr",
     "output_type": "stream",
     "text": [
      "2020-07-10 19:39:08,783  SpectraRegion  INFO: DE DataFrame ready. Shape (17900, 341)\n",
      "I0710 19:39:08.783707 139724973016896 segment.py:1891] DE DataFrame ready. Shape (17900, 341)\n",
      "2020-07-10 19:39:08,790  SpectraRegion  INFO: DE Sample DataFrame ready. Shape (341, 3)\n",
      "I0710 19:39:08.790987 139724973016896 segment.py:1899] DE Sample DataFrame ready. Shape (341, 3)\n",
      "2020-07-10 19:39:08,802  SpectraRegion  INFO: Performing DE-test: ttest\n",
      "I0710 19:39:08.802238 139724973016896 segment.py:1957] Performing DE-test: ttest\n",
      "2020-07-10 19:39:09,109  SpectraRegion  INFO: DE-test (ttest) finished. Results available: ((10,), (9, 11, 12, 13, 14, 15))\n",
      "I0710 19:39:09.109103 139724973016896 segment.py:1990] DE-test (ttest) finished. Results available: ((10,), (9, 11, 12, 13, 14, 15))\n",
      "2020-07-10 19:39:09,110  SpectraRegion  INFO: Performing DE-test: rank\n",
      "I0710 19:39:09.110500 139724973016896 segment.py:1957] Performing DE-test: rank\n",
      "2020-07-10 19:39:15,712  SpectraRegion  INFO: DE-test (rank) finished. Results available: ((10,), (9, 11, 12, 13, 14, 15))\n",
      "I0710 19:39:15.712247 139724973016896 segment.py:1990] DE-test (rank) finished. Results available: ((10,), (9, 11, 12, 13, 14, 15))\n",
      "2020-07-10 19:39:15,724  SpectraRegion  INFO: DE result for case ((10,), (9, 11, 12, 13, 14, 15)) with (17900, 7) results\n",
      "I0710 19:39:15.724840 139724973016896 segment.py:1579] DE result for case ((10,), (9, 11, 12, 13, 14, 15)) with (17900, 7) results\n",
      "2020-07-10 19:39:15,726  SpectraRegion  INFO: DE result logFC inversed\n",
      "I0710 19:39:15.726283 139724973016896 segment.py:1602] DE result logFC inversed\n",
      "2020-07-10 19:39:15,732  SpectraRegion  INFO: DE result for case ((10,), (9, 11, 12, 13, 14, 15)) with (1044, 7) results (filtered)\n",
      "I0710 19:39:15.732666 139724973016896 segment.py:1607] DE result for case ((10,), (9, 11, 12, 13, 14, 15)) with (1044, 7) results (filtered)\n",
      "2020-07-10 19:39:15,747  SpectraRegion  INFO: Created matrices with shape (36, 17900) and (305, 17900) (target, bg)\n",
      "I0710 19:39:15.747370 139724973016896 segment.py:1613] Created matrices with shape (36, 17900) and (305, 17900) (target, bg)\n",
      "2020-07-10 19:39:19,212  SpectraRegion  INFO: DE result for case ((10,), (9, 11, 12, 13, 14, 15)) with (17900, 7) results\n",
      "I0710 19:39:19.212738 139724973016896 segment.py:1579] DE result for case ((10,), (9, 11, 12, 13, 14, 15)) with (17900, 7) results\n",
      "2020-07-10 19:39:19,215  SpectraRegion  INFO: DE result logFC inversed\n",
      "I0710 19:39:19.215047 139724973016896 segment.py:1602] DE result logFC inversed\n",
      "2020-07-10 19:39:19,219  SpectraRegion  INFO: DE result for case ((10,), (9, 11, 12, 13, 14, 15)) with (1046, 7) results (filtered)\n",
      "I0710 19:39:19.219562 139724973016896 segment.py:1607] DE result for case ((10,), (9, 11, 12, 13, 14, 15)) with (1046, 7) results (filtered)\n",
      "2020-07-10 19:39:19,234  SpectraRegion  INFO: Created matrices with shape (36, 17900) and (305, 17900) (target, bg)\n",
      "I0710 19:39:19.234488 139724973016896 segment.py:1613] Created matrices with shape (36, 17900) and (305, 17900) (target, bg)\n",
      "2020-07-10 19:39:22,655  SpectraRegion  INFO: DE data for case: [9]\n",
      "I0710 19:39:22.655938 139724973016896 segment.py:1842] DE data for case: [9]\n",
      "2020-07-10 19:39:22,657  SpectraRegion  INFO: DE data for control: [12, 15, 14, 11, 13, 10]\n",
      "I0710 19:39:22.657852 139724973016896 segment.py:1843] DE data for control: [12, 15, 14, 11, 13, 10]\n",
      "2020-07-10 19:39:22,659  SpectraRegion  INFO: DE result key: ((9,), (10, 11, 12, 13, 14, 15))\n",
      "I0710 19:39:22.659481 139724973016896 segment.py:1847] DE result key: ((9,), (10, 11, 12, 13, 14, 15))\n"
     ]
    },
    {
     "name": "stdout",
     "output_type": "stream",
     "text": [
      "Running [9] against [12, 15, 14, 11, 13, 10]\n"
     ]
    },
    {
     "name": "stderr",
     "output_type": "stream",
     "text": [
      "2020-07-10 19:39:22,950  SpectraRegion  INFO: DE DataFrame ready. Shape (17900, 341)\n",
      "I0710 19:39:22.950576 139724973016896 segment.py:1891] DE DataFrame ready. Shape (17900, 341)\n",
      "2020-07-10 19:39:22,955  SpectraRegion  INFO: DE Sample DataFrame ready. Shape (341, 3)\n",
      "I0710 19:39:22.955066 139724973016896 segment.py:1899] DE Sample DataFrame ready. Shape (341, 3)\n",
      "2020-07-10 19:39:22,963  SpectraRegion  INFO: Performing DE-test: ttest\n",
      "I0710 19:39:22.963067 139724973016896 segment.py:1957] Performing DE-test: ttest\n",
      "2020-07-10 19:39:23,202  SpectraRegion  INFO: DE-test (ttest) finished. Results available: ((9,), (10, 11, 12, 13, 14, 15))\n",
      "I0710 19:39:23.202058 139724973016896 segment.py:1990] DE-test (ttest) finished. Results available: ((9,), (10, 11, 12, 13, 14, 15))\n",
      "2020-07-10 19:39:23,203  SpectraRegion  INFO: Performing DE-test: rank\n",
      "I0710 19:39:23.203319 139724973016896 segment.py:1957] Performing DE-test: rank\n",
      "2020-07-10 19:39:29,765  SpectraRegion  INFO: DE-test (rank) finished. Results available: ((9,), (10, 11, 12, 13, 14, 15))\n",
      "I0710 19:39:29.765565 139724973016896 segment.py:1990] DE-test (rank) finished. Results available: ((9,), (10, 11, 12, 13, 14, 15))\n",
      "2020-07-10 19:39:29,784  SpectraRegion  INFO: DE result for case ((9,), (10, 11, 12, 13, 14, 15)) with (17900, 7) results\n",
      "I0710 19:39:29.784126 139724973016896 segment.py:1579] DE result for case ((9,), (10, 11, 12, 13, 14, 15)) with (17900, 7) results\n",
      "2020-07-10 19:39:29,786  SpectraRegion  INFO: DE result logFC inversed\n",
      "I0710 19:39:29.786031 139724973016896 segment.py:1602] DE result logFC inversed\n",
      "2020-07-10 19:39:29,791  SpectraRegion  INFO: DE result for case ((9,), (10, 11, 12, 13, 14, 15)) with (1450, 7) results (filtered)\n",
      "I0710 19:39:29.791711 139724973016896 segment.py:1607] DE result for case ((9,), (10, 11, 12, 13, 14, 15)) with (1450, 7) results (filtered)\n",
      "2020-07-10 19:39:29,862  SpectraRegion  INFO: Created matrices with shape (34, 17900) and (307, 17900) (target, bg)\n",
      "I0710 19:39:29.862313 139724973016896 segment.py:1613] Created matrices with shape (34, 17900) and (307, 17900) (target, bg)\n",
      "2020-07-10 19:39:35,803  SpectraRegion  INFO: DE result for case ((9,), (10, 11, 12, 13, 14, 15)) with (17900, 7) results\n",
      "I0710 19:39:35.803448 139724973016896 segment.py:1579] DE result for case ((9,), (10, 11, 12, 13, 14, 15)) with (17900, 7) results\n",
      "2020-07-10 19:39:35,804  SpectraRegion  INFO: DE result logFC inversed\n",
      "I0710 19:39:35.804759 139724973016896 segment.py:1602] DE result logFC inversed\n",
      "2020-07-10 19:39:35,811  SpectraRegion  INFO: DE result for case ((9,), (10, 11, 12, 13, 14, 15)) with (1444, 7) results (filtered)\n",
      "I0710 19:39:35.811126 139724973016896 segment.py:1607] DE result for case ((9,), (10, 11, 12, 13, 14, 15)) with (1444, 7) results (filtered)\n",
      "2020-07-10 19:39:35,884  SpectraRegion  INFO: Created matrices with shape (34, 17900) and (307, 17900) (target, bg)\n",
      "I0710 19:39:35.884289 139724973016896 segment.py:1613] Created matrices with shape (34, 17900) and (307, 17900) (target, bg)\n",
      "2020-07-10 19:39:42,020  SpectraRegion  INFO: DE data for case: [0]\n",
      "I0710 19:39:42.020748 139724973016896 segment.py:1842] DE data for case: [0]\n",
      "2020-07-10 19:39:42,022  SpectraRegion  INFO: DE data for control: [12, 15, 14, 11, 13, 10, 9]\n",
      "I0710 19:39:42.022654 139724973016896 segment.py:1843] DE data for control: [12, 15, 14, 11, 13, 10, 9]\n",
      "2020-07-10 19:39:42,024  SpectraRegion  INFO: DE result key: ((0,), (9, 10, 11, 12, 13, 14, 15))\n",
      "I0710 19:39:42.024369 139724973016896 segment.py:1847] DE result key: ((0,), (9, 10, 11, 12, 13, 14, 15))\n"
     ]
    },
    {
     "name": "stdout",
     "output_type": "stream",
     "text": [
      "Running [0] against [12, 15, 14, 11, 13, 10, 9]\n"
     ]
    },
    {
     "name": "stderr",
     "output_type": "stream",
     "text": [
      "2020-07-10 19:40:03,189  SpectraRegion  INFO: DE DataFrame ready. Shape (17900, 3068)\n",
      "I0710 19:40:03.189916 139724973016896 segment.py:1891] DE DataFrame ready. Shape (17900, 3068)\n",
      "2020-07-10 19:40:03,194  SpectraRegion  INFO: DE Sample DataFrame ready. Shape (3068, 3)\n",
      "I0710 19:40:03.194784 139724973016896 segment.py:1899] DE Sample DataFrame ready. Shape (3068, 3)\n",
      "2020-07-10 19:40:03,204  SpectraRegion  INFO: Performing DE-test: ttest\n",
      "I0710 19:40:03.204388 139724973016896 segment.py:1957] Performing DE-test: ttest\n",
      "2020-07-10 19:40:08,445  SpectraRegion  INFO: DE-test (ttest) finished. Results available: ((0,), (9, 10, 11, 12, 13, 14, 15))\n",
      "I0710 19:40:08.445296 139724973016896 segment.py:1990] DE-test (ttest) finished. Results available: ((0,), (9, 10, 11, 12, 13, 14, 15))\n",
      "2020-07-10 19:40:08,446  SpectraRegion  INFO: Performing DE-test: rank\n",
      "I0710 19:40:08.446782 139724973016896 segment.py:1957] Performing DE-test: rank\n",
      "2020-07-10 19:40:29,314  SpectraRegion  INFO: DE-test (rank) finished. Results available: ((0,), (9, 10, 11, 12, 13, 14, 15))\n",
      "I0710 19:40:29.314815 139724973016896 segment.py:1990] DE-test (rank) finished. Results available: ((0,), (9, 10, 11, 12, 13, 14, 15))\n",
      "2020-07-10 19:40:29,400  SpectraRegion  INFO: DE result for case ((0,), (9, 10, 11, 12, 13, 14, 15)) with (17900, 7) results\n",
      "I0710 19:40:29.400004 139724973016896 segment.py:1579] DE result for case ((0,), (9, 10, 11, 12, 13, 14, 15)) with (17900, 7) results\n",
      "2020-07-10 19:40:29,402  SpectraRegion  INFO: DE result logFC inversed\n",
      "I0710 19:40:29.402153 139724973016896 segment.py:1602] DE result logFC inversed\n",
      "2020-07-10 19:40:29,408  SpectraRegion  INFO: DE result for case ((0,), (9, 10, 11, 12, 13, 14, 15)) with (820, 7) results (filtered)\n",
      "I0710 19:40:29.408433 139724973016896 segment.py:1607] DE result for case ((0,), (9, 10, 11, 12, 13, 14, 15)) with (820, 7) results (filtered)\n",
      "2020-07-10 19:40:29,994  SpectraRegion  INFO: Created matrices with shape (2727, 17900) and (341, 17900) (target, bg)\n",
      "I0710 19:40:29.994520 139724973016896 segment.py:1613] Created matrices with shape (2727, 17900) and (341, 17900) (target, bg)\n",
      "2020-07-10 19:40:32,865  SpectraRegion  INFO: DE result for case ((0,), (9, 10, 11, 12, 13, 14, 15)) with (17900, 7) results\n",
      "I0710 19:40:32.865182 139724973016896 segment.py:1579] DE result for case ((0,), (9, 10, 11, 12, 13, 14, 15)) with (17900, 7) results\n",
      "2020-07-10 19:40:32,867  SpectraRegion  INFO: DE result logFC inversed\n",
      "I0710 19:40:32.867231 139724973016896 segment.py:1602] DE result logFC inversed\n",
      "2020-07-10 19:40:32,873  SpectraRegion  INFO: DE result for case ((0,), (9, 10, 11, 12, 13, 14, 15)) with (820, 7) results (filtered)\n",
      "I0710 19:40:32.873175 139724973016896 segment.py:1607] DE result for case ((0,), (9, 10, 11, 12, 13, 14, 15)) with (820, 7) results (filtered)\n",
      "2020-07-10 19:40:33,439  SpectraRegion  INFO: Created matrices with shape (2727, 17900) and (341, 17900) (target, bg)\n",
      "I0710 19:40:33.439533 139724973016896 segment.py:1613] Created matrices with shape (2727, 17900) and (341, 17900) (target, bg)\n",
      "2020-07-10 19:40:36,280  SpectraRegion  INFO: DE data for case: [12]\n",
      "I0710 19:40:36.280597 139724973016896 segment.py:1842] DE data for case: [12]\n",
      "2020-07-10 19:40:36,282  SpectraRegion  INFO: DE data for control: [0, 15, 14, 11, 13, 10, 9]\n",
      "I0710 19:40:36.282931 139724973016896 segment.py:1843] DE data for control: [0, 15, 14, 11, 13, 10, 9]\n",
      "2020-07-10 19:40:36,284  SpectraRegion  INFO: DE result key: ((12,), (0, 9, 10, 11, 13, 14, 15))\n",
      "I0710 19:40:36.284964 139724973016896 segment.py:1847] DE result key: ((12,), (0, 9, 10, 11, 13, 14, 15))\n"
     ]
    },
    {
     "name": "stdout",
     "output_type": "stream",
     "text": [
      "Running [12] against [0, 15, 14, 11, 13, 10, 9]\n"
     ]
    },
    {
     "name": "stderr",
     "output_type": "stream",
     "text": [
      "2020-07-10 19:40:56,842  SpectraRegion  INFO: DE DataFrame ready. Shape (17900, 3068)\n",
      "I0710 19:40:56.842841 139724973016896 segment.py:1891] DE DataFrame ready. Shape (17900, 3068)\n",
      "2020-07-10 19:40:56,848  SpectraRegion  INFO: DE Sample DataFrame ready. Shape (3068, 3)\n",
      "I0710 19:40:56.848723 139724973016896 segment.py:1899] DE Sample DataFrame ready. Shape (3068, 3)\n",
      "2020-07-10 19:40:56,858  SpectraRegion  INFO: Performing DE-test: ttest\n",
      "I0710 19:40:56.858350 139724973016896 segment.py:1957] Performing DE-test: ttest\n",
      "2020-07-10 19:41:01,702  SpectraRegion  INFO: DE-test (ttest) finished. Results available: ((12,), (0, 9, 10, 11, 13, 14, 15))\n",
      "I0710 19:41:01.702031 139724973016896 segment.py:1990] DE-test (ttest) finished. Results available: ((12,), (0, 9, 10, 11, 13, 14, 15))\n",
      "2020-07-10 19:41:01,703  SpectraRegion  INFO: Performing DE-test: rank\n",
      "I0710 19:41:01.703479 139724973016896 segment.py:1957] Performing DE-test: rank\n",
      "2020-07-10 19:41:22,464  SpectraRegion  INFO: DE-test (rank) finished. Results available: ((12,), (0, 9, 10, 11, 13, 14, 15))\n",
      "I0710 19:41:22.464788 139724973016896 segment.py:1990] DE-test (rank) finished. Results available: ((12,), (0, 9, 10, 11, 13, 14, 15))\n",
      "2020-07-10 19:41:22,550  SpectraRegion  INFO: DE result for case ((12,), (0, 9, 10, 11, 13, 14, 15)) with (17900, 7) results\n",
      "I0710 19:41:22.550376 139724973016896 segment.py:1579] DE result for case ((12,), (0, 9, 10, 11, 13, 14, 15)) with (17900, 7) results\n",
      "2020-07-10 19:41:22,552  SpectraRegion  INFO: DE result logFC inversed\n",
      "I0710 19:41:22.552361 139724973016896 segment.py:1602] DE result logFC inversed\n",
      "2020-07-10 19:41:22,557  SpectraRegion  INFO: DE result for case ((12,), (0, 9, 10, 11, 13, 14, 15)) with (282, 7) results (filtered)\n",
      "I0710 19:41:22.557246 139724973016896 segment.py:1607] DE result for case ((12,), (0, 9, 10, 11, 13, 14, 15)) with (282, 7) results (filtered)\n",
      "2020-07-10 19:41:23,192  SpectraRegion  INFO: Created matrices with shape (87, 17900) and (2981, 17900) (target, bg)\n",
      "I0710 19:41:23.192588 139724973016896 segment.py:1613] Created matrices with shape (87, 17900) and (2981, 17900) (target, bg)\n",
      "2020-07-10 19:41:23,971  SpectraRegion  INFO: DE result for case ((12,), (0, 9, 10, 11, 13, 14, 15)) with (17900, 7) results\n",
      "I0710 19:41:23.971476 139724973016896 segment.py:1579] DE result for case ((12,), (0, 9, 10, 11, 13, 14, 15)) with (17900, 7) results\n",
      "2020-07-10 19:41:23,973  SpectraRegion  INFO: DE result logFC inversed\n",
      "I0710 19:41:23.973007 139724973016896 segment.py:1602] DE result logFC inversed\n",
      "2020-07-10 19:41:23,978  SpectraRegion  INFO: DE result for case ((12,), (0, 9, 10, 11, 13, 14, 15)) with (282, 7) results (filtered)\n",
      "I0710 19:41:23.978633 139724973016896 segment.py:1607] DE result for case ((12,), (0, 9, 10, 11, 13, 14, 15)) with (282, 7) results (filtered)\n",
      "2020-07-10 19:41:24,592  SpectraRegion  INFO: Created matrices with shape (87, 17900) and (2981, 17900) (target, bg)\n",
      "I0710 19:41:24.592859 139724973016896 segment.py:1613] Created matrices with shape (87, 17900) and (2981, 17900) (target, bg)\n",
      "2020-07-10 19:41:25,371  SpectraRegion  INFO: DE data for case: [15]\n",
      "I0710 19:41:25.371371 139724973016896 segment.py:1842] DE data for case: [15]\n",
      "2020-07-10 19:41:25,373  SpectraRegion  INFO: DE data for control: [0, 12, 14, 11, 13, 10, 9]\n",
      "I0710 19:41:25.373338 139724973016896 segment.py:1843] DE data for control: [0, 12, 14, 11, 13, 10, 9]\n",
      "2020-07-10 19:41:25,375  SpectraRegion  INFO: DE result key: ((15,), (0, 9, 10, 11, 12, 13, 14))\n",
      "I0710 19:41:25.375207 139724973016896 segment.py:1847] DE result key: ((15,), (0, 9, 10, 11, 12, 13, 14))\n"
     ]
    },
    {
     "name": "stdout",
     "output_type": "stream",
     "text": [
      "Running [15] against [0, 12, 14, 11, 13, 10, 9]\n"
     ]
    },
    {
     "name": "stderr",
     "output_type": "stream",
     "text": [
      "2020-07-10 19:41:46,010  SpectraRegion  INFO: DE DataFrame ready. Shape (17900, 3068)\n",
      "I0710 19:41:46.010990 139724973016896 segment.py:1891] DE DataFrame ready. Shape (17900, 3068)\n",
      "2020-07-10 19:41:46,016  SpectraRegion  INFO: DE Sample DataFrame ready. Shape (3068, 3)\n",
      "I0710 19:41:46.016816 139724973016896 segment.py:1899] DE Sample DataFrame ready. Shape (3068, 3)\n",
      "2020-07-10 19:41:46,025  SpectraRegion  INFO: Performing DE-test: ttest\n",
      "I0710 19:41:46.025832 139724973016896 segment.py:1957] Performing DE-test: ttest\n",
      "2020-07-10 19:41:50,865  SpectraRegion  INFO: DE-test (ttest) finished. Results available: ((15,), (0, 9, 10, 11, 12, 13, 14))\n",
      "I0710 19:41:50.865653 139724973016896 segment.py:1990] DE-test (ttest) finished. Results available: ((15,), (0, 9, 10, 11, 12, 13, 14))\n",
      "2020-07-10 19:41:50,867  SpectraRegion  INFO: Performing DE-test: rank\n",
      "I0710 19:41:50.867201 139724973016896 segment.py:1957] Performing DE-test: rank\n",
      "2020-07-10 19:42:11,850  SpectraRegion  INFO: DE-test (rank) finished. Results available: ((15,), (0, 9, 10, 11, 12, 13, 14))\n",
      "I0710 19:42:11.850647 139724973016896 segment.py:1990] DE-test (rank) finished. Results available: ((15,), (0, 9, 10, 11, 12, 13, 14))\n",
      "2020-07-10 19:42:11,937  SpectraRegion  INFO: DE result for case ((15,), (0, 9, 10, 11, 12, 13, 14)) with (17900, 7) results\n",
      "I0710 19:42:11.937895 139724973016896 segment.py:1579] DE result for case ((15,), (0, 9, 10, 11, 12, 13, 14)) with (17900, 7) results\n",
      "2020-07-10 19:42:11,939  SpectraRegion  INFO: DE result logFC inversed\n",
      "I0710 19:42:11.939871 139724973016896 segment.py:1602] DE result logFC inversed\n",
      "2020-07-10 19:42:11,944  SpectraRegion  INFO: DE result for case ((15,), (0, 9, 10, 11, 12, 13, 14)) with (716, 7) results (filtered)\n",
      "I0710 19:42:11.944832 139724973016896 segment.py:1607] DE result for case ((15,), (0, 9, 10, 11, 12, 13, 14)) with (716, 7) results (filtered)\n",
      "2020-07-10 19:42:12,575  SpectraRegion  INFO: Created matrices with shape (91, 17900) and (2977, 17900) (target, bg)\n",
      "I0710 19:42:12.575844 139724973016896 segment.py:1613] Created matrices with shape (91, 17900) and (2977, 17900) (target, bg)\n",
      "2020-07-10 19:42:15,152  SpectraRegion  INFO: DE result for case ((15,), (0, 9, 10, 11, 12, 13, 14)) with (17900, 7) results\n",
      "I0710 19:42:15.152617 139724973016896 segment.py:1579] DE result for case ((15,), (0, 9, 10, 11, 12, 13, 14)) with (17900, 7) results\n",
      "2020-07-10 19:42:15,154  SpectraRegion  INFO: DE result logFC inversed\n",
      "I0710 19:42:15.154197 139724973016896 segment.py:1602] DE result logFC inversed\n",
      "2020-07-10 19:42:15,159  SpectraRegion  INFO: DE result for case ((15,), (0, 9, 10, 11, 12, 13, 14)) with (716, 7) results (filtered)\n",
      "I0710 19:42:15.159872 139724973016896 segment.py:1607] DE result for case ((15,), (0, 9, 10, 11, 12, 13, 14)) with (716, 7) results (filtered)\n",
      "2020-07-10 19:42:15,778  SpectraRegion  INFO: Created matrices with shape (91, 17900) and (2977, 17900) (target, bg)\n",
      "I0710 19:42:15.778294 139724973016896 segment.py:1613] Created matrices with shape (91, 17900) and (2977, 17900) (target, bg)\n",
      "2020-07-10 19:42:18,341  SpectraRegion  INFO: DE data for case: [14]\n",
      "I0710 19:42:18.341640 139724973016896 segment.py:1842] DE data for case: [14]\n",
      "2020-07-10 19:42:18,343  SpectraRegion  INFO: DE data for control: [0, 12, 15, 11, 13, 10, 9]\n",
      "I0710 19:42:18.343684 139724973016896 segment.py:1843] DE data for control: [0, 12, 15, 11, 13, 10, 9]\n",
      "2020-07-10 19:42:18,345  SpectraRegion  INFO: DE result key: ((14,), (0, 9, 10, 11, 12, 13, 15))\n",
      "I0710 19:42:18.345863 139724973016896 segment.py:1847] DE result key: ((14,), (0, 9, 10, 11, 12, 13, 15))\n"
     ]
    },
    {
     "name": "stdout",
     "output_type": "stream",
     "text": [
      "Running [14] against [0, 12, 15, 11, 13, 10, 9]\n"
     ]
    },
    {
     "name": "stderr",
     "output_type": "stream",
     "text": [
      "2020-07-10 19:42:38,981  SpectraRegion  INFO: DE DataFrame ready. Shape (17900, 3068)\n",
      "I0710 19:42:38.981309 139724973016896 segment.py:1891] DE DataFrame ready. Shape (17900, 3068)\n",
      "2020-07-10 19:42:38,987  SpectraRegion  INFO: DE Sample DataFrame ready. Shape (3068, 3)\n",
      "I0710 19:42:38.987677 139724973016896 segment.py:1899] DE Sample DataFrame ready. Shape (3068, 3)\n",
      "2020-07-10 19:42:38,994  SpectraRegion  INFO: Performing DE-test: ttest\n",
      "I0710 19:42:38.994750 139724973016896 segment.py:1957] Performing DE-test: ttest\n",
      "2020-07-10 19:42:43,835  SpectraRegion  INFO: DE-test (ttest) finished. Results available: ((14,), (0, 9, 10, 11, 12, 13, 15))\n",
      "I0710 19:42:43.835665 139724973016896 segment.py:1990] DE-test (ttest) finished. Results available: ((14,), (0, 9, 10, 11, 12, 13, 15))\n",
      "2020-07-10 19:42:43,837  SpectraRegion  INFO: Performing DE-test: rank\n",
      "I0710 19:42:43.837213 139724973016896 segment.py:1957] Performing DE-test: rank\n",
      "2020-07-10 19:43:04,713  SpectraRegion  INFO: DE-test (rank) finished. Results available: ((14,), (0, 9, 10, 11, 12, 13, 15))\n",
      "I0710 19:43:04.713696 139724973016896 segment.py:1990] DE-test (rank) finished. Results available: ((14,), (0, 9, 10, 11, 12, 13, 15))\n",
      "2020-07-10 19:43:04,798  SpectraRegion  INFO: DE result for case ((14,), (0, 9, 10, 11, 12, 13, 15)) with (17900, 7) results\n",
      "I0710 19:43:04.798994 139724973016896 segment.py:1579] DE result for case ((14,), (0, 9, 10, 11, 12, 13, 15)) with (17900, 7) results\n",
      "2020-07-10 19:43:04,800  SpectraRegion  INFO: DE result logFC inversed\n",
      "I0710 19:43:04.800639 139724973016896 segment.py:1602] DE result logFC inversed\n",
      "2020-07-10 19:43:04,807  SpectraRegion  INFO: DE result for case ((14,), (0, 9, 10, 11, 12, 13, 15)) with (1407, 7) results (filtered)\n",
      "I0710 19:43:04.807536 139724973016896 segment.py:1607] DE result for case ((14,), (0, 9, 10, 11, 12, 13, 15)) with (1407, 7) results (filtered)\n",
      "2020-07-10 19:43:05,450  SpectraRegion  INFO: Created matrices with shape (41, 17900) and (3027, 17900) (target, bg)\n",
      "I0710 19:43:05.450869 139724973016896 segment.py:1613] Created matrices with shape (41, 17900) and (3027, 17900) (target, bg)\n",
      "2020-07-10 19:43:10,162  SpectraRegion  INFO: DE result for case ((14,), (0, 9, 10, 11, 12, 13, 15)) with (17900, 7) results\n",
      "I0710 19:43:10.162536 139724973016896 segment.py:1579] DE result for case ((14,), (0, 9, 10, 11, 12, 13, 15)) with (17900, 7) results\n",
      "2020-07-10 19:43:10,164  SpectraRegion  INFO: DE result logFC inversed\n",
      "I0710 19:43:10.164022 139724973016896 segment.py:1602] DE result logFC inversed\n",
      "2020-07-10 19:43:10,171  SpectraRegion  INFO: DE result for case ((14,), (0, 9, 10, 11, 12, 13, 15)) with (1413, 7) results (filtered)\n",
      "I0710 19:43:10.171329 139724973016896 segment.py:1607] DE result for case ((14,), (0, 9, 10, 11, 12, 13, 15)) with (1413, 7) results (filtered)\n",
      "2020-07-10 19:43:10,794  SpectraRegion  INFO: Created matrices with shape (41, 17900) and (3027, 17900) (target, bg)\n",
      "I0710 19:43:10.794758 139724973016896 segment.py:1613] Created matrices with shape (41, 17900) and (3027, 17900) (target, bg)\n",
      "2020-07-10 19:43:15,520  SpectraRegion  INFO: DE data for case: [11]\n",
      "I0710 19:43:15.520693 139724973016896 segment.py:1842] DE data for case: [11]\n",
      "2020-07-10 19:43:15,522  SpectraRegion  INFO: DE data for control: [0, 12, 15, 14, 13, 10, 9]\n",
      "I0710 19:43:15.522717 139724973016896 segment.py:1843] DE data for control: [0, 12, 15, 14, 13, 10, 9]\n",
      "2020-07-10 19:43:15,525  SpectraRegion  INFO: DE result key: ((11,), (0, 9, 10, 12, 13, 14, 15))\n",
      "I0710 19:43:15.525220 139724973016896 segment.py:1847] DE result key: ((11,), (0, 9, 10, 12, 13, 14, 15))\n"
     ]
    },
    {
     "name": "stdout",
     "output_type": "stream",
     "text": [
      "Running [11] against [0, 12, 15, 14, 13, 10, 9]\n"
     ]
    },
    {
     "name": "stderr",
     "output_type": "stream",
     "text": [
      "2020-07-10 19:43:36,059  SpectraRegion  INFO: DE DataFrame ready. Shape (17900, 3068)\n",
      "I0710 19:43:36.059936 139724973016896 segment.py:1891] DE DataFrame ready. Shape (17900, 3068)\n",
      "2020-07-10 19:43:36,067  SpectraRegion  INFO: DE Sample DataFrame ready. Shape (3068, 3)\n",
      "I0710 19:43:36.067507 139724973016896 segment.py:1899] DE Sample DataFrame ready. Shape (3068, 3)\n",
      "2020-07-10 19:43:36,076  SpectraRegion  INFO: Performing DE-test: ttest\n",
      "I0710 19:43:36.076345 139724973016896 segment.py:1957] Performing DE-test: ttest\n",
      "2020-07-10 19:43:40,990  SpectraRegion  INFO: DE-test (ttest) finished. Results available: ((11,), (0, 9, 10, 12, 13, 14, 15))\n",
      "I0710 19:43:40.990749 139724973016896 segment.py:1990] DE-test (ttest) finished. Results available: ((11,), (0, 9, 10, 12, 13, 14, 15))\n",
      "2020-07-10 19:43:40,992  SpectraRegion  INFO: Performing DE-test: rank\n",
      "I0710 19:43:40.992250 139724973016896 segment.py:1957] Performing DE-test: rank\n",
      "2020-07-10 19:44:01,998  SpectraRegion  INFO: DE-test (rank) finished. Results available: ((11,), (0, 9, 10, 12, 13, 14, 15))\n",
      "I0710 19:44:01.998936 139724973016896 segment.py:1990] DE-test (rank) finished. Results available: ((11,), (0, 9, 10, 12, 13, 14, 15))\n",
      "2020-07-10 19:44:02,084  SpectraRegion  INFO: DE result for case ((11,), (0, 9, 10, 12, 13, 14, 15)) with (17900, 7) results\n",
      "I0710 19:44:02.084405 139724973016896 segment.py:1579] DE result for case ((11,), (0, 9, 10, 12, 13, 14, 15)) with (17900, 7) results\n",
      "2020-07-10 19:44:02,085  SpectraRegion  INFO: DE result logFC inversed\n",
      "I0710 19:44:02.085805 139724973016896 segment.py:1602] DE result logFC inversed\n",
      "2020-07-10 19:44:02,091  SpectraRegion  INFO: DE result for case ((11,), (0, 9, 10, 12, 13, 14, 15)) with (2752, 7) results (filtered)\n",
      "I0710 19:44:02.091655 139724973016896 segment.py:1607] DE result for case ((11,), (0, 9, 10, 12, 13, 14, 15)) with (2752, 7) results (filtered)\n",
      "2020-07-10 19:44:02,736  SpectraRegion  INFO: Created matrices with shape (24, 17900) and (3044, 17900) (target, bg)\n",
      "I0710 19:44:02.736002 139724973016896 segment.py:1613] Created matrices with shape (24, 17900) and (3044, 17900) (target, bg)\n",
      "2020-07-10 19:44:14,787  SpectraRegion  INFO: DE result for case ((11,), (0, 9, 10, 12, 13, 14, 15)) with (17900, 7) results\n",
      "I0710 19:44:14.787132 139724973016896 segment.py:1579] DE result for case ((11,), (0, 9, 10, 12, 13, 14, 15)) with (17900, 7) results\n",
      "2020-07-10 19:44:14,788  SpectraRegion  INFO: DE result logFC inversed\n",
      "I0710 19:44:14.788985 139724973016896 segment.py:1602] DE result logFC inversed\n",
      "2020-07-10 19:44:14,795  SpectraRegion  INFO: DE result for case ((11,), (0, 9, 10, 12, 13, 14, 15)) with (2636, 7) results (filtered)\n",
      "I0710 19:44:14.795664 139724973016896 segment.py:1607] DE result for case ((11,), (0, 9, 10, 12, 13, 14, 15)) with (2636, 7) results (filtered)\n",
      "2020-07-10 19:44:15,418  SpectraRegion  INFO: Created matrices with shape (24, 17900) and (3044, 17900) (target, bg)\n",
      "I0710 19:44:15.418006 139724973016896 segment.py:1613] Created matrices with shape (24, 17900) and (3044, 17900) (target, bg)\n",
      "2020-07-10 19:44:27,059  SpectraRegion  INFO: DE data for case: [13]\n",
      "I0710 19:44:27.059576 139724973016896 segment.py:1842] DE data for case: [13]\n",
      "2020-07-10 19:44:27,061  SpectraRegion  INFO: DE data for control: [0, 12, 15, 14, 11, 10, 9]\n",
      "I0710 19:44:27.061780 139724973016896 segment.py:1843] DE data for control: [0, 12, 15, 14, 11, 10, 9]\n",
      "2020-07-10 19:44:27,063  SpectraRegion  INFO: DE result key: ((13,), (0, 9, 10, 11, 12, 14, 15))\n",
      "I0710 19:44:27.063722 139724973016896 segment.py:1847] DE result key: ((13,), (0, 9, 10, 11, 12, 14, 15))\n"
     ]
    },
    {
     "name": "stdout",
     "output_type": "stream",
     "text": [
      "Running [13] against [0, 12, 15, 14, 11, 10, 9]\n"
     ]
    },
    {
     "name": "stderr",
     "output_type": "stream",
     "text": [
      "2020-07-10 19:44:47,773  SpectraRegion  INFO: DE DataFrame ready. Shape (17900, 3068)\n",
      "I0710 19:44:47.773338 139724973016896 segment.py:1891] DE DataFrame ready. Shape (17900, 3068)\n",
      "2020-07-10 19:44:47,779  SpectraRegion  INFO: DE Sample DataFrame ready. Shape (3068, 3)\n",
      "I0710 19:44:47.779019 139724973016896 segment.py:1899] DE Sample DataFrame ready. Shape (3068, 3)\n",
      "2020-07-10 19:44:47,789  SpectraRegion  INFO: Performing DE-test: ttest\n",
      "I0710 19:44:47.789156 139724973016896 segment.py:1957] Performing DE-test: ttest\n",
      "2020-07-10 19:44:52,661  SpectraRegion  INFO: DE-test (ttest) finished. Results available: ((13,), (0, 9, 10, 11, 12, 14, 15))\n",
      "I0710 19:44:52.661062 139724973016896 segment.py:1990] DE-test (ttest) finished. Results available: ((13,), (0, 9, 10, 11, 12, 14, 15))\n",
      "2020-07-10 19:44:52,662  SpectraRegion  INFO: Performing DE-test: rank\n",
      "I0710 19:44:52.662575 139724973016896 segment.py:1957] Performing DE-test: rank\n",
      "2020-07-10 19:45:13,507  SpectraRegion  INFO: DE-test (rank) finished. Results available: ((13,), (0, 9, 10, 11, 12, 14, 15))\n",
      "I0710 19:45:13.507570 139724973016896 segment.py:1990] DE-test (rank) finished. Results available: ((13,), (0, 9, 10, 11, 12, 14, 15))\n",
      "2020-07-10 19:45:13,592  SpectraRegion  INFO: DE result for case ((13,), (0, 9, 10, 11, 12, 14, 15)) with (17900, 7) results\n",
      "I0710 19:45:13.592574 139724973016896 segment.py:1579] DE result for case ((13,), (0, 9, 10, 11, 12, 14, 15)) with (17900, 7) results\n",
      "2020-07-10 19:45:13,594  SpectraRegion  INFO: DE result logFC inversed\n",
      "I0710 19:45:13.594060 139724973016896 segment.py:1602] DE result logFC inversed\n",
      "2020-07-10 19:45:13,600  SpectraRegion  INFO: DE result for case ((13,), (0, 9, 10, 11, 12, 14, 15)) with (2254, 7) results (filtered)\n",
      "I0710 19:45:13.600751 139724973016896 segment.py:1607] DE result for case ((13,), (0, 9, 10, 11, 12, 14, 15)) with (2254, 7) results (filtered)\n",
      "2020-07-10 19:45:14,247  SpectraRegion  INFO: Created matrices with shape (28, 17900) and (3040, 17900) (target, bg)\n",
      "I0710 19:45:14.247242 139724973016896 segment.py:1613] Created matrices with shape (28, 17900) and (3040, 17900) (target, bg)\n",
      "2020-07-10 19:45:23,432  SpectraRegion  INFO: DE result for case ((13,), (0, 9, 10, 11, 12, 14, 15)) with (17900, 7) results\n",
      "I0710 19:45:23.432688 139724973016896 segment.py:1579] DE result for case ((13,), (0, 9, 10, 11, 12, 14, 15)) with (17900, 7) results\n",
      "2020-07-10 19:45:23,434  SpectraRegion  INFO: DE result logFC inversed\n",
      "I0710 19:45:23.434356 139724973016896 segment.py:1602] DE result logFC inversed\n",
      "2020-07-10 19:45:23,440  SpectraRegion  INFO: DE result for case ((13,), (0, 9, 10, 11, 12, 14, 15)) with (2233, 7) results (filtered)\n",
      "I0710 19:45:23.440188 139724973016896 segment.py:1607] DE result for case ((13,), (0, 9, 10, 11, 12, 14, 15)) with (2233, 7) results (filtered)\n",
      "2020-07-10 19:45:24,063  SpectraRegion  INFO: Created matrices with shape (28, 17900) and (3040, 17900) (target, bg)\n",
      "I0710 19:45:24.063597 139724973016896 segment.py:1613] Created matrices with shape (28, 17900) and (3040, 17900) (target, bg)\n",
      "2020-07-10 19:45:33,014  SpectraRegion  INFO: DE data for case: [10]\n",
      "I0710 19:45:33.014675 139724973016896 segment.py:1842] DE data for case: [10]\n",
      "2020-07-10 19:45:33,016  SpectraRegion  INFO: DE data for control: [0, 12, 15, 14, 11, 13, 9]\n",
      "I0710 19:45:33.016736 139724973016896 segment.py:1843] DE data for control: [0, 12, 15, 14, 11, 13, 9]\n",
      "2020-07-10 19:45:33,018  SpectraRegion  INFO: DE result key: ((10,), (0, 9, 11, 12, 13, 14, 15))\n",
      "I0710 19:45:33.018162 139724973016896 segment.py:1847] DE result key: ((10,), (0, 9, 11, 12, 13, 14, 15))\n"
     ]
    },
    {
     "name": "stdout",
     "output_type": "stream",
     "text": [
      "Running [10] against [0, 12, 15, 14, 11, 13, 9]\n"
     ]
    },
    {
     "name": "stderr",
     "output_type": "stream",
     "text": [
      "2020-07-10 19:45:53,656  SpectraRegion  INFO: DE DataFrame ready. Shape (17900, 3068)\n",
      "I0710 19:45:53.656300 139724973016896 segment.py:1891] DE DataFrame ready. Shape (17900, 3068)\n",
      "2020-07-10 19:45:53,662  SpectraRegion  INFO: DE Sample DataFrame ready. Shape (3068, 3)\n",
      "I0710 19:45:53.662075 139724973016896 segment.py:1899] DE Sample DataFrame ready. Shape (3068, 3)\n",
      "2020-07-10 19:45:53,671  SpectraRegion  INFO: Performing DE-test: ttest\n",
      "I0710 19:45:53.671098 139724973016896 segment.py:1957] Performing DE-test: ttest\n",
      "2020-07-10 19:45:58,520  SpectraRegion  INFO: DE-test (ttest) finished. Results available: ((10,), (0, 9, 11, 12, 13, 14, 15))\n",
      "I0710 19:45:58.520449 139724973016896 segment.py:1990] DE-test (ttest) finished. Results available: ((10,), (0, 9, 11, 12, 13, 14, 15))\n",
      "2020-07-10 19:45:58,522  SpectraRegion  INFO: Performing DE-test: rank\n",
      "I0710 19:45:58.522363 139724973016896 segment.py:1957] Performing DE-test: rank\n",
      "2020-07-10 19:46:19,510  SpectraRegion  INFO: DE-test (rank) finished. Results available: ((10,), (0, 9, 11, 12, 13, 14, 15))\n",
      "I0710 19:46:19.510123 139724973016896 segment.py:1990] DE-test (rank) finished. Results available: ((10,), (0, 9, 11, 12, 13, 14, 15))\n",
      "2020-07-10 19:46:19,598  SpectraRegion  INFO: DE result for case ((10,), (0, 9, 11, 12, 13, 14, 15)) with (17900, 7) results\n",
      "I0710 19:46:19.598105 139724973016896 segment.py:1579] DE result for case ((10,), (0, 9, 11, 12, 13, 14, 15)) with (17900, 7) results\n",
      "2020-07-10 19:46:19,599  SpectraRegion  INFO: DE result logFC inversed\n",
      "I0710 19:46:19.599947 139724973016896 segment.py:1602] DE result logFC inversed\n",
      "2020-07-10 19:46:19,605  SpectraRegion  INFO: DE result for case ((10,), (0, 9, 11, 12, 13, 14, 15)) with (1823, 7) results (filtered)\n",
      "I0710 19:46:19.605934 139724973016896 segment.py:1607] DE result for case ((10,), (0, 9, 11, 12, 13, 14, 15)) with (1823, 7) results (filtered)\n",
      "2020-07-10 19:46:20,247  SpectraRegion  INFO: Created matrices with shape (36, 17900) and (3032, 17900) (target, bg)\n",
      "I0710 19:46:20.247923 139724973016896 segment.py:1613] Created matrices with shape (36, 17900) and (3032, 17900) (target, bg)\n",
      "2020-07-10 19:46:26,545  SpectraRegion  INFO: DE result for case ((10,), (0, 9, 11, 12, 13, 14, 15)) with (17900, 7) results\n",
      "I0710 19:46:26.545569 139724973016896 segment.py:1579] DE result for case ((10,), (0, 9, 11, 12, 13, 14, 15)) with (17900, 7) results\n",
      "2020-07-10 19:46:26,546  SpectraRegion  INFO: DE result logFC inversed\n",
      "I0710 19:46:26.546968 139724973016896 segment.py:1602] DE result logFC inversed\n",
      "2020-07-10 19:46:26,552  SpectraRegion  INFO: DE result for case ((10,), (0, 9, 11, 12, 13, 14, 15)) with (1828, 7) results (filtered)\n",
      "I0710 19:46:26.552570 139724973016896 segment.py:1607] DE result for case ((10,), (0, 9, 11, 12, 13, 14, 15)) with (1828, 7) results (filtered)\n",
      "2020-07-10 19:46:27,172  SpectraRegion  INFO: Created matrices with shape (36, 17900) and (3032, 17900) (target, bg)\n",
      "I0710 19:46:27.172853 139724973016896 segment.py:1613] Created matrices with shape (36, 17900) and (3032, 17900) (target, bg)\n",
      "2020-07-10 19:46:33,383  SpectraRegion  INFO: DE data for case: [9]\n",
      "I0710 19:46:33.383350 139724973016896 segment.py:1842] DE data for case: [9]\n",
      "2020-07-10 19:46:33,385  SpectraRegion  INFO: DE data for control: [0, 12, 15, 14, 11, 13, 10]\n",
      "I0710 19:46:33.385046 139724973016896 segment.py:1843] DE data for control: [0, 12, 15, 14, 11, 13, 10]\n",
      "2020-07-10 19:46:33,386  SpectraRegion  INFO: DE result key: ((9,), (0, 10, 11, 12, 13, 14, 15))\n",
      "I0710 19:46:33.386541 139724973016896 segment.py:1847] DE result key: ((9,), (0, 10, 11, 12, 13, 14, 15))\n"
     ]
    },
    {
     "name": "stdout",
     "output_type": "stream",
     "text": [
      "Running [9] against [0, 12, 15, 14, 11, 13, 10]\n"
     ]
    },
    {
     "name": "stderr",
     "output_type": "stream",
     "text": [
      "2020-07-10 19:46:53,983  SpectraRegion  INFO: DE DataFrame ready. Shape (17900, 3068)\n",
      "I0710 19:46:53.983945 139724973016896 segment.py:1891] DE DataFrame ready. Shape (17900, 3068)\n",
      "2020-07-10 19:46:53,989  SpectraRegion  INFO: DE Sample DataFrame ready. Shape (3068, 3)\n",
      "I0710 19:46:53.989125 139724973016896 segment.py:1899] DE Sample DataFrame ready. Shape (3068, 3)\n",
      "2020-07-10 19:46:53,997  SpectraRegion  INFO: Performing DE-test: ttest\n",
      "I0710 19:46:53.997885 139724973016896 segment.py:1957] Performing DE-test: ttest\n",
      "2020-07-10 19:46:58,858  SpectraRegion  INFO: DE-test (ttest) finished. Results available: ((9,), (0, 10, 11, 12, 13, 14, 15))\n",
      "I0710 19:46:58.858801 139724973016896 segment.py:1990] DE-test (ttest) finished. Results available: ((9,), (0, 10, 11, 12, 13, 14, 15))\n",
      "2020-07-10 19:46:58,860  SpectraRegion  INFO: Performing DE-test: rank\n",
      "I0710 19:46:58.860991 139724973016896 segment.py:1957] Performing DE-test: rank\n",
      "2020-07-10 19:47:19,702  SpectraRegion  INFO: DE-test (rank) finished. Results available: ((9,), (0, 10, 11, 12, 13, 14, 15))\n",
      "I0710 19:47:19.702973 139724973016896 segment.py:1990] DE-test (rank) finished. Results available: ((9,), (0, 10, 11, 12, 13, 14, 15))\n",
      "2020-07-10 19:47:19,787  SpectraRegion  INFO: DE result for case ((9,), (0, 10, 11, 12, 13, 14, 15)) with (17900, 7) results\n",
      "I0710 19:47:19.787917 139724973016896 segment.py:1579] DE result for case ((9,), (0, 10, 11, 12, 13, 14, 15)) with (17900, 7) results\n",
      "2020-07-10 19:47:19,790  SpectraRegion  INFO: DE result logFC inversed\n",
      "I0710 19:47:19.790378 139724973016896 segment.py:1602] DE result logFC inversed\n",
      "2020-07-10 19:47:19,797  SpectraRegion  INFO: DE result for case ((9,), (0, 10, 11, 12, 13, 14, 15)) with (1999, 7) results (filtered)\n",
      "I0710 19:47:19.797646 139724973016896 segment.py:1607] DE result for case ((9,), (0, 10, 11, 12, 13, 14, 15)) with (1999, 7) results (filtered)\n",
      "2020-07-10 19:47:20,451  SpectraRegion  INFO: Created matrices with shape (34, 17900) and (3034, 17900) (target, bg)\n",
      "I0710 19:47:20.451620 139724973016896 segment.py:1613] Created matrices with shape (34, 17900) and (3034, 17900) (target, bg)\n",
      "2020-07-10 19:47:27,828  SpectraRegion  INFO: DE result for case ((9,), (0, 10, 11, 12, 13, 14, 15)) with (17900, 7) results\n",
      "I0710 19:47:27.828033 139724973016896 segment.py:1579] DE result for case ((9,), (0, 10, 11, 12, 13, 14, 15)) with (17900, 7) results\n",
      "2020-07-10 19:47:27,829  SpectraRegion  INFO: DE result logFC inversed\n",
      "I0710 19:47:27.829614 139724973016896 segment.py:1602] DE result logFC inversed\n",
      "2020-07-10 19:47:27,836  SpectraRegion  INFO: DE result for case ((9,), (0, 10, 11, 12, 13, 14, 15)) with (1999, 7) results (filtered)\n",
      "I0710 19:47:27.836425 139724973016896 segment.py:1607] DE result for case ((9,), (0, 10, 11, 12, 13, 14, 15)) with (1999, 7) results (filtered)\n",
      "2020-07-10 19:47:28,456  SpectraRegion  INFO: Created matrices with shape (34, 17900) and (3034, 17900) (target, bg)\n",
      "I0710 19:47:28.456225 139724973016896 segment.py:1613] Created matrices with shape (34, 17900) and (3034, 17900) (target, bg)\n"
     ]
    }
   ],
   "source": [
    "slided_4, slided4_mgenes, slided4_mgenes_bg = process_imzeregion(imze=imze, regionID= 4, basename=\"slideD\")\n",
    "slided_5, slided5_mgenes, slided5_mgenes_bg = process_imzeregion(imze=imze, regionID= 5, basename=\"slideD\")"
   ]
  },
  {
   "cell_type": "code",
   "execution_count": null,
   "metadata": {},
   "outputs": [],
   "source": [
    "markerGenes0 = slided0_mgenes_bg[\"ttest\"]\n",
    "markerGenes0.to_csv(\"marker_genes_region_0.tsv\", sep=\"\\t\", index=False)\n",
    "markerGenes1 = slided1_mgenes_bg[\"ttest\"]\n",
    "markerGenes1.to_csv(\"marker_genes_region_1.tsv\", sep=\"\\t\", index=False)\n",
    "markerGenes4 = slided4_mgenes_bg[\"ttest\"]\n",
    "markerGenes4.to_csv(\"marker_genes_region_4.tsv\", sep=\"\\t\", index=False)\n",
    "markerGenes5 = slided5_mgenes_bg[\"ttest\"]\n",
    "markerGenes5.to_csv(\"marker_genes_region_5.tsv\", sep=\"\\t\", index=False)\n"
   ]
  },
  {
   "cell_type": "code",
   "execution_count": null,
   "metadata": {},
   "outputs": [],
   "source": [
    "! python3 /mnt/d/dev/git/scrnaseq_celltype_prediction/analyseMarkers.py --organs \"Connective tissue\" \"Vasculature\" \"Heart\" \"Skeletal Muscle\" \"Smooth muscle\" \"Immune system\" \"Blood\" \"Epithelium\" \"Liver\" --pvaladj qvalue --markers marker_genes_region_0.tsv -n 2"
   ]
  },
  {
   "cell_type": "code",
   "execution_count": null,
   "metadata": {},
   "outputs": [],
   "source": [
    "! python3 /mnt/d/dev/git/scrnaseq_celltype_prediction/analyseMarkers.py --organs \"Connective tissue\" \"Vasculature\" \"Heart\" \"Skeletal Muscle\" \"Smooth muscle\" \"Immune system\" \"Blood\" \"Epithelium\" \"Liver\" --pvaladj qvalue --markers marker_genes_region_1.tsv -n 2"
   ]
  },
  {
   "cell_type": "code",
   "execution_count": null,
   "metadata": {},
   "outputs": [],
   "source": [
    "! python3 /mnt/d/dev/git/scrnaseq_celltype_prediction/analyseMarkers.py --organs \"Connective tissue\" \"Vasculature\" \"Heart\" \"Skeletal Muscle\" \"Smooth muscle\" \"Immune system\" \"Blood\" \"Epithelium\" \"Liver\" --pvaladj qvalue --markers marker_genes_region_4.tsv -n 2"
   ]
  },
  {
   "cell_type": "code",
   "execution_count": null,
   "metadata": {},
   "outputs": [],
   "source": [
    "! python3 /mnt/d/dev/git/scrnaseq_celltype_prediction/analyseMarkers.py --organs \"Connective tissue\" \"Vasculature\" \"Heart\" \"Skeletal Muscle\" \"Smooth muscle\" \"Immune system\" \"Blood\" \"Epithelium\" \"Liver\" --pvaladj qvalue --markers marker_genes_region_5.tsv -n 2"
   ]
  },
  {
   "cell_type": "code",
   "execution_count": null,
   "metadata": {},
   "outputs": [],
   "source": []
  },
  {
   "cell_type": "markdown",
   "metadata": {},
   "source": [
    "# Creating a CombinedSpectra"
   ]
  },
  {
   "cell_type": "code",
   "execution_count": 7,
   "metadata": {},
   "outputs": [],
   "source": [
    "slided_0.name = \"slided_0\"\n",
    "slided_1.name = \"slided_1\"\n",
    "slided_4.name = \"slided_4\"\n",
    "slided_5.name = \"slided_5\""
   ]
  },
  {
   "cell_type": "code",
   "execution_count": 8,
   "metadata": {},
   "outputs": [],
   "source": [
    "slided_0.to_pickle(\"slideD_region_0.pickle\")\n",
    "slided_1.to_pickle(\"slideD_region_1.pickle\")\n"
   ]
  },
  {
   "cell_type": "code",
   "execution_count": 9,
   "metadata": {},
   "outputs": [],
   "source": [
    "slided_4.to_pickle(\"slideD_region_4.pickle\")\n",
    "slided_5.to_pickle(\"slideD_region_5.pickle\")"
   ]
  },
  {
   "cell_type": "code",
   "execution_count": null,
   "metadata": {},
   "outputs": [],
   "source": [
    "combSpec = CombinedSpectra({0: slided_0, 1: slided_1, 4: slided_4, 5: slided_5})"
   ]
  },
  {
   "cell_type": "code",
   "execution_count": null,
   "metadata": {},
   "outputs": [],
   "source": [
    "combSpec.consensus_similarity()"
   ]
  },
  {
   "cell_type": "code",
   "execution_count": null,
   "metadata": {},
   "outputs": [],
   "source": [
    "combSpec.consensus_similarity_matrix"
   ]
  },
  {
   "cell_type": "code",
   "execution_count": null,
   "metadata": {},
   "outputs": [],
   "source": [
    "combSpec.plot_consensus_similarity()"
   ]
  },
  {
   "cell_type": "code",
   "execution_count": null,
   "metadata": {},
   "outputs": [],
   "source": [
    "combSpec.cluster_concensus_spectra(number_of_clusters=10)"
   ]
  },
  {
   "cell_type": "code",
   "execution_count": null,
   "metadata": {},
   "outputs": [],
   "source": [
    "combSpec.region_cluster2cluster"
   ]
  },
  {
   "cell_type": "code",
   "execution_count": null,
   "metadata": {},
   "outputs": [],
   "source": [
    "combSpec.plot_common_segments()"
   ]
  },
  {
   "cell_type": "code",
   "execution_count": null,
   "metadata": {},
   "outputs": [],
   "source": [
    "slided_0.plot_segments(highlight=(8))"
   ]
  },
  {
   "cell_type": "code",
   "execution_count": null,
   "metadata": {},
   "outputs": [],
   "source": [
    "slided_0.mass_heatmap(14954)"
   ]
  },
  {
   "cell_type": "code",
   "execution_count": null,
   "metadata": {},
   "outputs": [],
   "source": [
    "slided_0.mass_heatmap(12504)"
   ]
  },
  {
   "cell_type": "code",
   "execution_count": null,
   "metadata": {},
   "outputs": [],
   "source": [
    "slided_1.mass_heatmap(14954)"
   ]
  },
  {
   "cell_type": "code",
   "execution_count": null,
   "metadata": {},
   "outputs": [],
   "source": [
    "slided_1.plot_segments(highlight=(6))"
   ]
  },
  {
   "cell_type": "code",
   "execution_count": null,
   "metadata": {},
   "outputs": [],
   "source": [
    "spec1.plot_segments(highlight=(4,5,6))"
   ]
  },
  {
   "cell_type": "code",
   "execution_count": null,
   "metadata": {},
   "outputs": [],
   "source": [
    "spec.plot_segments(highlight=(9,10,11,13,15))"
   ]
  },
  {
   "cell_type": "code",
   "execution_count": null,
   "metadata": {},
   "outputs": [],
   "source": [
    "[x for x in combSpec.regions]"
   ]
  },
  {
   "cell_type": "code",
   "execution_count": null,
   "metadata": {},
   "outputs": [],
   "source": [
    "resdf11_6, expr, pdata = combSpec.find_markers(\"slided_0\", [11], \"slided_1\", [6], pw)"
   ]
  },
  {
   "cell_type": "code",
   "execution_count": null,
   "metadata": {},
   "outputs": [],
   "source": [
    "mydf = resdf11_6[\"ttest\"][('slided_0', (11,), 'slided_1', (6,))]"
   ]
  },
  {
   "cell_type": "code",
   "execution_count": null,
   "metadata": {},
   "outputs": [],
   "source": [
    "mydf[mydf[\"gene\"] == \"Ifitm3\"]"
   ]
  },
  {
   "cell_type": "code",
   "execution_count": null,
   "metadata": {},
   "outputs": [],
   "source": [
    "plt.figure(figsize=(10,6))\n",
    "xydots = [(x,y) for x,y in zip(list(-mydf[\"avg_logFC\"]), list(-np.log(mydf[\"qvalue\"])))]\n",
    "dotgene = list(mydf[\"gene\"])\n",
    "\n",
    "for i in range(len(xydots)):\n",
    "    x = xydots[i][0]\n",
    "    y = xydots[i][1]\n",
    "    \n",
    "    if dotgene[i] in [\"Ifitm3\"]:\n",
    "        plt.text(x * (1 + 0.01), y * (1 + 0.01) , dotgene[i], fontsize=12)\n",
    "        plt.plot(x, y, 'ro')\n",
    "    else:\n",
    "        plt.plot(x, y, 'bo')\n",
    "\n",
    "plt.show()"
   ]
  },
  {
   "cell_type": "code",
   "execution_count": null,
   "metadata": {},
   "outputs": [],
   "source": [
    "markerGenes4 = mgenes4[\"ttest\"]\n",
    "markerGenes4.to_csv(\"marker_genes_region_4.tsv\", sep=\"\\t\", index=False)"
   ]
  },
  {
   "cell_type": "code",
   "execution_count": null,
   "metadata": {},
   "outputs": [],
   "source": [
    "! python3 /mnt/d/dev/git/scrnaseq_celltype_prediction/analyseMarkers.py --organs \"Connective tissue\" \"Vasculature\" \"Heart\" \"Skeletal Muscle\" \"Smooth muscle\" \"Immune system\" \"Blood\" \"Epithelium\" \"Liver\" --pvaladj qvalue --markers marker_genes_region_4.tsv -n 4"
   ]
  }
 ],
 "metadata": {
  "kernelspec": {
   "display_name": "Python 3",
   "language": "python",
   "name": "python3"
  },
  "language_info": {
   "codemirror_mode": {
    "name": "ipython",
    "version": 3
   },
   "file_extension": ".py",
   "mimetype": "text/x-python",
   "name": "python",
   "nbconvert_exporter": "python",
   "pygments_lexer": "ipython3",
   "version": "3.8.2"
  }
 },
 "nbformat": 4,
 "nbformat_minor": 4
}
