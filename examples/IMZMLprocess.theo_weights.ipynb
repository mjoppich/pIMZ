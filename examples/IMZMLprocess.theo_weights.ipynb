{
 "cells": [
  {
   "cell_type": "code",
   "execution_count": 5,
   "metadata": {},
   "outputs": [
    {
     "name": "stdout",
     "output_type": "stream",
     "text": [
      "The autoreload extension is already loaded. To reload it, use:\n",
      "  %reload_ext autoreload\n",
      "['../', '../', '../', '../', '../', '/mnt/f/dev/git/pyIMS/examples', '/usr/lib/python38.zip', '/usr/lib/python3.8', '/usr/lib/python3.8/lib-dynload', '', '/home/mjoppich/.local/lib/python3.8/site-packages', '/home/mjoppich/.local/lib/python3.8/site-packages/pIMZ-1.0-py3.8-linux-x86_64.egg', '/home/mjoppich/.local/lib/python3.8/site-packages/progressbar-2.5-py3.8.egg', '/usr/lib/python3/dist-packages', '/usr/local/lib/python3.8/dist-packages', '/usr/local/lib/python3.8/dist-packages/mpld3-0.3.1.dev1-py3.8.egg', '/usr/local/lib/python3.8/dist-packages/IPython/extensions', '/home/mjoppich/.ipython']\n",
      "../pIMZ/__init__.py\n"
     ]
    }
   ],
   "source": [
    "%load_ext autoreload\n",
    "import os,sys\n",
    "import pandas as pd\n",
    "import seaborn as sns\n",
    "import numpy as np\n",
    "import progressbar\n",
    "import dill as pickle\n",
    "from datetime import datetime\n",
    "import matplotlib as mpl\n",
    "import matplotlib.pyplot as plt\n",
    "import logging\n",
    "\n",
    "sys.path = [\"../\"] + sys.path\n",
    "\n",
    "print(sys.path)\n",
    "\n",
    "%autoreload 2\n",
    "from pIMZ.regions import SpectraRegion, ProteinWeights\n",
    "%autoreload 2\n",
    "from pIMZ.imzml import IMZMLExtract\n",
    "%autoreload 2\n",
    "from pIMZ.comparative import CombinedSpectra\n",
    "\n",
    "import pIMZ\n",
    "\n",
    "print(pIMZ.__file__)\n",
    "\n",
    "loggers = [logging.getLogger(name) for name in logging.root.manager.loggerDict]\n",
    "for logger in loggers:\n",
    "    logger.setLevel(logging.INFO)"
   ]
  },
  {
   "cell_type": "markdown",
   "metadata": {},
   "source": [
    "Load an imzML file"
   ]
  },
  {
   "cell_type": "code",
   "execution_count": 6,
   "metadata": {},
   "outputs": [
    {
     "name": "stdout",
     "output_type": "stream",
     "text": [
      "Opening regions file for /mnt/d/dev/data/msi/slideD/181114_AT1_Slide_D_Proteins.imzML\n",
      "0 356 400 215 273\n",
      "1 436 478 632 687\n",
      "2 1572 1612 608 666\n",
      "3 1149 1197 142 205\n",
      "4 618 666 211 266\n",
      "5 633 684 630 688\n",
      "6 1357 1400 628 686\n"
     ]
    }
   ],
   "source": [
    "imze = IMZMLExtract(\"/mnt/d/dev/data/msi/slideD/181114_AT1_Slide_D_Proteins.imzML\")"
   ]
  },
  {
   "cell_type": "markdown",
   "metadata": {},
   "source": [
    "Explore which regions are there?"
   ]
  },
  {
   "cell_type": "code",
   "execution_count": 7,
   "metadata": {},
   "outputs": [
    {
     "name": "stdout",
     "output_type": "stream",
     "text": [
      "0 ((356, 400, 215, 273), 2655)\n",
      "1 ((436, 478, 632, 687), 2408)\n",
      "2 ((1572, 1612, 608, 666), 2419)\n",
      "3 ((1149, 1197, 142, 205), 3136)\n",
      "4 ((618, 666, 211, 266), 2744)\n",
      "5 ((633, 684, 630, 688), 3068)\n",
      "6 ((1357, 1400, 628, 686), 2596)\n"
     ]
    },
    {
     "data": {
      "image/png": "[encoded data removed]",
      "text/plain": [
       "<Figure size 674.791x288 with 2 Axes>"
      ]
     },
     "metadata": {
      "needs_background": "light"
     },
     "output_type": "display_data"
    },
    {
     "data": {
      "text/plain": [
       "{0: ((356, 400, 215, 273), 2655),\n",
       " 1: ((436, 478, 632, 687), 2408),\n",
       " 2: ((1572, 1612, 608, 666), 2419),\n",
       " 3: ((1149, 1197, 142, 205), 3136),\n",
       " 4: ((618, 666, 211, 266), 2744),\n",
       " 5: ((633, 684, 630, 688), 3068),\n",
       " 6: ((1357, 1400, 628, 686), 2596)}"
      ]
     },
     "execution_count": 7,
     "metadata": {},
     "output_type": "execute_result"
    }
   ],
   "source": [
    "imze.list_regions()"
   ]
  },
  {
   "cell_type": "markdown",
   "metadata": {},
   "source": [
    "Start with prozessing the first region , region 0"
   ]
  },
  {
   "cell_type": "code",
   "execution_count": 8,
   "metadata": {},
   "outputs": [
    {
     "name": "stderr",
     "output_type": "stream",
     "text": [
      "Fetching region range\n",
      "Fetching region shape\n",
      "Found region 0 with shape (45, 59, 17900)\n",
      "Fetching region spectra\n",
      "100% |########################################################################|\n",
      "100% |########################################################################|\n",
      "Started Log Value: 0.14000733569264412\n",
      "100% |########################################################################|\n",
      "Got 2655 median-enabled pixels\n",
      "5-Number stats for medians: (2655, 2655, 0.2905536462232088, 0.5712127712945096, 0.6654297160132764, 0.7571640240536153, 1.119313296797138)\n",
      "Started Log Value: 0.21725614592432976\n",
      "Collecting fold changes\n",
      "100% |########################################################################|\n",
      "Got a total of 47524500 fold changes\n",
      "Median elements [23762250]\n",
      "Median elements\n",
      "Global Median 0.64579\n"
     ]
    }
   ],
   "source": [
    "spectra0_orig = imze.get_region_array(0, makeNullLine=True)\n",
    "spectra0_intra = imze.normalize_region_array(spectra0_orig, normalize=\"intra_median\")\n",
    "spectra0 = imze.normalize_region_array(spectra0_intra, normalize=\"inter_median\")"
   ]
  },
  {
   "cell_type": "code",
   "execution_count": 9,
   "metadata": {},
   "outputs": [
    {
     "name": "stderr",
     "output_type": "stream",
     "text": [
      "Fetching region range\n",
      "Fetching region shape\n",
      "Found region 1 with shape (43, 56, 17900)\n",
      "Fetching region spectra\n",
      "100% |########################################################################|\n",
      "100% |########################################################################|\n",
      "Started Log Value: 0.17063884288072587\n",
      "100% |########################################################################|\n",
      "Got 2408 median-enabled pixels\n",
      "5-Number stats for medians: (2408, 2408, 0.3039763115205163, 0.5889737648019792, 0.6580512343895084, 0.7246390240951075, 1.0161616910876121)\n",
      "Started Log Value: 0.2648863598704338\n",
      "Collecting fold changes\n",
      "100% |########################################################################|\n",
      "Got a total of 43103200 fold changes\n",
      "Median elements [21551600]\n",
      "Median elements\n",
      "Global Median 0.64556\n"
     ]
    }
   ],
   "source": [
    "spectra1_orig = imze.get_region_array(1, makeNullLine=True)\n",
    "spectra1_intra = imze.normalize_region_array(spectra1_orig, normalize=\"intra_median\")\n",
    "spectra1 = imze.normalize_region_array(spectra1_intra, normalize=\"inter_median\")"
   ]
  },
  {
   "cell_type": "code",
   "execution_count": 10,
   "metadata": {},
   "outputs": [
    {
     "name": "stderr",
     "output_type": "stream",
     "text": [
      "Started Log Value: 0.14000733569264412\n"
     ]
    },
    {
     "data": {
      "image/png": "[encoded data removed]",
      "text/plain": [
       "<Figure size 432x288 with 1 Axes>"
      ]
     },
     "metadata": {
      "needs_background": "light"
     },
     "output_type": "display_data"
    }
   ],
   "source": [
    "imze.plot_fcs(spectra0_orig, [(5,30),(10,30),(20,30),(25,30),(35,30),(40,30)])"
   ]
  },
  {
   "cell_type": "code",
   "execution_count": 11,
   "metadata": {},
   "outputs": [
    {
     "name": "stderr",
     "output_type": "stream",
     "text": [
      "Started Log Value: 0.21725614592432976\n"
     ]
    },
    {
     "data": {
      "image/png": "[encoded data removed]",
      "text/plain": [
       "<Figure size 432x288 with 1 Axes>"
      ]
     },
     "metadata": {
      "needs_background": "light"
     },
     "output_type": "display_data"
    }
   ],
   "source": [
    "imze.plot_fcs(spectra0_intra, [(5,30),(10,30),(20,30),(25,30),(35,30),(40,30)])"
   ]
  },
  {
   "cell_type": "code",
   "execution_count": 12,
   "metadata": {},
   "outputs": [
    {
     "name": "stderr",
     "output_type": "stream",
     "text": [
      "Started Log Value: 0.3364191856862599\n"
     ]
    },
    {
     "data": {
      "image/png": "[encoded data removed]",
      "text/plain": [
       "<Figure size 432x288 with 1 Axes>"
      ]
     },
     "metadata": {
      "needs_background": "light"
     },
     "output_type": "display_data"
    }
   ],
   "source": [
    "imze.plot_fcs(spectra0, [(5,30),(10,30),(20,30),(25,30),(35,30),(40,30)])"
   ]
  },
  {
   "cell_type": "code",
   "execution_count": 13,
   "metadata": {},
   "outputs": [
    {
     "name": "stderr",
     "output_type": "stream",
     "text": [
      "Started Log Value: 0.17063884288072587\n"
     ]
    },
    {
     "data": {
      "image/png": "[encoded data removed]",
      "text/plain": [
       "<Figure size 432x288 with 1 Axes>"
      ]
     },
     "metadata": {
      "needs_background": "light"
     },
     "output_type": "display_data"
    }
   ],
   "source": [
    "imze.plot_fcs(spectra1_orig, [(5,30),(10,30),(20,30),(25,30),(35,30),(40,30)])"
   ]
  },
  {
   "cell_type": "code",
   "execution_count": 14,
   "metadata": {},
   "outputs": [
    {
     "name": "stderr",
     "output_type": "stream",
     "text": [
      "Started Log Value: 0.2648863598704338\n"
     ]
    },
    {
     "data": {
      "image/png": "[encoded data removed]",
      "text/plain": [
       "<Figure size 432x288 with 1 Axes>"
      ]
     },
     "metadata": {
      "needs_background": "light"
     },
     "output_type": "display_data"
    }
   ],
   "source": [
    "imze.plot_fcs(spectra1_intra, [(5,30),(10,30),(20,30),(25,30),(35,30),(40,30)])"
   ]
  },
  {
   "cell_type": "code",
   "execution_count": 15,
   "metadata": {},
   "outputs": [
    {
     "name": "stderr",
     "output_type": "stream",
     "text": [
      "Started Log Value: 0.4103202798662151\n"
     ]
    },
    {
     "data": {
      "image/png": "[encoded data removed]",
      "text/plain": [
       "<Figure size 432x288 with 1 Axes>"
      ]
     },
     "metadata": {
      "needs_background": "light"
     },
     "output_type": "display_data"
    }
   ],
   "source": [
    "imze.plot_fcs(spectra1, [(5,30),(10,30),(20,30),(25,30),(35,30),(40,30)])"
   ]
  },
  {
   "cell_type": "markdown",
   "metadata": {},
   "source": [
    "We can now ensure that the normalized spectra are indeed comparable."
   ]
  },
  {
   "cell_type": "markdown",
   "metadata": {},
   "source": [
    "Where are the highest peaks? This may give a hint on whether or not a normalization by max intensity would also have worked. => here: most probably yes!"
   ]
  },
  {
   "cell_type": "code",
   "execution_count": 16,
   "metadata": {},
   "outputs": [
    {
     "name": "stdout",
     "output_type": "stream",
     "text": [
      "3454.87441091502 39\n",
      "3456.383544128344 278\n",
      "3457.8926773416683 2332\n",
      "4965.516757452595 2\n",
      "14980.124761072322 2\n",
      "14981.633894285647 2\n"
     ]
    },
    {
     "data": {
      "image/png": "[encoded data removed]",
      "text/plain": [
       "<Figure size 377.6x288 with 2 Axes>"
      ]
     },
     "metadata": {
      "needs_background": "light"
     },
     "output_type": "display_data"
    },
    {
     "name": "stdout",
     "output_type": "stream",
     "text": [
      "2655 45.060471276429595 282.8224196423905 133.18045036950951\n"
     ]
    },
    {
     "data": {
      "image/png": "[encoded data removed]",
      "text/plain": [
       "<Figure size 432x288 with 1 Axes>"
      ]
     },
     "metadata": {
      "needs_background": "light"
     },
     "output_type": "display_data"
    }
   ],
   "source": [
    "imze.list_highest_peaks(spectra0, counter=True)"
   ]
  },
  {
   "cell_type": "markdown",
   "metadata": {},
   "source": [
    "Let's plot the norm of each spectrum"
   ]
  },
  {
   "cell_type": "code",
   "execution_count": 17,
   "metadata": {},
   "outputs": [
    {
     "data": {
      "image/png": "[encoded data removed]",
      "text/plain": [
       "<Figure size 377.6x288 with 2 Axes>"
      ]
     },
     "metadata": {
      "needs_background": "light"
     },
     "output_type": "display_data"
    }
   ],
   "source": [
    "imze.plot_tnc(spectra0)"
   ]
  },
  {
   "cell_type": "markdown",
   "metadata": {},
   "source": [
    "It can be seen that the norm of the spectra differs. However, given that intensities should be comparable, and that there was sample everywhere => just continue"
   ]
  },
  {
   "cell_type": "code",
   "execution_count": 18,
   "metadata": {},
   "outputs": [],
   "source": [
    "spec = SpectraRegion(spectra0, imze.mzValues)"
   ]
  },
  {
   "cell_type": "code",
   "execution_count": 19,
   "metadata": {},
   "outputs": [
    {
     "name": "stderr",
     "output_type": "stream",
     "text": [
      "2020-10-12 16:57:17,746  SpectraRegion  INFO: dimensions inputarray: 17900\n",
      "2020-10-12 16:57:17,746  SpectraRegion  INFO: Creating C++ obj\n",
      "2020-10-12 16:57:17,747  SpectraRegion  INFO: 17900 (45, 59, 17900)\n",
      "2020-10-12 16:57:17,747  SpectraRegion  INFO: dimensions 17900\n",
      "2020-10-12 16:57:17,748  SpectraRegion  INFO: input dimensions (45, 59, 17900)\n",
      "2020-10-12 16:57:17,748  SpectraRegion  INFO: Switching to dot mode\n",
      "2020-10-12 16:57:17,802  SpectraRegion  INFO: Starting calc similarity c++\n",
      "2020-10-12 16:57:26,544  SpectraRegion  INFO: outclust dimensions (2655, 2655)\n",
      "2020-10-12 16:57:26,546  SpectraRegion  INFO: Calculating spectra similarity\n",
      "2020-10-12 16:57:26,584  SpectraRegion  INFO: Calculating spectra similarity done\n"
     ]
    },
    {
     "data": {
      "text/plain": [
       "array([[1.        , 0.97618073, 0.9691782 , ..., 0.83840245, 0.8406169 ,\n",
       "        0.85142994],\n",
       "       [0.97618073, 1.        , 0.98342717, ..., 0.88986284, 0.8919327 ,\n",
       "        0.90145195],\n",
       "       [0.9691782 , 0.98342717, 1.        , ..., 0.90628433, 0.9039524 ,\n",
       "        0.91665334],\n",
       "       ...,\n",
       "       [0.83840245, 0.88986284, 0.90628433, ..., 1.        , 0.9589327 ,\n",
       "        0.96420807],\n",
       "       [0.8406169 , 0.8919327 , 0.9039524 , ..., 0.9589327 , 1.        ,\n",
       "        0.9649949 ],\n",
       "       [0.85142994, 0.90145195, 0.91665334, ..., 0.96420807, 0.9649949 ,\n",
       "        1.        ]], dtype=float32)"
      ]
     },
     "execution_count": 19,
     "metadata": {},
     "output_type": "execute_result"
    }
   ],
   "source": [
    "spec.calculate_similarity(mode=\"spectra_log\")"
   ]
  },
  {
   "cell_type": "markdown",
   "metadata": {},
   "source": [
    "There are various (unsupervised) clustering techniques. Like UMAP+HDBSCAN"
   ]
  },
  {
   "cell_type": "code",
   "execution_count": 20,
   "metadata": {},
   "outputs": [
    {
     "name": "stderr",
     "output_type": "stream",
     "text": [
      "2020-10-12 16:57:26,611  SpectraRegion  INFO: Calculating clusters\n",
      "2020-10-12 16:57:26,612  SpectraRegion  INFO: Elem Matrix of shape: (2655, 17900)\n",
      "2020-10-12 16:57:26,719  SpectraRegion  INFO: UMAP reduction\n",
      "2020-10-12 16:57:50,971  SpectraRegion  INFO: HDBSCAN reduction\n",
      "2020-10-12 16:57:50,972  SpectraRegion  INFO: HDBSCAN Clusterer with matrix (1000, 2)\n",
      "2020-10-12 16:57:50,996  SpectraRegion  INFO: HDBSCAN Soft Clusters with matrix (2655, 2)\n",
      "2020-10-12 16:57:51,297  SpectraRegion  INFO: HDBSCAN Soft Clusters as output matrix (2655, 20)\n",
      "2020-10-12 16:57:51,298  SpectraRegion  INFO: HDBSCAN Soft Clusters: (2655, 20)\n",
      "2020-10-12 16:57:51,299  SpectraRegion  INFO: HDBSCAN Labeling\n",
      "2020-10-12 16:57:51,304  SpectraRegion  INFO: Cluster Reduction for UMAP Result\n",
      "2020-10-12 16:57:51,305  SpectraRegion  INFO: Cluster Reduction\n",
      "2020-10-12 16:57:51,305  SpectraRegion  INFO: Calculating consensus spectra\n",
      "2020-10-12 16:57:51,335  SpectraRegion  INFO: Setting consensus spectra\n",
      "2020-10-12 16:57:51,335  SpectraRegion  INFO: Calculating consensus spectra done\n",
      "2020-10-12 16:57:51,382  SpectraRegion  INFO: Calculating clusters done\n",
      "2020-10-12 16:57:51,405  SpectraRegion  INFO: Calculating clusters saved\n"
     ]
    },
    {
     "name": "stdout",
     "output_type": "stream",
     "text": [
      "[[1.21036681e-37 3.22392546e-01 2.46994982e-01 ... 7.71585016e-36\n",
      "  9.46326430e-36 1.13045636e-35]\n",
      " [2.51306289e-04 1.05701190e-01 1.67749100e-01 ... 9.96041446e-04\n",
      "  1.22041306e-03 1.43401969e-03]\n",
      " [2.62141139e-02 1.02856329e-01 7.22697381e-02 ... 3.88365480e-02\n",
      "  4.79822808e-02 5.90680617e-02]\n",
      " ...\n",
      " [3.55633295e-18 1.48033071e-16 1.67167342e-16 ... 1.33128020e-12\n",
      "  1.30567130e-12 7.97656715e-13]\n",
      " [2.01671446e-03 3.98106911e-03 4.47165727e-03 ... 1.32909687e-01\n",
      "  1.23339510e-01 7.83525911e-02]\n",
      " [6.40736823e-50 2.72280667e-48 3.09098088e-48 ... 1.22182425e-01\n",
      "  1.25762562e-01 7.18628604e-02]]\n"
     ]
    },
    {
     "data": {
      "text/plain": [
       "array([[1, 1, 1, ..., 6, 6, 6],\n",
       "       [1, 1, 8, ..., 2, 6, 5],\n",
       "       [1, 1, 8, ..., 2, 6, 5],\n",
       "       ...,\n",
       "       [1, 1, 1, ..., 6, 6, 6],\n",
       "       [1, 1, 1, ..., 6, 6, 2],\n",
       "       [1, 8, 1, ..., 4, 2, 2]], dtype=int16)"
      ]
     },
     "execution_count": 20,
     "metadata": {},
     "output_type": "execute_result"
    }
   ],
   "source": [
    "spec.segment(method=\"UMAP_DBSCAN\", number_of_regions=15, min_cluster_size=9, num_samples=1000)"
   ]
  },
  {
   "cell_type": "code",
   "execution_count": 21,
   "metadata": {},
   "outputs": [
    {
     "name": "stderr",
     "output_type": "stream",
     "text": [
      "2020-10-12 16:57:51,441  SpectraRegion  INFO: HDBSCAN reduction\n",
      "2020-10-12 16:57:51,442  SpectraRegion  INFO: HDBSCAN Clusterer with matrix (500, 2)\n",
      "2020-10-12 16:57:51,455  SpectraRegion  INFO: HDBSCAN Soft Clusters with matrix (2655, 2)\n",
      "2020-10-12 16:57:51,681  SpectraRegion  INFO: HDBSCAN Soft Clusters as output matrix (2655, 5)\n",
      "2020-10-12 16:57:51,682  SpectraRegion  INFO: HDBSCAN Soft Clusters: (2655, 5)\n",
      "2020-10-12 16:57:51,682  SpectraRegion  INFO: HDBSCAN Labeling\n"
     ]
    },
    {
     "name": "stdout",
     "output_type": "stream",
     "text": [
      "[[8.35941617e-02 6.28280044e-02 3.03481137e-02 3.03939200e-02\n",
      "  3.37816450e-02]\n",
      " [8.16066672e-02 5.88036175e-02 2.87025141e-02 2.87803149e-02\n",
      "  3.20068867e-02]\n",
      " [1.72192526e-01 2.41376620e-01 9.57678627e-02 9.57316659e-02\n",
      "  1.06440952e-01]\n",
      " ...\n",
      " [3.18347712e-02 7.26722129e-01 7.95816755e-03 8.51545376e-03\n",
      "  1.05842508e-02]\n",
      " [6.68005756e-06 8.88140886e-01 1.72209186e-06 1.85138835e-06\n",
      "  2.31708541e-06]\n",
      " [1.47683187e-03 8.38784797e-01 3.61856960e-04 3.84867923e-04\n",
      "  4.76778743e-04]]\n"
     ]
    }
   ],
   "source": [
    "spec.redo_hdbscan_on_dimred(number_of_regions=15, min_cluster_size=9, num_samples=500)"
   ]
  },
  {
   "cell_type": "code",
   "execution_count": 22,
   "metadata": {},
   "outputs": [
    {
     "data": {
      "text/plain": [
       "2655"
      ]
     },
     "execution_count": 22,
     "metadata": {},
     "output_type": "execute_result"
    }
   ],
   "source": [
    "len(spec.dimred_labels)"
   ]
  },
  {
   "cell_type": "code",
   "execution_count": 23,
   "metadata": {},
   "outputs": [
    {
     "name": "stderr",
     "output_type": "stream",
     "text": [
      "2020-10-12 16:57:51,745  SpectraRegion  INFO: Pixels    : 2655\n",
      "2020-10-12 16:57:51,746  SpectraRegion  INFO: Unassigned: 0\n"
     ]
    },
    {
     "data": {
      "image/png": "[encoded data removed]",
      "text/plain": [
       "<Figure size 720x432 with 1 Axes>"
      ]
     },
     "metadata": {
      "needs_background": "light"
     },
     "output_type": "display_data"
    }
   ],
   "source": [
    "mpl.rcParams['figure.figsize'] = (10,6)\n",
    "spec.vis_umap(legend=True)\n",
    "mpl.rcParams['figure.figsize'] = (6,4)"
   ]
  },
  {
   "cell_type": "code",
   "execution_count": 24,
   "metadata": {},
   "outputs": [
    {
     "data": {
      "image/png": "[encoded data removed]",
      "text/plain": [
       "<Figure size 432x288 with 2 Axes>"
      ]
     },
     "metadata": {
      "needs_background": "light"
     },
     "output_type": "display_data"
    }
   ],
   "source": [
    "spec.plot_segments()"
   ]
  },
  {
   "cell_type": "code",
   "execution_count": 25,
   "metadata": {},
   "outputs": [
    {
     "name": "stderr",
     "output_type": "stream",
     "text": [
      "2020-10-12 16:57:52,017  SpectraRegion  INFO: Assigning clusters to background: {1, 2, 5}\n"
     ]
    },
    {
     "data": {
      "text/plain": [
       "array([[0, 0, 0, ..., 0, 0, 0],\n",
       "       [0, 0, 0, ..., 0, 0, 0],\n",
       "       [0, 0, 0, ..., 0, 0, 0],\n",
       "       ...,\n",
       "       [0, 0, 0, ..., 0, 0, 0],\n",
       "       [0, 0, 0, ..., 0, 0, 0],\n",
       "       [0, 0, 0, ..., 0, 0, 0]], dtype=int16)"
      ]
     },
     "execution_count": 25,
     "metadata": {},
     "output_type": "execute_result"
    }
   ],
   "source": [
    "spec.filter_clusters(method='remove_singleton')\n",
    "spec.filter_clusters(method='merge_background')\n",
    "spec.filter_clusters(method='remove_islands')"
   ]
  },
  {
   "cell_type": "code",
   "execution_count": 26,
   "metadata": {},
   "outputs": [
    {
     "data": {
      "image/png": "[encoded data removed]",
      "text/plain": [
       "<Figure size 432x288 with 2 Axes>"
      ]
     },
     "metadata": {
      "needs_background": "light"
     },
     "output_type": "display_data"
    }
   ],
   "source": [
    "spec.plot_segments()"
   ]
  },
  {
   "cell_type": "markdown",
   "metadata": {},
   "source": [
    "Which may or may not work well - more robustly, and maybe faster is a classic clustering of the similarity scores:"
   ]
  },
  {
   "cell_type": "code",
   "execution_count": 27,
   "metadata": {},
   "outputs": [
    {
     "name": "stderr",
     "output_type": "stream",
     "text": [
      "2020-10-12 16:57:52,151  SpectraRegion  INFO: Calculating clusters\n",
      "2020-10-12 16:57:52,263  SpectraRegion  INFO: Calculating clusters done\n",
      "2020-10-12 16:57:52,280  SpectraRegion  INFO: Calculating clusters saved\n"
     ]
    },
    {
     "data": {
      "text/plain": [
       "array([[6, 6, 6, ..., 2, 2, 4],\n",
       "       [6, 6, 7, ..., 2, 4, 4],\n",
       "       [6, 6, 7, ..., 1, 4, 4],\n",
       "       ...,\n",
       "       [6, 6, 6, ..., 4, 4, 4],\n",
       "       [6, 6, 6, ..., 4, 4, 4],\n",
       "       [6, 6, 7, ..., 4, 4, 4]], dtype=int16)"
      ]
     },
     "execution_count": 27,
     "metadata": {},
     "output_type": "execute_result"
    }
   ],
   "source": [
    "spec.segment(method=\"WARD\", number_of_regions=15)"
   ]
  },
  {
   "cell_type": "code",
   "execution_count": 28,
   "metadata": {},
   "outputs": [
    {
     "data": {
      "image/png": "[encoded data removed]",
      "text/plain": [
       "<Figure size 432x288 with 2 Axes>"
      ]
     },
     "metadata": {
      "needs_background": "light"
     },
     "output_type": "display_data"
    }
   ],
   "source": [
    "spec.plot_segments()"
   ]
  },
  {
   "cell_type": "code",
   "execution_count": 29,
   "metadata": {},
   "outputs": [
    {
     "name": "stderr",
     "output_type": "stream",
     "text": [
      "2020-10-12 16:57:52,437  SpectraRegion  INFO: Assigning clusters to background: {1, 2, 3, 4, 5, 6, 7}\n"
     ]
    },
    {
     "data": {
      "text/plain": [
       "array([[0, 0, 0, ..., 0, 0, 0],\n",
       "       [0, 0, 0, ..., 0, 0, 0],\n",
       "       [0, 0, 0, ..., 0, 0, 0],\n",
       "       ...,\n",
       "       [0, 0, 0, ..., 0, 0, 0],\n",
       "       [0, 0, 0, ..., 0, 0, 0],\n",
       "       [0, 0, 0, ..., 0, 0, 0]], dtype=int16)"
      ]
     },
     "execution_count": 29,
     "metadata": {},
     "output_type": "execute_result"
    }
   ],
   "source": [
    "spec.filter_clusters(method='remove_singleton')\n",
    "spec.filter_clusters(method='merge_background')\n",
    "spec.filter_clusters(method='remove_islands')"
   ]
  },
  {
   "cell_type": "code",
   "execution_count": 30,
   "metadata": {},
   "outputs": [
    {
     "data": {
      "image/png": "[encoded data removed]",
      "text/plain": [
       "<Figure size 432x288 with 2 Axes>"
      ]
     },
     "metadata": {
      "needs_background": "light"
     },
     "output_type": "display_data"
    }
   ],
   "source": [
    "spec.plot_segments()"
   ]
  },
  {
   "cell_type": "markdown",
   "metadata": {},
   "source": [
    "A manual curation of the segmentation is still possible!"
   ]
  },
  {
   "cell_type": "code",
   "execution_count": 31,
   "metadata": {},
   "outputs": [],
   "source": [
    "spec.segmented[0:6,] = 0"
   ]
  },
  {
   "cell_type": "code",
   "execution_count": 32,
   "metadata": {},
   "outputs": [
    {
     "data": {
      "image/png": "[encoded data removed]",
      "text/plain": [
       "<Figure size 432x288 with 2 Axes>"
      ]
     },
     "metadata": {
      "needs_background": "light"
     },
     "output_type": "display_data"
    }
   ],
   "source": [
    "spec.plot_segments()"
   ]
  },
  {
   "cell_type": "markdown",
   "metadata": {},
   "source": [
    "Consensus Analysis"
   ]
  },
  {
   "cell_type": "code",
   "execution_count": null,
   "metadata": {},
   "outputs": [],
   "source": [
    "spec.consensus_spectra()"
   ]
  },
  {
   "cell_type": "code",
   "execution_count": null,
   "metadata": {},
   "outputs": [],
   "source": [
    "spec.consensus_similarity()"
   ]
  },
  {
   "cell_type": "code",
   "execution_count": null,
   "metadata": {},
   "outputs": [],
   "source": [
    "spec.plot_consensus_similarity()"
   ]
  },
  {
   "cell_type": "code",
   "execution_count": null,
   "metadata": {},
   "outputs": [],
   "source": [
    "spec.plot_consensus_similarity(mode=\"spectra\")"
   ]
  },
  {
   "cell_type": "markdown",
   "metadata": {},
   "source": [
    "All clusters hare a 95% similarity in median. Cluster 0 (background) is the most heterogeneous one."
   ]
  },
  {
   "cell_type": "code",
   "execution_count": null,
   "metadata": {},
   "outputs": [],
   "source": [
    "#spec.plot_inter_consensus_similarity()"
   ]
  },
  {
   "cell_type": "code",
   "execution_count": null,
   "metadata": {},
   "outputs": [],
   "source": []
  },
  {
   "cell_type": "code",
   "execution_count": null,
   "metadata": {},
   "outputs": [],
   "source": []
  },
  {
   "cell_type": "markdown",
   "metadata": {},
   "source": [
    "# Differential Analysis"
   ]
  },
  {
   "cell_type": "markdown",
   "metadata": {},
   "source": [
    "One of the stand-alone features of pyIMS is the integration with differential expression analysis. Here several key-features are presented.\n",
    "\n",
    "First, single masses are looked at:"
   ]
  },
  {
   "cell_type": "code",
   "execution_count": null,
   "metadata": {},
   "outputs": [],
   "source": [
    "spec.mass_heatmap(14954, min_cut_off=0.0025)"
   ]
  },
  {
   "cell_type": "markdown",
   "metadata": {},
   "source": [
    "The mass with m/z-value 14954 apparently is most active within the aorta structure (center of the image). Is this specific to a specific cluster"
   ]
  },
  {
   "cell_type": "code",
   "execution_count": null,
   "metadata": {},
   "outputs": [],
   "source": [
    "dfobj = spec.mass_dabest(14954)"
   ]
  },
  {
   "cell_type": "markdown",
   "metadata": {},
   "source": [
    "The DABEST-Plot also clearly reveals that in contrast to the background, cluster 8 intensity values for this mass are quite higher than for all other clusters.\n",
    "\n",
    "Abviously this mass is most intense in Cluster 8, but also cluster 14. We can now take a look at this mass by setting cluster 14 as reference cluster"
   ]
  },
  {
   "cell_type": "code",
   "execution_count": null,
   "metadata": {},
   "outputs": [],
   "source": [
    "spec.mass_dabest(14954, background=14)"
   ]
  },
  {
   "cell_type": "markdown",
   "metadata": {},
   "source": [
    "Not knowing where this cluster 8 is, we can highlight it specifically:"
   ]
  },
  {
   "cell_type": "code",
   "execution_count": null,
   "metadata": {},
   "outputs": [],
   "source": [
    "spec.plot_segments(highlight=8)"
   ]
  },
  {
   "cell_type": "markdown",
   "metadata": {},
   "source": [
    "Or together with cluster 14, where this mass is also prevalent.\n",
    "\n",
    "On a sidenote: background is set to 0, other regions == 1, and the target region is set to 2"
   ]
  },
  {
   "cell_type": "code",
   "execution_count": null,
   "metadata": {},
   "outputs": [],
   "source": [
    "spec.plot_segments(highlight=[8,11])"
   ]
  },
  {
   "cell_type": "markdown",
   "metadata": {},
   "source": [
    "Just for the sake of clarity: we now remove all differential expression results!"
   ]
  },
  {
   "cell_type": "code",
   "execution_count": null,
   "metadata": {},
   "outputs": [],
   "source": [
    "spec.clear_de_results()"
   ]
  },
  {
   "cell_type": "markdown",
   "metadata": {},
   "source": [
    "## Protein m/z to name\n",
    "\n",
    "For any combination of sequencing results with these IMS analyses, knowing which protein was measured is of interest.\n",
    "\n",
    "Using a previously performed LC-MS/MS experiment, which delivers detected proteins together with the masses, allows an easy translation of m/z values to protein name.\n",
    "This work is done in the ProteinWeights object."
   ]
  },
  {
   "cell_type": "code",
   "execution_count": 33,
   "metadata": {},
   "outputs": [
    {
     "name": "stderr",
     "output_type": "stream",
     "text": [
      "2020-10-12 17:24:55,489  ProteinWeights  INFO: Loaded a total of 7283 proteins with 10191 masses\n"
     ]
    }
   ],
   "source": [
    "pw_theo = ProteinWeights(\"protein_weights.theo.tsv\", max_mass=30010)"
   ]
  },
  {
   "cell_type": "code",
   "execution_count": 34,
   "metadata": {},
   "outputs": [
    {
     "name": "stderr",
     "output_type": "stream",
     "text": [
      "2020-10-12 17:24:58,617  ProteinWeights  INFO:          Number of total proteins: 7283\n",
      "2020-10-12 17:24:58,618  ProteinWeights  INFO:            Number of total masses: 10191\n",
      "2020-10-12 17:24:58,618  ProteinWeights  INFO: Number of proteins with collision: 6316\n",
      "2020-10-12 17:24:58,620  ProteinWeights  INFO:         Mean Number of Collidings: 2.8738125395820138\n",
      "2020-10-12 17:24:58,622  ProteinWeights  INFO:       Median Number of Collidings: 2.0\n",
      "2020-10-12 17:24:58,623  ProteinWeights  INFO: Proteins with collision: [('Mbp', 30), ('Crem', 25), ('Homer1', 18), ('Clta', 18), ('Eif4e2', 18), ('U2af1l4', 16), ('Tspan32', 16), ('Tpd52', 16), ('Asph', 16), ('Hmga1', 15)]\n"
     ]
    }
   ],
   "source": [
    "pw_theo.print_collisions(print_proteins=False)"
   ]
  },
  {
   "cell_type": "code",
   "execution_count": 35,
   "metadata": {},
   "outputs": [
    {
     "name": "stderr",
     "output_type": "stream",
     "text": [
      "2020-10-12 17:25:00,350  ProteinWeights  INFO:          Number of total proteins: 7283\n",
      "2020-10-12 17:25:00,351  ProteinWeights  INFO:            Number of total masses: 10191\n",
      "2020-10-12 17:25:00,351  ProteinWeights  INFO: Number of proteins with collision: 4881\n",
      "2020-10-12 17:25:00,353  ProteinWeights  INFO:         Mean Number of Collidings: 1.9096496619545176\n",
      "2020-10-12 17:25:00,354  ProteinWeights  INFO:       Median Number of Collidings: 2.0\n",
      "2020-10-12 17:25:00,355  ProteinWeights  INFO: Proteins with collision: [('Mbp', 19), ('Spcs2', 11), ('Tpd52', 11), ('Erh', 10), ('Crem', 10), ('Vps25', 10), ('Ifi27', 10), ('Nudt7', 10), ('Clta', 10), ('Eif4e2', 10)]\n"
     ]
    }
   ],
   "source": [
    "pw_theo.print_collisions(maxdist=1.0, print_proteins=False)"
   ]
  },
  {
   "cell_type": "code",
   "execution_count": null,
   "metadata": {},
   "outputs": [],
   "source": []
  },
  {
   "cell_type": "markdown",
   "metadata": {},
   "source": [
    "With the m/z->protein object we can now find all marker masses for the 15 detected regions\n",
    "\n",
    "For example we can also try to find out, which protein corresponds to mass 14954 ! (it's Ifitm3 ...)"
   ]
  },
  {
   "cell_type": "code",
   "execution_count": null,
   "metadata": {},
   "outputs": [],
   "source": []
  },
  {
   "cell_type": "code",
   "execution_count": 36,
   "metadata": {},
   "outputs": [
    {
     "data": {
      "text/plain": [
       "[('Tnfrsf12a', 14952.97469999999), ('Ifitm3', 14954.185999999994)]"
      ]
     },
     "execution_count": 36,
     "metadata": {},
     "output_type": "execute_result"
    }
   ],
   "source": [
    "pw_theo.get_protein_from_mass(14954)"
   ]
  },
  {
   "cell_type": "code",
   "execution_count": null,
   "metadata": {},
   "outputs": [],
   "source": []
  },
  {
   "cell_type": "code",
   "execution_count": null,
   "metadata": {},
   "outputs": [],
   "source": [
    "for y in pw_theo.protein2mass:\n",
    "    if not y.startswith((\"Ccl\", \"Ccr\", \"Cxc\", \"Il\")):\n",
    "        continue\n",
    "    for x in pw_theo.get_masses_for_protein(y):\n",
    "        massprots = pw_theo.get_protein_from_mass(x)\n",
    "        \n",
    "        if len(massprots) <= 2:\n",
    "            print(x, massprots)\n",
    "            slided_0.mass_heatmap(x)\n",
    "            "
   ]
  },
  {
   "cell_type": "code",
   "execution_count": null,
   "metadata": {},
   "outputs": [],
   "source": [
    "slided_0.mass_heatmap(Ccl9)"
   ]
  },
  {
   "cell_type": "markdown",
   "metadata": {},
   "source": [
    "Marker masses/proteins/genes are genes which are differentially regulated when compared to the specific cluster and all other clusters (including or excluding the background cluster).\n",
    "\n",
    "Making the distinction regarding the background cluster might be required if the target tissue is embedded in another tissue. Excluding the background might then deliver more sensitive results."
   ]
  },
  {
   "cell_type": "code",
   "execution_count": 37,
   "metadata": {},
   "outputs": [
    {
     "name": "stderr",
     "output_type": "stream",
     "text": [
      "2020-10-12 17:25:02,225  SpectraRegion  INFO: DE data for case: [9]\n",
      "2020-10-12 17:25:02,225  SpectraRegion  INFO: DE data for control: [13, 15, 12, 11, 10, 14, 8]\n",
      "2020-10-12 17:25:02,226  SpectraRegion  INFO: Running [9] against [13, 15, 12, 11, 10, 14, 8]\n",
      "2020-10-12 17:25:02,227  SpectraRegion  INFO: DE result key: ((9,), (8, 10, 11, 12, 13, 14, 15))\n",
      "100% |########################################################################|\n",
      "100% |########################################################################|\n",
      "100% |########################################################################|\n",
      "100% |########################################################################|\n",
      "100% |########################################################################|\n",
      "100% |########################################################################|\n",
      "100% |########################################################################|\n",
      "100% |########################################################################|\n",
      "2020-10-12 17:25:03,014  SpectraRegion  INFO: DE DataFrame ready. Shape (17900, 625)\n",
      "2020-10-12 17:25:03,017  SpectraRegion  INFO: DE Sample DataFrame ready. Shape (625, 3)\n",
      "2020-10-12 17:25:03,784  SpectraRegion  INFO: Performing DE-test: ttest\n",
      "/usr/local/lib/python3.8/dist-packages/anndata/_core/anndata.py:119: ImplicitModificationWarning: Transforming to str index.\n",
      "  warnings.warn(\"Transforming to str index.\", ImplicitModificationWarning)\n",
      "2020-10-12 17:25:03,908  SpectraRegion  INFO: DE-test (ttest) finished. Results available: ((9,), (8, 10, 11, 12, 13, 14, 15))\n",
      "2020-10-12 17:25:03,909  SpectraRegion  INFO: Performing DE-test: rank\n",
      "2020-10-12 17:25:08,125  SpectraRegion  INFO: DE-test (rank) finished. Results available: ((9,), (8, 10, 11, 12, 13, 14, 15))\n",
      "2020-10-12 17:25:08,143  SpectraRegion  INFO: DE result for case ((9,), (8, 10, 11, 12, 13, 14, 15)) with (17900, 7) results\n",
      "2020-10-12 17:25:08,144  SpectraRegion  INFO: DF column names ['gene', 'pval', 'qval', 'log2fc', 'mean', 'zero_mean', 'zero_variance']\n",
      "2020-10-12 17:25:08,144  SpectraRegion  INFO: DE result logFC inversed\n",
      "2020-10-12 17:25:08,147  SpectraRegion  INFO: DE result for case ((9,), (8, 10, 11, 12, 13, 14, 15)) with (137, 7) results (filtered)\n",
      "2020-10-12 17:25:08,166  SpectraRegion  INFO: Created matrices with shape (113, 17900) and (512, 17900) (target, bg)\n",
      "2020-10-12 17:25:10,000  SpectraRegion  INFO: DE result for case ((9,), (8, 10, 11, 12, 13, 14, 15)) with (17900, 7) results\n",
      "2020-10-12 17:25:10,000  SpectraRegion  INFO: DF column names ['gene', 'pval', 'qval', 'log2fc', 'mean', 'zero_mean', 'zero_variance']\n",
      "2020-10-12 17:25:10,001  SpectraRegion  INFO: DE result logFC inversed\n",
      "2020-10-12 17:25:10,004  SpectraRegion  INFO: DE result for case ((9,), (8, 10, 11, 12, 13, 14, 15)) with (44, 7) results (filtered)\n",
      "2020-10-12 17:25:10,020  SpectraRegion  INFO: Created matrices with shape (113, 17900) and (512, 17900) (target, bg)\n",
      "2020-10-12 17:25:10,487  SpectraRegion  INFO: DE data for case: [13]\n",
      "2020-10-12 17:25:10,487  SpectraRegion  INFO: DE data for control: [9, 15, 12, 11, 10, 14, 8]\n",
      "2020-10-12 17:25:10,488  SpectraRegion  INFO: Running [13] against [9, 15, 12, 11, 10, 14, 8]\n",
      "2020-10-12 17:25:10,488  SpectraRegion  INFO: DE result key: ((13,), (8, 9, 10, 11, 12, 14, 15))\n",
      "100% |########################################################################|\n",
      "100% |########################################################################|\n",
      "100% |########################################################################|\n",
      "100% |########################################################################|\n",
      "100% |########################################################################|\n",
      "100% |########################################################################|\n",
      "100% |########################################################################|\n",
      "100% |########################################################################|\n",
      "2020-10-12 17:25:11,164  SpectraRegion  INFO: DE DataFrame ready. Shape (17900, 625)\n",
      "2020-10-12 17:25:11,166  SpectraRegion  INFO: DE Sample DataFrame ready. Shape (625, 3)\n",
      "2020-10-12 17:25:11,839  SpectraRegion  INFO: Performing DE-test: ttest\n",
      "/usr/local/lib/python3.8/dist-packages/anndata/_core/anndata.py:119: ImplicitModificationWarning: Transforming to str index.\n",
      "  warnings.warn(\"Transforming to str index.\", ImplicitModificationWarning)\n",
      "2020-10-12 17:25:11,949  SpectraRegion  INFO: DE-test (ttest) finished. Results available: ((13,), (8, 9, 10, 11, 12, 14, 15))\n",
      "2020-10-12 17:25:11,950  SpectraRegion  INFO: Performing DE-test: rank\n",
      "2020-10-12 17:25:16,024  SpectraRegion  INFO: DE-test (rank) finished. Results available: ((13,), (8, 9, 10, 11, 12, 14, 15))\n",
      "2020-10-12 17:25:16,039  SpectraRegion  INFO: DE result for case ((13,), (8, 9, 10, 11, 12, 14, 15)) with (17900, 7) results\n",
      "2020-10-12 17:25:16,039  SpectraRegion  INFO: DF column names ['gene', 'pval', 'qval', 'log2fc', 'mean', 'zero_mean', 'zero_variance']\n",
      "2020-10-12 17:25:16,040  SpectraRegion  INFO: DE result logFC inversed\n",
      "2020-10-12 17:25:16,042  SpectraRegion  INFO: DE result for case ((13,), (8, 9, 10, 11, 12, 14, 15)) with (621, 7) results (filtered)\n",
      "2020-10-12 17:25:16,060  SpectraRegion  INFO: Created matrices with shape (144, 17900) and (481, 17900) (target, bg)\n",
      "2020-10-12 17:25:23,288  SpectraRegion  INFO: DE result for case ((13,), (8, 9, 10, 11, 12, 14, 15)) with (17900, 7) results\n",
      "2020-10-12 17:25:23,289  SpectraRegion  INFO: DF column names ['gene', 'pval', 'qval', 'log2fc', 'mean', 'zero_mean', 'zero_variance']\n",
      "2020-10-12 17:25:23,289  SpectraRegion  INFO: DE result logFC inversed\n",
      "2020-10-12 17:25:23,292  SpectraRegion  INFO: DE result for case ((13,), (8, 9, 10, 11, 12, 14, 15)) with (621, 7) results (filtered)\n",
      "2020-10-12 17:25:23,308  SpectraRegion  INFO: Created matrices with shape (144, 17900) and (481, 17900) (target, bg)\n",
      "2020-10-12 17:25:30,154  SpectraRegion  INFO: DE data for case: [15]\n",
      "2020-10-12 17:25:30,155  SpectraRegion  INFO: DE data for control: [9, 13, 12, 11, 10, 14, 8]\n",
      "2020-10-12 17:25:30,156  SpectraRegion  INFO: Running [15] against [9, 13, 12, 11, 10, 14, 8]\n",
      "2020-10-12 17:25:30,156  SpectraRegion  INFO: DE result key: ((15,), (8, 9, 10, 11, 12, 13, 14))\n",
      "100% |########################################################################|\n",
      "100% |########################################################################|\n",
      "100% |########################################################################|\n",
      "100% |########################################################################|\n",
      "100% |########################################################################|\n",
      "100% |########################################################################|\n",
      "100% |########################################################################|\n",
      "100% |########################################################################|\n",
      "2020-10-12 17:25:30,746  SpectraRegion  INFO: DE DataFrame ready. Shape (17900, 625)\n",
      "2020-10-12 17:25:30,748  SpectraRegion  INFO: DE Sample DataFrame ready. Shape (625, 3)\n",
      "2020-10-12 17:25:31,377  SpectraRegion  INFO: Performing DE-test: ttest\n",
      "/usr/local/lib/python3.8/dist-packages/anndata/_core/anndata.py:119: ImplicitModificationWarning: Transforming to str index.\n",
      "  warnings.warn(\"Transforming to str index.\", ImplicitModificationWarning)\n",
      "2020-10-12 17:25:31,483  SpectraRegion  INFO: DE-test (ttest) finished. Results available: ((15,), (8, 9, 10, 11, 12, 13, 14))\n",
      "2020-10-12 17:25:31,483  SpectraRegion  INFO: Performing DE-test: rank\n",
      "2020-10-12 17:25:35,515  SpectraRegion  INFO: DE-test (rank) finished. Results available: ((15,), (8, 9, 10, 11, 12, 13, 14))\n",
      "2020-10-12 17:25:35,530  SpectraRegion  INFO: DE result for case ((15,), (8, 9, 10, 11, 12, 13, 14)) with (17900, 7) results\n",
      "2020-10-12 17:25:35,531  SpectraRegion  INFO: DF column names ['gene', 'pval', 'qval', 'log2fc', 'mean', 'zero_mean', 'zero_variance']\n",
      "2020-10-12 17:25:35,531  SpectraRegion  INFO: DE result logFC inversed\n",
      "2020-10-12 17:25:35,533  SpectraRegion  INFO: DE result for case ((15,), (8, 9, 10, 11, 12, 13, 14)) with (199, 7) results (filtered)\n",
      "2020-10-12 17:25:35,549  SpectraRegion  INFO: Created matrices with shape (161, 17900) and (464, 17900) (target, bg)\n",
      "2020-10-12 17:25:37,872  SpectraRegion  INFO: DE result for case ((15,), (8, 9, 10, 11, 12, 13, 14)) with (17900, 7) results\n",
      "2020-10-12 17:25:37,873  SpectraRegion  INFO: DF column names ['gene', 'pval', 'qval', 'log2fc', 'mean', 'zero_mean', 'zero_variance']\n",
      "2020-10-12 17:25:37,873  SpectraRegion  INFO: DE result logFC inversed\n",
      "2020-10-12 17:25:37,876  SpectraRegion  INFO: DE result for case ((15,), (8, 9, 10, 11, 12, 13, 14)) with (155, 7) results (filtered)\n",
      "2020-10-12 17:25:37,893  SpectraRegion  INFO: Created matrices with shape (161, 17900) and (464, 17900) (target, bg)\n",
      "2020-10-12 17:25:39,599  SpectraRegion  INFO: DE data for case: [12]\n",
      "2020-10-12 17:25:39,600  SpectraRegion  INFO: DE data for control: [9, 13, 15, 11, 10, 14, 8]\n",
      "2020-10-12 17:25:39,600  SpectraRegion  INFO: Running [12] against [9, 13, 15, 11, 10, 14, 8]\n",
      "2020-10-12 17:25:39,600  SpectraRegion  INFO: DE result key: ((12,), (8, 9, 10, 11, 13, 14, 15))\n",
      "100% |########################################################################|\n",
      "100% |########################################################################|\n",
      "100% |########################################################################|\n",
      "100% |########################################################################|\n",
      "100% |########################################################################|\n",
      "100% |########################################################################|\n",
      "100% |########################################################################|\n",
      "100% |########################################################################|\n",
      "2020-10-12 17:25:40,196  SpectraRegion  INFO: DE DataFrame ready. Shape (17900, 625)\n",
      "2020-10-12 17:25:40,198  SpectraRegion  INFO: DE Sample DataFrame ready. Shape (625, 3)\n",
      "2020-10-12 17:25:40,829  SpectraRegion  INFO: Performing DE-test: ttest\n",
      "/usr/local/lib/python3.8/dist-packages/anndata/_core/anndata.py:119: ImplicitModificationWarning: Transforming to str index.\n",
      "  warnings.warn(\"Transforming to str index.\", ImplicitModificationWarning)\n",
      "2020-10-12 17:25:40,934  SpectraRegion  INFO: DE-test (ttest) finished. Results available: ((12,), (8, 9, 10, 11, 13, 14, 15))\n",
      "2020-10-12 17:25:40,934  SpectraRegion  INFO: Performing DE-test: rank\n",
      "2020-10-12 17:25:44,954  SpectraRegion  INFO: DE-test (rank) finished. Results available: ((12,), (8, 9, 10, 11, 13, 14, 15))\n",
      "2020-10-12 17:25:44,969  SpectraRegion  INFO: DE result for case ((12,), (8, 9, 10, 11, 13, 14, 15)) with (17900, 7) results\n",
      "2020-10-12 17:25:44,970  SpectraRegion  INFO: DF column names ['gene', 'pval', 'qval', 'log2fc', 'mean', 'zero_mean', 'zero_variance']\n",
      "2020-10-12 17:25:44,971  SpectraRegion  INFO: DE result logFC inversed\n",
      "2020-10-12 17:25:44,973  SpectraRegion  INFO: DE result for case ((12,), (8, 9, 10, 11, 13, 14, 15)) with (770, 7) results (filtered)\n",
      "2020-10-12 17:25:44,989  SpectraRegion  INFO: Created matrices with shape (73, 17900) and (552, 17900) (target, bg)\n",
      "2020-10-12 17:25:52,972  SpectraRegion  INFO: DE result for case ((12,), (8, 9, 10, 11, 13, 14, 15)) with (17900, 7) results\n",
      "2020-10-12 17:25:52,973  SpectraRegion  INFO: DF column names ['gene', 'pval', 'qval', 'log2fc', 'mean', 'zero_mean', 'zero_variance']\n",
      "2020-10-12 17:25:52,973  SpectraRegion  INFO: DE result logFC inversed\n",
      "2020-10-12 17:25:52,975  SpectraRegion  INFO: DE result for case ((12,), (8, 9, 10, 11, 13, 14, 15)) with (687, 7) results (filtered)\n",
      "2020-10-12 17:25:52,991  SpectraRegion  INFO: Created matrices with shape (73, 17900) and (552, 17900) (target, bg)\n",
      "2020-10-12 17:25:59,863  SpectraRegion  INFO: DE data for case: [11]\n",
      "2020-10-12 17:25:59,864  SpectraRegion  INFO: DE data for control: [9, 13, 15, 12, 10, 14, 8]\n",
      "2020-10-12 17:25:59,864  SpectraRegion  INFO: Running [11] against [9, 13, 15, 12, 10, 14, 8]\n",
      "2020-10-12 17:25:59,864  SpectraRegion  INFO: DE result key: ((11,), (8, 9, 10, 12, 13, 14, 15))\n",
      "100% |########################################################################|\n",
      "100% |########################################################################|\n",
      "100% |########################################################################|\n",
      "100% |########################################################################|\n",
      "100% |########################################################################|\n",
      "100% |########################################################################|\n",
      "100% |########################################################################|\n",
      "100% |########################################################################|\n",
      "2020-10-12 17:26:00,463  SpectraRegion  INFO: DE DataFrame ready. Shape (17900, 625)\n",
      "2020-10-12 17:26:00,466  SpectraRegion  INFO: DE Sample DataFrame ready. Shape (625, 3)\n",
      "2020-10-12 17:26:01,103  SpectraRegion  INFO: Performing DE-test: ttest\n",
      "/usr/local/lib/python3.8/dist-packages/anndata/_core/anndata.py:119: ImplicitModificationWarning: Transforming to str index.\n",
      "  warnings.warn(\"Transforming to str index.\", ImplicitModificationWarning)\n",
      "2020-10-12 17:26:01,209  SpectraRegion  INFO: DE-test (ttest) finished. Results available: ((11,), (8, 9, 10, 12, 13, 14, 15))\n",
      "2020-10-12 17:26:01,209  SpectraRegion  INFO: Performing DE-test: rank\n",
      "2020-10-12 17:26:05,250  SpectraRegion  INFO: DE-test (rank) finished. Results available: ((11,), (8, 9, 10, 12, 13, 14, 15))\n",
      "2020-10-12 17:26:05,265  SpectraRegion  INFO: DE result for case ((11,), (8, 9, 10, 12, 13, 14, 15)) with (17900, 7) results\n",
      "2020-10-12 17:26:05,266  SpectraRegion  INFO: DF column names ['gene', 'pval', 'qval', 'log2fc', 'mean', 'zero_mean', 'zero_variance']\n",
      "2020-10-12 17:26:05,266  SpectraRegion  INFO: DE result logFC inversed\n",
      "2020-10-12 17:26:05,269  SpectraRegion  INFO: DE result for case ((11,), (8, 9, 10, 12, 13, 14, 15)) with (1436, 7) results (filtered)\n",
      "2020-10-12 17:26:05,286  SpectraRegion  INFO: Created matrices with shape (54, 17900) and (571, 17900) (target, bg)\n",
      "2020-10-12 17:26:19,326  SpectraRegion  INFO: DE result for case ((11,), (8, 9, 10, 12, 13, 14, 15)) with (17900, 7) results\n",
      "2020-10-12 17:26:19,326  SpectraRegion  INFO: DF column names ['gene', 'pval', 'qval', 'log2fc', 'mean', 'zero_mean', 'zero_variance']\n",
      "2020-10-12 17:26:19,327  SpectraRegion  INFO: DE result logFC inversed\n",
      "2020-10-12 17:26:19,329  SpectraRegion  INFO: DE result for case ((11,), (8, 9, 10, 12, 13, 14, 15)) with (1435, 7) results (filtered)\n",
      "2020-10-12 17:26:19,346  SpectraRegion  INFO: Created matrices with shape (54, 17900) and (571, 17900) (target, bg)\n",
      "2020-10-12 17:26:33,237  SpectraRegion  INFO: DE data for case: [10]\n",
      "2020-10-12 17:26:33,238  SpectraRegion  INFO: DE data for control: [9, 13, 15, 12, 11, 14, 8]\n",
      "2020-10-12 17:26:33,238  SpectraRegion  INFO: Running [10] against [9, 13, 15, 12, 11, 14, 8]\n",
      "2020-10-12 17:26:33,239  SpectraRegion  INFO: DE result key: ((10,), (8, 9, 11, 12, 13, 14, 15))\n",
      "100% |########################################################################|\n",
      "100% |########################################################################|\n",
      "100% |########################################################################|\n",
      "100% |########################################################################|\n",
      "100% |########################################################################|\n",
      "100% |########################################################################|\n",
      "100% |########################################################################|\n",
      "100% |########################################################################|\n",
      "2020-10-12 17:26:33,830  SpectraRegion  INFO: DE DataFrame ready. Shape (17900, 625)\n",
      "2020-10-12 17:26:33,832  SpectraRegion  INFO: DE Sample DataFrame ready. Shape (625, 3)\n",
      "2020-10-12 17:26:34,457  SpectraRegion  INFO: Performing DE-test: ttest\n",
      "/usr/local/lib/python3.8/dist-packages/anndata/_core/anndata.py:119: ImplicitModificationWarning: Transforming to str index.\n",
      "  warnings.warn(\"Transforming to str index.\", ImplicitModificationWarning)\n",
      "2020-10-12 17:26:34,562  SpectraRegion  INFO: DE-test (ttest) finished. Results available: ((10,), (8, 9, 11, 12, 13, 14, 15))\n",
      "2020-10-12 17:26:34,563  SpectraRegion  INFO: Performing DE-test: rank\n",
      "2020-10-12 17:26:38,570  SpectraRegion  INFO: DE-test (rank) finished. Results available: ((10,), (8, 9, 11, 12, 13, 14, 15))\n",
      "2020-10-12 17:26:38,585  SpectraRegion  INFO: DE result for case ((10,), (8, 9, 11, 12, 13, 14, 15)) with (17900, 7) results\n",
      "2020-10-12 17:26:38,586  SpectraRegion  INFO: DF column names ['gene', 'pval', 'qval', 'log2fc', 'mean', 'zero_mean', 'zero_variance']\n",
      "2020-10-12 17:26:38,586  SpectraRegion  INFO: DE result logFC inversed\n",
      "2020-10-12 17:26:38,588  SpectraRegion  INFO: DE result for case ((10,), (8, 9, 11, 12, 13, 14, 15)) with (310, 7) results (filtered)\n",
      "2020-10-12 17:26:38,604  SpectraRegion  INFO: Created matrices with shape (31, 17900) and (594, 17900) (target, bg)\n",
      "2020-10-12 17:26:41,926  SpectraRegion  INFO: DE result for case ((10,), (8, 9, 11, 12, 13, 14, 15)) with (17900, 7) results\n",
      "2020-10-12 17:26:41,926  SpectraRegion  INFO: DF column names ['gene', 'pval', 'qval', 'log2fc', 'mean', 'zero_mean', 'zero_variance']\n",
      "2020-10-12 17:26:41,927  SpectraRegion  INFO: DE result logFC inversed\n",
      "2020-10-12 17:26:41,929  SpectraRegion  INFO: DE result for case ((10,), (8, 9, 11, 12, 13, 14, 15)) with (238, 7) results (filtered)\n",
      "2020-10-12 17:26:41,945  SpectraRegion  INFO: Created matrices with shape (31, 17900) and (594, 17900) (target, bg)\n",
      "2020-10-12 17:26:44,352  SpectraRegion  INFO: DE data for case: [14]\n",
      "2020-10-12 17:26:44,353  SpectraRegion  INFO: DE data for control: [9, 13, 15, 12, 11, 10, 8]\n",
      "2020-10-12 17:26:44,353  SpectraRegion  INFO: Running [14] against [9, 13, 15, 12, 11, 10, 8]\n",
      "2020-10-12 17:26:44,354  SpectraRegion  INFO: DE result key: ((14,), (8, 9, 10, 11, 12, 13, 15))\n",
      "100% |########################################################################|\n",
      "100% |########################################################################|\n",
      "100% |########################################################################|\n",
      "100% |########################################################################|\n",
      "100% |########################################################################|\n",
      "100% |########################################################################|\n",
      "100% |########################################################################|\n",
      "100% |########################################################################|\n",
      "2020-10-12 17:26:44,957  SpectraRegion  INFO: DE DataFrame ready. Shape (17900, 625)\n",
      "2020-10-12 17:26:44,960  SpectraRegion  INFO: DE Sample DataFrame ready. Shape (625, 3)\n",
      "2020-10-12 17:26:45,595  SpectraRegion  INFO: Performing DE-test: ttest\n",
      "/usr/local/lib/python3.8/dist-packages/anndata/_core/anndata.py:119: ImplicitModificationWarning: Transforming to str index.\n",
      "  warnings.warn(\"Transforming to str index.\", ImplicitModificationWarning)\n",
      "2020-10-12 17:26:45,700  SpectraRegion  INFO: DE-test (ttest) finished. Results available: ((14,), (8, 9, 10, 11, 12, 13, 15))\n",
      "2020-10-12 17:26:45,701  SpectraRegion  INFO: Performing DE-test: rank\n",
      "2020-10-12 17:26:49,708  SpectraRegion  INFO: DE-test (rank) finished. Results available: ((14,), (8, 9, 10, 11, 12, 13, 15))\n",
      "2020-10-12 17:26:49,723  SpectraRegion  INFO: DE result for case ((14,), (8, 9, 10, 11, 12, 13, 15)) with (17900, 7) results\n",
      "2020-10-12 17:26:49,723  SpectraRegion  INFO: DF column names ['gene', 'pval', 'qval', 'log2fc', 'mean', 'zero_mean', 'zero_variance']\n",
      "2020-10-12 17:26:49,724  SpectraRegion  INFO: DE result logFC inversed\n",
      "2020-10-12 17:26:49,726  SpectraRegion  INFO: DE result for case ((14,), (8, 9, 10, 11, 12, 13, 15)) with (730, 7) results (filtered)\n",
      "2020-10-12 17:26:49,743  SpectraRegion  INFO: Created matrices with shape (27, 17900) and (598, 17900) (target, bg)\n",
      "2020-10-12 17:26:57,674  SpectraRegion  INFO: DE result for case ((14,), (8, 9, 10, 11, 12, 13, 15)) with (17900, 7) results\n",
      "2020-10-12 17:26:57,675  SpectraRegion  INFO: DF column names ['gene', 'pval', 'qval', 'log2fc', 'mean', 'zero_mean', 'zero_variance']\n",
      "2020-10-12 17:26:57,675  SpectraRegion  INFO: DE result logFC inversed\n",
      "2020-10-12 17:26:57,677  SpectraRegion  INFO: DE result for case ((14,), (8, 9, 10, 11, 12, 13, 15)) with (700, 7) results (filtered)\n",
      "2020-10-12 17:26:57,693  SpectraRegion  INFO: Created matrices with shape (27, 17900) and (598, 17900) (target, bg)\n",
      "2020-10-12 17:27:05,324  SpectraRegion  INFO: DE data for case: [8]\n",
      "2020-10-12 17:27:05,324  SpectraRegion  INFO: DE data for control: [9, 13, 15, 12, 11, 10, 14]\n",
      "2020-10-12 17:27:05,325  SpectraRegion  INFO: Running [8] against [9, 13, 15, 12, 11, 10, 14]\n",
      "2020-10-12 17:27:05,325  SpectraRegion  INFO: DE result key: ((8,), (9, 10, 11, 12, 13, 14, 15))\n",
      "100% |########################################################################|\n",
      "100% |########################################################################|\n",
      "100% |########################################################################|\n",
      "100% |########################################################################|\n",
      "100% |########################################################################|\n",
      "100% |########################################################################|\n",
      "100% |########################################################################|\n",
      "100% |########################################################################|\n",
      "2020-10-12 17:27:05,918  SpectraRegion  INFO: DE DataFrame ready. Shape (17900, 625)\n",
      "2020-10-12 17:27:05,920  SpectraRegion  INFO: DE Sample DataFrame ready. Shape (625, 3)\n",
      "2020-10-12 17:27:06,584  SpectraRegion  INFO: Performing DE-test: ttest\n",
      "/usr/local/lib/python3.8/dist-packages/anndata/_core/anndata.py:119: ImplicitModificationWarning: Transforming to str index.\n",
      "  warnings.warn(\"Transforming to str index.\", ImplicitModificationWarning)\n",
      "2020-10-12 17:27:06,716  SpectraRegion  INFO: DE-test (ttest) finished. Results available: ((8,), (9, 10, 11, 12, 13, 14, 15))\n",
      "2020-10-12 17:27:06,716  SpectraRegion  INFO: Performing DE-test: rank\n",
      "2020-10-12 17:27:10,933  SpectraRegion  INFO: DE-test (rank) finished. Results available: ((8,), (9, 10, 11, 12, 13, 14, 15))\n",
      "2020-10-12 17:27:10,948  SpectraRegion  INFO: DE result for case ((8,), (9, 10, 11, 12, 13, 14, 15)) with (17900, 7) results\n",
      "2020-10-12 17:27:10,949  SpectraRegion  INFO: DF column names ['gene', 'pval', 'qval', 'log2fc', 'mean', 'zero_mean', 'zero_variance']\n",
      "2020-10-12 17:27:10,949  SpectraRegion  INFO: DE result logFC inversed\n",
      "2020-10-12 17:27:10,952  SpectraRegion  INFO: DE result for case ((8,), (9, 10, 11, 12, 13, 14, 15)) with (2019, 7) results (filtered)\n",
      "2020-10-12 17:27:10,969  SpectraRegion  INFO: Created matrices with shape (22, 17900) and (603, 17900) (target, bg)\n",
      "2020-10-12 17:27:32,794  SpectraRegion  INFO: DE result for case ((8,), (9, 10, 11, 12, 13, 14, 15)) with (17900, 7) results\n",
      "2020-10-12 17:27:32,794  SpectraRegion  INFO: DF column names ['gene', 'pval', 'qval', 'log2fc', 'mean', 'zero_mean', 'zero_variance']\n",
      "2020-10-12 17:27:32,795  SpectraRegion  INFO: DE result logFC inversed\n",
      "2020-10-12 17:27:32,797  SpectraRegion  INFO: DE result for case ((8,), (9, 10, 11, 12, 13, 14, 15)) with (1925, 7) results (filtered)\n",
      "2020-10-12 17:27:32,813  SpectraRegion  INFO: Created matrices with shape (22, 17900) and (603, 17900) (target, bg)\n"
     ]
    }
   ],
   "source": [
    "mgenes = spec.find_all_markers(pw_theo, includeBackground=False,\n",
    "                               replaceExisting=False,\n",
    "                               outdirectory=\"./deresults/\",\n",
    "                               use_methods=[\"ttest\", \"rank\"])"
   ]
  },
  {
   "cell_type": "code",
   "execution_count": 43,
   "metadata": {},
   "outputs": [
    {
     "name": "stderr",
     "output_type": "stream",
     "text": [
      "2020-10-12 17:32:09,464  SpectraRegion  INFO: Fetching Mass Heatmaps for all 115 required masses\n"
     ]
    },
    {
     "name": "stdout",
     "output_type": "stream",
     "text": [
      "ttest ((9,), (8, 10, 11, 12, 13, 14, 15))\n"
     ]
    },
    {
     "data": {
      "image/png": "[encoded data removed]",
      "text/plain": [
       "<Figure size 432x288 with 1 Axes>"
      ]
     },
     "metadata": {
      "needs_background": "light"
     },
     "output_type": "display_data"
    },
    {
     "data": {
      "image/png": "[encoded data removed]",
      "text/plain": [
       "<Figure size 432x288 with 1 Axes>"
      ]
     },
     "metadata": {
      "needs_background": "light"
     },
     "output_type": "display_data"
    },
    {
     "name": "stderr",
     "output_type": "stream",
     "text": [
      "2020-10-12 17:32:23,626  SpectraRegion  INFO: Adding Mass Heatmap at pos 3 of 15 with 303 entries\n",
      "2020-10-12 17:32:23,628  SpectraRegion  INFO: Got Columns: [('clusterID', '\"string\"'), ('gene_ident', '\"string\"'), ('gene_mass', '\"number\"'), ('Mass Heatmap', '\"string\"'), ('gene', '\"string\"'), ('protein_mass', '\"number\"'), ('avg_logFC', '\"number\"'), ('qvalue', '\"number\"'), ('num', '\"number\"'), ('anum', '\"number\"'), ('mean', '\"number\"'), ('median', '\"number\"'), ('num_bg', '\"number\"'), ('anum_bg', '\"number\"'), ('mean_bg', '\"number\"'), ('median_bg', '\"number\"')]\n",
      "2020-10-12 17:32:24,214  SpectraRegion  INFO: copy tablefilter files from ../pIMZ/tablefilter to ./deresults/tablefilter\n",
      "2020-10-12 17:32:25,619  SpectraRegion  INFO: Fetching Mass Heatmaps for all 510 required masses\n"
     ]
    },
    {
     "name": "stdout",
     "output_type": "stream",
     "text": [
      "ttest ((13,), (8, 9, 10, 11, 12, 14, 15))\n"
     ]
    },
    {
     "data": {
      "image/png": "[encoded data removed]",
      "text/plain": [
       "<Figure size 432x288 with 1 Axes>"
      ]
     },
     "metadata": {
      "needs_background": "light"
     },
     "output_type": "display_data"
    },
    {
     "data": {
      "image/png": "[encoded data removed]",
      "text/plain": [
       "<Figure size 432x288 with 1 Axes>"
      ]
     },
     "metadata": {
      "needs_background": "light"
     },
     "output_type": "display_data"
    },
    {
     "name": "stderr",
     "output_type": "stream",
     "text": [
      "2020-10-12 17:33:15,956  SpectraRegion  INFO: Adding Mass Heatmap at pos 3 of 15 with 1247 entries\n",
      "2020-10-12 17:33:15,957  SpectraRegion  INFO: Got Columns: [('clusterID', '\"string\"'), ('gene_ident', '\"string\"'), ('gene_mass', '\"number\"'), ('Mass Heatmap', '\"string\"'), ('gene', '\"string\"'), ('protein_mass', '\"number\"'), ('avg_logFC', '\"number\"'), ('qvalue', '\"number\"'), ('num', '\"number\"'), ('anum', '\"number\"'), ('mean', '\"number\"'), ('median', '\"number\"'), ('num_bg', '\"number\"'), ('anum_bg', '\"number\"'), ('mean_bg', '\"number\"'), ('median_bg', '\"number\"')]\n",
      "2020-10-12 17:33:17,897  SpectraRegion  INFO: copy tablefilter files from ../pIMZ/tablefilter to ./deresults/tablefilter\n",
      "2020-10-12 17:33:19,281  SpectraRegion  INFO: Fetching Mass Heatmaps for all 171 required masses\n"
     ]
    },
    {
     "name": "stdout",
     "output_type": "stream",
     "text": [
      "ttest ((15,), (8, 9, 10, 11, 12, 13, 14))\n"
     ]
    },
    {
     "data": {
      "image/png": "[encoded data removed]",
      "text/plain": [
       "<Figure size 432x288 with 1 Axes>"
      ]
     },
     "metadata": {
      "needs_background": "light"
     },
     "output_type": "display_data"
    },
    {
     "data": {
      "image/png": "[encoded data removed]",
      "text/plain": [
       "<Figure size 432x288 with 1 Axes>"
      ]
     },
     "metadata": {
      "needs_background": "light"
     },
     "output_type": "display_data"
    },
    {
     "name": "stderr",
     "output_type": "stream",
     "text": [
      "2020-10-12 17:33:39,344  SpectraRegion  INFO: Adding Mass Heatmap at pos 3 of 15 with 433 entries\n",
      "2020-10-12 17:33:39,345  SpectraRegion  INFO: Got Columns: [('clusterID', '\"string\"'), ('gene_ident', '\"string\"'), ('gene_mass', '\"number\"'), ('Mass Heatmap', '\"string\"'), ('gene', '\"string\"'), ('protein_mass', '\"number\"'), ('avg_logFC', '\"number\"'), ('qvalue', '\"number\"'), ('num', '\"number\"'), ('anum', '\"number\"'), ('mean', '\"number\"'), ('median', '\"number\"'), ('num_bg', '\"number\"'), ('anum_bg', '\"number\"'), ('mean_bg', '\"number\"'), ('median_bg', '\"number\"')]\n",
      "2020-10-12 17:33:40,176  SpectraRegion  INFO: copy tablefilter files from ../pIMZ/tablefilter to ./deresults/tablefilter\n",
      "2020-10-12 17:33:41,619  SpectraRegion  INFO: Fetching Mass Heatmaps for all 582 required masses\n"
     ]
    },
    {
     "name": "stdout",
     "output_type": "stream",
     "text": [
      "ttest ((12,), (8, 9, 10, 11, 13, 14, 15))\n"
     ]
    },
    {
     "data": {
      "image/png": "[encoded data removed]",
      "text/plain": [
       "<Figure size 432x288 with 1 Axes>"
      ]
     },
     "metadata": {
      "needs_background": "light"
     },
     "output_type": "display_data"
    },
    {
     "data": {
      "image/png": "[encoded data removed]",
      "text/plain": [
       "<Figure size 432x288 with 1 Axes>"
      ]
     },
     "metadata": {
      "needs_background": "light"
     },
     "output_type": "display_data"
    },
    {
     "name": "stderr",
     "output_type": "stream",
     "text": [
      "2020-10-12 17:34:37,084  SpectraRegion  INFO: Adding Mass Heatmap at pos 3 of 15 with 1450 entries\n",
      "2020-10-12 17:34:37,085  SpectraRegion  INFO: Got Columns: [('clusterID', '\"string\"'), ('gene_ident', '\"string\"'), ('gene_mass', '\"number\"'), ('Mass Heatmap', '\"string\"'), ('gene', '\"string\"'), ('protein_mass', '\"number\"'), ('avg_logFC', '\"number\"'), ('qvalue', '\"number\"'), ('num', '\"number\"'), ('anum', '\"number\"'), ('mean', '\"number\"'), ('median', '\"number\"'), ('num_bg', '\"number\"'), ('anum_bg', '\"number\"'), ('mean_bg', '\"number\"'), ('median_bg', '\"number\"')]\n",
      "2020-10-12 17:34:39,080  SpectraRegion  INFO: copy tablefilter files from ../pIMZ/tablefilter to ./deresults/tablefilter\n",
      "2020-10-12 17:34:40,503  SpectraRegion  INFO: Fetching Mass Heatmaps for all 1006 required masses\n"
     ]
    },
    {
     "name": "stdout",
     "output_type": "stream",
     "text": [
      "ttest ((11,), (8, 9, 10, 12, 13, 14, 15))\n"
     ]
    },
    {
     "data": {
      "image/png": "[encoded data removed]",
      "text/plain": [
       "<Figure size 432x288 with 1 Axes>"
      ]
     },
     "metadata": {
      "needs_background": "light"
     },
     "output_type": "display_data"
    },
    {
     "data": {
      "image/png": "[encoded data removed]",
      "text/plain": [
       "<Figure size 432x288 with 1 Axes>"
      ]
     },
     "metadata": {
      "needs_background": "light"
     },
     "output_type": "display_data"
    },
    {
     "name": "stderr",
     "output_type": "stream",
     "text": [
      "2020-10-12 17:36:06,929  SpectraRegion  INFO: Adding Mass Heatmap at pos 3 of 15 with 2264 entries\n",
      "2020-10-12 17:36:06,931  SpectraRegion  INFO: Got Columns: [('clusterID', '\"string\"'), ('gene_ident', '\"string\"'), ('gene_mass', '\"number\"'), ('Mass Heatmap', '\"string\"'), ('gene', '\"string\"'), ('protein_mass', '\"number\"'), ('avg_logFC', '\"number\"'), ('qvalue', '\"number\"'), ('num', '\"number\"'), ('anum', '\"number\"'), ('mean', '\"number\"'), ('median', '\"number\"'), ('num_bg', '\"number\"'), ('anum_bg', '\"number\"'), ('mean_bg', '\"number\"'), ('median_bg', '\"number\"')]\n",
      "2020-10-12 17:36:09,165  SpectraRegion  INFO: copy tablefilter files from ../pIMZ/tablefilter to ./deresults/tablefilter\n",
      "2020-10-12 17:36:10,767  SpectraRegion  INFO: Fetching Mass Heatmaps for all 243 required masses\n"
     ]
    },
    {
     "name": "stdout",
     "output_type": "stream",
     "text": [
      "ttest ((10,), (8, 9, 11, 12, 13, 14, 15))\n"
     ]
    },
    {
     "data": {
      "image/png": "[encoded data removed]",
      "text/plain": [
       "<Figure size 432x288 with 1 Axes>"
      ]
     },
     "metadata": {
      "needs_background": "light"
     },
     "output_type": "display_data"
    },
    {
     "data": {
      "image/png": "[encoded data removed]",
      "text/plain": [
       "<Figure size 432x288 with 1 Axes>"
      ]
     },
     "metadata": {
      "needs_background": "light"
     },
     "output_type": "display_data"
    },
    {
     "name": "stderr",
     "output_type": "stream",
     "text": [
      "2020-10-12 17:36:35,165  SpectraRegion  INFO: Adding Mass Heatmap at pos 3 of 15 with 610 entries\n",
      "2020-10-12 17:36:35,167  SpectraRegion  INFO: Got Columns: [('clusterID', '\"string\"'), ('gene_ident', '\"string\"'), ('gene_mass', '\"number\"'), ('Mass Heatmap', '\"string\"'), ('gene', '\"string\"'), ('protein_mass', '\"number\"'), ('avg_logFC', '\"number\"'), ('qvalue', '\"number\"'), ('num', '\"number\"'), ('anum', '\"number\"'), ('mean', '\"number\"'), ('median', '\"number\"'), ('num_bg', '\"number\"'), ('anum_bg', '\"number\"'), ('mean_bg', '\"number\"'), ('median_bg', '\"number\"')]\n",
      "2020-10-12 17:36:36,277  SpectraRegion  INFO: copy tablefilter files from ../pIMZ/tablefilter to ./deresults/tablefilter\n",
      "2020-10-12 17:36:37,607  SpectraRegion  INFO: Fetching Mass Heatmaps for all 588 required masses\n"
     ]
    },
    {
     "name": "stdout",
     "output_type": "stream",
     "text": [
      "ttest ((14,), (8, 9, 10, 11, 12, 13, 15))\n"
     ]
    },
    {
     "data": {
      "image/png": "[encoded data removed]",
      "text/plain": [
       "<Figure size 432x288 with 1 Axes>"
      ]
     },
     "metadata": {
      "needs_background": "light"
     },
     "output_type": "display_data"
    },
    {
     "data": {
      "image/png": "[encoded data removed]",
      "text/plain": [
       "<Figure size 432x288 with 1 Axes>"
      ]
     },
     "metadata": {
      "needs_background": "light"
     },
     "output_type": "display_data"
    },
    {
     "name": "stderr",
     "output_type": "stream",
     "text": [
      "2020-10-12 17:37:29,154  SpectraRegion  INFO: Adding Mass Heatmap at pos 3 of 15 with 1521 entries\n",
      "2020-10-12 17:37:29,155  SpectraRegion  INFO: Got Columns: [('clusterID', '\"string\"'), ('gene_ident', '\"string\"'), ('gene_mass', '\"number\"'), ('Mass Heatmap', '\"string\"'), ('gene', '\"string\"'), ('protein_mass', '\"number\"'), ('avg_logFC', '\"number\"'), ('qvalue', '\"number\"'), ('num', '\"number\"'), ('anum', '\"number\"'), ('mean', '\"number\"'), ('median', '\"number\"'), ('num_bg', '\"number\"'), ('anum_bg', '\"number\"'), ('mean_bg', '\"number\"'), ('median_bg', '\"number\"')]\n",
      "2020-10-12 17:37:31,092  SpectraRegion  INFO: copy tablefilter files from ../pIMZ/tablefilter to ./deresults/tablefilter\n",
      "2020-10-12 17:37:32,455  SpectraRegion  INFO: Fetching Mass Heatmaps for all 1592 required masses\n"
     ]
    },
    {
     "name": "stdout",
     "output_type": "stream",
     "text": [
      "ttest ((8,), (9, 10, 11, 12, 13, 14, 15))\n"
     ]
    },
    {
     "data": {
      "image/png": "[encoded data removed]",
      "text/plain": [
       "<Figure size 432x288 with 1 Axes>"
      ]
     },
     "metadata": {
      "needs_background": "light"
     },
     "output_type": "display_data"
    },
    {
     "data": {
      "image/png": "[encoded data removed]",
      "text/plain": [
       "<Figure size 432x288 with 1 Axes>"
      ]
     },
     "metadata": {
      "needs_background": "light"
     },
     "output_type": "display_data"
    },
    {
     "name": "stderr",
     "output_type": "stream",
     "text": [
      "2020-10-12 17:39:46,111  SpectraRegion  INFO: Adding Mass Heatmap at pos 3 of 15 with 3953 entries\n",
      "2020-10-12 17:39:46,113  SpectraRegion  INFO: Got Columns: [('clusterID', '\"string\"'), ('gene_ident', '\"string\"'), ('gene_mass', '\"number\"'), ('Mass Heatmap', '\"string\"'), ('gene', '\"string\"'), ('protein_mass', '\"number\"'), ('avg_logFC', '\"number\"'), ('qvalue', '\"number\"'), ('num', '\"number\"'), ('anum', '\"number\"'), ('mean', '\"number\"'), ('median', '\"number\"'), ('num_bg', '\"number\"'), ('anum_bg', '\"number\"'), ('mean_bg', '\"number\"'), ('median_bg', '\"number\"')]\n",
      "2020-10-12 17:39:48,567  SpectraRegion  INFO: copy tablefilter files from ../pIMZ/tablefilter to ./deresults/tablefilter\n"
     ]
    }
   ],
   "source": [
    "for x in spec.df_results_all:\n",
    "    for y in spec.df_results_all[x]:\n",
    "        if x != \"ttest\":\n",
    "            continue\n",
    "        \n",
    "        print(x,y)\n",
    "        \n",
    "        \n",
    "        spec.export_deres(x, y, \"./deresults/deres.{}.{}.html\".format(\"_\".join([str(j) for j in y[0]]), \"_\".join([str(j) for j in y[1]])))\n",
    "        "
   ]
  },
  {
   "cell_type": "code",
   "execution_count": null,
   "metadata": {},
   "outputs": [],
   "source": [
    "spec.df_results_all[\"ttest\"][((9,), (8, 10, 11, 12, 13, 14, 15))]"
   ]
  },
  {
   "cell_type": "code",
   "execution_count": null,
   "metadata": {},
   "outputs": [],
   "source": [
    "\n",
    "\n",
    "from skimage import measure\n",
    "\n",
    "\n",
    "# Construct some test data\n",
    "x, y = np.ogrid[-np.pi:np.pi:100j, -np.pi:np.pi:100j]\n",
    "r = np.sin(np.exp((np.sin(x)**3 + np.cos(y)**2)))\n",
    "\n",
    "\n",
    "ax.axis('image')\n",
    "ax.set_xticks([])\n",
    "ax.set_yticks([])\n",
    "plt.show()\n"
   ]
  },
  {
   "cell_type": "code",
   "execution_count": null,
   "metadata": {},
   "outputs": [],
   "source": []
  },
  {
   "cell_type": "code",
   "execution_count": null,
   "metadata": {},
   "outputs": [],
   "source": [
    "mgenes[\"ttest\"]"
   ]
  },
  {
   "cell_type": "code",
   "execution_count": null,
   "metadata": {},
   "outputs": [],
   "source": [
    "mgenes_bg = spec.find_all_markers(pw_theo, includeBackground=True, replaceExisting=False, use_methods = [\"ttest\", \"rank\"])"
   ]
  },
  {
   "cell_type": "markdown",
   "metadata": {},
   "source": [
    "After both find_all_markers runs we can list all DE results, which are then printed.\n",
    "Each row shows one contained DE results beginning with the test performed and then a tuple of two region/cluster IDs. In the first row here:\n",
    "\n",
    "a t-test was performed on cluster 9 versus clusters 8,10,11,12,13,14,15 ."
   ]
  },
  {
   "cell_type": "code",
   "execution_count": null,
   "metadata": {},
   "outputs": [],
   "source": [
    "spec.list_de_results()"
   ]
  },
  {
   "cell_type": "markdown",
   "metadata": {},
   "source": [
    "It's also easy to save the result to disk:"
   ]
  },
  {
   "cell_type": "code",
   "execution_count": null,
   "metadata": {},
   "outputs": [],
   "source": [
    "markerGenes = mgenes[\"ttest\"]\n",
    "markerGenes.to_csv(\"deresults/marker_genes.tsv\", sep=\"\\t\", index=False)"
   ]
  },
  {
   "cell_type": "code",
   "execution_count": null,
   "metadata": {},
   "outputs": [],
   "source": [
    "markerGenesBG = mgenes_bg[\"ttest\"]\n",
    "markerGenesBG.to_csv(\"deresults/marker_genes_bg.tsv\", sep=\"\\t\", index=False)"
   ]
  },
  {
   "cell_type": "code",
   "execution_count": null,
   "metadata": {},
   "outputs": [],
   "source": [
    "print(\"Number of unique, differentially detected proteins (from masses): {}\".format(len(set(mgenes[\"ttest\"][\"gene\"]))))"
   ]
  },
  {
   "cell_type": "code",
   "execution_count": null,
   "metadata": {},
   "outputs": [],
   "source": [
    "print(\"Number of unique, differentially detected proteins (from masses): {}\".format(len(set(mgenes_bg[\"ttest\"][\"gene\"]))))"
   ]
  },
  {
   "cell_type": "markdown",
   "metadata": {},
   "source": [
    "In order to save the results, the SpectraRegion object can be pickled:"
   ]
  },
  {
   "cell_type": "code",
   "execution_count": null,
   "metadata": {},
   "outputs": [],
   "source": [
    "with open(\"slideD_region_0.spec.pickle\", \"wb\") as fout:\n",
    "    pickle.dump(spec, fout)"
   ]
  },
  {
   "cell_type": "markdown",
   "metadata": {},
   "source": [
    "# Cell-type detection\n",
    "\n",
    "Cell-type detection requires analyseMarkers.py from https://github.com/mjoppich/scrnaseq_celltype_prediction .\n",
    "\n",
    "One (obvious) question is: what can I do with those marker proteins? Well, a lot!\n",
    "\n",
    "First, these are the proteins which you are interested in: these define your clusters, because they are present.\n",
    "\n",
    "Second, these proteins give a clue about which cell types might be present, if cell-type specific genes were found.\n",
    "\n",
    "Using the scrnaseq-celltype-prediction tool, this can be analysed! Let's download it first (requires wget, python3 and several other libraries - maybe).\n",
    "Did you know? This tool achieves better predictions than SingleR :)\n",
    "\n",
    "Because we know what kind of sample we got (aorta embedded in liver), we can specify organs to specifically check for cell types.\n",
    "Organs to be considered are \"Connective tissue\" \"Vasculature\" \"Heart\" \"Skeletal Muscle\" \"Smooth muscle\" \"Immune system\" \"Blood\" \"Epithelium\" \"Liver\".\n",
    "This allows a context-specific evaluation!"
   ]
  },
  {
   "cell_type": "code",
   "execution_count": null,
   "metadata": {},
   "outputs": [],
   "source": [
    "! ls analyseMarkers.py"
   ]
  },
  {
   "cell_type": "code",
   "execution_count": null,
   "metadata": {},
   "outputs": [],
   "source": [
    "! wget https://raw.githubusercontent.com/mjoppich/scrnaseq_celltype_prediction/master/analyseMarkers.py"
   ]
  },
  {
   "cell_type": "code",
   "execution_count": null,
   "metadata": {},
   "outputs": [],
   "source": [
    "! python3 analyseMarkers.py --organs \"Connective tissue\" \"Vasculature\" \"Heart\" \"Skeletal Muscle\" \"Smooth muscle\" \"Immune system\" \"Blood\" \"Epithelium\" \"Liver\" --pvaladj qvalue --markers deresults/marker_genes.tsv -n 2"
   ]
  },
  {
   "cell_type": "markdown",
   "metadata": {},
   "source": [
    "This is quite interesting. For cluster 8 this tool predicts mainly monocytes or gamma delta t cells - cells which do not migrate into other tissues.\n",
    "\n",
    "This makes sense, because one would expect these cell-types in the inner of the vessel.\n",
    "\n",
    "H2AFX is known to be upregulated in lymphoblasts (check wikipedia ;) ).\n",
    "Ifitm3 is highly expressed in both, Liver and Monocytes: https://www.proteinatlas.org/ENSG00000142089-IFITM3/tissue (Consensus dataset)"
   ]
  },
  {
   "cell_type": "code",
   "execution_count": null,
   "metadata": {},
   "outputs": [],
   "source": [
    "spec.plot_segments(highlight=(8))"
   ]
  },
  {
   "cell_type": "code",
   "execution_count": null,
   "metadata": {},
   "outputs": [],
   "source": [
    "! python3 analyseMarkers.py --organs \"Connective tissue\" \"Vasculature\" \"Heart\" \"Skeletal Muscle\" \"Smooth muscle\" \"Immune system\" \"Blood\" \"Epithelium\" \"Liver\" --pvaladj qvalue --markers deresults/marker_genes_bg.tsv -n 2"
   ]
  },
  {
   "cell_type": "markdown",
   "metadata": {},
   "source": [
    "In this analysis, the background was kept in. More differential genes are found, but also more liver-related cell types are found.\n",
    "\n",
    "This suggests that the analysis which includes the liver background has influenced the found differential proteins too much.\n",
    "\n",
    "Nonetheless, the results remain consistent. For cluster 8, the missing monocytes are replaced by hepatocytes, which are monocyte-like cells residing in the liver.\n",
    "\n",
    "Cluster 9 showing high amounds of cardiomyocytes is also not unlikely, given its location at the outer area of the aorta."
   ]
  },
  {
   "cell_type": "code",
   "execution_count": null,
   "metadata": {},
   "outputs": [],
   "source": [
    "spec.plot_segments(highlight=(9))"
   ]
  },
  {
   "cell_type": "markdown",
   "metadata": {},
   "source": [
    "Finally the SpectraRegion can also be exported to Aorta3D."
   ]
  },
  {
   "cell_type": "code",
   "execution_count": null,
   "metadata": {},
   "outputs": [],
   "source": [
    "#spec.to_aorta3d(\"./slided_test/\", \"slided\", 0, protWeights=pw, nodf=False, pathPrefix=\"../data/test_msi/\")"
   ]
  },
  {
   "cell_type": "code",
   "execution_count": null,
   "metadata": {},
   "outputs": [],
   "source": [
    "!ls slided_test"
   ]
  },
  {
   "cell_type": "markdown",
   "metadata": {},
   "source": [
    "# Preparations for CombinedSpectra - A comparative analysis"
   ]
  },
  {
   "cell_type": "code",
   "execution_count": null,
   "metadata": {},
   "outputs": [],
   "source": [
    "spectra1 = imze.get_region_array(1, makeNullLine=True)\n",
    "imze.normalize_region_array(spectra1, normalize=\"vector\")\n",
    "imze.list_highest_peaks(spectra1, counter=True)\n",
    "print(\"Got spectra\", spectra1.shape)\n",
    "\n",
    "spec1 = SpectraRegion(spectra1, imze.mzValues)\n",
    "spec1.calculate_similarity(mode=\"spectra_log_dist\")\n",
    "spec1.segment(method=\"WARD\", number_of_regions=15)\n",
    "spec1.plot_segments()"
   ]
  },
  {
   "cell_type": "markdown",
   "metadata": {},
   "source": [
    "So far the results were only for one IMS sample.\n",
    "\n",
    "Now the idea is to integrate multiple samples, in order to compare the different samples which were measured on the same slide.\n",
    "\n",
    "Hence the remaining samples are processed, all in the same fashion. With the inter and intro normalization, the sample are made comparable."
   ]
  },
  {
   "cell_type": "code",
   "execution_count": null,
   "metadata": {},
   "outputs": [],
   "source": [
    "pw = ProteinWeights(\"protein_weights.tsv\")\n",
    "\n",
    "def process_imzeregion(imze, regionID, basename):\n",
    "    \n",
    "    print(\"Processing regionID\", regionID, \"for basename\", basename)\n",
    "    \n",
    "    spectra_orig = imze.get_region_array(regionID, makeNullLine=True)\n",
    "    spectra_intra = imze.normalize_region_array(spectra_orig, normalize=\"intra_median\")\n",
    "    spectra = imze.normalize_region_array(spectra_intra, normalize=\"inter_median\")\n",
    "    \n",
    "    rspec = SpectraRegion(spectra, imze.mzValues, name=basename + \"_\" + str(regionID))\n",
    "    rspec.calculate_similarity(mode=\"spectra_log_dist\")\n",
    "    rspec.segment(method=\"WARD\", number_of_regions=15)\n",
    "    rspec.plot_segments()\n",
    "    \n",
    "    rspec.filter_clusters(method='remove_singleton')\n",
    "    rspec.filter_clusters(method='merge_background')\n",
    "    rspec.filter_clusters(method='remove_islands')\n",
    "    rspec.filter_clusters(method='remove_islands', minIslandSize=15)\n",
    "    rspec.plot_segments()\n",
    "    \n",
    "    #rspec.consensus_spectra()\n",
    "    #rspec.consensus_similarity()\n",
    "    #rspec.plot_consensus_similarity()\n",
    "    \n",
    "    mgenes = None\n",
    "    mgenes_bg = None\n",
    "    mgenes = rspec.find_all_markers(pw, includeBackground=False, replaceExisting=False, use_methods = [\"ttest\", \"rank\"])\n",
    "    mgenes_bg = rspec.find_all_markers(pw, includeBackground=True, replaceExisting=False, use_methods = [\"ttest\", \"rank\"])\n",
    "    \n",
    "    return rspec, mgenes, mgenes_bg\n",
    "    "
   ]
  },
  {
   "cell_type": "markdown",
   "metadata": {},
   "source": [
    "First set the logging level to warn, to remove too many messages ..."
   ]
  },
  {
   "cell_type": "code",
   "execution_count": null,
   "metadata": {},
   "outputs": [],
   "source": [
    "#loggers = [logging.getLogger(name) for name in logging.root.manager.loggerDict]\n",
    "#for logger in loggers:\n",
    "#    logger.setLevel(logging.WARN)"
   ]
  },
  {
   "cell_type": "code",
   "execution_count": null,
   "metadata": {},
   "outputs": [],
   "source": [
    "slided_0, slided0_mgenes, slided0_mgenes_bg = process_imzeregion(imze=imze, regionID= 0, basename=\"slideD\")\n",
    "slided_1, slided1_mgenes, slided1_mgenes_bg = process_imzeregion(imze=imze, regionID= 1, basename=\"slideD\")"
   ]
  },
  {
   "cell_type": "code",
   "execution_count": null,
   "metadata": {},
   "outputs": [],
   "source": [
    "slided_0.mass_dabest(pw.protein2mass.get(\"Tmsb4x\"))"
   ]
  },
  {
   "cell_type": "code",
   "execution_count": null,
   "metadata": {},
   "outputs": [],
   "source": [
    "slided_1.mass_dabest(pw.protein2mass.get(\"Tmsb4x\"))"
   ]
  },
  {
   "cell_type": "code",
   "execution_count": null,
   "metadata": {},
   "outputs": [],
   "source": [
    "slided_4, slided4_mgenes, slided4_mgenes_bg = process_imzeregion(imze=imze, regionID= 4, basename=\"slideD\")\n",
    "slided_5, slided5_mgenes, slided5_mgenes_bg = process_imzeregion(imze=imze, regionID= 5, basename=\"slideD\")"
   ]
  },
  {
   "cell_type": "code",
   "execution_count": null,
   "metadata": {},
   "outputs": [],
   "source": [
    "#loggers = [logging.getLogger(name) for name in logging.root.manager.loggerDict]\n",
    "#for logger in loggers:\n",
    "#    logger.setLevel(logging.INFO)"
   ]
  },
  {
   "cell_type": "code",
   "execution_count": null,
   "metadata": {},
   "outputs": [],
   "source": [
    "markerGenes0 = slided0_mgenes[\"ttest\"]\n",
    "markerGenes0.to_csv(\"deresults/marker_genes_region_0.tsv\", sep=\"\\t\", index=False)\n",
    "markerGenes1 = slided1_mgenes[\"ttest\"]\n",
    "markerGenes1.to_csv(\"deresults/marker_genes_region_1.tsv\", sep=\"\\t\", index=False)\n",
    "markerGenes4 = slided4_mgenes[\"ttest\"]\n",
    "markerGenes4.to_csv(\"deresults/marker_genes_region_4.tsv\", sep=\"\\t\", index=False)\n",
    "markerGenes5 = slided5_mgenes[\"ttest\"]\n",
    "markerGenes5.to_csv(\"deresults/marker_genes_region_5.tsv\", sep=\"\\t\", index=False)\n"
   ]
  },
  {
   "cell_type": "code",
   "execution_count": null,
   "metadata": {},
   "outputs": [],
   "source": [
    "! python3 analyseMarkers.py --organs \"Connective tissue\" \"Vasculature\" \"Heart\" \"Skeletal Muscle\" \"Smooth muscle\" \"Immune system\" \"Blood\" \"Epithelium\" --pvaladj qvalue --markers deresults/marker_genes_region_0.tsv --aorta3d --output deresults/marker_genes_region_0.pred.tsv \n",
    "! python3 analyseMarkers.py --organs \"Connective tissue\" \"Vasculature\" \"Heart\" \"Skeletal Muscle\" \"Smooth muscle\" \"Immune system\" \"Blood\" \"Epithelium\" --pvaladj qvalue --markers deresults/marker_genes_region_1.tsv --aorta3d --output deresults/marker_genes_region_1.pred.tsv \n",
    "! python3 analyseMarkers.py --organs \"Connective tissue\" \"Vasculature\" \"Heart\" \"Skeletal Muscle\" \"Smooth muscle\" \"Immune system\" \"Blood\" \"Epithelium\" --pvaladj qvalue --markers deresults/marker_genes_region_4.tsv --aorta3d --output deresults/marker_genes_region_4.pred.tsv \n",
    "! python3 analyseMarkers.py --organs \"Connective tissue\" \"Vasculature\" \"Heart\" \"Skeletal Muscle\" \"Smooth muscle\" \"Immune system\" \"Blood\" \"Epithelium\" --pvaladj qvalue --markers deresults/marker_genes_region_5.tsv --aorta3d --output deresults/marker_genes_region_5.pred.tsv "
   ]
  },
  {
   "cell_type": "code",
   "execution_count": null,
   "metadata": {},
   "outputs": [],
   "source": [
    "slided_0.to_aorta3d(\"./aorta3d/slided/\", \"slided\", 0, protWeights=pw, ctpred=\"deresults/marker_genes_region_0.pred.tsv\")\n",
    "slided_1.to_aorta3d(\"./aorta3d/slided/\", \"slided\", 1, protWeights=pw, ctpred=\"deresults/marker_genes_region_1.pred.tsv\")\n",
    "slided_4.to_aorta3d(\"./aorta3d/slided/\", \"slided\", 4, protWeights=pw, ctpred=\"deresults/marker_genes_region_4.pred.tsv\")\n",
    "slided_5.to_aorta3d(\"./aorta3d/slided/\", \"slided\", 5, protWeights=pw, ctpred=\"deresults/marker_genes_region_5.pred.tsv\")"
   ]
  },
  {
   "cell_type": "code",
   "execution_count": null,
   "metadata": {},
   "outputs": [],
   "source": [
    "! python3 analyseMarkers.py --organs \"Connective tissue\" \"Vasculature\" \"Heart\" \"Skeletal Muscle\" \"Smooth muscle\" \"Immune system\" \"Blood\" \"Epithelium\" --pvaladj qvalue --markers deresults/marker_genes_region_0.tsv -n 2"
   ]
  },
  {
   "cell_type": "code",
   "execution_count": null,
   "metadata": {},
   "outputs": [],
   "source": [
    "! python3 analyseMarkers.py --organs \"Connective tissue\" \"Vasculature\" \"Heart\" \"Skeletal Muscle\" \"Smooth muscle\" \"Immune system\" \"Blood\" \"Epithelium\" --pvaladj qvalue --markers deresults/marker_genes_region_1.tsv -n 2"
   ]
  },
  {
   "cell_type": "code",
   "execution_count": null,
   "metadata": {},
   "outputs": [],
   "source": [
    "! python3 analyseMarkers.py --organs \"Connective tissue\" \"Vasculature\" \"Heart\" \"Skeletal Muscle\" \"Smooth muscle\" \"Immune system\" \"Blood\" \"Epithelium\" --pvaladj qvalue --markers deresults/marker_genes_region_4.tsv -n 2"
   ]
  },
  {
   "cell_type": "code",
   "execution_count": null,
   "metadata": {},
   "outputs": [],
   "source": [
    "! python3 analyseMarkers.py --organs \"Connective tissue\" \"Vasculature\" \"Heart\" \"Skeletal Muscle\" \"Smooth muscle\" \"Immune system\" \"Blood\" \"Epithelium\" --pvaladj qvalue --markers deresults/marker_genes_region_5.tsv -n 2"
   ]
  },
  {
   "cell_type": "markdown",
   "metadata": {},
   "source": [
    "From these cell type predictions it can be seen that mostly atherosclerosis relates cell types are showing up."
   ]
  },
  {
   "cell_type": "markdown",
   "metadata": {},
   "source": [
    "# Creating a CombinedSpectra"
   ]
  },
  {
   "cell_type": "code",
   "execution_count": null,
   "metadata": {},
   "outputs": [],
   "source": [
    "slided_0.name = \"slided_0\"\n",
    "slided_1.name = \"slided_1\"\n",
    "slided_4.name = \"slided_4\"\n",
    "slided_5.name = \"slided_5\""
   ]
  },
  {
   "cell_type": "code",
   "execution_count": null,
   "metadata": {},
   "outputs": [],
   "source": [
    "#slided_0 = SpectraRegion.from_pickle(\"slideD_region_0.pickle\")\n",
    "#slided_1 = SpectraRegion.from_pickle(\"slideD_region_1.pickle\")\n",
    "#slided_4 = SpectraRegion.from_pickle(\"slideD_region_4.pickle\")\n",
    "#slided_5 = SpectraRegion.from_pickle(\"slideD_region_5pickle\")"
   ]
  },
  {
   "cell_type": "markdown",
   "metadata": {},
   "source": [
    "Of course a SpectraRegion can also be re-processed to yield a more realistic clustering."
   ]
  },
  {
   "cell_type": "code",
   "execution_count": null,
   "metadata": {},
   "outputs": [],
   "source": [
    "slided_1.segment(method=\"WPGMA\", number_of_regions=15)\n",
    "slided_1.plot_segments()\n",
    "\n",
    "slided_1.filter_clusters(method='remove_singleton')\n",
    "slided_1.filter_clusters(method='merge_background')\n",
    "slided_1.filter_clusters(method='remove_islands')\n",
    "slided_1.filter_clusters(method='remove_islands', minIslandSize=15)\n",
    "\n",
    "\n",
    "\n",
    "slided_1.plot_segments()"
   ]
  },
  {
   "cell_type": "code",
   "execution_count": null,
   "metadata": {},
   "outputs": [],
   "source": [
    "mask = slided_1.segmented == 8\n",
    "mask[0:22,: ] = False\n",
    "mask[:,0:22 ] = False\n",
    "slided_1.segmented[mask] = 15\n",
    "slided_1.plot_segments()\n",
    "slided_1.plot_segments(highlight=[15])"
   ]
  },
  {
   "cell_type": "code",
   "execution_count": null,
   "metadata": {},
   "outputs": [],
   "source": [
    "slided_5.segment(method=\"WPGMA\", number_of_regions=15)\n",
    "slided_5.plot_segments()\n",
    "\n",
    "slided_5.filter_clusters(method='remove_singleton')\n",
    "slided_5.filter_clusters(method='merge_background')\n",
    "slided_5.filter_clusters(method='remove_islands')\n",
    "slided_5.filter_clusters(method='remove_islands', minIslandSize=15)\n",
    "slided_5.plot_segments()"
   ]
  },
  {
   "cell_type": "code",
   "execution_count": null,
   "metadata": {},
   "outputs": [],
   "source": [
    "slided_0.to_pickle(\"deresults/slideD_region_0.pickle\")\n",
    "slided_1.to_pickle(\"deresults/slideD_region_1.pickle\")"
   ]
  },
  {
   "cell_type": "code",
   "execution_count": null,
   "metadata": {},
   "outputs": [],
   "source": [
    "slided_4.to_pickle(\"deresults/slideD_region_4.pickle\")\n",
    "slided_5.to_pickle(\"deresults/slideD_region_5.pickle\")"
   ]
  },
  {
   "cell_type": "code",
   "execution_count": null,
   "metadata": {},
   "outputs": [],
   "source": []
  },
  {
   "cell_type": "code",
   "execution_count": null,
   "metadata": {},
   "outputs": [],
   "source": []
  },
  {
   "cell_type": "code",
   "execution_count": null,
   "metadata": {},
   "outputs": [],
   "source": []
  },
  {
   "cell_type": "code",
   "execution_count": null,
   "metadata": {},
   "outputs": [],
   "source": []
  },
  {
   "cell_type": "code",
   "execution_count": null,
   "metadata": {},
   "outputs": [],
   "source": [
    "slided_0.to_aorta3d(\"./aorta3d/slided/\", \"slided\", 0, protWeights=pw, ctpred=\"deresults/marker_genes_region_0.pred.tsv\")\n",
    "slided_1.to_aorta3d(\"./aorta3d/slided/\", \"slided\", 1, protWeights=pw, ctpred=\"deresults/marker_genes_region_1.pred.tsv\")\n",
    "slided_4.to_aorta3d(\"./aorta3d/slided/\", \"slided\", 4, protWeights=pw, ctpred=\"deresults/marker_genes_region_4.pred.tsv\")\n",
    "slided_5.to_aorta3d(\"./aorta3d/slided/\", \"slided\", 5, protWeights=pw, ctpred=\"deresults/marker_genes_region_5.pred.tsv\")"
   ]
  },
  {
   "cell_type": "code",
   "execution_count": null,
   "metadata": {},
   "outputs": [],
   "source": [
    "! python3 /mnt/f/dev/git/Aorta3D/files2model/register/register_pimz.py --id slided \\\n",
    "--files \\\n",
    "/mnt/f/dev/git/pyIMS/examples/aorta3d/slided/slided.1.info \\\n",
    "/mnt/f/dev/git/pyIMS/examples/aorta3d/slided/slided.0.info \\\n",
    "/mnt/f/dev/git/pyIMS/examples/aorta3d/slided/slided.4.info \\\n",
    "/mnt/f/dev/git/pyIMS/examples/aorta3d/slided/slided.5.info \\\n",
    "--output /mnt/f/dev/git/pyIMS/examples/aorta3d/slided/registered/slided_server.conf"
   ]
  },
  {
   "cell_type": "markdown",
   "metadata": {},
   "source": [
    "Here a CombinedSpectra is creates. This class allows to compare multiple SpectraRegions"
   ]
  },
  {
   "cell_type": "code",
   "execution_count": null,
   "metadata": {},
   "outputs": [],
   "source": [
    "combSpec = CombinedSpectra({0: slided_0, 1: slided_1, 4: slided_4, 5: slided_5})"
   ]
  },
  {
   "cell_type": "markdown",
   "metadata": {},
   "source": [
    "The consensus_smilarity() function calculates the similarity between all the contained spectra's regions using the average cluster/region spectra."
   ]
  },
  {
   "cell_type": "code",
   "execution_count": null,
   "metadata": {},
   "outputs": [],
   "source": [
    "combSpec.consensus_similarity()"
   ]
  },
  {
   "cell_type": "code",
   "execution_count": null,
   "metadata": {},
   "outputs": [],
   "source": [
    "combSpec.consensus_similarity_matrix"
   ]
  },
  {
   "cell_type": "markdown",
   "metadata": {},
   "source": [
    "Since the inspection of this matrix becomes tidious, particularly if large, it an be plotted :)"
   ]
  },
  {
   "cell_type": "code",
   "execution_count": null,
   "metadata": {},
   "outputs": [],
   "source": [
    "combSpec.plot_consensus_similarity()"
   ]
  },
  {
   "cell_type": "markdown",
   "metadata": {},
   "source": [
    "It can already be seen that some classes are more similar to each other, than others.\n",
    "\n",
    "Now the single slide/region clusters are reclustered."
   ]
  },
  {
   "cell_type": "code",
   "execution_count": null,
   "metadata": {},
   "outputs": [],
   "source": [
    "combSpec.cluster_concensus_spectra(number_of_clusters=10)"
   ]
  },
  {
   "cell_type": "markdown",
   "metadata": {},
   "source": [
    "A detailed print out of the newly assigned cluster for each slide, region."
   ]
  },
  {
   "cell_type": "code",
   "execution_count": null,
   "metadata": {},
   "outputs": [],
   "source": [
    "combSpec.region_cluster2cluster"
   ]
  },
  {
   "cell_type": "markdown",
   "metadata": {},
   "source": [
    "The new assignment can also be plotted:"
   ]
  },
  {
   "cell_type": "code",
   "execution_count": null,
   "metadata": {},
   "outputs": [],
   "source": [
    "combSpec.plot_common_segments()"
   ]
  },
  {
   "cell_type": "markdown",
   "metadata": {},
   "source": [
    "And of course, interpreted.\n",
    "\n",
    "Slide 1 and Slide 5 appear to be similar, and slide 0 and slide 4.\n",
    "\n"
   ]
  },
  {
   "cell_type": "code",
   "execution_count": null,
   "metadata": {},
   "outputs": [],
   "source": [
    "combSpec.plot_common_segments(highlight=(4))"
   ]
  },
  {
   "cell_type": "markdown",
   "metadata": {},
   "source": [
    "Similar to a normal SpectraRegion, also specific masses can be plotted. Here we can see that mass 14954 is not present in slides 1 and 5!"
   ]
  },
  {
   "cell_type": "code",
   "execution_count": null,
   "metadata": {},
   "outputs": [],
   "source": [
    "_ = combSpec.mass_heatmap(14954)"
   ]
  },
  {
   "cell_type": "markdown",
   "metadata": {},
   "source": [
    "## A first DE Analysis: Tunica Media"
   ]
  },
  {
   "cell_type": "markdown",
   "metadata": {},
   "source": [
    "Slide 0 cluster 2 and slide 4 cluster 1 seem to be very similar. We now want to see whether some differences can be observed.\n",
    "\n",
    "For this, we suspect that slides 0 and 4 are disease-samples, and slides 1 and 5 are controls.\n",
    "\n",
    "We now compare the outer regions of both samples:"
   ]
  },
  {
   "cell_type": "code",
   "execution_count": null,
   "metadata": {},
   "outputs": [],
   "source": [
    "combSpec.regions[\"slided_0\"].plot_segments(highlight=[8,9])\n",
    "combSpec.regions[\"slided_1\"].plot_segments(highlight=[12,14])"
   ]
  },
  {
   "cell_type": "code",
   "execution_count": null,
   "metadata": {},
   "outputs": [],
   "source": [
    "combSpec.get_internormed_regions()"
   ]
  },
  {
   "cell_type": "code",
   "execution_count": null,
   "metadata": {},
   "outputs": [],
   "source": [
    "print(np.median(combSpec.region_array_scaled[\"slided_1\"]), np.median( combSpec.regions[\"slided_1\"].region_array))"
   ]
  },
  {
   "cell_type": "code",
   "execution_count": null,
   "metadata": {},
   "outputs": [],
   "source": [
    "combSpec.mass_intensity(14954, regions=[\"slided_0\", \"slided_1\"], scaled=False)"
   ]
  },
  {
   "cell_type": "code",
   "execution_count": null,
   "metadata": {},
   "outputs": [],
   "source": [
    "combSpec.mass_intensity(14954, regions=[\"slided_0\", \"slided_1\"], scaled=True)"
   ]
  },
  {
   "cell_type": "code",
   "execution_count": null,
   "metadata": {},
   "outputs": [],
   "source": [
    "resdf, expr, pdata = combSpec.find_markers(\"slided_0\", [8,9], \"slided_1\", [12,14], pw, scaled=True)"
   ]
  },
  {
   "cell_type": "code",
   "execution_count": null,
   "metadata": {},
   "outputs": [],
   "source": [
    "combSpec.list_de_results()"
   ]
  },
  {
   "cell_type": "code",
   "execution_count": null,
   "metadata": {},
   "outputs": [],
   "source": [
    "mydf = resdf[\"ttest\"][('slided_0', (8,9,), 'slided_1', (12,14,))]"
   ]
  },
  {
   "cell_type": "markdown",
   "metadata": {},
   "source": [
    "In order to plot a volcano plot for the differential masses/proteins, the result DF is subset to only have masses displayed that have a mean intensity of at least 2."
   ]
  },
  {
   "cell_type": "code",
   "execution_count": null,
   "metadata": {},
   "outputs": [],
   "source": [
    "from adjustText import adjust_text"
   ]
  },
  {
   "cell_type": "code",
   "execution_count": null,
   "metadata": {},
   "outputs": [],
   "source": [
    "pd.set_option('display.max_rows', None)\n",
    "mydf"
   ]
  },
  {
   "cell_type": "code",
   "execution_count": null,
   "metadata": {},
   "outputs": [],
   "source": [
    "plt.figure(figsize=(16,10))\n",
    "xydots = [(x,y) for x,y in zip(list(-mydf[\"avg_logFC\"]), list(-np.log10(mydf[\"qvalue\"])))]\n",
    "dotgene = list(mydf[\"gene\"])\n",
    "texts = []\n",
    "seenProts = set()\n",
    "\n",
    "for i in range(len(xydots)):\n",
    "    x = xydots[i][0]\n",
    "    y = xydots[i][1]\n",
    "    \n",
    "    if not dotgene[i] in seenProts and abs(y) >= 10 and abs(x) >= 0.5:\n",
    "        texts.append(plt.text(x * (1 + 0.01), y * (1 + 0.01) , dotgene[i], fontsize=12))\n",
    "        plt.plot(x, y, 'ro')\n",
    "        seenProts.add(dotgene[i])\n",
    "    else:\n",
    "        plt.plot(x, y, 'bo')\n",
    "\n",
    "adjust_text(texts, force_points=0.2, force_text=0.2, expand_points=(1, 1), expand_text=(1, 1), arrowprops=dict(arrowstyle=\"-\", color='black', lw=0.5))\n",
    "plt.show()"
   ]
  },
  {
   "cell_type": "markdown",
   "metadata": {},
   "source": [
    "![title](https://medicalartlibrary.com/wp-content/uploads/atherosclerosis-renal.jpg)"
   ]
  },
  {
   "cell_type": "markdown",
   "metadata": {},
   "source": [
    "In this comparison the tunica media of atherosclerotic (slided_0) and control (slided_1) aorta was compared.\n",
    "It must be noted, that the selected regions are considerably thicker in slided_1 compared to slided_0, but it is a known phenomenon that \"The media underlying intimal athero- sclerotic plaque is considerably thinner\" (Milutinović, A., Šuput, D., & Zorc-Pleskovič, R. (2020). Pathogenesis of atherosclerosis in the tunica intima, media, and adventitia of coronary arteries: An updated review. In Bosnian Journal of Basic Medical Sciences (Vol. 20, Issue 1, pp. 21–30). Association of Basic Medical Sciences of FBIH. https://doi.org/10.17305/bjbms.2019.4320 ).\n",
    "\n",
    "However, due to the proximity to the background tissue (liver), for each mass it should be checked whether this mass is not also prevalent in the background tissue and therefore is present in the cluster due to diffusion, bad clustering, or other reasons. The mass_heatmap-function give a good and fast overview!\n",
    "\n",
    "#### Tmsb4x -\n",
    "First it is very interesting to see a difference in Tmsb4x between the (suspected) control and disease aortas.\n",
    "The diseased-aorta-media has significantly less Tmsb4x (-0.5).\n",
    "This is not surprising, but was already found 5 years ago ( Zaima, N., Sasaki, T., Tanaka, H., Cheng, X. W., Onoue, K., Hayasaka, T., Goto-Inoue, N., Enomoto, H., Unno, N., Kuzuya, M., & Setou, M. (2011). Imaging mass spectrometry-based histopathologic examination of atherosclerotic lesions. Atherosclerosis, 217(2), 427–432. https://doi.org/10.1016/j.atherosclerosis.2011.03.044 ). Indeed, this can be seen as proof-of-concept.\n",
    "\n",
    "#### Ptges3 +\n",
    "\n",
    "On the contrary, there are other proteins, which are up-regulated in the atherosclerotic aorta.\n",
    "Among these is Ptges3 (+1.25), which was shown to be involved in the inflammatory response of bovine endometrial epithelial cells.\n",
    "Almughlliq, F. B., Koh, Y. Q., Peiris, H. N., Vaswani, K., Arachchige, B. J., Reed, S., & Mitchell, M. D. (2018). Eicosanoid pathway expression in bovine endometrial epithelial and stromal cells in response to lipopolysaccharide, interleukin 1 beta, and tumor necrosis factor alpha. Reproductive Biology, 18(4), 390–396. https://doi.org/10.1016/j.repbio.2018.10.001\n",
    "\n",
    "Further proteins of interest include\n",
    "\n",
    "#### Chchd4 +\n",
    "Chchd4 was already identified as a biomarker for chronic obstructive pulmonary disease (COPD), a chronic inflammatory disease - in such, maybe? comparable to atherosclerosis.\n",
    "Chchd4 affects the mitochondrial metabolism, being named in the p53-axis controlling tumor proliferation.\n",
    "\n",
    "Maghsoudloo, M., Azimzadeh Jamalkandi, S., Najafi, A., & Masoudi-Nejad, A. (2020). An efficient hybrid feature selection method to identify potential biomarkers in common chronic lung inflammatory diseases. Genomics, 112(5), 3284–3293. https://doi.org/10.1016/j.ygeno.2020.06.010\n",
    "\n",
    "#### Coa6 --\n",
    "\n",
    "The respiratory metabolism appears to play an important role in atherosclerosis. Many regulated proteins fall into this category.\n",
    "A Coa6 deficiency is known to be causing many disease phenotypes, including cardiomyopathy, encephalomyopathy, skeletal muscle myopathy, Leigh syndrome, metabolic acidosis and occasional hepatic failure.\n",
    "In summary: Coa6 deficiency does not contribute to a healthy Aorta.\n",
    "\n",
    "Ghosh, A., Trivedi, P. P., Timbalia, S. A., Griffin, A. T., Rahn, J. J., Chan, S. S. L., & Gohil, V. M. (2014). Copper supplementation restores cytochrome c oxidase assembly defect in a mitochondrial disease model of COA6 deficiency. Human Molecular Genetics, 23(13), 3596–3606. https://doi.org/10.1093/hmg/ddu069\n",
    "\n",
    "#### Cst3 +\n",
    "\n",
    "Serum Cystein3 is associated with subclinical atherosclerosis, which can also be seen in the middle of the IMS aorta. It also does not seem unlikely, that Cst3 is elsewhere upregulated in atherosclerotic aorta.\n",
    "\n",
    "Chung, Y. K., Lee, Y. J., Kim, K. W., Cho, R. K., Chung, S. M., Moon, J. S., Yoon, J. S., Won, K. C., & Lee, H. W. (2018). Serum cystatin C is associated with subclinical atherosclerosis in patients with type 2 diabetes: A retrospective study. Diabetes and Vascular Disease Research, 15(1), 24–30. https://doi.org/10.1177/1479164117738156\n",
    "\n",
    "#### Ndufa11 +, Cox7a2 -\n",
    "\n",
    "This proteins is of interesting, and together with other identified proteins ( like Cox7a2 ), is part of the mitochondria.\n",
    "Atherosclerosis therefore might have an effect on the energy metabolism, similar to an ischemic stroke: James, R., Searcy, J. L., Le Bihan, T., Martin, S. F., Gliddon, C. M., Povey, J., Deighton, R. F., Kerr, L. E., McCulloch, J., & Horsburgh, K. (2012). Proteomic analysis of mitochondria in APOE transgenic mice and in response to an ischemic challenge. Journal of Cerebral Blood Flow and Metabolism, 32(1), 164–176. https://doi.org/10.1038/jcbfm.2011.120 \n",
    "\n",
    "#### Ndufb6 +\n",
    "\n",
    "Ndufb6 was identified to being critical for the development of PM2.5-induced fibrosis in mouse lungs. Therefore it is likely related to inflammatory processes.\n",
    "\n",
    "Han, X., Liu, H., Zhang, Z., Yang, W., Wu, C., Liu, X., Zhang, F., Sun, B., Zhao, Y., Jiang, G., Yang, Y. G., & Ding, W. (2020). Epitranscriptomic 5-Methylcytosine Profile in PM2.5-induced Mouse Pulmonary Fibrosis. Genomics, Proteomics and Bioinformatics, 18(1), 41–51. https://doi.org/10.1016/j.gpb.2019.11.005\n",
    "\n"
   ]
  },
  {
   "cell_type": "code",
   "execution_count": null,
   "metadata": {},
   "outputs": [],
   "source": [
    "_ = combSpec.mass_heatmap(pw.protein2mass.get(\"Tmsb4x\"), scaled=True)"
   ]
  },
  {
   "cell_type": "code",
   "execution_count": null,
   "metadata": {},
   "outputs": [],
   "source": [
    "combSpec.mass_intensity(pw.protein2mass.get(\"Tmsb4x\"), regions=[\"slided_0\", \"slided_1\"], scaled=True)"
   ]
  },
  {
   "cell_type": "code",
   "execution_count": null,
   "metadata": {},
   "outputs": [],
   "source": [
    "for gene in np.unique(mydf[\"gene\"]):\n",
    "    print(gene)\n",
    "    _ = combSpec.mass_heatmap(pw.protein2mass.get(gene), scaled=True)"
   ]
  },
  {
   "cell_type": "code",
   "execution_count": null,
   "metadata": {},
   "outputs": [],
   "source": [
    "combSpec.mass_intensity(pw.protein2mass.get(\"Ptges3\"), regions=[\"slided_0\", \"slided_1\"], scaled=True)"
   ]
  },
  {
   "cell_type": "code",
   "execution_count": null,
   "metadata": {},
   "outputs": [],
   "source": []
  },
  {
   "cell_type": "code",
   "execution_count": null,
   "metadata": {},
   "outputs": [],
   "source": []
  },
  {
   "cell_type": "markdown",
   "metadata": {},
   "source": [
    "## Another DE Analysis: whole Aorta"
   ]
  },
  {
   "cell_type": "markdown",
   "metadata": {},
   "source": [
    "Having spotted several differences between the Tunica media of atherosclerotic and suspected healthy aorta, a full comparison might also be of interest.\n",
    "\n",
    "For this, all slided_0 and slided_1 regions are compared  - with the exception of the backgrounds."
   ]
  },
  {
   "cell_type": "code",
   "execution_count": null,
   "metadata": {},
   "outputs": [],
   "source": [
    "slided_0_regions = tuple(sorted([x for x in np.unique(slided_0.segmented) if x > 0]))\n",
    "slided_1_regions = tuple(sorted([x for x in np.unique(slided_1.segmented) if x > 0]))"
   ]
  },
  {
   "cell_type": "code",
   "execution_count": null,
   "metadata": {},
   "outputs": [],
   "source": [
    "combSpec.regions[\"slided_0\"].plot_segments(highlight=slided_0_regions)\n",
    "combSpec.regions[\"slided_1\"].plot_segments(highlight=slided_1_regions)"
   ]
  },
  {
   "cell_type": "code",
   "execution_count": null,
   "metadata": {},
   "outputs": [],
   "source": [
    "resdf_all, expr, pdata = combSpec.find_markers(\"slided_0\", slided_0_regions, \"slided_1\", slided_1_regions, pw, scaled=True)"
   ]
  },
  {
   "cell_type": "code",
   "execution_count": null,
   "metadata": {},
   "outputs": [],
   "source": [
    "combSpec.list_de_results()"
   ]
  },
  {
   "cell_type": "code",
   "execution_count": null,
   "metadata": {},
   "outputs": [],
   "source": [
    "mydf_all = resdf_all[\"ttest\"][('slided_0', slided_0_regions, 'slided_1', slided_1_regions)]"
   ]
  },
  {
   "cell_type": "code",
   "execution_count": null,
   "metadata": {},
   "outputs": [],
   "source": [
    "plt.figure(figsize=(16,10))\n",
    "xydots = [(x,y) for x,y in zip(list(-mydf_all[\"avg_logFC\"]), list(-np.log10(mydf_all[\"qvalue\"])))]\n",
    "dotgene = list(mydf_all[\"gene\"])\n",
    "texts = []\n",
    "seenProts = set()\n",
    "\n",
    "for i in range(len(xydots)):\n",
    "    x = xydots[i][0]\n",
    "    y = xydots[i][1]\n",
    "    \n",
    "    if not dotgene[i] in seenProts and abs(y) >= 10 and abs(x) >= 0.5:\n",
    "        texts.append(plt.text(x * (1 + 0.01), y * (1 + 0.01) , dotgene[i], fontsize=12))\n",
    "        plt.plot(x, y, 'ro')\n",
    "        seenProts.add(dotgene[i])\n",
    "    else:\n",
    "        plt.plot(x, y, 'bo')\n",
    "\n",
    "adjust_text(texts, force_points=0.2, force_text=0.2, expand_points=(1, 1), expand_text=(1, 1), arrowprops=dict(arrowstyle=\"-\", color='black', lw=0.5))\n",
    "plt.show()"
   ]
  },
  {
   "cell_type": "markdown",
   "metadata": {},
   "source": [
    "The comparison of both aorta results again in several differential proteins.\n",
    "\n",
    "Again, several proteins involved in the respiratory metabolism are listed, like Ndufc2, Ndufa11.\n",
    "\n",
    "Of interest here are Ifitm3, Ccdc126 and Ubl5, which are all located in the inner part of the aorta.\n",
    "\n",
    "#### Ifitm3\n",
    "\n",
    "Known gene involved in the innate immune system (T cells): Yánez, D. C., Ross, S., & Crompton, T. (2020). The IFITM protein family in adaptive immunity. In Immunology (Vol. 159, Issue 4, pp. 365–372). Blackwell Publishing Ltd. https://doi.org/10.1111/imm.13163\n",
    "\n",
    "Ifitm3 is involved in the plaque uptake in Alzheimer's disease: Hur, J. Y., Frost, G. R., Wu, X., Crump, C., Pan, S. J., Wong, E., Barros, M., Li, T., Nie, P., Zhai, Y., Wang, J. C., Tcw, J., Guo, L., McKenzie, A., Ming, C., Zhou, X., Wang, M., Sagi, Y., Renton, A. E., … Li, Y. M. (2020). The innate immunity protein IFITM3 modulates γ-secretase in Alzheimer’s disease. Nature, 1–6. https://doi.org/10.1038/s41586-020-2681-2\n",
    "\n",
    "\n",
    "#### Mrps14\n",
    "\n",
    "Mrps14 effects the mitochondrial translation. \n",
    "Hence, again, a disturbation of mitochondrial work can be observed.\n",
    "\n",
    "Jackson, C. B., Huemer, M., Bolognini, R., Martin, F., Szinnai, G., Donner, B. C., Richter, U., Battersby, B. J., Nuoffer, J. M., Suomalainen, A., & Schaller, A. (2019). A variant in MRPS14 (uS14m) causes perinatal hypertrophic cardiomyopathy with neonatal lactic acidosis, growth retardation, dysmorphic features and neurological involvement. Human Molecular Genetics, 28(4), 639–649. https://doi.org/10.1093/hmg/ddy374\n",
    "\n",
    "#### Acot13\n",
    "\n",
    "In chicken it was observed that an Acot13 decreases works as inhibitor during Preadipocytes Differentiation.\n",
    "Hence, an upregulation of Acot13 leads to an increase in preadipocyte differentiation, which also plays a role in plaque formation.\n"
   ]
  },
  {
   "cell_type": "code",
   "execution_count": null,
   "metadata": {},
   "outputs": [],
   "source": [
    "_ = combSpec.mass_heatmap(pw.protein2mass.get(\"Ifitm3\"), scaled=True)\n",
    "_ = combSpec.mass_heatmap(pw.protein2mass.get(\"Mrps14\"), scaled=True)\n",
    "_ = combSpec.mass_heatmap(pw.protein2mass.get(\"Acot13\"), scaled=True)"
   ]
  },
  {
   "cell_type": "code",
   "execution_count": null,
   "metadata": {},
   "outputs": [],
   "source": [
    "for x in set(mydf_all[\"gene\"]):\n",
    "    print(x)\n",
    "    _ = combSpec.mass_heatmap(pw.protein2mass.get(x), scaled=True)"
   ]
  },
  {
   "cell_type": "code",
   "execution_count": null,
   "metadata": {},
   "outputs": [],
   "source": [
    "combSpec.mass_intensity(pw.protein2mass.get(\"Ccdc126\"), regions=[\"slided_0\", \"slided_1\"], scaled=True)"
   ]
  },
  {
   "cell_type": "code",
   "execution_count": null,
   "metadata": {},
   "outputs": [],
   "source": [
    "combSpec.regions[\"slided_0\"].plot_segments(highlight=1)"
   ]
  },
  {
   "cell_type": "code",
   "execution_count": null,
   "metadata": {},
   "outputs": [],
   "source": [
    "_ = combSpec.mass_heatmap(pw.protein2mass.get(\"Ccdc126\"), scaled=True)"
   ]
  },
  {
   "cell_type": "code",
   "execution_count": null,
   "metadata": {},
   "outputs": [],
   "source": [
    "combSpec.mass_intensity(pw.protein2mass.get(\"Hsbp1\"), regions=[\"slided_0\", \"slided_1\"], scaled=True)"
   ]
  },
  {
   "cell_type": "code",
   "execution_count": null,
   "metadata": {},
   "outputs": [],
   "source": [
    "_ = combSpec.mass_heatmap(pw.protein2mass.get(\"Hsbp1\"), scaled=True)"
   ]
  },
  {
   "cell_type": "markdown",
   "metadata": {},
   "source": [
    "## The core DE"
   ]
  },
  {
   "cell_type": "code",
   "execution_count": null,
   "metadata": {},
   "outputs": [],
   "source": [
    "slided_0_inner_regions = tuple([1,3,4,6])\n",
    "slided_1_inner_regions = tuple([2,3,7,8,9])"
   ]
  },
  {
   "cell_type": "code",
   "execution_count": null,
   "metadata": {},
   "outputs": [],
   "source": [
    "combSpec.regions[\"slided_0\"].plot_segments(highlight=slided_0_inner_regions)\n",
    "combSpec.regions[\"slided_1\"].plot_segments(highlight=slided_1_inner_regions)"
   ]
  },
  {
   "cell_type": "code",
   "execution_count": null,
   "metadata": {},
   "outputs": [],
   "source": [
    "resdf_inner, expr, pdata = combSpec.find_markers(\"slided_0\", slided_0_inner_regions, \"slided_1\", slided_1_inner_regions, pw, scaled=True)"
   ]
  },
  {
   "cell_type": "code",
   "execution_count": null,
   "metadata": {},
   "outputs": [],
   "source": [
    "mydf_inner = resdf_inner[\"ttest\"][('slided_0', slided_0_inner_regions, 'slided_1', slided_1_inner_regions)]"
   ]
  },
  {
   "cell_type": "code",
   "execution_count": null,
   "metadata": {},
   "outputs": [],
   "source": [
    "plt.figure(figsize=(16,10))\n",
    "xydots = [(x,y) for x,y in zip(list(-mydf_inner[\"avg_logFC\"]), list(-np.log10(mydf_inner[\"qvalue\"])))]\n",
    "dotgene = list(mydf_inner[\"gene\"])\n",
    "texts = []\n",
    "seenProts = set()\n",
    "\n",
    "for i in range(len(xydots)):\n",
    "    x = xydots[i][0]\n",
    "    y = xydots[i][1]\n",
    "    \n",
    "    if not dotgene[i] in seenProts and abs(y) >= 10 and abs(x) >= 0.5:\n",
    "        texts.append(plt.text(x * (1 + 0.01), y * (1 + 0.01) , dotgene[i], fontsize=12))\n",
    "        plt.plot(x, y, 'ro')\n",
    "        seenProts.add(dotgene[i])\n",
    "    else:\n",
    "        plt.plot(x, y, 'bo')\n",
    "\n",
    "adjust_text(texts, force_points=0.2, force_text=0.2, expand_points=(1, 1), expand_text=(1, 1), arrowprops=dict(arrowstyle=\"-\", color='black', lw=0.5))\n",
    "plt.show()"
   ]
  },
  {
   "cell_type": "markdown",
   "metadata": {},
   "source": [
    "Again the same candidates as previously shown can be seen.\n",
    "\n",
    "Mrps14, Ccdc126, Ndufa11 - which mostly relate to mitochondrial activity.\n",
    "\n",
    "\n",
    "#### Timm8b\n",
    "Likewise is Timm8b significantly upregulated.\n",
    "\n",
    "Timm8b is found to be upregulated in colon mucosa cardinogenesis of diabetes type 2 patients, and is associated with mitochondrial dysfunction.\n",
    "A similar pattern might be observable in atherosclerosis as well.\n",
    "\n",
    "Del Puerto-Nevado, L., Santiago-Hernandez, A., Solanes-Casado, S., Gonzalez, N., Ricote, M., Corton, M., Prieto, I., Mas, S., Sanz, A. B., Aguilera, O., Gomez-Guerrero, C., Ayuso, C., Ortiz, A., Rojo, F., Egido, J., Garcia-Foncillas, J., Minguez, P., & Alvarez-Llamas, G. (2019). Diabetes-mediated promotion of colon mucosa carcinogenesis is associated with mitochondrial dysfunction. Molecular Oncology, 13(9), 1887–1897. https://doi.org/10.1002/1878-0261.12531"
   ]
  },
  {
   "cell_type": "markdown",
   "metadata": {},
   "source": [
    "## GO analysis for plaque-DE experiment"
   ]
  },
  {
   "cell_type": "code",
   "execution_count": null,
   "metadata": {},
   "outputs": [],
   "source": [
    "! wget http://ftp.ebi.ac.uk//pub/databases/GO/goa/HUMAN/goa_human.gaf.gz"
   ]
  },
  {
   "cell_type": "code",
   "execution_count": null,
   "metadata": {},
   "outputs": [],
   "source": [
    "! wget 'http://purl.obolibrary.org/obo/go/go-basic.obo'"
   ]
  },
  {
   "cell_type": "code",
   "execution_count": null,
   "metadata": {},
   "outputs": [],
   "source": [
    "import gzip\n",
    "import Bio.UniProt.GOA as GOA\n",
    "from goatools.go_enrichment import GOEnrichmentStudy\n",
    "from goatools import obo_parser\n",
    "\n",
    "goa_human = \"goa_human.gaf.gz\"\n",
    "\n",
    "# File is a gunzip file, so we need to open it in this way\n",
    "with gzip.open(goa_human, 'rt') as arab_gaf_fp:\n",
    "    human_funcs = {}  # Initialise the dictionary of functions\n",
    "    \n",
    "    # Iterate on each function using Bio.UniProt.GOA library.\n",
    "    for entry in GOA.gafiterator(arab_gaf_fp):\n",
    "        uniprot_id = entry.pop('DB_Object_Symbol')\n",
    "        human_funcs[uniprot_id] = entry\n",
    "\n",
    "        \n",
    "go = obo_parser.GODag(\"go-basic.obo\")\n"
   ]
  },
  {
   "cell_type": "code",
   "execution_count": null,
   "metadata": {},
   "outputs": [],
   "source": [
    "for i,x in enumerate(human_funcs):\n",
    "    if x.startswith(\"CCL\"):\n",
    "        print(i,x, human_funcs[x])\n",
    "        break"
   ]
  },
  {
   "cell_type": "code",
   "execution_count": null,
   "metadata": {},
   "outputs": [],
   "source": [
    "keyword = 'growth'\n",
    "growth_dict = {x: human_funcs[x]\n",
    "               for x in human_funcs \n",
    "               if keyword in human_funcs[x]['DB_Object_Name']}"
   ]
  },
  {
   "cell_type": "code",
   "execution_count": null,
   "metadata": {},
   "outputs": [],
   "source": [
    "\n",
    "\n",
    "print('UniProt IDs of annotations with \"growth\" in their name:')\n",
    "\n",
    "print(\"Total: {}\".format(len(growth_dict)))\n",
    "\n"
   ]
  },
  {
   "cell_type": "code",
   "execution_count": null,
   "metadata": {},
   "outputs": [],
   "source": [
    "\n",
    "pop = [x.upper() for x in pw.protein2mass]\n",
    "assoc = {}\n",
    "\n",
    "for x in human_funcs:\n",
    "    if x not in assoc:\n",
    "        assoc[x] = set()\n",
    "    assoc[x].add(str(human_funcs[x]['GO_ID']))\n",
    "\n",
    "methods = [\"bonferroni\", \"fdr\"]\n",
    "\n"
   ]
  },
  {
   "cell_type": "code",
   "execution_count": null,
   "metadata": {},
   "outputs": [],
   "source": [
    "study = list(set([x.upper() for x in mydf[\"gene\"]])) #mydf_all"
   ]
  },
  {
   "cell_type": "code",
   "execution_count": null,
   "metadata": {},
   "outputs": [],
   "source": []
  },
  {
   "cell_type": "code",
   "execution_count": null,
   "metadata": {},
   "outputs": [],
   "source": [
    "g = GOEnrichmentStudy(pop, assoc, go,\n",
    "                         propagate_counts=True,\n",
    "                         alpha=0.05,\n",
    "                         methods=['bonferroni', 'fdr_bh'])\n",
    "g_res = g.run_study(study)\n",
    "\n"
   ]
  },
  {
   "cell_type": "code",
   "execution_count": null,
   "metadata": {},
   "outputs": [],
   "source": []
  },
  {
   "cell_type": "code",
   "execution_count": null,
   "metadata": {},
   "outputs": [],
   "source": [
    "for x in sorted(g_res, key=lambda x: (x.study_count, -x.p_uncorrected), reverse=True):\n",
    "    if x.study_count > 1:\n",
    "        print(x.study_count, x)"
   ]
  }
 ],
 "metadata": {
  "kernelspec": {
   "display_name": "Python 3",
   "language": "python",
   "name": "python3"
  },
  "language_info": {
   "codemirror_mode": {
    "name": "ipython",
    "version": 3
   },
   "file_extension": ".py",
   "mimetype": "text/x-python",
   "name": "python",
   "nbconvert_exporter": "python",
   "pygments_lexer": "ipython3",
   "version": "3.8.2"
  }
 },
 "nbformat": 4,
 "nbformat_minor": 4
}
