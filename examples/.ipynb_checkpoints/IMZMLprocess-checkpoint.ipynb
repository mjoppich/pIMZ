{
 "cells": [
  {
   "cell_type": "code",
   "execution_count": 2,
   "metadata": {},
   "outputs": [
    {
     "name": "stdout",
     "output_type": "stream",
     "text": [
      "The autoreload extension is already loaded. To reload it, use:\n",
      "  %reload_ext autoreload\n",
      "['/usr/lib/python36.zip', '/usr/lib/python3.6', '/usr/lib/python3.6/lib-dynload', '', '/home/mjoppich/.local/lib/python3.6/site-packages', '/home/mjoppich/.local/lib/python3.6/site-packages/mpld3-0.3.1.dev1-py3.6.egg', '/home/mjoppich/.local/lib/python3.6/site-packages/opennre-0.1-py3.6.egg', '/usr/local/lib/python3.6/dist-packages', '/usr/local/lib/python3.6/dist-packages/tf_unet-0.1.1-py3.6.egg', '/mnt/d/PythonCGI/jupyter_micropython_kernel', '/usr/lib/python3/dist-packages', '/usr/local/lib/python3.6/dist-packages/IPython/extensions', '/home/mjoppich/.ipython', '../', '../']\n"
     ]
    },
    {
     "name": "stderr",
     "output_type": "stream",
     "text": [
      "/usr/local/lib/python3.6/dist-packages/numba/core/errors.py:144: UserWarning: Insufficiently recent colorama version found. Numba requires colorama >= 0.3.9\n",
      "  warnings.warn(msg)\n",
      "/usr/local/lib/python3.6/dist-packages/tensorflow/python/framework/dtypes.py:516: FutureWarning: Passing (type, 1) or '1type' as a synonym of type is deprecated; in a future version of numpy, it will be understood as (type, (1,)) / '(1,)type'.\n",
      "  _np_qint8 = np.dtype([(\"qint8\", np.int8, 1)])\n",
      "/usr/local/lib/python3.6/dist-packages/tensorflow/python/framework/dtypes.py:517: FutureWarning: Passing (type, 1) or '1type' as a synonym of type is deprecated; in a future version of numpy, it will be understood as (type, (1,)) / '(1,)type'.\n",
      "  _np_quint8 = np.dtype([(\"quint8\", np.uint8, 1)])\n",
      "/usr/local/lib/python3.6/dist-packages/tensorflow/python/framework/dtypes.py:518: FutureWarning: Passing (type, 1) or '1type' as a synonym of type is deprecated; in a future version of numpy, it will be understood as (type, (1,)) / '(1,)type'.\n",
      "  _np_qint16 = np.dtype([(\"qint16\", np.int16, 1)])\n",
      "/usr/local/lib/python3.6/dist-packages/tensorflow/python/framework/dtypes.py:519: FutureWarning: Passing (type, 1) or '1type' as a synonym of type is deprecated; in a future version of numpy, it will be understood as (type, (1,)) / '(1,)type'.\n",
      "  _np_quint16 = np.dtype([(\"quint16\", np.uint16, 1)])\n",
      "/usr/local/lib/python3.6/dist-packages/tensorflow/python/framework/dtypes.py:520: FutureWarning: Passing (type, 1) or '1type' as a synonym of type is deprecated; in a future version of numpy, it will be understood as (type, (1,)) / '(1,)type'.\n",
      "  _np_qint32 = np.dtype([(\"qint32\", np.int32, 1)])\n",
      "/usr/local/lib/python3.6/dist-packages/tensorflow/python/framework/dtypes.py:525: FutureWarning: Passing (type, 1) or '1type' as a synonym of type is deprecated; in a future version of numpy, it will be understood as (type, (1,)) / '(1,)type'.\n",
      "  np_resource = np.dtype([(\"resource\", np.ubyte, 1)])\n",
      "/usr/local/lib/python3.6/dist-packages/tensorboard/compat/tensorflow_stub/dtypes.py:541: FutureWarning: Passing (type, 1) or '1type' as a synonym of type is deprecated; in a future version of numpy, it will be understood as (type, (1,)) / '(1,)type'.\n",
      "  _np_qint8 = np.dtype([(\"qint8\", np.int8, 1)])\n",
      "/usr/local/lib/python3.6/dist-packages/tensorboard/compat/tensorflow_stub/dtypes.py:542: FutureWarning: Passing (type, 1) or '1type' as a synonym of type is deprecated; in a future version of numpy, it will be understood as (type, (1,)) / '(1,)type'.\n",
      "  _np_quint8 = np.dtype([(\"quint8\", np.uint8, 1)])\n",
      "/usr/local/lib/python3.6/dist-packages/tensorboard/compat/tensorflow_stub/dtypes.py:543: FutureWarning: Passing (type, 1) or '1type' as a synonym of type is deprecated; in a future version of numpy, it will be understood as (type, (1,)) / '(1,)type'.\n",
      "  _np_qint16 = np.dtype([(\"qint16\", np.int16, 1)])\n",
      "/usr/local/lib/python3.6/dist-packages/tensorboard/compat/tensorflow_stub/dtypes.py:544: FutureWarning: Passing (type, 1) or '1type' as a synonym of type is deprecated; in a future version of numpy, it will be understood as (type, (1,)) / '(1,)type'.\n",
      "  _np_quint16 = np.dtype([(\"quint16\", np.uint16, 1)])\n",
      "/usr/local/lib/python3.6/dist-packages/tensorboard/compat/tensorflow_stub/dtypes.py:545: FutureWarning: Passing (type, 1) or '1type' as a synonym of type is deprecated; in a future version of numpy, it will be understood as (type, (1,)) / '(1,)type'.\n",
      "  _np_qint32 = np.dtype([(\"qint32\", np.int32, 1)])\n",
      "/usr/local/lib/python3.6/dist-packages/tensorboard/compat/tensorflow_stub/dtypes.py:550: FutureWarning: Passing (type, 1) or '1type' as a synonym of type is deprecated; in a future version of numpy, it will be understood as (type, (1,)) / '(1,)type'.\n",
      "  np_resource = np.dtype([(\"resource\", np.ubyte, 1)])\n"
     ]
    }
   ],
   "source": [
    "%load_ext autoreload\n",
    "import os,sys\n",
    "import pandas as pd\n",
    "import seaborn as sns\n",
    "import numpy as np\n",
    "sys.path.append(\"../\")\n",
    "\n",
    "print(sys.path)\n",
    "\n",
    "%autoreload 2\n",
    "from src.pySRM.pysrm.segment import IMZMLExtract, SpectraRegion, ProteinWeights, CombinedSpectra\n",
    "\n"
   ]
  },
  {
   "cell_type": "code",
   "execution_count": 3,
   "metadata": {},
   "outputs": [
    {
     "name": "stdout",
     "output_type": "stream",
     "text": [
      "Opening regions file for /mnt/d/dev/data/msi/slideD/181114_AT1_Slide_D_Proteins.imzML\n"
     ]
    }
   ],
   "source": [
    "imze = IMZMLExtract(\"/mnt/d/dev/data/msi/slideD/181114_AT1_Slide_D_Proteins.imzML\")"
   ]
  },
  {
   "cell_type": "code",
   "execution_count": 4,
   "metadata": {},
   "outputs": [
    {
     "name": "stdout",
     "output_type": "stream",
     "text": [
      "0 356 400 215 273\n",
      "1 436 478 632 687\n",
      "2 1572 1612 608 666\n",
      "3 1149 1197 142 205\n",
      "4 618 666 211 266\n",
      "5 633 684 630 688\n",
      "6 1357 1400 628 686\n"
     ]
    },
    {
     "data": {
      "image/png": "[encoded data removed]",
      "text/plain": [
       "<Figure size 674.791x288 with 2 Axes>"
      ]
     },
     "metadata": {
      "needs_background": "light"
     },
     "output_type": "display_data"
    }
   ],
   "source": [
    "imze.list_regions()"
   ]
  },
  {
   "cell_type": "code",
   "execution_count": 9,
   "metadata": {},
   "outputs": [
    {
     "name": "stderr",
     "output_type": "stream",
     "text": [
      "Found region 0 with shape (45, 59, 17900)\n",
      "I0624 23:00:35.269494 140594305828672 segment.py:2227] Found region 0 with shape (45, 59, 17900)\n"
     ]
    }
   ],
   "source": [
    "spectra_orig = imze.get_region_array(0, makeNullLine=True)\n",
    "spectra_intra = imze.normalize_region_array(spectra_orig, normalize=\"intra_median\")\n",
    "spectra = imze.normalize_region_array(spectra_intra, normalize=\"inter_median\")\n"
   ]
  },
  {
   "cell_type": "code",
   "execution_count": 10,
   "metadata": {},
   "outputs": [
    {
     "name": "stdout",
     "output_type": "stream",
     "text": [
      "3454.87441091502 39\n",
      "3456.383544128344 278\n",
      "3457.8926773416683 2332\n",
      "4965.516757452595 2\n",
      "14980.124761072322 2\n",
      "14981.633894285647 2\n"
     ]
    },
    {
     "data": {
      "image/png": "[encoded data removed]",
      "text/plain": [
       "<Figure size 377.6x288 with 2 Axes>"
      ]
     },
     "metadata": {
      "needs_background": "light"
     },
     "output_type": "display_data"
    },
    {
     "name": "stdout",
     "output_type": "stream",
     "text": [
      "2655 21.596925405218006 135.29717860224918 64.3830524780514\n"
     ]
    },
    {
     "data": {
      "image/png": "[encoded data removed]",
      "text/plain": [
       "<Figure size 432x288 with 1 Axes>"
      ]
     },
     "metadata": {
      "needs_background": "light"
     },
     "output_type": "display_data"
    }
   ],
   "source": [
    "imze.list_highest_peaks(spectra, counter=True)"
   ]
  },
  {
   "cell_type": "code",
   "execution_count": 11,
   "metadata": {},
   "outputs": [
    {
     "name": "stdout",
     "output_type": "stream",
     "text": [
      "Got spectra (45, 59, 17900)\n"
     ]
    }
   ],
   "source": [
    "print(\"Got spectra\", spectra.shape)"
   ]
  },
  {
   "cell_type": "code",
   "execution_count": 12,
   "metadata": {},
   "outputs": [],
   "source": [
    "spec = SpectraRegion(spectra, imze.mzValues)"
   ]
  },
  {
   "cell_type": "code",
   "execution_count": 14,
   "metadata": {},
   "outputs": [
    {
     "name": "stderr",
     "output_type": "stream",
     "text": [
      "2020-06-24 23:01:17,298  SpectraRegion  INFO: Creating C++ obj\n",
      "I0624 23:01:17.298463 140594305828672 segment.py:431] Creating C++ obj\n",
      "2020-06-24 23:01:17,300  SpectraRegion  INFO: dimensions 17900\n",
      "I0624 23:01:17.300544 140594305828672 segment.py:441] dimensions 17900\n",
      "2020-06-24 23:01:17,302  SpectraRegion  INFO: input dimensions (45, 59, 17900)\n",
      "I0624 23:01:17.302186 140594305828672 segment.py:442] input dimensions (45, 59, 17900)\n",
      "2020-06-24 23:01:17,305  SpectraRegion  INFO: Switching to dot mode\n",
      "I0624 23:01:17.305182 140594305828672 segment.py:445] Switching to dot mode\n",
      "2020-06-24 23:01:17,306  SpectraRegion  INFO: Starting calc similarity c++\n",
      "I0624 23:01:17.306800 140594305828672 segment.py:449] Starting calc similarity c++\n"
     ]
    },
    {
     "name": "stdout",
     "output_type": "stream",
     "text": [
      "(45, 59, 17900)\n"
     ]
    },
    {
     "name": "stderr",
     "output_type": "stream",
     "text": [
      "2020-06-24 23:04:41,199  SpectraRegion  INFO: outclust dimensions (2655, 2655)\n",
      "I0624 23:04:41.199395 140594305828672 segment.py:454] outclust dimensions (2655, 2655)\n",
      "2020-06-24 23:04:41,202  SpectraRegion  INFO: Calculating spectra similarity\n",
      "I0624 23:04:41.202254 140594305828672 segment.py:483] Calculating spectra similarity\n",
      "2020-06-24 23:04:41,279  SpectraRegion  INFO: Calculating spectra similarity done\n",
      "I0624 23:04:41.279713 140594305828672 segment.py:487] Calculating spectra similarity done\n"
     ]
    },
    {
     "name": "stdout",
     "output_type": "stream",
     "text": [
      "(2655, 2655)\n"
     ]
    },
    {
     "data": {
      "text/plain": [
       "array([[1.        , 0.97617716, 0.9691783 , ..., 0.83840156, 0.8406148 ,\n",
       "        0.851432  ],\n",
       "       [0.97617716, 1.        , 0.9834268 , ..., 0.8898642 , 0.8919327 ,\n",
       "        0.901447  ],\n",
       "       [0.9691783 , 0.9834268 , 0.99999994, ..., 0.90628284, 0.90395206,\n",
       "        0.9166524 ],\n",
       "       ...,\n",
       "       [0.83840156, 0.8898642 , 0.90628284, ..., 1.        , 0.9589303 ,\n",
       "        0.96420264],\n",
       "       [0.8406148 , 0.8919327 , 0.90395206, ..., 0.9589303 , 1.        ,\n",
       "        0.9649904 ],\n",
       "       [0.851432  , 0.901447  , 0.9166524 , ..., 0.96420264, 0.9649904 ,\n",
       "        1.        ]], dtype=float32)"
      ]
     },
     "execution_count": 14,
     "metadata": {},
     "output_type": "execute_result"
    }
   ],
   "source": [
    "spec.calculate_similarity(mode=\"spectra_log\")"
   ]
  },
  {
   "cell_type": "code",
   "execution_count": 15,
   "metadata": {},
   "outputs": [
    {
     "name": "stderr",
     "output_type": "stream",
     "text": [
      "2020-06-24 23:06:47,708  SpectraRegion  INFO: Calculating clusters\n",
      "I0624 23:06:47.708216 140594305828672 segment.py:651] Calculating clusters\n",
      "2020-06-24 23:06:47,976  SpectraRegion  INFO: Calculating clusters done\n",
      "I0624 23:06:47.976026 140594305828672 segment.py:666] Calculating clusters done\n",
      "2020-06-24 23:06:47,993  SpectraRegion  INFO: Calculating clusters saved\n",
      "I0624 23:06:47.993430 140594305828672 segment.py:684] Calculating clusters saved\n"
     ]
    },
    {
     "data": {
      "text/plain": [
       "array([[7, 7, 7, ..., 2, 2, 4],\n",
       "       [7, 7, 6, ..., 2, 4, 4],\n",
       "       [7, 7, 6, ..., 1, 4, 4],\n",
       "       ...,\n",
       "       [7, 7, 7, ..., 4, 4, 4],\n",
       "       [7, 7, 7, ..., 4, 4, 4],\n",
       "       [7, 7, 6, ..., 4, 4, 4]], dtype=int16)"
      ]
     },
     "execution_count": 15,
     "metadata": {},
     "output_type": "execute_result"
    }
   ],
   "source": [
    "spec.segment(method=\"WARD\", number_of_regions=15)"
   ]
  },
  {
   "cell_type": "code",
   "execution_count": 16,
   "metadata": {},
   "outputs": [
    {
     "data": {
      "image/png": "[encoded data removed]",
      "text/plain": [
       "<Figure size 432x288 with 2 Axes>"
      ]
     },
     "metadata": {
      "needs_background": "light"
     },
     "output_type": "display_data"
    }
   ],
   "source": [
    "spec.plot_segments()"
   ]
  },
  {
   "cell_type": "code",
   "execution_count": 17,
   "metadata": {},
   "outputs": [
    {
     "name": "stderr",
     "output_type": "stream",
     "text": [
      "2020-06-24 23:06:57,273  SpectraRegion  INFO: Assigning clusters to background: {1, 2, 3, 4, 5, 6, 7}\n",
      "I0624 23:06:57.273851 140594305828672 segment.py:773] Assigning clusters to background: {1, 2, 3, 4, 5, 6, 7}\n"
     ]
    },
    {
     "data": {
      "text/plain": [
       "array([[0, 0, 0, ..., 0, 0, 0],\n",
       "       [0, 0, 0, ..., 0, 0, 0],\n",
       "       [0, 0, 0, ..., 0, 0, 0],\n",
       "       ...,\n",
       "       [0, 0, 0, ..., 0, 0, 0],\n",
       "       [0, 0, 0, ..., 0, 0, 0],\n",
       "       [0, 0, 0, ..., 0, 0, 0]], dtype=int16)"
      ]
     },
     "execution_count": 17,
     "metadata": {},
     "output_type": "execute_result"
    }
   ],
   "source": [
    "spec.filter_clusters(method='remove_singleton')\n",
    "spec.filter_clusters(method='merge_background')\n",
    "\n",
    "spec.filter_clusters(method='remove_islands')"
   ]
  },
  {
   "cell_type": "code",
   "execution_count": 18,
   "metadata": {},
   "outputs": [
    {
     "data": {
      "image/png": "[encoded data removed]",
      "text/plain": [
       "<Figure size 432x288 with 2 Axes>"
      ]
     },
     "metadata": {
      "needs_background": "light"
     },
     "output_type": "display_data"
    }
   ],
   "source": [
    "spec.plot_segments()"
   ]
  },
  {
   "cell_type": "markdown",
   "metadata": {},
   "source": [
    "A manual curation of the segmentation is still possible!"
   ]
  },
  {
   "cell_type": "code",
   "execution_count": 13,
   "metadata": {},
   "outputs": [],
   "source": [
    "spec.segmented[0:6,] = 0"
   ]
  },
  {
   "cell_type": "code",
   "execution_count": 19,
   "metadata": {},
   "outputs": [
    {
     "data": {
      "image/png": "[encoded data removed]",
      "text/plain": [
       "<Figure size 432x288 with 2 Axes>"
      ]
     },
     "metadata": {
      "needs_background": "light"
     },
     "output_type": "display_data"
    }
   ],
   "source": [
    "spec.plot_segments()"
   ]
  },
  {
   "cell_type": "markdown",
   "metadata": {},
   "source": [
    "Consensus Analysis"
   ]
  },
  {
   "cell_type": "code",
   "execution_count": 20,
   "metadata": {},
   "outputs": [
    {
     "name": "stderr",
     "output_type": "stream",
     "text": [
      "2020-06-24 23:07:21,808  SpectraRegion  INFO: Calculating consensus spectra\n",
      "I0624 23:07:21.808764 140594305828672 segment.py:827] Calculating consensus spectra\n",
      "2020-06-24 23:07:21,927  SpectraRegion  INFO: Calculating consensus spectra done\n",
      "I0624 23:07:21.927022 140594305828672 segment.py:839] Calculating consensus spectra done\n"
     ]
    },
    {
     "data": {
      "text/plain": [
       "{0: array([0.32858513, 0.32858513, 0.32858513, ..., 0.13814523, 0.13814523,\n",
       "        0.13814523]),\n",
       " 9: array([0.3146531 , 0.3146531 , 0.3146531 , ..., 0.14436117, 0.14436117,\n",
       "        0.14436117]),\n",
       " 13: array([0.27548188, 0.27548188, 0.27548188, ..., 0.15413178, 0.15413178,\n",
       "        0.15413178]),\n",
       " 15: array([0.28016838, 0.28016838, 0.28016838, ..., 0.14569587, 0.14569587,\n",
       "        0.14569587]),\n",
       " 12: array([0.34919123, 0.34919123, 0.34919123, ..., 0.13358054, 0.13358054,\n",
       "        0.13358054]),\n",
       " 11: array([0.48635366, 0.48635366, 0.48635366, ..., 0.12914497, 0.12914497,\n",
       "        0.12914497]),\n",
       " 10: array([0.30343985, 0.30343985, 0.30343985, ..., 0.12372829, 0.12372829,\n",
       "        0.12372829]),\n",
       " 14: array([0.36963237, 0.36963237, 0.36963237, ..., 0.10479219, 0.10479219,\n",
       "        0.10479219]),\n",
       " 8: array([0.43062252, 0.43062252, 0.43062252, ..., 0.11657678, 0.11657678,\n",
       "        0.11657678])}"
      ]
     },
     "execution_count": 20,
     "metadata": {},
     "output_type": "execute_result"
    }
   ],
   "source": [
    "spec.consensus_spectra()"
   ]
  },
  {
   "cell_type": "code",
   "execution_count": 21,
   "metadata": {},
   "outputs": [],
   "source": [
    "spec.consensus_similarity()"
   ]
  },
  {
   "cell_type": "code",
   "execution_count": 22,
   "metadata": {},
   "outputs": [
    {
     "data": {
      "image/png": "[encoded data removed]",
      "text/plain": [
       "<Figure size 288x288 with 2 Axes>"
      ]
     },
     "metadata": {
      "needs_background": "light"
     },
     "output_type": "display_data"
    }
   ],
   "source": [
    "spec.plot_consensus_similarity()"
   ]
  },
  {
   "cell_type": "code",
   "execution_count": 23,
   "metadata": {},
   "outputs": [
    {
     "name": "stderr",
     "output_type": "stream",
     "text": [
      "2020-06-24 23:07:35,899  SpectraRegion  INFO: Found clusterLabels [0, 8, 9, 10, 11, 12, 13, 14, 15]\n",
      "I0624 23:07:35.899330 140594305828672 segment.py:957] Found clusterLabels [0, 8, 9, 10, 11, 12, 13, 14, 15]\n",
      "2020-06-24 23:07:35,902  SpectraRegion  INFO: Processing clusterLabel 0\n",
      "I0624 23:07:35.902038 140594305828672 segment.py:965] Processing clusterLabel 0\n",
      "2020-06-24 23:10:14,751  SpectraRegion  INFO: Processing clusterLabel 8\n",
      "I0624 23:10:14.751037 140594305828672 segment.py:965] Processing clusterLabel 8\n",
      "2020-06-24 23:10:14,772  SpectraRegion  INFO: Processing clusterLabel 9\n",
      "I0624 23:10:14.772389 140594305828672 segment.py:965] Processing clusterLabel 9\n",
      "2020-06-24 23:10:15,339  SpectraRegion  INFO: Processing clusterLabel 10\n",
      "I0624 23:10:15.339835 140594305828672 segment.py:965] Processing clusterLabel 10\n",
      "2020-06-24 23:10:15,383  SpectraRegion  INFO: Processing clusterLabel 11\n",
      "I0624 23:10:15.383473 140594305828672 segment.py:965] Processing clusterLabel 11\n",
      "2020-06-24 23:10:15,516  SpectraRegion  INFO: Processing clusterLabel 12\n",
      "I0624 23:10:15.516695 140594305828672 segment.py:965] Processing clusterLabel 12\n",
      "2020-06-24 23:10:15,765  SpectraRegion  INFO: Processing clusterLabel 13\n",
      "I0624 23:10:15.765414 140594305828672 segment.py:965] Processing clusterLabel 13\n",
      "2020-06-24 23:10:16,738  SpectraRegion  INFO: Processing clusterLabel 14\n",
      "I0624 23:10:16.738868 140594305828672 segment.py:965] Processing clusterLabel 14\n",
      "2020-06-24 23:10:16,768  SpectraRegion  INFO: Processing clusterLabel 15\n",
      "I0624 23:10:16.768788 140594305828672 segment.py:965] Processing clusterLabel 15\n"
     ]
    },
    {
     "data": {
      "image/png": "[encoded data removed]",
      "text/plain": [
       "<Figure size 432x288 with 1 Axes>"
      ]
     },
     "metadata": {
      "needs_background": "light"
     },
     "output_type": "display_data"
    }
   ],
   "source": [
    "spec.plot_consensus_similarity(mode=\"spectra\")"
   ]
  },
  {
   "cell_type": "code",
   "execution_count": null,
   "metadata": {},
   "outputs": [],
   "source": [
    "#spec.plot_inter_consensus_similarity()"
   ]
  },
  {
   "cell_type": "markdown",
   "metadata": {},
   "source": [
    "# Differential Analysis"
   ]
  },
  {
   "cell_type": "code",
   "execution_count": 24,
   "metadata": {},
   "outputs": [
    {
     "name": "stderr",
     "output_type": "stream",
     "text": [
      "2020-06-24 23:14:21,898  SpectraRegion  INFO: Processing Mass 12504 with best existing mass 12503.637158007228\n",
      "I0624 23:14:21.898391 140594305828672 segment.py:399] Processing Mass 12504 with best existing mass 12503.637158007228\n"
     ]
    },
    {
     "data": {
      "image/png": "[encoded data removed]",
      "text/plain": [
       "<Figure size 377.6x288 with 2 Axes>"
      ]
     },
     "metadata": {
      "needs_background": "light"
     },
     "output_type": "display_data"
    }
   ],
   "source": [
    "spec.mass_heatmap(12504, min_cut_off=0.0025)"
   ]
  },
  {
   "cell_type": "code",
   "execution_count": 25,
   "metadata": {},
   "outputs": [
    {
     "name": "stderr",
     "output_type": "stream",
     "text": [
      "2020-06-24 23:14:30,880  SpectraRegion  INFO: Processing Mass 12504 with best existing mass 12503.637158007228\n",
      "I0624 23:14:30.880730 140594305828672 segment.py:860] Processing Mass 12504 with best existing mass 12503.637158007228\n"
     ]
    },
    {
     "data": {
      "image/png": "[encoded data removed]",
      "text/plain": [
       "<Figure size 432x288 with 1 Axes>"
      ]
     },
     "metadata": {
      "needs_background": "light"
     },
     "output_type": "display_data"
    },
    {
     "name": "stderr",
     "output_type": "stream",
     "text": [
      "/usr/local/lib/python3.6/dist-packages/IPython/core/events.py:88: UserWarning: This figure includes Axes that are not compatible with tight_layout, so results might be incorrect.\n",
      "  func(*args, **kwargs)\n",
      "/usr/local/lib/python3.6/dist-packages/IPython/core/pylabtools.py:128: UserWarning: This figure includes Axes that are not compatible with tight_layout, so results might be incorrect.\n",
      "  fig.canvas.print_figure(bytes_io, **kw)\n"
     ]
    },
    {
     "data": {
      "image/png": "[encoded data removed]",
      "text/plain": [
       "<Figure size 1350x600 with 2 Axes>"
      ]
     },
     "metadata": {
      "needs_background": "light"
     },
     "output_type": "display_data"
    }
   ],
   "source": [
    "dfobj = spec.mass_dabest(12504)"
   ]
  },
  {
   "cell_type": "code",
   "execution_count": null,
   "metadata": {},
   "outputs": [],
   "source": [
    "#dfobj = spec.mass_dabest(12504, background=9)"
   ]
  },
  {
   "cell_type": "code",
   "execution_count": 26,
   "metadata": {},
   "outputs": [
    {
     "data": {
      "image/png": "[encoded data removed]",
      "text/plain": [
       "<Figure size 432x288 with 2 Axes>"
      ]
     },
     "metadata": {
      "needs_background": "light"
     },
     "output_type": "display_data"
    }
   ],
   "source": [
    "spec.plot_segments(highlight=11)"
   ]
  },
  {
   "cell_type": "code",
   "execution_count": 19,
   "metadata": {},
   "outputs": [],
   "source": [
    "spec.clear_de_results()"
   ]
  },
  {
   "cell_type": "code",
   "execution_count": 27,
   "metadata": {},
   "outputs": [],
   "source": [
    "pw = ProteinWeights(\"protein_weights.tsv\")"
   ]
  },
  {
   "cell_type": "code",
   "execution_count": 31,
   "metadata": {},
   "outputs": [
    {
     "name": "stdout",
     "output_type": "stream",
     "text": [
      "Running [9] against [13, 15, 12, 11, 10, 14, 8]\n",
      "Running [13] against [9, 15, 12, 11, 10, 14, 8]\n",
      "Running [15] against [9, 13, 12, 11, 10, 14, 8]\n",
      "Running [12] against [9, 13, 15, 11, 10, 14, 8]\n",
      "Running [11] against [9, 13, 15, 12, 10, 14, 8]\n",
      "Running [10] against [9, 13, 15, 12, 11, 14, 8]\n",
      "Running [14] against [9, 13, 15, 12, 11, 10, 8]\n",
      "Running [8] against [9, 13, 15, 12, 11, 10, 14]\n"
     ]
    }
   ],
   "source": [
    "mgenes = spec.find_all_markers(pw, includeBackground=False, replaceExisting=False, outdirectory=\"./\", use_methods=[\"ttest\", \"rank\"])"
   ]
  },
  {
   "cell_type": "code",
   "execution_count": 32,
   "metadata": {},
   "outputs": [
    {
     "data": {
      "text/plain": [
       "[('ttest', ((9,), (8, 10, 11, 12, 13, 14, 15))),\n",
       " ('ttest', ((13,), (8, 9, 10, 11, 12, 14, 15))),\n",
       " ('ttest', ((15,), (8, 9, 10, 11, 12, 13, 14))),\n",
       " ('ttest', ((12,), (8, 9, 10, 11, 13, 14, 15))),\n",
       " ('ttest', ((11,), (8, 9, 10, 12, 13, 14, 15))),\n",
       " ('ttest', ((10,), (8, 9, 11, 12, 13, 14, 15))),\n",
       " ('ttest', ((14,), (8, 9, 10, 11, 12, 13, 15))),\n",
       " ('ttest', ((8,), (9, 10, 11, 12, 13, 14, 15))),\n",
       " ('rank', ((9,), (8, 10, 11, 12, 13, 14, 15))),\n",
       " ('rank', ((13,), (8, 9, 10, 11, 12, 14, 15))),\n",
       " ('rank', ((15,), (8, 9, 10, 11, 12, 13, 14))),\n",
       " ('rank', ((12,), (8, 9, 10, 11, 13, 14, 15))),\n",
       " ('rank', ((11,), (8, 9, 10, 12, 13, 14, 15))),\n",
       " ('rank', ((10,), (8, 9, 11, 12, 13, 14, 15))),\n",
       " ('rank', ((14,), (8, 9, 10, 11, 12, 13, 15))),\n",
       " ('rank', ((8,), (9, 10, 11, 12, 13, 14, 15)))]"
      ]
     },
     "execution_count": 32,
     "metadata": {},
     "output_type": "execute_result"
    }
   ],
   "source": [
    "spec.list_de_results()"
   ]
  },
  {
   "cell_type": "code",
   "execution_count": 33,
   "metadata": {},
   "outputs": [],
   "source": [
    "markerGenes = mgenes[\"ttest\"]"
   ]
  },
  {
   "cell_type": "code",
   "execution_count": 34,
   "metadata": {},
   "outputs": [],
   "source": [
    "markerGenes.to_csv(\"marker_genes.tsv\", sep=\"\\t\", index=False)"
   ]
  },
  {
   "cell_type": "code",
   "execution_count": 30,
   "metadata": {},
   "outputs": [],
   "source": [
    "markerGenesEmpire = mgenes[\"empire\"]\n",
    "markerGenesEmpire.to_csv(\"marker_genes_empire.tsv\", sep=\"\\t\", index=False)"
   ]
  },
  {
   "cell_type": "code",
   "execution_count": 35,
   "metadata": {},
   "outputs": [
    {
     "name": "stdout",
     "output_type": "stream",
     "text": [
      "Running [0] against [9, 13, 15, 12, 11, 10, 14, 8]\n",
      "Running [9] against [0, 13, 15, 12, 11, 10, 14, 8]\n",
      "Running [13] against [0, 9, 15, 12, 11, 10, 14, 8]\n",
      "Running [15] against [0, 9, 13, 12, 11, 10, 14, 8]\n",
      "Running [12] against [0, 9, 13, 15, 11, 10, 14, 8]\n",
      "Running [11] against [0, 9, 13, 15, 12, 10, 14, 8]\n",
      "Running [10] against [0, 9, 13, 15, 12, 11, 14, 8]\n",
      "Running [14] against [0, 9, 13, 15, 12, 11, 10, 8]\n",
      "Running [8] against [0, 9, 13, 15, 12, 11, 10, 14]\n"
     ]
    }
   ],
   "source": [
    "mgenes_bg = spec.find_all_markers(pw, includeBackground=True, replaceExisting=False, use_methods = [\"ttest\", \"rank\"])"
   ]
  },
  {
   "cell_type": "code",
   "execution_count": 36,
   "metadata": {},
   "outputs": [],
   "source": [
    "markerGenesBG = mgenes_bg[\"ttest\"]\n",
    "markerGenesBG.to_csv(\"marker_genes_bg.tsv\", sep=\"\\t\", index=False)\n",
    "#markerGenesBGEmpire = mgenes_bg[\"empire\"]\n",
    "#markerGenesBGEmpire.to_csv(\"marker_genes_bg_empire.tsv\", sep=\"\\t\", index=False)"
   ]
  },
  {
   "cell_type": "code",
   "execution_count": 37,
   "metadata": {},
   "outputs": [
    {
     "name": "stdout",
     "output_type": "stream",
     "text": [
      "Number of unique, differentially detected proteins (from masses): 239\n"
     ]
    }
   ],
   "source": [
    "print(\"Number of unique, differentially detected proteins (from masses): {}\".format(len(set(markerGenes[\"gene\"]))))"
   ]
  },
  {
   "cell_type": "code",
   "execution_count": 38,
   "metadata": {},
   "outputs": [
    {
     "name": "stdout",
     "output_type": "stream",
     "text": [
      "Number of unique, differentially detected proteins (from masses): 399\n"
     ]
    }
   ],
   "source": [
    "print(\"Number of unique, differentially detected proteins (from masses): {}\".format(len(set(markerGenesBG[\"gene\"]))))"
   ]
  },
  {
   "cell_type": "code",
   "execution_count": 39,
   "metadata": {},
   "outputs": [
    {
     "data": {
      "text/plain": [
       "[('ttest', ((8,), (9, 10, 11, 12, 13, 14, 15))),\n",
       " ('ttest', ((8,), (0, 9, 10, 11, 12, 13, 14, 15))),\n",
       " ('rank', ((8,), (9, 10, 11, 12, 13, 14, 15))),\n",
       " ('rank', ((8,), (0, 9, 10, 11, 12, 13, 14, 15)))]"
      ]
     },
     "execution_count": 39,
     "metadata": {},
     "output_type": "execute_result"
    }
   ],
   "source": [
    "resClus8 = spec.find_de_results( (8,) )\n",
    "resClus8"
   ]
  },
  {
   "cell_type": "code",
   "execution_count": 47,
   "metadata": {},
   "outputs": [
    {
     "name": "stderr",
     "output_type": "stream",
     "text": [
      "2020-06-16 10:19:27,575  SpectraRegion  INFO: DE result for case ((8,), (9, 10, 11, 12, 13, 14, 15)) with (17900, 7) results\n",
      "I0616 10:19:27.575583 140009190655808 segment.py:966] DE result for case ((8,), (9, 10, 11, 12, 13, 14, 15)) with (17900, 7) results\n",
      "2020-06-16 10:19:27,583  SpectraRegion  INFO: DE result for case ((8,), (9, 10, 11, 12, 13, 14, 15)) with (761, 7) results (filtered)\n",
      "I0616 10:19:27.583134 140009190655808 segment.py:994] DE result for case ((8,), (9, 10, 11, 12, 13, 14, 15)) with (761, 7) results (filtered)\n",
      "2020-06-16 10:19:27,764  SpectraRegion  INFO: Created matrices with shape (94, 17900) and (566, 17900) (target, bg)\n",
      "I0616 10:19:27.764873 140009190655808 segment.py:1000] Created matrices with shape (94, 17900) and (566, 17900) (target, bg)\n"
     ]
    }
   ],
   "source": [
    "deResDFs = spec.get_de_results( resClus8[1][1] )\n",
    "deRes = spec.deres_to_df(deResDFs[\"ttest\"], resClus8[1][1], pw)\n"
   ]
  },
  {
   "cell_type": "code",
   "execution_count": 48,
   "metadata": {},
   "outputs": [],
   "source": [
    "deRes.to_csv(\"region1_cluster8.tsv\", sep=\"\\t\")"
   ]
  },
  {
   "cell_type": "markdown",
   "metadata": {},
   "source": [
    "# Cell-type detection\n",
    "\n",
    "Cell-type detection requires analyseMarkers.py from https://github.com/mjoppich/scrnaseq_celltype_prediction ."
   ]
  },
  {
   "cell_type": "code",
   "execution_count": 48,
   "metadata": {},
   "outputs": [
    {
     "name": "stdout",
     "output_type": "stream",
     "text": [
      "Taking value gene from gene\n",
      "Taking value cluster from clusterID\n",
      "Taking value logfc from avg_logFC\n",
      "Taking value pvaladj from qvalue\n",
      "Taking value expr-mean from mean\n",
      "Taking value expressing-cell-count from num\n",
      "Taking value cluster-cell-count from anum\n",
      "Got 8 clusters.\n",
      "Starting analysis\n",
      "8\tB cells memory;Immune system\t0.02880666150387692\t2\t66\t{'CD79A', 'GNG7'}\n",
      "8\tPlasma cells;Immune system\t0.022244542951083347\t2\t86\t{'CD79A', 'GNG7'}\n",
      "8\tGamma delta T cells;Immune system\t0.018254225287162806\t1\t66\t{'H2AFX'}\n",
      "8\tHepatic stellate cells;Liver\t0.01824410404161278\t1\t46\t{'RBP1'}\n",
      "9\tMonocytes;Immune system\t0.0\t1\t102\t{'IFITM3'}\n",
      "11\tBasophils;Immune system\t0.0\t1\t82\t{'IFITM1'}\n",
      "11\tCardiomyocytes;Heart\t0.0\t1\t106\t{'HAMP'}\n",
      "11\tGamma delta T cells;Immune system\t0.0\t1\t66\t{'IFITM1'}\n",
      "11\tHepatic stellate cells;Liver\t0.0\t1\t46\t{'RBP1'}\n",
      "12\tHepatocytes;Liver\t0.006851272779693435\t2\t154\t{'TTR', 'APOA2'}\n",
      "12\tAdipocytes;Connective tissue\t0.004217075702191021\t1\t120\t{'APOC1'}\n",
      "12\tEpithelial cells;Epithelium\t0.0\t1\t143\t{'TTR'}\n",
      "12\tMast cells;Immune system\t0.0\t1\t162\t{'PCP4L1'}\n",
      "13\tHepatic stellate cells;Liver\t0.012232196878852861\t1\t46\t{'RBP1'}\n",
      "13\tCardiomyocytes;Heart\t0.002577496227621785\t1\t106\t{'HAMP'}\n",
      "13\tHepatocytes;Liver\t0.0017779880399295643\t1\t154\t{'HAMP'}\n",
      "13\tMast cells;Immune system\t0.0\t1\t162\t{'PCP4L1'}\n",
      "14\tMonocytes;Immune system\t0.008336366425903094\t1\t102\t{'IFITM3'}\n",
      "14\tGamma delta T cells;Immune system\t0.0071601253361156135\t1\t66\t{'H2AFX'}\n",
      "14\tB cells memory;Immune system\t0.005086791751253\t1\t66\t{'GNG7'}\n",
      "14\tPlasma cells;Immune system\t0.003928027466103115\t1\t86\t{'GNG7'}\n",
      "15\tMast cells;Immune system\t0.0\t1\t162\t{'PCP4L1'}\n",
      "15\tMonocytes;Immune system\t0.0\t1\t102\t{'IFITM3'}\n",
      "15\tSmooth muscle cells;Smooth muscle\t0.0\t1\t82\t{'PCP4L1'}\n"
     ]
    }
   ],
   "source": [
    "! python3 /mnt/d/dev/git/scrnaseq_celltype_prediction/analyseMarkers.py --organs \"Connective tissue\" \"Vasculature\" \"Heart\" \"Skeletal Muscle\" \"Smooth muscle\" \"Immune system\" \"Blood\" \"Epithelium\" \"Liver\" --pvaladj qvalue --markers marker_genes.tsv -n 4"
   ]
  },
  {
   "cell_type": "code",
   "execution_count": 47,
   "metadata": {},
   "outputs": [
    {
     "data": {
      "image/png": "[encoded data removed]",
      "text/plain": [
       "<Figure size 432x288 with 2 Axes>"
      ]
     },
     "metadata": {
      "needs_background": "light"
     },
     "output_type": "display_data"
    }
   ],
   "source": [
    "spec.plot_segments(highlight=(12))"
   ]
  },
  {
   "cell_type": "code",
   "execution_count": 41,
   "metadata": {},
   "outputs": [
    {
     "name": "stdout",
     "output_type": "stream",
     "text": [
      "Taking value gene from gene\n",
      "Taking value cluster from clusterID\n",
      "Taking value logfc from avg_logFC\n",
      "Taking value pvaladj from qvalue\n",
      "Taking value expr-mean from mean\n",
      "Taking value expressing-cell-count from num\n",
      "Taking value cluster-cell-count from anum\n",
      "Got 9 clusters.\n",
      "Starting analysis\n",
      "0\tHepatic stellate cells;Liver\t0.008475999531693208\t1\t46\t{'RBP1'}\n",
      "0\tHepatocytes;Liver\t0.004139484334379229\t2\t154\t{'HAMP', 'APOA2'}\n",
      "0\tSmooth muscle cells;Smooth muscle\t0.003540424126770756\t3\t82\t{'RBPMS2', 'PCP4L1', 'SNCG'}\n",
      "0\tCardiomyocytes;Heart\t0.0\t1\t106\t{'HAMP'}\n",
      "8\tMonocytes;Immune system\t0.0403168217995494\t2\t102\t{'IFITM3', 'S100A9'}\n",
      "8\tHepatocytes;Liver\t0.02375902561803791\t4\t154\t{'TTR', 'HAMP', 'SAT2', 'APOA2'}\n",
      "8\tPlasma cells;Immune system\t0.01957778598059662\t3\t86\t{'GNG7', 'CD79A', 'CYCS'}\n",
      "8\tSmooth muscle cells;Smooth muscle\t0.013732682386244727\t2\t82\t{'RBPMS2', 'PCP4L1'}\n",
      "9\tCardiomyocytes;Heart\t0.0\t1\t106\t{'HAMP'}\n",
      "9\tHepatic stellate cells;Liver\t0.0\t1\t46\t{'RBP1'}\n",
      "9\tHepatocytes;Liver\t0.0\t1\t154\t{'HAMP'}\n",
      "9\tSmooth muscle cells;Smooth muscle\t0.0\t1\t82\t{'SNCG'}\n",
      "10\tMonocytes;Immune system\t0.014085718169747524\t3\t102\t{'IFITM3', 'MGMT', 'RHOC'}\n",
      "10\tSmooth muscle cells;Smooth muscle\t0.00290828795228837\t2\t82\t{'PCP4L1', 'SNCG'}\n",
      "10\tMast cells;Immune system\t5.266817804900384e-05\t2\t162\t{'PCP4L1', 'SOCS2'}\n",
      "10\tBasal cells;Epithelium\t0.0\t1\t56\t{'DUSP23'}\n",
      "11\tMonocytes;Immune system\t0.0034581613412591606\t1\t102\t{'IFITM3'}\n",
      "11\tSmooth muscle cells;Smooth muscle\t0.0030764077556832753\t2\t82\t{'PCP4L1', 'SNCG'}\n",
      "11\tPlasma cells;Immune system\t0.0016111744003980979\t1\t86\t{'GNG7'}\n",
      "11\tMast cells;Immune system\t2.7856387346406264e-05\t1\t162\t{'PCP4L1'}\n",
      "12\tHepatocytes;Liver\t0.019671998734167175\t3\t154\t{'TTR', 'HAMP', 'APOA2'}\n",
      "12\tAdipocytes;Connective tissue\t0.0031007376230376875\t1\t120\t{'APOC1'}\n",
      "12\tPericytes;Vasculature\t0.0026735156849793515\t1\t64\t{'IFITM1'}\n",
      "12\tPlatelets;Blood\t0.002560607828215374\t1\t131\t{'PF4'}\n",
      "14\tHepatocytes;Liver\t0.017108216958471305\t4\t154\t{'TMEM97', 'HAMP', 'APOC3', 'APOA2'}\n",
      "14\tSmooth muscle cells;Smooth muscle\t0.013088851316801639\t3\t82\t{'RBPMS2', 'PCP4L1', 'SNCG'}\n",
      "14\tMonocytes;Immune system\t0.011602866761666861\t1\t102\t{'IFITM3'}\n",
      "14\tPlasma cells;Immune system\t0.005537431068371304\t2\t86\t{'GNG7', 'SSR4'}\n",
      "15\tHepatocytes;Liver\t0.010306055659932513\t2\t154\t{'HAMP', 'APOA2'}\n",
      "15\tPlatelets;Blood\t0.0019701264757993778\t1\t131\t{'PF4'}\n",
      "15\tSmooth muscle cells;Smooth muscle\t0.0015828887044335696\t3\t82\t{'RBPMS2', 'TAGLN', 'SNCG'}\n",
      "15\tCardiomyocytes;Heart\t0.0\t1\t106\t{'HAMP'}\n"
     ]
    }
   ],
   "source": [
    "! python3 /mnt/d/dev/git/scrnaseq_celltype_prediction/analyseMarkers.py --organs \"Connective tissue\" \"Vasculature\" \"Heart\" \"Skeletal Muscle\" \"Smooth muscle\" \"Immune system\" \"Blood\" \"Epithelium\" \"Liver\" --pvaladj qvalue --markers marker_genes_bg.tsv -n 4"
   ]
  },
  {
   "cell_type": "code",
   "execution_count": 44,
   "metadata": {},
   "outputs": [
    {
     "data": {
      "image/png": "[encoded data removed]",
      "text/plain": [
       "<Figure size 432x288 with 2 Axes>"
      ]
     },
     "metadata": {
      "needs_background": "light"
     },
     "output_type": "display_data"
    }
   ],
   "source": [
    "spec.plot_segments(highlight=(14))"
   ]
  },
  {
   "cell_type": "code",
   "execution_count": null,
   "metadata": {},
   "outputs": [],
   "source": [
    "spec.to_aorta3d(\"./slided_test/\", \"slided\", 0, protWeights=pw, nodf=True, pathPrefix=\"../data/test_msi/\")"
   ]
  },
  {
   "cell_type": "markdown",
   "metadata": {},
   "source": [
    "# Preparations for CombinedSpectra"
   ]
  },
  {
   "cell_type": "code",
   "execution_count": 51,
   "metadata": {},
   "outputs": [
    {
     "name": "stderr",
     "output_type": "stream",
     "text": [
      "Found region 1 with shape (43, 56, 17900)\n",
      "I0616 13:22:15.409117 140009190655808 segment.py:1935] Found region 1 with shape (43, 56, 17900)\n"
     ]
    },
    {
     "name": "stdout",
     "output_type": "stream",
     "text": [
      "3454.87441091502 6\n",
      "3456.383544128344 106\n",
      "3457.8926773416683 2282\n",
      "6651.218556735783 1\n",
      "4749.710707947227 13\n"
     ]
    },
    {
     "data": {
      "image/png": "[encoded data removed]",
      "text/plain": [
       "<Figure size 375.07x288 with 2 Axes>"
      ]
     },
     "metadata": {
      "needs_background": "light"
     },
     "output_type": "display_data"
    },
    {
     "name": "stdout",
     "output_type": "stream",
     "text": [
      "2408 0.064910434 1.0 0.41083783311057726\n"
     ]
    },
    {
     "data": {
      "image/png": "[encoded data removed]",
      "text/plain": [
       "<Figure size 432x288 with 1 Axes>"
      ]
     },
     "metadata": {
      "needs_background": "light"
     },
     "output_type": "display_data"
    },
    {
     "name": "stdout",
     "output_type": "stream",
     "text": [
      "Got spectra (43, 56, 17900)\n",
      "(43, 56, 17900)\n"
     ]
    },
    {
     "name": "stderr",
     "output_type": "stream",
     "text": [
      "2020-06-16 13:22:18,205  SpectraRegion  INFO: Creating C++ obj\n",
      "2020-06-16 13:22:18,205  SpectraRegion  INFO: Creating C++ obj\n",
      "I0616 13:22:18.205235 140009190655808 segment.py:264] Creating C++ obj\n",
      "2020-06-16 13:22:18,207  SpectraRegion  INFO: dimensions 17900\n",
      "2020-06-16 13:22:18,207  SpectraRegion  INFO: dimensions 17900\n",
      "I0616 13:22:18.207868 140009190655808 segment.py:274] dimensions 17900\n",
      "2020-06-16 13:22:18,213  SpectraRegion  INFO: input dimensions (43, 56, 17900)\n",
      "2020-06-16 13:22:18,213  SpectraRegion  INFO: input dimensions (43, 56, 17900)\n",
      "I0616 13:22:18.213472 140009190655808 segment.py:275] input dimensions (43, 56, 17900)\n",
      "2020-06-16 13:22:18,219  SpectraRegion  INFO: Switching to dot mode\n",
      "2020-06-16 13:22:18,219  SpectraRegion  INFO: Switching to dot mode\n",
      "I0616 13:22:18.219383 140009190655808 segment.py:278] Switching to dot mode\n",
      "2020-06-16 13:22:18,222  SpectraRegion  INFO: Starting calc similarity c++\n",
      "2020-06-16 13:22:18,222  SpectraRegion  INFO: Starting calc similarity c++\n",
      "I0616 13:22:18.222698 140009190655808 segment.py:282] Starting calc similarity c++\n",
      "2020-06-16 13:24:45,657  SpectraRegion  INFO: outclust dimensions (2408, 2408)\n",
      "2020-06-16 13:24:45,657  SpectraRegion  INFO: outclust dimensions (2408, 2408)\n",
      "I0616 13:24:45.657064 140009190655808 segment.py:287] outclust dimensions (2408, 2408)\n",
      "2020-06-16 13:24:45,685  SpectraRegion  INFO: Calculating spectra similarity\n",
      "2020-06-16 13:24:45,685  SpectraRegion  INFO: Calculating spectra similarity\n",
      "I0616 13:24:45.685268 140009190655808 segment.py:316] Calculating spectra similarity\n",
      "2020-06-16 13:24:45,808  SpectraRegion  INFO: Calculating spectra similarity done\n",
      "2020-06-16 13:24:45,808  SpectraRegion  INFO: Calculating spectra similarity done\n",
      "I0616 13:24:45.808018 140009190655808 segment.py:320] Calculating spectra similarity done\n",
      "2020-06-16 13:24:45,811  SpectraRegion  INFO: Calculating dist pixel map\n",
      "2020-06-16 13:24:45,811  SpectraRegion  INFO: Calculating dist pixel map\n",
      "I0616 13:24:45.811868 140009190655808 segment.py:327] Calculating dist pixel map\n"
     ]
    },
    {
     "name": "stdout",
     "output_type": "stream",
     "text": [
      "(2408, 2408)\n"
     ]
    },
    {
     "name": "stderr",
     "output_type": "stream",
     "text": [
      "2020-06-16 13:25:33,807  SpectraRegion  INFO: Calculating dist pixel map done\n",
      "2020-06-16 13:25:33,807  SpectraRegion  INFO: Calculating dist pixel map done\n",
      "I0616 13:25:33.807442 140009190655808 segment.py:337] Calculating dist pixel map done\n",
      "2020-06-16 13:25:33,898  SpectraRegion  INFO: Calculating clusters\n",
      "2020-06-16 13:25:33,898  SpectraRegion  INFO: Calculating clusters\n",
      "I0616 13:25:33.898677 140009190655808 segment.py:484] Calculating clusters\n",
      "2020-06-16 13:25:34,166  SpectraRegion  INFO: Calculating clusters done\n",
      "2020-06-16 13:25:34,166  SpectraRegion  INFO: Calculating clusters done\n",
      "I0616 13:25:34.166961 140009190655808 segment.py:499] Calculating clusters done\n",
      "2020-06-16 13:25:34,187  SpectraRegion  INFO: Calculating clusters saved\n",
      "2020-06-16 13:25:34,187  SpectraRegion  INFO: Calculating clusters saved\n",
      "I0616 13:25:34.187759 140009190655808 segment.py:517] Calculating clusters saved\n"
     ]
    },
    {
     "data": {
      "image/png": "[encoded data removed]",
      "text/plain": [
       "<Figure size 432x288 with 2 Axes>"
      ]
     },
     "metadata": {
      "needs_background": "light"
     },
     "output_type": "display_data"
    }
   ],
   "source": [
    "spectra1 = imze.get_region_array(1, makeNullLine=True)\n",
    "imze.normalize_region_array(spectra1, normalize=\"vector\")\n",
    "imze.list_highest_peaks(spectra1, counter=True)\n",
    "print(\"Got spectra\", spectra1.shape)\n",
    "\n",
    "spec1 = SpectraRegion(spectra1, imze.mzValues)\n",
    "spec1.calculate_similarity(mode=\"spectra_log_dist\")\n",
    "spec1.segment(method=\"WARD\", number_of_regions=15)\n",
    "spec1.plot_segments()"
   ]
  },
  {
   "cell_type": "code",
   "execution_count": 52,
   "metadata": {},
   "outputs": [
    {
     "name": "stderr",
     "output_type": "stream",
     "text": [
      "2020-06-16 13:27:22,941  SpectraRegion  INFO: Assigning clusters to background: {7, 8, 9, 10, 11, 12, 13, 14, 15}\n",
      "2020-06-16 13:27:22,941  SpectraRegion  INFO: Assigning clusters to background: {7, 8, 9, 10, 11, 12, 13, 14, 15}\n",
      "I0616 13:27:22.941869 140009190655808 segment.py:606] Assigning clusters to background: {7, 8, 9, 10, 11, 12, 13, 14, 15}\n"
     ]
    },
    {
     "data": {
      "image/png": "[encoded data removed]",
      "text/plain": [
       "<Figure size 432x288 with 2 Axes>"
      ]
     },
     "metadata": {
      "needs_background": "light"
     },
     "output_type": "display_data"
    }
   ],
   "source": [
    "spec1.filter_clusters(method='remove_singleton')\n",
    "spec1.filter_clusters(method='merge_background')\n",
    "\n",
    "spec1.filter_clusters(method='remove_islands')\n",
    "spec1.plot_segments()"
   ]
  },
  {
   "cell_type": "code",
   "execution_count": 53,
   "metadata": {},
   "outputs": [
    {
     "name": "stderr",
     "output_type": "stream",
     "text": [
      "2020-06-16 13:27:59,905  SpectraRegion  INFO: Calculating consensus spectra\n",
      "2020-06-16 13:27:59,905  SpectraRegion  INFO: Calculating consensus spectra\n",
      "I0616 13:27:59.905105 140009190655808 segment.py:660] Calculating consensus spectra\n",
      "2020-06-16 13:27:59,976  SpectraRegion  INFO: Calculating consensus spectra done\n",
      "2020-06-16 13:27:59,976  SpectraRegion  INFO: Calculating consensus spectra done\n",
      "I0616 13:27:59.976039 140009190655808 segment.py:672] Calculating consensus spectra done\n"
     ]
    },
    {
     "data": {
      "image/png": "[encoded data removed]",
      "text/plain": [
       "<Figure size 288x288 with 2 Axes>"
      ]
     },
     "metadata": {
      "needs_background": "light"
     },
     "output_type": "display_data"
    },
    {
     "name": "stderr",
     "output_type": "stream",
     "text": [
      "2020-06-16 13:28:00,235  SpectraRegion  INFO: Found clusterLabels [0, 1, 2, 3, 4, 5, 6]\n",
      "2020-06-16 13:28:00,235  SpectraRegion  INFO: Found clusterLabels [0, 1, 2, 3, 4, 5, 6]\n",
      "I0616 13:28:00.235972 140009190655808 segment.py:790] Found clusterLabels [0, 1, 2, 3, 4, 5, 6]\n",
      "2020-06-16 13:28:00,239  SpectraRegion  INFO: Processing clusterLabel 0\n",
      "2020-06-16 13:28:00,239  SpectraRegion  INFO: Processing clusterLabel 0\n",
      "I0616 13:28:00.239853 140009190655808 segment.py:798] Processing clusterLabel 0\n",
      "2020-06-16 13:28:41,370  SpectraRegion  INFO: Processing clusterLabel 1\n",
      "2020-06-16 13:28:41,370  SpectraRegion  INFO: Processing clusterLabel 1\n",
      "I0616 13:28:41.370414 140009190655808 segment.py:798] Processing clusterLabel 1\n",
      "2020-06-16 13:28:41,390  SpectraRegion  INFO: Processing clusterLabel 2\n",
      "2020-06-16 13:28:41,390  SpectraRegion  INFO: Processing clusterLabel 2\n",
      "I0616 13:28:41.390138 140009190655808 segment.py:798] Processing clusterLabel 2\n",
      "2020-06-16 13:28:41,396  SpectraRegion  INFO: Processing clusterLabel 3\n",
      "2020-06-16 13:28:41,396  SpectraRegion  INFO: Processing clusterLabel 3\n",
      "I0616 13:28:41.396324 140009190655808 segment.py:798] Processing clusterLabel 3\n",
      "2020-06-16 13:28:41,403  SpectraRegion  INFO: Processing clusterLabel 4\n",
      "2020-06-16 13:28:41,403  SpectraRegion  INFO: Processing clusterLabel 4\n",
      "I0616 13:28:41.403703 140009190655808 segment.py:798] Processing clusterLabel 4\n",
      "2020-06-16 13:28:41,436  SpectraRegion  INFO: Processing clusterLabel 5\n",
      "2020-06-16 13:28:41,436  SpectraRegion  INFO: Processing clusterLabel 5\n",
      "I0616 13:28:41.436123 140009190655808 segment.py:798] Processing clusterLabel 5\n",
      "2020-06-16 13:28:41,488  SpectraRegion  INFO: Processing clusterLabel 6\n",
      "2020-06-16 13:28:41,488  SpectraRegion  INFO: Processing clusterLabel 6\n",
      "I0616 13:28:41.488546 140009190655808 segment.py:798] Processing clusterLabel 6\n"
     ]
    },
    {
     "data": {
      "image/png": "[encoded data removed]",
      "text/plain": [
       "<Figure size 432x288 with 1 Axes>"
      ]
     },
     "metadata": {
      "needs_background": "light"
     },
     "output_type": "display_data"
    }
   ],
   "source": [
    "spec1.consensus_spectra()\n",
    "spec1.consensus_similarity()\n",
    "spec1.plot_consensus_similarity()\n",
    "spec1.plot_consensus_similarity(mode=\"spectra\")\n"
   ]
  },
  {
   "cell_type": "code",
   "execution_count": 54,
   "metadata": {},
   "outputs": [
    {
     "name": "stderr",
     "output_type": "stream",
     "text": [
      "2020-06-16 13:29:12,215  SpectraRegion  INFO: DE data for case: [5]\n",
      "2020-06-16 13:29:12,215  SpectraRegion  INFO: DE data for case: [5]\n",
      "I0616 13:29:12.215579 140009190655808 segment.py:1229] DE data for case: [5]\n",
      "2020-06-16 13:29:12,218  SpectraRegion  INFO: DE data for control: [6, 4, 1, 3, 2]\n",
      "2020-06-16 13:29:12,218  SpectraRegion  INFO: DE data for control: [6, 4, 1, 3, 2]\n",
      "I0616 13:29:12.218883 140009190655808 segment.py:1230] DE data for control: [6, 4, 1, 3, 2]\n",
      "2020-06-16 13:29:12,223  SpectraRegion  INFO: DE result key: ((5,), (1, 2, 3, 4, 6))\n",
      "2020-06-16 13:29:12,223  SpectraRegion  INFO: DE result key: ((5,), (1, 2, 3, 4, 6))\n",
      "I0616 13:29:12.223038 140009190655808 segment.py:1234] DE result key: ((5,), (1, 2, 3, 4, 6))\n",
      "2020-06-16 13:29:12,253  SpectraRegion  INFO: Processing cluster: 5\n",
      "2020-06-16 13:29:12,253  SpectraRegion  INFO: Processing cluster: 5\n",
      "I0616 13:29:12.253008 140009190655808 segment.py:1252] Processing cluster: 5\n",
      "2020-06-16 13:29:12,303  SpectraRegion  INFO: Processing cluster: 6\n",
      "2020-06-16 13:29:12,303  SpectraRegion  INFO: Processing cluster: 6\n",
      "I0616 13:29:12.303241 140009190655808 segment.py:1265] Processing cluster: 6\n",
      "2020-06-16 13:29:12,360  SpectraRegion  INFO: Processing cluster: 4\n",
      "2020-06-16 13:29:12,360  SpectraRegion  INFO: Processing cluster: 4\n",
      "I0616 13:29:12.360266 140009190655808 segment.py:1265] Processing cluster: 4\n",
      "2020-06-16 13:29:12,402  SpectraRegion  INFO: Processing cluster: 1\n",
      "2020-06-16 13:29:12,402  SpectraRegion  INFO: Processing cluster: 1\n",
      "I0616 13:29:12.402560 140009190655808 segment.py:1265] Processing cluster: 1\n"
     ]
    },
    {
     "name": "stdout",
     "output_type": "stream",
     "text": [
      "Running [5] against [6, 4, 1, 3, 2]\n"
     ]
    },
    {
     "name": "stderr",
     "output_type": "stream",
     "text": [
      "2020-06-16 13:29:12,431  SpectraRegion  INFO: Processing cluster: 3\n",
      "2020-06-16 13:29:12,431  SpectraRegion  INFO: Processing cluster: 3\n",
      "I0616 13:29:12.431995 140009190655808 segment.py:1265] Processing cluster: 3\n",
      "2020-06-16 13:29:12,446  SpectraRegion  INFO: Processing cluster: 2\n",
      "2020-06-16 13:29:12,446  SpectraRegion  INFO: Processing cluster: 2\n",
      "I0616 13:29:12.446618 140009190655808 segment.py:1265] Processing cluster: 2\n",
      "2020-06-16 13:29:12,458  SpectraRegion  INFO: DE DataFrame ready. Shape (17900, 300)\n",
      "2020-06-16 13:29:12,458  SpectraRegion  INFO: DE DataFrame ready. Shape (17900, 300)\n",
      "I0616 13:29:12.458348 140009190655808 segment.py:1278] DE DataFrame ready. Shape (17900, 300)\n",
      "2020-06-16 13:29:12,466  SpectraRegion  INFO: DE Sample DataFrame ready. Shape (300, 3)\n",
      "2020-06-16 13:29:12,466  SpectraRegion  INFO: DE Sample DataFrame ready. Shape (300, 3)\n",
      "I0616 13:29:12.466791 140009190655808 segment.py:1286] DE Sample DataFrame ready. Shape (300, 3)\n",
      "2020-06-16 13:29:13,016  SpectraRegion  INFO: Starting EMPIRE; Writing Expression Files\n",
      "2020-06-16 13:29:13,016  SpectraRegion  INFO: Starting EMPIRE; Writing Expression Files\n",
      "I0616 13:29:13.016137 140009190655808 segment.py:1302] Starting EMPIRE; Writing Expression Files\n",
      "2020-06-16 13:29:21,636  SpectraRegion  INFO: Starting EMPIRE; Running nlEmpiRe\n",
      "2020-06-16 13:29:21,636  SpectraRegion  INFO: Starting EMPIRE; Running nlEmpiRe\n",
      "I0616 13:29:21.636700 140009190655808 segment.py:1320] Starting EMPIRE; Running nlEmpiRe\n"
     ]
    },
    {
     "name": "stdout",
     "output_type": "stream",
     "text": [
      "Max condition count (1, 227)\n",
      "/usr/bin/java -Xmx24G -cp /mnt/d/dev/git/pyIMS/src/pySRM/pysrm/../../../tools/nlEmpiRe.jar nlEmpiRe.input.ExpressionSet -getbestsubN 100 -inputdir ./ -cond1 0 -cond2 1 -o .//exprs_ds.txt\n",
      "Cmd returned with exit code 0\n",
      "Writing new Pdata\n",
      "Writing new exprs data\n",
      "/usr/bin/java -Xmx16G -cp /mnt/d/dev/git/pyIMS/src/pySRM/pysrm/../../../tools/nlEmpiRe.jar nlEmpiRe.input.ExpressionSet -inputdir ./ -cond1 0 -cond2 1 -o .//nldiffreg.5.1_2_3_4_6.tsv\n",
      "Cmd returned with exit code 1\n",
      "1\n",
      "Exception in thread \"main\" lmu.utils.FRuntimeException: 1: cannot normalize samples - too many non-overlapping features clustered 50 samples into 2 groups:\n",
      "\tcluster: 1 size: 49 replicates: [cond2.rep1, cond2.rep2, cond2.rep3, cond2.rep4, cond2.rep5, cond2.rep6, cond2.rep7, cond2.rep8, cond2.rep9, cond2.rep10, cond2.rep11, cond2.rep12, cond2.rep13, cond2.rep14, cond2.rep15, cond2.rep16, cond2.rep17, cond2.rep18, cond2.rep19, cond2.rep20, cond2.rep21, cond2.rep22, cond2.rep23, cond2.rep24, cond2.rep25, cond2.rep26, cond2.rep27, cond2.rep28, cond2.rep29, cond2.rep30, cond2.rep31, cond2.rep32, cond2.rep33, cond2.rep34, cond2.rep35, cond2.rep36, cond2.rep37, cond2.rep38, cond2.rep39, cond2.rep40, cond2.rep41, cond2.rep42, cond2.rep43, cond2.rep44, cond2.rep45, cond2.rep46, cond2.rep47, cond2.rep48, cond2.rep49]\n",
      "\tcluster: 2 size: 1 replicates: [cond2.rep50]\n",
      "\n",
      "\tat nlEmpiRe.NormalizedReplicateSet.<init>(NormalizedReplicateSet.java:58)\n",
      "\tat nlEmpiRe.input.ExpressionSet.main(ExpressionSet.java:279)\n",
      "\n",
      "Loading pdata\n",
      "Removing spectra ['cond2.rep50']\n",
      "         sample  condition  batch\n",
      "0    cond1.rep1          0      0\n",
      "1    cond1.rep2          0      0\n",
      "2    cond1.rep3          0      0\n",
      "3    cond1.rep4          0      0\n",
      "4    cond1.rep5          0      0\n",
      "5    cond1.rep6          0      0\n",
      "6    cond1.rep7          0      0\n",
      "7    cond1.rep8          0      0\n",
      "8    cond1.rep9          0      0\n",
      "9   cond1.rep10          0      0\n",
      "10  cond1.rep11          0      0\n",
      "11  cond1.rep12          0      0\n",
      "12  cond1.rep13          0      0\n",
      "13  cond1.rep14          0      0\n",
      "14  cond1.rep15          0      0\n",
      "15  cond1.rep16          0      0\n",
      "16  cond1.rep17          0      0\n",
      "17  cond1.rep18          0      0\n",
      "18  cond1.rep19          0      0\n",
      "19  cond1.rep20          0      0\n",
      "20  cond1.rep21          0      0\n",
      "21  cond1.rep22          0      0\n",
      "22  cond1.rep23          0      0\n",
      "23  cond1.rep24          0      0\n",
      "24  cond1.rep25          0      0\n",
      "25  cond1.rep26          0      0\n",
      "26  cond1.rep27          0      0\n",
      "27  cond1.rep28          0      0\n",
      "28  cond1.rep29          0      0\n",
      "29  cond1.rep30          0      0\n",
      "..          ...        ...    ...\n",
      "69  cond2.rep20          1      0\n",
      "70  cond2.rep21          1      0\n",
      "71  cond2.rep22          1      0\n",
      "72  cond2.rep23          1      0\n",
      "73  cond2.rep24          1      0\n",
      "74  cond2.rep25          1      0\n",
      "75  cond2.rep26          1      0\n",
      "76  cond2.rep27          1      0\n",
      "77  cond2.rep28          1      0\n",
      "78  cond2.rep29          1      0\n",
      "79  cond2.rep30          1      0\n",
      "80  cond2.rep31          1      0\n",
      "81  cond2.rep32          1      0\n",
      "82  cond2.rep33          1      0\n",
      "83  cond2.rep34          1      0\n",
      "84  cond2.rep35          1      0\n",
      "85  cond2.rep36          1      0\n",
      "86  cond2.rep37          1      0\n",
      "87  cond2.rep38          1      0\n",
      "88  cond2.rep39          1      0\n",
      "89  cond2.rep40          1      0\n",
      "90  cond2.rep41          1      0\n",
      "91  cond2.rep42          1      0\n",
      "92  cond2.rep43          1      0\n",
      "93  cond2.rep44          1      0\n",
      "94  cond2.rep45          1      0\n",
      "95  cond2.rep46          1      0\n",
      "96  cond2.rep47          1      0\n",
      "97  cond2.rep48          1      0\n",
      "98  cond2.rep49          1      0\n",
      "\n",
      "[99 rows x 3 columns]\n",
      "/usr/bin/java -Xmx16G -cp /mnt/d/dev/git/pyIMS/src/pySRM/pysrm/../../../tools/nlEmpiRe.jar nlEmpiRe.input.ExpressionSet -inputdir ./ -cond1 0 -cond2 1 -o .//nldiffreg.5.1_2_3_4_6.tsv\n"
     ]
    },
    {
     "name": "stderr",
     "output_type": "stream",
     "text": [
      "2020-06-16 13:30:51,149  SpectraRegion  INFO: Performing DE-test: ttest\n",
      "2020-06-16 13:30:51,149  SpectraRegion  INFO: Performing DE-test: ttest\n",
      "I0616 13:30:51.149674 140009190655808 segment.py:1338] Performing DE-test: ttest\n"
     ]
    },
    {
     "name": "stdout",
     "output_type": "stream",
     "text": [
      "Cmd returned with exit code 0\n",
      "0\n",
      "EMPIRE output available: .//nldiffreg.5.1_2_3_4_6.tsv\n"
     ]
    },
    {
     "name": "stderr",
     "output_type": "stream",
     "text": [
      "/usr/local/lib/python3.6/dist-packages/anndata/_core/anndata.py:119: ImplicitModificationWarning: Transforming to str index.\n",
      "  warnings.warn(\"Transforming to str index.\", ImplicitModificationWarning)\n",
      "2020-06-16 13:30:51,406  SpectraRegion  INFO: DE-test finished. Results available: ((5,), (1, 2, 3, 4, 6))\n",
      "2020-06-16 13:30:51,406  SpectraRegion  INFO: DE-test finished. Results available: ((5,), (1, 2, 3, 4, 6))\n",
      "I0616 13:30:51.406026 140009190655808 segment.py:1363] DE-test finished. Results available: ((5,), (1, 2, 3, 4, 6))\n",
      "2020-06-16 13:30:51,430  SpectraRegion  INFO: DE result for case ((5,), (1, 2, 3, 4, 6)) with (17900, 16) results\n",
      "2020-06-16 13:30:51,430  SpectraRegion  INFO: DE result for case ((5,), (1, 2, 3, 4, 6)) with (17900, 16) results\n",
      "I0616 13:30:51.430043 140009190655808 segment.py:966] DE result for case ((5,), (1, 2, 3, 4, 6)) with (17900, 16) results\n",
      "2020-06-16 13:30:51,439  SpectraRegion  INFO: DE result for case ((5,), (1, 2, 3, 4, 6)) with (0, 16) results (filtered)\n",
      "2020-06-16 13:30:51,439  SpectraRegion  INFO: DE result for case ((5,), (1, 2, 3, 4, 6)) with (0, 16) results (filtered)\n",
      "I0616 13:30:51.439215 140009190655808 segment.py:994] DE result for case ((5,), (1, 2, 3, 4, 6)) with (0, 16) results (filtered)\n",
      "2020-06-16 13:30:51,471  SpectraRegion  INFO: Created matrices with shape (73, 17900) and (227, 17900) (target, bg)\n",
      "2020-06-16 13:30:51,471  SpectraRegion  INFO: Created matrices with shape (73, 17900) and (227, 17900) (target, bg)\n",
      "I0616 13:30:51.471247 140009190655808 segment.py:1000] Created matrices with shape (73, 17900) and (227, 17900) (target, bg)\n",
      "2020-06-16 13:30:51,493  SpectraRegion  INFO: DE result for case ((5,), (1, 2, 3, 4, 6)) with (17900, 7) results\n",
      "2020-06-16 13:30:51,493  SpectraRegion  INFO: DE result for case ((5,), (1, 2, 3, 4, 6)) with (17900, 7) results\n",
      "I0616 13:30:51.493004 140009190655808 segment.py:966] DE result for case ((5,), (1, 2, 3, 4, 6)) with (17900, 7) results\n",
      "2020-06-16 13:30:51,495  SpectraRegion  INFO: DE result logFC inversed\n",
      "2020-06-16 13:30:51,495  SpectraRegion  INFO: DE result logFC inversed\n",
      "I0616 13:30:51.495805 140009190655808 segment.py:989] DE result logFC inversed\n",
      "2020-06-16 13:30:51,505  SpectraRegion  INFO: DE result for case ((5,), (1, 2, 3, 4, 6)) with (1410, 7) results (filtered)\n",
      "2020-06-16 13:30:51,505  SpectraRegion  INFO: DE result for case ((5,), (1, 2, 3, 4, 6)) with (1410, 7) results (filtered)\n",
      "I0616 13:30:51.505604 140009190655808 segment.py:994] DE result for case ((5,), (1, 2, 3, 4, 6)) with (1410, 7) results (filtered)\n",
      "2020-06-16 13:30:51,521  SpectraRegion  INFO: Created matrices with shape (73, 17900) and (227, 17900) (target, bg)\n",
      "2020-06-16 13:30:51,521  SpectraRegion  INFO: Created matrices with shape (73, 17900) and (227, 17900) (target, bg)\n",
      "I0616 13:30:51.521024 140009190655808 segment.py:1000] Created matrices with shape (73, 17900) and (227, 17900) (target, bg)\n",
      "2020-06-16 13:30:59,442  SpectraRegion  INFO: DE data for case: [6]\n",
      "2020-06-16 13:30:59,442  SpectraRegion  INFO: DE data for case: [6]\n",
      "I0616 13:30:59.442525 140009190655808 segment.py:1229] DE data for case: [6]\n",
      "2020-06-16 13:30:59,444  SpectraRegion  INFO: DE data for control: [5, 4, 1, 3, 2]\n",
      "2020-06-16 13:30:59,444  SpectraRegion  INFO: DE data for control: [5, 4, 1, 3, 2]\n",
      "I0616 13:30:59.444738 140009190655808 segment.py:1230] DE data for control: [5, 4, 1, 3, 2]\n",
      "2020-06-16 13:30:59,447  SpectraRegion  INFO: DE result key: ((6,), (1, 2, 3, 4, 5))\n",
      "2020-06-16 13:30:59,447  SpectraRegion  INFO: DE result key: ((6,), (1, 2, 3, 4, 5))\n",
      "I0616 13:30:59.447774 140009190655808 segment.py:1234] DE result key: ((6,), (1, 2, 3, 4, 5))\n",
      "2020-06-16 13:30:59,477  SpectraRegion  INFO: Processing cluster: 6\n",
      "2020-06-16 13:30:59,477  SpectraRegion  INFO: Processing cluster: 6\n",
      "I0616 13:30:59.477313 140009190655808 segment.py:1252] Processing cluster: 6\n",
      "2020-06-16 13:30:59,527  SpectraRegion  INFO: Processing cluster: 5\n",
      "2020-06-16 13:30:59,527  SpectraRegion  INFO: Processing cluster: 5\n",
      "I0616 13:30:59.527738 140009190655808 segment.py:1265] Processing cluster: 5\n",
      "2020-06-16 13:30:59,570  SpectraRegion  INFO: Processing cluster: 4\n",
      "2020-06-16 13:30:59,570  SpectraRegion  INFO: Processing cluster: 4\n",
      "I0616 13:30:59.570188 140009190655808 segment.py:1265] Processing cluster: 4\n",
      "2020-06-16 13:30:59,607  SpectraRegion  INFO: Processing cluster: 1\n",
      "2020-06-16 13:30:59,607  SpectraRegion  INFO: Processing cluster: 1\n",
      "I0616 13:30:59.607482 140009190655808 segment.py:1265] Processing cluster: 1\n",
      "2020-06-16 13:30:59,633  SpectraRegion  INFO: Processing cluster: 3\n",
      "2020-06-16 13:30:59,633  SpectraRegion  INFO: Processing cluster: 3\n",
      "I0616 13:30:59.633805 140009190655808 segment.py:1265] Processing cluster: 3\n",
      "2020-06-16 13:30:59,647  SpectraRegion  INFO: Processing cluster: 2\n"
     ]
    },
    {
     "name": "stdout",
     "output_type": "stream",
     "text": [
      "Running [6] against [5, 4, 1, 3, 2]\n"
     ]
    },
    {
     "name": "stderr",
     "output_type": "stream",
     "text": [
      "2020-06-16 13:30:59,647  SpectraRegion  INFO: Processing cluster: 2\n",
      "I0616 13:30:59.647082 140009190655808 segment.py:1265] Processing cluster: 2\n",
      "2020-06-16 13:30:59,657  SpectraRegion  INFO: DE DataFrame ready. Shape (17900, 300)\n",
      "2020-06-16 13:30:59,657  SpectraRegion  INFO: DE DataFrame ready. Shape (17900, 300)\n",
      "I0616 13:30:59.657107 140009190655808 segment.py:1278] DE DataFrame ready. Shape (17900, 300)\n",
      "2020-06-16 13:30:59,663  SpectraRegion  INFO: DE Sample DataFrame ready. Shape (300, 3)\n",
      "2020-06-16 13:30:59,663  SpectraRegion  INFO: DE Sample DataFrame ready. Shape (300, 3)\n",
      "I0616 13:30:59.663909 140009190655808 segment.py:1286] DE Sample DataFrame ready. Shape (300, 3)\n",
      "2020-06-16 13:31:00,137  SpectraRegion  INFO: Starting EMPIRE; Writing Expression Files\n",
      "2020-06-16 13:31:00,137  SpectraRegion  INFO: Starting EMPIRE; Writing Expression Files\n",
      "I0616 13:31:00.137919 140009190655808 segment.py:1302] Starting EMPIRE; Writing Expression Files\n",
      "2020-06-16 13:31:08,579  SpectraRegion  INFO: Starting EMPIRE; Running nlEmpiRe\n",
      "2020-06-16 13:31:08,579  SpectraRegion  INFO: Starting EMPIRE; Running nlEmpiRe\n",
      "I0616 13:31:08.579753 140009190655808 segment.py:1320] Starting EMPIRE; Running nlEmpiRe\n"
     ]
    },
    {
     "name": "stdout",
     "output_type": "stream",
     "text": [
      "Max condition count (1, 209)\n",
      "/usr/bin/java -Xmx24G -cp /mnt/d/dev/git/pyIMS/src/pySRM/pysrm/../../../tools/nlEmpiRe.jar nlEmpiRe.input.ExpressionSet -getbestsubN 100 -inputdir ./ -cond1 0 -cond2 1 -o .//exprs_ds.txt\n",
      "Cmd returned with exit code 0\n",
      "Writing new Pdata\n",
      "Writing new exprs data\n",
      "/usr/bin/java -Xmx16G -cp /mnt/d/dev/git/pyIMS/src/pySRM/pysrm/../../../tools/nlEmpiRe.jar nlEmpiRe.input.ExpressionSet -inputdir ./ -cond1 0 -cond2 1 -o .//nldiffreg.6.1_2_3_4_5.tsv\n",
      "Cmd returned with exit code 1\n",
      "1\n",
      "Exception in thread \"main\" lmu.utils.FRuntimeException: 1: cannot normalize samples - too many non-overlapping features clustered 50 samples into 2 groups:\n",
      "\tcluster: 1 size: 49 replicates: [cond2.rep1, cond2.rep2, cond2.rep3, cond2.rep4, cond2.rep5, cond2.rep6, cond2.rep7, cond2.rep8, cond2.rep9, cond2.rep10, cond2.rep11, cond2.rep12, cond2.rep13, cond2.rep14, cond2.rep15, cond2.rep16, cond2.rep17, cond2.rep18, cond2.rep19, cond2.rep20, cond2.rep21, cond2.rep22, cond2.rep23, cond2.rep24, cond2.rep25, cond2.rep26, cond2.rep27, cond2.rep28, cond2.rep29, cond2.rep30, cond2.rep31, cond2.rep32, cond2.rep33, cond2.rep34, cond2.rep35, cond2.rep36, cond2.rep37, cond2.rep38, cond2.rep39, cond2.rep40, cond2.rep41, cond2.rep42, cond2.rep43, cond2.rep44, cond2.rep45, cond2.rep46, cond2.rep47, cond2.rep48, cond2.rep49]\n",
      "\tcluster: 2 size: 1 replicates: [cond2.rep50]\n",
      "\n",
      "\tat nlEmpiRe.NormalizedReplicateSet.<init>(NormalizedReplicateSet.java:58)\n",
      "\tat nlEmpiRe.input.ExpressionSet.main(ExpressionSet.java:279)\n",
      "\n",
      "Loading pdata\n",
      "Removing spectra ['cond2.rep50']\n",
      "         sample  condition  batch\n",
      "0    cond1.rep1          0      0\n",
      "1    cond1.rep2          0      0\n",
      "2    cond1.rep3          0      0\n",
      "3    cond1.rep4          0      0\n",
      "4    cond1.rep5          0      0\n",
      "5    cond1.rep6          0      0\n",
      "6    cond1.rep7          0      0\n",
      "7    cond1.rep8          0      0\n",
      "8    cond1.rep9          0      0\n",
      "9   cond1.rep10          0      0\n",
      "10  cond1.rep11          0      0\n",
      "11  cond1.rep12          0      0\n",
      "12  cond1.rep13          0      0\n",
      "13  cond1.rep14          0      0\n",
      "14  cond1.rep15          0      0\n",
      "15  cond1.rep16          0      0\n",
      "16  cond1.rep17          0      0\n",
      "17  cond1.rep18          0      0\n",
      "18  cond1.rep19          0      0\n",
      "19  cond1.rep20          0      0\n",
      "20  cond1.rep21          0      0\n",
      "21  cond1.rep22          0      0\n",
      "22  cond1.rep23          0      0\n",
      "23  cond1.rep24          0      0\n",
      "24  cond1.rep25          0      0\n",
      "25  cond1.rep26          0      0\n",
      "26  cond1.rep27          0      0\n",
      "27  cond1.rep28          0      0\n",
      "28  cond1.rep29          0      0\n",
      "29  cond1.rep30          0      0\n",
      "..          ...        ...    ...\n",
      "69  cond2.rep20          1      0\n",
      "70  cond2.rep21          1      0\n",
      "71  cond2.rep22          1      0\n",
      "72  cond2.rep23          1      0\n",
      "73  cond2.rep24          1      0\n",
      "74  cond2.rep25          1      0\n",
      "75  cond2.rep26          1      0\n",
      "76  cond2.rep27          1      0\n",
      "77  cond2.rep28          1      0\n",
      "78  cond2.rep29          1      0\n",
      "79  cond2.rep30          1      0\n",
      "80  cond2.rep31          1      0\n",
      "81  cond2.rep32          1      0\n",
      "82  cond2.rep33          1      0\n",
      "83  cond2.rep34          1      0\n",
      "84  cond2.rep35          1      0\n",
      "85  cond2.rep36          1      0\n",
      "86  cond2.rep37          1      0\n",
      "87  cond2.rep38          1      0\n",
      "88  cond2.rep39          1      0\n",
      "89  cond2.rep40          1      0\n",
      "90  cond2.rep41          1      0\n",
      "91  cond2.rep42          1      0\n",
      "92  cond2.rep43          1      0\n",
      "93  cond2.rep44          1      0\n",
      "94  cond2.rep45          1      0\n",
      "95  cond2.rep46          1      0\n",
      "96  cond2.rep47          1      0\n",
      "97  cond2.rep48          1      0\n",
      "98  cond2.rep49          1      0\n",
      "\n",
      "[99 rows x 3 columns]\n",
      "/usr/bin/java -Xmx16G -cp /mnt/d/dev/git/pyIMS/src/pySRM/pysrm/../../../tools/nlEmpiRe.jar nlEmpiRe.input.ExpressionSet -inputdir ./ -cond1 0 -cond2 1 -o .//nldiffreg.6.1_2_3_4_5.tsv\n"
     ]
    },
    {
     "name": "stderr",
     "output_type": "stream",
     "text": [
      "2020-06-16 13:32:27,412  SpectraRegion  INFO: Performing DE-test: ttest\n",
      "2020-06-16 13:32:27,412  SpectraRegion  INFO: Performing DE-test: ttest\n",
      "I0616 13:32:27.412960 140009190655808 segment.py:1338] Performing DE-test: ttest\n"
     ]
    },
    {
     "name": "stdout",
     "output_type": "stream",
     "text": [
      "Cmd returned with exit code 0\n",
      "0\n",
      "EMPIRE output available: .//nldiffreg.6.1_2_3_4_5.tsv\n"
     ]
    },
    {
     "name": "stderr",
     "output_type": "stream",
     "text": [
      "2020-06-16 13:32:27,637  SpectraRegion  INFO: DE-test finished. Results available: ((6,), (1, 2, 3, 4, 5))\n",
      "2020-06-16 13:32:27,637  SpectraRegion  INFO: DE-test finished. Results available: ((6,), (1, 2, 3, 4, 5))\n",
      "I0616 13:32:27.637381 140009190655808 segment.py:1363] DE-test finished. Results available: ((6,), (1, 2, 3, 4, 5))\n",
      "2020-06-16 13:32:27,662  SpectraRegion  INFO: DE result for case ((6,), (1, 2, 3, 4, 5)) with (17900, 16) results\n",
      "2020-06-16 13:32:27,662  SpectraRegion  INFO: DE result for case ((6,), (1, 2, 3, 4, 5)) with (17900, 16) results\n",
      "I0616 13:32:27.662943 140009190655808 segment.py:966] DE result for case ((6,), (1, 2, 3, 4, 5)) with (17900, 16) results\n",
      "2020-06-16 13:32:27,669  SpectraRegion  INFO: DE result for case ((6,), (1, 2, 3, 4, 5)) with (0, 16) results (filtered)\n",
      "2020-06-16 13:32:27,669  SpectraRegion  INFO: DE result for case ((6,), (1, 2, 3, 4, 5)) with (0, 16) results (filtered)\n",
      "I0616 13:32:27.669218 140009190655808 segment.py:994] DE result for case ((6,), (1, 2, 3, 4, 5)) with (0, 16) results (filtered)\n",
      "2020-06-16 13:32:27,713  SpectraRegion  INFO: Created matrices with shape (91, 17900) and (209, 17900) (target, bg)\n",
      "2020-06-16 13:32:27,713  SpectraRegion  INFO: Created matrices with shape (91, 17900) and (209, 17900) (target, bg)\n",
      "I0616 13:32:27.713483 140009190655808 segment.py:1000] Created matrices with shape (91, 17900) and (209, 17900) (target, bg)\n",
      "2020-06-16 13:32:27,736  SpectraRegion  INFO: DE result for case ((6,), (1, 2, 3, 4, 5)) with (17900, 7) results\n",
      "2020-06-16 13:32:27,736  SpectraRegion  INFO: DE result for case ((6,), (1, 2, 3, 4, 5)) with (17900, 7) results\n",
      "I0616 13:32:27.736073 140009190655808 segment.py:966] DE result for case ((6,), (1, 2, 3, 4, 5)) with (17900, 7) results\n",
      "2020-06-16 13:32:27,739  SpectraRegion  INFO: DE result logFC inversed\n",
      "2020-06-16 13:32:27,739  SpectraRegion  INFO: DE result logFC inversed\n",
      "I0616 13:32:27.739093 140009190655808 segment.py:989] DE result logFC inversed\n",
      "2020-06-16 13:32:27,745  SpectraRegion  INFO: DE result for case ((6,), (1, 2, 3, 4, 5)) with (174, 7) results (filtered)\n",
      "2020-06-16 13:32:27,745  SpectraRegion  INFO: DE result for case ((6,), (1, 2, 3, 4, 5)) with (174, 7) results (filtered)\n",
      "I0616 13:32:27.745349 140009190655808 segment.py:994] DE result for case ((6,), (1, 2, 3, 4, 5)) with (174, 7) results (filtered)\n",
      "2020-06-16 13:32:27,760  SpectraRegion  INFO: Created matrices with shape (91, 17900) and (209, 17900) (target, bg)\n",
      "2020-06-16 13:32:27,760  SpectraRegion  INFO: Created matrices with shape (91, 17900) and (209, 17900) (target, bg)\n",
      "I0616 13:32:27.760396 140009190655808 segment.py:1000] Created matrices with shape (91, 17900) and (209, 17900) (target, bg)\n",
      "2020-06-16 13:32:28,368  SpectraRegion  INFO: DE data for case: [4]\n",
      "2020-06-16 13:32:28,368  SpectraRegion  INFO: DE data for case: [4]\n",
      "I0616 13:32:28.368803 140009190655808 segment.py:1229] DE data for case: [4]\n",
      "2020-06-16 13:32:28,371  SpectraRegion  INFO: DE data for control: [5, 6, 1, 3, 2]\n",
      "2020-06-16 13:32:28,371  SpectraRegion  INFO: DE data for control: [5, 6, 1, 3, 2]\n",
      "I0616 13:32:28.371054 140009190655808 segment.py:1230] DE data for control: [5, 6, 1, 3, 2]\n",
      "2020-06-16 13:32:28,374  SpectraRegion  INFO: DE result key: ((4,), (1, 2, 3, 5, 6))\n",
      "2020-06-16 13:32:28,374  SpectraRegion  INFO: DE result key: ((4,), (1, 2, 3, 5, 6))\n",
      "I0616 13:32:28.374618 140009190655808 segment.py:1234] DE result key: ((4,), (1, 2, 3, 5, 6))\n",
      "2020-06-16 13:32:28,402  SpectraRegion  INFO: Processing cluster: 4\n",
      "2020-06-16 13:32:28,402  SpectraRegion  INFO: Processing cluster: 4\n",
      "I0616 13:32:28.402024 140009190655808 segment.py:1252] Processing cluster: 4\n",
      "2020-06-16 13:32:28,439  SpectraRegion  INFO: Processing cluster: 5\n",
      "2020-06-16 13:32:28,439  SpectraRegion  INFO: Processing cluster: 5\n",
      "I0616 13:32:28.439515 140009190655808 segment.py:1265] Processing cluster: 5\n",
      "2020-06-16 13:32:28,489  SpectraRegion  INFO: Processing cluster: 6\n",
      "2020-06-16 13:32:28,489  SpectraRegion  INFO: Processing cluster: 6\n",
      "I0616 13:32:28.489649 140009190655808 segment.py:1265] Processing cluster: 6\n",
      "2020-06-16 13:32:28,550  SpectraRegion  INFO: Processing cluster: 1\n",
      "2020-06-16 13:32:28,550  SpectraRegion  INFO: Processing cluster: 1\n",
      "I0616 13:32:28.550879 140009190655808 segment.py:1265] Processing cluster: 1\n"
     ]
    },
    {
     "name": "stdout",
     "output_type": "stream",
     "text": [
      "Running [4] against [5, 6, 1, 3, 2]\n"
     ]
    },
    {
     "name": "stderr",
     "output_type": "stream",
     "text": [
      "2020-06-16 13:32:28,584  SpectraRegion  INFO: Processing cluster: 3\n",
      "2020-06-16 13:32:28,584  SpectraRegion  INFO: Processing cluster: 3\n",
      "I0616 13:32:28.584613 140009190655808 segment.py:1265] Processing cluster: 3\n",
      "2020-06-16 13:32:28,597  SpectraRegion  INFO: Processing cluster: 2\n",
      "2020-06-16 13:32:28,597  SpectraRegion  INFO: Processing cluster: 2\n",
      "I0616 13:32:28.597785 140009190655808 segment.py:1265] Processing cluster: 2\n",
      "2020-06-16 13:32:28,607  SpectraRegion  INFO: DE DataFrame ready. Shape (17900, 300)\n",
      "2020-06-16 13:32:28,607  SpectraRegion  INFO: DE DataFrame ready. Shape (17900, 300)\n",
      "I0616 13:32:28.607632 140009190655808 segment.py:1278] DE DataFrame ready. Shape (17900, 300)\n",
      "2020-06-16 13:32:28,614  SpectraRegion  INFO: DE Sample DataFrame ready. Shape (300, 3)\n",
      "2020-06-16 13:32:28,614  SpectraRegion  INFO: DE Sample DataFrame ready. Shape (300, 3)\n",
      "I0616 13:32:28.614877 140009190655808 segment.py:1286] DE Sample DataFrame ready. Shape (300, 3)\n",
      "2020-06-16 13:32:29,158  SpectraRegion  INFO: Starting EMPIRE; Writing Expression Files\n",
      "2020-06-16 13:32:29,158  SpectraRegion  INFO: Starting EMPIRE; Writing Expression Files\n",
      "I0616 13:32:29.158671 140009190655808 segment.py:1302] Starting EMPIRE; Writing Expression Files\n",
      "2020-06-16 13:32:37,576  SpectraRegion  INFO: Starting EMPIRE; Running nlEmpiRe\n",
      "2020-06-16 13:32:37,576  SpectraRegion  INFO: Starting EMPIRE; Running nlEmpiRe\n",
      "I0616 13:32:37.576864 140009190655808 segment.py:1320] Starting EMPIRE; Running nlEmpiRe\n"
     ]
    },
    {
     "name": "stdout",
     "output_type": "stream",
     "text": [
      "Max condition count (1, 239)\n",
      "/usr/bin/java -Xmx24G -cp /mnt/d/dev/git/pyIMS/src/pySRM/pysrm/../../../tools/nlEmpiRe.jar nlEmpiRe.input.ExpressionSet -getbestsubN 100 -inputdir ./ -cond1 0 -cond2 1 -o .//exprs_ds.txt\n",
      "Cmd returned with exit code 0\n",
      "Writing new Pdata\n",
      "Writing new exprs data\n",
      "/usr/bin/java -Xmx16G -cp /mnt/d/dev/git/pyIMS/src/pySRM/pysrm/../../../tools/nlEmpiRe.jar nlEmpiRe.input.ExpressionSet -inputdir ./ -cond1 0 -cond2 1 -o .//nldiffreg.4.1_2_3_5_6.tsv\n",
      "Cmd returned with exit code 1\n",
      "1\n",
      "Exception in thread \"main\" lmu.utils.FRuntimeException: 1: cannot normalize samples - too many non-overlapping features clustered 50 samples into 2 groups:\n",
      "\tcluster: 1 size: 49 replicates: [cond2.rep1, cond2.rep2, cond2.rep3, cond2.rep4, cond2.rep5, cond2.rep6, cond2.rep7, cond2.rep8, cond2.rep9, cond2.rep10, cond2.rep11, cond2.rep12, cond2.rep13, cond2.rep14, cond2.rep15, cond2.rep16, cond2.rep17, cond2.rep18, cond2.rep19, cond2.rep20, cond2.rep21, cond2.rep22, cond2.rep23, cond2.rep24, cond2.rep25, cond2.rep26, cond2.rep27, cond2.rep28, cond2.rep29, cond2.rep30, cond2.rep31, cond2.rep32, cond2.rep33, cond2.rep34, cond2.rep35, cond2.rep36, cond2.rep37, cond2.rep38, cond2.rep39, cond2.rep40, cond2.rep41, cond2.rep42, cond2.rep43, cond2.rep44, cond2.rep45, cond2.rep46, cond2.rep47, cond2.rep48, cond2.rep49]\n",
      "\tcluster: 2 size: 1 replicates: [cond2.rep50]\n",
      "\n",
      "\tat nlEmpiRe.NormalizedReplicateSet.<init>(NormalizedReplicateSet.java:58)\n",
      "\tat nlEmpiRe.input.ExpressionSet.main(ExpressionSet.java:279)\n",
      "\n",
      "Loading pdata\n",
      "Removing spectra ['cond2.rep50']\n",
      "         sample  condition  batch\n",
      "0    cond1.rep1          0      0\n",
      "1    cond1.rep2          0      0\n",
      "2    cond1.rep3          0      0\n",
      "3    cond1.rep4          0      0\n",
      "4    cond1.rep5          0      0\n",
      "5    cond1.rep6          0      0\n",
      "6    cond1.rep7          0      0\n",
      "7    cond1.rep8          0      0\n",
      "8    cond1.rep9          0      0\n",
      "9   cond1.rep10          0      0\n",
      "10  cond1.rep11          0      0\n",
      "11  cond1.rep12          0      0\n",
      "12  cond1.rep13          0      0\n",
      "13  cond1.rep14          0      0\n",
      "14  cond1.rep15          0      0\n",
      "15  cond1.rep16          0      0\n",
      "16  cond1.rep17          0      0\n",
      "17  cond1.rep18          0      0\n",
      "18  cond1.rep19          0      0\n",
      "19  cond1.rep20          0      0\n",
      "20  cond1.rep21          0      0\n",
      "21  cond1.rep22          0      0\n",
      "22  cond1.rep23          0      0\n",
      "23  cond1.rep24          0      0\n",
      "24  cond1.rep25          0      0\n",
      "25  cond1.rep26          0      0\n",
      "26  cond1.rep27          0      0\n",
      "27  cond1.rep28          0      0\n",
      "28  cond1.rep29          0      0\n",
      "29  cond1.rep30          0      0\n",
      "..          ...        ...    ...\n",
      "69  cond2.rep20          1      0\n",
      "70  cond2.rep21          1      0\n",
      "71  cond2.rep22          1      0\n",
      "72  cond2.rep23          1      0\n",
      "73  cond2.rep24          1      0\n",
      "74  cond2.rep25          1      0\n",
      "75  cond2.rep26          1      0\n",
      "76  cond2.rep27          1      0\n",
      "77  cond2.rep28          1      0\n",
      "78  cond2.rep29          1      0\n",
      "79  cond2.rep30          1      0\n",
      "80  cond2.rep31          1      0\n",
      "81  cond2.rep32          1      0\n",
      "82  cond2.rep33          1      0\n",
      "83  cond2.rep34          1      0\n",
      "84  cond2.rep35          1      0\n",
      "85  cond2.rep36          1      0\n",
      "86  cond2.rep37          1      0\n",
      "87  cond2.rep38          1      0\n",
      "88  cond2.rep39          1      0\n",
      "89  cond2.rep40          1      0\n",
      "90  cond2.rep41          1      0\n",
      "91  cond2.rep42          1      0\n",
      "92  cond2.rep43          1      0\n",
      "93  cond2.rep44          1      0\n",
      "94  cond2.rep45          1      0\n",
      "95  cond2.rep46          1      0\n",
      "96  cond2.rep47          1      0\n",
      "97  cond2.rep48          1      0\n",
      "98  cond2.rep49          1      0\n",
      "\n",
      "[99 rows x 3 columns]\n",
      "/usr/bin/java -Xmx16G -cp /mnt/d/dev/git/pyIMS/src/pySRM/pysrm/../../../tools/nlEmpiRe.jar nlEmpiRe.input.ExpressionSet -inputdir ./ -cond1 0 -cond2 1 -o .//nldiffreg.4.1_2_3_5_6.tsv\n"
     ]
    },
    {
     "name": "stderr",
     "output_type": "stream",
     "text": [
      "2020-06-16 13:34:08,154  SpectraRegion  INFO: Performing DE-test: ttest\n",
      "2020-06-16 13:34:08,154  SpectraRegion  INFO: Performing DE-test: ttest\n",
      "I0616 13:34:08.154702 140009190655808 segment.py:1338] Performing DE-test: ttest\n"
     ]
    },
    {
     "name": "stdout",
     "output_type": "stream",
     "text": [
      "Cmd returned with exit code 0\n",
      "0\n",
      "EMPIRE output available: .//nldiffreg.4.1_2_3_5_6.tsv\n"
     ]
    },
    {
     "name": "stderr",
     "output_type": "stream",
     "text": [
      "2020-06-16 13:34:08,378  SpectraRegion  INFO: DE-test finished. Results available: ((4,), (1, 2, 3, 5, 6))\n",
      "2020-06-16 13:34:08,378  SpectraRegion  INFO: DE-test finished. Results available: ((4,), (1, 2, 3, 5, 6))\n",
      "I0616 13:34:08.378789 140009190655808 segment.py:1363] DE-test finished. Results available: ((4,), (1, 2, 3, 5, 6))\n",
      "2020-06-16 13:34:08,400  SpectraRegion  INFO: DE result for case ((4,), (1, 2, 3, 5, 6)) with (17900, 16) results\n",
      "2020-06-16 13:34:08,400  SpectraRegion  INFO: DE result for case ((4,), (1, 2, 3, 5, 6)) with (17900, 16) results\n",
      "I0616 13:34:08.400892 140009190655808 segment.py:966] DE result for case ((4,), (1, 2, 3, 5, 6)) with (17900, 16) results\n",
      "2020-06-16 13:34:08,406  SpectraRegion  INFO: DE result for case ((4,), (1, 2, 3, 5, 6)) with (0, 16) results (filtered)\n",
      "2020-06-16 13:34:08,406  SpectraRegion  INFO: DE result for case ((4,), (1, 2, 3, 5, 6)) with (0, 16) results (filtered)\n",
      "I0616 13:34:08.406865 140009190655808 segment.py:994] DE result for case ((4,), (1, 2, 3, 5, 6)) with (0, 16) results (filtered)\n",
      "2020-06-16 13:34:08,430  SpectraRegion  INFO: Created matrices with shape (61, 17900) and (239, 17900) (target, bg)\n",
      "2020-06-16 13:34:08,430  SpectraRegion  INFO: Created matrices with shape (61, 17900) and (239, 17900) (target, bg)\n",
      "I0616 13:34:08.430105 140009190655808 segment.py:1000] Created matrices with shape (61, 17900) and (239, 17900) (target, bg)\n",
      "2020-06-16 13:34:08,452  SpectraRegion  INFO: DE result for case ((4,), (1, 2, 3, 5, 6)) with (17900, 7) results\n",
      "2020-06-16 13:34:08,452  SpectraRegion  INFO: DE result for case ((4,), (1, 2, 3, 5, 6)) with (17900, 7) results\n",
      "I0616 13:34:08.452450 140009190655808 segment.py:966] DE result for case ((4,), (1, 2, 3, 5, 6)) with (17900, 7) results\n",
      "2020-06-16 13:34:08,454  SpectraRegion  INFO: DE result logFC inversed\n",
      "2020-06-16 13:34:08,454  SpectraRegion  INFO: DE result logFC inversed\n",
      "I0616 13:34:08.454855 140009190655808 segment.py:989] DE result logFC inversed\n",
      "2020-06-16 13:34:08,461  SpectraRegion  INFO: DE result for case ((4,), (1, 2, 3, 5, 6)) with (1337, 7) results (filtered)\n",
      "2020-06-16 13:34:08,461  SpectraRegion  INFO: DE result for case ((4,), (1, 2, 3, 5, 6)) with (1337, 7) results (filtered)\n",
      "I0616 13:34:08.461786 140009190655808 segment.py:994] DE result for case ((4,), (1, 2, 3, 5, 6)) with (1337, 7) results (filtered)\n",
      "2020-06-16 13:34:08,477  SpectraRegion  INFO: Created matrices with shape (61, 17900) and (239, 17900) (target, bg)\n",
      "2020-06-16 13:34:08,477  SpectraRegion  INFO: Created matrices with shape (61, 17900) and (239, 17900) (target, bg)\n",
      "I0616 13:34:08.477132 140009190655808 segment.py:1000] Created matrices with shape (61, 17900) and (239, 17900) (target, bg)\n",
      "2020-06-16 13:34:15,960  SpectraRegion  INFO: DE data for case: [1]\n",
      "2020-06-16 13:34:15,960  SpectraRegion  INFO: DE data for case: [1]\n",
      "I0616 13:34:15.960374 140009190655808 segment.py:1229] DE data for case: [1]\n",
      "2020-06-16 13:34:15,963  SpectraRegion  INFO: DE data for control: [5, 6, 4, 3, 2]\n",
      "2020-06-16 13:34:15,963  SpectraRegion  INFO: DE data for control: [5, 6, 4, 3, 2]\n",
      "I0616 13:34:15.963172 140009190655808 segment.py:1230] DE data for control: [5, 6, 4, 3, 2]\n",
      "2020-06-16 13:34:15,967  SpectraRegion  INFO: DE result key: ((1,), (2, 3, 4, 5, 6))\n",
      "2020-06-16 13:34:15,967  SpectraRegion  INFO: DE result key: ((1,), (2, 3, 4, 5, 6))\n",
      "I0616 13:34:15.967011 140009190655808 segment.py:1234] DE result key: ((1,), (2, 3, 4, 5, 6))\n",
      "2020-06-16 13:34:15,993  SpectraRegion  INFO: Processing cluster: 1\n",
      "2020-06-16 13:34:15,993  SpectraRegion  INFO: Processing cluster: 1\n",
      "I0616 13:34:15.993254 140009190655808 segment.py:1252] Processing cluster: 1\n",
      "2020-06-16 13:34:16,021  SpectraRegion  INFO: Processing cluster: 5\n",
      "2020-06-16 13:34:16,021  SpectraRegion  INFO: Processing cluster: 5\n",
      "I0616 13:34:16.021461 140009190655808 segment.py:1265] Processing cluster: 5\n",
      "2020-06-16 13:34:16,065  SpectraRegion  INFO: Processing cluster: 6\n",
      "2020-06-16 13:34:16,065  SpectraRegion  INFO: Processing cluster: 6\n",
      "I0616 13:34:16.065641 140009190655808 segment.py:1265] Processing cluster: 6\n",
      "2020-06-16 13:34:16,120  SpectraRegion  INFO: Processing cluster: 4\n",
      "2020-06-16 13:34:16,120  SpectraRegion  INFO: Processing cluster: 4\n",
      "I0616 13:34:16.120692 140009190655808 segment.py:1265] Processing cluster: 4\n",
      "2020-06-16 13:34:16,153  SpectraRegion  INFO: Processing cluster: 3\n",
      "2020-06-16 13:34:16,153  SpectraRegion  INFO: Processing cluster: 3\n",
      "I0616 13:34:16.153374 140009190655808 segment.py:1265] Processing cluster: 3\n"
     ]
    },
    {
     "name": "stdout",
     "output_type": "stream",
     "text": [
      "Running [1] against [5, 6, 4, 3, 2]\n"
     ]
    },
    {
     "name": "stderr",
     "output_type": "stream",
     "text": [
      "2020-06-16 13:34:16,168  SpectraRegion  INFO: Processing cluster: 2\n",
      "2020-06-16 13:34:16,168  SpectraRegion  INFO: Processing cluster: 2\n",
      "I0616 13:34:16.168396 140009190655808 segment.py:1265] Processing cluster: 2\n",
      "2020-06-16 13:34:16,178  SpectraRegion  INFO: DE DataFrame ready. Shape (17900, 300)\n",
      "2020-06-16 13:34:16,178  SpectraRegion  INFO: DE DataFrame ready. Shape (17900, 300)\n",
      "I0616 13:34:16.178117 140009190655808 segment.py:1278] DE DataFrame ready. Shape (17900, 300)\n",
      "2020-06-16 13:34:16,183  SpectraRegion  INFO: DE Sample DataFrame ready. Shape (300, 3)\n",
      "2020-06-16 13:34:16,183  SpectraRegion  INFO: DE Sample DataFrame ready. Shape (300, 3)\n",
      "I0616 13:34:16.183818 140009190655808 segment.py:1286] DE Sample DataFrame ready. Shape (300, 3)\n",
      "2020-06-16 13:34:16,670  SpectraRegion  INFO: Starting EMPIRE; Writing Expression Files\n",
      "2020-06-16 13:34:16,670  SpectraRegion  INFO: Starting EMPIRE; Writing Expression Files\n",
      "I0616 13:34:16.670597 140009190655808 segment.py:1302] Starting EMPIRE; Writing Expression Files\n",
      "2020-06-16 13:34:25,086  SpectraRegion  INFO: Starting EMPIRE; Running nlEmpiRe\n",
      "2020-06-16 13:34:25,086  SpectraRegion  INFO: Starting EMPIRE; Running nlEmpiRe\n",
      "I0616 13:34:25.086373 140009190655808 segment.py:1320] Starting EMPIRE; Running nlEmpiRe\n"
     ]
    },
    {
     "name": "stdout",
     "output_type": "stream",
     "text": [
      "Max condition count (1, 255)\n",
      "/usr/bin/java -Xmx24G -cp /mnt/d/dev/git/pyIMS/src/pySRM/pysrm/../../../tools/nlEmpiRe.jar nlEmpiRe.input.ExpressionSet -getbestsubN 100 -inputdir ./ -cond1 0 -cond2 1 -o .//exprs_ds.txt\n",
      "Cmd returned with exit code 0\n",
      "Writing new Pdata\n",
      "Writing new exprs data\n",
      "/usr/bin/java -Xmx16G -cp /mnt/d/dev/git/pyIMS/src/pySRM/pysrm/../../../tools/nlEmpiRe.jar nlEmpiRe.input.ExpressionSet -inputdir ./ -cond1 0 -cond2 1 -o .//nldiffreg.1.2_3_4_5_6.tsv\n",
      "Cmd returned with exit code 1\n",
      "1\n",
      "Exception in thread \"main\" lmu.utils.FRuntimeException: 1: cannot normalize samples - too many non-overlapping features clustered 50 samples into 2 groups:\n",
      "\tcluster: 1 size: 49 replicates: [cond2.rep1, cond2.rep2, cond2.rep3, cond2.rep4, cond2.rep5, cond2.rep6, cond2.rep7, cond2.rep8, cond2.rep9, cond2.rep10, cond2.rep11, cond2.rep12, cond2.rep13, cond2.rep14, cond2.rep15, cond2.rep16, cond2.rep17, cond2.rep18, cond2.rep19, cond2.rep20, cond2.rep21, cond2.rep22, cond2.rep23, cond2.rep24, cond2.rep25, cond2.rep26, cond2.rep27, cond2.rep28, cond2.rep29, cond2.rep30, cond2.rep31, cond2.rep32, cond2.rep33, cond2.rep34, cond2.rep35, cond2.rep36, cond2.rep37, cond2.rep38, cond2.rep39, cond2.rep40, cond2.rep41, cond2.rep42, cond2.rep43, cond2.rep44, cond2.rep45, cond2.rep46, cond2.rep47, cond2.rep48, cond2.rep49]\n",
      "\tcluster: 2 size: 1 replicates: [cond2.rep50]\n",
      "\n",
      "\tat nlEmpiRe.NormalizedReplicateSet.<init>(NormalizedReplicateSet.java:58)\n",
      "\tat nlEmpiRe.input.ExpressionSet.main(ExpressionSet.java:279)\n",
      "\n",
      "Loading pdata\n",
      "Removing spectra ['cond2.rep50']\n",
      "         sample  condition  batch\n",
      "0    cond1.rep1          0      0\n",
      "1    cond1.rep2          0      0\n",
      "2    cond1.rep3          0      0\n",
      "3    cond1.rep4          0      0\n",
      "4    cond1.rep5          0      0\n",
      "5    cond1.rep6          0      0\n",
      "6    cond1.rep7          0      0\n",
      "7    cond1.rep8          0      0\n",
      "8    cond1.rep9          0      0\n",
      "9   cond1.rep10          0      0\n",
      "10  cond1.rep11          0      0\n",
      "11  cond1.rep12          0      0\n",
      "12  cond1.rep13          0      0\n",
      "13  cond1.rep14          0      0\n",
      "14  cond1.rep15          0      0\n",
      "15  cond1.rep16          0      0\n",
      "16  cond1.rep17          0      0\n",
      "17  cond1.rep18          0      0\n",
      "18  cond1.rep19          0      0\n",
      "19  cond1.rep20          0      0\n",
      "20  cond1.rep21          0      0\n",
      "21  cond1.rep22          0      0\n",
      "22  cond1.rep23          0      0\n",
      "23  cond1.rep24          0      0\n",
      "24  cond1.rep25          0      0\n",
      "25  cond1.rep26          0      0\n",
      "26  cond1.rep27          0      0\n",
      "27  cond1.rep28          0      0\n",
      "28  cond1.rep29          0      0\n",
      "29  cond1.rep30          0      0\n",
      "..          ...        ...    ...\n",
      "69  cond2.rep20          1      0\n",
      "70  cond2.rep21          1      0\n",
      "71  cond2.rep22          1      0\n",
      "72  cond2.rep23          1      0\n",
      "73  cond2.rep24          1      0\n",
      "74  cond2.rep25          1      0\n",
      "75  cond2.rep26          1      0\n",
      "76  cond2.rep27          1      0\n",
      "77  cond2.rep28          1      0\n",
      "78  cond2.rep29          1      0\n",
      "79  cond2.rep30          1      0\n",
      "80  cond2.rep31          1      0\n",
      "81  cond2.rep32          1      0\n",
      "82  cond2.rep33          1      0\n",
      "83  cond2.rep34          1      0\n",
      "84  cond2.rep35          1      0\n",
      "85  cond2.rep36          1      0\n",
      "86  cond2.rep37          1      0\n",
      "87  cond2.rep38          1      0\n",
      "88  cond2.rep39          1      0\n",
      "89  cond2.rep40          1      0\n",
      "90  cond2.rep41          1      0\n",
      "91  cond2.rep42          1      0\n",
      "92  cond2.rep43          1      0\n",
      "93  cond2.rep44          1      0\n",
      "94  cond2.rep45          1      0\n",
      "95  cond2.rep46          1      0\n",
      "96  cond2.rep47          1      0\n",
      "97  cond2.rep48          1      0\n",
      "98  cond2.rep49          1      0\n",
      "\n",
      "[99 rows x 3 columns]\n",
      "/usr/bin/java -Xmx16G -cp /mnt/d/dev/git/pyIMS/src/pySRM/pysrm/../../../tools/nlEmpiRe.jar nlEmpiRe.input.ExpressionSet -inputdir ./ -cond1 0 -cond2 1 -o .//nldiffreg.1.2_3_4_5_6.tsv\n"
     ]
    },
    {
     "name": "stderr",
     "output_type": "stream",
     "text": [
      "2020-06-16 13:36:03,906  SpectraRegion  INFO: Performing DE-test: ttest\n",
      "2020-06-16 13:36:03,906  SpectraRegion  INFO: Performing DE-test: ttest\n",
      "I0616 13:36:03.906200 140009190655808 segment.py:1338] Performing DE-test: ttest\n"
     ]
    },
    {
     "name": "stdout",
     "output_type": "stream",
     "text": [
      "Cmd returned with exit code 0\n",
      "0\n",
      "EMPIRE output available: .//nldiffreg.1.2_3_4_5_6.tsv\n"
     ]
    },
    {
     "name": "stderr",
     "output_type": "stream",
     "text": [
      "2020-06-16 13:36:04,109  SpectraRegion  INFO: DE-test finished. Results available: ((1,), (2, 3, 4, 5, 6))\n",
      "2020-06-16 13:36:04,109  SpectraRegion  INFO: DE-test finished. Results available: ((1,), (2, 3, 4, 5, 6))\n",
      "I0616 13:36:04.109986 140009190655808 segment.py:1363] DE-test finished. Results available: ((1,), (2, 3, 4, 5, 6))\n",
      "2020-06-16 13:36:04,132  SpectraRegion  INFO: DE result for case ((1,), (2, 3, 4, 5, 6)) with (17900, 16) results\n",
      "2020-06-16 13:36:04,132  SpectraRegion  INFO: DE result for case ((1,), (2, 3, 4, 5, 6)) with (17900, 16) results\n",
      "I0616 13:36:04.132883 140009190655808 segment.py:966] DE result for case ((1,), (2, 3, 4, 5, 6)) with (17900, 16) results\n",
      "2020-06-16 13:36:04,139  SpectraRegion  INFO: DE result for case ((1,), (2, 3, 4, 5, 6)) with (0, 16) results (filtered)\n",
      "2020-06-16 13:36:04,139  SpectraRegion  INFO: DE result for case ((1,), (2, 3, 4, 5, 6)) with (0, 16) results (filtered)\n",
      "I0616 13:36:04.139546 140009190655808 segment.py:994] DE result for case ((1,), (2, 3, 4, 5, 6)) with (0, 16) results (filtered)\n",
      "2020-06-16 13:36:04,159  SpectraRegion  INFO: Created matrices with shape (45, 17900) and (255, 17900) (target, bg)\n",
      "2020-06-16 13:36:04,159  SpectraRegion  INFO: Created matrices with shape (45, 17900) and (255, 17900) (target, bg)\n",
      "I0616 13:36:04.159494 140009190655808 segment.py:1000] Created matrices with shape (45, 17900) and (255, 17900) (target, bg)\n",
      "2020-06-16 13:36:04,179  SpectraRegion  INFO: DE result for case ((1,), (2, 3, 4, 5, 6)) with (17900, 7) results\n",
      "2020-06-16 13:36:04,179  SpectraRegion  INFO: DE result for case ((1,), (2, 3, 4, 5, 6)) with (17900, 7) results\n",
      "I0616 13:36:04.179524 140009190655808 segment.py:966] DE result for case ((1,), (2, 3, 4, 5, 6)) with (17900, 7) results\n",
      "2020-06-16 13:36:04,181  SpectraRegion  INFO: DE result logFC inversed\n",
      "2020-06-16 13:36:04,181  SpectraRegion  INFO: DE result logFC inversed\n",
      "I0616 13:36:04.181720 140009190655808 segment.py:989] DE result logFC inversed\n",
      "2020-06-16 13:36:04,189  SpectraRegion  INFO: DE result for case ((1,), (2, 3, 4, 5, 6)) with (862, 7) results (filtered)\n",
      "2020-06-16 13:36:04,189  SpectraRegion  INFO: DE result for case ((1,), (2, 3, 4, 5, 6)) with (862, 7) results (filtered)\n",
      "I0616 13:36:04.189458 140009190655808 segment.py:994] DE result for case ((1,), (2, 3, 4, 5, 6)) with (862, 7) results (filtered)\n",
      "2020-06-16 13:36:04,203  SpectraRegion  INFO: Created matrices with shape (45, 17900) and (255, 17900) (target, bg)\n",
      "2020-06-16 13:36:04,203  SpectraRegion  INFO: Created matrices with shape (45, 17900) and (255, 17900) (target, bg)\n",
      "I0616 13:36:04.203666 140009190655808 segment.py:1000] Created matrices with shape (45, 17900) and (255, 17900) (target, bg)\n",
      "2020-06-16 13:36:06,637  SpectraRegion  INFO: DE data for case: [3]\n",
      "2020-06-16 13:36:06,637  SpectraRegion  INFO: DE data for case: [3]\n",
      "I0616 13:36:06.637782 140009190655808 segment.py:1229] DE data for case: [3]\n",
      "2020-06-16 13:36:06,640  SpectraRegion  INFO: DE data for control: [5, 6, 4, 1, 2]\n",
      "2020-06-16 13:36:06,640  SpectraRegion  INFO: DE data for control: [5, 6, 4, 1, 2]\n",
      "I0616 13:36:06.640587 140009190655808 segment.py:1230] DE data for control: [5, 6, 4, 1, 2]\n",
      "2020-06-16 13:36:06,644  SpectraRegion  INFO: DE result key: ((3,), (1, 2, 4, 5, 6))\n",
      "2020-06-16 13:36:06,644  SpectraRegion  INFO: DE result key: ((3,), (1, 2, 4, 5, 6))\n",
      "I0616 13:36:06.644421 140009190655808 segment.py:1234] DE result key: ((3,), (1, 2, 4, 5, 6))\n",
      "2020-06-16 13:36:06,671  SpectraRegion  INFO: Processing cluster: 3\n",
      "2020-06-16 13:36:06,671  SpectraRegion  INFO: Processing cluster: 3\n",
      "I0616 13:36:06.671075 140009190655808 segment.py:1252] Processing cluster: 3\n",
      "2020-06-16 13:36:06,687  SpectraRegion  INFO: Processing cluster: 5\n",
      "2020-06-16 13:36:06,687  SpectraRegion  INFO: Processing cluster: 5\n",
      "I0616 13:36:06.687370 140009190655808 segment.py:1265] Processing cluster: 5\n",
      "2020-06-16 13:36:06,724  SpectraRegion  INFO: Processing cluster: 6\n",
      "2020-06-16 13:36:06,724  SpectraRegion  INFO: Processing cluster: 6\n",
      "I0616 13:36:06.724020 140009190655808 segment.py:1265] Processing cluster: 6\n",
      "2020-06-16 13:36:06,778  SpectraRegion  INFO: Processing cluster: 4\n",
      "2020-06-16 13:36:06,778  SpectraRegion  INFO: Processing cluster: 4\n",
      "I0616 13:36:06.778773 140009190655808 segment.py:1265] Processing cluster: 4\n",
      "2020-06-16 13:36:06,817  SpectraRegion  INFO: Processing cluster: 1\n",
      "2020-06-16 13:36:06,817  SpectraRegion  INFO: Processing cluster: 1\n",
      "I0616 13:36:06.817475 140009190655808 segment.py:1265] Processing cluster: 1\n",
      "2020-06-16 13:36:06,841  SpectraRegion  INFO: Processing cluster: 2\n",
      "2020-06-16 13:36:06,841  SpectraRegion  INFO: Processing cluster: 2\n",
      "I0616 13:36:06.841762 140009190655808 segment.py:1265] Processing cluster: 2\n"
     ]
    },
    {
     "name": "stdout",
     "output_type": "stream",
     "text": [
      "Running [3] against [5, 6, 4, 1, 2]\n"
     ]
    },
    {
     "name": "stderr",
     "output_type": "stream",
     "text": [
      "2020-06-16 13:36:06,852  SpectraRegion  INFO: DE DataFrame ready. Shape (17900, 300)\n",
      "2020-06-16 13:36:06,852  SpectraRegion  INFO: DE DataFrame ready. Shape (17900, 300)\n",
      "I0616 13:36:06.852001 140009190655808 segment.py:1278] DE DataFrame ready. Shape (17900, 300)\n",
      "2020-06-16 13:36:06,858  SpectraRegion  INFO: DE Sample DataFrame ready. Shape (300, 3)\n",
      "2020-06-16 13:36:06,858  SpectraRegion  INFO: DE Sample DataFrame ready. Shape (300, 3)\n",
      "I0616 13:36:06.858245 140009190655808 segment.py:1286] DE Sample DataFrame ready. Shape (300, 3)\n",
      "2020-06-16 13:36:07,398  SpectraRegion  INFO: Starting EMPIRE; Writing Expression Files\n",
      "2020-06-16 13:36:07,398  SpectraRegion  INFO: Starting EMPIRE; Writing Expression Files\n",
      "I0616 13:36:07.398591 140009190655808 segment.py:1302] Starting EMPIRE; Writing Expression Files\n",
      "2020-06-16 13:36:15,941  SpectraRegion  INFO: Starting EMPIRE; Running nlEmpiRe\n",
      "2020-06-16 13:36:15,941  SpectraRegion  INFO: Starting EMPIRE; Running nlEmpiRe\n",
      "I0616 13:36:15.941500 140009190655808 segment.py:1320] Starting EMPIRE; Running nlEmpiRe\n"
     ]
    },
    {
     "name": "stdout",
     "output_type": "stream",
     "text": [
      "Max condition count (1, 281)\n",
      "/usr/bin/java -Xmx24G -cp /mnt/d/dev/git/pyIMS/src/pySRM/pysrm/../../../tools/nlEmpiRe.jar nlEmpiRe.input.ExpressionSet -getbestsubN 100 -inputdir ./ -cond1 0 -cond2 1 -o .//exprs_ds.txt\n",
      "Cmd returned with exit code 0\n",
      "Writing new Pdata\n",
      "Writing new exprs data\n",
      "/usr/bin/java -Xmx16G -cp /mnt/d/dev/git/pyIMS/src/pySRM/pysrm/../../../tools/nlEmpiRe.jar nlEmpiRe.input.ExpressionSet -inputdir ./ -cond1 0 -cond2 1 -o .//nldiffreg.3.1_2_4_5_6.tsv\n",
      "Cmd returned with exit code 1\n",
      "1\n",
      "Exception in thread \"main\" lmu.utils.FRuntimeException: 1: cannot normalize samples - too many non-overlapping features clustered 50 samples into 2 groups:\n",
      "\tcluster: 1 size: 49 replicates: [cond2.rep1, cond2.rep2, cond2.rep3, cond2.rep4, cond2.rep5, cond2.rep6, cond2.rep7, cond2.rep8, cond2.rep9, cond2.rep10, cond2.rep11, cond2.rep12, cond2.rep13, cond2.rep14, cond2.rep15, cond2.rep16, cond2.rep17, cond2.rep18, cond2.rep19, cond2.rep20, cond2.rep21, cond2.rep22, cond2.rep23, cond2.rep24, cond2.rep25, cond2.rep26, cond2.rep27, cond2.rep28, cond2.rep29, cond2.rep30, cond2.rep31, cond2.rep32, cond2.rep33, cond2.rep34, cond2.rep35, cond2.rep36, cond2.rep37, cond2.rep38, cond2.rep39, cond2.rep40, cond2.rep41, cond2.rep42, cond2.rep43, cond2.rep44, cond2.rep45, cond2.rep46, cond2.rep47, cond2.rep48, cond2.rep49]\n",
      "\tcluster: 2 size: 1 replicates: [cond2.rep50]\n",
      "\n",
      "\tat nlEmpiRe.NormalizedReplicateSet.<init>(NormalizedReplicateSet.java:58)\n",
      "\tat nlEmpiRe.input.ExpressionSet.main(ExpressionSet.java:279)\n",
      "\n",
      "Loading pdata\n",
      "Removing spectra ['cond2.rep50']\n",
      "         sample  condition  batch\n",
      "0    cond1.rep1          0      0\n",
      "1    cond1.rep2          0      0\n",
      "2    cond1.rep3          0      0\n",
      "3    cond1.rep4          0      0\n",
      "4    cond1.rep5          0      0\n",
      "5    cond1.rep6          0      0\n",
      "6    cond1.rep7          0      0\n",
      "7    cond1.rep8          0      0\n",
      "8    cond1.rep9          0      0\n",
      "9   cond1.rep10          0      0\n",
      "10  cond1.rep11          0      0\n",
      "11  cond1.rep12          0      0\n",
      "12  cond1.rep13          0      0\n",
      "13  cond1.rep14          0      0\n",
      "14  cond1.rep15          0      0\n",
      "15  cond1.rep16          0      0\n",
      "16  cond1.rep17          0      0\n",
      "17  cond1.rep18          0      0\n",
      "18  cond1.rep19          0      0\n",
      "19  cond1.rep20          0      0\n",
      "20  cond1.rep21          0      0\n",
      "21  cond1.rep22          0      0\n",
      "22  cond1.rep23          0      0\n",
      "23  cond1.rep24          0      0\n",
      "24  cond1.rep25          0      0\n",
      "25  cond1.rep26          0      0\n",
      "26  cond1.rep27          0      0\n",
      "27  cond1.rep28          0      0\n",
      "28  cond1.rep29          0      0\n",
      "29  cond1.rep30          0      0\n",
      "..          ...        ...    ...\n",
      "69  cond2.rep20          1      0\n",
      "70  cond2.rep21          1      0\n",
      "71  cond2.rep22          1      0\n",
      "72  cond2.rep23          1      0\n",
      "73  cond2.rep24          1      0\n",
      "74  cond2.rep25          1      0\n",
      "75  cond2.rep26          1      0\n",
      "76  cond2.rep27          1      0\n",
      "77  cond2.rep28          1      0\n",
      "78  cond2.rep29          1      0\n",
      "79  cond2.rep30          1      0\n",
      "80  cond2.rep31          1      0\n",
      "81  cond2.rep32          1      0\n",
      "82  cond2.rep33          1      0\n",
      "83  cond2.rep34          1      0\n",
      "84  cond2.rep35          1      0\n",
      "85  cond2.rep36          1      0\n",
      "86  cond2.rep37          1      0\n",
      "87  cond2.rep38          1      0\n",
      "88  cond2.rep39          1      0\n",
      "89  cond2.rep40          1      0\n",
      "90  cond2.rep41          1      0\n",
      "91  cond2.rep42          1      0\n",
      "92  cond2.rep43          1      0\n",
      "93  cond2.rep44          1      0\n",
      "94  cond2.rep45          1      0\n",
      "95  cond2.rep46          1      0\n",
      "96  cond2.rep47          1      0\n",
      "97  cond2.rep48          1      0\n",
      "98  cond2.rep49          1      0\n",
      "\n",
      "[99 rows x 3 columns]\n",
      "/usr/bin/java -Xmx16G -cp /mnt/d/dev/git/pyIMS/src/pySRM/pysrm/../../../tools/nlEmpiRe.jar nlEmpiRe.input.ExpressionSet -inputdir ./ -cond1 0 -cond2 1 -o .//nldiffreg.3.1_2_4_5_6.tsv\n"
     ]
    },
    {
     "name": "stderr",
     "output_type": "stream",
     "text": [
      "2020-06-16 13:38:09,132  SpectraRegion  INFO: Performing DE-test: ttest\n",
      "2020-06-16 13:38:09,132  SpectraRegion  INFO: Performing DE-test: ttest\n",
      "I0616 13:38:09.132237 140009190655808 segment.py:1338] Performing DE-test: ttest\n"
     ]
    },
    {
     "name": "stdout",
     "output_type": "stream",
     "text": [
      "Cmd returned with exit code 0\n",
      "0\n",
      "EMPIRE output available: .//nldiffreg.3.1_2_4_5_6.tsv\n"
     ]
    },
    {
     "name": "stderr",
     "output_type": "stream",
     "text": [
      "2020-06-16 13:38:09,376  SpectraRegion  INFO: DE-test finished. Results available: ((3,), (1, 2, 4, 5, 6))\n",
      "2020-06-16 13:38:09,376  SpectraRegion  INFO: DE-test finished. Results available: ((3,), (1, 2, 4, 5, 6))\n",
      "I0616 13:38:09.376635 140009190655808 segment.py:1363] DE-test finished. Results available: ((3,), (1, 2, 4, 5, 6))\n",
      "2020-06-16 13:38:09,401  SpectraRegion  INFO: DE result for case ((3,), (1, 2, 4, 5, 6)) with (17900, 16) results\n",
      "2020-06-16 13:38:09,401  SpectraRegion  INFO: DE result for case ((3,), (1, 2, 4, 5, 6)) with (17900, 16) results\n",
      "I0616 13:38:09.401878 140009190655808 segment.py:966] DE result for case ((3,), (1, 2, 4, 5, 6)) with (17900, 16) results\n",
      "2020-06-16 13:38:09,407  SpectraRegion  INFO: DE result for case ((3,), (1, 2, 4, 5, 6)) with (0, 16) results (filtered)\n",
      "2020-06-16 13:38:09,407  SpectraRegion  INFO: DE result for case ((3,), (1, 2, 4, 5, 6)) with (0, 16) results (filtered)\n",
      "I0616 13:38:09.407108 140009190655808 segment.py:994] DE result for case ((3,), (1, 2, 4, 5, 6)) with (0, 16) results (filtered)\n",
      "2020-06-16 13:38:09,463  SpectraRegion  INFO: Created matrices with shape (19, 17900) and (281, 17900) (target, bg)\n",
      "2020-06-16 13:38:09,463  SpectraRegion  INFO: Created matrices with shape (19, 17900) and (281, 17900) (target, bg)\n",
      "I0616 13:38:09.463183 140009190655808 segment.py:1000] Created matrices with shape (19, 17900) and (281, 17900) (target, bg)\n",
      "2020-06-16 13:38:09,486  SpectraRegion  INFO: DE result for case ((3,), (1, 2, 4, 5, 6)) with (17900, 7) results\n",
      "2020-06-16 13:38:09,486  SpectraRegion  INFO: DE result for case ((3,), (1, 2, 4, 5, 6)) with (17900, 7) results\n",
      "I0616 13:38:09.486943 140009190655808 segment.py:966] DE result for case ((3,), (1, 2, 4, 5, 6)) with (17900, 7) results\n",
      "2020-06-16 13:38:09,489  SpectraRegion  INFO: DE result logFC inversed\n",
      "2020-06-16 13:38:09,489  SpectraRegion  INFO: DE result logFC inversed\n",
      "I0616 13:38:09.489535 140009190655808 segment.py:989] DE result logFC inversed\n",
      "2020-06-16 13:38:09,497  SpectraRegion  INFO: DE result for case ((3,), (1, 2, 4, 5, 6)) with (1493, 7) results (filtered)\n",
      "2020-06-16 13:38:09,497  SpectraRegion  INFO: DE result for case ((3,), (1, 2, 4, 5, 6)) with (1493, 7) results (filtered)\n",
      "I0616 13:38:09.497257 140009190655808 segment.py:994] DE result for case ((3,), (1, 2, 4, 5, 6)) with (1493, 7) results (filtered)\n",
      "2020-06-16 13:38:09,511  SpectraRegion  INFO: Created matrices with shape (19, 17900) and (281, 17900) (target, bg)\n",
      "2020-06-16 13:38:09,511  SpectraRegion  INFO: Created matrices with shape (19, 17900) and (281, 17900) (target, bg)\n",
      "I0616 13:38:09.511925 140009190655808 segment.py:1000] Created matrices with shape (19, 17900) and (281, 17900) (target, bg)\n",
      "2020-06-16 13:38:16,908  SpectraRegion  INFO: DE data for case: [2]\n",
      "2020-06-16 13:38:16,908  SpectraRegion  INFO: DE data for case: [2]\n",
      "I0616 13:38:16.908089 140009190655808 segment.py:1229] DE data for case: [2]\n",
      "2020-06-16 13:38:16,911  SpectraRegion  INFO: DE data for control: [5, 6, 4, 1, 3]\n",
      "2020-06-16 13:38:16,911  SpectraRegion  INFO: DE data for control: [5, 6, 4, 1, 3]\n",
      "I0616 13:38:16.911058 140009190655808 segment.py:1230] DE data for control: [5, 6, 4, 1, 3]\n",
      "2020-06-16 13:38:16,914  SpectraRegion  INFO: DE result key: ((2,), (1, 3, 4, 5, 6))\n",
      "2020-06-16 13:38:16,914  SpectraRegion  INFO: DE result key: ((2,), (1, 3, 4, 5, 6))\n",
      "I0616 13:38:16.914536 140009190655808 segment.py:1234] DE result key: ((2,), (1, 3, 4, 5, 6))\n",
      "2020-06-16 13:38:16,944  SpectraRegion  INFO: Processing cluster: 2\n",
      "2020-06-16 13:38:16,944  SpectraRegion  INFO: Processing cluster: 2\n",
      "I0616 13:38:16.944585 140009190655808 segment.py:1252] Processing cluster: 2\n",
      "2020-06-16 13:38:16,956  SpectraRegion  INFO: Processing cluster: 5\n",
      "2020-06-16 13:38:16,956  SpectraRegion  INFO: Processing cluster: 5\n",
      "I0616 13:38:16.956216 140009190655808 segment.py:1265] Processing cluster: 5\n",
      "2020-06-16 13:38:16,996  SpectraRegion  INFO: Processing cluster: 6\n",
      "2020-06-16 13:38:16,996  SpectraRegion  INFO: Processing cluster: 6\n",
      "I0616 13:38:16.996834 140009190655808 segment.py:1265] Processing cluster: 6\n",
      "2020-06-16 13:38:17,050  SpectraRegion  INFO: Processing cluster: 4\n",
      "2020-06-16 13:38:17,050  SpectraRegion  INFO: Processing cluster: 4\n",
      "I0616 13:38:17.050677 140009190655808 segment.py:1265] Processing cluster: 4\n",
      "2020-06-16 13:38:17,096  SpectraRegion  INFO: Processing cluster: 1\n",
      "2020-06-16 13:38:17,096  SpectraRegion  INFO: Processing cluster: 1\n",
      "I0616 13:38:17.096569 140009190655808 segment.py:1265] Processing cluster: 1\n"
     ]
    },
    {
     "name": "stdout",
     "output_type": "stream",
     "text": [
      "Running [2] against [5, 6, 4, 1, 3]\n"
     ]
    },
    {
     "name": "stderr",
     "output_type": "stream",
     "text": [
      "2020-06-16 13:38:17,125  SpectraRegion  INFO: Processing cluster: 3\n",
      "2020-06-16 13:38:17,125  SpectraRegion  INFO: Processing cluster: 3\n",
      "I0616 13:38:17.125376 140009190655808 segment.py:1265] Processing cluster: 3\n",
      "2020-06-16 13:38:17,138  SpectraRegion  INFO: DE DataFrame ready. Shape (17900, 300)\n",
      "2020-06-16 13:38:17,138  SpectraRegion  INFO: DE DataFrame ready. Shape (17900, 300)\n",
      "I0616 13:38:17.138824 140009190655808 segment.py:1278] DE DataFrame ready. Shape (17900, 300)\n",
      "2020-06-16 13:38:17,144  SpectraRegion  INFO: DE Sample DataFrame ready. Shape (300, 3)\n",
      "2020-06-16 13:38:17,144  SpectraRegion  INFO: DE Sample DataFrame ready. Shape (300, 3)\n",
      "I0616 13:38:17.144839 140009190655808 segment.py:1286] DE Sample DataFrame ready. Shape (300, 3)\n",
      "2020-06-16 13:38:17,603  SpectraRegion  INFO: Starting EMPIRE; Writing Expression Files\n",
      "2020-06-16 13:38:17,603  SpectraRegion  INFO: Starting EMPIRE; Writing Expression Files\n",
      "I0616 13:38:17.603354 140009190655808 segment.py:1302] Starting EMPIRE; Writing Expression Files\n",
      "2020-06-16 13:38:26,030  SpectraRegion  INFO: Starting EMPIRE; Running nlEmpiRe\n",
      "2020-06-16 13:38:26,030  SpectraRegion  INFO: Starting EMPIRE; Running nlEmpiRe\n",
      "I0616 13:38:26.030399 140009190655808 segment.py:1320] Starting EMPIRE; Running nlEmpiRe\n"
     ]
    },
    {
     "name": "stdout",
     "output_type": "stream",
     "text": [
      "Max condition count (1, 289)\n",
      "/usr/bin/java -Xmx24G -cp /mnt/d/dev/git/pyIMS/src/pySRM/pysrm/../../../tools/nlEmpiRe.jar nlEmpiRe.input.ExpressionSet -getbestsubN 100 -inputdir ./ -cond1 0 -cond2 1 -o .//exprs_ds.txt\n",
      "Cmd returned with exit code 0\n",
      "Writing new Pdata\n",
      "Writing new exprs data\n",
      "/usr/bin/java -Xmx16G -cp /mnt/d/dev/git/pyIMS/src/pySRM/pysrm/../../../tools/nlEmpiRe.jar nlEmpiRe.input.ExpressionSet -inputdir ./ -cond1 0 -cond2 1 -o .//nldiffreg.2.1_3_4_5_6.tsv\n",
      "Cmd returned with exit code 1\n",
      "1\n",
      "Exception in thread \"main\" lmu.utils.FRuntimeException: 1: cannot normalize samples - too many non-overlapping features clustered 50 samples into 2 groups:\n",
      "\tcluster: 1 size: 49 replicates: [cond2.rep1, cond2.rep2, cond2.rep3, cond2.rep4, cond2.rep5, cond2.rep6, cond2.rep7, cond2.rep8, cond2.rep9, cond2.rep10, cond2.rep11, cond2.rep12, cond2.rep13, cond2.rep14, cond2.rep15, cond2.rep16, cond2.rep17, cond2.rep18, cond2.rep19, cond2.rep20, cond2.rep21, cond2.rep22, cond2.rep23, cond2.rep24, cond2.rep25, cond2.rep26, cond2.rep27, cond2.rep28, cond2.rep29, cond2.rep30, cond2.rep31, cond2.rep32, cond2.rep33, cond2.rep34, cond2.rep35, cond2.rep36, cond2.rep37, cond2.rep38, cond2.rep39, cond2.rep40, cond2.rep41, cond2.rep42, cond2.rep43, cond2.rep44, cond2.rep45, cond2.rep46, cond2.rep47, cond2.rep48, cond2.rep49]\n",
      "\tcluster: 2 size: 1 replicates: [cond2.rep50]\n",
      "\n",
      "\tat nlEmpiRe.NormalizedReplicateSet.<init>(NormalizedReplicateSet.java:58)\n",
      "\tat nlEmpiRe.input.ExpressionSet.main(ExpressionSet.java:279)\n",
      "\n",
      "Loading pdata\n",
      "Removing spectra ['cond2.rep50']\n",
      "         sample  condition  batch\n",
      "0    cond1.rep1          0      0\n",
      "1    cond1.rep2          0      0\n",
      "2    cond1.rep3          0      0\n",
      "3    cond1.rep4          0      0\n",
      "4    cond1.rep5          0      0\n",
      "5    cond1.rep6          0      0\n",
      "6    cond1.rep7          0      0\n",
      "7    cond1.rep8          0      0\n",
      "8    cond1.rep9          0      0\n",
      "9   cond1.rep10          0      0\n",
      "10  cond1.rep11          0      0\n",
      "11  cond1.rep12          0      0\n",
      "12  cond1.rep13          0      0\n",
      "13  cond1.rep14          0      0\n",
      "14  cond1.rep15          0      0\n",
      "15  cond1.rep16          0      0\n",
      "16  cond1.rep17          0      0\n",
      "17  cond1.rep18          0      0\n",
      "18  cond1.rep19          0      0\n",
      "19  cond1.rep20          0      0\n",
      "20  cond1.rep21          0      0\n",
      "21  cond1.rep22          0      0\n",
      "22  cond1.rep23          0      0\n",
      "23  cond1.rep24          0      0\n",
      "24  cond1.rep25          0      0\n",
      "25  cond1.rep26          0      0\n",
      "26  cond1.rep27          0      0\n",
      "27  cond1.rep28          0      0\n",
      "28  cond1.rep29          0      0\n",
      "29  cond1.rep30          0      0\n",
      "..          ...        ...    ...\n",
      "69  cond2.rep20          1      0\n",
      "70  cond2.rep21          1      0\n",
      "71  cond2.rep22          1      0\n",
      "72  cond2.rep23          1      0\n",
      "73  cond2.rep24          1      0\n",
      "74  cond2.rep25          1      0\n",
      "75  cond2.rep26          1      0\n",
      "76  cond2.rep27          1      0\n",
      "77  cond2.rep28          1      0\n",
      "78  cond2.rep29          1      0\n",
      "79  cond2.rep30          1      0\n",
      "80  cond2.rep31          1      0\n",
      "81  cond2.rep32          1      0\n",
      "82  cond2.rep33          1      0\n",
      "83  cond2.rep34          1      0\n",
      "84  cond2.rep35          1      0\n",
      "85  cond2.rep36          1      0\n",
      "86  cond2.rep37          1      0\n",
      "87  cond2.rep38          1      0\n",
      "88  cond2.rep39          1      0\n",
      "89  cond2.rep40          1      0\n",
      "90  cond2.rep41          1      0\n",
      "91  cond2.rep42          1      0\n",
      "92  cond2.rep43          1      0\n",
      "93  cond2.rep44          1      0\n",
      "94  cond2.rep45          1      0\n",
      "95  cond2.rep46          1      0\n",
      "96  cond2.rep47          1      0\n",
      "97  cond2.rep48          1      0\n",
      "98  cond2.rep49          1      0\n",
      "\n",
      "[99 rows x 3 columns]\n",
      "/usr/bin/java -Xmx16G -cp /mnt/d/dev/git/pyIMS/src/pySRM/pysrm/../../../tools/nlEmpiRe.jar nlEmpiRe.input.ExpressionSet -inputdir ./ -cond1 0 -cond2 1 -o .//nldiffreg.2.1_3_4_5_6.tsv\n"
     ]
    },
    {
     "name": "stderr",
     "output_type": "stream",
     "text": [
      "2020-06-16 13:40:19,467  SpectraRegion  INFO: Performing DE-test: ttest\n",
      "2020-06-16 13:40:19,467  SpectraRegion  INFO: Performing DE-test: ttest\n",
      "I0616 13:40:19.467785 140009190655808 segment.py:1338] Performing DE-test: ttest\n"
     ]
    },
    {
     "name": "stdout",
     "output_type": "stream",
     "text": [
      "Cmd returned with exit code 0\n",
      "0\n",
      "EMPIRE output available: .//nldiffreg.2.1_3_4_5_6.tsv\n"
     ]
    },
    {
     "name": "stderr",
     "output_type": "stream",
     "text": [
      "2020-06-16 13:40:19,725  SpectraRegion  INFO: DE-test finished. Results available: ((2,), (1, 3, 4, 5, 6))\n",
      "2020-06-16 13:40:19,725  SpectraRegion  INFO: DE-test finished. Results available: ((2,), (1, 3, 4, 5, 6))\n",
      "I0616 13:40:19.725131 140009190655808 segment.py:1363] DE-test finished. Results available: ((2,), (1, 3, 4, 5, 6))\n",
      "2020-06-16 13:40:19,758  SpectraRegion  INFO: DE result for case ((2,), (1, 3, 4, 5, 6)) with (17900, 16) results\n",
      "2020-06-16 13:40:19,758  SpectraRegion  INFO: DE result for case ((2,), (1, 3, 4, 5, 6)) with (17900, 16) results\n",
      "I0616 13:40:19.758427 140009190655808 segment.py:966] DE result for case ((2,), (1, 3, 4, 5, 6)) with (17900, 16) results\n",
      "2020-06-16 13:40:19,769  SpectraRegion  INFO: DE result for case ((2,), (1, 3, 4, 5, 6)) with (0, 16) results (filtered)\n",
      "2020-06-16 13:40:19,769  SpectraRegion  INFO: DE result for case ((2,), (1, 3, 4, 5, 6)) with (0, 16) results (filtered)\n",
      "I0616 13:40:19.769100 140009190655808 segment.py:994] DE result for case ((2,), (1, 3, 4, 5, 6)) with (0, 16) results (filtered)\n",
      "2020-06-16 13:40:19,853  SpectraRegion  INFO: Created matrices with shape (11, 17900) and (289, 17900) (target, bg)\n",
      "2020-06-16 13:40:19,853  SpectraRegion  INFO: Created matrices with shape (11, 17900) and (289, 17900) (target, bg)\n",
      "I0616 13:40:19.853767 140009190655808 segment.py:1000] Created matrices with shape (11, 17900) and (289, 17900) (target, bg)\n",
      "2020-06-16 13:40:19,902  SpectraRegion  INFO: DE result for case ((2,), (1, 3, 4, 5, 6)) with (17900, 7) results\n",
      "2020-06-16 13:40:19,902  SpectraRegion  INFO: DE result for case ((2,), (1, 3, 4, 5, 6)) with (17900, 7) results\n",
      "I0616 13:40:19.902736 140009190655808 segment.py:966] DE result for case ((2,), (1, 3, 4, 5, 6)) with (17900, 7) results\n",
      "2020-06-16 13:40:19,909  SpectraRegion  INFO: DE result logFC inversed\n",
      "2020-06-16 13:40:19,909  SpectraRegion  INFO: DE result logFC inversed\n",
      "I0616 13:40:19.909187 140009190655808 segment.py:989] DE result logFC inversed\n",
      "2020-06-16 13:40:19,923  SpectraRegion  INFO: DE result for case ((2,), (1, 3, 4, 5, 6)) with (3278, 7) results (filtered)\n",
      "2020-06-16 13:40:19,923  SpectraRegion  INFO: DE result for case ((2,), (1, 3, 4, 5, 6)) with (3278, 7) results (filtered)\n",
      "I0616 13:40:19.923560 140009190655808 segment.py:994] DE result for case ((2,), (1, 3, 4, 5, 6)) with (3278, 7) results (filtered)\n",
      "2020-06-16 13:40:19,969  SpectraRegion  INFO: Created matrices with shape (11, 17900) and (289, 17900) (target, bg)\n",
      "2020-06-16 13:40:19,969  SpectraRegion  INFO: Created matrices with shape (11, 17900) and (289, 17900) (target, bg)\n",
      "I0616 13:40:19.969938 140009190655808 segment.py:1000] Created matrices with shape (11, 17900) and (289, 17900) (target, bg)\n"
     ]
    }
   ],
   "source": [
    "mgenes1 = spec1.find_all_markers(pw, includeBackground=False, replaceExisting=False, outdirectory=\"./\")"
   ]
  },
  {
   "cell_type": "code",
   "execution_count": 56,
   "metadata": {},
   "outputs": [],
   "source": [
    "spec1.list_de_results()\n",
    "markerGenes1 = mgenes1[\"ttest\"]\n",
    "markerGenes1.to_csv(\"marker_genes_region_1.tsv\", sep=\"\\t\", index=False)\n"
   ]
  },
  {
   "cell_type": "code",
   "execution_count": 57,
   "metadata": {},
   "outputs": [
    {
     "name": "stdout",
     "output_type": "stream",
     "text": [
      "Taking value gene from gene\n",
      "Taking value cluster from clusterID\n",
      "Taking value logfc from avg_logFC\n",
      "Taking value pvaladj from qvalue\n",
      "Taking value expr-mean from mean\n",
      "Taking value expressing-cell-count from num\n",
      "Taking value cluster-cell-count from anum\n",
      "Got 6 clusters.\n",
      "Starting analysis\n",
      "1\tHepatic stellate cells;Liver\t0.0\t1\t46\t{'RBP1'}\n",
      "2\tAdipocytes;Connective tissue\t0.0\t1\t120\t{'PXMP2'}\n",
      "2\tBasal cells;Epithelium\t0.0\t1\t56\t{'DNPH1'}\n",
      "2\tBasophils;Immune system\t0.0\t1\t82\t{'IFITM1'}\n",
      "2\tCardiomyocytes;Heart\t0.0\t6\t106\t{'HAMP', 'MYL2', 'MYL3', 'TNNC1', 'HMGB2', 'TNNI3'}\n",
      "3\tBasophils;Immune system\t0.0\t2\t82\t{'IGFBP7', 'IFITM1'}\n",
      "3\tEndothelial cells;Vasculature\t0.0\t3\t195\t{'IGFBP7', 'CD9', 'S100A10'}\n",
      "3\tGamma delta T cells;Immune system\t0.0\t1\t66\t{'IFITM1'}\n",
      "3\tHepatic stellate cells;Liver\t0.0\t2\t46\t{'MYL9', 'IGFBP7'}\n",
      "4\tHepatocytes;Liver\t0.005333990321576602\t1\t154\t{'APOA2'}\n",
      "4\tMesothelial cells;Epithelium\t0.005083194424851952\t1\t58\t{'GSTA3'}\n",
      "4\tPericytes;Vasculature\t0.00374993854544025\t1\t64\t{'IFITM1'}\n",
      "4\tBasophils;Immune system\t0.0033088916445418253\t1\t82\t{'IFITM1'}\n",
      "5\tB cells;Immune system\t0.0\t1\t110\t{'SPCS3'}\n",
      "5\tGamma delta T cells;Immune system\t0.0\t1\t66\t{'H2AFX'}\n",
      "5\tHepatocytes;Liver\t0.0\t1\t154\t{'APOA2'}\n",
      "5\tMegakaryocytes;Immune system\t0.0\t1\t48\t{'PF4'}\n"
     ]
    }
   ],
   "source": [
    "! python3 /mnt/d/dev/git/scrnaseq_celltype_prediction/analyseMarkers.py --organs \"Connective tissue\" \"Vasculature\" \"Heart\" \"Skeletal Muscle\" \"Smooth muscle\" \"Immune system\" \"Blood\" \"Epithelium\" \"Liver\" --pvaladj qvalue --markers marker_genes_region_1.tsv -n 4"
   ]
  },
  {
   "cell_type": "markdown",
   "metadata": {},
   "source": [
    "# Creating a CombinedSpectra"
   ]
  },
  {
   "cell_type": "code",
   "execution_count": 141,
   "metadata": {},
   "outputs": [],
   "source": [
    "spec.name = \"region0\"\n",
    "spec1.name = \"region1\"\n",
    "spec4.name = \"region4\""
   ]
  },
  {
   "cell_type": "code",
   "execution_count": 142,
   "metadata": {},
   "outputs": [],
   "source": [
    "combSpec = CombinedSpectra({0: spec, 1: spec1, 4: spec4})"
   ]
  },
  {
   "cell_type": "code",
   "execution_count": 159,
   "metadata": {},
   "outputs": [
    {
     "name": "stderr",
     "output_type": "stream",
     "text": [
      "2020-06-17 12:33:32,934  SpectraRegion  INFO: Calculating consensus spectra\n",
      "2020-06-17 12:33:32,934  SpectraRegion  INFO: Calculating consensus spectra\n",
      "2020-06-17 12:33:32,934  SpectraRegion  INFO: Calculating consensus spectra\n",
      "2020-06-17 12:33:32,934  SpectraRegion  INFO: Calculating consensus spectra\n",
      "2020-06-17 12:33:32,934  SpectraRegion  INFO: Calculating consensus spectra\n",
      "I0617 12:33:32.934529 140009190655808 segment.py:809] Calculating consensus spectra\n",
      "2020-06-17 12:33:33,064  SpectraRegion  INFO: Calculating consensus spectra done\n",
      "2020-06-17 12:33:33,064  SpectraRegion  INFO: Calculating consensus spectra done\n",
      "2020-06-17 12:33:33,064  SpectraRegion  INFO: Calculating consensus spectra done\n",
      "2020-06-17 12:33:33,064  SpectraRegion  INFO: Calculating consensus spectra done\n",
      "2020-06-17 12:33:33,064  SpectraRegion  INFO: Calculating consensus spectra done\n",
      "I0617 12:33:33.064110 140009190655808 segment.py:821] Calculating consensus spectra done\n",
      "2020-06-17 12:33:33,069  SpectraRegion  INFO: Calculating consensus spectra\n",
      "2020-06-17 12:33:33,069  SpectraRegion  INFO: Calculating consensus spectra\n",
      "2020-06-17 12:33:33,069  SpectraRegion  INFO: Calculating consensus spectra\n",
      "2020-06-17 12:33:33,069  SpectraRegion  INFO: Calculating consensus spectra\n",
      "2020-06-17 12:33:33,069  SpectraRegion  INFO: Calculating consensus spectra\n",
      "I0617 12:33:33.069318 140009190655808 segment.py:809] Calculating consensus spectra\n",
      "2020-06-17 12:33:33,184  SpectraRegion  INFO: Calculating consensus spectra done\n",
      "2020-06-17 12:33:33,184  SpectraRegion  INFO: Calculating consensus spectra done\n",
      "2020-06-17 12:33:33,184  SpectraRegion  INFO: Calculating consensus spectra done\n",
      "2020-06-17 12:33:33,184  SpectraRegion  INFO: Calculating consensus spectra done\n",
      "2020-06-17 12:33:33,184  SpectraRegion  INFO: Calculating consensus spectra done\n",
      "I0617 12:33:33.184652 140009190655808 segment.py:821] Calculating consensus spectra done\n",
      "2020-06-17 12:33:33,191  SpectraRegion  INFO: Calculating consensus spectra\n",
      "2020-06-17 12:33:33,191  SpectraRegion  INFO: Calculating consensus spectra\n",
      "2020-06-17 12:33:33,191  SpectraRegion  INFO: Calculating consensus spectra\n",
      "2020-06-17 12:33:33,191  SpectraRegion  INFO: Calculating consensus spectra\n",
      "2020-06-17 12:33:33,191  SpectraRegion  INFO: Calculating consensus spectra\n",
      "I0617 12:33:33.191702 140009190655808 segment.py:809] Calculating consensus spectra\n",
      "2020-06-17 12:33:33,314  SpectraRegion  INFO: Calculating consensus spectra done\n",
      "2020-06-17 12:33:33,314  SpectraRegion  INFO: Calculating consensus spectra done\n",
      "2020-06-17 12:33:33,314  SpectraRegion  INFO: Calculating consensus spectra done\n",
      "2020-06-17 12:33:33,314  SpectraRegion  INFO: Calculating consensus spectra done\n",
      "2020-06-17 12:33:33,314  SpectraRegion  INFO: Calculating consensus spectra done\n",
      "I0617 12:33:33.314343 140009190655808 segment.py:821] Calculating consensus spectra done\n"
     ]
    }
   ],
   "source": [
    "combSpec.consensus_similarity()"
   ]
  },
  {
   "cell_type": "code",
   "execution_count": 160,
   "metadata": {},
   "outputs": [
    {
     "data": {
      "text/html": [
       "<div>\n",
       "<style scoped>\n",
       "    .dataframe tbody tr th:only-of-type {\n",
       "        vertical-align: middle;\n",
       "    }\n",
       "\n",
       "    .dataframe tbody tr th {\n",
       "        vertical-align: top;\n",
       "    }\n",
       "\n",
       "    .dataframe thead th {\n",
       "        text-align: right;\n",
       "    }\n",
       "</style>\n",
       "<table border=\"1\" class=\"dataframe\">\n",
       "  <thead>\n",
       "    <tr style=\"text-align: right;\">\n",
       "      <th></th>\n",
       "      <th>(region0, 0)</th>\n",
       "      <th>(region0, 8)</th>\n",
       "      <th>(region0, 9)</th>\n",
       "      <th>(region0, 10)</th>\n",
       "      <th>(region0, 11)</th>\n",
       "      <th>(region0, 12)</th>\n",
       "      <th>(region0, 13)</th>\n",
       "      <th>(region0, 14)</th>\n",
       "      <th>(region0, 15)</th>\n",
       "      <th>(region1, 0)</th>\n",
       "      <th>...</th>\n",
       "      <th>(region4, 0)</th>\n",
       "      <th>(region4, 1)</th>\n",
       "      <th>(region4, 2)</th>\n",
       "      <th>(region4, 3)</th>\n",
       "      <th>(region4, 4)</th>\n",
       "      <th>(region4, 5)</th>\n",
       "      <th>(region4, 9)</th>\n",
       "      <th>(region4, 10)</th>\n",
       "      <th>(region4, 11)</th>\n",
       "      <th>(region4, 15)</th>\n",
       "    </tr>\n",
       "  </thead>\n",
       "  <tbody>\n",
       "    <tr>\n",
       "      <th>(region0, 0)</th>\n",
       "      <td>1.000000</td>\n",
       "      <td>0.987037</td>\n",
       "      <td>0.953862</td>\n",
       "      <td>0.932723</td>\n",
       "      <td>0.954484</td>\n",
       "      <td>0.902774</td>\n",
       "      <td>0.923359</td>\n",
       "      <td>0.696562</td>\n",
       "      <td>0.864633</td>\n",
       "      <td>0.978511</td>\n",
       "      <td>...</td>\n",
       "      <td>0.995822</td>\n",
       "      <td>0.850405</td>\n",
       "      <td>0.828739</td>\n",
       "      <td>0.904629</td>\n",
       "      <td>0.769921</td>\n",
       "      <td>0.894790</td>\n",
       "      <td>0.925343</td>\n",
       "      <td>0.937144</td>\n",
       "      <td>0.945982</td>\n",
       "      <td>0.963712</td>\n",
       "    </tr>\n",
       "    <tr>\n",
       "      <th>(region0, 8)</th>\n",
       "      <td>0.987037</td>\n",
       "      <td>1.000000</td>\n",
       "      <td>0.985080</td>\n",
       "      <td>0.957895</td>\n",
       "      <td>0.980283</td>\n",
       "      <td>0.944952</td>\n",
       "      <td>0.966460</td>\n",
       "      <td>0.746363</td>\n",
       "      <td>0.925007</td>\n",
       "      <td>0.986391</td>\n",
       "      <td>...</td>\n",
       "      <td>0.990120</td>\n",
       "      <td>0.903414</td>\n",
       "      <td>0.896950</td>\n",
       "      <td>0.955497</td>\n",
       "      <td>0.840473</td>\n",
       "      <td>0.941887</td>\n",
       "      <td>0.962480</td>\n",
       "      <td>0.975058</td>\n",
       "      <td>0.969428</td>\n",
       "      <td>0.989752</td>\n",
       "    </tr>\n",
       "    <tr>\n",
       "      <th>(region0, 9)</th>\n",
       "      <td>0.953862</td>\n",
       "      <td>0.985080</td>\n",
       "      <td>1.000000</td>\n",
       "      <td>0.935674</td>\n",
       "      <td>0.963406</td>\n",
       "      <td>0.951537</td>\n",
       "      <td>0.978014</td>\n",
       "      <td>0.776154</td>\n",
       "      <td>0.970010</td>\n",
       "      <td>0.966776</td>\n",
       "      <td>...</td>\n",
       "      <td>0.963957</td>\n",
       "      <td>0.929246</td>\n",
       "      <td>0.952839</td>\n",
       "      <td>0.984624</td>\n",
       "      <td>0.900496</td>\n",
       "      <td>0.965008</td>\n",
       "      <td>0.961225</td>\n",
       "      <td>0.970730</td>\n",
       "      <td>0.943494</td>\n",
       "      <td>0.992442</td>\n",
       "    </tr>\n",
       "    <tr>\n",
       "      <th>(region0, 10)</th>\n",
       "      <td>0.932723</td>\n",
       "      <td>0.957895</td>\n",
       "      <td>0.935674</td>\n",
       "      <td>1.000000</td>\n",
       "      <td>0.953952</td>\n",
       "      <td>0.939820</td>\n",
       "      <td>0.964300</td>\n",
       "      <td>0.752588</td>\n",
       "      <td>0.884299</td>\n",
       "      <td>0.935086</td>\n",
       "      <td>...</td>\n",
       "      <td>0.937306</td>\n",
       "      <td>0.921294</td>\n",
       "      <td>0.868957</td>\n",
       "      <td>0.934070</td>\n",
       "      <td>0.822051</td>\n",
       "      <td>0.950119</td>\n",
       "      <td>0.979087</td>\n",
       "      <td>0.965133</td>\n",
       "      <td>0.990942</td>\n",
       "      <td>0.956517</td>\n",
       "    </tr>\n",
       "    <tr>\n",
       "      <th>(region0, 11)</th>\n",
       "      <td>0.954484</td>\n",
       "      <td>0.980283</td>\n",
       "      <td>0.963406</td>\n",
       "      <td>0.953952</td>\n",
       "      <td>1.000000</td>\n",
       "      <td>0.961462</td>\n",
       "      <td>0.969725</td>\n",
       "      <td>0.760376</td>\n",
       "      <td>0.928736</td>\n",
       "      <td>0.966018</td>\n",
       "      <td>...</td>\n",
       "      <td>0.957616</td>\n",
       "      <td>0.915083</td>\n",
       "      <td>0.896915</td>\n",
       "      <td>0.946690</td>\n",
       "      <td>0.848358</td>\n",
       "      <td>0.933246</td>\n",
       "      <td>0.948926</td>\n",
       "      <td>0.992436</td>\n",
       "      <td>0.972390</td>\n",
       "      <td>0.963562</td>\n",
       "    </tr>\n",
       "    <tr>\n",
       "      <th>(region0, 12)</th>\n",
       "      <td>0.902774</td>\n",
       "      <td>0.944952</td>\n",
       "      <td>0.951537</td>\n",
       "      <td>0.939820</td>\n",
       "      <td>0.961462</td>\n",
       "      <td>1.000000</td>\n",
       "      <td>0.966337</td>\n",
       "      <td>0.896586</td>\n",
       "      <td>0.941156</td>\n",
       "      <td>0.924559</td>\n",
       "      <td>...</td>\n",
       "      <td>0.913506</td>\n",
       "      <td>0.913271</td>\n",
       "      <td>0.922231</td>\n",
       "      <td>0.951156</td>\n",
       "      <td>0.939879</td>\n",
       "      <td>0.970116</td>\n",
       "      <td>0.934222</td>\n",
       "      <td>0.974142</td>\n",
       "      <td>0.943548</td>\n",
       "      <td>0.946110</td>\n",
       "    </tr>\n",
       "    <tr>\n",
       "      <th>(region0, 13)</th>\n",
       "      <td>0.923359</td>\n",
       "      <td>0.966460</td>\n",
       "      <td>0.978014</td>\n",
       "      <td>0.964300</td>\n",
       "      <td>0.969725</td>\n",
       "      <td>0.966337</td>\n",
       "      <td>1.000000</td>\n",
       "      <td>0.801668</td>\n",
       "      <td>0.969383</td>\n",
       "      <td>0.939614</td>\n",
       "      <td>...</td>\n",
       "      <td>0.932988</td>\n",
       "      <td>0.972683</td>\n",
       "      <td>0.959024</td>\n",
       "      <td>0.987957</td>\n",
       "      <td>0.913738</td>\n",
       "      <td>0.979261</td>\n",
       "      <td>0.974156</td>\n",
       "      <td>0.984951</td>\n",
       "      <td>0.962132</td>\n",
       "      <td>0.976132</td>\n",
       "    </tr>\n",
       "    <tr>\n",
       "      <th>(region0, 14)</th>\n",
       "      <td>0.696562</td>\n",
       "      <td>0.746363</td>\n",
       "      <td>0.776154</td>\n",
       "      <td>0.752588</td>\n",
       "      <td>0.760376</td>\n",
       "      <td>0.896586</td>\n",
       "      <td>0.801668</td>\n",
       "      <td>1.000000</td>\n",
       "      <td>0.796207</td>\n",
       "      <td>0.724432</td>\n",
       "      <td>...</td>\n",
       "      <td>0.711802</td>\n",
       "      <td>0.748014</td>\n",
       "      <td>0.790523</td>\n",
       "      <td>0.792013</td>\n",
       "      <td>0.920046</td>\n",
       "      <td>0.849785</td>\n",
       "      <td>0.750797</td>\n",
       "      <td>0.790456</td>\n",
       "      <td>0.739949</td>\n",
       "      <td>0.762327</td>\n",
       "    </tr>\n",
       "    <tr>\n",
       "      <th>(region0, 15)</th>\n",
       "      <td>0.864633</td>\n",
       "      <td>0.925007</td>\n",
       "      <td>0.970010</td>\n",
       "      <td>0.884299</td>\n",
       "      <td>0.928736</td>\n",
       "      <td>0.941156</td>\n",
       "      <td>0.969383</td>\n",
       "      <td>0.796207</td>\n",
       "      <td>1.000000</td>\n",
       "      <td>0.894291</td>\n",
       "      <td>...</td>\n",
       "      <td>0.879207</td>\n",
       "      <td>0.943449</td>\n",
       "      <td>0.994190</td>\n",
       "      <td>0.986033</td>\n",
       "      <td>0.949516</td>\n",
       "      <td>0.957838</td>\n",
       "      <td>0.927307</td>\n",
       "      <td>0.949187</td>\n",
       "      <td>0.888242</td>\n",
       "      <td>0.947101</td>\n",
       "    </tr>\n",
       "    <tr>\n",
       "      <th>(region1, 0)</th>\n",
       "      <td>0.978511</td>\n",
       "      <td>0.986391</td>\n",
       "      <td>0.966776</td>\n",
       "      <td>0.935086</td>\n",
       "      <td>0.966018</td>\n",
       "      <td>0.924559</td>\n",
       "      <td>0.939614</td>\n",
       "      <td>0.724432</td>\n",
       "      <td>0.894291</td>\n",
       "      <td>1.000000</td>\n",
       "      <td>...</td>\n",
       "      <td>0.981922</td>\n",
       "      <td>0.875452</td>\n",
       "      <td>0.860218</td>\n",
       "      <td>0.925074</td>\n",
       "      <td>0.807274</td>\n",
       "      <td>0.917107</td>\n",
       "      <td>0.933783</td>\n",
       "      <td>0.955171</td>\n",
       "      <td>0.953938</td>\n",
       "      <td>0.970249</td>\n",
       "    </tr>\n",
       "    <tr>\n",
       "      <th>(region1, 1)</th>\n",
       "      <td>0.885075</td>\n",
       "      <td>0.922851</td>\n",
       "      <td>0.926274</td>\n",
       "      <td>0.939588</td>\n",
       "      <td>0.921104</td>\n",
       "      <td>0.927906</td>\n",
       "      <td>0.929107</td>\n",
       "      <td>0.729407</td>\n",
       "      <td>0.895916</td>\n",
       "      <td>0.914951</td>\n",
       "      <td>...</td>\n",
       "      <td>0.897657</td>\n",
       "      <td>0.893096</td>\n",
       "      <td>0.881001</td>\n",
       "      <td>0.918460</td>\n",
       "      <td>0.843639</td>\n",
       "      <td>0.947241</td>\n",
       "      <td>0.924587</td>\n",
       "      <td>0.936474</td>\n",
       "      <td>0.941987</td>\n",
       "      <td>0.927319</td>\n",
       "    </tr>\n",
       "    <tr>\n",
       "      <th>(region1, 2)</th>\n",
       "      <td>0.826214</td>\n",
       "      <td>0.875731</td>\n",
       "      <td>0.901328</td>\n",
       "      <td>0.908408</td>\n",
       "      <td>0.853322</td>\n",
       "      <td>0.874872</td>\n",
       "      <td>0.908801</td>\n",
       "      <td>0.719762</td>\n",
       "      <td>0.889542</td>\n",
       "      <td>0.857642</td>\n",
       "      <td>...</td>\n",
       "      <td>0.839153</td>\n",
       "      <td>0.882699</td>\n",
       "      <td>0.893062</td>\n",
       "      <td>0.915436</td>\n",
       "      <td>0.842333</td>\n",
       "      <td>0.943965</td>\n",
       "      <td>0.932698</td>\n",
       "      <td>0.887216</td>\n",
       "      <td>0.895285</td>\n",
       "      <td>0.901106</td>\n",
       "    </tr>\n",
       "    <tr>\n",
       "      <th>(region1, 3)</th>\n",
       "      <td>0.802310</td>\n",
       "      <td>0.832910</td>\n",
       "      <td>0.823937</td>\n",
       "      <td>0.904751</td>\n",
       "      <td>0.808304</td>\n",
       "      <td>0.804508</td>\n",
       "      <td>0.845538</td>\n",
       "      <td>0.623789</td>\n",
       "      <td>0.776183</td>\n",
       "      <td>0.818160</td>\n",
       "      <td>...</td>\n",
       "      <td>0.806696</td>\n",
       "      <td>0.812645</td>\n",
       "      <td>0.774163</td>\n",
       "      <td>0.828818</td>\n",
       "      <td>0.709433</td>\n",
       "      <td>0.870307</td>\n",
       "      <td>0.898561</td>\n",
       "      <td>0.834167</td>\n",
       "      <td>0.883519</td>\n",
       "      <td>0.844191</td>\n",
       "    </tr>\n",
       "    <tr>\n",
       "      <th>(region1, 4)</th>\n",
       "      <td>0.834811</td>\n",
       "      <td>0.903019</td>\n",
       "      <td>0.955598</td>\n",
       "      <td>0.874409</td>\n",
       "      <td>0.905181</td>\n",
       "      <td>0.931580</td>\n",
       "      <td>0.954283</td>\n",
       "      <td>0.787880</td>\n",
       "      <td>0.990213</td>\n",
       "      <td>0.876133</td>\n",
       "      <td>...</td>\n",
       "      <td>0.855418</td>\n",
       "      <td>0.929470</td>\n",
       "      <td>0.990808</td>\n",
       "      <td>0.978344</td>\n",
       "      <td>0.952764</td>\n",
       "      <td>0.959544</td>\n",
       "      <td>0.920608</td>\n",
       "      <td>0.933787</td>\n",
       "      <td>0.877277</td>\n",
       "      <td>0.934858</td>\n",
       "    </tr>\n",
       "    <tr>\n",
       "      <th>(region1, 5)</th>\n",
       "      <td>0.938583</td>\n",
       "      <td>0.967124</td>\n",
       "      <td>0.943832</td>\n",
       "      <td>0.978440</td>\n",
       "      <td>0.973936</td>\n",
       "      <td>0.938982</td>\n",
       "      <td>0.953584</td>\n",
       "      <td>0.723554</td>\n",
       "      <td>0.891115</td>\n",
       "      <td>0.960011</td>\n",
       "      <td>...</td>\n",
       "      <td>0.947625</td>\n",
       "      <td>0.897809</td>\n",
       "      <td>0.866574</td>\n",
       "      <td>0.932140</td>\n",
       "      <td>0.810399</td>\n",
       "      <td>0.933611</td>\n",
       "      <td>0.969547</td>\n",
       "      <td>0.977458</td>\n",
       "      <td>0.991916</td>\n",
       "      <td>0.961020</td>\n",
       "    </tr>\n",
       "    <tr>\n",
       "      <th>(region1, 6)</th>\n",
       "      <td>0.914246</td>\n",
       "      <td>0.963929</td>\n",
       "      <td>0.982032</td>\n",
       "      <td>0.952095</td>\n",
       "      <td>0.959437</td>\n",
       "      <td>0.955937</td>\n",
       "      <td>0.982699</td>\n",
       "      <td>0.777865</td>\n",
       "      <td>0.970840</td>\n",
       "      <td>0.946588</td>\n",
       "      <td>...</td>\n",
       "      <td>0.929529</td>\n",
       "      <td>0.941014</td>\n",
       "      <td>0.961191</td>\n",
       "      <td>0.988538</td>\n",
       "      <td>0.907990</td>\n",
       "      <td>0.976305</td>\n",
       "      <td>0.979206</td>\n",
       "      <td>0.978352</td>\n",
       "      <td>0.957706</td>\n",
       "      <td>0.981180</td>\n",
       "    </tr>\n",
       "    <tr>\n",
       "      <th>(region4, 0)</th>\n",
       "      <td>0.995822</td>\n",
       "      <td>0.990120</td>\n",
       "      <td>0.963957</td>\n",
       "      <td>0.937306</td>\n",
       "      <td>0.957616</td>\n",
       "      <td>0.913506</td>\n",
       "      <td>0.932988</td>\n",
       "      <td>0.711802</td>\n",
       "      <td>0.879207</td>\n",
       "      <td>0.981922</td>\n",
       "      <td>...</td>\n",
       "      <td>1.000000</td>\n",
       "      <td>0.862296</td>\n",
       "      <td>0.847535</td>\n",
       "      <td>0.921140</td>\n",
       "      <td>0.792708</td>\n",
       "      <td>0.910834</td>\n",
       "      <td>0.936353</td>\n",
       "      <td>0.946881</td>\n",
       "      <td>0.953099</td>\n",
       "      <td>0.976356</td>\n",
       "    </tr>\n",
       "    <tr>\n",
       "      <th>(region4, 1)</th>\n",
       "      <td>0.850405</td>\n",
       "      <td>0.903414</td>\n",
       "      <td>0.929246</td>\n",
       "      <td>0.921294</td>\n",
       "      <td>0.915083</td>\n",
       "      <td>0.913271</td>\n",
       "      <td>0.972683</td>\n",
       "      <td>0.748014</td>\n",
       "      <td>0.943449</td>\n",
       "      <td>0.875452</td>\n",
       "      <td>...</td>\n",
       "      <td>0.862296</td>\n",
       "      <td>1.000000</td>\n",
       "      <td>0.945711</td>\n",
       "      <td>0.956247</td>\n",
       "      <td>0.886648</td>\n",
       "      <td>0.947344</td>\n",
       "      <td>0.928246</td>\n",
       "      <td>0.940143</td>\n",
       "      <td>0.913506</td>\n",
       "      <td>0.921675</td>\n",
       "    </tr>\n",
       "    <tr>\n",
       "      <th>(region4, 2)</th>\n",
       "      <td>0.828739</td>\n",
       "      <td>0.896950</td>\n",
       "      <td>0.952839</td>\n",
       "      <td>0.868957</td>\n",
       "      <td>0.896915</td>\n",
       "      <td>0.922231</td>\n",
       "      <td>0.959024</td>\n",
       "      <td>0.790523</td>\n",
       "      <td>0.994190</td>\n",
       "      <td>0.860218</td>\n",
       "      <td>...</td>\n",
       "      <td>0.847535</td>\n",
       "      <td>0.945711</td>\n",
       "      <td>1.000000</td>\n",
       "      <td>0.982722</td>\n",
       "      <td>0.955239</td>\n",
       "      <td>0.955154</td>\n",
       "      <td>0.920321</td>\n",
       "      <td>0.927968</td>\n",
       "      <td>0.867443</td>\n",
       "      <td>0.931618</td>\n",
       "    </tr>\n",
       "    <tr>\n",
       "      <th>(region4, 3)</th>\n",
       "      <td>0.904629</td>\n",
       "      <td>0.955497</td>\n",
       "      <td>0.984624</td>\n",
       "      <td>0.934070</td>\n",
       "      <td>0.946690</td>\n",
       "      <td>0.951156</td>\n",
       "      <td>0.987957</td>\n",
       "      <td>0.792013</td>\n",
       "      <td>0.986033</td>\n",
       "      <td>0.925074</td>\n",
       "      <td>...</td>\n",
       "      <td>0.921140</td>\n",
       "      <td>0.956247</td>\n",
       "      <td>0.982722</td>\n",
       "      <td>1.000000</td>\n",
       "      <td>0.931861</td>\n",
       "      <td>0.978226</td>\n",
       "      <td>0.970189</td>\n",
       "      <td>0.969658</td>\n",
       "      <td>0.935951</td>\n",
       "      <td>0.979591</td>\n",
       "    </tr>\n",
       "    <tr>\n",
       "      <th>(region4, 4)</th>\n",
       "      <td>0.769921</td>\n",
       "      <td>0.840473</td>\n",
       "      <td>0.900496</td>\n",
       "      <td>0.822051</td>\n",
       "      <td>0.848358</td>\n",
       "      <td>0.939879</td>\n",
       "      <td>0.913738</td>\n",
       "      <td>0.920046</td>\n",
       "      <td>0.949516</td>\n",
       "      <td>0.807274</td>\n",
       "      <td>...</td>\n",
       "      <td>0.792708</td>\n",
       "      <td>0.886648</td>\n",
       "      <td>0.955239</td>\n",
       "      <td>0.931861</td>\n",
       "      <td>1.000000</td>\n",
       "      <td>0.942710</td>\n",
       "      <td>0.857521</td>\n",
       "      <td>0.885810</td>\n",
       "      <td>0.815598</td>\n",
       "      <td>0.876413</td>\n",
       "    </tr>\n",
       "    <tr>\n",
       "      <th>(region4, 5)</th>\n",
       "      <td>0.894790</td>\n",
       "      <td>0.941887</td>\n",
       "      <td>0.965008</td>\n",
       "      <td>0.950119</td>\n",
       "      <td>0.933246</td>\n",
       "      <td>0.970116</td>\n",
       "      <td>0.979261</td>\n",
       "      <td>0.849785</td>\n",
       "      <td>0.957838</td>\n",
       "      <td>0.917107</td>\n",
       "      <td>...</td>\n",
       "      <td>0.910834</td>\n",
       "      <td>0.947344</td>\n",
       "      <td>0.955154</td>\n",
       "      <td>0.978226</td>\n",
       "      <td>0.942710</td>\n",
       "      <td>1.000000</td>\n",
       "      <td>0.963257</td>\n",
       "      <td>0.961572</td>\n",
       "      <td>0.944776</td>\n",
       "      <td>0.962966</td>\n",
       "    </tr>\n",
       "    <tr>\n",
       "      <th>(region4, 9)</th>\n",
       "      <td>0.925343</td>\n",
       "      <td>0.962480</td>\n",
       "      <td>0.961225</td>\n",
       "      <td>0.979087</td>\n",
       "      <td>0.948926</td>\n",
       "      <td>0.934222</td>\n",
       "      <td>0.974156</td>\n",
       "      <td>0.750797</td>\n",
       "      <td>0.927307</td>\n",
       "      <td>0.933783</td>\n",
       "      <td>...</td>\n",
       "      <td>0.936353</td>\n",
       "      <td>0.928246</td>\n",
       "      <td>0.920321</td>\n",
       "      <td>0.970189</td>\n",
       "      <td>0.857521</td>\n",
       "      <td>0.963257</td>\n",
       "      <td>1.000000</td>\n",
       "      <td>0.968153</td>\n",
       "      <td>0.977088</td>\n",
       "      <td>0.977384</td>\n",
       "    </tr>\n",
       "    <tr>\n",
       "      <th>(region4, 10)</th>\n",
       "      <td>0.937144</td>\n",
       "      <td>0.975058</td>\n",
       "      <td>0.970730</td>\n",
       "      <td>0.965133</td>\n",
       "      <td>0.992436</td>\n",
       "      <td>0.974142</td>\n",
       "      <td>0.984951</td>\n",
       "      <td>0.790456</td>\n",
       "      <td>0.949187</td>\n",
       "      <td>0.955171</td>\n",
       "      <td>...</td>\n",
       "      <td>0.946881</td>\n",
       "      <td>0.940143</td>\n",
       "      <td>0.927968</td>\n",
       "      <td>0.969658</td>\n",
       "      <td>0.885810</td>\n",
       "      <td>0.961572</td>\n",
       "      <td>0.968153</td>\n",
       "      <td>1.000000</td>\n",
       "      <td>0.978759</td>\n",
       "      <td>0.972876</td>\n",
       "    </tr>\n",
       "    <tr>\n",
       "      <th>(region4, 11)</th>\n",
       "      <td>0.945982</td>\n",
       "      <td>0.969428</td>\n",
       "      <td>0.943494</td>\n",
       "      <td>0.990942</td>\n",
       "      <td>0.972390</td>\n",
       "      <td>0.943548</td>\n",
       "      <td>0.962132</td>\n",
       "      <td>0.739949</td>\n",
       "      <td>0.888242</td>\n",
       "      <td>0.953938</td>\n",
       "      <td>...</td>\n",
       "      <td>0.953099</td>\n",
       "      <td>0.913506</td>\n",
       "      <td>0.867443</td>\n",
       "      <td>0.935951</td>\n",
       "      <td>0.815598</td>\n",
       "      <td>0.944776</td>\n",
       "      <td>0.977088</td>\n",
       "      <td>0.978759</td>\n",
       "      <td>1.000000</td>\n",
       "      <td>0.963780</td>\n",
       "    </tr>\n",
       "    <tr>\n",
       "      <th>(region4, 15)</th>\n",
       "      <td>0.963712</td>\n",
       "      <td>0.989752</td>\n",
       "      <td>0.992442</td>\n",
       "      <td>0.956517</td>\n",
       "      <td>0.963562</td>\n",
       "      <td>0.946110</td>\n",
       "      <td>0.976132</td>\n",
       "      <td>0.762327</td>\n",
       "      <td>0.947101</td>\n",
       "      <td>0.970249</td>\n",
       "      <td>...</td>\n",
       "      <td>0.976356</td>\n",
       "      <td>0.921675</td>\n",
       "      <td>0.931618</td>\n",
       "      <td>0.979591</td>\n",
       "      <td>0.876413</td>\n",
       "      <td>0.962966</td>\n",
       "      <td>0.977384</td>\n",
       "      <td>0.972876</td>\n",
       "      <td>0.963780</td>\n",
       "      <td>1.000000</td>\n",
       "    </tr>\n",
       "  </tbody>\n",
       "</table>\n",
       "<p>26 rows × 26 columns</p>\n",
       "</div>"
      ],
      "text/plain": [
       "               (region0, 0)  (region0, 8)  (region0, 9)  (region0, 10)  \\\n",
       "(region0, 0)       1.000000      0.987037      0.953862       0.932723   \n",
       "(region0, 8)       0.987037      1.000000      0.985080       0.957895   \n",
       "(region0, 9)       0.953862      0.985080      1.000000       0.935674   \n",
       "(region0, 10)      0.932723      0.957895      0.935674       1.000000   \n",
       "(region0, 11)      0.954484      0.980283      0.963406       0.953952   \n",
       "(region0, 12)      0.902774      0.944952      0.951537       0.939820   \n",
       "(region0, 13)      0.923359      0.966460      0.978014       0.964300   \n",
       "(region0, 14)      0.696562      0.746363      0.776154       0.752588   \n",
       "(region0, 15)      0.864633      0.925007      0.970010       0.884299   \n",
       "(region1, 0)       0.978511      0.986391      0.966776       0.935086   \n",
       "(region1, 1)       0.885075      0.922851      0.926274       0.939588   \n",
       "(region1, 2)       0.826214      0.875731      0.901328       0.908408   \n",
       "(region1, 3)       0.802310      0.832910      0.823937       0.904751   \n",
       "(region1, 4)       0.834811      0.903019      0.955598       0.874409   \n",
       "(region1, 5)       0.938583      0.967124      0.943832       0.978440   \n",
       "(region1, 6)       0.914246      0.963929      0.982032       0.952095   \n",
       "(region4, 0)       0.995822      0.990120      0.963957       0.937306   \n",
       "(region4, 1)       0.850405      0.903414      0.929246       0.921294   \n",
       "(region4, 2)       0.828739      0.896950      0.952839       0.868957   \n",
       "(region4, 3)       0.904629      0.955497      0.984624       0.934070   \n",
       "(region4, 4)       0.769921      0.840473      0.900496       0.822051   \n",
       "(region4, 5)       0.894790      0.941887      0.965008       0.950119   \n",
       "(region4, 9)       0.925343      0.962480      0.961225       0.979087   \n",
       "(region4, 10)      0.937144      0.975058      0.970730       0.965133   \n",
       "(region4, 11)      0.945982      0.969428      0.943494       0.990942   \n",
       "(region4, 15)      0.963712      0.989752      0.992442       0.956517   \n",
       "\n",
       "               (region0, 11)  (region0, 12)  (region0, 13)  (region0, 14)  \\\n",
       "(region0, 0)        0.954484       0.902774       0.923359       0.696562   \n",
       "(region0, 8)        0.980283       0.944952       0.966460       0.746363   \n",
       "(region0, 9)        0.963406       0.951537       0.978014       0.776154   \n",
       "(region0, 10)       0.953952       0.939820       0.964300       0.752588   \n",
       "(region0, 11)       1.000000       0.961462       0.969725       0.760376   \n",
       "(region0, 12)       0.961462       1.000000       0.966337       0.896586   \n",
       "(region0, 13)       0.969725       0.966337       1.000000       0.801668   \n",
       "(region0, 14)       0.760376       0.896586       0.801668       1.000000   \n",
       "(region0, 15)       0.928736       0.941156       0.969383       0.796207   \n",
       "(region1, 0)        0.966018       0.924559       0.939614       0.724432   \n",
       "(region1, 1)        0.921104       0.927906       0.929107       0.729407   \n",
       "(region1, 2)        0.853322       0.874872       0.908801       0.719762   \n",
       "(region1, 3)        0.808304       0.804508       0.845538       0.623789   \n",
       "(region1, 4)        0.905181       0.931580       0.954283       0.787880   \n",
       "(region1, 5)        0.973936       0.938982       0.953584       0.723554   \n",
       "(region1, 6)        0.959437       0.955937       0.982699       0.777865   \n",
       "(region4, 0)        0.957616       0.913506       0.932988       0.711802   \n",
       "(region4, 1)        0.915083       0.913271       0.972683       0.748014   \n",
       "(region4, 2)        0.896915       0.922231       0.959024       0.790523   \n",
       "(region4, 3)        0.946690       0.951156       0.987957       0.792013   \n",
       "(region4, 4)        0.848358       0.939879       0.913738       0.920046   \n",
       "(region4, 5)        0.933246       0.970116       0.979261       0.849785   \n",
       "(region4, 9)        0.948926       0.934222       0.974156       0.750797   \n",
       "(region4, 10)       0.992436       0.974142       0.984951       0.790456   \n",
       "(region4, 11)       0.972390       0.943548       0.962132       0.739949   \n",
       "(region4, 15)       0.963562       0.946110       0.976132       0.762327   \n",
       "\n",
       "               (region0, 15)  (region1, 0)  ...  (region4, 0)  (region4, 1)  \\\n",
       "(region0, 0)        0.864633      0.978511  ...      0.995822      0.850405   \n",
       "(region0, 8)        0.925007      0.986391  ...      0.990120      0.903414   \n",
       "(region0, 9)        0.970010      0.966776  ...      0.963957      0.929246   \n",
       "(region0, 10)       0.884299      0.935086  ...      0.937306      0.921294   \n",
       "(region0, 11)       0.928736      0.966018  ...      0.957616      0.915083   \n",
       "(region0, 12)       0.941156      0.924559  ...      0.913506      0.913271   \n",
       "(region0, 13)       0.969383      0.939614  ...      0.932988      0.972683   \n",
       "(region0, 14)       0.796207      0.724432  ...      0.711802      0.748014   \n",
       "(region0, 15)       1.000000      0.894291  ...      0.879207      0.943449   \n",
       "(region1, 0)        0.894291      1.000000  ...      0.981922      0.875452   \n",
       "(region1, 1)        0.895916      0.914951  ...      0.897657      0.893096   \n",
       "(region1, 2)        0.889542      0.857642  ...      0.839153      0.882699   \n",
       "(region1, 3)        0.776183      0.818160  ...      0.806696      0.812645   \n",
       "(region1, 4)        0.990213      0.876133  ...      0.855418      0.929470   \n",
       "(region1, 5)        0.891115      0.960011  ...      0.947625      0.897809   \n",
       "(region1, 6)        0.970840      0.946588  ...      0.929529      0.941014   \n",
       "(region4, 0)        0.879207      0.981922  ...      1.000000      0.862296   \n",
       "(region4, 1)        0.943449      0.875452  ...      0.862296      1.000000   \n",
       "(region4, 2)        0.994190      0.860218  ...      0.847535      0.945711   \n",
       "(region4, 3)        0.986033      0.925074  ...      0.921140      0.956247   \n",
       "(region4, 4)        0.949516      0.807274  ...      0.792708      0.886648   \n",
       "(region4, 5)        0.957838      0.917107  ...      0.910834      0.947344   \n",
       "(region4, 9)        0.927307      0.933783  ...      0.936353      0.928246   \n",
       "(region4, 10)       0.949187      0.955171  ...      0.946881      0.940143   \n",
       "(region4, 11)       0.888242      0.953938  ...      0.953099      0.913506   \n",
       "(region4, 15)       0.947101      0.970249  ...      0.976356      0.921675   \n",
       "\n",
       "               (region4, 2)  (region4, 3)  (region4, 4)  (region4, 5)  \\\n",
       "(region0, 0)       0.828739      0.904629      0.769921      0.894790   \n",
       "(region0, 8)       0.896950      0.955497      0.840473      0.941887   \n",
       "(region0, 9)       0.952839      0.984624      0.900496      0.965008   \n",
       "(region0, 10)      0.868957      0.934070      0.822051      0.950119   \n",
       "(region0, 11)      0.896915      0.946690      0.848358      0.933246   \n",
       "(region0, 12)      0.922231      0.951156      0.939879      0.970116   \n",
       "(region0, 13)      0.959024      0.987957      0.913738      0.979261   \n",
       "(region0, 14)      0.790523      0.792013      0.920046      0.849785   \n",
       "(region0, 15)      0.994190      0.986033      0.949516      0.957838   \n",
       "(region1, 0)       0.860218      0.925074      0.807274      0.917107   \n",
       "(region1, 1)       0.881001      0.918460      0.843639      0.947241   \n",
       "(region1, 2)       0.893062      0.915436      0.842333      0.943965   \n",
       "(region1, 3)       0.774163      0.828818      0.709433      0.870307   \n",
       "(region1, 4)       0.990808      0.978344      0.952764      0.959544   \n",
       "(region1, 5)       0.866574      0.932140      0.810399      0.933611   \n",
       "(region1, 6)       0.961191      0.988538      0.907990      0.976305   \n",
       "(region4, 0)       0.847535      0.921140      0.792708      0.910834   \n",
       "(region4, 1)       0.945711      0.956247      0.886648      0.947344   \n",
       "(region4, 2)       1.000000      0.982722      0.955239      0.955154   \n",
       "(region4, 3)       0.982722      1.000000      0.931861      0.978226   \n",
       "(region4, 4)       0.955239      0.931861      1.000000      0.942710   \n",
       "(region4, 5)       0.955154      0.978226      0.942710      1.000000   \n",
       "(region4, 9)       0.920321      0.970189      0.857521      0.963257   \n",
       "(region4, 10)      0.927968      0.969658      0.885810      0.961572   \n",
       "(region4, 11)      0.867443      0.935951      0.815598      0.944776   \n",
       "(region4, 15)      0.931618      0.979591      0.876413      0.962966   \n",
       "\n",
       "               (region4, 9)  (region4, 10)  (region4, 11)  (region4, 15)  \n",
       "(region0, 0)       0.925343       0.937144       0.945982       0.963712  \n",
       "(region0, 8)       0.962480       0.975058       0.969428       0.989752  \n",
       "(region0, 9)       0.961225       0.970730       0.943494       0.992442  \n",
       "(region0, 10)      0.979087       0.965133       0.990942       0.956517  \n",
       "(region0, 11)      0.948926       0.992436       0.972390       0.963562  \n",
       "(region0, 12)      0.934222       0.974142       0.943548       0.946110  \n",
       "(region0, 13)      0.974156       0.984951       0.962132       0.976132  \n",
       "(region0, 14)      0.750797       0.790456       0.739949       0.762327  \n",
       "(region0, 15)      0.927307       0.949187       0.888242       0.947101  \n",
       "(region1, 0)       0.933783       0.955171       0.953938       0.970249  \n",
       "(region1, 1)       0.924587       0.936474       0.941987       0.927319  \n",
       "(region1, 2)       0.932698       0.887216       0.895285       0.901106  \n",
       "(region1, 3)       0.898561       0.834167       0.883519       0.844191  \n",
       "(region1, 4)       0.920608       0.933787       0.877277       0.934858  \n",
       "(region1, 5)       0.969547       0.977458       0.991916       0.961020  \n",
       "(region1, 6)       0.979206       0.978352       0.957706       0.981180  \n",
       "(region4, 0)       0.936353       0.946881       0.953099       0.976356  \n",
       "(region4, 1)       0.928246       0.940143       0.913506       0.921675  \n",
       "(region4, 2)       0.920321       0.927968       0.867443       0.931618  \n",
       "(region4, 3)       0.970189       0.969658       0.935951       0.979591  \n",
       "(region4, 4)       0.857521       0.885810       0.815598       0.876413  \n",
       "(region4, 5)       0.963257       0.961572       0.944776       0.962966  \n",
       "(region4, 9)       1.000000       0.968153       0.977088       0.977384  \n",
       "(region4, 10)      0.968153       1.000000       0.978759       0.972876  \n",
       "(region4, 11)      0.977088       0.978759       1.000000       0.963780  \n",
       "(region4, 15)      0.977384       0.972876       0.963780       1.000000  \n",
       "\n",
       "[26 rows x 26 columns]"
      ]
     },
     "execution_count": 160,
     "metadata": {},
     "output_type": "execute_result"
    }
   ],
   "source": [
    "combSpec.consensus_similarity_matrix"
   ]
  },
  {
   "cell_type": "code",
   "execution_count": 161,
   "metadata": {},
   "outputs": [
    {
     "data": {
      "image/png": "[encoded data removed]",
      "text/plain": [
       "<Figure size 432x288 with 2 Axes>"
      ]
     },
     "metadata": {
      "needs_background": "light"
     },
     "output_type": "display_data"
    }
   ],
   "source": [
    "combSpec.plot_consensus_similarity()"
   ]
  },
  {
   "cell_type": "code",
   "execution_count": 165,
   "metadata": {},
   "outputs": [
    {
     "data": {
      "image/png": "[encoded data removed]",
      "text/plain": [
       "<Figure size 576x576 with 1 Axes>"
      ]
     },
     "metadata": {},
     "output_type": "display_data"
    }
   ],
   "source": [
    "combSpec.cluster_concensus_spectra(number_of_clusters=7)"
   ]
  },
  {
   "cell_type": "code",
   "execution_count": 166,
   "metadata": {},
   "outputs": [
    {
     "data": {
      "text/plain": [
       "{('region0', 0): 1,\n",
       " ('region0', 8): 3,\n",
       " ('region0', 9): 3,\n",
       " ('region0', 10): 3,\n",
       " ('region0', 11): 3,\n",
       " ('region0', 12): 2,\n",
       " ('region0', 13): 2,\n",
       " ('region0', 14): 7,\n",
       " ('region0', 15): 4,\n",
       " ('region1', 0): 1,\n",
       " ('region1', 1): 5,\n",
       " ('region1', 2): 5,\n",
       " ('region1', 3): 6,\n",
       " ('region1', 4): 4,\n",
       " ('region1', 5): 3,\n",
       " ('region1', 6): 2,\n",
       " ('region4', 0): 1,\n",
       " ('region4', 1): 4,\n",
       " ('region4', 2): 4,\n",
       " ('region4', 3): 2,\n",
       " ('region4', 4): 4,\n",
       " ('region4', 5): 2,\n",
       " ('region4', 9): 3,\n",
       " ('region4', 10): 3,\n",
       " ('region4', 11): 3,\n",
       " ('region4', 15): 3}"
      ]
     },
     "execution_count": 166,
     "metadata": {},
     "output_type": "execute_result"
    }
   ],
   "source": [
    "combSpec.region_cluster2cluster"
   ]
  },
  {
   "cell_type": "code",
   "execution_count": 174,
   "metadata": {},
   "outputs": [
    {
     "name": "stdout",
     "output_type": "stream",
     "text": [
      "{1.0: 1, 2.0: 2, 3.0: 3, 4.0: 4, 5.0: 5, 6.0: 6, 7.0: 7}\n",
      "{0: 1, 8: 3, 9: 3, 10: 3, 11: 3, 12: 2, 13: 2, 14: 7, 15: 4}\n",
      "{0: 1, 1: 5, 2: 5, 3: 6, 4: 4, 5: 3, 6: 2}\n",
      "{0: 1, 1: 4, 2: 4, 3: 2, 4: 4, 5: 2, 9: 3, 10: 3, 11: 3, 15: 3}\n"
     ]
    },
    {
     "data": {
      "image/png": "[encoded data removed]",
      "text/plain": [
       "<Figure size 864x864 with 6 Axes>"
      ]
     },
     "metadata": {
      "needs_background": "light"
     },
     "output_type": "display_data"
    }
   ],
   "source": [
    "combSpec.plot_common_segments()"
   ]
  },
  {
   "cell_type": "code",
   "execution_count": null,
   "metadata": {},
   "outputs": [],
   "source": [
    "combSpec.plot_consensus_dendrogram()"
   ]
  },
  {
   "cell_type": "code",
   "execution_count": 156,
   "metadata": {},
   "outputs": [
    {
     "data": {
      "image/png": "[encoded data removed]",
      "text/plain": [
       "<Figure size 432x288 with 2 Axes>"
      ]
     },
     "metadata": {
      "needs_background": "light"
     },
     "output_type": "display_data"
    }
   ],
   "source": [
    "spec4.plot_segments()"
   ]
  },
  {
   "cell_type": "code",
   "execution_count": 82,
   "metadata": {},
   "outputs": [
    {
     "data": {
      "image/png": "[encoded data removed]",
      "text/plain": [
       "<Figure size 432x288 with 2 Axes>"
      ]
     },
     "metadata": {
      "needs_background": "light"
     },
     "output_type": "display_data"
    }
   ],
   "source": [
    "spec1.plot_segments(highlight=(4,5,6))"
   ]
  },
  {
   "cell_type": "code",
   "execution_count": 85,
   "metadata": {},
   "outputs": [
    {
     "data": {
      "image/png": "[encoded data removed]",
      "text/plain": [
       "<Figure size 432x288 with 2 Axes>"
      ]
     },
     "metadata": {
      "needs_background": "light"
     },
     "output_type": "display_data"
    }
   ],
   "source": [
    "spec.plot_segments(highlight=(9,10,11,13,15))"
   ]
  },
  {
   "cell_type": "code",
   "execution_count": 93,
   "metadata": {},
   "outputs": [
    {
     "name": "stderr",
     "output_type": "stream",
     "text": [
      "Found region 4 with shape (49, 56, 17900)\n",
      "I0616 18:41:53.691322 140009190655808 segment.py:2015] Found region 4 with shape (49, 56, 17900)\n"
     ]
    },
    {
     "name": "stdout",
     "output_type": "stream",
     "text": [
      "3454.87441091502 4\n",
      "3456.383544128344 198\n",
      "3457.8926773416683 2539\n",
      "8421.43181596513 1\n",
      "4749.710707947227 1\n",
      "6648.200290309134 1\n"
     ]
    },
    {
     "data": {
      "image/png": "[encoded data removed]",
      "text/plain": [
       "<Figure size 329.143x288 with 2 Axes>"
      ]
     },
     "metadata": {
      "needs_background": "light"
     },
     "output_type": "display_data"
    },
    {
     "name": "stdout",
     "output_type": "stream",
     "text": [
      "2744 0.13044405 0.4520525 0.332828339705184\n"
     ]
    },
    {
     "data": {
      "image/png": "[encoded data removed]",
      "text/plain": [
       "<Figure size 432x288 with 1 Axes>"
      ]
     },
     "metadata": {
      "needs_background": "light"
     },
     "output_type": "display_data"
    },
    {
     "name": "stdout",
     "output_type": "stream",
     "text": [
      "Got spectra (49, 56, 17900)\n",
      "(49, 56, 17900)\n"
     ]
    },
    {
     "name": "stderr",
     "output_type": "stream",
     "text": [
      "2020-06-16 18:41:56,669  SpectraRegion  INFO: Creating C++ obj\n",
      "2020-06-16 18:41:56,669  SpectraRegion  INFO: Creating C++ obj\n",
      "2020-06-16 18:41:56,669  SpectraRegion  INFO: Creating C++ obj\n",
      "2020-06-16 18:41:56,669  SpectraRegion  INFO: Creating C++ obj\n",
      "2020-06-16 18:41:56,669  SpectraRegion  INFO: Creating C++ obj\n",
      "I0616 18:41:56.669112 140009190655808 segment.py:321] Creating C++ obj\n",
      "2020-06-16 18:41:56,674  SpectraRegion  INFO: dimensions 17900\n",
      "2020-06-16 18:41:56,674  SpectraRegion  INFO: dimensions 17900\n",
      "2020-06-16 18:41:56,674  SpectraRegion  INFO: dimensions 17900\n",
      "2020-06-16 18:41:56,674  SpectraRegion  INFO: dimensions 17900\n",
      "2020-06-16 18:41:56,674  SpectraRegion  INFO: dimensions 17900\n",
      "I0616 18:41:56.674998 140009190655808 segment.py:331] dimensions 17900\n",
      "2020-06-16 18:41:56,679  SpectraRegion  INFO: input dimensions (49, 56, 17900)\n",
      "2020-06-16 18:41:56,679  SpectraRegion  INFO: input dimensions (49, 56, 17900)\n",
      "2020-06-16 18:41:56,679  SpectraRegion  INFO: input dimensions (49, 56, 17900)\n",
      "2020-06-16 18:41:56,679  SpectraRegion  INFO: input dimensions (49, 56, 17900)\n",
      "2020-06-16 18:41:56,679  SpectraRegion  INFO: input dimensions (49, 56, 17900)\n",
      "I0616 18:41:56.679769 140009190655808 segment.py:332] input dimensions (49, 56, 17900)\n",
      "2020-06-16 18:41:56,684  SpectraRegion  INFO: Switching to dot mode\n",
      "2020-06-16 18:41:56,684  SpectraRegion  INFO: Switching to dot mode\n",
      "2020-06-16 18:41:56,684  SpectraRegion  INFO: Switching to dot mode\n",
      "2020-06-16 18:41:56,684  SpectraRegion  INFO: Switching to dot mode\n",
      "2020-06-16 18:41:56,684  SpectraRegion  INFO: Switching to dot mode\n",
      "I0616 18:41:56.684544 140009190655808 segment.py:335] Switching to dot mode\n",
      "2020-06-16 18:41:56,690  SpectraRegion  INFO: Starting calc similarity c++\n",
      "2020-06-16 18:41:56,690  SpectraRegion  INFO: Starting calc similarity c++\n",
      "2020-06-16 18:41:56,690  SpectraRegion  INFO: Starting calc similarity c++\n",
      "2020-06-16 18:41:56,690  SpectraRegion  INFO: Starting calc similarity c++\n",
      "2020-06-16 18:41:56,690  SpectraRegion  INFO: Starting calc similarity c++\n",
      "I0616 18:41:56.690519 140009190655808 segment.py:339] Starting calc similarity c++\n",
      "2020-06-16 18:45:14,163  SpectraRegion  INFO: outclust dimensions (2744, 2744)\n",
      "2020-06-16 18:45:14,163  SpectraRegion  INFO: outclust dimensions (2744, 2744)\n",
      "2020-06-16 18:45:14,163  SpectraRegion  INFO: outclust dimensions (2744, 2744)\n",
      "2020-06-16 18:45:14,163  SpectraRegion  INFO: outclust dimensions (2744, 2744)\n",
      "2020-06-16 18:45:14,163  SpectraRegion  INFO: outclust dimensions (2744, 2744)\n",
      "I0616 18:45:14.163947 140009190655808 segment.py:344] outclust dimensions (2744, 2744)\n",
      "2020-06-16 18:45:14,189  SpectraRegion  INFO: Calculating spectra similarity\n",
      "2020-06-16 18:45:14,189  SpectraRegion  INFO: Calculating spectra similarity\n",
      "2020-06-16 18:45:14,189  SpectraRegion  INFO: Calculating spectra similarity\n",
      "2020-06-16 18:45:14,189  SpectraRegion  INFO: Calculating spectra similarity\n",
      "2020-06-16 18:45:14,189  SpectraRegion  INFO: Calculating spectra similarity\n",
      "I0616 18:45:14.189603 140009190655808 segment.py:373] Calculating spectra similarity\n",
      "2020-06-16 18:45:14,256  SpectraRegion  INFO: Calculating spectra similarity done\n",
      "2020-06-16 18:45:14,256  SpectraRegion  INFO: Calculating spectra similarity done\n",
      "2020-06-16 18:45:14,256  SpectraRegion  INFO: Calculating spectra similarity done\n",
      "2020-06-16 18:45:14,256  SpectraRegion  INFO: Calculating spectra similarity done\n",
      "2020-06-16 18:45:14,256  SpectraRegion  INFO: Calculating spectra similarity done\n",
      "I0616 18:45:14.256060 140009190655808 segment.py:377] Calculating spectra similarity done\n",
      "2020-06-16 18:45:14,262  SpectraRegion  INFO: Calculating dist pixel map\n",
      "2020-06-16 18:45:14,262  SpectraRegion  INFO: Calculating dist pixel map\n",
      "2020-06-16 18:45:14,262  SpectraRegion  INFO: Calculating dist pixel map\n",
      "2020-06-16 18:45:14,262  SpectraRegion  INFO: Calculating dist pixel map\n",
      "2020-06-16 18:45:14,262  SpectraRegion  INFO: Calculating dist pixel map\n",
      "I0616 18:45:14.262277 140009190655808 segment.py:384] Calculating dist pixel map\n"
     ]
    },
    {
     "name": "stdout",
     "output_type": "stream",
     "text": [
      "(2744, 2744)\n"
     ]
    },
    {
     "name": "stderr",
     "output_type": "stream",
     "text": [
      "2020-06-16 18:46:15,601  SpectraRegion  INFO: Calculating dist pixel map done\n",
      "2020-06-16 18:46:15,601  SpectraRegion  INFO: Calculating dist pixel map done\n",
      "2020-06-16 18:46:15,601  SpectraRegion  INFO: Calculating dist pixel map done\n",
      "2020-06-16 18:46:15,601  SpectraRegion  INFO: Calculating dist pixel map done\n",
      "2020-06-16 18:46:15,601  SpectraRegion  INFO: Calculating dist pixel map done\n",
      "I0616 18:46:15.601667 140009190655808 segment.py:394] Calculating dist pixel map done\n",
      "2020-06-16 18:46:15,728  SpectraRegion  INFO: Calculating clusters\n",
      "2020-06-16 18:46:15,728  SpectraRegion  INFO: Calculating clusters\n",
      "2020-06-16 18:46:15,728  SpectraRegion  INFO: Calculating clusters\n",
      "2020-06-16 18:46:15,728  SpectraRegion  INFO: Calculating clusters\n",
      "2020-06-16 18:46:15,728  SpectraRegion  INFO: Calculating clusters\n",
      "I0616 18:46:15.728252 140009190655808 segment.py:541] Calculating clusters\n",
      "2020-06-16 18:46:16,098  SpectraRegion  INFO: Calculating clusters done\n",
      "2020-06-16 18:46:16,098  SpectraRegion  INFO: Calculating clusters done\n",
      "2020-06-16 18:46:16,098  SpectraRegion  INFO: Calculating clusters done\n",
      "2020-06-16 18:46:16,098  SpectraRegion  INFO: Calculating clusters done\n",
      "2020-06-16 18:46:16,098  SpectraRegion  INFO: Calculating clusters done\n",
      "I0616 18:46:16.098937 140009190655808 segment.py:556] Calculating clusters done\n",
      "2020-06-16 18:46:16,132  SpectraRegion  INFO: Calculating clusters saved\n",
      "2020-06-16 18:46:16,132  SpectraRegion  INFO: Calculating clusters saved\n",
      "2020-06-16 18:46:16,132  SpectraRegion  INFO: Calculating clusters saved\n",
      "2020-06-16 18:46:16,132  SpectraRegion  INFO: Calculating clusters saved\n",
      "2020-06-16 18:46:16,132  SpectraRegion  INFO: Calculating clusters saved\n",
      "I0616 18:46:16.132668 140009190655808 segment.py:574] Calculating clusters saved\n"
     ]
    },
    {
     "data": {
      "image/png": "[encoded data removed]",
      "text/plain": [
       "<Figure size 432x288 with 2 Axes>"
      ]
     },
     "metadata": {
      "needs_background": "light"
     },
     "output_type": "display_data"
    }
   ],
   "source": [
    "spectra4 = imze.get_region_array(4, makeNullLine=True)\n",
    "imze.normalize_region_array(spectra4, normalize=\"vector\")\n",
    "imze.list_highest_peaks(spectra4, counter=True)\n",
    "print(\"Got spectra\", spectra4.shape)\n",
    "\n",
    "spec4 = SpectraRegion(spectra4, imze.mzValues)\n",
    "spec4.calculate_similarity(mode=\"spectra_log_dist\")\n",
    "spec4.segment(method=\"WARD\", number_of_regions=15)\n",
    "spec4.plot_segments()"
   ]
  },
  {
   "cell_type": "code",
   "execution_count": 92,
   "metadata": {},
   "outputs": [
    {
     "data": {
      "image/png": "[encoded data removed]",
      "text/plain": [
       "<Figure size 329.143x288 with 2 Axes>"
      ]
     },
     "metadata": {
      "needs_background": "light"
     },
     "output_type": "display_data"
    }
   ],
   "source": [
    "imze.plot_toc(spectra4)"
   ]
  },
  {
   "cell_type": "code",
   "execution_count": 157,
   "metadata": {},
   "outputs": [
    {
     "name": "stderr",
     "output_type": "stream",
     "text": [
      "2020-06-17 12:31:58,071  SpectraRegion  INFO: Assigning clusters to background: {6, 7, 8, 12, 13, 14}\n",
      "2020-06-17 12:31:58,071  SpectraRegion  INFO: Assigning clusters to background: {6, 7, 8, 12, 13, 14}\n",
      "2020-06-17 12:31:58,071  SpectraRegion  INFO: Assigning clusters to background: {6, 7, 8, 12, 13, 14}\n",
      "2020-06-17 12:31:58,071  SpectraRegion  INFO: Assigning clusters to background: {6, 7, 8, 12, 13, 14}\n",
      "2020-06-17 12:31:58,071  SpectraRegion  INFO: Assigning clusters to background: {6, 7, 8, 12, 13, 14}\n",
      "I0617 12:31:58.071723 140009190655808 segment.py:755] Assigning clusters to background: {6, 7, 8, 12, 13, 14}\n"
     ]
    },
    {
     "data": {
      "image/png": "[encoded data removed]",
      "text/plain": [
       "<Figure size 432x288 with 2 Axes>"
      ]
     },
     "metadata": {
      "needs_background": "light"
     },
     "output_type": "display_data"
    },
    {
     "name": "stderr",
     "output_type": "stream",
     "text": [
      "2020-06-17 12:31:58,294  SpectraRegion  INFO: Calculating consensus spectra\n",
      "2020-06-17 12:31:58,294  SpectraRegion  INFO: Calculating consensus spectra\n",
      "2020-06-17 12:31:58,294  SpectraRegion  INFO: Calculating consensus spectra\n",
      "2020-06-17 12:31:58,294  SpectraRegion  INFO: Calculating consensus spectra\n",
      "2020-06-17 12:31:58,294  SpectraRegion  INFO: Calculating consensus spectra\n",
      "I0617 12:31:58.294437 140009190655808 segment.py:809] Calculating consensus spectra\n",
      "2020-06-17 12:31:58,390  SpectraRegion  INFO: Calculating consensus spectra done\n",
      "2020-06-17 12:31:58,390  SpectraRegion  INFO: Calculating consensus spectra done\n",
      "2020-06-17 12:31:58,390  SpectraRegion  INFO: Calculating consensus spectra done\n",
      "2020-06-17 12:31:58,390  SpectraRegion  INFO: Calculating consensus spectra done\n",
      "2020-06-17 12:31:58,390  SpectraRegion  INFO: Calculating consensus spectra done\n",
      "I0617 12:31:58.390127 140009190655808 segment.py:821] Calculating consensus spectra done\n"
     ]
    },
    {
     "data": {
      "image/png": "[encoded data removed]",
      "text/plain": [
       "<Figure size 288x288 with 2 Axes>"
      ]
     },
     "metadata": {
      "needs_background": "light"
     },
     "output_type": "display_data"
    },
    {
     "name": "stderr",
     "output_type": "stream",
     "text": [
      "2020-06-17 12:31:58,664  SpectraRegion  INFO: Found clusterLabels [0, 1, 2, 3, 4, 5, 9, 10, 11, 15]\n",
      "2020-06-17 12:31:58,664  SpectraRegion  INFO: Found clusterLabels [0, 1, 2, 3, 4, 5, 9, 10, 11, 15]\n",
      "2020-06-17 12:31:58,664  SpectraRegion  INFO: Found clusterLabels [0, 1, 2, 3, 4, 5, 9, 10, 11, 15]\n",
      "2020-06-17 12:31:58,664  SpectraRegion  INFO: Found clusterLabels [0, 1, 2, 3, 4, 5, 9, 10, 11, 15]\n",
      "2020-06-17 12:31:58,664  SpectraRegion  INFO: Found clusterLabels [0, 1, 2, 3, 4, 5, 9, 10, 11, 15]\n",
      "I0617 12:31:58.664244 140009190655808 segment.py:939] Found clusterLabels [0, 1, 2, 3, 4, 5, 9, 10, 11, 15]\n",
      "2020-06-17 12:31:58,671  SpectraRegion  INFO: Processing clusterLabel 0\n",
      "2020-06-17 12:31:58,671  SpectraRegion  INFO: Processing clusterLabel 0\n",
      "2020-06-17 12:31:58,671  SpectraRegion  INFO: Processing clusterLabel 0\n",
      "2020-06-17 12:31:58,671  SpectraRegion  INFO: Processing clusterLabel 0\n",
      "2020-06-17 12:31:58,671  SpectraRegion  INFO: Processing clusterLabel 0\n",
      "I0617 12:31:58.671232 140009190655808 segment.py:947] Processing clusterLabel 0\n",
      "2020-06-17 12:33:00,667  SpectraRegion  INFO: Processing clusterLabel 1\n",
      "2020-06-17 12:33:00,667  SpectraRegion  INFO: Processing clusterLabel 1\n",
      "2020-06-17 12:33:00,667  SpectraRegion  INFO: Processing clusterLabel 1\n",
      "2020-06-17 12:33:00,667  SpectraRegion  INFO: Processing clusterLabel 1\n",
      "2020-06-17 12:33:00,667  SpectraRegion  INFO: Processing clusterLabel 1\n",
      "I0617 12:33:00.667910 140009190655808 segment.py:947] Processing clusterLabel 1\n",
      "2020-06-17 12:33:00,735  SpectraRegion  INFO: Processing clusterLabel 2\n",
      "2020-06-17 12:33:00,735  SpectraRegion  INFO: Processing clusterLabel 2\n",
      "2020-06-17 12:33:00,735  SpectraRegion  INFO: Processing clusterLabel 2\n",
      "2020-06-17 12:33:00,735  SpectraRegion  INFO: Processing clusterLabel 2\n",
      "2020-06-17 12:33:00,735  SpectraRegion  INFO: Processing clusterLabel 2\n",
      "I0617 12:33:00.735349 140009190655808 segment.py:947] Processing clusterLabel 2\n",
      "2020-06-17 12:33:00,792  SpectraRegion  INFO: Processing clusterLabel 3\n",
      "2020-06-17 12:33:00,792  SpectraRegion  INFO: Processing clusterLabel 3\n",
      "2020-06-17 12:33:00,792  SpectraRegion  INFO: Processing clusterLabel 3\n",
      "2020-06-17 12:33:00,792  SpectraRegion  INFO: Processing clusterLabel 3\n",
      "2020-06-17 12:33:00,792  SpectraRegion  INFO: Processing clusterLabel 3\n",
      "I0617 12:33:00.792608 140009190655808 segment.py:947] Processing clusterLabel 3\n",
      "2020-06-17 12:33:00,987  SpectraRegion  INFO: Processing clusterLabel 4\n",
      "2020-06-17 12:33:00,987  SpectraRegion  INFO: Processing clusterLabel 4\n",
      "2020-06-17 12:33:00,987  SpectraRegion  INFO: Processing clusterLabel 4\n",
      "2020-06-17 12:33:00,987  SpectraRegion  INFO: Processing clusterLabel 4\n",
      "2020-06-17 12:33:00,987  SpectraRegion  INFO: Processing clusterLabel 4\n",
      "I0617 12:33:00.987751 140009190655808 segment.py:947] Processing clusterLabel 4\n",
      "2020-06-17 12:33:01,003  SpectraRegion  INFO: Processing clusterLabel 5\n",
      "2020-06-17 12:33:01,003  SpectraRegion  INFO: Processing clusterLabel 5\n",
      "2020-06-17 12:33:01,003  SpectraRegion  INFO: Processing clusterLabel 5\n",
      "2020-06-17 12:33:01,003  SpectraRegion  INFO: Processing clusterLabel 5\n",
      "2020-06-17 12:33:01,003  SpectraRegion  INFO: Processing clusterLabel 5\n",
      "I0617 12:33:01.003198 140009190655808 segment.py:947] Processing clusterLabel 5\n",
      "2020-06-17 12:33:01,058  SpectraRegion  INFO: Processing clusterLabel 9\n",
      "2020-06-17 12:33:01,058  SpectraRegion  INFO: Processing clusterLabel 9\n",
      "2020-06-17 12:33:01,058  SpectraRegion  INFO: Processing clusterLabel 9\n",
      "2020-06-17 12:33:01,058  SpectraRegion  INFO: Processing clusterLabel 9\n",
      "2020-06-17 12:33:01,058  SpectraRegion  INFO: Processing clusterLabel 9\n",
      "I0617 12:33:01.058458 140009190655808 segment.py:947] Processing clusterLabel 9\n",
      "2020-06-17 12:33:01,131  SpectraRegion  INFO: Processing clusterLabel 10\n",
      "2020-06-17 12:33:01,131  SpectraRegion  INFO: Processing clusterLabel 10\n",
      "2020-06-17 12:33:01,131  SpectraRegion  INFO: Processing clusterLabel 10\n",
      "2020-06-17 12:33:01,131  SpectraRegion  INFO: Processing clusterLabel 10\n",
      "2020-06-17 12:33:01,131  SpectraRegion  INFO: Processing clusterLabel 10\n",
      "I0617 12:33:01.131769 140009190655808 segment.py:947] Processing clusterLabel 10\n",
      "2020-06-17 12:33:01,195  SpectraRegion  INFO: Processing clusterLabel 11\n",
      "2020-06-17 12:33:01,195  SpectraRegion  INFO: Processing clusterLabel 11\n",
      "2020-06-17 12:33:01,195  SpectraRegion  INFO: Processing clusterLabel 11\n",
      "2020-06-17 12:33:01,195  SpectraRegion  INFO: Processing clusterLabel 11\n",
      "2020-06-17 12:33:01,195  SpectraRegion  INFO: Processing clusterLabel 11\n",
      "I0617 12:33:01.195564 140009190655808 segment.py:947] Processing clusterLabel 11\n",
      "2020-06-17 12:33:01,295  SpectraRegion  INFO: Processing clusterLabel 15\n",
      "2020-06-17 12:33:01,295  SpectraRegion  INFO: Processing clusterLabel 15\n",
      "2020-06-17 12:33:01,295  SpectraRegion  INFO: Processing clusterLabel 15\n",
      "2020-06-17 12:33:01,295  SpectraRegion  INFO: Processing clusterLabel 15\n",
      "2020-06-17 12:33:01,295  SpectraRegion  INFO: Processing clusterLabel 15\n",
      "I0617 12:33:01.295776 140009190655808 segment.py:947] Processing clusterLabel 15\n"
     ]
    },
    {
     "data": {
      "image/png": "[encoded data removed]",
      "text/plain": [
       "<Figure size 432x288 with 1 Axes>"
      ]
     },
     "metadata": {
      "needs_background": "light"
     },
     "output_type": "display_data"
    }
   ],
   "source": [
    "spec4.filter_clusters(method='remove_singleton')\n",
    "spec4.filter_clusters(method='merge_background')\n",
    "\n",
    "spec4.filter_clusters(method='remove_islands')\n",
    "spec4.plot_segments()\n",
    "\n",
    "spec4.consensus_spectra()\n",
    "spec4.consensus_similarity()\n",
    "spec4.plot_consensus_similarity()\n",
    "spec4.plot_consensus_similarity(mode=\"spectra\")"
   ]
  },
  {
   "cell_type": "code",
   "execution_count": 89,
   "metadata": {},
   "outputs": [
    {
     "name": "stderr",
     "output_type": "stream",
     "text": [
      "2020-06-16 17:36:12,160  SpectraRegion  INFO: DE data for case: [8]\n",
      "2020-06-16 17:36:12,160  SpectraRegion  INFO: DE data for case: [8]\n",
      "2020-06-16 17:36:12,160  SpectraRegion  INFO: DE data for case: [8]\n",
      "2020-06-16 17:36:12,160  SpectraRegion  INFO: DE data for case: [8]\n",
      "I0616 17:36:12.160453 140009190655808 segment.py:1286] DE data for case: [8]\n",
      "2020-06-16 17:36:12,164  SpectraRegion  INFO: DE data for control: [1, 3, 2, 6, 4, 7, 5]\n",
      "2020-06-16 17:36:12,164  SpectraRegion  INFO: DE data for control: [1, 3, 2, 6, 4, 7, 5]\n",
      "2020-06-16 17:36:12,164  SpectraRegion  INFO: DE data for control: [1, 3, 2, 6, 4, 7, 5]\n",
      "2020-06-16 17:36:12,164  SpectraRegion  INFO: DE data for control: [1, 3, 2, 6, 4, 7, 5]\n",
      "I0616 17:36:12.164853 140009190655808 segment.py:1287] DE data for control: [1, 3, 2, 6, 4, 7, 5]\n",
      "2020-06-16 17:36:12,170  SpectraRegion  INFO: DE result key: ((8,), (1, 2, 3, 4, 5, 6, 7))\n",
      "2020-06-16 17:36:12,170  SpectraRegion  INFO: DE result key: ((8,), (1, 2, 3, 4, 5, 6, 7))\n",
      "2020-06-16 17:36:12,170  SpectraRegion  INFO: DE result key: ((8,), (1, 2, 3, 4, 5, 6, 7))\n",
      "2020-06-16 17:36:12,170  SpectraRegion  INFO: DE result key: ((8,), (1, 2, 3, 4, 5, 6, 7))\n",
      "I0616 17:36:12.170398 140009190655808 segment.py:1291] DE result key: ((8,), (1, 2, 3, 4, 5, 6, 7))\n",
      "2020-06-16 17:36:12,207  SpectraRegion  INFO: Processing cluster: 8\n",
      "2020-06-16 17:36:12,207  SpectraRegion  INFO: Processing cluster: 8\n",
      "2020-06-16 17:36:12,207  SpectraRegion  INFO: Processing cluster: 8\n",
      "2020-06-16 17:36:12,207  SpectraRegion  INFO: Processing cluster: 8\n",
      "I0616 17:36:12.207149 140009190655808 segment.py:1309] Processing cluster: 8\n",
      "2020-06-16 17:36:12,256  SpectraRegion  INFO: Processing cluster: 1\n",
      "2020-06-16 17:36:12,256  SpectraRegion  INFO: Processing cluster: 1\n",
      "2020-06-16 17:36:12,256  SpectraRegion  INFO: Processing cluster: 1\n",
      "2020-06-16 17:36:12,256  SpectraRegion  INFO: Processing cluster: 1\n",
      "I0616 17:36:12.256675 140009190655808 segment.py:1322] Processing cluster: 1\n",
      "2020-06-16 17:36:12,316  SpectraRegion  INFO: Processing cluster: 3\n",
      "2020-06-16 17:36:12,316  SpectraRegion  INFO: Processing cluster: 3\n",
      "2020-06-16 17:36:12,316  SpectraRegion  INFO: Processing cluster: 3\n",
      "2020-06-16 17:36:12,316  SpectraRegion  INFO: Processing cluster: 3\n",
      "I0616 17:36:12.316052 140009190655808 segment.py:1322] Processing cluster: 3\n",
      "2020-06-16 17:36:12,354  SpectraRegion  INFO: Processing cluster: 2\n",
      "2020-06-16 17:36:12,354  SpectraRegion  INFO: Processing cluster: 2\n",
      "2020-06-16 17:36:12,354  SpectraRegion  INFO: Processing cluster: 2\n",
      "2020-06-16 17:36:12,354  SpectraRegion  INFO: Processing cluster: 2\n",
      "I0616 17:36:12.354936 140009190655808 segment.py:1322] Processing cluster: 2\n"
     ]
    },
    {
     "name": "stdout",
     "output_type": "stream",
     "text": [
      "Running [8] against [1, 3, 2, 6, 4, 7, 5]\n"
     ]
    },
    {
     "name": "stderr",
     "output_type": "stream",
     "text": [
      "2020-06-16 17:36:12,397  SpectraRegion  INFO: Processing cluster: 6\n",
      "2020-06-16 17:36:12,397  SpectraRegion  INFO: Processing cluster: 6\n",
      "2020-06-16 17:36:12,397  SpectraRegion  INFO: Processing cluster: 6\n",
      "2020-06-16 17:36:12,397  SpectraRegion  INFO: Processing cluster: 6\n",
      "I0616 17:36:12.397691 140009190655808 segment.py:1322] Processing cluster: 6\n",
      "2020-06-16 17:36:12,476  SpectraRegion  INFO: Processing cluster: 4\n",
      "2020-06-16 17:36:12,476  SpectraRegion  INFO: Processing cluster: 4\n",
      "2020-06-16 17:36:12,476  SpectraRegion  INFO: Processing cluster: 4\n",
      "2020-06-16 17:36:12,476  SpectraRegion  INFO: Processing cluster: 4\n",
      "I0616 17:36:12.476269 140009190655808 segment.py:1322] Processing cluster: 4\n",
      "2020-06-16 17:36:12,524  SpectraRegion  INFO: Processing cluster: 7\n",
      "2020-06-16 17:36:12,524  SpectraRegion  INFO: Processing cluster: 7\n",
      "2020-06-16 17:36:12,524  SpectraRegion  INFO: Processing cluster: 7\n",
      "2020-06-16 17:36:12,524  SpectraRegion  INFO: Processing cluster: 7\n",
      "I0616 17:36:12.524400 140009190655808 segment.py:1322] Processing cluster: 7\n",
      "2020-06-16 17:36:12,565  SpectraRegion  INFO: Processing cluster: 5\n",
      "2020-06-16 17:36:12,565  SpectraRegion  INFO: Processing cluster: 5\n",
      "2020-06-16 17:36:12,565  SpectraRegion  INFO: Processing cluster: 5\n",
      "2020-06-16 17:36:12,565  SpectraRegion  INFO: Processing cluster: 5\n",
      "I0616 17:36:12.565595 140009190655808 segment.py:1322] Processing cluster: 5\n",
      "2020-06-16 17:36:12,585  SpectraRegion  INFO: DE DataFrame ready. Shape (17900, 479)\n",
      "2020-06-16 17:36:12,585  SpectraRegion  INFO: DE DataFrame ready. Shape (17900, 479)\n",
      "2020-06-16 17:36:12,585  SpectraRegion  INFO: DE DataFrame ready. Shape (17900, 479)\n",
      "2020-06-16 17:36:12,585  SpectraRegion  INFO: DE DataFrame ready. Shape (17900, 479)\n",
      "I0616 17:36:12.585029 140009190655808 segment.py:1335] DE DataFrame ready. Shape (17900, 479)\n",
      "2020-06-16 17:36:12,594  SpectraRegion  INFO: DE Sample DataFrame ready. Shape (479, 3)\n",
      "2020-06-16 17:36:12,594  SpectraRegion  INFO: DE Sample DataFrame ready. Shape (479, 3)\n",
      "2020-06-16 17:36:12,594  SpectraRegion  INFO: DE Sample DataFrame ready. Shape (479, 3)\n",
      "2020-06-16 17:36:12,594  SpectraRegion  INFO: DE Sample DataFrame ready. Shape (479, 3)\n",
      "I0616 17:36:12.594686 140009190655808 segment.py:1343] DE Sample DataFrame ready. Shape (479, 3)\n",
      "2020-06-16 17:36:13,816  SpectraRegion  INFO: Starting EMPIRE; Writing Expression Files\n",
      "2020-06-16 17:36:13,816  SpectraRegion  INFO: Starting EMPIRE; Writing Expression Files\n",
      "2020-06-16 17:36:13,816  SpectraRegion  INFO: Starting EMPIRE; Writing Expression Files\n",
      "2020-06-16 17:36:13,816  SpectraRegion  INFO: Starting EMPIRE; Writing Expression Files\n",
      "I0616 17:36:13.816323 140009190655808 segment.py:1359] Starting EMPIRE; Writing Expression Files\n",
      "2020-06-16 17:36:27,478  SpectraRegion  INFO: Starting EMPIRE; Running nlEmpiRe\n",
      "2020-06-16 17:36:27,478  SpectraRegion  INFO: Starting EMPIRE; Running nlEmpiRe\n",
      "2020-06-16 17:36:27,478  SpectraRegion  INFO: Starting EMPIRE; Running nlEmpiRe\n",
      "2020-06-16 17:36:27,478  SpectraRegion  INFO: Starting EMPIRE; Running nlEmpiRe\n",
      "I0616 17:36:27.478211 140009190655808 segment.py:1377] Starting EMPIRE; Running nlEmpiRe\n"
     ]
    },
    {
     "name": "stdout",
     "output_type": "stream",
     "text": [
      "Max condition count (1, 412)\n",
      "/usr/bin/java -Xmx24G -cp /mnt/d/dev/git/pyIMS/src/pySRM/pysrm/../../../tools/nlEmpiRe.jar nlEmpiRe.input.ExpressionSet -getbestsubN 100 -inputdir ./ -cond1 0 -cond2 1 -o .//exprs_ds.txt\n",
      "Cmd returned with exit code 0\n",
      "Writing new Pdata\n",
      "Writing new exprs data\n",
      "/usr/bin/java -Xmx16G -cp /mnt/d/dev/git/pyIMS/src/pySRM/pysrm/../../../tools/nlEmpiRe.jar nlEmpiRe.input.ExpressionSet -inputdir ./ -cond1 0 -cond2 1 -o .//region4.8.1_2_3_4_5_6_7.tsv\n",
      "Cmd returned with exit code 1\n",
      "1\n",
      "Exception in thread \"main\" lmu.utils.FRuntimeException: 1: cannot normalize samples - too many non-overlapping features clustered 50 samples into 2 groups:\n",
      "\tcluster: 1 size: 49 replicates: [cond2.rep1, cond2.rep2, cond2.rep3, cond2.rep4, cond2.rep5, cond2.rep6, cond2.rep7, cond2.rep8, cond2.rep9, cond2.rep10, cond2.rep11, cond2.rep12, cond2.rep13, cond2.rep14, cond2.rep15, cond2.rep16, cond2.rep17, cond2.rep18, cond2.rep19, cond2.rep20, cond2.rep21, cond2.rep22, cond2.rep23, cond2.rep24, cond2.rep25, cond2.rep26, cond2.rep27, cond2.rep28, cond2.rep29, cond2.rep30, cond2.rep31, cond2.rep32, cond2.rep33, cond2.rep34, cond2.rep35, cond2.rep36, cond2.rep37, cond2.rep38, cond2.rep39, cond2.rep40, cond2.rep41, cond2.rep42, cond2.rep43, cond2.rep44, cond2.rep45, cond2.rep46, cond2.rep47, cond2.rep48, cond2.rep49]\n",
      "\tcluster: 2 size: 1 replicates: [cond2.rep50]\n",
      "\n",
      "\tat nlEmpiRe.NormalizedReplicateSet.<init>(NormalizedReplicateSet.java:58)\n",
      "\tat nlEmpiRe.input.ExpressionSet.main(ExpressionSet.java:279)\n",
      "\n",
      "Loading pdata\n",
      "Removing spectra ['cond2.rep50']\n",
      "         sample  condition  batch\n",
      "0    cond1.rep1          0      0\n",
      "1    cond1.rep2          0      0\n",
      "2    cond1.rep3          0      0\n",
      "3    cond1.rep4          0      0\n",
      "4    cond1.rep5          0      0\n",
      "5    cond1.rep6          0      0\n",
      "6    cond1.rep7          0      0\n",
      "7    cond1.rep8          0      0\n",
      "8    cond1.rep9          0      0\n",
      "9   cond1.rep10          0      0\n",
      "10  cond1.rep11          0      0\n",
      "11  cond1.rep12          0      0\n",
      "12  cond1.rep13          0      0\n",
      "13  cond1.rep14          0      0\n",
      "14  cond1.rep15          0      0\n",
      "15  cond1.rep16          0      0\n",
      "16  cond1.rep17          0      0\n",
      "17  cond1.rep18          0      0\n",
      "18  cond1.rep19          0      0\n",
      "19  cond1.rep20          0      0\n",
      "20  cond1.rep21          0      0\n",
      "21  cond1.rep22          0      0\n",
      "22  cond1.rep23          0      0\n",
      "23  cond1.rep24          0      0\n",
      "24  cond1.rep25          0      0\n",
      "25  cond1.rep26          0      0\n",
      "26  cond1.rep27          0      0\n",
      "27  cond1.rep28          0      0\n",
      "28  cond1.rep29          0      0\n",
      "29  cond1.rep30          0      0\n",
      "..          ...        ...    ...\n",
      "69  cond2.rep20          1      0\n",
      "70  cond2.rep21          1      0\n",
      "71  cond2.rep22          1      0\n",
      "72  cond2.rep23          1      0\n",
      "73  cond2.rep24          1      0\n",
      "74  cond2.rep25          1      0\n",
      "75  cond2.rep26          1      0\n",
      "76  cond2.rep27          1      0\n",
      "77  cond2.rep28          1      0\n",
      "78  cond2.rep29          1      0\n",
      "79  cond2.rep30          1      0\n",
      "80  cond2.rep31          1      0\n",
      "81  cond2.rep32          1      0\n",
      "82  cond2.rep33          1      0\n",
      "83  cond2.rep34          1      0\n",
      "84  cond2.rep35          1      0\n",
      "85  cond2.rep36          1      0\n",
      "86  cond2.rep37          1      0\n",
      "87  cond2.rep38          1      0\n",
      "88  cond2.rep39          1      0\n",
      "89  cond2.rep40          1      0\n",
      "90  cond2.rep41          1      0\n",
      "91  cond2.rep42          1      0\n",
      "92  cond2.rep43          1      0\n",
      "93  cond2.rep44          1      0\n",
      "94  cond2.rep45          1      0\n",
      "95  cond2.rep46          1      0\n",
      "96  cond2.rep47          1      0\n",
      "97  cond2.rep48          1      0\n",
      "98  cond2.rep49          1      0\n",
      "\n",
      "[99 rows x 3 columns]\n",
      "/usr/bin/java -Xmx16G -cp /mnt/d/dev/git/pyIMS/src/pySRM/pysrm/../../../tools/nlEmpiRe.jar nlEmpiRe.input.ExpressionSet -inputdir ./ -cond1 0 -cond2 1 -o .//region4.8.1_2_3_4_5_6_7.tsv\n"
     ]
    },
    {
     "name": "stderr",
     "output_type": "stream",
     "text": [
      "2020-06-16 17:39:22,198  SpectraRegion  INFO: Performing DE-test: ttest\n",
      "2020-06-16 17:39:22,198  SpectraRegion  INFO: Performing DE-test: ttest\n",
      "2020-06-16 17:39:22,198  SpectraRegion  INFO: Performing DE-test: ttest\n",
      "2020-06-16 17:39:22,198  SpectraRegion  INFO: Performing DE-test: ttest\n",
      "I0616 17:39:22.198639 140009190655808 segment.py:1395] Performing DE-test: ttest\n"
     ]
    },
    {
     "name": "stdout",
     "output_type": "stream",
     "text": [
      "Cmd returned with exit code 0\n",
      "0\n",
      "EMPIRE output available: .//region4.8.1_2_3_4_5_6_7.tsv\n"
     ]
    },
    {
     "name": "stderr",
     "output_type": "stream",
     "text": [
      "/usr/local/lib/python3.6/dist-packages/anndata/_core/anndata.py:119: ImplicitModificationWarning: Transforming to str index.\n",
      "  warnings.warn(\"Transforming to str index.\", ImplicitModificationWarning)\n",
      "2020-06-16 17:39:22,537  SpectraRegion  INFO: DE-test finished. Results available: ((8,), (1, 2, 3, 4, 5, 6, 7))\n",
      "2020-06-16 17:39:22,537  SpectraRegion  INFO: DE-test finished. Results available: ((8,), (1, 2, 3, 4, 5, 6, 7))\n",
      "2020-06-16 17:39:22,537  SpectraRegion  INFO: DE-test finished. Results available: ((8,), (1, 2, 3, 4, 5, 6, 7))\n",
      "2020-06-16 17:39:22,537  SpectraRegion  INFO: DE-test finished. Results available: ((8,), (1, 2, 3, 4, 5, 6, 7))\n",
      "I0616 17:39:22.537942 140009190655808 segment.py:1420] DE-test finished. Results available: ((8,), (1, 2, 3, 4, 5, 6, 7))\n",
      "2020-06-16 17:39:22,585  SpectraRegion  INFO: DE result for case ((8,), (1, 2, 3, 4, 5, 6, 7)) with (17900, 16) results\n",
      "2020-06-16 17:39:22,585  SpectraRegion  INFO: DE result for case ((8,), (1, 2, 3, 4, 5, 6, 7)) with (17900, 16) results\n",
      "2020-06-16 17:39:22,585  SpectraRegion  INFO: DE result for case ((8,), (1, 2, 3, 4, 5, 6, 7)) with (17900, 16) results\n",
      "2020-06-16 17:39:22,585  SpectraRegion  INFO: DE result for case ((8,), (1, 2, 3, 4, 5, 6, 7)) with (17900, 16) results\n",
      "I0616 17:39:22.585785 140009190655808 segment.py:1023] DE result for case ((8,), (1, 2, 3, 4, 5, 6, 7)) with (17900, 16) results\n",
      "2020-06-16 17:39:22,594  SpectraRegion  INFO: DE result for case ((8,), (1, 2, 3, 4, 5, 6, 7)) with (0, 16) results (filtered)\n",
      "2020-06-16 17:39:22,594  SpectraRegion  INFO: DE result for case ((8,), (1, 2, 3, 4, 5, 6, 7)) with (0, 16) results (filtered)\n",
      "2020-06-16 17:39:22,594  SpectraRegion  INFO: DE result for case ((8,), (1, 2, 3, 4, 5, 6, 7)) with (0, 16) results (filtered)\n",
      "2020-06-16 17:39:22,594  SpectraRegion  INFO: DE result for case ((8,), (1, 2, 3, 4, 5, 6, 7)) with (0, 16) results (filtered)\n",
      "I0616 17:39:22.594130 140009190655808 segment.py:1051] DE result for case ((8,), (1, 2, 3, 4, 5, 6, 7)) with (0, 16) results (filtered)\n",
      "2020-06-16 17:39:22,691  SpectraRegion  INFO: Created matrices with shape (67, 17900) and (412, 17900) (target, bg)\n",
      "2020-06-16 17:39:22,691  SpectraRegion  INFO: Created matrices with shape (67, 17900) and (412, 17900) (target, bg)\n",
      "2020-06-16 17:39:22,691  SpectraRegion  INFO: Created matrices with shape (67, 17900) and (412, 17900) (target, bg)\n",
      "2020-06-16 17:39:22,691  SpectraRegion  INFO: Created matrices with shape (67, 17900) and (412, 17900) (target, bg)\n",
      "I0616 17:39:22.691622 140009190655808 segment.py:1057] Created matrices with shape (67, 17900) and (412, 17900) (target, bg)\n",
      "2020-06-16 17:39:22,718  SpectraRegion  INFO: DE result for case ((8,), (1, 2, 3, 4, 5, 6, 7)) with (17900, 7) results\n",
      "2020-06-16 17:39:22,718  SpectraRegion  INFO: DE result for case ((8,), (1, 2, 3, 4, 5, 6, 7)) with (17900, 7) results\n",
      "2020-06-16 17:39:22,718  SpectraRegion  INFO: DE result for case ((8,), (1, 2, 3, 4, 5, 6, 7)) with (17900, 7) results\n",
      "2020-06-16 17:39:22,718  SpectraRegion  INFO: DE result for case ((8,), (1, 2, 3, 4, 5, 6, 7)) with (17900, 7) results\n",
      "I0616 17:39:22.718396 140009190655808 segment.py:1023] DE result for case ((8,), (1, 2, 3, 4, 5, 6, 7)) with (17900, 7) results\n",
      "2020-06-16 17:39:22,722  SpectraRegion  INFO: DE result logFC inversed\n",
      "2020-06-16 17:39:22,722  SpectraRegion  INFO: DE result logFC inversed\n",
      "2020-06-16 17:39:22,722  SpectraRegion  INFO: DE result logFC inversed\n",
      "2020-06-16 17:39:22,722  SpectraRegion  INFO: DE result logFC inversed\n",
      "I0616 17:39:22.722819 140009190655808 segment.py:1046] DE result logFC inversed\n",
      "2020-06-16 17:39:22,731  SpectraRegion  INFO: DE result for case ((8,), (1, 2, 3, 4, 5, 6, 7)) with (1102, 7) results (filtered)\n",
      "2020-06-16 17:39:22,731  SpectraRegion  INFO: DE result for case ((8,), (1, 2, 3, 4, 5, 6, 7)) with (1102, 7) results (filtered)\n",
      "2020-06-16 17:39:22,731  SpectraRegion  INFO: DE result for case ((8,), (1, 2, 3, 4, 5, 6, 7)) with (1102, 7) results (filtered)\n",
      "2020-06-16 17:39:22,731  SpectraRegion  INFO: DE result for case ((8,), (1, 2, 3, 4, 5, 6, 7)) with (1102, 7) results (filtered)\n",
      "I0616 17:39:22.731984 140009190655808 segment.py:1051] DE result for case ((8,), (1, 2, 3, 4, 5, 6, 7)) with (1102, 7) results (filtered)\n",
      "2020-06-16 17:39:22,820  SpectraRegion  INFO: Created matrices with shape (67, 17900) and (412, 17900) (target, bg)\n",
      "2020-06-16 17:39:22,820  SpectraRegion  INFO: Created matrices with shape (67, 17900) and (412, 17900) (target, bg)\n",
      "2020-06-16 17:39:22,820  SpectraRegion  INFO: Created matrices with shape (67, 17900) and (412, 17900) (target, bg)\n",
      "2020-06-16 17:39:22,820  SpectraRegion  INFO: Created matrices with shape (67, 17900) and (412, 17900) (target, bg)\n",
      "I0616 17:39:22.820712 140009190655808 segment.py:1057] Created matrices with shape (67, 17900) and (412, 17900) (target, bg)\n",
      "2020-06-16 17:39:30,047  SpectraRegion  INFO: DE data for case: [1]\n",
      "2020-06-16 17:39:30,047  SpectraRegion  INFO: DE data for case: [1]\n",
      "2020-06-16 17:39:30,047  SpectraRegion  INFO: DE data for case: [1]\n",
      "2020-06-16 17:39:30,047  SpectraRegion  INFO: DE data for case: [1]\n",
      "I0616 17:39:30.047160 140009190655808 segment.py:1286] DE data for case: [1]\n",
      "2020-06-16 17:39:30,051  SpectraRegion  INFO: DE data for control: [8, 3, 2, 6, 4, 7, 5]\n",
      "2020-06-16 17:39:30,051  SpectraRegion  INFO: DE data for control: [8, 3, 2, 6, 4, 7, 5]\n",
      "2020-06-16 17:39:30,051  SpectraRegion  INFO: DE data for control: [8, 3, 2, 6, 4, 7, 5]\n",
      "2020-06-16 17:39:30,051  SpectraRegion  INFO: DE data for control: [8, 3, 2, 6, 4, 7, 5]\n",
      "I0616 17:39:30.051196 140009190655808 segment.py:1287] DE data for control: [8, 3, 2, 6, 4, 7, 5]\n",
      "2020-06-16 17:39:30,056  SpectraRegion  INFO: DE result key: ((1,), (2, 3, 4, 5, 6, 7, 8))\n",
      "2020-06-16 17:39:30,056  SpectraRegion  INFO: DE result key: ((1,), (2, 3, 4, 5, 6, 7, 8))\n",
      "2020-06-16 17:39:30,056  SpectraRegion  INFO: DE result key: ((1,), (2, 3, 4, 5, 6, 7, 8))\n",
      "2020-06-16 17:39:30,056  SpectraRegion  INFO: DE result key: ((1,), (2, 3, 4, 5, 6, 7, 8))\n",
      "I0616 17:39:30.056909 140009190655808 segment.py:1291] DE result key: ((1,), (2, 3, 4, 5, 6, 7, 8))\n",
      "2020-06-16 17:39:30,087  SpectraRegion  INFO: Processing cluster: 1\n",
      "2020-06-16 17:39:30,087  SpectraRegion  INFO: Processing cluster: 1\n",
      "2020-06-16 17:39:30,087  SpectraRegion  INFO: Processing cluster: 1\n",
      "2020-06-16 17:39:30,087  SpectraRegion  INFO: Processing cluster: 1\n",
      "I0616 17:39:30.087600 140009190655808 segment.py:1309] Processing cluster: 1\n",
      "2020-06-16 17:39:30,143  SpectraRegion  INFO: Processing cluster: 8\n",
      "2020-06-16 17:39:30,143  SpectraRegion  INFO: Processing cluster: 8\n",
      "2020-06-16 17:39:30,143  SpectraRegion  INFO: Processing cluster: 8\n",
      "2020-06-16 17:39:30,143  SpectraRegion  INFO: Processing cluster: 8\n",
      "I0616 17:39:30.143362 140009190655808 segment.py:1322] Processing cluster: 8\n",
      "2020-06-16 17:39:30,185  SpectraRegion  INFO: Processing cluster: 3\n",
      "2020-06-16 17:39:30,185  SpectraRegion  INFO: Processing cluster: 3\n",
      "2020-06-16 17:39:30,185  SpectraRegion  INFO: Processing cluster: 3\n",
      "2020-06-16 17:39:30,185  SpectraRegion  INFO: Processing cluster: 3\n",
      "I0616 17:39:30.185076 140009190655808 segment.py:1322] Processing cluster: 3\n",
      "2020-06-16 17:39:30,234  SpectraRegion  INFO: Processing cluster: 2\n",
      "2020-06-16 17:39:30,234  SpectraRegion  INFO: Processing cluster: 2\n",
      "2020-06-16 17:39:30,234  SpectraRegion  INFO: Processing cluster: 2\n",
      "2020-06-16 17:39:30,234  SpectraRegion  INFO: Processing cluster: 2\n",
      "I0616 17:39:30.234444 140009190655808 segment.py:1322] Processing cluster: 2\n"
     ]
    },
    {
     "name": "stdout",
     "output_type": "stream",
     "text": [
      "Running [1] against [8, 3, 2, 6, 4, 7, 5]\n"
     ]
    },
    {
     "name": "stderr",
     "output_type": "stream",
     "text": [
      "2020-06-16 17:39:30,268  SpectraRegion  INFO: Processing cluster: 6\n",
      "2020-06-16 17:39:30,268  SpectraRegion  INFO: Processing cluster: 6\n",
      "2020-06-16 17:39:30,268  SpectraRegion  INFO: Processing cluster: 6\n",
      "2020-06-16 17:39:30,268  SpectraRegion  INFO: Processing cluster: 6\n",
      "I0616 17:39:30.268500 140009190655808 segment.py:1322] Processing cluster: 6\n",
      "2020-06-16 17:39:30,354  SpectraRegion  INFO: Processing cluster: 4\n",
      "2020-06-16 17:39:30,354  SpectraRegion  INFO: Processing cluster: 4\n",
      "2020-06-16 17:39:30,354  SpectraRegion  INFO: Processing cluster: 4\n",
      "2020-06-16 17:39:30,354  SpectraRegion  INFO: Processing cluster: 4\n",
      "I0616 17:39:30.354397 140009190655808 segment.py:1322] Processing cluster: 4\n",
      "2020-06-16 17:39:30,402  SpectraRegion  INFO: Processing cluster: 7\n",
      "2020-06-16 17:39:30,402  SpectraRegion  INFO: Processing cluster: 7\n",
      "2020-06-16 17:39:30,402  SpectraRegion  INFO: Processing cluster: 7\n",
      "2020-06-16 17:39:30,402  SpectraRegion  INFO: Processing cluster: 7\n",
      "I0616 17:39:30.402422 140009190655808 segment.py:1322] Processing cluster: 7\n",
      "2020-06-16 17:39:30,432  SpectraRegion  INFO: Processing cluster: 5\n",
      "2020-06-16 17:39:30,432  SpectraRegion  INFO: Processing cluster: 5\n",
      "2020-06-16 17:39:30,432  SpectraRegion  INFO: Processing cluster: 5\n",
      "2020-06-16 17:39:30,432  SpectraRegion  INFO: Processing cluster: 5\n",
      "I0616 17:39:30.432888 140009190655808 segment.py:1322] Processing cluster: 5\n",
      "2020-06-16 17:39:30,448  SpectraRegion  INFO: DE DataFrame ready. Shape (17900, 479)\n",
      "2020-06-16 17:39:30,448  SpectraRegion  INFO: DE DataFrame ready. Shape (17900, 479)\n",
      "2020-06-16 17:39:30,448  SpectraRegion  INFO: DE DataFrame ready. Shape (17900, 479)\n",
      "2020-06-16 17:39:30,448  SpectraRegion  INFO: DE DataFrame ready. Shape (17900, 479)\n",
      "I0616 17:39:30.448159 140009190655808 segment.py:1335] DE DataFrame ready. Shape (17900, 479)\n",
      "2020-06-16 17:39:30,455  SpectraRegion  INFO: DE Sample DataFrame ready. Shape (479, 3)\n",
      "2020-06-16 17:39:30,455  SpectraRegion  INFO: DE Sample DataFrame ready. Shape (479, 3)\n",
      "2020-06-16 17:39:30,455  SpectraRegion  INFO: DE Sample DataFrame ready. Shape (479, 3)\n",
      "2020-06-16 17:39:30,455  SpectraRegion  INFO: DE Sample DataFrame ready. Shape (479, 3)\n",
      "I0616 17:39:30.455559 140009190655808 segment.py:1343] DE Sample DataFrame ready. Shape (479, 3)\n",
      "2020-06-16 17:39:31,742  SpectraRegion  INFO: Starting EMPIRE; Writing Expression Files\n",
      "2020-06-16 17:39:31,742  SpectraRegion  INFO: Starting EMPIRE; Writing Expression Files\n",
      "2020-06-16 17:39:31,742  SpectraRegion  INFO: Starting EMPIRE; Writing Expression Files\n",
      "2020-06-16 17:39:31,742  SpectraRegion  INFO: Starting EMPIRE; Writing Expression Files\n",
      "I0616 17:39:31.742790 140009190655808 segment.py:1359] Starting EMPIRE; Writing Expression Files\n",
      "2020-06-16 17:39:45,484  SpectraRegion  INFO: Starting EMPIRE; Running nlEmpiRe\n",
      "2020-06-16 17:39:45,484  SpectraRegion  INFO: Starting EMPIRE; Running nlEmpiRe\n",
      "2020-06-16 17:39:45,484  SpectraRegion  INFO: Starting EMPIRE; Running nlEmpiRe\n",
      "2020-06-16 17:39:45,484  SpectraRegion  INFO: Starting EMPIRE; Running nlEmpiRe\n",
      "I0616 17:39:45.484575 140009190655808 segment.py:1377] Starting EMPIRE; Running nlEmpiRe\n"
     ]
    },
    {
     "name": "stdout",
     "output_type": "stream",
     "text": [
      "Max condition count (1, 389)\n",
      "/usr/bin/java -Xmx24G -cp /mnt/d/dev/git/pyIMS/src/pySRM/pysrm/../../../tools/nlEmpiRe.jar nlEmpiRe.input.ExpressionSet -getbestsubN 100 -inputdir ./ -cond1 0 -cond2 1 -o .//exprs_ds.txt\n",
      "Cmd returned with exit code 0\n",
      "Writing new Pdata\n",
      "Writing new exprs data\n",
      "/usr/bin/java -Xmx16G -cp /mnt/d/dev/git/pyIMS/src/pySRM/pysrm/../../../tools/nlEmpiRe.jar nlEmpiRe.input.ExpressionSet -inputdir ./ -cond1 0 -cond2 1 -o .//region4.1.2_3_4_5_6_7_8.tsv\n",
      "Cmd returned with exit code 1\n",
      "1\n",
      "Exception in thread \"main\" lmu.utils.FRuntimeException: 1: cannot normalize samples - too many non-overlapping features clustered 50 samples into 2 groups:\n",
      "\tcluster: 1 size: 49 replicates: [cond2.rep1, cond2.rep2, cond2.rep3, cond2.rep4, cond2.rep5, cond2.rep6, cond2.rep7, cond2.rep8, cond2.rep9, cond2.rep10, cond2.rep11, cond2.rep12, cond2.rep13, cond2.rep14, cond2.rep15, cond2.rep16, cond2.rep17, cond2.rep18, cond2.rep19, cond2.rep20, cond2.rep21, cond2.rep22, cond2.rep23, cond2.rep24, cond2.rep25, cond2.rep26, cond2.rep27, cond2.rep28, cond2.rep29, cond2.rep30, cond2.rep31, cond2.rep32, cond2.rep33, cond2.rep34, cond2.rep35, cond2.rep36, cond2.rep37, cond2.rep38, cond2.rep39, cond2.rep40, cond2.rep41, cond2.rep42, cond2.rep43, cond2.rep44, cond2.rep45, cond2.rep46, cond2.rep47, cond2.rep48, cond2.rep49]\n",
      "\tcluster: 2 size: 1 replicates: [cond2.rep50]\n",
      "\n",
      "\tat nlEmpiRe.NormalizedReplicateSet.<init>(NormalizedReplicateSet.java:58)\n",
      "\tat nlEmpiRe.input.ExpressionSet.main(ExpressionSet.java:279)\n",
      "\n",
      "Loading pdata\n",
      "Removing spectra ['cond2.rep50']\n",
      "         sample  condition  batch\n",
      "0    cond1.rep1          0      0\n",
      "1    cond1.rep2          0      0\n",
      "2    cond1.rep3          0      0\n",
      "3    cond1.rep4          0      0\n",
      "4    cond1.rep5          0      0\n",
      "5    cond1.rep6          0      0\n",
      "6    cond1.rep7          0      0\n",
      "7    cond1.rep8          0      0\n",
      "8    cond1.rep9          0      0\n",
      "9   cond1.rep10          0      0\n",
      "10  cond1.rep11          0      0\n",
      "11  cond1.rep12          0      0\n",
      "12  cond1.rep13          0      0\n",
      "13  cond1.rep14          0      0\n",
      "14  cond1.rep15          0      0\n",
      "15  cond1.rep16          0      0\n",
      "16  cond1.rep17          0      0\n",
      "17  cond1.rep18          0      0\n",
      "18  cond1.rep19          0      0\n",
      "19  cond1.rep20          0      0\n",
      "20  cond1.rep21          0      0\n",
      "21  cond1.rep22          0      0\n",
      "22  cond1.rep23          0      0\n",
      "23  cond1.rep24          0      0\n",
      "24  cond1.rep25          0      0\n",
      "25  cond1.rep26          0      0\n",
      "26  cond1.rep27          0      0\n",
      "27  cond1.rep28          0      0\n",
      "28  cond1.rep29          0      0\n",
      "29  cond1.rep30          0      0\n",
      "..          ...        ...    ...\n",
      "69  cond2.rep20          1      0\n",
      "70  cond2.rep21          1      0\n",
      "71  cond2.rep22          1      0\n",
      "72  cond2.rep23          1      0\n",
      "73  cond2.rep24          1      0\n",
      "74  cond2.rep25          1      0\n",
      "75  cond2.rep26          1      0\n",
      "76  cond2.rep27          1      0\n",
      "77  cond2.rep28          1      0\n",
      "78  cond2.rep29          1      0\n",
      "79  cond2.rep30          1      0\n",
      "80  cond2.rep31          1      0\n",
      "81  cond2.rep32          1      0\n",
      "82  cond2.rep33          1      0\n",
      "83  cond2.rep34          1      0\n",
      "84  cond2.rep35          1      0\n",
      "85  cond2.rep36          1      0\n",
      "86  cond2.rep37          1      0\n",
      "87  cond2.rep38          1      0\n",
      "88  cond2.rep39          1      0\n",
      "89  cond2.rep40          1      0\n",
      "90  cond2.rep41          1      0\n",
      "91  cond2.rep42          1      0\n",
      "92  cond2.rep43          1      0\n",
      "93  cond2.rep44          1      0\n",
      "94  cond2.rep45          1      0\n",
      "95  cond2.rep46          1      0\n",
      "96  cond2.rep47          1      0\n",
      "97  cond2.rep48          1      0\n",
      "98  cond2.rep49          1      0\n",
      "\n",
      "[99 rows x 3 columns]\n",
      "/usr/bin/java -Xmx16G -cp /mnt/d/dev/git/pyIMS/src/pySRM/pysrm/../../../tools/nlEmpiRe.jar nlEmpiRe.input.ExpressionSet -inputdir ./ -cond1 0 -cond2 1 -o .//region4.1.2_3_4_5_6_7_8.tsv\n"
     ]
    },
    {
     "name": "stderr",
     "output_type": "stream",
     "text": [
      "2020-06-16 17:42:41,317  SpectraRegion  INFO: Performing DE-test: ttest\n",
      "2020-06-16 17:42:41,317  SpectraRegion  INFO: Performing DE-test: ttest\n",
      "2020-06-16 17:42:41,317  SpectraRegion  INFO: Performing DE-test: ttest\n",
      "2020-06-16 17:42:41,317  SpectraRegion  INFO: Performing DE-test: ttest\n",
      "I0616 17:42:41.317260 140009190655808 segment.py:1395] Performing DE-test: ttest\n"
     ]
    },
    {
     "name": "stdout",
     "output_type": "stream",
     "text": [
      "Cmd returned with exit code 0\n",
      "0\n",
      "EMPIRE output available: .//region4.1.2_3_4_5_6_7_8.tsv\n"
     ]
    },
    {
     "name": "stderr",
     "output_type": "stream",
     "text": [
      "2020-06-16 17:42:41,660  SpectraRegion  INFO: DE-test finished. Results available: ((1,), (2, 3, 4, 5, 6, 7, 8))\n",
      "2020-06-16 17:42:41,660  SpectraRegion  INFO: DE-test finished. Results available: ((1,), (2, 3, 4, 5, 6, 7, 8))\n",
      "2020-06-16 17:42:41,660  SpectraRegion  INFO: DE-test finished. Results available: ((1,), (2, 3, 4, 5, 6, 7, 8))\n",
      "2020-06-16 17:42:41,660  SpectraRegion  INFO: DE-test finished. Results available: ((1,), (2, 3, 4, 5, 6, 7, 8))\n",
      "I0616 17:42:41.660825 140009190655808 segment.py:1420] DE-test finished. Results available: ((1,), (2, 3, 4, 5, 6, 7, 8))\n",
      "2020-06-16 17:42:41,709  SpectraRegion  INFO: DE result for case ((1,), (2, 3, 4, 5, 6, 7, 8)) with (17900, 16) results\n",
      "2020-06-16 17:42:41,709  SpectraRegion  INFO: DE result for case ((1,), (2, 3, 4, 5, 6, 7, 8)) with (17900, 16) results\n",
      "2020-06-16 17:42:41,709  SpectraRegion  INFO: DE result for case ((1,), (2, 3, 4, 5, 6, 7, 8)) with (17900, 16) results\n",
      "2020-06-16 17:42:41,709  SpectraRegion  INFO: DE result for case ((1,), (2, 3, 4, 5, 6, 7, 8)) with (17900, 16) results\n",
      "I0616 17:42:41.709277 140009190655808 segment.py:1023] DE result for case ((1,), (2, 3, 4, 5, 6, 7, 8)) with (17900, 16) results\n",
      "2020-06-16 17:42:41,718  SpectraRegion  INFO: DE result for case ((1,), (2, 3, 4, 5, 6, 7, 8)) with (0, 16) results (filtered)\n",
      "2020-06-16 17:42:41,718  SpectraRegion  INFO: DE result for case ((1,), (2, 3, 4, 5, 6, 7, 8)) with (0, 16) results (filtered)\n",
      "2020-06-16 17:42:41,718  SpectraRegion  INFO: DE result for case ((1,), (2, 3, 4, 5, 6, 7, 8)) with (0, 16) results (filtered)\n",
      "2020-06-16 17:42:41,718  SpectraRegion  INFO: DE result for case ((1,), (2, 3, 4, 5, 6, 7, 8)) with (0, 16) results (filtered)\n",
      "I0616 17:42:41.718668 140009190655808 segment.py:1051] DE result for case ((1,), (2, 3, 4, 5, 6, 7, 8)) with (0, 16) results (filtered)\n",
      "2020-06-16 17:42:41,828  SpectraRegion  INFO: Created matrices with shape (90, 17900) and (389, 17900) (target, bg)\n",
      "2020-06-16 17:42:41,828  SpectraRegion  INFO: Created matrices with shape (90, 17900) and (389, 17900) (target, bg)\n",
      "2020-06-16 17:42:41,828  SpectraRegion  INFO: Created matrices with shape (90, 17900) and (389, 17900) (target, bg)\n",
      "2020-06-16 17:42:41,828  SpectraRegion  INFO: Created matrices with shape (90, 17900) and (389, 17900) (target, bg)\n",
      "I0616 17:42:41.828830 140009190655808 segment.py:1057] Created matrices with shape (90, 17900) and (389, 17900) (target, bg)\n",
      "2020-06-16 17:42:41,862  SpectraRegion  INFO: DE result for case ((1,), (2, 3, 4, 5, 6, 7, 8)) with (17900, 7) results\n",
      "2020-06-16 17:42:41,862  SpectraRegion  INFO: DE result for case ((1,), (2, 3, 4, 5, 6, 7, 8)) with (17900, 7) results\n",
      "2020-06-16 17:42:41,862  SpectraRegion  INFO: DE result for case ((1,), (2, 3, 4, 5, 6, 7, 8)) with (17900, 7) results\n",
      "2020-06-16 17:42:41,862  SpectraRegion  INFO: DE result for case ((1,), (2, 3, 4, 5, 6, 7, 8)) with (17900, 7) results\n",
      "I0616 17:42:41.862354 140009190655808 segment.py:1023] DE result for case ((1,), (2, 3, 4, 5, 6, 7, 8)) with (17900, 7) results\n",
      "2020-06-16 17:42:41,867  SpectraRegion  INFO: DE result logFC inversed\n",
      "2020-06-16 17:42:41,867  SpectraRegion  INFO: DE result logFC inversed\n",
      "2020-06-16 17:42:41,867  SpectraRegion  INFO: DE result logFC inversed\n",
      "2020-06-16 17:42:41,867  SpectraRegion  INFO: DE result logFC inversed\n",
      "I0616 17:42:41.867049 140009190655808 segment.py:1046] DE result logFC inversed\n",
      "2020-06-16 17:42:41,876  SpectraRegion  INFO: DE result for case ((1,), (2, 3, 4, 5, 6, 7, 8)) with (135, 7) results (filtered)\n",
      "2020-06-16 17:42:41,876  SpectraRegion  INFO: DE result for case ((1,), (2, 3, 4, 5, 6, 7, 8)) with (135, 7) results (filtered)\n",
      "2020-06-16 17:42:41,876  SpectraRegion  INFO: DE result for case ((1,), (2, 3, 4, 5, 6, 7, 8)) with (135, 7) results (filtered)\n",
      "2020-06-16 17:42:41,876  SpectraRegion  INFO: DE result for case ((1,), (2, 3, 4, 5, 6, 7, 8)) with (135, 7) results (filtered)\n",
      "I0616 17:42:41.876943 140009190655808 segment.py:1051] DE result for case ((1,), (2, 3, 4, 5, 6, 7, 8)) with (135, 7) results (filtered)\n",
      "2020-06-16 17:42:41,977  SpectraRegion  INFO: Created matrices with shape (90, 17900) and (389, 17900) (target, bg)\n",
      "2020-06-16 17:42:41,977  SpectraRegion  INFO: Created matrices with shape (90, 17900) and (389, 17900) (target, bg)\n",
      "2020-06-16 17:42:41,977  SpectraRegion  INFO: Created matrices with shape (90, 17900) and (389, 17900) (target, bg)\n",
      "2020-06-16 17:42:41,977  SpectraRegion  INFO: Created matrices with shape (90, 17900) and (389, 17900) (target, bg)\n",
      "I0616 17:42:41.977985 140009190655808 segment.py:1057] Created matrices with shape (90, 17900) and (389, 17900) (target, bg)\n",
      "2020-06-16 17:42:42,381  SpectraRegion  INFO: DE data for case: [3]\n",
      "2020-06-16 17:42:42,381  SpectraRegion  INFO: DE data for case: [3]\n",
      "2020-06-16 17:42:42,381  SpectraRegion  INFO: DE data for case: [3]\n",
      "2020-06-16 17:42:42,381  SpectraRegion  INFO: DE data for case: [3]\n",
      "I0616 17:42:42.381055 140009190655808 segment.py:1286] DE data for case: [3]\n",
      "2020-06-16 17:42:42,386  SpectraRegion  INFO: DE data for control: [8, 1, 2, 6, 4, 7, 5]\n",
      "2020-06-16 17:42:42,386  SpectraRegion  INFO: DE data for control: [8, 1, 2, 6, 4, 7, 5]\n",
      "2020-06-16 17:42:42,386  SpectraRegion  INFO: DE data for control: [8, 1, 2, 6, 4, 7, 5]\n",
      "2020-06-16 17:42:42,386  SpectraRegion  INFO: DE data for control: [8, 1, 2, 6, 4, 7, 5]\n",
      "I0616 17:42:42.386245 140009190655808 segment.py:1287] DE data for control: [8, 1, 2, 6, 4, 7, 5]\n",
      "2020-06-16 17:42:42,393  SpectraRegion  INFO: DE result key: ((3,), (1, 2, 4, 5, 6, 7, 8))\n",
      "2020-06-16 17:42:42,393  SpectraRegion  INFO: DE result key: ((3,), (1, 2, 4, 5, 6, 7, 8))\n",
      "2020-06-16 17:42:42,393  SpectraRegion  INFO: DE result key: ((3,), (1, 2, 4, 5, 6, 7, 8))\n",
      "2020-06-16 17:42:42,393  SpectraRegion  INFO: DE result key: ((3,), (1, 2, 4, 5, 6, 7, 8))\n",
      "I0616 17:42:42.393104 140009190655808 segment.py:1291] DE result key: ((3,), (1, 2, 4, 5, 6, 7, 8))\n",
      "2020-06-16 17:42:42,428  SpectraRegion  INFO: Processing cluster: 3\n",
      "2020-06-16 17:42:42,428  SpectraRegion  INFO: Processing cluster: 3\n",
      "2020-06-16 17:42:42,428  SpectraRegion  INFO: Processing cluster: 3\n",
      "2020-06-16 17:42:42,428  SpectraRegion  INFO: Processing cluster: 3\n",
      "I0616 17:42:42.428035 140009190655808 segment.py:1309] Processing cluster: 3\n",
      "2020-06-16 17:42:42,470  SpectraRegion  INFO: Processing cluster: 8\n",
      "2020-06-16 17:42:42,470  SpectraRegion  INFO: Processing cluster: 8\n",
      "2020-06-16 17:42:42,470  SpectraRegion  INFO: Processing cluster: 8\n",
      "2020-06-16 17:42:42,470  SpectraRegion  INFO: Processing cluster: 8\n",
      "I0616 17:42:42.470786 140009190655808 segment.py:1322] Processing cluster: 8\n",
      "2020-06-16 17:42:42,523  SpectraRegion  INFO: Processing cluster: 1\n",
      "2020-06-16 17:42:42,523  SpectraRegion  INFO: Processing cluster: 1\n",
      "2020-06-16 17:42:42,523  SpectraRegion  INFO: Processing cluster: 1\n",
      "2020-06-16 17:42:42,523  SpectraRegion  INFO: Processing cluster: 1\n",
      "I0616 17:42:42.523276 140009190655808 segment.py:1322] Processing cluster: 1\n",
      "2020-06-16 17:42:42,581  SpectraRegion  INFO: Processing cluster: 2\n",
      "2020-06-16 17:42:42,581  SpectraRegion  INFO: Processing cluster: 2\n",
      "2020-06-16 17:42:42,581  SpectraRegion  INFO: Processing cluster: 2\n",
      "2020-06-16 17:42:42,581  SpectraRegion  INFO: Processing cluster: 2\n",
      "I0616 17:42:42.581646 140009190655808 segment.py:1322] Processing cluster: 2\n"
     ]
    },
    {
     "name": "stdout",
     "output_type": "stream",
     "text": [
      "Running [3] against [8, 1, 2, 6, 4, 7, 5]\n"
     ]
    },
    {
     "name": "stderr",
     "output_type": "stream",
     "text": [
      "2020-06-16 17:42:42,619  SpectraRegion  INFO: Processing cluster: 6\n",
      "2020-06-16 17:42:42,619  SpectraRegion  INFO: Processing cluster: 6\n",
      "2020-06-16 17:42:42,619  SpectraRegion  INFO: Processing cluster: 6\n",
      "2020-06-16 17:42:42,619  SpectraRegion  INFO: Processing cluster: 6\n",
      "I0616 17:42:42.619877 140009190655808 segment.py:1322] Processing cluster: 6\n",
      "2020-06-16 17:42:42,712  SpectraRegion  INFO: Processing cluster: 4\n",
      "2020-06-16 17:42:42,712  SpectraRegion  INFO: Processing cluster: 4\n",
      "2020-06-16 17:42:42,712  SpectraRegion  INFO: Processing cluster: 4\n",
      "2020-06-16 17:42:42,712  SpectraRegion  INFO: Processing cluster: 4\n",
      "I0616 17:42:42.712499 140009190655808 segment.py:1322] Processing cluster: 4\n",
      "2020-06-16 17:42:42,760  SpectraRegion  INFO: Processing cluster: 7\n",
      "2020-06-16 17:42:42,760  SpectraRegion  INFO: Processing cluster: 7\n",
      "2020-06-16 17:42:42,760  SpectraRegion  INFO: Processing cluster: 7\n",
      "2020-06-16 17:42:42,760  SpectraRegion  INFO: Processing cluster: 7\n",
      "I0616 17:42:42.760409 140009190655808 segment.py:1322] Processing cluster: 7\n",
      "2020-06-16 17:42:42,793  SpectraRegion  INFO: Processing cluster: 5\n",
      "2020-06-16 17:42:42,793  SpectraRegion  INFO: Processing cluster: 5\n",
      "2020-06-16 17:42:42,793  SpectraRegion  INFO: Processing cluster: 5\n",
      "2020-06-16 17:42:42,793  SpectraRegion  INFO: Processing cluster: 5\n",
      "I0616 17:42:42.793078 140009190655808 segment.py:1322] Processing cluster: 5\n",
      "2020-06-16 17:42:42,810  SpectraRegion  INFO: DE DataFrame ready. Shape (17900, 479)\n",
      "2020-06-16 17:42:42,810  SpectraRegion  INFO: DE DataFrame ready. Shape (17900, 479)\n",
      "2020-06-16 17:42:42,810  SpectraRegion  INFO: DE DataFrame ready. Shape (17900, 479)\n",
      "2020-06-16 17:42:42,810  SpectraRegion  INFO: DE DataFrame ready. Shape (17900, 479)\n",
      "I0616 17:42:42.810741 140009190655808 segment.py:1335] DE DataFrame ready. Shape (17900, 479)\n",
      "2020-06-16 17:42:42,817  SpectraRegion  INFO: DE Sample DataFrame ready. Shape (479, 3)\n",
      "2020-06-16 17:42:42,817  SpectraRegion  INFO: DE Sample DataFrame ready. Shape (479, 3)\n",
      "2020-06-16 17:42:42,817  SpectraRegion  INFO: DE Sample DataFrame ready. Shape (479, 3)\n",
      "2020-06-16 17:42:42,817  SpectraRegion  INFO: DE Sample DataFrame ready. Shape (479, 3)\n",
      "I0616 17:42:42.817618 140009190655808 segment.py:1343] DE Sample DataFrame ready. Shape (479, 3)\n",
      "2020-06-16 17:42:43,994  SpectraRegion  INFO: Starting EMPIRE; Writing Expression Files\n",
      "2020-06-16 17:42:43,994  SpectraRegion  INFO: Starting EMPIRE; Writing Expression Files\n",
      "2020-06-16 17:42:43,994  SpectraRegion  INFO: Starting EMPIRE; Writing Expression Files\n",
      "2020-06-16 17:42:43,994  SpectraRegion  INFO: Starting EMPIRE; Writing Expression Files\n",
      "I0616 17:42:43.994529 140009190655808 segment.py:1359] Starting EMPIRE; Writing Expression Files\n",
      "2020-06-16 17:42:57,997  SpectraRegion  INFO: Starting EMPIRE; Running nlEmpiRe\n",
      "2020-06-16 17:42:57,997  SpectraRegion  INFO: Starting EMPIRE; Running nlEmpiRe\n",
      "2020-06-16 17:42:57,997  SpectraRegion  INFO: Starting EMPIRE; Running nlEmpiRe\n",
      "2020-06-16 17:42:57,997  SpectraRegion  INFO: Starting EMPIRE; Running nlEmpiRe\n",
      "I0616 17:42:57.997232 140009190655808 segment.py:1377] Starting EMPIRE; Running nlEmpiRe\n"
     ]
    },
    {
     "name": "stdout",
     "output_type": "stream",
     "text": [
      "Max condition count (1, 429)\n",
      "/usr/bin/java -Xmx24G -cp /mnt/d/dev/git/pyIMS/src/pySRM/pysrm/../../../tools/nlEmpiRe.jar nlEmpiRe.input.ExpressionSet -getbestsubN 100 -inputdir ./ -cond1 0 -cond2 1 -o .//exprs_ds.txt\n",
      "Cmd returned with exit code 0\n",
      "Writing new Pdata\n",
      "Writing new exprs data\n",
      "/usr/bin/java -Xmx16G -cp /mnt/d/dev/git/pyIMS/src/pySRM/pysrm/../../../tools/nlEmpiRe.jar nlEmpiRe.input.ExpressionSet -inputdir ./ -cond1 0 -cond2 1 -o .//region4.3.1_2_4_5_6_7_8.tsv\n",
      "Cmd returned with exit code 1\n",
      "1\n",
      "Exception in thread \"main\" lmu.utils.FRuntimeException: 1: cannot normalize samples - too many non-overlapping features clustered 50 samples into 2 groups:\n",
      "\tcluster: 1 size: 49 replicates: [cond2.rep1, cond2.rep2, cond2.rep3, cond2.rep4, cond2.rep5, cond2.rep6, cond2.rep7, cond2.rep8, cond2.rep9, cond2.rep10, cond2.rep11, cond2.rep12, cond2.rep13, cond2.rep14, cond2.rep15, cond2.rep16, cond2.rep17, cond2.rep18, cond2.rep19, cond2.rep20, cond2.rep21, cond2.rep22, cond2.rep23, cond2.rep24, cond2.rep25, cond2.rep26, cond2.rep27, cond2.rep28, cond2.rep29, cond2.rep30, cond2.rep31, cond2.rep32, cond2.rep33, cond2.rep34, cond2.rep35, cond2.rep36, cond2.rep37, cond2.rep38, cond2.rep39, cond2.rep40, cond2.rep41, cond2.rep42, cond2.rep43, cond2.rep44, cond2.rep45, cond2.rep46, cond2.rep47, cond2.rep48, cond2.rep49]\n",
      "\tcluster: 2 size: 1 replicates: [cond2.rep50]\n",
      "\n",
      "\tat nlEmpiRe.NormalizedReplicateSet.<init>(NormalizedReplicateSet.java:58)\n",
      "\tat nlEmpiRe.input.ExpressionSet.main(ExpressionSet.java:279)\n",
      "\n",
      "Loading pdata\n",
      "Removing spectra ['cond2.rep50']\n",
      "         sample  condition  batch\n",
      "0    cond1.rep1          0      0\n",
      "1    cond1.rep2          0      0\n",
      "2    cond1.rep3          0      0\n",
      "3    cond1.rep4          0      0\n",
      "4    cond1.rep5          0      0\n",
      "5    cond1.rep6          0      0\n",
      "6    cond1.rep7          0      0\n",
      "7    cond1.rep8          0      0\n",
      "8    cond1.rep9          0      0\n",
      "9   cond1.rep10          0      0\n",
      "10  cond1.rep11          0      0\n",
      "11  cond1.rep12          0      0\n",
      "12  cond1.rep13          0      0\n",
      "13  cond1.rep14          0      0\n",
      "14  cond1.rep15          0      0\n",
      "15  cond1.rep16          0      0\n",
      "16  cond1.rep17          0      0\n",
      "17  cond1.rep18          0      0\n",
      "18  cond1.rep19          0      0\n",
      "19  cond1.rep20          0      0\n",
      "20  cond1.rep21          0      0\n",
      "21  cond1.rep22          0      0\n",
      "22  cond1.rep23          0      0\n",
      "23  cond1.rep24          0      0\n",
      "24  cond1.rep25          0      0\n",
      "25  cond1.rep26          0      0\n",
      "26  cond1.rep27          0      0\n",
      "27  cond1.rep28          0      0\n",
      "28  cond1.rep29          0      0\n",
      "29  cond1.rep30          0      0\n",
      "..          ...        ...    ...\n",
      "69  cond2.rep20          1      0\n",
      "70  cond2.rep21          1      0\n",
      "71  cond2.rep22          1      0\n",
      "72  cond2.rep23          1      0\n",
      "73  cond2.rep24          1      0\n",
      "74  cond2.rep25          1      0\n",
      "75  cond2.rep26          1      0\n",
      "76  cond2.rep27          1      0\n",
      "77  cond2.rep28          1      0\n",
      "78  cond2.rep29          1      0\n",
      "79  cond2.rep30          1      0\n",
      "80  cond2.rep31          1      0\n",
      "81  cond2.rep32          1      0\n",
      "82  cond2.rep33          1      0\n",
      "83  cond2.rep34          1      0\n",
      "84  cond2.rep35          1      0\n",
      "85  cond2.rep36          1      0\n",
      "86  cond2.rep37          1      0\n",
      "87  cond2.rep38          1      0\n",
      "88  cond2.rep39          1      0\n",
      "89  cond2.rep40          1      0\n",
      "90  cond2.rep41          1      0\n",
      "91  cond2.rep42          1      0\n",
      "92  cond2.rep43          1      0\n",
      "93  cond2.rep44          1      0\n",
      "94  cond2.rep45          1      0\n",
      "95  cond2.rep46          1      0\n",
      "96  cond2.rep47          1      0\n",
      "97  cond2.rep48          1      0\n",
      "98  cond2.rep49          1      0\n",
      "\n",
      "[99 rows x 3 columns]\n",
      "/usr/bin/java -Xmx16G -cp /mnt/d/dev/git/pyIMS/src/pySRM/pysrm/../../../tools/nlEmpiRe.jar nlEmpiRe.input.ExpressionSet -inputdir ./ -cond1 0 -cond2 1 -o .//region4.3.1_2_4_5_6_7_8.tsv\n"
     ]
    },
    {
     "name": "stderr",
     "output_type": "stream",
     "text": [
      "2020-06-16 17:46:06,905  SpectraRegion  INFO: Performing DE-test: ttest\n",
      "2020-06-16 17:46:06,905  SpectraRegion  INFO: Performing DE-test: ttest\n",
      "2020-06-16 17:46:06,905  SpectraRegion  INFO: Performing DE-test: ttest\n",
      "2020-06-16 17:46:06,905  SpectraRegion  INFO: Performing DE-test: ttest\n",
      "I0616 17:46:06.905243 140009190655808 segment.py:1395] Performing DE-test: ttest\n"
     ]
    },
    {
     "name": "stdout",
     "output_type": "stream",
     "text": [
      "Cmd returned with exit code 0\n",
      "0\n",
      "EMPIRE output available: .//region4.3.1_2_4_5_6_7_8.tsv\n"
     ]
    },
    {
     "name": "stderr",
     "output_type": "stream",
     "text": [
      "2020-06-16 17:46:07,258  SpectraRegion  INFO: DE-test finished. Results available: ((3,), (1, 2, 4, 5, 6, 7, 8))\n",
      "2020-06-16 17:46:07,258  SpectraRegion  INFO: DE-test finished. Results available: ((3,), (1, 2, 4, 5, 6, 7, 8))\n",
      "2020-06-16 17:46:07,258  SpectraRegion  INFO: DE-test finished. Results available: ((3,), (1, 2, 4, 5, 6, 7, 8))\n",
      "2020-06-16 17:46:07,258  SpectraRegion  INFO: DE-test finished. Results available: ((3,), (1, 2, 4, 5, 6, 7, 8))\n",
      "I0616 17:46:07.258728 140009190655808 segment.py:1420] DE-test finished. Results available: ((3,), (1, 2, 4, 5, 6, 7, 8))\n",
      "2020-06-16 17:46:07,311  SpectraRegion  INFO: DE result for case ((3,), (1, 2, 4, 5, 6, 7, 8)) with (17900, 16) results\n",
      "2020-06-16 17:46:07,311  SpectraRegion  INFO: DE result for case ((3,), (1, 2, 4, 5, 6, 7, 8)) with (17900, 16) results\n",
      "2020-06-16 17:46:07,311  SpectraRegion  INFO: DE result for case ((3,), (1, 2, 4, 5, 6, 7, 8)) with (17900, 16) results\n",
      "2020-06-16 17:46:07,311  SpectraRegion  INFO: DE result for case ((3,), (1, 2, 4, 5, 6, 7, 8)) with (17900, 16) results\n",
      "I0616 17:46:07.311138 140009190655808 segment.py:1023] DE result for case ((3,), (1, 2, 4, 5, 6, 7, 8)) with (17900, 16) results\n",
      "2020-06-16 17:46:07,320  SpectraRegion  INFO: DE result for case ((3,), (1, 2, 4, 5, 6, 7, 8)) with (0, 16) results (filtered)\n",
      "2020-06-16 17:46:07,320  SpectraRegion  INFO: DE result for case ((3,), (1, 2, 4, 5, 6, 7, 8)) with (0, 16) results (filtered)\n",
      "2020-06-16 17:46:07,320  SpectraRegion  INFO: DE result for case ((3,), (1, 2, 4, 5, 6, 7, 8)) with (0, 16) results (filtered)\n",
      "2020-06-16 17:46:07,320  SpectraRegion  INFO: DE result for case ((3,), (1, 2, 4, 5, 6, 7, 8)) with (0, 16) results (filtered)\n",
      "I0616 17:46:07.320866 140009190655808 segment.py:1051] DE result for case ((3,), (1, 2, 4, 5, 6, 7, 8)) with (0, 16) results (filtered)\n",
      "2020-06-16 17:46:07,421  SpectraRegion  INFO: Created matrices with shape (50, 17900) and (429, 17900) (target, bg)\n",
      "2020-06-16 17:46:07,421  SpectraRegion  INFO: Created matrices with shape (50, 17900) and (429, 17900) (target, bg)\n",
      "2020-06-16 17:46:07,421  SpectraRegion  INFO: Created matrices with shape (50, 17900) and (429, 17900) (target, bg)\n",
      "2020-06-16 17:46:07,421  SpectraRegion  INFO: Created matrices with shape (50, 17900) and (429, 17900) (target, bg)\n",
      "I0616 17:46:07.421606 140009190655808 segment.py:1057] Created matrices with shape (50, 17900) and (429, 17900) (target, bg)\n",
      "2020-06-16 17:46:07,452  SpectraRegion  INFO: DE result for case ((3,), (1, 2, 4, 5, 6, 7, 8)) with (17900, 7) results\n",
      "2020-06-16 17:46:07,452  SpectraRegion  INFO: DE result for case ((3,), (1, 2, 4, 5, 6, 7, 8)) with (17900, 7) results\n",
      "2020-06-16 17:46:07,452  SpectraRegion  INFO: DE result for case ((3,), (1, 2, 4, 5, 6, 7, 8)) with (17900, 7) results\n",
      "2020-06-16 17:46:07,452  SpectraRegion  INFO: DE result for case ((3,), (1, 2, 4, 5, 6, 7, 8)) with (17900, 7) results\n",
      "I0616 17:46:07.452203 140009190655808 segment.py:1023] DE result for case ((3,), (1, 2, 4, 5, 6, 7, 8)) with (17900, 7) results\n",
      "2020-06-16 17:46:07,456  SpectraRegion  INFO: DE result logFC inversed\n",
      "2020-06-16 17:46:07,456  SpectraRegion  INFO: DE result logFC inversed\n",
      "2020-06-16 17:46:07,456  SpectraRegion  INFO: DE result logFC inversed\n",
      "2020-06-16 17:46:07,456  SpectraRegion  INFO: DE result logFC inversed\n",
      "I0616 17:46:07.456093 140009190655808 segment.py:1046] DE result logFC inversed\n",
      "2020-06-16 17:46:07,466  SpectraRegion  INFO: DE result for case ((3,), (1, 2, 4, 5, 6, 7, 8)) with (1049, 7) results (filtered)\n",
      "2020-06-16 17:46:07,466  SpectraRegion  INFO: DE result for case ((3,), (1, 2, 4, 5, 6, 7, 8)) with (1049, 7) results (filtered)\n",
      "2020-06-16 17:46:07,466  SpectraRegion  INFO: DE result for case ((3,), (1, 2, 4, 5, 6, 7, 8)) with (1049, 7) results (filtered)\n",
      "2020-06-16 17:46:07,466  SpectraRegion  INFO: DE result for case ((3,), (1, 2, 4, 5, 6, 7, 8)) with (1049, 7) results (filtered)\n",
      "I0616 17:46:07.466113 140009190655808 segment.py:1051] DE result for case ((3,), (1, 2, 4, 5, 6, 7, 8)) with (1049, 7) results (filtered)\n",
      "2020-06-16 17:46:07,564  SpectraRegion  INFO: Created matrices with shape (50, 17900) and (429, 17900) (target, bg)\n",
      "2020-06-16 17:46:07,564  SpectraRegion  INFO: Created matrices with shape (50, 17900) and (429, 17900) (target, bg)\n",
      "2020-06-16 17:46:07,564  SpectraRegion  INFO: Created matrices with shape (50, 17900) and (429, 17900) (target, bg)\n",
      "2020-06-16 17:46:07,564  SpectraRegion  INFO: Created matrices with shape (50, 17900) and (429, 17900) (target, bg)\n",
      "I0616 17:46:07.564481 140009190655808 segment.py:1057] Created matrices with shape (50, 17900) and (429, 17900) (target, bg)\n",
      "2020-06-16 17:46:12,599  SpectraRegion  INFO: DE data for case: [2]\n",
      "2020-06-16 17:46:12,599  SpectraRegion  INFO: DE data for case: [2]\n",
      "2020-06-16 17:46:12,599  SpectraRegion  INFO: DE data for case: [2]\n",
      "2020-06-16 17:46:12,599  SpectraRegion  INFO: DE data for case: [2]\n",
      "I0616 17:46:12.599079 140009190655808 segment.py:1286] DE data for case: [2]\n",
      "2020-06-16 17:46:12,603  SpectraRegion  INFO: DE data for control: [8, 1, 3, 6, 4, 7, 5]\n",
      "2020-06-16 17:46:12,603  SpectraRegion  INFO: DE data for control: [8, 1, 3, 6, 4, 7, 5]\n",
      "2020-06-16 17:46:12,603  SpectraRegion  INFO: DE data for control: [8, 1, 3, 6, 4, 7, 5]\n",
      "2020-06-16 17:46:12,603  SpectraRegion  INFO: DE data for control: [8, 1, 3, 6, 4, 7, 5]\n",
      "I0616 17:46:12.603460 140009190655808 segment.py:1287] DE data for control: [8, 1, 3, 6, 4, 7, 5]\n",
      "2020-06-16 17:46:12,609  SpectraRegion  INFO: DE result key: ((2,), (1, 3, 4, 5, 6, 7, 8))\n",
      "2020-06-16 17:46:12,609  SpectraRegion  INFO: DE result key: ((2,), (1, 3, 4, 5, 6, 7, 8))\n",
      "2020-06-16 17:46:12,609  SpectraRegion  INFO: DE result key: ((2,), (1, 3, 4, 5, 6, 7, 8))\n",
      "2020-06-16 17:46:12,609  SpectraRegion  INFO: DE result key: ((2,), (1, 3, 4, 5, 6, 7, 8))\n",
      "I0616 17:46:12.609890 140009190655808 segment.py:1291] DE result key: ((2,), (1, 3, 4, 5, 6, 7, 8))\n",
      "2020-06-16 17:46:12,643  SpectraRegion  INFO: Processing cluster: 2\n",
      "2020-06-16 17:46:12,643  SpectraRegion  INFO: Processing cluster: 2\n",
      "2020-06-16 17:46:12,643  SpectraRegion  INFO: Processing cluster: 2\n",
      "2020-06-16 17:46:12,643  SpectraRegion  INFO: Processing cluster: 2\n",
      "I0616 17:46:12.643753 140009190655808 segment.py:1309] Processing cluster: 2\n",
      "2020-06-16 17:46:12,679  SpectraRegion  INFO: Processing cluster: 8\n",
      "2020-06-16 17:46:12,679  SpectraRegion  INFO: Processing cluster: 8\n",
      "2020-06-16 17:46:12,679  SpectraRegion  INFO: Processing cluster: 8\n",
      "2020-06-16 17:46:12,679  SpectraRegion  INFO: Processing cluster: 8\n",
      "I0616 17:46:12.679505 140009190655808 segment.py:1322] Processing cluster: 8\n",
      "2020-06-16 17:46:12,731  SpectraRegion  INFO: Processing cluster: 1\n",
      "2020-06-16 17:46:12,731  SpectraRegion  INFO: Processing cluster: 1\n",
      "2020-06-16 17:46:12,731  SpectraRegion  INFO: Processing cluster: 1\n",
      "2020-06-16 17:46:12,731  SpectraRegion  INFO: Processing cluster: 1\n",
      "I0616 17:46:12.731971 140009190655808 segment.py:1322] Processing cluster: 1\n",
      "2020-06-16 17:46:12,800  SpectraRegion  INFO: Processing cluster: 3\n",
      "2020-06-16 17:46:12,800  SpectraRegion  INFO: Processing cluster: 3\n",
      "2020-06-16 17:46:12,800  SpectraRegion  INFO: Processing cluster: 3\n",
      "2020-06-16 17:46:12,800  SpectraRegion  INFO: Processing cluster: 3\n",
      "I0616 17:46:12.800545 140009190655808 segment.py:1322] Processing cluster: 3\n"
     ]
    },
    {
     "name": "stdout",
     "output_type": "stream",
     "text": [
      "Running [2] against [8, 1, 3, 6, 4, 7, 5]\n"
     ]
    },
    {
     "name": "stderr",
     "output_type": "stream",
     "text": [
      "2020-06-16 17:46:12,836  SpectraRegion  INFO: Processing cluster: 6\n",
      "2020-06-16 17:46:12,836  SpectraRegion  INFO: Processing cluster: 6\n",
      "2020-06-16 17:46:12,836  SpectraRegion  INFO: Processing cluster: 6\n",
      "2020-06-16 17:46:12,836  SpectraRegion  INFO: Processing cluster: 6\n",
      "I0616 17:46:12.836100 140009190655808 segment.py:1322] Processing cluster: 6\n",
      "2020-06-16 17:46:12,924  SpectraRegion  INFO: Processing cluster: 4\n",
      "2020-06-16 17:46:12,924  SpectraRegion  INFO: Processing cluster: 4\n",
      "2020-06-16 17:46:12,924  SpectraRegion  INFO: Processing cluster: 4\n",
      "2020-06-16 17:46:12,924  SpectraRegion  INFO: Processing cluster: 4\n",
      "I0616 17:46:12.924554 140009190655808 segment.py:1322] Processing cluster: 4\n",
      "2020-06-16 17:46:12,969  SpectraRegion  INFO: Processing cluster: 7\n",
      "2020-06-16 17:46:12,969  SpectraRegion  INFO: Processing cluster: 7\n",
      "2020-06-16 17:46:12,969  SpectraRegion  INFO: Processing cluster: 7\n",
      "2020-06-16 17:46:12,969  SpectraRegion  INFO: Processing cluster: 7\n",
      "I0616 17:46:12.969351 140009190655808 segment.py:1322] Processing cluster: 7\n",
      "2020-06-16 17:46:13,003  SpectraRegion  INFO: Processing cluster: 5\n",
      "2020-06-16 17:46:13,003  SpectraRegion  INFO: Processing cluster: 5\n",
      "2020-06-16 17:46:13,003  SpectraRegion  INFO: Processing cluster: 5\n",
      "2020-06-16 17:46:13,003  SpectraRegion  INFO: Processing cluster: 5\n",
      "I0616 17:46:13.003232 140009190655808 segment.py:1322] Processing cluster: 5\n",
      "2020-06-16 17:46:13,022  SpectraRegion  INFO: DE DataFrame ready. Shape (17900, 479)\n",
      "2020-06-16 17:46:13,022  SpectraRegion  INFO: DE DataFrame ready. Shape (17900, 479)\n",
      "2020-06-16 17:46:13,022  SpectraRegion  INFO: DE DataFrame ready. Shape (17900, 479)\n",
      "2020-06-16 17:46:13,022  SpectraRegion  INFO: DE DataFrame ready. Shape (17900, 479)\n",
      "I0616 17:46:13.022710 140009190655808 segment.py:1335] DE DataFrame ready. Shape (17900, 479)\n",
      "2020-06-16 17:46:13,033  SpectraRegion  INFO: DE Sample DataFrame ready. Shape (479, 3)\n",
      "2020-06-16 17:46:13,033  SpectraRegion  INFO: DE Sample DataFrame ready. Shape (479, 3)\n",
      "2020-06-16 17:46:13,033  SpectraRegion  INFO: DE Sample DataFrame ready. Shape (479, 3)\n",
      "2020-06-16 17:46:13,033  SpectraRegion  INFO: DE Sample DataFrame ready. Shape (479, 3)\n",
      "I0616 17:46:13.033164 140009190655808 segment.py:1343] DE Sample DataFrame ready. Shape (479, 3)\n",
      "2020-06-16 17:46:14,229  SpectraRegion  INFO: Starting EMPIRE; Writing Expression Files\n",
      "2020-06-16 17:46:14,229  SpectraRegion  INFO: Starting EMPIRE; Writing Expression Files\n",
      "2020-06-16 17:46:14,229  SpectraRegion  INFO: Starting EMPIRE; Writing Expression Files\n",
      "2020-06-16 17:46:14,229  SpectraRegion  INFO: Starting EMPIRE; Writing Expression Files\n",
      "I0616 17:46:14.229259 140009190655808 segment.py:1359] Starting EMPIRE; Writing Expression Files\n",
      "2020-06-16 17:46:28,289  SpectraRegion  INFO: Starting EMPIRE; Running nlEmpiRe\n",
      "2020-06-16 17:46:28,289  SpectraRegion  INFO: Starting EMPIRE; Running nlEmpiRe\n",
      "2020-06-16 17:46:28,289  SpectraRegion  INFO: Starting EMPIRE; Running nlEmpiRe\n",
      "2020-06-16 17:46:28,289  SpectraRegion  INFO: Starting EMPIRE; Running nlEmpiRe\n",
      "I0616 17:46:28.289177 140009190655808 segment.py:1377] Starting EMPIRE; Running nlEmpiRe\n"
     ]
    },
    {
     "name": "stdout",
     "output_type": "stream",
     "text": [
      "Max condition count (1, 429)\n",
      "/usr/bin/java -Xmx24G -cp /mnt/d/dev/git/pyIMS/src/pySRM/pysrm/../../../tools/nlEmpiRe.jar nlEmpiRe.input.ExpressionSet -getbestsubN 100 -inputdir ./ -cond1 0 -cond2 1 -o .//exprs_ds.txt\n",
      "Cmd returned with exit code 0\n",
      "Writing new Pdata\n",
      "Writing new exprs data\n",
      "/usr/bin/java -Xmx16G -cp /mnt/d/dev/git/pyIMS/src/pySRM/pysrm/../../../tools/nlEmpiRe.jar nlEmpiRe.input.ExpressionSet -inputdir ./ -cond1 0 -cond2 1 -o .//region4.2.1_3_4_5_6_7_8.tsv\n",
      "Cmd returned with exit code 1\n",
      "1\n",
      "Exception in thread \"main\" lmu.utils.FRuntimeException: 1: cannot normalize samples - too many non-overlapping features clustered 50 samples into 2 groups:\n",
      "\tcluster: 1 size: 49 replicates: [cond2.rep1, cond2.rep2, cond2.rep3, cond2.rep4, cond2.rep5, cond2.rep6, cond2.rep7, cond2.rep8, cond2.rep9, cond2.rep10, cond2.rep11, cond2.rep12, cond2.rep13, cond2.rep14, cond2.rep15, cond2.rep16, cond2.rep17, cond2.rep18, cond2.rep19, cond2.rep20, cond2.rep21, cond2.rep22, cond2.rep23, cond2.rep24, cond2.rep25, cond2.rep26, cond2.rep27, cond2.rep28, cond2.rep29, cond2.rep30, cond2.rep31, cond2.rep32, cond2.rep33, cond2.rep34, cond2.rep35, cond2.rep36, cond2.rep37, cond2.rep38, cond2.rep39, cond2.rep40, cond2.rep41, cond2.rep42, cond2.rep43, cond2.rep44, cond2.rep45, cond2.rep46, cond2.rep47, cond2.rep48, cond2.rep49]\n",
      "\tcluster: 2 size: 1 replicates: [cond2.rep50]\n",
      "\n",
      "\tat nlEmpiRe.NormalizedReplicateSet.<init>(NormalizedReplicateSet.java:58)\n",
      "\tat nlEmpiRe.input.ExpressionSet.main(ExpressionSet.java:279)\n",
      "\n",
      "Loading pdata\n",
      "Removing spectra ['cond2.rep50']\n",
      "         sample  condition  batch\n",
      "0    cond1.rep1          0      0\n",
      "1    cond1.rep2          0      0\n",
      "2    cond1.rep3          0      0\n",
      "3    cond1.rep4          0      0\n",
      "4    cond1.rep5          0      0\n",
      "5    cond1.rep6          0      0\n",
      "6    cond1.rep7          0      0\n",
      "7    cond1.rep8          0      0\n",
      "8    cond1.rep9          0      0\n",
      "9   cond1.rep10          0      0\n",
      "10  cond1.rep11          0      0\n",
      "11  cond1.rep12          0      0\n",
      "12  cond1.rep13          0      0\n",
      "13  cond1.rep14          0      0\n",
      "14  cond1.rep15          0      0\n",
      "15  cond1.rep16          0      0\n",
      "16  cond1.rep17          0      0\n",
      "17  cond1.rep18          0      0\n",
      "18  cond1.rep19          0      0\n",
      "19  cond1.rep20          0      0\n",
      "20  cond1.rep21          0      0\n",
      "21  cond1.rep22          0      0\n",
      "22  cond1.rep23          0      0\n",
      "23  cond1.rep24          0      0\n",
      "24  cond1.rep25          0      0\n",
      "25  cond1.rep26          0      0\n",
      "26  cond1.rep27          0      0\n",
      "27  cond1.rep28          0      0\n",
      "28  cond1.rep29          0      0\n",
      "29  cond1.rep30          0      0\n",
      "..          ...        ...    ...\n",
      "69  cond2.rep20          1      0\n",
      "70  cond2.rep21          1      0\n",
      "71  cond2.rep22          1      0\n",
      "72  cond2.rep23          1      0\n",
      "73  cond2.rep24          1      0\n",
      "74  cond2.rep25          1      0\n",
      "75  cond2.rep26          1      0\n",
      "76  cond2.rep27          1      0\n",
      "77  cond2.rep28          1      0\n",
      "78  cond2.rep29          1      0\n",
      "79  cond2.rep30          1      0\n",
      "80  cond2.rep31          1      0\n",
      "81  cond2.rep32          1      0\n",
      "82  cond2.rep33          1      0\n",
      "83  cond2.rep34          1      0\n",
      "84  cond2.rep35          1      0\n",
      "85  cond2.rep36          1      0\n",
      "86  cond2.rep37          1      0\n",
      "87  cond2.rep38          1      0\n",
      "88  cond2.rep39          1      0\n",
      "89  cond2.rep40          1      0\n",
      "90  cond2.rep41          1      0\n",
      "91  cond2.rep42          1      0\n",
      "92  cond2.rep43          1      0\n",
      "93  cond2.rep44          1      0\n",
      "94  cond2.rep45          1      0\n",
      "95  cond2.rep46          1      0\n",
      "96  cond2.rep47          1      0\n",
      "97  cond2.rep48          1      0\n",
      "98  cond2.rep49          1      0\n",
      "\n",
      "[99 rows x 3 columns]\n",
      "/usr/bin/java -Xmx16G -cp /mnt/d/dev/git/pyIMS/src/pySRM/pysrm/../../../tools/nlEmpiRe.jar nlEmpiRe.input.ExpressionSet -inputdir ./ -cond1 0 -cond2 1 -o .//region4.2.1_3_4_5_6_7_8.tsv\n"
     ]
    },
    {
     "name": "stderr",
     "output_type": "stream",
     "text": [
      "2020-06-16 17:49:14,156  SpectraRegion  INFO: Performing DE-test: ttest\n",
      "2020-06-16 17:49:14,156  SpectraRegion  INFO: Performing DE-test: ttest\n",
      "2020-06-16 17:49:14,156  SpectraRegion  INFO: Performing DE-test: ttest\n",
      "2020-06-16 17:49:14,156  SpectraRegion  INFO: Performing DE-test: ttest\n",
      "I0616 17:49:14.156417 140009190655808 segment.py:1395] Performing DE-test: ttest\n"
     ]
    },
    {
     "name": "stdout",
     "output_type": "stream",
     "text": [
      "Cmd returned with exit code 0\n",
      "0\n",
      "EMPIRE output available: .//region4.2.1_3_4_5_6_7_8.tsv\n"
     ]
    },
    {
     "name": "stderr",
     "output_type": "stream",
     "text": [
      "2020-06-16 17:49:14,510  SpectraRegion  INFO: DE-test finished. Results available: ((2,), (1, 3, 4, 5, 6, 7, 8))\n",
      "2020-06-16 17:49:14,510  SpectraRegion  INFO: DE-test finished. Results available: ((2,), (1, 3, 4, 5, 6, 7, 8))\n",
      "2020-06-16 17:49:14,510  SpectraRegion  INFO: DE-test finished. Results available: ((2,), (1, 3, 4, 5, 6, 7, 8))\n",
      "2020-06-16 17:49:14,510  SpectraRegion  INFO: DE-test finished. Results available: ((2,), (1, 3, 4, 5, 6, 7, 8))\n",
      "I0616 17:49:14.510081 140009190655808 segment.py:1420] DE-test finished. Results available: ((2,), (1, 3, 4, 5, 6, 7, 8))\n",
      "2020-06-16 17:49:14,557  SpectraRegion  INFO: DE result for case ((2,), (1, 3, 4, 5, 6, 7, 8)) with (17900, 16) results\n",
      "2020-06-16 17:49:14,557  SpectraRegion  INFO: DE result for case ((2,), (1, 3, 4, 5, 6, 7, 8)) with (17900, 16) results\n",
      "2020-06-16 17:49:14,557  SpectraRegion  INFO: DE result for case ((2,), (1, 3, 4, 5, 6, 7, 8)) with (17900, 16) results\n",
      "2020-06-16 17:49:14,557  SpectraRegion  INFO: DE result for case ((2,), (1, 3, 4, 5, 6, 7, 8)) with (17900, 16) results\n",
      "I0616 17:49:14.557731 140009190655808 segment.py:1023] DE result for case ((2,), (1, 3, 4, 5, 6, 7, 8)) with (17900, 16) results\n",
      "2020-06-16 17:49:14,565  SpectraRegion  INFO: DE result for case ((2,), (1, 3, 4, 5, 6, 7, 8)) with (0, 16) results (filtered)\n",
      "2020-06-16 17:49:14,565  SpectraRegion  INFO: DE result for case ((2,), (1, 3, 4, 5, 6, 7, 8)) with (0, 16) results (filtered)\n",
      "2020-06-16 17:49:14,565  SpectraRegion  INFO: DE result for case ((2,), (1, 3, 4, 5, 6, 7, 8)) with (0, 16) results (filtered)\n",
      "2020-06-16 17:49:14,565  SpectraRegion  INFO: DE result for case ((2,), (1, 3, 4, 5, 6, 7, 8)) with (0, 16) results (filtered)\n",
      "I0616 17:49:14.565615 140009190655808 segment.py:1051] DE result for case ((2,), (1, 3, 4, 5, 6, 7, 8)) with (0, 16) results (filtered)\n",
      "2020-06-16 17:49:14,672  SpectraRegion  INFO: Created matrices with shape (50, 17900) and (429, 17900) (target, bg)\n",
      "2020-06-16 17:49:14,672  SpectraRegion  INFO: Created matrices with shape (50, 17900) and (429, 17900) (target, bg)\n",
      "2020-06-16 17:49:14,672  SpectraRegion  INFO: Created matrices with shape (50, 17900) and (429, 17900) (target, bg)\n",
      "2020-06-16 17:49:14,672  SpectraRegion  INFO: Created matrices with shape (50, 17900) and (429, 17900) (target, bg)\n",
      "I0616 17:49:14.672005 140009190655808 segment.py:1057] Created matrices with shape (50, 17900) and (429, 17900) (target, bg)\n",
      "2020-06-16 17:49:14,704  SpectraRegion  INFO: DE result for case ((2,), (1, 3, 4, 5, 6, 7, 8)) with (17900, 7) results\n",
      "2020-06-16 17:49:14,704  SpectraRegion  INFO: DE result for case ((2,), (1, 3, 4, 5, 6, 7, 8)) with (17900, 7) results\n",
      "2020-06-16 17:49:14,704  SpectraRegion  INFO: DE result for case ((2,), (1, 3, 4, 5, 6, 7, 8)) with (17900, 7) results\n",
      "2020-06-16 17:49:14,704  SpectraRegion  INFO: DE result for case ((2,), (1, 3, 4, 5, 6, 7, 8)) with (17900, 7) results\n",
      "I0616 17:49:14.704937 140009190655808 segment.py:1023] DE result for case ((2,), (1, 3, 4, 5, 6, 7, 8)) with (17900, 7) results\n",
      "2020-06-16 17:49:14,708  SpectraRegion  INFO: DE result logFC inversed\n",
      "2020-06-16 17:49:14,708  SpectraRegion  INFO: DE result logFC inversed\n",
      "2020-06-16 17:49:14,708  SpectraRegion  INFO: DE result logFC inversed\n",
      "2020-06-16 17:49:14,708  SpectraRegion  INFO: DE result logFC inversed\n",
      "I0616 17:49:14.708847 140009190655808 segment.py:1046] DE result logFC inversed\n",
      "2020-06-16 17:49:14,719  SpectraRegion  INFO: DE result for case ((2,), (1, 3, 4, 5, 6, 7, 8)) with (2411, 7) results (filtered)\n",
      "2020-06-16 17:49:14,719  SpectraRegion  INFO: DE result for case ((2,), (1, 3, 4, 5, 6, 7, 8)) with (2411, 7) results (filtered)\n",
      "2020-06-16 17:49:14,719  SpectraRegion  INFO: DE result for case ((2,), (1, 3, 4, 5, 6, 7, 8)) with (2411, 7) results (filtered)\n",
      "2020-06-16 17:49:14,719  SpectraRegion  INFO: DE result for case ((2,), (1, 3, 4, 5, 6, 7, 8)) with (2411, 7) results (filtered)\n",
      "I0616 17:49:14.719891 140009190655808 segment.py:1051] DE result for case ((2,), (1, 3, 4, 5, 6, 7, 8)) with (2411, 7) results (filtered)\n",
      "2020-06-16 17:49:14,817  SpectraRegion  INFO: Created matrices with shape (50, 17900) and (429, 17900) (target, bg)\n",
      "2020-06-16 17:49:14,817  SpectraRegion  INFO: Created matrices with shape (50, 17900) and (429, 17900) (target, bg)\n",
      "2020-06-16 17:49:14,817  SpectraRegion  INFO: Created matrices with shape (50, 17900) and (429, 17900) (target, bg)\n",
      "2020-06-16 17:49:14,817  SpectraRegion  INFO: Created matrices with shape (50, 17900) and (429, 17900) (target, bg)\n",
      "I0616 17:49:14.817560 140009190655808 segment.py:1057] Created matrices with shape (50, 17900) and (429, 17900) (target, bg)\n",
      "2020-06-16 17:49:31,022  SpectraRegion  INFO: DE data for case: [6]\n",
      "2020-06-16 17:49:31,022  SpectraRegion  INFO: DE data for case: [6]\n",
      "2020-06-16 17:49:31,022  SpectraRegion  INFO: DE data for case: [6]\n",
      "2020-06-16 17:49:31,022  SpectraRegion  INFO: DE data for case: [6]\n",
      "I0616 17:49:31.022586 140009190655808 segment.py:1286] DE data for case: [6]\n",
      "2020-06-16 17:49:31,026  SpectraRegion  INFO: DE data for control: [8, 1, 3, 2, 4, 7, 5]\n",
      "2020-06-16 17:49:31,026  SpectraRegion  INFO: DE data for control: [8, 1, 3, 2, 4, 7, 5]\n",
      "2020-06-16 17:49:31,026  SpectraRegion  INFO: DE data for control: [8, 1, 3, 2, 4, 7, 5]\n",
      "2020-06-16 17:49:31,026  SpectraRegion  INFO: DE data for control: [8, 1, 3, 2, 4, 7, 5]\n",
      "I0616 17:49:31.026012 140009190655808 segment.py:1287] DE data for control: [8, 1, 3, 2, 4, 7, 5]\n",
      "2020-06-16 17:49:31,032  SpectraRegion  INFO: DE result key: ((6,), (1, 2, 3, 4, 5, 7, 8))\n",
      "2020-06-16 17:49:31,032  SpectraRegion  INFO: DE result key: ((6,), (1, 2, 3, 4, 5, 7, 8))\n",
      "2020-06-16 17:49:31,032  SpectraRegion  INFO: DE result key: ((6,), (1, 2, 3, 4, 5, 7, 8))\n",
      "2020-06-16 17:49:31,032  SpectraRegion  INFO: DE result key: ((6,), (1, 2, 3, 4, 5, 7, 8))\n",
      "I0616 17:49:31.032921 140009190655808 segment.py:1291] DE result key: ((6,), (1, 2, 3, 4, 5, 7, 8))\n",
      "2020-06-16 17:49:31,065  SpectraRegion  INFO: Processing cluster: 6\n",
      "2020-06-16 17:49:31,065  SpectraRegion  INFO: Processing cluster: 6\n",
      "2020-06-16 17:49:31,065  SpectraRegion  INFO: Processing cluster: 6\n",
      "2020-06-16 17:49:31,065  SpectraRegion  INFO: Processing cluster: 6\n",
      "I0616 17:49:31.065547 140009190655808 segment.py:1309] Processing cluster: 6\n",
      "2020-06-16 17:49:31,123  SpectraRegion  INFO: Processing cluster: 8\n",
      "2020-06-16 17:49:31,123  SpectraRegion  INFO: Processing cluster: 8\n",
      "2020-06-16 17:49:31,123  SpectraRegion  INFO: Processing cluster: 8\n",
      "2020-06-16 17:49:31,123  SpectraRegion  INFO: Processing cluster: 8\n",
      "I0616 17:49:31.123703 140009190655808 segment.py:1322] Processing cluster: 8\n",
      "2020-06-16 17:49:31,169  SpectraRegion  INFO: Processing cluster: 1\n",
      "2020-06-16 17:49:31,169  SpectraRegion  INFO: Processing cluster: 1\n",
      "2020-06-16 17:49:31,169  SpectraRegion  INFO: Processing cluster: 1\n",
      "2020-06-16 17:49:31,169  SpectraRegion  INFO: Processing cluster: 1\n",
      "I0616 17:49:31.169893 140009190655808 segment.py:1322] Processing cluster: 1\n",
      "2020-06-16 17:49:31,223  SpectraRegion  INFO: Processing cluster: 3\n",
      "2020-06-16 17:49:31,223  SpectraRegion  INFO: Processing cluster: 3\n",
      "2020-06-16 17:49:31,223  SpectraRegion  INFO: Processing cluster: 3\n",
      "2020-06-16 17:49:31,223  SpectraRegion  INFO: Processing cluster: 3\n",
      "I0616 17:49:31.223324 140009190655808 segment.py:1322] Processing cluster: 3\n"
     ]
    },
    {
     "name": "stdout",
     "output_type": "stream",
     "text": [
      "Running [6] against [8, 1, 3, 2, 4, 7, 5]\n"
     ]
    },
    {
     "name": "stderr",
     "output_type": "stream",
     "text": [
      "2020-06-16 17:49:31,301  SpectraRegion  INFO: Processing cluster: 2\n",
      "2020-06-16 17:49:31,301  SpectraRegion  INFO: Processing cluster: 2\n",
      "2020-06-16 17:49:31,301  SpectraRegion  INFO: Processing cluster: 2\n",
      "2020-06-16 17:49:31,301  SpectraRegion  INFO: Processing cluster: 2\n",
      "I0616 17:49:31.301057 140009190655808 segment.py:1322] Processing cluster: 2\n",
      "2020-06-16 17:49:31,332  SpectraRegion  INFO: Processing cluster: 4\n",
      "2020-06-16 17:49:31,332  SpectraRegion  INFO: Processing cluster: 4\n",
      "2020-06-16 17:49:31,332  SpectraRegion  INFO: Processing cluster: 4\n",
      "2020-06-16 17:49:31,332  SpectraRegion  INFO: Processing cluster: 4\n",
      "I0616 17:49:31.332766 140009190655808 segment.py:1322] Processing cluster: 4\n",
      "2020-06-16 17:49:31,376  SpectraRegion  INFO: Processing cluster: 7\n",
      "2020-06-16 17:49:31,376  SpectraRegion  INFO: Processing cluster: 7\n",
      "2020-06-16 17:49:31,376  SpectraRegion  INFO: Processing cluster: 7\n",
      "2020-06-16 17:49:31,376  SpectraRegion  INFO: Processing cluster: 7\n",
      "I0616 17:49:31.376638 140009190655808 segment.py:1322] Processing cluster: 7\n",
      "2020-06-16 17:49:31,410  SpectraRegion  INFO: Processing cluster: 5\n",
      "2020-06-16 17:49:31,410  SpectraRegion  INFO: Processing cluster: 5\n",
      "2020-06-16 17:49:31,410  SpectraRegion  INFO: Processing cluster: 5\n",
      "2020-06-16 17:49:31,410  SpectraRegion  INFO: Processing cluster: 5\n",
      "I0616 17:49:31.410391 140009190655808 segment.py:1322] Processing cluster: 5\n",
      "2020-06-16 17:49:31,426  SpectraRegion  INFO: DE DataFrame ready. Shape (17900, 479)\n",
      "2020-06-16 17:49:31,426  SpectraRegion  INFO: DE DataFrame ready. Shape (17900, 479)\n",
      "2020-06-16 17:49:31,426  SpectraRegion  INFO: DE DataFrame ready. Shape (17900, 479)\n",
      "2020-06-16 17:49:31,426  SpectraRegion  INFO: DE DataFrame ready. Shape (17900, 479)\n",
      "I0616 17:49:31.426387 140009190655808 segment.py:1335] DE DataFrame ready. Shape (17900, 479)\n",
      "2020-06-16 17:49:31,434  SpectraRegion  INFO: DE Sample DataFrame ready. Shape (479, 3)\n",
      "2020-06-16 17:49:31,434  SpectraRegion  INFO: DE Sample DataFrame ready. Shape (479, 3)\n",
      "2020-06-16 17:49:31,434  SpectraRegion  INFO: DE Sample DataFrame ready. Shape (479, 3)\n",
      "2020-06-16 17:49:31,434  SpectraRegion  INFO: DE Sample DataFrame ready. Shape (479, 3)\n",
      "I0616 17:49:31.434958 140009190655808 segment.py:1343] DE Sample DataFrame ready. Shape (479, 3)\n",
      "2020-06-16 17:49:32,580  SpectraRegion  INFO: Starting EMPIRE; Writing Expression Files\n",
      "2020-06-16 17:49:32,580  SpectraRegion  INFO: Starting EMPIRE; Writing Expression Files\n",
      "2020-06-16 17:49:32,580  SpectraRegion  INFO: Starting EMPIRE; Writing Expression Files\n",
      "2020-06-16 17:49:32,580  SpectraRegion  INFO: Starting EMPIRE; Writing Expression Files\n",
      "I0616 17:49:32.580311 140009190655808 segment.py:1359] Starting EMPIRE; Writing Expression Files\n",
      "2020-06-16 17:49:46,920  SpectraRegion  INFO: Starting EMPIRE; Running nlEmpiRe\n",
      "2020-06-16 17:49:46,920  SpectraRegion  INFO: Starting EMPIRE; Running nlEmpiRe\n",
      "2020-06-16 17:49:46,920  SpectraRegion  INFO: Starting EMPIRE; Running nlEmpiRe\n",
      "2020-06-16 17:49:46,920  SpectraRegion  INFO: Starting EMPIRE; Running nlEmpiRe\n",
      "I0616 17:49:46.920803 140009190655808 segment.py:1377] Starting EMPIRE; Running nlEmpiRe\n"
     ]
    },
    {
     "name": "stdout",
     "output_type": "stream",
     "text": [
      "Max condition count (1, 380)\n",
      "/usr/bin/java -Xmx24G -cp /mnt/d/dev/git/pyIMS/src/pySRM/pysrm/../../../tools/nlEmpiRe.jar nlEmpiRe.input.ExpressionSet -getbestsubN 100 -inputdir ./ -cond1 0 -cond2 1 -o .//exprs_ds.txt\n",
      "Cmd returned with exit code 0\n",
      "Writing new Pdata\n",
      "Writing new exprs data\n",
      "/usr/bin/java -Xmx16G -cp /mnt/d/dev/git/pyIMS/src/pySRM/pysrm/../../../tools/nlEmpiRe.jar nlEmpiRe.input.ExpressionSet -inputdir ./ -cond1 0 -cond2 1 -o .//region4.6.1_2_3_4_5_7_8.tsv\n",
      "Cmd returned with exit code 1\n",
      "1\n",
      "Exception in thread \"main\" lmu.utils.FRuntimeException: 1: cannot normalize samples - too many non-overlapping features clustered 50 samples into 2 groups:\n",
      "\tcluster: 1 size: 49 replicates: [cond2.rep1, cond2.rep2, cond2.rep3, cond2.rep4, cond2.rep5, cond2.rep6, cond2.rep7, cond2.rep8, cond2.rep9, cond2.rep10, cond2.rep11, cond2.rep12, cond2.rep13, cond2.rep14, cond2.rep15, cond2.rep16, cond2.rep17, cond2.rep18, cond2.rep19, cond2.rep20, cond2.rep21, cond2.rep22, cond2.rep23, cond2.rep24, cond2.rep25, cond2.rep26, cond2.rep27, cond2.rep28, cond2.rep29, cond2.rep30, cond2.rep31, cond2.rep32, cond2.rep33, cond2.rep34, cond2.rep35, cond2.rep36, cond2.rep37, cond2.rep38, cond2.rep39, cond2.rep40, cond2.rep41, cond2.rep42, cond2.rep43, cond2.rep44, cond2.rep45, cond2.rep46, cond2.rep47, cond2.rep48, cond2.rep49]\n",
      "\tcluster: 2 size: 1 replicates: [cond2.rep50]\n",
      "\n",
      "\tat nlEmpiRe.NormalizedReplicateSet.<init>(NormalizedReplicateSet.java:58)\n",
      "\tat nlEmpiRe.input.ExpressionSet.main(ExpressionSet.java:279)\n",
      "\n",
      "Loading pdata\n",
      "Removing spectra ['cond2.rep50']\n",
      "         sample  condition  batch\n",
      "0    cond1.rep1          0      0\n",
      "1    cond1.rep2          0      0\n",
      "2    cond1.rep3          0      0\n",
      "3    cond1.rep4          0      0\n",
      "4    cond1.rep5          0      0\n",
      "5    cond1.rep6          0      0\n",
      "6    cond1.rep7          0      0\n",
      "7    cond1.rep8          0      0\n",
      "8    cond1.rep9          0      0\n",
      "9   cond1.rep10          0      0\n",
      "10  cond1.rep11          0      0\n",
      "11  cond1.rep12          0      0\n",
      "12  cond1.rep13          0      0\n",
      "13  cond1.rep14          0      0\n",
      "14  cond1.rep15          0      0\n",
      "15  cond1.rep16          0      0\n",
      "16  cond1.rep17          0      0\n",
      "17  cond1.rep18          0      0\n",
      "18  cond1.rep19          0      0\n",
      "19  cond1.rep20          0      0\n",
      "20  cond1.rep21          0      0\n",
      "21  cond1.rep22          0      0\n",
      "22  cond1.rep23          0      0\n",
      "23  cond1.rep24          0      0\n",
      "24  cond1.rep25          0      0\n",
      "25  cond1.rep26          0      0\n",
      "26  cond1.rep27          0      0\n",
      "27  cond1.rep28          0      0\n",
      "28  cond1.rep29          0      0\n",
      "29  cond1.rep30          0      0\n",
      "..          ...        ...    ...\n",
      "69  cond2.rep20          1      0\n",
      "70  cond2.rep21          1      0\n",
      "71  cond2.rep22          1      0\n",
      "72  cond2.rep23          1      0\n",
      "73  cond2.rep24          1      0\n",
      "74  cond2.rep25          1      0\n",
      "75  cond2.rep26          1      0\n",
      "76  cond2.rep27          1      0\n",
      "77  cond2.rep28          1      0\n",
      "78  cond2.rep29          1      0\n",
      "79  cond2.rep30          1      0\n",
      "80  cond2.rep31          1      0\n",
      "81  cond2.rep32          1      0\n",
      "82  cond2.rep33          1      0\n",
      "83  cond2.rep34          1      0\n",
      "84  cond2.rep35          1      0\n",
      "85  cond2.rep36          1      0\n",
      "86  cond2.rep37          1      0\n",
      "87  cond2.rep38          1      0\n",
      "88  cond2.rep39          1      0\n",
      "89  cond2.rep40          1      0\n",
      "90  cond2.rep41          1      0\n",
      "91  cond2.rep42          1      0\n",
      "92  cond2.rep43          1      0\n",
      "93  cond2.rep44          1      0\n",
      "94  cond2.rep45          1      0\n",
      "95  cond2.rep46          1      0\n",
      "96  cond2.rep47          1      0\n",
      "97  cond2.rep48          1      0\n",
      "98  cond2.rep49          1      0\n",
      "\n",
      "[99 rows x 3 columns]\n",
      "/usr/bin/java -Xmx16G -cp /mnt/d/dev/git/pyIMS/src/pySRM/pysrm/../../../tools/nlEmpiRe.jar nlEmpiRe.input.ExpressionSet -inputdir ./ -cond1 0 -cond2 1 -o .//region4.6.1_2_3_4_5_7_8.tsv\n"
     ]
    },
    {
     "name": "stderr",
     "output_type": "stream",
     "text": [
      "2020-06-16 17:52:29,912  SpectraRegion  INFO: Performing DE-test: ttest\n",
      "2020-06-16 17:52:29,912  SpectraRegion  INFO: Performing DE-test: ttest\n",
      "2020-06-16 17:52:29,912  SpectraRegion  INFO: Performing DE-test: ttest\n",
      "2020-06-16 17:52:29,912  SpectraRegion  INFO: Performing DE-test: ttest\n",
      "I0616 17:52:29.912887 140009190655808 segment.py:1395] Performing DE-test: ttest\n"
     ]
    },
    {
     "name": "stdout",
     "output_type": "stream",
     "text": [
      "Cmd returned with exit code 0\n",
      "0\n",
      "EMPIRE output available: .//region4.6.1_2_3_4_5_7_8.tsv\n"
     ]
    },
    {
     "name": "stderr",
     "output_type": "stream",
     "text": [
      "2020-06-16 17:52:30,294  SpectraRegion  INFO: DE-test finished. Results available: ((6,), (1, 2, 3, 4, 5, 7, 8))\n",
      "2020-06-16 17:52:30,294  SpectraRegion  INFO: DE-test finished. Results available: ((6,), (1, 2, 3, 4, 5, 7, 8))\n",
      "2020-06-16 17:52:30,294  SpectraRegion  INFO: DE-test finished. Results available: ((6,), (1, 2, 3, 4, 5, 7, 8))\n",
      "2020-06-16 17:52:30,294  SpectraRegion  INFO: DE-test finished. Results available: ((6,), (1, 2, 3, 4, 5, 7, 8))\n",
      "I0616 17:52:30.294874 140009190655808 segment.py:1420] DE-test finished. Results available: ((6,), (1, 2, 3, 4, 5, 7, 8))\n",
      "2020-06-16 17:52:30,347  SpectraRegion  INFO: DE result for case ((6,), (1, 2, 3, 4, 5, 7, 8)) with (17900, 16) results\n",
      "2020-06-16 17:52:30,347  SpectraRegion  INFO: DE result for case ((6,), (1, 2, 3, 4, 5, 7, 8)) with (17900, 16) results\n",
      "2020-06-16 17:52:30,347  SpectraRegion  INFO: DE result for case ((6,), (1, 2, 3, 4, 5, 7, 8)) with (17900, 16) results\n",
      "2020-06-16 17:52:30,347  SpectraRegion  INFO: DE result for case ((6,), (1, 2, 3, 4, 5, 7, 8)) with (17900, 16) results\n",
      "I0616 17:52:30.347342 140009190655808 segment.py:1023] DE result for case ((6,), (1, 2, 3, 4, 5, 7, 8)) with (17900, 16) results\n",
      "2020-06-16 17:52:30,355  SpectraRegion  INFO: DE result for case ((6,), (1, 2, 3, 4, 5, 7, 8)) with (0, 16) results (filtered)\n",
      "2020-06-16 17:52:30,355  SpectraRegion  INFO: DE result for case ((6,), (1, 2, 3, 4, 5, 7, 8)) with (0, 16) results (filtered)\n",
      "2020-06-16 17:52:30,355  SpectraRegion  INFO: DE result for case ((6,), (1, 2, 3, 4, 5, 7, 8)) with (0, 16) results (filtered)\n",
      "2020-06-16 17:52:30,355  SpectraRegion  INFO: DE result for case ((6,), (1, 2, 3, 4, 5, 7, 8)) with (0, 16) results (filtered)\n",
      "I0616 17:52:30.355470 140009190655808 segment.py:1051] DE result for case ((6,), (1, 2, 3, 4, 5, 7, 8)) with (0, 16) results (filtered)\n",
      "2020-06-16 17:52:30,457  SpectraRegion  INFO: Created matrices with shape (99, 17900) and (380, 17900) (target, bg)\n",
      "2020-06-16 17:52:30,457  SpectraRegion  INFO: Created matrices with shape (99, 17900) and (380, 17900) (target, bg)\n",
      "2020-06-16 17:52:30,457  SpectraRegion  INFO: Created matrices with shape (99, 17900) and (380, 17900) (target, bg)\n",
      "2020-06-16 17:52:30,457  SpectraRegion  INFO: Created matrices with shape (99, 17900) and (380, 17900) (target, bg)\n",
      "I0616 17:52:30.457036 140009190655808 segment.py:1057] Created matrices with shape (99, 17900) and (380, 17900) (target, bg)\n",
      "2020-06-16 17:52:30,489  SpectraRegion  INFO: DE result for case ((6,), (1, 2, 3, 4, 5, 7, 8)) with (17900, 7) results\n",
      "2020-06-16 17:52:30,489  SpectraRegion  INFO: DE result for case ((6,), (1, 2, 3, 4, 5, 7, 8)) with (17900, 7) results\n",
      "2020-06-16 17:52:30,489  SpectraRegion  INFO: DE result for case ((6,), (1, 2, 3, 4, 5, 7, 8)) with (17900, 7) results\n",
      "2020-06-16 17:52:30,489  SpectraRegion  INFO: DE result for case ((6,), (1, 2, 3, 4, 5, 7, 8)) with (17900, 7) results\n",
      "I0616 17:52:30.489882 140009190655808 segment.py:1023] DE result for case ((6,), (1, 2, 3, 4, 5, 7, 8)) with (17900, 7) results\n",
      "2020-06-16 17:52:30,493  SpectraRegion  INFO: DE result logFC inversed\n",
      "2020-06-16 17:52:30,493  SpectraRegion  INFO: DE result logFC inversed\n",
      "2020-06-16 17:52:30,493  SpectraRegion  INFO: DE result logFC inversed\n",
      "2020-06-16 17:52:30,493  SpectraRegion  INFO: DE result logFC inversed\n",
      "I0616 17:52:30.493345 140009190655808 segment.py:1046] DE result logFC inversed\n",
      "2020-06-16 17:52:30,503  SpectraRegion  INFO: DE result for case ((6,), (1, 2, 3, 4, 5, 7, 8)) with (535, 7) results (filtered)\n",
      "2020-06-16 17:52:30,503  SpectraRegion  INFO: DE result for case ((6,), (1, 2, 3, 4, 5, 7, 8)) with (535, 7) results (filtered)\n",
      "2020-06-16 17:52:30,503  SpectraRegion  INFO: DE result for case ((6,), (1, 2, 3, 4, 5, 7, 8)) with (535, 7) results (filtered)\n",
      "2020-06-16 17:52:30,503  SpectraRegion  INFO: DE result for case ((6,), (1, 2, 3, 4, 5, 7, 8)) with (535, 7) results (filtered)\n",
      "I0616 17:52:30.503018 140009190655808 segment.py:1051] DE result for case ((6,), (1, 2, 3, 4, 5, 7, 8)) with (535, 7) results (filtered)\n",
      "2020-06-16 17:52:30,601  SpectraRegion  INFO: Created matrices with shape (99, 17900) and (380, 17900) (target, bg)\n",
      "2020-06-16 17:52:30,601  SpectraRegion  INFO: Created matrices with shape (99, 17900) and (380, 17900) (target, bg)\n",
      "2020-06-16 17:52:30,601  SpectraRegion  INFO: Created matrices with shape (99, 17900) and (380, 17900) (target, bg)\n",
      "2020-06-16 17:52:30,601  SpectraRegion  INFO: Created matrices with shape (99, 17900) and (380, 17900) (target, bg)\n",
      "I0616 17:52:30.601907 140009190655808 segment.py:1057] Created matrices with shape (99, 17900) and (380, 17900) (target, bg)\n",
      "2020-06-16 17:52:33,419  SpectraRegion  INFO: DE data for case: [4]\n",
      "2020-06-16 17:52:33,419  SpectraRegion  INFO: DE data for case: [4]\n",
      "2020-06-16 17:52:33,419  SpectraRegion  INFO: DE data for case: [4]\n",
      "2020-06-16 17:52:33,419  SpectraRegion  INFO: DE data for case: [4]\n",
      "I0616 17:52:33.419462 140009190655808 segment.py:1286] DE data for case: [4]\n",
      "2020-06-16 17:52:33,423  SpectraRegion  INFO: DE data for control: [8, 1, 3, 2, 6, 7, 5]\n",
      "2020-06-16 17:52:33,423  SpectraRegion  INFO: DE data for control: [8, 1, 3, 2, 6, 7, 5]\n",
      "2020-06-16 17:52:33,423  SpectraRegion  INFO: DE data for control: [8, 1, 3, 2, 6, 7, 5]\n",
      "2020-06-16 17:52:33,423  SpectraRegion  INFO: DE data for control: [8, 1, 3, 2, 6, 7, 5]\n",
      "I0616 17:52:33.423816 140009190655808 segment.py:1287] DE data for control: [8, 1, 3, 2, 6, 7, 5]\n",
      "2020-06-16 17:52:33,429  SpectraRegion  INFO: DE result key: ((4,), (1, 2, 3, 5, 6, 7, 8))\n",
      "2020-06-16 17:52:33,429  SpectraRegion  INFO: DE result key: ((4,), (1, 2, 3, 5, 6, 7, 8))\n",
      "2020-06-16 17:52:33,429  SpectraRegion  INFO: DE result key: ((4,), (1, 2, 3, 5, 6, 7, 8))\n",
      "2020-06-16 17:52:33,429  SpectraRegion  INFO: DE result key: ((4,), (1, 2, 3, 5, 6, 7, 8))\n",
      "I0616 17:52:33.429671 140009190655808 segment.py:1291] DE result key: ((4,), (1, 2, 3, 5, 6, 7, 8))\n",
      "2020-06-16 17:52:33,461  SpectraRegion  INFO: Processing cluster: 4\n",
      "2020-06-16 17:52:33,461  SpectraRegion  INFO: Processing cluster: 4\n",
      "2020-06-16 17:52:33,461  SpectraRegion  INFO: Processing cluster: 4\n",
      "2020-06-16 17:52:33,461  SpectraRegion  INFO: Processing cluster: 4\n",
      "I0616 17:52:33.461022 140009190655808 segment.py:1309] Processing cluster: 4\n",
      "2020-06-16 17:52:33,496  SpectraRegion  INFO: Processing cluster: 8\n",
      "2020-06-16 17:52:33,496  SpectraRegion  INFO: Processing cluster: 8\n",
      "2020-06-16 17:52:33,496  SpectraRegion  INFO: Processing cluster: 8\n",
      "2020-06-16 17:52:33,496  SpectraRegion  INFO: Processing cluster: 8\n",
      "I0616 17:52:33.496828 140009190655808 segment.py:1322] Processing cluster: 8\n",
      "2020-06-16 17:52:33,541  SpectraRegion  INFO: Processing cluster: 1\n",
      "2020-06-16 17:52:33,541  SpectraRegion  INFO: Processing cluster: 1\n",
      "2020-06-16 17:52:33,541  SpectraRegion  INFO: Processing cluster: 1\n",
      "2020-06-16 17:52:33,541  SpectraRegion  INFO: Processing cluster: 1\n",
      "I0616 17:52:33.541973 140009190655808 segment.py:1322] Processing cluster: 1\n",
      "2020-06-16 17:52:33,594  SpectraRegion  INFO: Processing cluster: 3\n",
      "2020-06-16 17:52:33,594  SpectraRegion  INFO: Processing cluster: 3\n",
      "2020-06-16 17:52:33,594  SpectraRegion  INFO: Processing cluster: 3\n",
      "2020-06-16 17:52:33,594  SpectraRegion  INFO: Processing cluster: 3\n",
      "I0616 17:52:33.594670 140009190655808 segment.py:1322] Processing cluster: 3\n",
      "2020-06-16 17:52:33,625  SpectraRegion  INFO: Processing cluster: 2\n",
      "2020-06-16 17:52:33,625  SpectraRegion  INFO: Processing cluster: 2\n",
      "2020-06-16 17:52:33,625  SpectraRegion  INFO: Processing cluster: 2\n",
      "2020-06-16 17:52:33,625  SpectraRegion  INFO: Processing cluster: 2\n",
      "I0616 17:52:33.625970 140009190655808 segment.py:1322] Processing cluster: 2\n"
     ]
    },
    {
     "name": "stdout",
     "output_type": "stream",
     "text": [
      "Running [4] against [8, 1, 3, 2, 6, 7, 5]\n"
     ]
    },
    {
     "name": "stderr",
     "output_type": "stream",
     "text": [
      "2020-06-16 17:52:33,695  SpectraRegion  INFO: Processing cluster: 6\n",
      "2020-06-16 17:52:33,695  SpectraRegion  INFO: Processing cluster: 6\n",
      "2020-06-16 17:52:33,695  SpectraRegion  INFO: Processing cluster: 6\n",
      "2020-06-16 17:52:33,695  SpectraRegion  INFO: Processing cluster: 6\n",
      "I0616 17:52:33.695699 140009190655808 segment.py:1322] Processing cluster: 6\n",
      "2020-06-16 17:52:33,761  SpectraRegion  INFO: Processing cluster: 7\n",
      "2020-06-16 17:52:33,761  SpectraRegion  INFO: Processing cluster: 7\n",
      "2020-06-16 17:52:33,761  SpectraRegion  INFO: Processing cluster: 7\n",
      "2020-06-16 17:52:33,761  SpectraRegion  INFO: Processing cluster: 7\n",
      "I0616 17:52:33.761621 140009190655808 segment.py:1322] Processing cluster: 7\n",
      "2020-06-16 17:52:33,794  SpectraRegion  INFO: Processing cluster: 5\n",
      "2020-06-16 17:52:33,794  SpectraRegion  INFO: Processing cluster: 5\n",
      "2020-06-16 17:52:33,794  SpectraRegion  INFO: Processing cluster: 5\n",
      "2020-06-16 17:52:33,794  SpectraRegion  INFO: Processing cluster: 5\n",
      "I0616 17:52:33.794024 140009190655808 segment.py:1322] Processing cluster: 5\n",
      "2020-06-16 17:52:33,810  SpectraRegion  INFO: DE DataFrame ready. Shape (17900, 479)\n",
      "2020-06-16 17:52:33,810  SpectraRegion  INFO: DE DataFrame ready. Shape (17900, 479)\n",
      "2020-06-16 17:52:33,810  SpectraRegion  INFO: DE DataFrame ready. Shape (17900, 479)\n",
      "2020-06-16 17:52:33,810  SpectraRegion  INFO: DE DataFrame ready. Shape (17900, 479)\n",
      "I0616 17:52:33.810942 140009190655808 segment.py:1335] DE DataFrame ready. Shape (17900, 479)\n",
      "2020-06-16 17:52:33,819  SpectraRegion  INFO: DE Sample DataFrame ready. Shape (479, 3)\n",
      "2020-06-16 17:52:33,819  SpectraRegion  INFO: DE Sample DataFrame ready. Shape (479, 3)\n",
      "2020-06-16 17:52:33,819  SpectraRegion  INFO: DE Sample DataFrame ready. Shape (479, 3)\n",
      "2020-06-16 17:52:33,819  SpectraRegion  INFO: DE Sample DataFrame ready. Shape (479, 3)\n",
      "I0616 17:52:33.819494 140009190655808 segment.py:1343] DE Sample DataFrame ready. Shape (479, 3)\n",
      "2020-06-16 17:52:34,976  SpectraRegion  INFO: Starting EMPIRE; Writing Expression Files\n",
      "2020-06-16 17:52:34,976  SpectraRegion  INFO: Starting EMPIRE; Writing Expression Files\n",
      "2020-06-16 17:52:34,976  SpectraRegion  INFO: Starting EMPIRE; Writing Expression Files\n",
      "2020-06-16 17:52:34,976  SpectraRegion  INFO: Starting EMPIRE; Writing Expression Files\n",
      "I0616 17:52:34.976175 140009190655808 segment.py:1359] Starting EMPIRE; Writing Expression Files\n",
      "2020-06-16 17:52:50,485  SpectraRegion  INFO: Starting EMPIRE; Running nlEmpiRe\n",
      "2020-06-16 17:52:50,485  SpectraRegion  INFO: Starting EMPIRE; Running nlEmpiRe\n",
      "2020-06-16 17:52:50,485  SpectraRegion  INFO: Starting EMPIRE; Running nlEmpiRe\n",
      "2020-06-16 17:52:50,485  SpectraRegion  INFO: Starting EMPIRE; Running nlEmpiRe\n",
      "I0616 17:52:50.485567 140009190655808 segment.py:1377] Starting EMPIRE; Running nlEmpiRe\n"
     ]
    },
    {
     "name": "stdout",
     "output_type": "stream",
     "text": [
      "Max condition count (1, 422)\n",
      "/usr/bin/java -Xmx24G -cp /mnt/d/dev/git/pyIMS/src/pySRM/pysrm/../../../tools/nlEmpiRe.jar nlEmpiRe.input.ExpressionSet -getbestsubN 100 -inputdir ./ -cond1 0 -cond2 1 -o .//exprs_ds.txt\n",
      "Cmd returned with exit code 0\n",
      "Writing new Pdata\n",
      "Writing new exprs data\n",
      "/usr/bin/java -Xmx16G -cp /mnt/d/dev/git/pyIMS/src/pySRM/pysrm/../../../tools/nlEmpiRe.jar nlEmpiRe.input.ExpressionSet -inputdir ./ -cond1 0 -cond2 1 -o .//region4.4.1_2_3_5_6_7_8.tsv\n",
      "Cmd returned with exit code 1\n",
      "1\n",
      "Exception in thread \"main\" lmu.utils.FRuntimeException: 1: cannot normalize samples - too many non-overlapping features clustered 50 samples into 2 groups:\n",
      "\tcluster: 1 size: 49 replicates: [cond2.rep1, cond2.rep2, cond2.rep3, cond2.rep4, cond2.rep5, cond2.rep6, cond2.rep7, cond2.rep8, cond2.rep9, cond2.rep10, cond2.rep11, cond2.rep12, cond2.rep13, cond2.rep14, cond2.rep15, cond2.rep16, cond2.rep17, cond2.rep18, cond2.rep19, cond2.rep20, cond2.rep21, cond2.rep22, cond2.rep23, cond2.rep24, cond2.rep25, cond2.rep26, cond2.rep27, cond2.rep28, cond2.rep29, cond2.rep30, cond2.rep31, cond2.rep32, cond2.rep33, cond2.rep34, cond2.rep35, cond2.rep36, cond2.rep37, cond2.rep38, cond2.rep39, cond2.rep40, cond2.rep41, cond2.rep42, cond2.rep43, cond2.rep44, cond2.rep45, cond2.rep46, cond2.rep47, cond2.rep48, cond2.rep49]\n",
      "\tcluster: 2 size: 1 replicates: [cond2.rep50]\n",
      "\n",
      "\tat nlEmpiRe.NormalizedReplicateSet.<init>(NormalizedReplicateSet.java:58)\n",
      "\tat nlEmpiRe.input.ExpressionSet.main(ExpressionSet.java:279)\n",
      "\n",
      "Loading pdata\n",
      "Removing spectra ['cond2.rep50']\n",
      "         sample  condition  batch\n",
      "0    cond1.rep1          0      0\n",
      "1    cond1.rep2          0      0\n",
      "2    cond1.rep3          0      0\n",
      "3    cond1.rep4          0      0\n",
      "4    cond1.rep5          0      0\n",
      "5    cond1.rep6          0      0\n",
      "6    cond1.rep7          0      0\n",
      "7    cond1.rep8          0      0\n",
      "8    cond1.rep9          0      0\n",
      "9   cond1.rep10          0      0\n",
      "10  cond1.rep11          0      0\n",
      "11  cond1.rep12          0      0\n",
      "12  cond1.rep13          0      0\n",
      "13  cond1.rep14          0      0\n",
      "14  cond1.rep15          0      0\n",
      "15  cond1.rep16          0      0\n",
      "16  cond1.rep17          0      0\n",
      "17  cond1.rep18          0      0\n",
      "18  cond1.rep19          0      0\n",
      "19  cond1.rep20          0      0\n",
      "20  cond1.rep21          0      0\n",
      "21  cond1.rep22          0      0\n",
      "22  cond1.rep23          0      0\n",
      "23  cond1.rep24          0      0\n",
      "24  cond1.rep25          0      0\n",
      "25  cond1.rep26          0      0\n",
      "26  cond1.rep27          0      0\n",
      "27  cond1.rep28          0      0\n",
      "28  cond1.rep29          0      0\n",
      "29  cond1.rep30          0      0\n",
      "..          ...        ...    ...\n",
      "69  cond2.rep20          1      0\n",
      "70  cond2.rep21          1      0\n",
      "71  cond2.rep22          1      0\n",
      "72  cond2.rep23          1      0\n",
      "73  cond2.rep24          1      0\n",
      "74  cond2.rep25          1      0\n",
      "75  cond2.rep26          1      0\n",
      "76  cond2.rep27          1      0\n",
      "77  cond2.rep28          1      0\n",
      "78  cond2.rep29          1      0\n",
      "79  cond2.rep30          1      0\n",
      "80  cond2.rep31          1      0\n",
      "81  cond2.rep32          1      0\n",
      "82  cond2.rep33          1      0\n",
      "83  cond2.rep34          1      0\n",
      "84  cond2.rep35          1      0\n",
      "85  cond2.rep36          1      0\n",
      "86  cond2.rep37          1      0\n",
      "87  cond2.rep38          1      0\n",
      "88  cond2.rep39          1      0\n",
      "89  cond2.rep40          1      0\n",
      "90  cond2.rep41          1      0\n",
      "91  cond2.rep42          1      0\n",
      "92  cond2.rep43          1      0\n",
      "93  cond2.rep44          1      0\n",
      "94  cond2.rep45          1      0\n",
      "95  cond2.rep46          1      0\n",
      "96  cond2.rep47          1      0\n",
      "97  cond2.rep48          1      0\n",
      "98  cond2.rep49          1      0\n",
      "\n",
      "[99 rows x 3 columns]\n",
      "/usr/bin/java -Xmx16G -cp /mnt/d/dev/git/pyIMS/src/pySRM/pysrm/../../../tools/nlEmpiRe.jar nlEmpiRe.input.ExpressionSet -inputdir ./ -cond1 0 -cond2 1 -o .//region4.4.1_2_3_5_6_7_8.tsv\n"
     ]
    },
    {
     "name": "stderr",
     "output_type": "stream",
     "text": [
      "2020-06-16 17:55:56,414  SpectraRegion  INFO: Performing DE-test: ttest\n",
      "2020-06-16 17:55:56,414  SpectraRegion  INFO: Performing DE-test: ttest\n",
      "2020-06-16 17:55:56,414  SpectraRegion  INFO: Performing DE-test: ttest\n",
      "2020-06-16 17:55:56,414  SpectraRegion  INFO: Performing DE-test: ttest\n",
      "I0616 17:55:56.414948 140009190655808 segment.py:1395] Performing DE-test: ttest\n"
     ]
    },
    {
     "name": "stdout",
     "output_type": "stream",
     "text": [
      "Cmd returned with exit code 0\n",
      "0\n",
      "EMPIRE output available: .//region4.4.1_2_3_5_6_7_8.tsv\n"
     ]
    },
    {
     "name": "stderr",
     "output_type": "stream",
     "text": [
      "2020-06-16 17:55:56,748  SpectraRegion  INFO: DE-test finished. Results available: ((4,), (1, 2, 3, 5, 6, 7, 8))\n",
      "2020-06-16 17:55:56,748  SpectraRegion  INFO: DE-test finished. Results available: ((4,), (1, 2, 3, 5, 6, 7, 8))\n",
      "2020-06-16 17:55:56,748  SpectraRegion  INFO: DE-test finished. Results available: ((4,), (1, 2, 3, 5, 6, 7, 8))\n",
      "2020-06-16 17:55:56,748  SpectraRegion  INFO: DE-test finished. Results available: ((4,), (1, 2, 3, 5, 6, 7, 8))\n",
      "I0616 17:55:56.748331 140009190655808 segment.py:1420] DE-test finished. Results available: ((4,), (1, 2, 3, 5, 6, 7, 8))\n",
      "2020-06-16 17:55:56,801  SpectraRegion  INFO: DE result for case ((4,), (1, 2, 3, 5, 6, 7, 8)) with (17900, 16) results\n",
      "2020-06-16 17:55:56,801  SpectraRegion  INFO: DE result for case ((4,), (1, 2, 3, 5, 6, 7, 8)) with (17900, 16) results\n",
      "2020-06-16 17:55:56,801  SpectraRegion  INFO: DE result for case ((4,), (1, 2, 3, 5, 6, 7, 8)) with (17900, 16) results\n",
      "2020-06-16 17:55:56,801  SpectraRegion  INFO: DE result for case ((4,), (1, 2, 3, 5, 6, 7, 8)) with (17900, 16) results\n",
      "I0616 17:55:56.801497 140009190655808 segment.py:1023] DE result for case ((4,), (1, 2, 3, 5, 6, 7, 8)) with (17900, 16) results\n",
      "2020-06-16 17:55:56,810  SpectraRegion  INFO: DE result for case ((4,), (1, 2, 3, 5, 6, 7, 8)) with (0, 16) results (filtered)\n",
      "2020-06-16 17:55:56,810  SpectraRegion  INFO: DE result for case ((4,), (1, 2, 3, 5, 6, 7, 8)) with (0, 16) results (filtered)\n",
      "2020-06-16 17:55:56,810  SpectraRegion  INFO: DE result for case ((4,), (1, 2, 3, 5, 6, 7, 8)) with (0, 16) results (filtered)\n",
      "2020-06-16 17:55:56,810  SpectraRegion  INFO: DE result for case ((4,), (1, 2, 3, 5, 6, 7, 8)) with (0, 16) results (filtered)\n",
      "I0616 17:55:56.810177 140009190655808 segment.py:1051] DE result for case ((4,), (1, 2, 3, 5, 6, 7, 8)) with (0, 16) results (filtered)\n",
      "2020-06-16 17:55:56,920  SpectraRegion  INFO: Created matrices with shape (57, 17900) and (422, 17900) (target, bg)\n",
      "2020-06-16 17:55:56,920  SpectraRegion  INFO: Created matrices with shape (57, 17900) and (422, 17900) (target, bg)\n",
      "2020-06-16 17:55:56,920  SpectraRegion  INFO: Created matrices with shape (57, 17900) and (422, 17900) (target, bg)\n",
      "2020-06-16 17:55:56,920  SpectraRegion  INFO: Created matrices with shape (57, 17900) and (422, 17900) (target, bg)\n",
      "I0616 17:55:56.920713 140009190655808 segment.py:1057] Created matrices with shape (57, 17900) and (422, 17900) (target, bg)\n",
      "2020-06-16 17:55:56,949  SpectraRegion  INFO: DE result for case ((4,), (1, 2, 3, 5, 6, 7, 8)) with (17900, 7) results\n",
      "2020-06-16 17:55:56,949  SpectraRegion  INFO: DE result for case ((4,), (1, 2, 3, 5, 6, 7, 8)) with (17900, 7) results\n",
      "2020-06-16 17:55:56,949  SpectraRegion  INFO: DE result for case ((4,), (1, 2, 3, 5, 6, 7, 8)) with (17900, 7) results\n",
      "2020-06-16 17:55:56,949  SpectraRegion  INFO: DE result for case ((4,), (1, 2, 3, 5, 6, 7, 8)) with (17900, 7) results\n",
      "I0616 17:55:56.949439 140009190655808 segment.py:1023] DE result for case ((4,), (1, 2, 3, 5, 6, 7, 8)) with (17900, 7) results\n",
      "2020-06-16 17:55:56,953  SpectraRegion  INFO: DE result logFC inversed\n",
      "2020-06-16 17:55:56,953  SpectraRegion  INFO: DE result logFC inversed\n",
      "2020-06-16 17:55:56,953  SpectraRegion  INFO: DE result logFC inversed\n",
      "2020-06-16 17:55:56,953  SpectraRegion  INFO: DE result logFC inversed\n",
      "I0616 17:55:56.953457 140009190655808 segment.py:1046] DE result logFC inversed\n",
      "2020-06-16 17:55:56,964  SpectraRegion  INFO: DE result for case ((4,), (1, 2, 3, 5, 6, 7, 8)) with (468, 7) results (filtered)\n",
      "2020-06-16 17:55:56,964  SpectraRegion  INFO: DE result for case ((4,), (1, 2, 3, 5, 6, 7, 8)) with (468, 7) results (filtered)\n",
      "2020-06-16 17:55:56,964  SpectraRegion  INFO: DE result for case ((4,), (1, 2, 3, 5, 6, 7, 8)) with (468, 7) results (filtered)\n",
      "2020-06-16 17:55:56,964  SpectraRegion  INFO: DE result for case ((4,), (1, 2, 3, 5, 6, 7, 8)) with (468, 7) results (filtered)\n",
      "I0616 17:55:56.964771 140009190655808 segment.py:1051] DE result for case ((4,), (1, 2, 3, 5, 6, 7, 8)) with (468, 7) results (filtered)\n",
      "2020-06-16 17:55:57,058  SpectraRegion  INFO: Created matrices with shape (57, 17900) and (422, 17900) (target, bg)\n",
      "2020-06-16 17:55:57,058  SpectraRegion  INFO: Created matrices with shape (57, 17900) and (422, 17900) (target, bg)\n",
      "2020-06-16 17:55:57,058  SpectraRegion  INFO: Created matrices with shape (57, 17900) and (422, 17900) (target, bg)\n",
      "2020-06-16 17:55:57,058  SpectraRegion  INFO: Created matrices with shape (57, 17900) and (422, 17900) (target, bg)\n",
      "I0616 17:55:57.058449 140009190655808 segment.py:1057] Created matrices with shape (57, 17900) and (422, 17900) (target, bg)\n",
      "2020-06-16 17:55:58,290  SpectraRegion  INFO: DE data for case: [7]\n",
      "2020-06-16 17:55:58,290  SpectraRegion  INFO: DE data for case: [7]\n",
      "2020-06-16 17:55:58,290  SpectraRegion  INFO: DE data for case: [7]\n",
      "2020-06-16 17:55:58,290  SpectraRegion  INFO: DE data for case: [7]\n",
      "I0616 17:55:58.290871 140009190655808 segment.py:1286] DE data for case: [7]\n",
      "2020-06-16 17:55:58,294  SpectraRegion  INFO: DE data for control: [8, 1, 3, 2, 6, 4, 5]\n",
      "2020-06-16 17:55:58,294  SpectraRegion  INFO: DE data for control: [8, 1, 3, 2, 6, 4, 5]\n",
      "2020-06-16 17:55:58,294  SpectraRegion  INFO: DE data for control: [8, 1, 3, 2, 6, 4, 5]\n",
      "2020-06-16 17:55:58,294  SpectraRegion  INFO: DE data for control: [8, 1, 3, 2, 6, 4, 5]\n",
      "I0616 17:55:58.294232 140009190655808 segment.py:1287] DE data for control: [8, 1, 3, 2, 6, 4, 5]\n",
      "2020-06-16 17:55:58,298  SpectraRegion  INFO: DE result key: ((7,), (1, 2, 3, 4, 5, 6, 8))\n",
      "2020-06-16 17:55:58,298  SpectraRegion  INFO: DE result key: ((7,), (1, 2, 3, 4, 5, 6, 8))\n",
      "2020-06-16 17:55:58,298  SpectraRegion  INFO: DE result key: ((7,), (1, 2, 3, 4, 5, 6, 8))\n",
      "2020-06-16 17:55:58,298  SpectraRegion  INFO: DE result key: ((7,), (1, 2, 3, 4, 5, 6, 8))\n",
      "I0616 17:55:58.298916 140009190655808 segment.py:1291] DE result key: ((7,), (1, 2, 3, 4, 5, 6, 8))\n",
      "2020-06-16 17:55:58,332  SpectraRegion  INFO: Processing cluster: 7\n",
      "2020-06-16 17:55:58,332  SpectraRegion  INFO: Processing cluster: 7\n",
      "2020-06-16 17:55:58,332  SpectraRegion  INFO: Processing cluster: 7\n",
      "2020-06-16 17:55:58,332  SpectraRegion  INFO: Processing cluster: 7\n",
      "I0616 17:55:58.332961 140009190655808 segment.py:1309] Processing cluster: 7\n",
      "2020-06-16 17:55:58,368  SpectraRegion  INFO: Processing cluster: 8\n",
      "2020-06-16 17:55:58,368  SpectraRegion  INFO: Processing cluster: 8\n",
      "2020-06-16 17:55:58,368  SpectraRegion  INFO: Processing cluster: 8\n",
      "2020-06-16 17:55:58,368  SpectraRegion  INFO: Processing cluster: 8\n",
      "I0616 17:55:58.368935 140009190655808 segment.py:1322] Processing cluster: 8\n",
      "2020-06-16 17:55:58,412  SpectraRegion  INFO: Processing cluster: 1\n",
      "2020-06-16 17:55:58,412  SpectraRegion  INFO: Processing cluster: 1\n",
      "2020-06-16 17:55:58,412  SpectraRegion  INFO: Processing cluster: 1\n",
      "2020-06-16 17:55:58,412  SpectraRegion  INFO: Processing cluster: 1\n",
      "I0616 17:55:58.412467 140009190655808 segment.py:1322] Processing cluster: 1\n",
      "2020-06-16 17:55:58,488  SpectraRegion  INFO: Processing cluster: 3\n",
      "2020-06-16 17:55:58,488  SpectraRegion  INFO: Processing cluster: 3\n",
      "2020-06-16 17:55:58,488  SpectraRegion  INFO: Processing cluster: 3\n",
      "2020-06-16 17:55:58,488  SpectraRegion  INFO: Processing cluster: 3\n",
      "I0616 17:55:58.488102 140009190655808 segment.py:1322] Processing cluster: 3\n"
     ]
    },
    {
     "name": "stdout",
     "output_type": "stream",
     "text": [
      "Running [7] against [8, 1, 3, 2, 6, 4, 5]\n"
     ]
    },
    {
     "name": "stderr",
     "output_type": "stream",
     "text": [
      "2020-06-16 17:55:58,518  SpectraRegion  INFO: Processing cluster: 2\n",
      "2020-06-16 17:55:58,518  SpectraRegion  INFO: Processing cluster: 2\n",
      "2020-06-16 17:55:58,518  SpectraRegion  INFO: Processing cluster: 2\n",
      "2020-06-16 17:55:58,518  SpectraRegion  INFO: Processing cluster: 2\n",
      "I0616 17:55:58.518851 140009190655808 segment.py:1322] Processing cluster: 2\n",
      "2020-06-16 17:55:58,560  SpectraRegion  INFO: Processing cluster: 6\n",
      "2020-06-16 17:55:58,560  SpectraRegion  INFO: Processing cluster: 6\n",
      "2020-06-16 17:55:58,560  SpectraRegion  INFO: Processing cluster: 6\n",
      "2020-06-16 17:55:58,560  SpectraRegion  INFO: Processing cluster: 6\n",
      "I0616 17:55:58.560329 140009190655808 segment.py:1322] Processing cluster: 6\n",
      "2020-06-16 17:55:58,645  SpectraRegion  INFO: Processing cluster: 4\n",
      "2020-06-16 17:55:58,645  SpectraRegion  INFO: Processing cluster: 4\n",
      "2020-06-16 17:55:58,645  SpectraRegion  INFO: Processing cluster: 4\n",
      "2020-06-16 17:55:58,645  SpectraRegion  INFO: Processing cluster: 4\n",
      "I0616 17:55:58.645569 140009190655808 segment.py:1322] Processing cluster: 4\n",
      "2020-06-16 17:55:58,685  SpectraRegion  INFO: Processing cluster: 5\n",
      "2020-06-16 17:55:58,685  SpectraRegion  INFO: Processing cluster: 5\n",
      "2020-06-16 17:55:58,685  SpectraRegion  INFO: Processing cluster: 5\n",
      "2020-06-16 17:55:58,685  SpectraRegion  INFO: Processing cluster: 5\n",
      "I0616 17:55:58.685428 140009190655808 segment.py:1322] Processing cluster: 5\n",
      "2020-06-16 17:55:58,700  SpectraRegion  INFO: DE DataFrame ready. Shape (17900, 479)\n",
      "2020-06-16 17:55:58,700  SpectraRegion  INFO: DE DataFrame ready. Shape (17900, 479)\n",
      "2020-06-16 17:55:58,700  SpectraRegion  INFO: DE DataFrame ready. Shape (17900, 479)\n",
      "2020-06-16 17:55:58,700  SpectraRegion  INFO: DE DataFrame ready. Shape (17900, 479)\n",
      "I0616 17:55:58.700574 140009190655808 segment.py:1335] DE DataFrame ready. Shape (17900, 479)\n",
      "2020-06-16 17:55:58,707  SpectraRegion  INFO: DE Sample DataFrame ready. Shape (479, 3)\n",
      "2020-06-16 17:55:58,707  SpectraRegion  INFO: DE Sample DataFrame ready. Shape (479, 3)\n",
      "2020-06-16 17:55:58,707  SpectraRegion  INFO: DE Sample DataFrame ready. Shape (479, 3)\n",
      "2020-06-16 17:55:58,707  SpectraRegion  INFO: DE Sample DataFrame ready. Shape (479, 3)\n",
      "I0616 17:55:58.707894 140009190655808 segment.py:1343] DE Sample DataFrame ready. Shape (479, 3)\n",
      "2020-06-16 17:55:59,809  SpectraRegion  INFO: Starting EMPIRE; Writing Expression Files\n",
      "2020-06-16 17:55:59,809  SpectraRegion  INFO: Starting EMPIRE; Writing Expression Files\n",
      "2020-06-16 17:55:59,809  SpectraRegion  INFO: Starting EMPIRE; Writing Expression Files\n",
      "2020-06-16 17:55:59,809  SpectraRegion  INFO: Starting EMPIRE; Writing Expression Files\n",
      "I0616 17:55:59.809968 140009190655808 segment.py:1359] Starting EMPIRE; Writing Expression Files\n",
      "2020-06-16 17:56:13,262  SpectraRegion  INFO: Starting EMPIRE; Running nlEmpiRe\n",
      "2020-06-16 17:56:13,262  SpectraRegion  INFO: Starting EMPIRE; Running nlEmpiRe\n",
      "2020-06-16 17:56:13,262  SpectraRegion  INFO: Starting EMPIRE; Running nlEmpiRe\n",
      "2020-06-16 17:56:13,262  SpectraRegion  INFO: Starting EMPIRE; Running nlEmpiRe\n",
      "I0616 17:56:13.262408 140009190655808 segment.py:1377] Starting EMPIRE; Running nlEmpiRe\n"
     ]
    },
    {
     "name": "stdout",
     "output_type": "stream",
     "text": [
      "Max condition count (1, 431)\n",
      "/usr/bin/java -Xmx24G -cp /mnt/d/dev/git/pyIMS/src/pySRM/pysrm/../../../tools/nlEmpiRe.jar nlEmpiRe.input.ExpressionSet -getbestsubN 100 -inputdir ./ -cond1 0 -cond2 1 -o .//exprs_ds.txt\n",
      "Cmd returned with exit code 0\n",
      "Writing new Pdata\n",
      "Writing new exprs data\n",
      "/usr/bin/java -Xmx16G -cp /mnt/d/dev/git/pyIMS/src/pySRM/pysrm/../../../tools/nlEmpiRe.jar nlEmpiRe.input.ExpressionSet -inputdir ./ -cond1 0 -cond2 1 -o .//region4.7.1_2_3_4_5_6_8.tsv\n",
      "Cmd returned with exit code 1\n",
      "1\n",
      "Exception in thread \"main\" lmu.utils.FRuntimeException: 1: cannot normalize samples - too many non-overlapping features clustered 50 samples into 2 groups:\n",
      "\tcluster: 1 size: 49 replicates: [cond2.rep1, cond2.rep2, cond2.rep3, cond2.rep4, cond2.rep5, cond2.rep6, cond2.rep7, cond2.rep8, cond2.rep9, cond2.rep10, cond2.rep11, cond2.rep12, cond2.rep13, cond2.rep14, cond2.rep15, cond2.rep16, cond2.rep17, cond2.rep18, cond2.rep19, cond2.rep20, cond2.rep21, cond2.rep22, cond2.rep23, cond2.rep24, cond2.rep25, cond2.rep26, cond2.rep27, cond2.rep28, cond2.rep29, cond2.rep30, cond2.rep31, cond2.rep32, cond2.rep33, cond2.rep34, cond2.rep35, cond2.rep36, cond2.rep37, cond2.rep38, cond2.rep39, cond2.rep40, cond2.rep41, cond2.rep42, cond2.rep43, cond2.rep44, cond2.rep45, cond2.rep46, cond2.rep47, cond2.rep48, cond2.rep49]\n",
      "\tcluster: 2 size: 1 replicates: [cond2.rep50]\n",
      "\n",
      "\tat nlEmpiRe.NormalizedReplicateSet.<init>(NormalizedReplicateSet.java:58)\n",
      "\tat nlEmpiRe.input.ExpressionSet.main(ExpressionSet.java:279)\n",
      "\n",
      "Loading pdata\n",
      "Removing spectra ['cond2.rep50']\n",
      "         sample  condition  batch\n",
      "0    cond1.rep1          0      0\n",
      "1    cond1.rep2          0      0\n",
      "2    cond1.rep3          0      0\n",
      "3    cond1.rep4          0      0\n",
      "4    cond1.rep5          0      0\n",
      "5    cond1.rep6          0      0\n",
      "6    cond1.rep7          0      0\n",
      "7    cond1.rep8          0      0\n",
      "8    cond1.rep9          0      0\n",
      "9   cond1.rep10          0      0\n",
      "10  cond1.rep11          0      0\n",
      "11  cond1.rep12          0      0\n",
      "12  cond1.rep13          0      0\n",
      "13  cond1.rep14          0      0\n",
      "14  cond1.rep15          0      0\n",
      "15  cond1.rep16          0      0\n",
      "16  cond1.rep17          0      0\n",
      "17  cond1.rep18          0      0\n",
      "18  cond1.rep19          0      0\n",
      "19  cond1.rep20          0      0\n",
      "20  cond1.rep21          0      0\n",
      "21  cond1.rep22          0      0\n",
      "22  cond1.rep23          0      0\n",
      "23  cond1.rep24          0      0\n",
      "24  cond1.rep25          0      0\n",
      "25  cond1.rep26          0      0\n",
      "26  cond1.rep27          0      0\n",
      "27  cond1.rep28          0      0\n",
      "28  cond1.rep29          0      0\n",
      "29  cond1.rep30          0      0\n",
      "..          ...        ...    ...\n",
      "69  cond2.rep20          1      0\n",
      "70  cond2.rep21          1      0\n",
      "71  cond2.rep22          1      0\n",
      "72  cond2.rep23          1      0\n",
      "73  cond2.rep24          1      0\n",
      "74  cond2.rep25          1      0\n",
      "75  cond2.rep26          1      0\n",
      "76  cond2.rep27          1      0\n",
      "77  cond2.rep28          1      0\n",
      "78  cond2.rep29          1      0\n",
      "79  cond2.rep30          1      0\n",
      "80  cond2.rep31          1      0\n",
      "81  cond2.rep32          1      0\n",
      "82  cond2.rep33          1      0\n",
      "83  cond2.rep34          1      0\n",
      "84  cond2.rep35          1      0\n",
      "85  cond2.rep36          1      0\n",
      "86  cond2.rep37          1      0\n",
      "87  cond2.rep38          1      0\n",
      "88  cond2.rep39          1      0\n",
      "89  cond2.rep40          1      0\n",
      "90  cond2.rep41          1      0\n",
      "91  cond2.rep42          1      0\n",
      "92  cond2.rep43          1      0\n",
      "93  cond2.rep44          1      0\n",
      "94  cond2.rep45          1      0\n",
      "95  cond2.rep46          1      0\n",
      "96  cond2.rep47          1      0\n",
      "97  cond2.rep48          1      0\n",
      "98  cond2.rep49          1      0\n",
      "\n",
      "[99 rows x 3 columns]\n",
      "/usr/bin/java -Xmx16G -cp /mnt/d/dev/git/pyIMS/src/pySRM/pysrm/../../../tools/nlEmpiRe.jar nlEmpiRe.input.ExpressionSet -inputdir ./ -cond1 0 -cond2 1 -o .//region4.7.1_2_3_4_5_6_8.tsv\n"
     ]
    },
    {
     "name": "stderr",
     "output_type": "stream",
     "text": [
      "2020-06-16 17:59:17,639  SpectraRegion  INFO: Performing DE-test: ttest\n",
      "2020-06-16 17:59:17,639  SpectraRegion  INFO: Performing DE-test: ttest\n",
      "2020-06-16 17:59:17,639  SpectraRegion  INFO: Performing DE-test: ttest\n",
      "2020-06-16 17:59:17,639  SpectraRegion  INFO: Performing DE-test: ttest\n",
      "I0616 17:59:17.639245 140009190655808 segment.py:1395] Performing DE-test: ttest\n"
     ]
    },
    {
     "name": "stdout",
     "output_type": "stream",
     "text": [
      "Cmd returned with exit code 0\n",
      "0\n",
      "EMPIRE output available: .//region4.7.1_2_3_4_5_6_8.tsv\n"
     ]
    },
    {
     "name": "stderr",
     "output_type": "stream",
     "text": [
      "2020-06-16 17:59:17,988  SpectraRegion  INFO: DE-test finished. Results available: ((7,), (1, 2, 3, 4, 5, 6, 8))\n",
      "2020-06-16 17:59:17,988  SpectraRegion  INFO: DE-test finished. Results available: ((7,), (1, 2, 3, 4, 5, 6, 8))\n",
      "2020-06-16 17:59:17,988  SpectraRegion  INFO: DE-test finished. Results available: ((7,), (1, 2, 3, 4, 5, 6, 8))\n",
      "2020-06-16 17:59:17,988  SpectraRegion  INFO: DE-test finished. Results available: ((7,), (1, 2, 3, 4, 5, 6, 8))\n",
      "I0616 17:59:17.988432 140009190655808 segment.py:1420] DE-test finished. Results available: ((7,), (1, 2, 3, 4, 5, 6, 8))\n",
      "2020-06-16 17:59:18,043  SpectraRegion  INFO: DE result for case ((7,), (1, 2, 3, 4, 5, 6, 8)) with (17900, 16) results\n",
      "2020-06-16 17:59:18,043  SpectraRegion  INFO: DE result for case ((7,), (1, 2, 3, 4, 5, 6, 8)) with (17900, 16) results\n",
      "2020-06-16 17:59:18,043  SpectraRegion  INFO: DE result for case ((7,), (1, 2, 3, 4, 5, 6, 8)) with (17900, 16) results\n",
      "2020-06-16 17:59:18,043  SpectraRegion  INFO: DE result for case ((7,), (1, 2, 3, 4, 5, 6, 8)) with (17900, 16) results\n",
      "I0616 17:59:18.043875 140009190655808 segment.py:1023] DE result for case ((7,), (1, 2, 3, 4, 5, 6, 8)) with (17900, 16) results\n",
      "2020-06-16 17:59:18,057  SpectraRegion  INFO: DE result for case ((7,), (1, 2, 3, 4, 5, 6, 8)) with (0, 16) results (filtered)\n",
      "2020-06-16 17:59:18,057  SpectraRegion  INFO: DE result for case ((7,), (1, 2, 3, 4, 5, 6, 8)) with (0, 16) results (filtered)\n",
      "2020-06-16 17:59:18,057  SpectraRegion  INFO: DE result for case ((7,), (1, 2, 3, 4, 5, 6, 8)) with (0, 16) results (filtered)\n",
      "2020-06-16 17:59:18,057  SpectraRegion  INFO: DE result for case ((7,), (1, 2, 3, 4, 5, 6, 8)) with (0, 16) results (filtered)\n",
      "I0616 17:59:18.057469 140009190655808 segment.py:1051] DE result for case ((7,), (1, 2, 3, 4, 5, 6, 8)) with (0, 16) results (filtered)\n",
      "2020-06-16 17:59:18,197  SpectraRegion  INFO: Created matrices with shape (48, 17900) and (431, 17900) (target, bg)\n",
      "2020-06-16 17:59:18,197  SpectraRegion  INFO: Created matrices with shape (48, 17900) and (431, 17900) (target, bg)\n",
      "2020-06-16 17:59:18,197  SpectraRegion  INFO: Created matrices with shape (48, 17900) and (431, 17900) (target, bg)\n",
      "2020-06-16 17:59:18,197  SpectraRegion  INFO: Created matrices with shape (48, 17900) and (431, 17900) (target, bg)\n",
      "I0616 17:59:18.197822 140009190655808 segment.py:1057] Created matrices with shape (48, 17900) and (431, 17900) (target, bg)\n",
      "2020-06-16 17:59:18,239  SpectraRegion  INFO: DE result for case ((7,), (1, 2, 3, 4, 5, 6, 8)) with (17900, 7) results\n",
      "2020-06-16 17:59:18,239  SpectraRegion  INFO: DE result for case ((7,), (1, 2, 3, 4, 5, 6, 8)) with (17900, 7) results\n",
      "2020-06-16 17:59:18,239  SpectraRegion  INFO: DE result for case ((7,), (1, 2, 3, 4, 5, 6, 8)) with (17900, 7) results\n",
      "2020-06-16 17:59:18,239  SpectraRegion  INFO: DE result for case ((7,), (1, 2, 3, 4, 5, 6, 8)) with (17900, 7) results\n",
      "I0616 17:59:18.239027 140009190655808 segment.py:1023] DE result for case ((7,), (1, 2, 3, 4, 5, 6, 8)) with (17900, 7) results\n",
      "2020-06-16 17:59:18,247  SpectraRegion  INFO: DE result logFC inversed\n",
      "2020-06-16 17:59:18,247  SpectraRegion  INFO: DE result logFC inversed\n",
      "2020-06-16 17:59:18,247  SpectraRegion  INFO: DE result logFC inversed\n",
      "2020-06-16 17:59:18,247  SpectraRegion  INFO: DE result logFC inversed\n",
      "I0616 17:59:18.247794 140009190655808 segment.py:1046] DE result logFC inversed\n",
      "2020-06-16 17:59:18,259  SpectraRegion  INFO: DE result for case ((7,), (1, 2, 3, 4, 5, 6, 8)) with (594, 7) results (filtered)\n",
      "2020-06-16 17:59:18,259  SpectraRegion  INFO: DE result for case ((7,), (1, 2, 3, 4, 5, 6, 8)) with (594, 7) results (filtered)\n",
      "2020-06-16 17:59:18,259  SpectraRegion  INFO: DE result for case ((7,), (1, 2, 3, 4, 5, 6, 8)) with (594, 7) results (filtered)\n",
      "2020-06-16 17:59:18,259  SpectraRegion  INFO: DE result for case ((7,), (1, 2, 3, 4, 5, 6, 8)) with (594, 7) results (filtered)\n",
      "I0616 17:59:18.259307 140009190655808 segment.py:1051] DE result for case ((7,), (1, 2, 3, 4, 5, 6, 8)) with (594, 7) results (filtered)\n",
      "2020-06-16 17:59:18,362  SpectraRegion  INFO: Created matrices with shape (48, 17900) and (431, 17900) (target, bg)\n",
      "2020-06-16 17:59:18,362  SpectraRegion  INFO: Created matrices with shape (48, 17900) and (431, 17900) (target, bg)\n",
      "2020-06-16 17:59:18,362  SpectraRegion  INFO: Created matrices with shape (48, 17900) and (431, 17900) (target, bg)\n",
      "2020-06-16 17:59:18,362  SpectraRegion  INFO: Created matrices with shape (48, 17900) and (431, 17900) (target, bg)\n",
      "I0616 17:59:18.362679 140009190655808 segment.py:1057] Created matrices with shape (48, 17900) and (431, 17900) (target, bg)\n",
      "2020-06-16 17:59:21,730  SpectraRegion  INFO: DE data for case: [5]\n",
      "2020-06-16 17:59:21,730  SpectraRegion  INFO: DE data for case: [5]\n",
      "2020-06-16 17:59:21,730  SpectraRegion  INFO: DE data for case: [5]\n",
      "2020-06-16 17:59:21,730  SpectraRegion  INFO: DE data for case: [5]\n",
      "I0616 17:59:21.730561 140009190655808 segment.py:1286] DE data for case: [5]\n",
      "2020-06-16 17:59:21,734  SpectraRegion  INFO: DE data for control: [8, 1, 3, 2, 6, 4, 7]\n",
      "2020-06-16 17:59:21,734  SpectraRegion  INFO: DE data for control: [8, 1, 3, 2, 6, 4, 7]\n",
      "2020-06-16 17:59:21,734  SpectraRegion  INFO: DE data for control: [8, 1, 3, 2, 6, 4, 7]\n",
      "2020-06-16 17:59:21,734  SpectraRegion  INFO: DE data for control: [8, 1, 3, 2, 6, 4, 7]\n",
      "I0616 17:59:21.734941 140009190655808 segment.py:1287] DE data for control: [8, 1, 3, 2, 6, 4, 7]\n",
      "2020-06-16 17:59:21,739  SpectraRegion  INFO: DE result key: ((5,), (1, 2, 3, 4, 6, 7, 8))\n",
      "2020-06-16 17:59:21,739  SpectraRegion  INFO: DE result key: ((5,), (1, 2, 3, 4, 6, 7, 8))\n",
      "2020-06-16 17:59:21,739  SpectraRegion  INFO: DE result key: ((5,), (1, 2, 3, 4, 6, 7, 8))\n",
      "2020-06-16 17:59:21,739  SpectraRegion  INFO: DE result key: ((5,), (1, 2, 3, 4, 6, 7, 8))\n",
      "I0616 17:59:21.739869 140009190655808 segment.py:1291] DE result key: ((5,), (1, 2, 3, 4, 6, 7, 8))\n",
      "2020-06-16 17:59:21,772  SpectraRegion  INFO: Processing cluster: 5\n",
      "2020-06-16 17:59:21,772  SpectraRegion  INFO: Processing cluster: 5\n",
      "2020-06-16 17:59:21,772  SpectraRegion  INFO: Processing cluster: 5\n",
      "2020-06-16 17:59:21,772  SpectraRegion  INFO: Processing cluster: 5\n",
      "I0616 17:59:21.772568 140009190655808 segment.py:1309] Processing cluster: 5\n",
      "2020-06-16 17:59:21,794  SpectraRegion  INFO: Processing cluster: 8\n",
      "2020-06-16 17:59:21,794  SpectraRegion  INFO: Processing cluster: 8\n",
      "2020-06-16 17:59:21,794  SpectraRegion  INFO: Processing cluster: 8\n",
      "2020-06-16 17:59:21,794  SpectraRegion  INFO: Processing cluster: 8\n",
      "I0616 17:59:21.794100 140009190655808 segment.py:1322] Processing cluster: 8\n",
      "2020-06-16 17:59:21,838  SpectraRegion  INFO: Processing cluster: 1\n",
      "2020-06-16 17:59:21,838  SpectraRegion  INFO: Processing cluster: 1\n",
      "2020-06-16 17:59:21,838  SpectraRegion  INFO: Processing cluster: 1\n",
      "2020-06-16 17:59:21,838  SpectraRegion  INFO: Processing cluster: 1\n",
      "I0616 17:59:21.838018 140009190655808 segment.py:1322] Processing cluster: 1\n",
      "2020-06-16 17:59:21,893  SpectraRegion  INFO: Processing cluster: 3\n",
      "2020-06-16 17:59:21,893  SpectraRegion  INFO: Processing cluster: 3\n",
      "2020-06-16 17:59:21,893  SpectraRegion  INFO: Processing cluster: 3\n",
      "2020-06-16 17:59:21,893  SpectraRegion  INFO: Processing cluster: 3\n",
      "I0616 17:59:21.893693 140009190655808 segment.py:1322] Processing cluster: 3\n"
     ]
    },
    {
     "name": "stdout",
     "output_type": "stream",
     "text": [
      "Running [5] against [8, 1, 3, 2, 6, 4, 7]\n"
     ]
    },
    {
     "name": "stderr",
     "output_type": "stream",
     "text": [
      "2020-06-16 17:59:21,955  SpectraRegion  INFO: Processing cluster: 2\n",
      "2020-06-16 17:59:21,955  SpectraRegion  INFO: Processing cluster: 2\n",
      "2020-06-16 17:59:21,955  SpectraRegion  INFO: Processing cluster: 2\n",
      "2020-06-16 17:59:21,955  SpectraRegion  INFO: Processing cluster: 2\n",
      "I0616 17:59:21.955005 140009190655808 segment.py:1322] Processing cluster: 2\n",
      "2020-06-16 17:59:21,990  SpectraRegion  INFO: Processing cluster: 6\n",
      "2020-06-16 17:59:21,990  SpectraRegion  INFO: Processing cluster: 6\n",
      "2020-06-16 17:59:21,990  SpectraRegion  INFO: Processing cluster: 6\n",
      "2020-06-16 17:59:21,990  SpectraRegion  INFO: Processing cluster: 6\n",
      "I0616 17:59:21.990866 140009190655808 segment.py:1322] Processing cluster: 6\n",
      "2020-06-16 17:59:22,057  SpectraRegion  INFO: Processing cluster: 4\n",
      "2020-06-16 17:59:22,057  SpectraRegion  INFO: Processing cluster: 4\n",
      "2020-06-16 17:59:22,057  SpectraRegion  INFO: Processing cluster: 4\n",
      "2020-06-16 17:59:22,057  SpectraRegion  INFO: Processing cluster: 4\n",
      "I0616 17:59:22.057152 140009190655808 segment.py:1322] Processing cluster: 4\n",
      "2020-06-16 17:59:22,118  SpectraRegion  INFO: Processing cluster: 7\n",
      "2020-06-16 17:59:22,118  SpectraRegion  INFO: Processing cluster: 7\n",
      "2020-06-16 17:59:22,118  SpectraRegion  INFO: Processing cluster: 7\n",
      "2020-06-16 17:59:22,118  SpectraRegion  INFO: Processing cluster: 7\n",
      "I0616 17:59:22.118675 140009190655808 segment.py:1322] Processing cluster: 7\n",
      "2020-06-16 17:59:22,154  SpectraRegion  INFO: DE DataFrame ready. Shape (17900, 479)\n",
      "2020-06-16 17:59:22,154  SpectraRegion  INFO: DE DataFrame ready. Shape (17900, 479)\n",
      "2020-06-16 17:59:22,154  SpectraRegion  INFO: DE DataFrame ready. Shape (17900, 479)\n",
      "2020-06-16 17:59:22,154  SpectraRegion  INFO: DE DataFrame ready. Shape (17900, 479)\n",
      "I0616 17:59:22.154147 140009190655808 segment.py:1335] DE DataFrame ready. Shape (17900, 479)\n",
      "2020-06-16 17:59:22,161  SpectraRegion  INFO: DE Sample DataFrame ready. Shape (479, 3)\n",
      "2020-06-16 17:59:22,161  SpectraRegion  INFO: DE Sample DataFrame ready. Shape (479, 3)\n",
      "2020-06-16 17:59:22,161  SpectraRegion  INFO: DE Sample DataFrame ready. Shape (479, 3)\n",
      "2020-06-16 17:59:22,161  SpectraRegion  INFO: DE Sample DataFrame ready. Shape (479, 3)\n",
      "I0616 17:59:22.161178 140009190655808 segment.py:1343] DE Sample DataFrame ready. Shape (479, 3)\n",
      "2020-06-16 17:59:23,361  SpectraRegion  INFO: Starting EMPIRE; Writing Expression Files\n",
      "2020-06-16 17:59:23,361  SpectraRegion  INFO: Starting EMPIRE; Writing Expression Files\n",
      "2020-06-16 17:59:23,361  SpectraRegion  INFO: Starting EMPIRE; Writing Expression Files\n",
      "2020-06-16 17:59:23,361  SpectraRegion  INFO: Starting EMPIRE; Writing Expression Files\n",
      "I0616 17:59:23.361859 140009190655808 segment.py:1359] Starting EMPIRE; Writing Expression Files\n",
      "2020-06-16 17:59:37,052  SpectraRegion  INFO: Starting EMPIRE; Running nlEmpiRe\n",
      "2020-06-16 17:59:37,052  SpectraRegion  INFO: Starting EMPIRE; Running nlEmpiRe\n",
      "2020-06-16 17:59:37,052  SpectraRegion  INFO: Starting EMPIRE; Running nlEmpiRe\n",
      "2020-06-16 17:59:37,052  SpectraRegion  INFO: Starting EMPIRE; Running nlEmpiRe\n",
      "I0616 17:59:37.052525 140009190655808 segment.py:1377] Starting EMPIRE; Running nlEmpiRe\n"
     ]
    },
    {
     "name": "stdout",
     "output_type": "stream",
     "text": [
      "Max condition count (1, 461)\n",
      "/usr/bin/java -Xmx24G -cp /mnt/d/dev/git/pyIMS/src/pySRM/pysrm/../../../tools/nlEmpiRe.jar nlEmpiRe.input.ExpressionSet -getbestsubN 100 -inputdir ./ -cond1 0 -cond2 1 -o .//exprs_ds.txt\n",
      "Cmd returned with exit code 0\n",
      "Writing new Pdata\n",
      "Writing new exprs data\n",
      "/usr/bin/java -Xmx16G -cp /mnt/d/dev/git/pyIMS/src/pySRM/pysrm/../../../tools/nlEmpiRe.jar nlEmpiRe.input.ExpressionSet -inputdir ./ -cond1 0 -cond2 1 -o .//region4.5.1_2_3_4_6_7_8.tsv\n",
      "Cmd returned with exit code 1\n",
      "1\n",
      "Exception in thread \"main\" lmu.utils.FRuntimeException: 1: cannot normalize samples - too many non-overlapping features clustered 50 samples into 2 groups:\n",
      "\tcluster: 1 size: 49 replicates: [cond2.rep1, cond2.rep2, cond2.rep3, cond2.rep4, cond2.rep5, cond2.rep6, cond2.rep7, cond2.rep8, cond2.rep9, cond2.rep10, cond2.rep11, cond2.rep12, cond2.rep13, cond2.rep14, cond2.rep15, cond2.rep16, cond2.rep17, cond2.rep18, cond2.rep19, cond2.rep20, cond2.rep21, cond2.rep22, cond2.rep23, cond2.rep24, cond2.rep25, cond2.rep26, cond2.rep27, cond2.rep28, cond2.rep29, cond2.rep30, cond2.rep31, cond2.rep32, cond2.rep33, cond2.rep34, cond2.rep35, cond2.rep36, cond2.rep37, cond2.rep38, cond2.rep39, cond2.rep40, cond2.rep41, cond2.rep42, cond2.rep43, cond2.rep44, cond2.rep45, cond2.rep46, cond2.rep47, cond2.rep48, cond2.rep49]\n",
      "\tcluster: 2 size: 1 replicates: [cond2.rep50]\n",
      "\n",
      "\tat nlEmpiRe.NormalizedReplicateSet.<init>(NormalizedReplicateSet.java:58)\n",
      "\tat nlEmpiRe.input.ExpressionSet.main(ExpressionSet.java:279)\n",
      "\n",
      "Loading pdata\n",
      "Removing spectra ['cond2.rep50']\n",
      "         sample  condition  batch\n",
      "0    cond1.rep1          0      0\n",
      "1    cond1.rep2          0      0\n",
      "2    cond1.rep3          0      0\n",
      "3    cond1.rep4          0      0\n",
      "4    cond1.rep5          0      0\n",
      "5    cond1.rep6          0      0\n",
      "6    cond1.rep7          0      0\n",
      "7    cond1.rep8          0      0\n",
      "8    cond1.rep9          0      0\n",
      "9   cond1.rep10          0      0\n",
      "10  cond1.rep11          0      0\n",
      "11  cond1.rep12          0      0\n",
      "12  cond1.rep13          0      0\n",
      "13  cond1.rep14          0      0\n",
      "14  cond1.rep15          0      0\n",
      "15  cond1.rep16          0      0\n",
      "16  cond1.rep17          0      0\n",
      "17  cond1.rep18          0      0\n",
      "18  cond1.rep19          0      0\n",
      "19  cond1.rep20          0      0\n",
      "20  cond1.rep21          0      0\n",
      "21  cond1.rep22          0      0\n",
      "22  cond1.rep23          0      0\n",
      "23  cond1.rep24          0      0\n",
      "24  cond1.rep25          0      0\n",
      "25  cond1.rep26          0      0\n",
      "26  cond1.rep27          0      0\n",
      "27  cond1.rep28          0      0\n",
      "28  cond1.rep29          0      0\n",
      "29  cond1.rep30          0      0\n",
      "..          ...        ...    ...\n",
      "69  cond2.rep20          1      0\n",
      "70  cond2.rep21          1      0\n",
      "71  cond2.rep22          1      0\n",
      "72  cond2.rep23          1      0\n",
      "73  cond2.rep24          1      0\n",
      "74  cond2.rep25          1      0\n",
      "75  cond2.rep26          1      0\n",
      "76  cond2.rep27          1      0\n",
      "77  cond2.rep28          1      0\n",
      "78  cond2.rep29          1      0\n",
      "79  cond2.rep30          1      0\n",
      "80  cond2.rep31          1      0\n",
      "81  cond2.rep32          1      0\n",
      "82  cond2.rep33          1      0\n",
      "83  cond2.rep34          1      0\n",
      "84  cond2.rep35          1      0\n",
      "85  cond2.rep36          1      0\n",
      "86  cond2.rep37          1      0\n",
      "87  cond2.rep38          1      0\n",
      "88  cond2.rep39          1      0\n",
      "89  cond2.rep40          1      0\n",
      "90  cond2.rep41          1      0\n",
      "91  cond2.rep42          1      0\n",
      "92  cond2.rep43          1      0\n",
      "93  cond2.rep44          1      0\n",
      "94  cond2.rep45          1      0\n",
      "95  cond2.rep46          1      0\n",
      "96  cond2.rep47          1      0\n",
      "97  cond2.rep48          1      0\n",
      "98  cond2.rep49          1      0\n",
      "\n",
      "[99 rows x 3 columns]\n",
      "/usr/bin/java -Xmx16G -cp /mnt/d/dev/git/pyIMS/src/pySRM/pysrm/../../../tools/nlEmpiRe.jar nlEmpiRe.input.ExpressionSet -inputdir ./ -cond1 0 -cond2 1 -o .//region4.5.1_2_3_4_6_7_8.tsv\n"
     ]
    },
    {
     "name": "stderr",
     "output_type": "stream",
     "text": [
      "2020-06-16 18:03:00,670  SpectraRegion  INFO: Performing DE-test: ttest\n",
      "2020-06-16 18:03:00,670  SpectraRegion  INFO: Performing DE-test: ttest\n",
      "2020-06-16 18:03:00,670  SpectraRegion  INFO: Performing DE-test: ttest\n",
      "2020-06-16 18:03:00,670  SpectraRegion  INFO: Performing DE-test: ttest\n",
      "I0616 18:03:00.670173 140009190655808 segment.py:1395] Performing DE-test: ttest\n"
     ]
    },
    {
     "name": "stdout",
     "output_type": "stream",
     "text": [
      "Cmd returned with exit code 0\n",
      "0\n",
      "EMPIRE output available: .//region4.5.1_2_3_4_6_7_8.tsv\n"
     ]
    },
    {
     "name": "stderr",
     "output_type": "stream",
     "text": [
      "2020-06-16 18:03:01,066  SpectraRegion  INFO: DE-test finished. Results available: ((5,), (1, 2, 3, 4, 6, 7, 8))\n",
      "2020-06-16 18:03:01,066  SpectraRegion  INFO: DE-test finished. Results available: ((5,), (1, 2, 3, 4, 6, 7, 8))\n",
      "2020-06-16 18:03:01,066  SpectraRegion  INFO: DE-test finished. Results available: ((5,), (1, 2, 3, 4, 6, 7, 8))\n",
      "2020-06-16 18:03:01,066  SpectraRegion  INFO: DE-test finished. Results available: ((5,), (1, 2, 3, 4, 6, 7, 8))\n",
      "I0616 18:03:01.066037 140009190655808 segment.py:1420] DE-test finished. Results available: ((5,), (1, 2, 3, 4, 6, 7, 8))\n",
      "2020-06-16 18:03:01,121  SpectraRegion  INFO: DE result for case ((5,), (1, 2, 3, 4, 6, 7, 8)) with (17900, 16) results\n",
      "2020-06-16 18:03:01,121  SpectraRegion  INFO: DE result for case ((5,), (1, 2, 3, 4, 6, 7, 8)) with (17900, 16) results\n",
      "2020-06-16 18:03:01,121  SpectraRegion  INFO: DE result for case ((5,), (1, 2, 3, 4, 6, 7, 8)) with (17900, 16) results\n",
      "2020-06-16 18:03:01,121  SpectraRegion  INFO: DE result for case ((5,), (1, 2, 3, 4, 6, 7, 8)) with (17900, 16) results\n",
      "I0616 18:03:01.121489 140009190655808 segment.py:1023] DE result for case ((5,), (1, 2, 3, 4, 6, 7, 8)) with (17900, 16) results\n",
      "2020-06-16 18:03:01,130  SpectraRegion  INFO: DE result for case ((5,), (1, 2, 3, 4, 6, 7, 8)) with (0, 16) results (filtered)\n",
      "2020-06-16 18:03:01,130  SpectraRegion  INFO: DE result for case ((5,), (1, 2, 3, 4, 6, 7, 8)) with (0, 16) results (filtered)\n",
      "2020-06-16 18:03:01,130  SpectraRegion  INFO: DE result for case ((5,), (1, 2, 3, 4, 6, 7, 8)) with (0, 16) results (filtered)\n",
      "2020-06-16 18:03:01,130  SpectraRegion  INFO: DE result for case ((5,), (1, 2, 3, 4, 6, 7, 8)) with (0, 16) results (filtered)\n",
      "I0616 18:03:01.130507 140009190655808 segment.py:1051] DE result for case ((5,), (1, 2, 3, 4, 6, 7, 8)) with (0, 16) results (filtered)\n",
      "2020-06-16 18:03:01,242  SpectraRegion  INFO: Created matrices with shape (18, 17900) and (461, 17900) (target, bg)\n",
      "2020-06-16 18:03:01,242  SpectraRegion  INFO: Created matrices with shape (18, 17900) and (461, 17900) (target, bg)\n",
      "2020-06-16 18:03:01,242  SpectraRegion  INFO: Created matrices with shape (18, 17900) and (461, 17900) (target, bg)\n",
      "2020-06-16 18:03:01,242  SpectraRegion  INFO: Created matrices with shape (18, 17900) and (461, 17900) (target, bg)\n",
      "I0616 18:03:01.242542 140009190655808 segment.py:1057] Created matrices with shape (18, 17900) and (461, 17900) (target, bg)\n",
      "2020-06-16 18:03:01,276  SpectraRegion  INFO: DE result for case ((5,), (1, 2, 3, 4, 6, 7, 8)) with (17900, 7) results\n",
      "2020-06-16 18:03:01,276  SpectraRegion  INFO: DE result for case ((5,), (1, 2, 3, 4, 6, 7, 8)) with (17900, 7) results\n",
      "2020-06-16 18:03:01,276  SpectraRegion  INFO: DE result for case ((5,), (1, 2, 3, 4, 6, 7, 8)) with (17900, 7) results\n",
      "2020-06-16 18:03:01,276  SpectraRegion  INFO: DE result for case ((5,), (1, 2, 3, 4, 6, 7, 8)) with (17900, 7) results\n",
      "I0616 18:03:01.276067 140009190655808 segment.py:1023] DE result for case ((5,), (1, 2, 3, 4, 6, 7, 8)) with (17900, 7) results\n",
      "2020-06-16 18:03:01,280  SpectraRegion  INFO: DE result logFC inversed\n",
      "2020-06-16 18:03:01,280  SpectraRegion  INFO: DE result logFC inversed\n",
      "2020-06-16 18:03:01,280  SpectraRegion  INFO: DE result logFC inversed\n",
      "2020-06-16 18:03:01,280  SpectraRegion  INFO: DE result logFC inversed\n",
      "I0616 18:03:01.280707 140009190655808 segment.py:1046] DE result logFC inversed\n",
      "2020-06-16 18:03:01,291  SpectraRegion  INFO: DE result for case ((5,), (1, 2, 3, 4, 6, 7, 8)) with (1383, 7) results (filtered)\n",
      "2020-06-16 18:03:01,291  SpectraRegion  INFO: DE result for case ((5,), (1, 2, 3, 4, 6, 7, 8)) with (1383, 7) results (filtered)\n",
      "2020-06-16 18:03:01,291  SpectraRegion  INFO: DE result for case ((5,), (1, 2, 3, 4, 6, 7, 8)) with (1383, 7) results (filtered)\n",
      "2020-06-16 18:03:01,291  SpectraRegion  INFO: DE result for case ((5,), (1, 2, 3, 4, 6, 7, 8)) with (1383, 7) results (filtered)\n",
      "I0616 18:03:01.291770 140009190655808 segment.py:1051] DE result for case ((5,), (1, 2, 3, 4, 6, 7, 8)) with (1383, 7) results (filtered)\n",
      "2020-06-16 18:03:01,397  SpectraRegion  INFO: Created matrices with shape (18, 17900) and (461, 17900) (target, bg)\n",
      "2020-06-16 18:03:01,397  SpectraRegion  INFO: Created matrices with shape (18, 17900) and (461, 17900) (target, bg)\n",
      "2020-06-16 18:03:01,397  SpectraRegion  INFO: Created matrices with shape (18, 17900) and (461, 17900) (target, bg)\n",
      "2020-06-16 18:03:01,397  SpectraRegion  INFO: Created matrices with shape (18, 17900) and (461, 17900) (target, bg)\n",
      "I0616 18:03:01.397027 140009190655808 segment.py:1057] Created matrices with shape (18, 17900) and (461, 17900) (target, bg)\n"
     ]
    }
   ],
   "source": [
    "mgenes4 = spec4.find_all_markers(pw, includeBackground=False, replaceExisting=False, out_prefix=\"region4\", outdirectory=\"./\")"
   ]
  },
  {
   "cell_type": "code",
   "execution_count": 90,
   "metadata": {},
   "outputs": [],
   "source": [
    "markerGenes4 = mgenes4[\"ttest\"]\n",
    "markerGenes4.to_csv(\"marker_genes_region_4.tsv\", sep=\"\\t\", index=False)"
   ]
  },
  {
   "cell_type": "code",
   "execution_count": 91,
   "metadata": {},
   "outputs": [
    {
     "name": "stdout",
     "output_type": "stream",
     "text": [
      "Taking value gene from gene\n",
      "Taking value cluster from clusterID\n",
      "Taking value logfc from avg_logFC\n",
      "Taking value pvaladj from qvalue\n",
      "Taking value expr-mean from mean\n",
      "Taking value expressing-cell-count from num\n",
      "Taking value cluster-cell-count from anum\n",
      "Got 8 clusters.\n",
      "Starting analysis\n",
      "1\tHepatic stellate cells;Liver\t0.0\t1\t46\t{'RBP1'}\n",
      "2\tBasal cells;Epithelium\t0.0\t1\t56\t{'DUSP23'}\n",
      "2\tBasophils;Immune system\t0.0\t2\t82\t{'IFITM1', 'IGFBP7'}\n",
      "2\tCardiomyocytes;Heart\t0.0\t2\t106\t{'HAMP', 'TNNC1'}\n",
      "2\tDendritic cells;Immune system\t0.0\t1\t133\t{'LGALS3'}\n",
      "3\tBasophils;Immune system\t0.0\t1\t82\t{'IFITM1'}\n",
      "3\tEndothelial cells;Vasculature\t0.0\t1\t195\t{'GNG11'}\n",
      "3\tGamma delta T cells;Immune system\t0.0\t1\t66\t{'IFITM1'}\n",
      "3\tHepatocytes;Liver\t0.0\t1\t154\t{'APOA2'}\n",
      "4\tMonocytes;Immune system\t0.0\t1\t102\t{'IFITM3'}\n",
      "5\tPlatelets;Blood\t0.01923820860566426\t3\t131\t{'HIST1H2BC', 'PF4', 'HIST1H2BK'}\n",
      "5\tHepatic stellate cells;Liver\t0.019232762881040973\t2\t46\t{'IGFBP7', 'RBP1'}\n",
      "5\tMonocytes;Immune system\t0.012478663043020326\t1\t102\t{'IFITM3'}\n",
      "5\tHepatocytes;Liver\t0.008218656889168254\t2\t154\t{'HAMP', 'APOA2'}\n",
      "6\tHepatocytes;Liver\t0.0034683916138386526\t1\t154\t{'APOA2'}\n",
      "6\tPericytes;Vasculature\t0.0026475957924620972\t1\t64\t{'IFITM1'}\n",
      "6\tBasophils;Immune system\t0.002336200310923606\t1\t82\t{'IFITM1'}\n",
      "6\tPlatelets;Blood\t0.0016660793642451985\t1\t131\t{'PF4'}\n",
      "7\tMonocytes;Immune system\t0.0056647339005364014\t1\t102\t{'IFITM3'}\n",
      "7\tSmooth muscle cells;Smooth muscle\t0.0014674866363100104\t1\t82\t{'PCP4L1'}\n",
      "7\tMast cells;Immune system\t2.6575720394156396e-05\t1\t162\t{'PCP4L1'}\n",
      "7\tB cells;Immune system\t0.0\t1\t110\t{'HMGA1'}\n",
      "8\tHepatic stellate cells;Liver\t0.009363826253681368\t1\t46\t{'RBP1'}\n",
      "8\tCardiomyocytes;Heart\t0.008853131675044874\t2\t106\t{'HAMP', 'MYL2'}\n",
      "8\tPlasma cells;Immune system\t0.004360194670549978\t2\t86\t{'BHLHA15', 'SSR4'}\n",
      "8\tHepatocytes;Liver\t0.0018405457258760607\t1\t154\t{'HAMP'}\n"
     ]
    }
   ],
   "source": [
    "! python3 /mnt/d/dev/git/scrnaseq_celltype_prediction/analyseMarkers.py --organs \"Connective tissue\" \"Vasculature\" \"Heart\" \"Skeletal Muscle\" \"Smooth muscle\" \"Immune system\" \"Blood\" \"Epithelium\" \"Liver\" --pvaladj qvalue --markers marker_genes_region_4.tsv -n 4"
   ]
  }
 ],
 "metadata": {
  "kernelspec": {
   "display_name": "Python 3",
   "language": "python",
   "name": "python3"
  },
  "language_info": {
   "codemirror_mode": {
    "name": "ipython",
    "version": 3
   },
   "file_extension": ".py",
   "mimetype": "text/x-python",
   "name": "python",
   "nbconvert_exporter": "python",
   "pygments_lexer": "ipython3",
   "version": "3.6.7"
  }
 },
 "nbformat": 4,
 "nbformat_minor": 4
}
