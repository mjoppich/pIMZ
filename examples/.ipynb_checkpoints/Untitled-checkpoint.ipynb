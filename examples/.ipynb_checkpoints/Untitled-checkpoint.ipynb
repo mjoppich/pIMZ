{
 "cells": [
  {
   "cell_type": "code",
   "execution_count": 2,
   "metadata": {},
   "outputs": [],
   "source": [
    "import pandas as pd\n",
    "empireData=pd.read_csv(\"nldiffreg.11.1_2_3_4_5_6_7_10.tsv\", delimiter=\"\\t\")"
   ]
  },
  {
   "cell_type": "code",
   "execution_count": 7,
   "metadata": {},
   "outputs": [],
   "source": [
    "allreps = [x for x in list(empireData.columns.values) if not x in [\"gene\"]]\n",
    "\n",
    "cond1reps = [x for x in allreps if x.startswith(\"cond1\")]\n",
    "cond2reps = [x for x in allreps if x.startswith(\"cond2\")]"
   ]
  },
  {
   "cell_type": "code",
   "execution_count": null,
   "metadata": {},
   "outputs": [],
   "source": [
    "newPData = pd.DataFrame()\n",
    "\n",
    "newPData[\"sample\"] = cond1reps+cond2reps\n",
    "newPData[\"condition\"] = [0] * len(cond1reps) + [1] * len(cond2reps)\n",
    "newPData[\"batch\"] = 0"
   ]
  }
 ],
 "metadata": {
  "kernelspec": {
   "display_name": "Python 3",
   "language": "python",
   "name": "python3"
  },
  "language_info": {
   "codemirror_mode": {
    "name": "ipython",
    "version": 3
   },
   "file_extension": ".py",
   "mimetype": "text/x-python",
   "name": "python",
   "nbconvert_exporter": "python",
   "pygments_lexer": "ipython3",
   "version": "3.6.7"
  }
 },
 "nbformat": 4,
 "nbformat_minor": 4
}
