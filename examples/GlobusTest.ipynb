{
 "cells": [
  {
   "cell_type": "code",
   "execution_count": 1,
   "metadata": {},
   "outputs": [],
   "source": [
    "import globus_sdk"
   ]
  },
  {
   "cell_type": "code",
   "execution_count": 36,
   "metadata": {},
   "outputs": [
    {
     "name": "stdout",
     "output_type": "stream",
     "text": [
      "The autoreload extension is already loaded. To reload it, use:\n",
      "  %reload_ext autoreload\n"
     ]
    }
   ],
   "source": [
    "%load_ext autoreload\n",
    "import os, sys\n",
    "sys.path.append(\"../\")\n",
    "\n",
    "\n",
    "%autoreload 2\n",
    "from src.pySRM.pysrm.hubmap_downloader import HuBMAPDownloader"
   ]
  },
  {
   "cell_type": "code",
   "execution_count": 37,
   "metadata": {},
   "outputs": [
    {
     "name": "stdout",
     "output_type": "stream",
     "text": [
      "Please go to this URL and login: https://auth.globus.org/v2/oauth2/authorize?client_id=40628e5b-29ae-43c7-adc5-38c75ff907b9&redirect_uri=https%3A%2F%2Fauth.globus.org%2Fv2%2Fweb%2Fauth-code&scope=openid+profile+email+urn%3Aglobus%3Aauth%3Ascope%3Atransfer.api.globus.org%3Aall&state=_default&response_type=code&code_challenge=lHUS4DqVSZL79L2S-coNpuC8foV0OhoERKyck5gmuPI&code_challenge_method=S256&access_type=online\n"
     ]
    },
    {
     "name": "stdin",
     "output_type": "stream",
     "text": [
      "Please enter the code you get after login here:  2Dd65cDgKGsKByfQ12s7JdrfMLTHaY\n"
     ]
    }
   ],
   "source": [
    "hmDownloader = HuBMAPDownloader()"
   ]
  },
  {
   "cell_type": "code",
   "execution_count": 38,
   "metadata": {},
   "outputs": [
    {
     "name": "stdout",
     "output_type": "stream",
     "text": [
      "My Endpoints:\n",
      "[e838a5d6-0160-11eb-abd1-0213fe609573] Spectre3Collection\n",
      "[ba07e0fe-0161-11eb-892d-0a5521ff3f4b] spectre3-ubuntu\n"
     ]
    }
   ],
   "source": [
    "hmDownloader.list_my_endpoints()"
   ]
  },
  {
   "cell_type": "markdown",
   "metadata": {},
   "source": [
    "Selecting the windows client on Spectre3Collection.\n",
    "\n",
    "Downloading the following experiment:\n",
    "https://portal.hubmapconsortium.org/browse/dataset/d9e3c80a32567cde9b61e38ce8693559"
   ]
  },
  {
   "cell_type": "code",
   "execution_count": 30,
   "metadata": {},
   "outputs": [
    {
     "name": "stdout",
     "output_type": "stream",
     "text": [
      "task_id = f5e7112c-017e-11eb-81a3-0e2f230cc907\n"
     ]
    },
    {
     "data": {
      "text/plain": [
       "'f5e7112c-017e-11eb-81a3-0e2f230cc907'"
      ]
     },
     "execution_count": 30,
     "metadata": {},
     "output_type": "execute_result"
    }
   ],
   "source": [
    "hmDownloader.transfer_experiment(\"d9e3c80a32567cde9b61e38ce8693559\", \"~/S/data/globus_win\",  local_endpoint_id=\"e838a5d6-0160-11eb-abd1-0213fe609573\", give_hours=2)"
   ]
  },
  {
   "cell_type": "code",
   "execution_count": 33,
   "metadata": {},
   "outputs": [
    {
     "name": "stdout",
     "output_type": "stream",
     "text": [
      "0 / 1\n",
      "0 / 1\n",
      "71 / 71\n"
     ]
    }
   ],
   "source": [
    "hmDownloader.transfer_states()"
   ]
  },
  {
   "cell_type": "code",
   "execution_count": 29,
   "metadata": {},
   "outputs": [],
   "source": [
    "hmDownloader.cancel_transfer('c29296b6-017e-11eb-81a3-0e2f230cc907')"
   ]
  }
 ],
 "metadata": {
  "kernelspec": {
   "display_name": "Python 3",
   "language": "python",
   "name": "python3"
  },
  "language_info": {
   "codemirror_mode": {
    "name": "ipython",
    "version": 3
   },
   "file_extension": ".py",
   "mimetype": "text/x-python",
   "name": "python",
   "nbconvert_exporter": "python",
   "pygments_lexer": "ipython3",
   "version": "3.8.2"
  }
 },
 "nbformat": 4,
 "nbformat_minor": 4
}
