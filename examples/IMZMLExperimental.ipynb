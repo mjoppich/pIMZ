{
 "cells": [
  {
   "cell_type": "code",
   "execution_count": 1,
   "metadata": {},
   "outputs": [
    {
     "name": "stdout",
     "output_type": "stream",
     "text": [
      "['/usr/lib/python36.zip', '/usr/lib/python3.6', '/usr/lib/python3.6/lib-dynload', '', '/home/mjoppich/.local/lib/python3.6/site-packages', '/home/mjoppich/.local/lib/python3.6/site-packages/mpld3-0.3.1.dev1-py3.6.egg', '/home/mjoppich/.local/lib/python3.6/site-packages/opennre-0.1-py3.6.egg', '/usr/local/lib/python3.6/dist-packages', '/usr/local/lib/python3.6/dist-packages/tf_unet-0.1.1-py3.6.egg', '/mnt/d/PythonCGI/jupyter_micropython_kernel', '/usr/lib/python3/dist-packages', '/usr/local/lib/python3.6/dist-packages/IPython/extensions', '/home/mjoppich/.ipython', '../']\n"
     ]
    },
    {
     "name": "stderr",
     "output_type": "stream",
     "text": [
      "/usr/local/lib/python3.6/dist-packages/numba/core/errors.py:144: UserWarning: Insufficiently recent colorama version found. Numba requires colorama >= 0.3.9\n",
      "  warnings.warn(msg)\n",
      "/usr/local/lib/python3.6/dist-packages/tensorflow/python/framework/dtypes.py:516: FutureWarning: Passing (type, 1) or '1type' as a synonym of type is deprecated; in a future version of numpy, it will be understood as (type, (1,)) / '(1,)type'.\n",
      "  _np_qint8 = np.dtype([(\"qint8\", np.int8, 1)])\n",
      "/usr/local/lib/python3.6/dist-packages/tensorflow/python/framework/dtypes.py:517: FutureWarning: Passing (type, 1) or '1type' as a synonym of type is deprecated; in a future version of numpy, it will be understood as (type, (1,)) / '(1,)type'.\n",
      "  _np_quint8 = np.dtype([(\"quint8\", np.uint8, 1)])\n",
      "/usr/local/lib/python3.6/dist-packages/tensorflow/python/framework/dtypes.py:518: FutureWarning: Passing (type, 1) or '1type' as a synonym of type is deprecated; in a future version of numpy, it will be understood as (type, (1,)) / '(1,)type'.\n",
      "  _np_qint16 = np.dtype([(\"qint16\", np.int16, 1)])\n",
      "/usr/local/lib/python3.6/dist-packages/tensorflow/python/framework/dtypes.py:519: FutureWarning: Passing (type, 1) or '1type' as a synonym of type is deprecated; in a future version of numpy, it will be understood as (type, (1,)) / '(1,)type'.\n",
      "  _np_quint16 = np.dtype([(\"quint16\", np.uint16, 1)])\n",
      "/usr/local/lib/python3.6/dist-packages/tensorflow/python/framework/dtypes.py:520: FutureWarning: Passing (type, 1) or '1type' as a synonym of type is deprecated; in a future version of numpy, it will be understood as (type, (1,)) / '(1,)type'.\n",
      "  _np_qint32 = np.dtype([(\"qint32\", np.int32, 1)])\n",
      "/usr/local/lib/python3.6/dist-packages/tensorflow/python/framework/dtypes.py:525: FutureWarning: Passing (type, 1) or '1type' as a synonym of type is deprecated; in a future version of numpy, it will be understood as (type, (1,)) / '(1,)type'.\n",
      "  np_resource = np.dtype([(\"resource\", np.ubyte, 1)])\n",
      "/usr/local/lib/python3.6/dist-packages/tensorboard/compat/tensorflow_stub/dtypes.py:541: FutureWarning: Passing (type, 1) or '1type' as a synonym of type is deprecated; in a future version of numpy, it will be understood as (type, (1,)) / '(1,)type'.\n",
      "  _np_qint8 = np.dtype([(\"qint8\", np.int8, 1)])\n",
      "/usr/local/lib/python3.6/dist-packages/tensorboard/compat/tensorflow_stub/dtypes.py:542: FutureWarning: Passing (type, 1) or '1type' as a synonym of type is deprecated; in a future version of numpy, it will be understood as (type, (1,)) / '(1,)type'.\n",
      "  _np_quint8 = np.dtype([(\"quint8\", np.uint8, 1)])\n",
      "/usr/local/lib/python3.6/dist-packages/tensorboard/compat/tensorflow_stub/dtypes.py:543: FutureWarning: Passing (type, 1) or '1type' as a synonym of type is deprecated; in a future version of numpy, it will be understood as (type, (1,)) / '(1,)type'.\n",
      "  _np_qint16 = np.dtype([(\"qint16\", np.int16, 1)])\n",
      "/usr/local/lib/python3.6/dist-packages/tensorboard/compat/tensorflow_stub/dtypes.py:544: FutureWarning: Passing (type, 1) or '1type' as a synonym of type is deprecated; in a future version of numpy, it will be understood as (type, (1,)) / '(1,)type'.\n",
      "  _np_quint16 = np.dtype([(\"quint16\", np.uint16, 1)])\n",
      "/usr/local/lib/python3.6/dist-packages/tensorboard/compat/tensorflow_stub/dtypes.py:545: FutureWarning: Passing (type, 1) or '1type' as a synonym of type is deprecated; in a future version of numpy, it will be understood as (type, (1,)) / '(1,)type'.\n",
      "  _np_qint32 = np.dtype([(\"qint32\", np.int32, 1)])\n",
      "/usr/local/lib/python3.6/dist-packages/tensorboard/compat/tensorflow_stub/dtypes.py:550: FutureWarning: Passing (type, 1) or '1type' as a synonym of type is deprecated; in a future version of numpy, it will be understood as (type, (1,)) / '(1,)type'.\n",
      "  np_resource = np.dtype([(\"resource\", np.ubyte, 1)])\n"
     ]
    }
   ],
   "source": [
    "%load_ext autoreload\n",
    "import os,sys\n",
    "import pandas as pd\n",
    "import seaborn as sns\n",
    "import matplotlib as mpl\n",
    "import matplotlib.pyplot as plt\n",
    "import numpy as np\n",
    "import progressbar\n",
    "from scipy import spatial\n",
    "from datetime import datetime\n",
    "sys.path.append(\"../\")\n",
    "\n",
    "print(sys.path)\n",
    "\n",
    "%autoreload 2\n",
    "from src.pySRM.pysrm.segment import IMZMLExtract, SpectraRegion, ProteinWeights, CombinedSpectra\n",
    "\n",
    "from collections import Counter, defaultdict"
   ]
  },
  {
   "cell_type": "code",
   "execution_count": 2,
   "metadata": {},
   "outputs": [
    {
     "name": "stdout",
     "output_type": "stream",
     "text": [
      "Opening regions file for /mnt/d/dev/data/msi/slideD/181114_AT1_Slide_D_Proteins.imzML\n"
     ]
    }
   ],
   "source": [
    "imze = IMZMLExtract(\"/mnt/d/dev/data/msi/slideD/181114_AT1_Slide_D_Proteins.imzML\")"
   ]
  },
  {
   "cell_type": "markdown",
   "metadata": {},
   "source": [
    "Brief interrupt: Similarity by Ralf via number of diff peaks"
   ]
  },
  {
   "cell_type": "code",
   "execution_count": null,
   "metadata": {},
   "outputs": [],
   "source": [
    "def calc_similarity( mat ):\n",
    "    \n",
    "    bar = progressbar.ProgressBar()\n",
    "    \n",
    "    elems = mat.shape[0]*mat.shape[1]\n",
    "    \n",
    "    result = np.zeros((elems, elems))\n",
    "    \n",
    "    meanMat = np.zeros((elems, elems))\n",
    "    stdMat = np.zeros((elems, elems))\n",
    "        \n",
    "    print(\"Calculating cosine similarity Start\", datetime.now().strftime(\"%d/%m/%Y %H:%M:%S\"))\n",
    "    for i in bar(range(0, mat.shape[0])):\n",
    "        for j in range(0, mat.shape[1]):\n",
    "            idxI = i*mat.shape[1] + j\n",
    "            matIJ = mat[i,j,:]\n",
    "            \n",
    "            for k in range(0, mat.shape[0]):\n",
    "                for l in range(0, mat.shape[1]):\n",
    "                    idxJ = k*mat.shape[1] + l\n",
    "                    matKL = mat[k,l,:]\n",
    "                    \n",
    "                    if idxJ == idxI:\n",
    "                        result[idxI, idxJ] = len(matIJ)\n",
    "                        continue\n",
    "                    \n",
    "                    if idxJ < idxJ:\n",
    "                        continue\n",
    "                        \n",
    "                    fcs = (matIJ+0.1) / (matKL+0.1)\n",
    "                    #fcs = sorted(fcs)\n",
    "                    \n",
    "                    meanFCs = np.mean(fcs)\n",
    "                    stdFCs = np.std(fcs)\n",
    "                    \n",
    "                    meanMat[idxI, idxJ] = meanFCs\n",
    "                    stdMat[idxI, idxJ] = stdFCs\n",
    "                    \n",
    "                    maxFC = meanFCs + 2*stdFCs\n",
    "                    minFC = meanFCs - 2*stdFCs\n",
    "                    \n",
    "                    sims = len([x for x in fcs if minFC <= x <= maxFC])\n",
    "                        \n",
    "                    result[idxI, idxJ] = sims\n",
    "                    result[idxJ, idxI] = sims\n",
    "                    \n",
    "    print(\"Calculating cosine similarity End\", datetime.now().strftime(\"%d/%m/%Y %H:%M:%S\"))\n",
    "                    \n",
    "    return result, meanMat, stdMat\n",
    "            \n",
    "            "
   ]
  },
  {
   "cell_type": "code",
   "execution_count": 3,
   "metadata": {},
   "outputs": [
    {
     "name": "stderr",
     "output_type": "stream",
     "text": [
      "Found region 0 with shape (45, 59, 17900)\n",
      "WARNING: Logging before flag parsing goes to stderr.\n",
      "I0706 20:27:40.279707 139942458099520 segment.py:2755] Found region 0 with shape (45, 59, 17900)\n",
      "Collecting fold changes\n",
      "I0706 20:27:43.569521 139942458099520 segment.py:2469] Collecting fold changes\n",
      "Got a total of 47524500 fold changes\n",
      "I0706 20:28:22.569226 139942458099520 segment.py:2480] Got a total of 47524500 fold changes\n",
      "Median elements [23762250]\n",
      "I0706 20:28:24.982776 139942458099520 segment.py:2489] Median elements [23762250]\n",
      "Median elements\n",
      "I0706 20:28:26.108486 139942458099520 segment.py:2502] Median elements\n",
      "Global Median 0.96164\n",
      "I0706 20:28:26.110058 139942458099520 segment.py:2507] Global Median 0.96164\n"
     ]
    }
   ],
   "source": [
    "spectra_orig = imze.get_region_array(0, makeNullLine=True)\n",
    "spectra_intra = imze.normalize_region_array(spectra_orig, normalize=\"intra_median\")\n",
    "spectra = imze.normalize_region_array(spectra_intra, normalize=\"inter_median\")"
   ]
  },
  {
   "cell_type": "code",
   "execution_count": 4,
   "metadata": {},
   "outputs": [
    {
     "name": "stderr",
     "output_type": "stream",
     "text": [
      "|##########################################################| 100% Time: 0:06:39\n"
     ]
    }
   ],
   "source": [
    "global_fcs = Counter()\n",
    "scalingFactor = 1\n",
    "bar = progressbar.ProgressBar(widgets=[\n",
    "        progressbar.Bar(), ' ', progressbar.Percentage(), ' ', progressbar.AdaptiveETA()\n",
    "    ])\n",
    "\n",
    "fcMasses = set()\n",
    "fcMassesCounter = Counter()\n",
    "masses2fcs = defaultdict(list)\n",
    "\n",
    "for k in bar(range(spectra.shape[0])):\n",
    "    for l in range(spectra.shape[1]):\n",
    "        \n",
    "        iidx = k*spectra.shape[1] + l\n",
    "\n",
    "        for i in range(spectra.shape[0]):\n",
    "            for j in range(spectra.shape[1]):\n",
    "                \n",
    "                jidx = i*spectra.shape[1] + j\n",
    "                \n",
    "                if iidx < jidx:\n",
    "                    continue\n",
    "                \n",
    "                if k==i and j==l:\n",
    "                    continue\n",
    "\n",
    "                fcs = np.log( (spectra[i][j]+(1.0/scalingFactor)) / (spectra[k][l] +(1.0/scalingFactor)) )\n",
    "                \n",
    "                meanFCs = np.mean(fcs)\n",
    "                stdFCs = np.std(fcs)\n",
    "                \n",
    "                maxFC = meanFCs + 4.5*stdFCs\n",
    "                minFC = meanFCs - 4.5*stdFCs\n",
    "                    \n",
    "                sims = np.zeros((len(fcs),))\n",
    "                \n",
    "                for i, x in enumerate(fcs):\n",
    "                    if x < minFC or x > maxFC:\n",
    "                        sims[i] = 1\n",
    "                        \n",
    "                        fcMass = imze.mzValues[i]\n",
    "                        \n",
    "                        masses2fcs[fcMass].append(x)\n",
    "                        fcMassesCounter[fcMass] += 1\n",
    "                        fcMasses.add(x)\n",
    "\n",
    "\n",
    "\n",
    "                "
   ]
  },
  {
   "cell_type": "code",
   "execution_count": 5,
   "metadata": {},
   "outputs": [
    {
     "data": {
      "text/plain": [
       "[(3451.8561444883712, 53597),\n",
       " (3450.3470112750474, 46116),\n",
       " (3453.3652777016955, 43008),\n",
       " (6270.916986978072, 34514),\n",
       " (6269.407853764747, 33563),\n",
       " (6642.163757455837, 31261),\n",
       " (6218.097324511723, 29845),\n",
       " (6640.654624242514, 26946),\n",
       " (6216.588191298399, 24934),\n",
       " (6643.672890669162, 24131),\n",
       " (6219.606457725047, 22971),\n",
       " (6267.898720551423, 21690),\n",
       " (6272.426120191396, 19604),\n",
       " (8558.762938377637, 18899),\n",
       " (8557.253805164311, 17862),\n",
       " (8444.068814164992, 15858),\n",
       " (8560.27207159096, 15648),\n",
       " (3454.87441091502, 15140),\n",
       " (6221.1155909383715, 14240),\n",
       " (3448.837878061723, 13389)]"
      ]
     },
     "execution_count": 5,
     "metadata": {},
     "output_type": "execute_result"
    }
   ],
   "source": [
    "fcMassesCounter.most_common(20)"
   ]
  },
  {
   "cell_type": "code",
   "execution_count": 6,
   "metadata": {},
   "outputs": [
    {
     "data": {
      "text/plain": [
       "53597"
      ]
     },
     "execution_count": 6,
     "metadata": {},
     "output_type": "execute_result"
    }
   ],
   "source": [
    "len(masses2fcs[3451.8561444883712])"
   ]
  },
  {
   "cell_type": "code",
   "execution_count": 7,
   "metadata": {},
   "outputs": [
    {
     "data": {
      "text/plain": [
       "3860"
      ]
     },
     "execution_count": 7,
     "metadata": {},
     "output_type": "execute_result"
    }
   ],
   "source": [
    "len(masses2fcs)"
   ]
  },
  {
   "cell_type": "code",
   "execution_count": null,
   "metadata": {},
   "outputs": [],
   "source": [
    "for x,y in fcMassesCounter.most_common(50)[30:]:\n",
    "    spec.mass_heatmap(x)"
   ]
  },
  {
   "cell_type": "code",
   "execution_count": null,
   "metadata": {},
   "outputs": [],
   "source": []
  },
  {
   "cell_type": "code",
   "execution_count": 8,
   "metadata": {},
   "outputs": [
    {
     "data": {
      "text/plain": [
       "3840"
      ]
     },
     "execution_count": 8,
     "metadata": {},
     "output_type": "execute_result"
    }
   ],
   "source": [
    "mcmasses = [x[0] for x in fcMassesCounter.most_common(10000)[20:]]\n",
    "len(mcmasses)"
   ]
  },
  {
   "cell_type": "code",
   "execution_count": 9,
   "metadata": {},
   "outputs": [],
   "source": [
    "fcIndices = sorted([i for i in range(0, len(imze.mzValues)) if imze.mzValues[i] in mcmasses])"
   ]
  },
  {
   "cell_type": "code",
   "execution_count": 10,
   "metadata": {},
   "outputs": [
    {
     "data": {
      "text/plain": [
       "<matplotlib.collections.PathCollection at 0x7f46c0dc75c0>"
      ]
     },
     "execution_count": 10,
     "metadata": {},
     "output_type": "execute_result"
    },
    {
     "data": {
      "image/png": "[encoded data removed]",
      "text/plain": [
       "<Figure size 432x288 with 1 Axes>"
      ]
     },
     "metadata": {
      "needs_background": "light"
     },
     "output_type": "display_data"
    }
   ],
   "source": [
    "plt.plot(imze.mzValues, spectra[0][0])\n",
    "plt.scatter(imze.mzValues[fcIndices], [100]*len(fcIndices))"
   ]
  },
  {
   "cell_type": "code",
   "execution_count": null,
   "metadata": {},
   "outputs": [],
   "source": []
  },
  {
   "cell_type": "code",
   "execution_count": 11,
   "metadata": {},
   "outputs": [],
   "source": [
    "sub_peaks = spectra[:,:,fcIndices]\n",
    "sub_masses = imze.mzValues[fcIndices]"
   ]
  },
  {
   "cell_type": "code",
   "execution_count": null,
   "metadata": {},
   "outputs": [],
   "source": []
  },
  {
   "cell_type": "code",
   "execution_count": null,
   "metadata": {},
   "outputs": [],
   "source": []
  },
  {
   "cell_type": "code",
   "execution_count": null,
   "metadata": {},
   "outputs": [],
   "source": []
  },
  {
   "cell_type": "code",
   "execution_count": null,
   "metadata": {},
   "outputs": [],
   "source": []
  },
  {
   "cell_type": "code",
   "execution_count": null,
   "metadata": {},
   "outputs": [],
   "source": []
  },
  {
   "cell_type": "code",
   "execution_count": null,
   "metadata": {},
   "outputs": [],
   "source": []
  },
  {
   "cell_type": "code",
   "execution_count": 12,
   "metadata": {},
   "outputs": [],
   "source": [
    "spec = SpectraRegion(sub_peaks, sub_masses, \"subset_masses\")"
   ]
  },
  {
   "cell_type": "code",
   "execution_count": 13,
   "metadata": {},
   "outputs": [
    {
     "name": "stderr",
     "output_type": "stream",
     "text": [
      "2020-07-06 20:35:10,930  SpectraRegion  INFO: Creating C++ obj\n",
      "I0706 20:35:10.930484 139942458099520 segment.py:809] Creating C++ obj\n",
      "2020-07-06 20:35:10,931  SpectraRegion  INFO: 3840 (45, 59, 3840)\n",
      "I0706 20:35:10.931874 139942458099520 segment.py:810] 3840 (45, 59, 3840)\n",
      "2020-07-06 20:35:10,933  SpectraRegion  INFO: dimensions 3840\n",
      "I0706 20:35:10.933110 139942458099520 segment.py:820] dimensions 3840\n",
      "2020-07-06 20:35:10,935  SpectraRegion  INFO: input dimensions (45, 59, 3840)\n",
      "I0706 20:35:10.935040 139942458099520 segment.py:821] input dimensions (45, 59, 3840)\n",
      "2020-07-06 20:35:10,939  SpectraRegion  INFO: Switching to dot mode\n",
      "I0706 20:35:10.939177 139942458099520 segment.py:824] Switching to dot mode\n",
      "2020-07-06 20:35:11,111  SpectraRegion  INFO: Starting calc similarity c++\n",
      "I0706 20:35:11.111216 139942458099520 segment.py:830] Starting calc similarity c++\n"
     ]
    },
    {
     "name": "stdout",
     "output_type": "stream",
     "text": [
      "3840\n"
     ]
    },
    {
     "name": "stderr",
     "output_type": "stream",
     "text": [
      "2020-07-06 20:35:17,190  SpectraRegion  INFO: outclust dimensions (2655, 2655)\n",
      "I0706 20:35:17.190958 139942458099520 segment.py:835] outclust dimensions (2655, 2655)\n"
     ]
    },
    {
     "data": {
      "text/plain": [
       "array([[0.9999999 , 0.9740785 , 0.9681952 , ..., 0.87017316, 0.88224226,\n",
       "        0.88643634],\n",
       "       [0.9740785 , 0.99999994, 0.9774095 , ..., 0.9006153 , 0.9132539 ,\n",
       "        0.9167217 ],\n",
       "       [0.9681952 , 0.9774095 , 0.99999994, ..., 0.9163522 , 0.921091  ,\n",
       "        0.9292456 ],\n",
       "       ...,\n",
       "       [0.87017316, 0.9006153 , 0.9163522 , ..., 1.        , 0.9593117 ,\n",
       "        0.9627757 ],\n",
       "       [0.88224226, 0.9132539 , 0.921091  , ..., 0.9593117 , 1.        ,\n",
       "        0.9656893 ],\n",
       "       [0.88643634, 0.9167217 , 0.9292456 , ..., 0.9627757 , 0.9656893 ,\n",
       "        1.0000001 ]], dtype=float32)"
      ]
     },
     "execution_count": 13,
     "metadata": {},
     "output_type": "execute_result"
    }
   ],
   "source": [
    "spec.calculate_similarity(mode=\"spectra\")"
   ]
  },
  {
   "cell_type": "code",
   "execution_count": null,
   "metadata": {},
   "outputs": [],
   "source": []
  },
  {
   "cell_type": "code",
   "execution_count": 22,
   "metadata": {},
   "outputs": [],
   "source": [
    "spec_full = SpectraRegion(spectra, imze.mzValues, \"full_masses\")"
   ]
  },
  {
   "cell_type": "code",
   "execution_count": 23,
   "metadata": {},
   "outputs": [
    {
     "name": "stderr",
     "output_type": "stream",
     "text": [
      "2020-07-06 21:14:23,865  SpectraRegion  INFO: Creating C++ obj\n",
      "I0706 21:14:23.865145 139942458099520 segment.py:809] Creating C++ obj\n",
      "2020-07-06 21:14:23,866  SpectraRegion  INFO: 17900 (45, 59, 17900)\n",
      "I0706 21:14:23.866605 139942458099520 segment.py:810] 17900 (45, 59, 17900)\n",
      "2020-07-06 21:14:23,868  SpectraRegion  INFO: dimensions 17900\n",
      "I0706 21:14:23.868377 139942458099520 segment.py:820] dimensions 17900\n",
      "2020-07-06 21:14:23,870  SpectraRegion  INFO: input dimensions (45, 59, 17900)\n",
      "I0706 21:14:23.870105 139942458099520 segment.py:821] input dimensions (45, 59, 17900)\n",
      "2020-07-06 21:14:23,871  SpectraRegion  INFO: Switching to dot mode\n",
      "I0706 21:14:23.871841 139942458099520 segment.py:824] Switching to dot mode\n"
     ]
    },
    {
     "name": "stdout",
     "output_type": "stream",
     "text": [
      "17900\n"
     ]
    },
    {
     "name": "stderr",
     "output_type": "stream",
     "text": [
      "2020-07-06 21:14:24,177  SpectraRegion  INFO: Starting calc similarity c++\n",
      "I0706 21:14:24.177450 139942458099520 segment.py:830] Starting calc similarity c++\n",
      "2020-07-06 21:14:53,443  SpectraRegion  INFO: outclust dimensions (2655, 2655)\n",
      "I0706 21:14:53.443518 139942458099520 segment.py:835] outclust dimensions (2655, 2655)\n"
     ]
    },
    {
     "data": {
      "text/plain": [
       "array([[1.        , 0.96724546, 0.95772547, ..., 0.78806883, 0.7908129 ,\n",
       "        0.80429137],\n",
       "       [0.96724546, 1.        , 0.97715646, ..., 0.85300124, 0.85565996,\n",
       "        0.8679394 ],\n",
       "       [0.95772547, 0.97715646, 0.9999999 , ..., 0.87421095, 0.87118435,\n",
       "        0.88773036],\n",
       "       ...,\n",
       "       [0.78806883, 0.85300124, 0.87421095, ..., 1.0000001 , 0.9438676 ,\n",
       "        0.9509856 ],\n",
       "       [0.7908129 , 0.85565996, 0.87118435, ..., 0.9438676 , 1.        ,\n",
       "        0.95205015],\n",
       "       [0.80429137, 0.8679394 , 0.88773036, ..., 0.9509856 , 0.95205015,\n",
       "        1.        ]], dtype=float32)"
      ]
     },
     "execution_count": 23,
     "metadata": {},
     "output_type": "execute_result"
    }
   ],
   "source": [
    "spec_full.calculate_similarity(mode=\"spectra\")"
   ]
  },
  {
   "cell_type": "code",
   "execution_count": null,
   "metadata": {},
   "outputs": [],
   "source": []
  },
  {
   "cell_type": "code",
   "execution_count": null,
   "metadata": {},
   "outputs": [],
   "source": []
  },
  {
   "cell_type": "code",
   "execution_count": null,
   "metadata": {},
   "outputs": [],
   "source": []
  },
  {
   "cell_type": "code",
   "execution_count": null,
   "metadata": {},
   "outputs": [],
   "source": []
  },
  {
   "cell_type": "code",
   "execution_count": null,
   "metadata": {},
   "outputs": [],
   "source": []
  },
  {
   "cell_type": "code",
   "execution_count": null,
   "metadata": {},
   "outputs": [],
   "source": []
  },
  {
   "cell_type": "code",
   "execution_count": null,
   "metadata": {},
   "outputs": [],
   "source": []
  },
  {
   "cell_type": "code",
   "execution_count": null,
   "metadata": {},
   "outputs": [],
   "source": []
  },
  {
   "cell_type": "code",
   "execution_count": null,
   "metadata": {},
   "outputs": [],
   "source": []
  },
  {
   "cell_type": "code",
   "execution_count": null,
   "metadata": {},
   "outputs": [],
   "source": []
  },
  {
   "cell_type": "code",
   "execution_count": null,
   "metadata": {},
   "outputs": [],
   "source": []
  },
  {
   "cell_type": "code",
   "execution_count": null,
   "metadata": {},
   "outputs": [],
   "source": []
  },
  {
   "cell_type": "code",
   "execution_count": null,
   "metadata": {},
   "outputs": [],
   "source": []
  },
  {
   "cell_type": "code",
   "execution_count": null,
   "metadata": {},
   "outputs": [],
   "source": []
  },
  {
   "cell_type": "code",
   "execution_count": null,
   "metadata": {},
   "outputs": [],
   "source": []
  },
  {
   "cell_type": "code",
   "execution_count": null,
   "metadata": {},
   "outputs": [],
   "source": [
    "px2idx = {}\n",
    "idx2px = defaultdict(set)\n",
    "\n",
    "bar = progressbar.ProgressBar(widgets=[\n",
    "        progressbar.Bar(), ' ', progressbar.Percentage(), ' ', progressbar.AdaptiveETA()\n",
    "    ])\n",
    "\n",
    "specidx = np.zeros((spectra.shape[0], spectra.shape[1], 1))\n",
    "for k in bar(range(spectra.shape[0])):\n",
    "    for l in range(spectra.shape[1]):\n",
    "        \n",
    "        iidx = k*spectra.shape[1] + l\n",
    "        \n",
    "        px2idx[(k,l)] = iidx\n",
    "        \n",
    "        idx2px[iidx].add((k,l))\n",
    "        \n",
    "for x in idx2px:\n",
    "    if len(idx2px[x]) != 1:\n",
    "        print(x)"
   ]
  },
  {
   "cell_type": "code",
   "execution_count": null,
   "metadata": {},
   "outputs": [],
   "source": [
    "\n",
    "bar = progressbar.ProgressBar(widgets=[\n",
    "        progressbar.Bar(), ' ', progressbar.Percentage(), ' ', progressbar.AdaptiveETA()\n",
    "    ])\n",
    "\n",
    "specs = spectra.shape[0] * spectra.shape[1]\n",
    "\n",
    "specsims = np.zeros((specs, specs))\n",
    "\n",
    "for k in bar(range(spectra.shape[0])):\n",
    "    for l in range(spectra.shape[1]):\n",
    "        \n",
    "        iIdx = px2idx[(k,l)]\n",
    "        \n",
    "        for i in range(spectra.shape[0]):\n",
    "            for j in range(spectra.shape[1]):\n",
    "                \n",
    "                jIdx = px2idx[(i,j)]\n",
    "                \n",
    "                if iIdx > jIdx:\n",
    "                    continue\n",
    "                \n",
    "                cosSim = 1 - spatial.distance.cosine(spec.region_array[k,l,:], spec.region_array[i,j,:])\n",
    "                \n",
    "                specsims[iIdx, jIdx] = cosSim\n",
    "                specsims[jIdx, iIdx] = cosSim"
   ]
  },
  {
   "cell_type": "code",
   "execution_count": null,
   "metadata": {},
   "outputs": [],
   "source": []
  },
  {
   "cell_type": "code",
   "execution_count": null,
   "metadata": {},
   "outputs": [],
   "source": []
  },
  {
   "cell_type": "code",
   "execution_count": null,
   "metadata": {},
   "outputs": [],
   "source": []
  },
  {
   "cell_type": "code",
   "execution_count": null,
   "metadata": {},
   "outputs": [],
   "source": []
  },
  {
   "cell_type": "code",
   "execution_count": 30,
   "metadata": {},
   "outputs": [
    {
     "name": "stderr",
     "output_type": "stream",
     "text": [
      "2020-07-06 21:22:46,875  SpectraRegion  INFO: Calculating clusters\n",
      "I0706 21:22:46.875091 139942458099520 segment.py:1038] Calculating clusters\n",
      "2020-07-06 21:22:47,185  SpectraRegion  INFO: Calculating clusters done\n",
      "I0706 21:22:47.185979 139942458099520 segment.py:1053] Calculating clusters done\n",
      "2020-07-06 21:22:47,208  SpectraRegion  INFO: Calculating clusters saved\n",
      "I0706 21:22:47.208056 139942458099520 segment.py:1071] Calculating clusters saved\n"
     ]
    },
    {
     "data": {
      "text/plain": [
       "array([[6, 6, 6, ..., 6, 6, 6],\n",
       "       [6, 6, 6, ..., 6, 6, 6],\n",
       "       [6, 6, 6, ..., 6, 6, 6],\n",
       "       ...,\n",
       "       [6, 6, 6, ..., 6, 6, 6],\n",
       "       [6, 6, 6, ..., 6, 6, 6],\n",
       "       [6, 6, 6, ..., 6, 6, 6]], dtype=int16)"
      ]
     },
     "execution_count": 30,
     "metadata": {},
     "output_type": "execute_result"
    }
   ],
   "source": [
    "spec_full.segment(method=\"UPGMA\", number_of_regions=15)"
   ]
  },
  {
   "cell_type": "code",
   "execution_count": 31,
   "metadata": {},
   "outputs": [
    {
     "data": {
      "image/png": "[encoded data removed]",
      "text/plain": [
       "<Figure size 432x288 with 2 Axes>"
      ]
     },
     "metadata": {
      "needs_background": "light"
     },
     "output_type": "display_data"
    }
   ],
   "source": [
    "spec_full.plot_segments()"
   ]
  },
  {
   "cell_type": "code",
   "execution_count": 32,
   "metadata": {},
   "outputs": [
    {
     "name": "stderr",
     "output_type": "stream",
     "text": [
      "2020-07-06 21:22:51,887  SpectraRegion  INFO: Assigning clusters to background: {6}\n",
      "I0706 21:22:51.887737 139942458099520 segment.py:1160] Assigning clusters to background: {6}\n"
     ]
    },
    {
     "data": {
      "text/plain": [
       "array([[0, 0, 0, ..., 0, 0, 0],\n",
       "       [0, 0, 0, ..., 0, 0, 0],\n",
       "       [0, 0, 0, ..., 0, 0, 0],\n",
       "       ...,\n",
       "       [0, 0, 0, ..., 0, 0, 0],\n",
       "       [0, 0, 0, ..., 0, 0, 0],\n",
       "       [0, 0, 0, ..., 0, 0, 0]], dtype=int16)"
      ]
     },
     "execution_count": 32,
     "metadata": {},
     "output_type": "execute_result"
    }
   ],
   "source": [
    "spec_full.filter_clusters(method='remove_singleton')\n",
    "spec_full.filter_clusters(method='merge_background')\n",
    "spec_full.filter_clusters(method='remove_islands')"
   ]
  },
  {
   "cell_type": "code",
   "execution_count": 33,
   "metadata": {},
   "outputs": [
    {
     "data": {
      "image/png": "[encoded data removed]",
      "text/plain": [
       "<Figure size 432x288 with 2 Axes>"
      ]
     },
     "metadata": {
      "needs_background": "light"
     },
     "output_type": "display_data"
    }
   ],
   "source": [
    "spec_full.plot_segments()"
   ]
  },
  {
   "cell_type": "code",
   "execution_count": 37,
   "metadata": {},
   "outputs": [
    {
     "name": "stderr",
     "output_type": "stream",
     "text": [
      "2020-07-06 21:31:20,497  SpectraRegion  INFO: Calculating consensus spectra\n",
      "I0706 21:31:20.497600 139942458099520 segment.py:1214] Calculating consensus spectra\n",
      "2020-07-06 21:31:20,572  SpectraRegion  INFO: Calculating consensus spectra done\n",
      "I0706 21:31:20.572191 139942458099520 segment.py:1226] Calculating consensus spectra done\n"
     ]
    },
    {
     "data": {
      "text/plain": [
       "{0: array([0.32852168, 0.32852168, 0.32852168, ..., 0.1385044 , 0.1385044 ,\n",
       "        0.1385044 ]),\n",
       " 12: array([0.27898155, 0.27898155, 0.27898155, ..., 0.13699059, 0.13699059,\n",
       "        0.13699059]),\n",
       " 5: array([0.3483702 , 0.3483702 , 0.3483702 , ..., 0.15799302, 0.15799302,\n",
       "        0.15799302]),\n",
       " 11: array([0.31013767, 0.31013767, 0.31013767, ..., 0.1395962 , 0.1395962 ,\n",
       "        0.1395962 ]),\n",
       " 4: array([0.34471673, 0.34471673, 0.34471673, ..., 0.14070436, 0.14070436,\n",
       "        0.14070436]),\n",
       " 13: array([0.29159253, 0.29159253, 0.29159253, ..., 0.20933983, 0.20933983,\n",
       "        0.20933983]),\n",
       " 2: array([0.40908892, 0.40908892, 0.40908892, ..., 0.1010728 , 0.1010728 ,\n",
       "        0.1010728 ]),\n",
       " 3: array([0.37424487, 0.37424487, 0.37424487, ..., 0.11345837, 0.11345837,\n",
       "        0.11345837]),\n",
       " 8: array([0.55267137, 0.55267137, 0.55267137, ..., 0.14768409, 0.14768409,\n",
       "        0.14768409]),\n",
       " 1: array([0.44625838, 0.44625838, 0.44625838, ..., 0.11572096, 0.11572096,\n",
       "        0.11572096]),\n",
       " 7: array([0.46753944, 0.46753944, 0.46753944, ..., 0.14054275, 0.14054275,\n",
       "        0.14054275]),\n",
       " 9: array([0.47649911, 0.47649911, 0.47649911, ..., 0.13286011, 0.13286011,\n",
       "        0.13286011])}"
      ]
     },
     "execution_count": 37,
     "metadata": {},
     "output_type": "execute_result"
    }
   ],
   "source": [
    "spec_full.consensus_spectra()"
   ]
  },
  {
   "cell_type": "code",
   "execution_count": 38,
   "metadata": {},
   "outputs": [],
   "source": [
    "spec_full.consensus_similarity()"
   ]
  },
  {
   "cell_type": "code",
   "execution_count": 39,
   "metadata": {},
   "outputs": [
    {
     "name": "stderr",
     "output_type": "stream",
     "text": [
      "2020-07-06 21:31:20,788  SpectraRegion  INFO: Found clusterLabels [0, 1, 2, 3, 4, 5, 7, 8, 9, 11, 12, 13]\n",
      "I0706 21:31:20.788215 139942458099520 segment.py:1344] Found clusterLabels [0, 1, 2, 3, 4, 5, 7, 8, 9, 11, 12, 13]\n",
      "2020-07-06 21:31:20,791  SpectraRegion  INFO: Processing clusterLabel 0\n",
      "I0706 21:31:20.791691 139942458099520 segment.py:1352] Processing clusterLabel 0\n",
      "2020-07-06 21:33:26,939  SpectraRegion  INFO: Processing clusterLabel 1\n",
      "I0706 21:33:26.939602 139942458099520 segment.py:1352] Processing clusterLabel 1\n",
      "2020-07-06 21:33:26,948  SpectraRegion  INFO: Processing clusterLabel 2\n",
      "I0706 21:33:26.948947 139942458099520 segment.py:1352] Processing clusterLabel 2\n",
      "2020-07-06 21:33:26,957  SpectraRegion  INFO: Processing clusterLabel 3\n",
      "I0706 21:33:26.957925 139942458099520 segment.py:1352] Processing clusterLabel 3\n",
      "2020-07-06 21:33:26,969  SpectraRegion  INFO: Processing clusterLabel 4\n",
      "I0706 21:33:26.969386 139942458099520 segment.py:1352] Processing clusterLabel 4\n",
      "2020-07-06 21:33:27,113  SpectraRegion  INFO: Processing clusterLabel 5\n",
      "I0706 21:33:27.113925 139942458099520 segment.py:1352] Processing clusterLabel 5\n",
      "2020-07-06 21:33:27,226  SpectraRegion  INFO: Processing clusterLabel 7\n",
      "I0706 21:33:27.226680 139942458099520 segment.py:1352] Processing clusterLabel 7\n",
      "2020-07-06 21:33:27,232  SpectraRegion  INFO: Processing clusterLabel 8\n",
      "I0706 21:33:27.232769 139942458099520 segment.py:1352] Processing clusterLabel 8\n",
      "2020-07-06 21:33:27,293  SpectraRegion  INFO: Processing clusterLabel 9\n",
      "I0706 21:33:27.293581 139942458099520 segment.py:1352] Processing clusterLabel 9\n",
      "2020-07-06 21:33:27,299  SpectraRegion  INFO: Processing clusterLabel 11\n",
      "I0706 21:33:27.299358 139942458099520 segment.py:1352] Processing clusterLabel 11\n",
      "2020-07-06 21:33:28,045  SpectraRegion  INFO: Processing clusterLabel 12\n",
      "I0706 21:33:28.045051 139942458099520 segment.py:1352] Processing clusterLabel 12\n",
      "2020-07-06 21:33:31,417  SpectraRegion  INFO: Processing clusterLabel 13\n",
      "I0706 21:33:31.417314 139942458099520 segment.py:1352] Processing clusterLabel 13\n"
     ]
    },
    {
     "data": {
      "image/png": "[encoded data removed]",
      "text/plain": [
       "<Figure size 432x288 with 1 Axes>"
      ]
     },
     "metadata": {
      "needs_background": "light"
     },
     "output_type": "display_data"
    }
   ],
   "source": [
    "spec_full.plot_consensus_similarity(mode=\"spectra\")"
   ]
  },
  {
   "cell_type": "code",
   "execution_count": 20,
   "metadata": {},
   "outputs": [
    {
     "name": "stderr",
     "output_type": "stream",
     "text": [
      "2020-07-06 21:13:24,284  SpectraRegion  INFO: Calculating clusters\n",
      "I0706 21:13:24.284343 139942458099520 segment.py:1038] Calculating clusters\n",
      "2020-07-06 21:13:24,612  SpectraRegion  INFO: Calculating clusters done\n",
      "I0706 21:13:24.612197 139942458099520 segment.py:1053] Calculating clusters done\n",
      "2020-07-06 21:13:24,620  SpectraRegion  INFO: Calculating clusters saved\n",
      "I0706 21:13:24.620660 139942458099520 segment.py:1071] Calculating clusters saved\n"
     ]
    },
    {
     "data": {
      "text/plain": [
       "array([[3, 3, 3, ..., 2, 2, 3],\n",
       "       [3, 3, 3, ..., 2, 3, 3],\n",
       "       [3, 3, 3, ..., 2, 3, 3],\n",
       "       ...,\n",
       "       [3, 3, 3, ..., 3, 3, 3],\n",
       "       [3, 3, 3, ..., 3, 3, 3],\n",
       "       [3, 3, 3, ..., 3, 3, 3]], dtype=int16)"
      ]
     },
     "execution_count": 20,
     "metadata": {},
     "output_type": "execute_result"
    }
   ],
   "source": [
    "spec.segment(method=\"WPGMA\", number_of_regions=15)"
   ]
  },
  {
   "cell_type": "code",
   "execution_count": 21,
   "metadata": {},
   "outputs": [
    {
     "data": {
      "image/png": "[encoded data removed]",
      "text/plain": [
       "<Figure size 432x288 with 2 Axes>"
      ]
     },
     "metadata": {
      "needs_background": "light"
     },
     "output_type": "display_data"
    }
   ],
   "source": [
    "spec.plot_segments()"
   ]
  },
  {
   "cell_type": "code",
   "execution_count": 26,
   "metadata": {},
   "outputs": [
    {
     "name": "stderr",
     "output_type": "stream",
     "text": [
      "2020-07-06 21:18:35,287  SpectraRegion  INFO: Assigning clusters to background: {2, 3}\n",
      "I0706 21:18:35.287949 139942458099520 segment.py:1160] Assigning clusters to background: {2, 3}\n"
     ]
    },
    {
     "data": {
      "text/plain": [
       "array([[0, 0, 0, ..., 0, 0, 0],\n",
       "       [0, 0, 0, ..., 0, 0, 0],\n",
       "       [0, 0, 0, ..., 0, 0, 0],\n",
       "       ...,\n",
       "       [0, 0, 0, ..., 0, 0, 0],\n",
       "       [0, 0, 0, ..., 0, 0, 0],\n",
       "       [0, 0, 0, ..., 0, 0, 0]], dtype=int16)"
      ]
     },
     "execution_count": 26,
     "metadata": {},
     "output_type": "execute_result"
    }
   ],
   "source": [
    "spec.filter_clusters(method='remove_singleton')\n",
    "spec.filter_clusters(method='merge_background')\n",
    "spec.filter_clusters(method='remove_islands')"
   ]
  },
  {
   "cell_type": "code",
   "execution_count": 27,
   "metadata": {},
   "outputs": [
    {
     "data": {
      "image/png": "[encoded data removed]",
      "text/plain": [
       "<Figure size 432x288 with 2 Axes>"
      ]
     },
     "metadata": {
      "needs_background": "light"
     },
     "output_type": "display_data"
    }
   ],
   "source": [
    "spec.plot_segments()"
   ]
  },
  {
   "cell_type": "code",
   "execution_count": null,
   "metadata": {},
   "outputs": [],
   "source": [
    "spec.segment(method=\"UMAP_DBSCAN\", n_neighbors=5, min_samples=10, min_cluster_size=20)"
   ]
  },
  {
   "cell_type": "code",
   "execution_count": null,
   "metadata": {},
   "outputs": [],
   "source": [
    "mpl.rcParams['figure.figsize'] = (10,6)\n",
    "spec.vis_umap(legend=False)\n",
    "mpl.rcParams['figure.figsize'] = (6,4)"
   ]
  },
  {
   "cell_type": "code",
   "execution_count": null,
   "metadata": {},
   "outputs": [],
   "source": [
    "spec.plot_segments()"
   ]
  },
  {
   "cell_type": "code",
   "execution_count": null,
   "metadata": {},
   "outputs": [],
   "source": [
    "spec.filter_clusters(method='remove_singleton')\n",
    "spec.filter_clusters(method='merge_background')\n",
    "spec.filter_clusters(method='remove_islands')"
   ]
  },
  {
   "cell_type": "code",
   "execution_count": null,
   "metadata": {},
   "outputs": [],
   "source": [
    "spec.plot_segments()"
   ]
  },
  {
   "cell_type": "code",
   "execution_count": 34,
   "metadata": {},
   "outputs": [
    {
     "name": "stderr",
     "output_type": "stream",
     "text": [
      "2020-07-06 21:24:55,442  SpectraRegion  INFO: Calculating consensus spectra\n",
      "I0706 21:24:55.442516 139942458099520 segment.py:1214] Calculating consensus spectra\n",
      "2020-07-06 21:24:55,582  SpectraRegion  INFO: Calculating consensus spectra done\n",
      "I0706 21:24:55.582017 139942458099520 segment.py:1226] Calculating consensus spectra done\n"
     ]
    },
    {
     "data": {
      "text/plain": [
       "{0: array([0.3293662 , 0.3293662 , 0.3293662 , ..., 1.17205396, 1.08523585,\n",
       "        1.00221622]),\n",
       " 13: array([0.30996149, 0.30996149, 0.30996149, ..., 0.44690438, 0.43266794,\n",
       "        0.4117067 ]),\n",
       " 12: array([0.35382338, 0.35382338, 0.35382338, ..., 0.52657818, 0.50807417,\n",
       "        0.49093822]),\n",
       " 7: array([0.24930137, 0.24930137, 0.24930137, ..., 1.0954698 , 1.01701639,\n",
       "        0.94086259]),\n",
       " 8: array([0.27301585, 0.27301585, 0.27301585, ..., 0.53036895, 0.50332405,\n",
       "        0.47396496]),\n",
       " 5: array([0.34673055, 0.34673055, 0.34673055, ..., 0.46430838, 0.43402191,\n",
       "        0.40585365]),\n",
       " 14: array([0.40354644, 0.40354644, 0.40354644, ..., 0.23584363, 0.22765709,\n",
       "        0.22839505]),\n",
       " 1: array([0.4306265 , 0.4306265 , 0.4306265 , ..., 0.20435403, 0.20276101,\n",
       "        0.20359243]),\n",
       " 11: array([0.38772242, 0.38772242, 0.38772242, ..., 0.31617803, 0.31580472,\n",
       "        0.30957355]),\n",
       " 10: array([0.51663011, 0.51663011, 0.51663011, ..., 0.32015983, 0.30868474,\n",
       "        0.29706513]),\n",
       " 6: array([0.41794624, 0.41794624, 0.41794624, ..., 0.4951715 , 0.47185714,\n",
       "        0.44755573])}"
      ]
     },
     "execution_count": 34,
     "metadata": {},
     "output_type": "execute_result"
    }
   ],
   "source": [
    "spec.consensus_spectra()"
   ]
  },
  {
   "cell_type": "code",
   "execution_count": 35,
   "metadata": {},
   "outputs": [],
   "source": [
    "spec.consensus_similarity()"
   ]
  },
  {
   "cell_type": "code",
   "execution_count": 36,
   "metadata": {},
   "outputs": [
    {
     "name": "stderr",
     "output_type": "stream",
     "text": [
      "2020-07-06 21:25:05,079  SpectraRegion  INFO: Found clusterLabels [0, 1, 5, 6, 7, 8, 10, 11, 12, 13, 14]\n",
      "I0706 21:25:05.079781 139942458099520 segment.py:1344] Found clusterLabels [0, 1, 5, 6, 7, 8, 10, 11, 12, 13, 14]\n",
      "2020-07-06 21:25:05,084  SpectraRegion  INFO: Processing clusterLabel 0\n",
      "I0706 21:25:05.084406 139942458099520 segment.py:1352] Processing clusterLabel 0\n",
      "2020-07-06 21:31:12,306  SpectraRegion  INFO: Processing clusterLabel 1\n",
      "I0706 21:31:12.306190 139942458099520 segment.py:1352] Processing clusterLabel 1\n",
      "2020-07-06 21:31:12,347  SpectraRegion  INFO: Processing clusterLabel 5\n",
      "I0706 21:31:12.347161 139942458099520 segment.py:1352] Processing clusterLabel 5\n",
      "2020-07-06 21:31:12,564  SpectraRegion  INFO: Processing clusterLabel 6\n",
      "I0706 21:31:12.564101 139942458099520 segment.py:1352] Processing clusterLabel 6\n",
      "2020-07-06 21:31:12,627  SpectraRegion  INFO: Processing clusterLabel 7\n",
      "I0706 21:31:12.627329 139942458099520 segment.py:1352] Processing clusterLabel 7\n",
      "2020-07-06 21:31:13,413  SpectraRegion  INFO: Processing clusterLabel 8\n",
      "I0706 21:31:13.413057 139942458099520 segment.py:1352] Processing clusterLabel 8\n",
      "2020-07-06 21:31:16,431  SpectraRegion  INFO: Processing clusterLabel 10\n",
      "I0706 21:31:16.431670 139942458099520 segment.py:1352] Processing clusterLabel 10\n",
      "2020-07-06 21:31:16,458  SpectraRegion  INFO: Processing clusterLabel 11\n",
      "I0706 21:31:16.458023 139942458099520 segment.py:1352] Processing clusterLabel 11\n",
      "2020-07-06 21:31:16,468  SpectraRegion  INFO: Processing clusterLabel 12\n",
      "I0706 21:31:16.468904 139942458099520 segment.py:1352] Processing clusterLabel 12\n",
      "2020-07-06 21:31:17,151  SpectraRegion  INFO: Processing clusterLabel 13\n",
      "I0706 21:31:17.151205 139942458099520 segment.py:1352] Processing clusterLabel 13\n",
      "2020-07-06 21:31:18,050  SpectraRegion  INFO: Processing clusterLabel 14\n",
      "I0706 21:31:18.050120 139942458099520 segment.py:1352] Processing clusterLabel 14\n"
     ]
    },
    {
     "data": {
      "image/png": "[encoded data removed]",
      "text/plain": [
       "<Figure size 432x288 with 1 Axes>"
      ]
     },
     "metadata": {
      "needs_background": "light"
     },
     "output_type": "display_data"
    }
   ],
   "source": [
    "spec.plot_consensus_similarity(mode=\"spectra\")"
   ]
  },
  {
   "cell_type": "code",
   "execution_count": null,
   "metadata": {},
   "outputs": [],
   "source": [
    "avg_spec.shape"
   ]
  },
  {
   "cell_type": "code",
   "execution_count": null,
   "metadata": {},
   "outputs": [],
   "source": [
    "speaks.shape"
   ]
  },
  {
   "cell_type": "code",
   "execution_count": null,
   "metadata": {},
   "outputs": [],
   "source": [
    "plt.figure(figsize=(20, 6))\n",
    "\n",
    "plt.plot(range(0,len(avg_spec)), avg_spec)\n",
    "plt.scatter(mzvals, avg_spec[mzvals], c='r')"
   ]
  },
  {
   "cell_type": "code",
   "execution_count": null,
   "metadata": {},
   "outputs": [],
   "source": [
    "res = calc_similarity(speaks)"
   ]
  },
  {
   "cell_type": "code",
   "execution_count": null,
   "metadata": {},
   "outputs": [],
   "source": [
    "simMat = res[0] / np.max(res[0])"
   ]
  },
  {
   "cell_type": "code",
   "execution_count": null,
   "metadata": {},
   "outputs": [],
   "source": [
    "spec.spectra_similarity = simMat"
   ]
  },
  {
   "cell_type": "code",
   "execution_count": null,
   "metadata": {},
   "outputs": [],
   "source": [
    "spec.segment(method=\"WARD\", number_of_regions=15)"
   ]
  },
  {
   "cell_type": "code",
   "execution_count": null,
   "metadata": {},
   "outputs": [],
   "source": [
    "spec.plot_segments()"
   ]
  },
  {
   "cell_type": "code",
   "execution_count": null,
   "metadata": {},
   "outputs": [],
   "source": []
  },
  {
   "cell_type": "code",
   "execution_count": null,
   "metadata": {},
   "outputs": [],
   "source": [
    "testra = np.zeros((2,2,10))\n",
    "testra[0,0] = [1,1,1,1,1,0,0,0,0,0]\n",
    "testra[0,0] = [1,1,1,1,1,0,0,0,0,0]\n",
    "testra[0,0] = [1,1,1,1,1,0,0,0,0,0]\n",
    "testra[0,0] = [1,1,1,1,1,0,0,0,0,0]"
   ]
  },
  {
   "cell_type": "code",
   "execution_count": null,
   "metadata": {},
   "outputs": [],
   "source": [
    "testspec = SpectraRegion( testra, [1,2,3,4,5,6,7,8,9,10])"
   ]
  },
  {
   "cell_type": "code",
   "execution_count": null,
   "metadata": {},
   "outputs": [],
   "source": [
    "testra.shape"
   ]
  },
  {
   "cell_type": "code",
   "execution_count": null,
   "metadata": {},
   "outputs": [],
   "source": [
    "testspec.calc_similarity(testra)"
   ]
  },
  {
   "cell_type": "code",
   "execution_count": null,
   "metadata": {},
   "outputs": [],
   "source": []
  }
 ],
 "metadata": {
  "kernelspec": {
   "display_name": "Python 3",
   "language": "python",
   "name": "python3"
  },
  "language_info": {
   "codemirror_mode": {
    "name": "ipython",
    "version": 3
   },
   "file_extension": ".py",
   "mimetype": "text/x-python",
   "name": "python",
   "nbconvert_exporter": "python",
   "pygments_lexer": "ipython3",
   "version": "3.6.7"
  }
 },
 "nbformat": 4,
 "nbformat_minor": 4
}
